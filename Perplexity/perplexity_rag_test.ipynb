{
 "cells": [
  {
   "metadata": {
    "ExecuteTime": {
     "end_time": "2025-09-16T01:25:48.836330Z",
     "start_time": "2025-09-16T01:25:46.618249Z"
    }
   },
   "cell_type": "code",
   "source": [
    "from dotenv import load_dotenv\n",
    "from langchain_core.output_parsers import StrOutputParser\n",
    "from langchain_core.prompts import PromptTemplate\n",
    "from langchain_core.runnables import RunnableSequence, RunnableLambda, RunnableParallel\n",
    "\n",
    "# LangChain OpenAI\n",
    "from langchain_openai import ChatOpenAI"
   ],
   "id": "3e64d36f2627f005",
   "outputs": [],
   "execution_count": 1
  },
  {
   "cell_type": "code",
   "id": "initial_id",
   "metadata": {
    "collapsed": true,
    "ExecuteTime": {
     "end_time": "2025-09-16T01:30:52.279872Z",
     "start_time": "2025-09-16T01:30:52.270422Z"
    }
   },
   "source": [
    "## .env 설정\n",
    "\n",
    "load_dotenv()"
   ],
   "outputs": [
    {
     "data": {
      "text/plain": [
       "True"
      ]
     },
     "execution_count": 2,
     "metadata": {},
     "output_type": "execute_result"
    }
   ],
   "execution_count": 2
  },
  {
   "metadata": {
    "ExecuteTime": {
     "end_time": "2025-09-16T01:31:18.174274Z",
     "start_time": "2025-09-16T01:31:18.166048Z"
    }
   },
   "cell_type": "code",
   "source": [
    "from dotenv import load_dotenv\n",
    "from langchain_core.output_parsers import StrOutputParser\n",
    "from langchain_core.prompts import PromptTemplate\n",
    "from langchain_core.runnables import RunnableSequence, RunnableLambda, RunnableParallel\n",
    "\n",
    "# LangChain OpenAI\n",
    "from langchain_openai import ChatOpenAI\n",
    "\n",
    "def api_document_evaluation_chain():\n",
    "    llm = ChatOpenAI(model=\"gpt-4o\", temperature=0)\n",
    "\n",
    "    evaluation_prompt = PromptTemplate.from_template(\n",
    "        \"\"\"\n",
    "    당신은 API 문서 기반 평가 전문가입니다. 주어진 시스템의 답변이 **기준 정답과 얼마나 일치하는지**, **중요한 정보를 얼마나 잘 재현했는지**, 그리고 **세부 사항을 얼마나 잘 반영했는지** 평가해야 합니다.\n",
    "\n",
    "    평가 기준:\n",
    "    1. **정확도 (Accuracy)**: 시스템의 답변이 **기준 정답**과 얼마나 일치하는지 평가하세요. 정확도가 높을수록 점수가 높습니다.\n",
    "    2. **재현율 (Recall)**: 시스템의 답변이 **기준 정답에서 제공한 중요한 정보**(예: 매개변수, 반환값 등)를 얼마나 잘 재현했는지 평가하세요. 중요한 정보가 빠지지 않으면 점수가 높습니다.\n",
    "    3. **구체성 (Specificity)**: 시스템의 답변이 **기준 정답에서 제공한 세부 사항**(예: 매개변수 설명, 예시 코드 등)을 얼마나 구체적으로 반영했는지 평가하세요. 답변이 상세할수록 점수가 높습니다.\n",
    "\n",
    "    ## 예시 1:\n",
    "    **질문**: 구글 지도 API는 어떻게 작동하나요?\n",
    "    **기준 정답 (API 문서)**: \"구글 지도 API는 지도 삽입, 지리 위치 기반 기능, 길찾기 서비스 등을 제공합니다. 이를 통해 사용자는 웹 애플리케이션에 위치 기반 서비스를 통합할 수 있습니다. 예를 들어, 지오코딩, 역 지오코딩 및 거리 계산 기능을 제공합니다.\"\n",
    "    **시스템 답변 (Perplexity)**: \"구글 지도 API는 지도 삽입과 위치 기반 기능을 제공하며, 길찾기 서비스도 지원합니다.\"\n",
    "\n",
    "    ### 평가:\n",
    "    - **정확도 (Accuracy)**: 점수는 0에서 1 사이로 평가하세요. 1은 완전 일치, 0은 전혀 일치하지 않음을 의미합니다.\n",
    "    - **재현율 (Recall)**: 점수는 0에서 1 사이로 평가하세요. 1은 모든 핵심 정보를 재현, 0은 중요한 정보를 놓친 경우입니다.\n",
    "    - **구체성 (Specificity)**: 점수는 0에서 1 사이로 평가하세요. 1은 매우 구체적이고 명확한 설명, 0은 불명확한 설명입니다.\n",
    "\n",
    "    ## 예시 2:\n",
    "    **질문**: `getDistance` 메서드의 입력 매개변수는 무엇인가요?\n",
    "    **기준 정답 (API 문서)**: \"`getDistance` 메서드는 두 개의 매개변수를 받습니다: `origin` (경로의 시작점, 문자열)과 `destination` (경로의 종료점, 문자열)입니다. 이 메서드는 시작점과 종료점 간의 거리를 계산하여 반환합니다.\"\n",
    "    **시스템 답변 (Perplexity)**: \"`getDistance` 메서드는 `origin`과 `destination` 매개변수를 사용하여 거리를 계산합니다.\"\n",
    "\n",
    "    ### 평가:\n",
    "    - **정확도 (Accuracy)**: 점수는 0에서 1 사이로 평가하세요.\n",
    "    - **재현율 (Recall)**: 점수는 0에서 1 사이로 평가하세요.\n",
    "    - **구체성 (Specificity)**: 점수는 0에서 1 사이로 평가하세요.\n",
    "\n",
    "    ## 사용자 질문 : {question}\n",
    "    ## 기준 정답 : {answer}\n",
    "    ## 시스템 답변 : {system_answer}\n",
    "\n",
    "    시스템의 답변을 기반으로 정확도, 재현율, 구체성을 평가한 후, 각 항목에 대한 점수를 **0에서 1 사이**로 계산하여 제공합니다.\n",
    "    \"\"\"\n",
    "    )\n",
    "\n",
    "\n",
    "    evaluation_chain = evaluation_prompt | llm | StrOutputParser\n",
    "\n",
    "    return evaluation_chain"
   ],
   "id": "3eb4476c1869bb3f",
   "outputs": [],
   "execution_count": 4
  },
  {
   "metadata": {
    "ExecuteTime": {
     "end_time": "2025-09-16T01:32:02.171684Z",
     "start_time": "2025-09-16T01:32:00.943004Z"
    }
   },
   "cell_type": "code",
   "source": [
    "## 이미 생성된 합성 데이터셋 생성\n",
    "import pandas as pd\n",
    "\n",
    "# 같은 폴더(현재 작업 디렉토리)에 저장했다면\n",
    "dataset_df = pd.read_csv(\"./dataset.csv\")\n",
    "print(dataset_df.shape)\n",
    "display(dataset_df)"
   ],
   "id": "73cfad477c240d64",
   "outputs": [
    {
     "name": "stdout",
     "output_type": "stream",
     "text": [
      "(20, 3)\n"
     ]
    },
    {
     "data": {
      "text/plain": [
       "                                           user_input  \\\n",
       "0           Analytics Hub 게시자와 목록 관리자 역할의 차이점은 무엇인가요?   \n",
       "1   BigQuery Studio 저장된 쿼리에 공개 액세스 권한을 방지하려면 어떻게 해...   \n",
       "2    calendarId에 primary 키워드를 사용하면 어떤 캘린더에 접근할 수 있나요?   \n",
       "3                 Google Drive API v3의 서비스 엔드포인트가 궁금해   \n",
       "4   files.create 메서드의 최대 파일 크기와 허용되는 미디어 MIME 유형은 ...   \n",
       "5          Firebase scrypt 해시 비밀번호를 사용한 사용자 가져오는 방법은?   \n",
       "6            커스텀 인증 시스템으로 Firebase에 인증하려면 어떻게 해야 하나요?   \n",
       "7   Firestore에서 맵 필드에 대한 단일 필드 색인 예외를 설정하면, 하위 필드들...   \n",
       "8            Firebase의 updateTime 필드에 사용되는 시간 형식이 뭐야?   \n",
       "9           Firefox 58 환경에서 Gmail의 AMP 렌더링 기능이 호환되나요?   \n",
       "10             Gmail 자가 테스트를 할 때 DKIM 또는 SPF 인증이 필요해?   \n",
       "11  HTML 헤더에 스크립트 태그를 넣을 수 없을 때, 이메일 본문에 코드를 삽입하는 ...   \n",
       "12            OAuth에서 승인 사용자 인증 정보 만드는 방법 순서대로 알려주세요.   \n",
       "13  Google의 계정 간 보안 서비스를 사용하는데 디코딩된 보안 이벤트 토큰의 eve...   \n",
       "14  MAP 3D 스토리텔링의 '표지'를 구성하기 위해 config.json 파일에 직접...   \n",
       "15           GMSMapPoint의 좌표계에서 (0, 0)은 어떤 지점을 의미하나요?   \n",
       "16          People API의 RequestMask 필드에 무엇을 입력해야 하나요?   \n",
       "17  People API에 요청을 보내는 Python 스크립트를 어떻게 실행하고 구성해야...   \n",
       "18  Google Sheets의 SERIAL_NUMBER 형식으로 1900년 2월 1일 ...   \n",
       "19        YouTube Data API를 사용하는 프로젝트의 기본 할당량은 얼마인가요?   \n",
       "\n",
       "                                   reference_contexts  \\\n",
       "0   사용자가 다음 작업을 수행할 수 있게 해주는 Analytics Hub 게시자 역할(...   \n",
       "1   BigQuery Studio 저장된 쿼리에 공개 액세스 권한이 부여되지 않도록 하려...   \n",
       "2   현재 로그인한 사용자의 기본 캘린더에 액세스하려면 'primary' 키워드를 사용하세요.   \n",
       "3   이 서비스에는 다음 서비스 엔드포인트가 포함되고, 그 아래의 모든 URI가 이 서비...   \n",
       "4   최대 파일 크기: 5,120GB\\n허용되는 미디어 MIME 유형: */*\\n(리터럴...   \n",
       "5   기본적으로 Firebase는 scrypt 해싱 알고리즘의 수정된 Firebase 버...   \n",
       "6   Firebase 인증에 맞춤 인증 시스템을 통합할 수 있습니다. 사용자가 정상적으로...   \n",
       "7   맵 필드에 단일 필드 색인 예외를 만들면 맵의 하위 필드에서 해당 설정을 상속합니다...   \n",
       "8   Uses RFC 3339, where generated output will alw...   \n",
       "9   브라우저 최소 버전\\nChrome 69\\nEdge 지원되지 않음\\nFirefox 5...   \n",
       "10                 DKIM 또는 SPF 인증 자체 테스트에는 여전히 필요합니다.   \n",
       "11  이메일 구성 방식에 따라 이메일 본문의 할인/제품을 담당하는 시스템은 HTML 헤더...   \n",
       "12  1. 클라이언트 만들기를 클릭합니다. 2. TV 및 입력 제한 기기 애플리케이션 유...   \n",
       "13  events 클레임에는 토큰이 나타내는 보안 이벤트에 관한 정보가 포함됩니다. 이 ...   \n",
       "14  또한 구성 파일이 있는 경우 파일에 다음 섹션을 직접 추가할 수 있습니다.\\n\\n1...   \n",
       "15                   (0, 0) is the center of the map.   \n",
       "16                                     지원 중단된 서비스입니다.   \n",
       "17  Python용 Google 클라이언트 라이브러리를 설치합니다.\\npip instal...   \n",
       "18  날짜, 시간, 날짜/시간, 기간 필드를 Lotus 1-2-3에서 대중화한 '일련번호...   \n",
       "19  YouTube Data API를 사용 설정한 프로젝트의 기본 할당량은 일일 10,0...   \n",
       "\n",
       "                                            reference  \n",
       "0   Analytics Hub 게시자 역할은 목록을 생성, 업데이트, 삭제하고 목록에 I...  \n",
       "1   BigQuery Studio 저장된 쿼리에 공개 액세스 권한을 방지하려면 프로젝트에...  \n",
       "2   calendarId에 primary 키워드를 사용하면 현재 로그인한 사용자의 기본 ...  \n",
       "3   Google Drive API v3의 서비스 엔드포인트는 https://www.go...  \n",
       "4   files.create 메서드의 최대 파일 크기는 5,120GB입니다. 허용되는 미...  \n",
       "5   Firebase scrypt 해시 비밀번호를 사용한 사용자를 가져오려면, 먼저 Fi...  \n",
       "6   커스텀 인증 시스템으로 Firebase에 인증하려면, 먼저 인증 서버에서 사용자의 ...  \n",
       "7   네, Firestore에서 맵 필드에 단일 필드 색인 예외를 만들면 맵의 하위 필드...  \n",
       "8   Firebase의 updateTime 필드에는 RFC 3339 시간 형식이 사용됩니...  \n",
       "9   네, Firefox 58 환경에서는 Gmail의 AMP 렌더링 기능이 호환됩니다. ...  \n",
       "10    네, Gmail 자가 테스트를 할 때 DKIM 또는 SPF 인증이 여전히 필요합니다.  \n",
       "11  HTML 헤더에 스크립트 태그를 넣을 수 없는 경우, 이메일 본문에 스크립트 태그의...  \n",
       "12  OAuth에서 승인 사용자 인증 정보를 만드는 방법은 다음과 같습니다. 먼저, '클...  \n",
       "13  디코딩된 보안 이벤트 토큰의 events 클레임에는 토큰이 나타내는 보안 이벤트에 ...  \n",
       "14  MAP 3D 스토리텔링의 '표지'를 구성하기 위해 config.json 파일에 직접...  \n",
       "15           (0, 0)은 GMSMapPoint 좌표계에서 지도의 중심을 의미합니다.  \n",
       "16              지원 중단되었습니다. 대신 personFields를 사용해 주세요.  \n",
       "17  People API에 요청을 보내는 Python 스크립트를 실행하고 구성하려면 다음...  \n",
       "18  Google Sheets의 SERIAL_NUMBER 형식에서 1900년 2월 1일 ...  \n",
       "19  YouTube Data API를 사용하는 프로젝트의 기본 할당량은 일일 10,000...  "
      ],
      "text/html": [
       "<div>\n",
       "<style scoped>\n",
       "    .dataframe tbody tr th:only-of-type {\n",
       "        vertical-align: middle;\n",
       "    }\n",
       "\n",
       "    .dataframe tbody tr th {\n",
       "        vertical-align: top;\n",
       "    }\n",
       "\n",
       "    .dataframe thead th {\n",
       "        text-align: right;\n",
       "    }\n",
       "</style>\n",
       "<table border=\"1\" class=\"dataframe\">\n",
       "  <thead>\n",
       "    <tr style=\"text-align: right;\">\n",
       "      <th></th>\n",
       "      <th>user_input</th>\n",
       "      <th>reference_contexts</th>\n",
       "      <th>reference</th>\n",
       "    </tr>\n",
       "  </thead>\n",
       "  <tbody>\n",
       "    <tr>\n",
       "      <th>0</th>\n",
       "      <td>Analytics Hub 게시자와 목록 관리자 역할의 차이점은 무엇인가요?</td>\n",
       "      <td>사용자가 다음 작업을 수행할 수 있게 해주는 Analytics Hub 게시자 역할(...</td>\n",
       "      <td>Analytics Hub 게시자 역할은 목록을 생성, 업데이트, 삭제하고 목록에 I...</td>\n",
       "    </tr>\n",
       "    <tr>\n",
       "      <th>1</th>\n",
       "      <td>BigQuery Studio 저장된 쿼리에 공개 액세스 권한을 방지하려면 어떻게 해...</td>\n",
       "      <td>BigQuery Studio 저장된 쿼리에 공개 액세스 권한이 부여되지 않도록 하려...</td>\n",
       "      <td>BigQuery Studio 저장된 쿼리에 공개 액세스 권한을 방지하려면 프로젝트에...</td>\n",
       "    </tr>\n",
       "    <tr>\n",
       "      <th>2</th>\n",
       "      <td>calendarId에 primary 키워드를 사용하면 어떤 캘린더에 접근할 수 있나요?</td>\n",
       "      <td>현재 로그인한 사용자의 기본 캘린더에 액세스하려면 'primary' 키워드를 사용하세요.</td>\n",
       "      <td>calendarId에 primary 키워드를 사용하면 현재 로그인한 사용자의 기본 ...</td>\n",
       "    </tr>\n",
       "    <tr>\n",
       "      <th>3</th>\n",
       "      <td>Google Drive API v3의 서비스 엔드포인트가 궁금해</td>\n",
       "      <td>이 서비스에는 다음 서비스 엔드포인트가 포함되고, 그 아래의 모든 URI가 이 서비...</td>\n",
       "      <td>Google Drive API v3의 서비스 엔드포인트는 https://www.go...</td>\n",
       "    </tr>\n",
       "    <tr>\n",
       "      <th>4</th>\n",
       "      <td>files.create 메서드의 최대 파일 크기와 허용되는 미디어 MIME 유형은 ...</td>\n",
       "      <td>최대 파일 크기: 5,120GB\\n허용되는 미디어 MIME 유형: */*\\n(리터럴...</td>\n",
       "      <td>files.create 메서드의 최대 파일 크기는 5,120GB입니다. 허용되는 미...</td>\n",
       "    </tr>\n",
       "    <tr>\n",
       "      <th>5</th>\n",
       "      <td>Firebase scrypt 해시 비밀번호를 사용한 사용자 가져오는 방법은?</td>\n",
       "      <td>기본적으로 Firebase는 scrypt 해싱 알고리즘의 수정된 Firebase 버...</td>\n",
       "      <td>Firebase scrypt 해시 비밀번호를 사용한 사용자를 가져오려면, 먼저 Fi...</td>\n",
       "    </tr>\n",
       "    <tr>\n",
       "      <th>6</th>\n",
       "      <td>커스텀 인증 시스템으로 Firebase에 인증하려면 어떻게 해야 하나요?</td>\n",
       "      <td>Firebase 인증에 맞춤 인증 시스템을 통합할 수 있습니다. 사용자가 정상적으로...</td>\n",
       "      <td>커스텀 인증 시스템으로 Firebase에 인증하려면, 먼저 인증 서버에서 사용자의 ...</td>\n",
       "    </tr>\n",
       "    <tr>\n",
       "      <th>7</th>\n",
       "      <td>Firestore에서 맵 필드에 대한 단일 필드 색인 예외를 설정하면, 하위 필드들...</td>\n",
       "      <td>맵 필드에 단일 필드 색인 예외를 만들면 맵의 하위 필드에서 해당 설정을 상속합니다...</td>\n",
       "      <td>네, Firestore에서 맵 필드에 단일 필드 색인 예외를 만들면 맵의 하위 필드...</td>\n",
       "    </tr>\n",
       "    <tr>\n",
       "      <th>8</th>\n",
       "      <td>Firebase의 updateTime 필드에 사용되는 시간 형식이 뭐야?</td>\n",
       "      <td>Uses RFC 3339, where generated output will alw...</td>\n",
       "      <td>Firebase의 updateTime 필드에는 RFC 3339 시간 형식이 사용됩니...</td>\n",
       "    </tr>\n",
       "    <tr>\n",
       "      <th>9</th>\n",
       "      <td>Firefox 58 환경에서 Gmail의 AMP 렌더링 기능이 호환되나요?</td>\n",
       "      <td>브라우저 최소 버전\\nChrome 69\\nEdge 지원되지 않음\\nFirefox 5...</td>\n",
       "      <td>네, Firefox 58 환경에서는 Gmail의 AMP 렌더링 기능이 호환됩니다. ...</td>\n",
       "    </tr>\n",
       "    <tr>\n",
       "      <th>10</th>\n",
       "      <td>Gmail 자가 테스트를 할 때 DKIM 또는 SPF 인증이 필요해?</td>\n",
       "      <td>DKIM 또는 SPF 인증 자체 테스트에는 여전히 필요합니다.</td>\n",
       "      <td>네, Gmail 자가 테스트를 할 때 DKIM 또는 SPF 인증이 여전히 필요합니다.</td>\n",
       "    </tr>\n",
       "    <tr>\n",
       "      <th>11</th>\n",
       "      <td>HTML 헤더에 스크립트 태그를 넣을 수 없을 때, 이메일 본문에 코드를 삽입하는 ...</td>\n",
       "      <td>이메일 구성 방식에 따라 이메일 본문의 할인/제품을 담당하는 시스템은 HTML 헤더...</td>\n",
       "      <td>HTML 헤더에 스크립트 태그를 넣을 수 없는 경우, 이메일 본문에 스크립트 태그의...</td>\n",
       "    </tr>\n",
       "    <tr>\n",
       "      <th>12</th>\n",
       "      <td>OAuth에서 승인 사용자 인증 정보 만드는 방법 순서대로 알려주세요.</td>\n",
       "      <td>1. 클라이언트 만들기를 클릭합니다. 2. TV 및 입력 제한 기기 애플리케이션 유...</td>\n",
       "      <td>OAuth에서 승인 사용자 인증 정보를 만드는 방법은 다음과 같습니다. 먼저, '클...</td>\n",
       "    </tr>\n",
       "    <tr>\n",
       "      <th>13</th>\n",
       "      <td>Google의 계정 간 보안 서비스를 사용하는데 디코딩된 보안 이벤트 토큰의 eve...</td>\n",
       "      <td>events 클레임에는 토큰이 나타내는 보안 이벤트에 관한 정보가 포함됩니다. 이 ...</td>\n",
       "      <td>디코딩된 보안 이벤트 토큰의 events 클레임에는 토큰이 나타내는 보안 이벤트에 ...</td>\n",
       "    </tr>\n",
       "    <tr>\n",
       "      <th>14</th>\n",
       "      <td>MAP 3D 스토리텔링의 '표지'를 구성하기 위해 config.json 파일에 직접...</td>\n",
       "      <td>또한 구성 파일이 있는 경우 파일에 다음 섹션을 직접 추가할 수 있습니다.\\n\\n1...</td>\n",
       "      <td>MAP 3D 스토리텔링의 '표지'를 구성하기 위해 config.json 파일에 직접...</td>\n",
       "    </tr>\n",
       "    <tr>\n",
       "      <th>15</th>\n",
       "      <td>GMSMapPoint의 좌표계에서 (0, 0)은 어떤 지점을 의미하나요?</td>\n",
       "      <td>(0, 0) is the center of the map.</td>\n",
       "      <td>(0, 0)은 GMSMapPoint 좌표계에서 지도의 중심을 의미합니다.</td>\n",
       "    </tr>\n",
       "    <tr>\n",
       "      <th>16</th>\n",
       "      <td>People API의 RequestMask 필드에 무엇을 입력해야 하나요?</td>\n",
       "      <td>지원 중단된 서비스입니다.</td>\n",
       "      <td>지원 중단되었습니다. 대신 personFields를 사용해 주세요.</td>\n",
       "    </tr>\n",
       "    <tr>\n",
       "      <th>17</th>\n",
       "      <td>People API에 요청을 보내는 Python 스크립트를 어떻게 실행하고 구성해야...</td>\n",
       "      <td>Python용 Google 클라이언트 라이브러리를 설치합니다.\\npip instal...</td>\n",
       "      <td>People API에 요청을 보내는 Python 스크립트를 실행하고 구성하려면 다음...</td>\n",
       "    </tr>\n",
       "    <tr>\n",
       "      <th>18</th>\n",
       "      <td>Google Sheets의 SERIAL_NUMBER 형식으로 1900년 2월 1일 ...</td>\n",
       "      <td>날짜, 시간, 날짜/시간, 기간 필드를 Lotus 1-2-3에서 대중화한 '일련번호...</td>\n",
       "      <td>Google Sheets의 SERIAL_NUMBER 형식에서 1900년 2월 1일 ...</td>\n",
       "    </tr>\n",
       "    <tr>\n",
       "      <th>19</th>\n",
       "      <td>YouTube Data API를 사용하는 프로젝트의 기본 할당량은 얼마인가요?</td>\n",
       "      <td>YouTube Data API를 사용 설정한 프로젝트의 기본 할당량은 일일 10,0...</td>\n",
       "      <td>YouTube Data API를 사용하는 프로젝트의 기본 할당량은 일일 10,000...</td>\n",
       "    </tr>\n",
       "  </tbody>\n",
       "</table>\n",
       "</div>"
      ]
     },
     "metadata": {},
     "output_type": "display_data"
    }
   ],
   "execution_count": 5
  },
  {
   "metadata": {
    "ExecuteTime": {
     "end_time": "2025-09-16T01:32:56.914798Z",
     "start_time": "2025-09-16T01:32:56.155668Z"
    }
   },
   "cell_type": "code",
   "source": [
    "## chain 생성\n",
    "\n",
    "eval_chain = api_document_evaluation_chain()"
   ],
   "id": "83c1012474a7da50",
   "outputs": [],
   "execution_count": 7
  },
  {
   "metadata": {},
   "cell_type": "code",
   "outputs": [],
   "execution_count": null,
   "source": "",
   "id": "820710dadfc3b086"
  },
  {
   "metadata": {
    "ExecuteTime": {
     "end_time": "2025-09-16T01:32:24.311924Z",
     "start_time": "2025-09-16T01:32:24.302591Z"
    }
   },
   "cell_type": "code",
   "source": "dataset_df['user_input'][0]",
   "id": "16c4778f1a18a0e1",
   "outputs": [
    {
     "data": {
      "text/plain": [
       "'Analytics Hub 게시자와 목록 관리자 역할의 차이점은 무엇인가요?'"
      ]
     },
     "execution_count": 6,
     "metadata": {},
     "output_type": "execute_result"
    }
   ],
   "execution_count": 6
  }
 ],
 "metadata": {
  "kernelspec": {
   "display_name": "Python 3",
   "language": "python",
   "name": "python3"
  },
  "language_info": {
   "codemirror_mode": {
    "name": "ipython",
    "version": 2
   },
   "file_extension": ".py",
   "mimetype": "text/x-python",
   "name": "python",
   "nbconvert_exporter": "python",
   "pygments_lexer": "ipython2",
   "version": "2.7.6"
  }
 },
 "nbformat": 4,
 "nbformat_minor": 5
}
