{
 "cells": [
  {
   "metadata": {},
   "cell_type": "markdown",
   "source": [
    "## .env 설정\n",
    "\n",
    "PPLX_API_KEY=\"your api key\"\n",
    "\n"
   ],
   "id": "5d3c75f8462460b8"
  },
  {
   "metadata": {
    "ExecuteTime": {
     "end_time": "2025-09-15T14:31:43.031777Z",
     "start_time": "2025-09-15T14:31:31.179435Z"
    }
   },
   "cell_type": "code",
   "source": [
    "from dotenv import load_dotenv\n",
    "\n",
    "load_dotenv()\n",
    "\n",
    "from langchain_community.chat_models import ChatPerplexity\n",
    "\n",
    "llm = ChatPerplexity(model=\"sonar\", temperature=0.0)\n",
    "response = llm.invoke(\"구글 api에서 bigquery insert 하는법 알려줘\")\n",
    "\n",
    "print(response.content)"
   ],
   "id": "3a253279fe1aa190",
   "outputs": [
    {
     "name": "stdout",
     "output_type": "stream",
     "text": [
      "구글 API에서 BigQuery에 데이터를 삽입하는 방법은 크게 두 가지가 있습니다. \n",
      "\n",
      "1. **Apigee Edge의 Google BigQuery 확장 프로그램을 사용하는 방법**  \n",
      "   - `<Action>insert</Action>` 태그와 함께 JSON 형식으로 데이터셋(dataset), 테이블(table), 삽입할 행(rows)을 지정하여 직접 삽입할 수 있습니다.  \n",
      "   - 예시:  \n",
      "     ```xml\n",
      "     <Action>insert</Action>\n",
      "     <Input><![CDATA[{\n",
      "       \"dataset\" : \"TestData\",\n",
      "       \"table\" : \"TestTable\",\n",
      "       \"rows\" : [\n",
      "         {\"technology\":\"CRISPR\",\"inventorFirstName\":\"Jennifer\",\"inventorLastName\":\"Doudna\"},\n",
      "         {\"technology\":\"World Wide Web\",\"inventorFirstName\":\"Tim\",\"inventorLastName\":\"Berners-Lee\"},\n",
      "         {\"technology\":\"Alternating current\",\"inventorFirstName\":\"Nikola\",\"inventorLastName\":\"Tesla\"}\n",
      "       ]\n",
      "     }]]></Input>\n",
      "     ```  \n",
      "   - 이 방식은 Apigee 환경에서 BigQuery에 직접 행을 삽입할 때 사용합니다[1].\n",
      "\n",
      "2. **Google Apps Script에서 BigQuery API를 사용하는 방법**  \n",
      "   - BigQuery API의 `BigQuery.Jobs.insert` 메서드를 사용해 데이터를 추가합니다.  \n",
      "   - 이때 `projectId`, `datasetId`, `tableId`를 지정하고, 삽입할 데이터를 포함한 `job` 객체를 만들어 호출합니다.  \n",
      "   - 예시 코드 (JavaScript, Google Apps Script):  \n",
      "     ```javascript\n",
      "     const projectId = 'your-project-id';\n",
      "     const datasetId = 'your-dataset-id';\n",
      "     const tableId = 'your-table-id';\n",
      "\n",
      "     const job = {\n",
      "       configuration: {\n",
      "         load: {\n",
      "           destinationTable: {\n",
      "             projectId: projectId,\n",
      "             datasetId: datasetId,\n",
      "             tableId: tableId\n",
      "           },\n",
      "           sourceFormat: 'NEWLINE_DELIMITED_JSON',\n",
      "           // 데이터 스키마와 데이터 파일 위치 등 추가 설정 필요\n",
      "         }\n",
      "       }\n",
      "     };\n",
      "\n",
      "     BigQuery.Jobs.insert(job, projectId);\n",
      "     ```  \n",
      "   - 이 방법은 Google Apps Script 환경에서 BigQuery API를 호출해 데이터를 삽입할 때 사용합니다[2][3].\n",
      "\n",
      "추가로, BigQuery API를 직접 REST 방식으로 호출할 때는 멀티파트 업로드를 통해 JSON, CSV 등의 데이터를 지정한 테이블에 업로드할 수 있습니다[3].\n",
      "\n",
      "요약하면, **Apigee 환경에서는 `<Action>insert</Action>` XML 형식으로, Google Apps Script나 REST API 환경에서는 `BigQuery.Jobs.insert` 메서드와 적절한 job 설정을 통해 BigQuery에 데이터를 삽입**할 수 있습니다.  \n",
      "\n",
      "필요한 프로젝트 ID, 데이터셋 ID, 테이블 ID는 BigQuery 콘솔에서 확인 가능합니다[2].\n"
     ]
    }
   ],
   "execution_count": 8
  },
  {
   "metadata": {
    "ExecuteTime": {
     "end_time": "2025-09-15T14:32:28.814773Z",
     "start_time": "2025-09-15T14:32:17.398737Z"
    }
   },
   "cell_type": "code",
   "source": [
    "llm = ChatPerplexity(model=\"sonar-pro\", temperature=0.0)\n",
    "response = llm.invoke(\"구글 api에서 bigquery insert 하는법 알려줘\")\n",
    "\n",
    "print(response.content)"
   ],
   "id": "e5614e882032ac41",
   "outputs": [
    {
     "name": "stdout",
     "output_type": "stream",
     "text": [
      "구글 API를 통해 **BigQuery에 데이터를 insert(삽입)하는 방법**은 크게 두 가지로 나눌 수 있습니다: SQL 쿼리 방식과 BigQuery API를 직접 호출하는 방식입니다.\n",
      "\n",
      "---\n",
      "\n",
      "**1. SQL 쿼리로 INSERT**\n",
      "- BigQuery는 표준 SQL의 `INSERT INTO` 구문을 지원합니다.\n",
      "- 예시:\n",
      "  ```sql\n",
      "  INSERT INTO dataset.table (column1, column2)\n",
      "  VALUES ('value1', 'value2')\n",
      "  ```\n",
      "- 컬럼을 명시하지 않고 전체 값을 삽입할 수도 있습니다:\n",
      "  ```sql\n",
      "  INSERT INTO dataset.table\n",
      "  VALUES ('value1', 'value2', 'value3')\n",
      "  ```\n",
      "- 서브쿼리를 활용한 삽입도 가능합니다:\n",
      "  ```sql\n",
      "  INSERT INTO dataset.table (column1, column2)\n",
      "  VALUES ('value1', (SELECT column2 FROM dataset.table2 WHERE ...))\n",
      "  ```\n",
      "- 쿼리는 BigQuery 콘솔, 클라이언트 라이브러리, REST API 등에서 실행할 수 있습니다[2].\n",
      "\n",
      "---\n",
      "\n",
      "**2. BigQuery API를 통한 데이터 삽입**\n",
      "- Google Cloud의 BigQuery API를 직접 호출하여 데이터를 삽입할 수 있습니다.\n",
      "- 대표적으로 `tabledata.insertAll` 메서드를 사용합니다.\n",
      "- 요청 예시(JSON 형식):\n",
      "  ```json\n",
      "  {\n",
      "    \"dataset\": \"TestData\",\n",
      "    \"table\": \"TestTable\",\n",
      "    \"rows\": [\n",
      "      {\"column1\": \"value1\", \"column2\": \"value2\"},\n",
      "      {\"column1\": \"value3\", \"column2\": \"value4\"}\n",
      "    ]\n",
      "  }\n",
      "  ```\n",
      "- API 호출 시 필요한 정보:\n",
      "  - **projectId**: GCP 프로젝트 ID\n",
      "  - **datasetId**: 데이터셋 이름\n",
      "  - **tableId**: 테이블 이름\n",
      "  - **rows**: 삽입할 데이터 배열[3].\n",
      "\n",
      "- 예시 코드 (Google Apps Script):\n",
      "  ```javascript\n",
      "  const projectId = 'your-project-id';\n",
      "  const datasetId = 'your-dataset-id';\n",
      "  const tableId = 'your-table-id';\n",
      "  const job = {\n",
      "    configuration: {\n",
      "      load: {\n",
      "        destinationTable: {\n",
      "          projectId: projectId,\n",
      "          datasetId: datasetId,\n",
      "          tableId: tableId\n",
      "        },\n",
      "        skipLeadingRows: 0\n",
      "      }\n",
      "    }\n",
      "  };\n",
      "  BigQuery.Jobs.insert(job, projectId, blob);\n",
      "  ```\n",
      "  여기서 `blob`은 삽입할 데이터 파일입니다[1].\n",
      "\n",
      "---\n",
      "\n",
      "**3. 스트리밍 삽입**\n",
      "- 실시간으로 데이터를 삽입하려면 BigQuery의 스트리밍 API를 사용할 수 있습니다.\n",
      "- `tabledata.insertAll` 엔드포인트를 통해 JSON 형식의 데이터를 바로 테이블에 삽입합니다[6].\n",
      "\n",
      "---\n",
      "\n",
      "**필수 정보**\n",
      "- **projectId, datasetId, tableId**는 BigQuery 콘솔에서 확인할 수 있습니다.\n",
      "- 데이터 타입이 맞지 않으면 오류가 발생하므로, 삽입할 데이터의 타입을 반드시 확인해야 합니다[2].\n",
      "\n",
      "---\n",
      "\n",
      "**요약**\n",
      "- SQL 쿼리 또는 BigQuery API를 사용해 데이터를 삽입할 수 있습니다.\n",
      "- API 사용 시 JSON 형식으로 데이터와 테이블 정보를 지정합니다.\n",
      "- 실시간 데이터는 스트리밍 API로 삽입 가능합니다.\n",
      "\n",
      "추가적으로 사용하는 언어나 환경(GAS, Python, Java 등)에 따라 클라이언트 라이브러리나 REST API를 활용할 수 있습니다.\n"
     ]
    }
   ],
   "execution_count": 9
  }
 ],
 "metadata": {
  "kernelspec": {
   "display_name": "Python 3",
   "language": "python",
   "name": "python3"
  },
  "language_info": {
   "codemirror_mode": {
    "name": "ipython",
    "version": 2
   },
   "file_extension": ".py",
   "mimetype": "text/x-python",
   "name": "python",
   "nbconvert_exporter": "python",
   "pygments_lexer": "ipython2",
   "version": "2.7.6"
  }
 },
 "nbformat": 4,
 "nbformat_minor": 5
}
