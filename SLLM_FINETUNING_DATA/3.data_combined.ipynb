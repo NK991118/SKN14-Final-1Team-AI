{
 "cells": [
  {
   "metadata": {
    "ExecuteTime": {
     "end_time": "2025-09-16T13:47:24.835291Z",
     "start_time": "2025-09-16T13:47:24.460728Z"
    }
   },
   "cell_type": "code",
   "source": [
    "import json\n",
    "\n",
    "# 합칠 파일 목록\n",
    "files = [\n",
    "    \"qwen3_company_train_dataset_frontend2.json\",\n",
    "    \"qwen3_company_train_dataset_backend.json\",\n",
    "    \"qwen3_company_train_dataset_data_ai2.json\",\n",
    "    \"qwen3_company_train_dataset_cto3.json\",\n",
    "    \"qwen3_company_train_dataset_frontend_informal2.json\",\n",
    "    \"qwen3_company_train_dataset_backend_informal2.json\",\n",
    "    \"qwen3_company_train_dataset_data_ai_informal2.json\",\n",
    "    \"qwen3_company_train_dataset_cto_informal2.json\",\n",
    "]\n",
    "\n",
    "output_file = \"qwen3_company_train_dataset_combined.json\"\n",
    "\n",
    "combined_data = []\n",
    "\n",
    "# 파일들을 순회하면서 데이터 로드 & 합치기\n",
    "for file in files:\n",
    "    with open(file, \"r\", encoding=\"utf-8\") as f:\n",
    "        data = json.load(f)\n",
    "        # 리스트라고 가정하고 합치기\n",
    "        combined_data.extend(data)\n",
    "\n",
    "\n",
    "# 합친 데이터 저장\n",
    "with open(output_file, \"w\", encoding=\"utf-8\") as f:\n",
    "    json.dump(combined_data, f, ensure_ascii=False, indent=4)\n",
    "\n",
    "print(f\"{len(files)}개 파일이 성공적으로 합쳐져 {output_file}에 저장되었습니다.\")\n"
   ],
   "id": "9ccef3e17204798c",
   "outputs": [
    {
     "name": "stdout",
     "output_type": "stream",
     "text": [
      "8개 파일이 성공적으로 합쳐져 qwen3_company_train_dataset_combined.json에 저장되었습니다.\n"
     ]
    }
   ],
   "execution_count": 3
  },
  {
   "metadata": {
    "ExecuteTime": {
     "end_time": "2025-09-16T13:36:24.590491Z",
     "start_time": "2025-09-16T13:36:24.586505Z"
    }
   },
   "cell_type": "code",
   "source": "print(len(combined_data))",
   "id": "a8811056dbe8aac8",
   "outputs": [
    {
     "name": "stdout",
     "output_type": "stream",
     "text": [
      "2450\n"
     ]
    }
   ],
   "execution_count": 2
  },
  {
   "metadata": {
    "ExecuteTime": {
     "end_time": "2025-09-16T14:07:15.939797Z",
     "start_time": "2025-09-16T14:07:15.839411Z"
    }
   },
   "cell_type": "code",
   "source": [
    "text = open(output_file, \"r\", encoding=\"utf-8\", errors=\"replace\").read()\n",
    "print(\"BOM present?\", text.startswith(\"\\ufeff\"))"
   ],
   "id": "bc848b65d510392f",
   "outputs": [
    {
     "name": "stdout",
     "output_type": "stream",
     "text": [
      "BOM present? False\n"
     ]
    }
   ],
   "execution_count": 6
  },
  {
   "metadata": {
    "ExecuteTime": {
     "end_time": "2025-09-16T14:15:11.925704Z",
     "start_time": "2025-09-16T14:15:11.777649Z"
    }
   },
   "cell_type": "code",
   "source": [
    "from pathlib import Path\n",
    "import json, codecs\n",
    "\n",
    "path = \"qwen3_company_train_dataset_combined.json\"\n",
    "b = Path(path).read_bytes()\n",
    "\n",
    "# 1) 정말 BOM 없는지 바이트로 확인\n",
    "print(\"UTF-8 BOM?\", b.startswith(codecs.BOM_UTF8))  # True면 BOM 있음\n",
    "\n",
    "# 2) 꼬리 바이트 확인\n",
    "print(\"Tail bytes:\", b[-16:])  # 맨 끝 16바이트\n",
    "\n",
    "# 3) 꼬리가 잘렸는지(마지막 0~3바이트 잘라 재시도)\n",
    "for trim in range(0, 4):\n",
    "    try:\n",
    "        s = b[:-trim] if trim else b\n",
    "        s = s.decode(\"utf-8\")\n",
    "        print(f\"UTF-8 decode OK with trim={trim}\")\n",
    "        break\n",
    "    except UnicodeDecodeError as e:\n",
    "        print(f\"trim={trim} -> {e}\")\n",
    "\n",
    "# 4) JSON 파싱도 확인 (배열 JSON 가정)\n",
    "if 's' in locals():\n",
    "    txt = s.strip().rstrip(\", \\n\\r\\t\")\n",
    "    if not (txt.endswith(\"]\") or txt.endswith(\"}\")):\n",
    "        txt += \"]\"  # 배열이라면 임시로 닫아줌 (임시 복구)\n",
    "    obj = json.loads(txt)  # 여기서 에러 나면 구조 자체가 손상\n",
    "    print(type(obj), len(obj) if isinstance(obj, list) else \"ok\")"
   ],
   "id": "86905f86fbcb7562",
   "outputs": [
    {
     "name": "stdout",
     "output_type": "stream",
     "text": [
      "UTF-8 BOM? False\n",
      "Tail bytes: b'     ]\\r\\n    }\\r\\n]'\n",
      "UTF-8 decode OK with trim=0\n",
      "<class 'list'> 2450\n"
     ]
    }
   ],
   "execution_count": 1
  }
 ],
 "metadata": {
  "kernelspec": {
   "name": "python3",
   "language": "python",
   "display_name": "Python 3 (ipykernel)"
  }
 },
 "nbformat": 5,
 "nbformat_minor": 9
}
