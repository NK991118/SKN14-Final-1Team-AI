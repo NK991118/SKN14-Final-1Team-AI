{
 "cells": [
  {
   "cell_type": "code",
   "execution_count": 1,
   "id": "d714719cfc2a2bd8",
   "metadata": {
    "ExecuteTime": {
     "end_time": "2025-08-29T05:20:59.084966Z",
     "start_time": "2025-08-29T05:10:04.023234Z"
    }
   },
   "outputs": [],
   "source": [
    "import os\n",
    "import json\n",
    "import re\n",
    "from dotenv import load_dotenv\n",
    "from openai import OpenAI\n",
    "\n",
    "# 환경 설정\n",
    "load_dotenv()\n",
    "\n",
    "# OpenAI 클라이언트 초기화\n",
    "client = OpenAI()\n",
    "\n",
    "def generate_questions_from_document(document_text):\n",
    "    # 질문 생성 프롬프트 (각 질문에 번호를 붙여서 생성하도록 요청)\n",
    "    prompt = (f\"이 문서의 내용을 바탕으로 회사 직원이 물어볼 수 있는 구체적인 질문을 최소 5개에서 최대 25개까지 생성해 주세요. \"\n",
    "              f\"질문의 내용은 어떤 보고서에서 어떤 내용을 물어보는지 구체적으로 나와있어야 합니다.\"\n",
    "              f\"그리고 질문에는 보고서명과 보고서에서 질문하는 파트에 대한 내용이 들어가있어야 합니다.\"\n",
    "              f\"문서에 없는 내용에 대한 질문은 절대 생성하지 마세요.\"\n",
    "              f\"각 질문은 '질문 1: [질문 내용]', '질문 2: [질문 내용]' 형식으로 작성해 주세요. \"\n",
    "              f\"예시: '고객지원팀 팀 성과 보고서에서 콘텐츠 생상량에 대한 KPI 달성 현황은 어떤가요?' \"\n",
    "              f\"문서 내용: {document_text}\")\n",
    "\n",
    "    # OpenAI API 호출\n",
    "    response = client.chat.completions.create(\n",
    "        model=\"gpt-4o-mini\",\n",
    "        messages=[{\"role\": \"user\", \"content\": prompt}],\n",
    "        max_tokens=1500,  # 더 긴 응답을 받을 수 있도록 확장\n",
    "        temperature=0.  # temperature 설정\n",
    "    )\n",
    "\n",
    "    # 생성된 질문 반환\n",
    "    return response.choices[0].message.content.strip()\n",
    "\n",
    "def process_directory(directory_path, output_jsonl):\n",
    "    # 지정된 폴더 내 모든 파일 순회\n",
    "    for root, dirs, files in os.walk(directory_path):\n",
    "        for file in files:\n",
    "            # 텍스트 파일만 처리\n",
    "            if file.endswith(\".txt\"):\n",
    "                file_path = os.path.join(root, file)\n",
    "                with open(file_path, 'r', encoding='utf-8') as f:\n",
    "                    document_text = f.read()\n",
    "                    # 문서로부터 질문 생성\n",
    "                    questions = generate_questions_from_document(document_text)\n",
    "\n",
    "                    # '질문 1:', '질문 2:' 형식으로 질문을 정규식으로 추출\n",
    "                    question_list = re.findall(r'질문 \\d+: (.*)', questions)\n",
    "\n",
    "                    # 생성된 질문을 JSONL 형식으로 저장\n",
    "                    with open(output_jsonl, 'a', encoding='utf-8') as jsonl_file:\n",
    "                        for question in question_list:\n",
    "                            # 각 질문을 하나씩 JSONL 파일에 저장\n",
    "                            json.dump({\"question\": question.strip()}, jsonl_file, ensure_ascii=False)\n",
    "                            jsonl_file.write('\\n')\n"
   ]
  },
  {
   "cell_type": "code",
   "execution_count": 6,
   "id": "3902dcc2",
   "metadata": {},
   "outputs": [],
   "source": [
    "# 예시 실행\n",
    "directory_path = \"./COMPANY_DATA/cto\"  # 순회할 폴더 경로\n",
    "output_jsonl = \"company_questions_cto.jsonl\"  # 결과를 저장할 JSONL 파일 경로\n",
    "process_directory(directory_path, output_jsonl)"
   ]
  },
  {
   "cell_type": "code",
   "execution_count": 7,
   "id": "1d24cb6e",
   "metadata": {},
   "outputs": [],
   "source": [
    "# 예시 실행\n",
    "directory_path = \"./COMPANY_DATA/backend\"  # 순회할 폴더 경로\n",
    "output_jsonl = \"company_questions_backend.jsonl\"  # 결과를 저장할 JSONL 파일 경로\n",
    "process_directory(directory_path, output_jsonl)"
   ]
  },
  {
   "cell_type": "code",
   "execution_count": 8,
   "id": "d1f318aa",
   "metadata": {},
   "outputs": [],
   "source": [
    "# 예시 실행\n",
    "directory_path = \"./COMPANY_DATA/frontend\"  # 순회할 폴더 경로\n",
    "output_jsonl = \"company_questions_frontend.jsonl\"  # 결과를 저장할 JSONL 파일 경로\n",
    "process_directory(directory_path, output_jsonl)"
   ]
  },
  {
   "cell_type": "code",
   "execution_count": 2,
   "id": "6d5f4330",
   "metadata": {},
   "outputs": [],
   "source": [
    "# 예시 실행\n",
    "directory_path = \"./COMPANY_DATA/data_ai\"  # 순회할 폴더 경로\n",
    "output_jsonl = \"company_questions_data_ai.jsonl\"  # 결과를 저장할 JSONL 파일 경로\n",
    "process_directory(directory_path, output_jsonl)"
   ]
  }
 ],
 "metadata": {
  "kernelspec": {
   "display_name": "ai_basic_env",
   "language": "python",
   "name": "python3"
  },
  "language_info": {
   "codemirror_mode": {
    "name": "ipython",
    "version": 3
   },
   "file_extension": ".py",
   "mimetype": "text/x-python",
   "name": "python",
   "nbconvert_exporter": "python",
   "pygments_lexer": "ipython3",
   "version": "3.12.9"
  }
 },
 "nbformat": 4,
 "nbformat_minor": 5
}
