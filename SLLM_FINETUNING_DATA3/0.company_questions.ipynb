{
 "cells": [
  {
   "cell_type": "code",
   "id": "2bdc0b90d03e859c",
   "metadata": {
    "ExecuteTime": {
     "end_time": "2025-09-23T01:12:59.729311Z",
     "start_time": "2025-09-23T01:12:59.694813Z"
    }
   },
   "source": [
    "import os\n",
    "import json\n",
    "import re\n",
    "from dotenv import load_dotenv\n",
    "from openai import OpenAI\n",
    "\n",
    "# 환경 설정\n",
    "load_dotenv()\n",
    "\n",
    "# OpenAI 클라이언트 초기화\n",
    "client = OpenAI()"
   ],
   "outputs": [],
   "execution_count": 3
  },
  {
   "metadata": {
    "ExecuteTime": {
     "end_time": "2025-09-23T01:13:07.908956Z",
     "start_time": "2025-09-23T01:13:07.901281Z"
    }
   },
   "cell_type": "code",
   "source": [
    "import random\n",
    "\n",
    "complex2 = [\"구체적으로(ex. '기술적 기여도 평가에서 A/B 테스트 도입이 긍정적인 결과를 가져온 사례에 대해 자세히 설명해 주실 수 있나요?', '문제 해결 능력 강화를 위한 후속 조치 제안 중 '문제 해결 세션'의 구체적인 진행 방식은 어떻게 돼?','프론트엔드팀의 추가 인력 투입이나 교육 실행 시 예상되는 효과나 리스크는 무엇이 있을까?')\", \"아주 짧고 간결하게 5~10글자 내로(ex. '백엔드 팀 업무 알려줘', '임원 승계 문서 찾아줘', '프론트엔드 기술 스택 알려줘봐')\"]\n",
    "\n",
    "def pick_complex2() -> str:\n",
    "    return random.choices(complex2)[0]\n",
    "\n",
    "pick_complex2()"
   ],
   "id": "b8206af01f9d81e1",
   "outputs": [
    {
     "data": {
      "text/plain": [
       "\"구체적으로(ex. '기술적 기여도 평가에서 A/B 테스트 도입이 긍정적인 결과를 가져온 사례에 대해 자세히 설명해 주실 수 있나요?', '문제 해결 능력 강화를 위한 후속 조치 제안 중 '문제 해결 세션'의 구체적인 진행 방식은 어떻게 돼?','프론트엔드팀의 추가 인력 투입이나 교육 실행 시 예상되는 효과나 리스크는 무엇이 있을까?')\""
      ]
     },
     "execution_count": 5,
     "metadata": {},
     "output_type": "execute_result"
    }
   ],
   "execution_count": 5
  },
  {
   "metadata": {
    "ExecuteTime": {
     "end_time": "2025-09-23T01:13:35.809350Z",
     "start_time": "2025-09-23T01:13:35.800684Z"
    }
   },
   "cell_type": "code",
   "source": [
    "\n",
    "def generate_questions_from_document(document_text, random):\n",
    "    # 질문 생성 프롬프트 (각 질문에 번호를 붙여서 생성하도록 요청)\n",
    "    prompt = (f\"이 문서의 내용을 바탕으로 회사 직원이 물어볼 수 있는 구체적인 질문을 최소 1개에서 최대 3개까지 생성해 주세요. \"\n",
    "              f\"질문의 내용은 {random} 작성해주세요.\"\n",
    "              f\"그리고 질문에는 보고서명과 보고서에서 질문하는 파트에 대한 내용이 들어가있어야 합니다.\"\n",
    "              f\"문서에 없는 내용에 대한 질문은 절대 생성하지 마세요.\"\n",
    "              f\"각 질문은 '질문 1: [질문 내용]', '질문 2: [질문 내용]' 형식으로 작성해 주세요. \"\n",
    "              f\"예시: '고객지원팀 팀 성과 보고서에서 콘텐츠 생상량에 대한 KPI 달성 현황은 어떤가요?' \"\n",
    "              f\"문서 내용: {document_text}\")\n",
    "\n",
    "    # OpenAI API 호출\n",
    "    response = client.chat.completions.create(\n",
    "        model=\"gpt-4o-mini\",\n",
    "        messages=[{\"role\": \"user\", \"content\": prompt}],\n",
    "        max_tokens=1500,  # 더 긴 응답을 받을 수 있도록 확장\n",
    "        temperature=0.2  # temperature 설정\n",
    "    )\n",
    "\n",
    "    # 생성된 질문 반환\n",
    "    return response.choices[0].message.content.strip()\n",
    "\n",
    "def process_directory(directory_path, output_jsonl):\n",
    "    # 지정된 폴더 내 모든 파일 순회\n",
    "    for root, dirs, files in os.walk(directory_path):\n",
    "        for file in files:\n",
    "            # 텍스트 파일만 처리\n",
    "            if file.endswith(\".txt\"):\n",
    "                file_path = os.path.join(root, file)\n",
    "                with open(file_path, 'r', encoding='utf-8') as f:\n",
    "                    document_text = f.read()\n",
    "                    # 문서로부터 질문 생성\n",
    "                    random = pick_complex2()\n",
    "                    questions = generate_questions_from_document(document_text, random)\n",
    "\n",
    "                    # '질문 1:', '질문 2:' 형식으로 질문을 정규식으로 추출\n",
    "                    question_list = re.findall(r'질문 \\d+: (.*)', questions)\n",
    "\n",
    "                    # 생성된 질문을 JSONL 형식으로 저장\n",
    "                    with open(output_jsonl, 'a', encoding='utf-8') as jsonl_file:\n",
    "                        for question in question_list:\n",
    "                            # 각 질문을 하나씩 JSONL 파일에 저장\n",
    "                            json.dump({\"question\": question.strip()}, jsonl_file, ensure_ascii=False)\n",
    "                            jsonl_file.write('\\n')\n"
   ],
   "id": "d714719cfc2a2bd8",
   "outputs": [],
   "execution_count": 7
  },
  {
   "cell_type": "code",
   "id": "3902dcc2",
   "metadata": {
    "ExecuteTime": {
     "end_time": "2025-09-23T01:16:48.479185Z",
     "start_time": "2025-09-23T01:16:15.230656Z"
    }
   },
   "source": [
    "# 예시 실행\n",
    "directory_path = \"./COMPANY_DATA/cto\"  # 순회할 폴더 경로\n",
    "output_jsonl = \"company_questions_cto.jsonl\"  # 결과를 저장할 JSONL 파일 경로\n",
    "process_directory(directory_path, output_jsonl)"
   ],
   "outputs": [],
   "execution_count": 12
  },
  {
   "cell_type": "code",
   "id": "1d24cb6e",
   "metadata": {
    "ExecuteTime": {
     "end_time": "2025-09-23T01:17:26.253449Z",
     "start_time": "2025-09-23T01:16:48.495192Z"
    }
   },
   "source": [
    "# 예시 실행\n",
    "directory_path = \"./COMPANY_DATA/backend\"  # 순회할 폴더 경로\n",
    "output_jsonl = \"company_questions_backend.jsonl\"  # 결과를 저장할 JSONL 파일 경로\n",
    "process_directory(directory_path, output_jsonl)"
   ],
   "outputs": [],
   "execution_count": 13
  },
  {
   "cell_type": "code",
   "id": "d1f318aa",
   "metadata": {
    "ExecuteTime": {
     "end_time": "2025-09-23T01:18:05.333268Z",
     "start_time": "2025-09-23T01:17:26.358717Z"
    }
   },
   "source": [
    "# 예시 실행\n",
    "directory_path = \"./COMPANY_DATA/frontend\"  # 순회할 폴더 경로\n",
    "output_jsonl = \"company_questions_frontend.jsonl\"  # 결과를 저장할 JSONL 파일 경로\n",
    "process_directory(directory_path, output_jsonl)"
   ],
   "outputs": [],
   "execution_count": 14
  },
  {
   "cell_type": "code",
   "id": "6d5f4330",
   "metadata": {
    "ExecuteTime": {
     "end_time": "2025-09-23T01:16:13.617971Z",
     "start_time": "2025-09-23T01:15:41.315695Z"
    }
   },
   "source": [
    "# 예시 실행\n",
    "directory_path = \"./COMPANY_DATA/data_ai\"  # 순회할 폴더 경로\n",
    "output_jsonl = \"company_questions_data_ai.jsonl\"  # 결과를 저장할 JSONL 파일 경로\n",
    "process_directory(directory_path, output_jsonl)"
   ],
   "outputs": [],
   "execution_count": 11
  },
  {
   "metadata": {},
   "cell_type": "code",
   "outputs": [],
   "execution_count": null,
   "source": "",
   "id": "aaef6b874d4a7798"
  }
 ],
 "metadata": {
  "kernelspec": {
   "display_name": "ai_basic_env",
   "language": "python",
   "name": "python3"
  },
  "language_info": {
   "codemirror_mode": {
    "name": "ipython",
    "version": 3
   },
   "file_extension": ".py",
   "mimetype": "text/x-python",
   "name": "python",
   "nbconvert_exporter": "python",
   "pygments_lexer": "ipython3",
   "version": "3.12.9"
  }
 },
 "nbformat": 4,
 "nbformat_minor": 5
}
