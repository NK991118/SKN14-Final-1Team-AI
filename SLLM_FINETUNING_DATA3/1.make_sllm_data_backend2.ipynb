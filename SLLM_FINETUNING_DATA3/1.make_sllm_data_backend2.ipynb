{
 "cells": [
  {
   "cell_type": "markdown",
   "id": "111c8c06253fd506",
   "metadata": {},
   "source": [
    "## 초기 system prompt 설정 및 벡터 store 생성"
   ]
  },
  {
   "cell_type": "code",
   "id": "4a1530950a5dfb25",
   "metadata": {
    "ExecuteTime": {
     "end_time": "2025-09-23T01:35:12.122427Z",
     "start_time": "2025-09-23T01:34:52.146803Z"
    }
   },
   "source": [
    "from langchain_community.embeddings import HuggingFaceEmbeddings\n",
    "from random import randint, choice\n",
    "\n",
    "from langchain_core.output_parsers import StrOutputParser\n",
    "from langchain_core.prompts import PromptTemplate\n",
    "from langchain_openai import ChatOpenAI\n",
    "from openai import OpenAI\n",
    "from langchain.vectorstores import Chroma\n",
    "from dotenv import load_dotenv\n",
    "\n",
    "load_dotenv()\n",
    "\n",
    "client = OpenAI()\n",
    "\n",
    "permission = \"backend\"\n",
    "\n",
    "# 벡터 DB 세팅\n",
    "embedding_model = HuggingFaceEmbeddings(model_name=\"BAAI/bge-m3\")\n",
    "vectorstore = Chroma(persist_directory=f\"./chroma_db/{permission}\", embedding_function=embedding_model)"
   ],
   "outputs": [
    {
     "name": "stderr",
     "output_type": "stream",
     "text": [
      "C:\\Users\\playdata\\AppData\\Local\\Temp\\ipykernel_13340\\1795081490.py:18: LangChainDeprecationWarning: The class `HuggingFaceEmbeddings` was deprecated in LangChain 0.2.2 and will be removed in 1.0. An updated version of the class exists in the :class:`~langchain-huggingface package and should be used instead. To use it run `pip install -U :class:`~langchain-huggingface` and import as `from :class:`~langchain_huggingface import HuggingFaceEmbeddings``.\n",
      "  embedding_model = HuggingFaceEmbeddings(model_name=\"BAAI/bge-m3\")\n",
      "C:\\Users\\playdata\\AppData\\Local\\Temp\\ipykernel_13340\\1795081490.py:19: LangChainDeprecationWarning: The class `Chroma` was deprecated in LangChain 0.2.9 and will be removed in 1.0. An updated version of the class exists in the :class:`~langchain-chroma package and should be used instead. To use it run `pip install -U :class:`~langchain-chroma` and import as `from :class:`~langchain_chroma import Chroma``.\n",
      "  vectorstore = Chroma(persist_directory=f\"./chroma_db/{permission}\", embedding_function=embedding_model)\n"
     ]
    }
   ],
   "execution_count": 1
  },
  {
   "cell_type": "markdown",
   "id": "11d07c79608e82fc",
   "metadata": {},
   "source": [
    "## 초기 질문 리스트 가져오기"
   ]
  },
  {
   "cell_type": "code",
   "id": "initial_id",
   "metadata": {
    "collapsed": true,
    "ExecuteTime": {
     "end_time": "2025-09-23T01:35:12.143732Z",
     "start_time": "2025-09-23T01:35:12.122427Z"
    }
   },
   "source": [
    "import json\n",
    "import re\n",
    "from typing import List\n",
    "\n",
    "def load_questions_from_jsonl_minimal(path: str, key: str = \"question\") -> List[str]:\n",
    "    \"\"\"\n",
    "    JSONL 파일에서 각 라인의 `key` 값을 추출.\n",
    "    - 빈 줄/공백 줄 무시\n",
    "    - UTF-8 BOM 대응 (utf-8-sig)\n",
    "    - 맨 앞/뒤 주석(#, //) 라인 무시\n",
    "    - 흔한 실수(마지막 쉼표) 보정 시도\n",
    "    - 파싱 실패 라인은 경고만 출력하고 스킵\n",
    "    \"\"\"\n",
    "    questions = []\n",
    "    comment_pattern = re.compile(r'^\\s*(#|//)')  # 주석 라인 감지\n",
    "\n",
    "    with open(path, \"r\", encoding=\"utf-8-sig\") as f:\n",
    "        for idx, raw in enumerate(f, start=1):\n",
    "            line = raw.strip()\n",
    "            if not line:\n",
    "                continue\n",
    "            if comment_pattern.match(line):\n",
    "                continue\n",
    "\n",
    "            # 흔한 오류 보정: 끝에 콤마로 끝나는 객체를 제거(예: {\"a\":1},)\n",
    "            if line.endswith(\",\"):\n",
    "                line = line[:-1].rstrip()\n",
    "\n",
    "            try:\n",
    "                obj = json.loads(line)\n",
    "            except json.JSONDecodeError as e:\n",
    "                print(f\"[WARN] JSON decode failed at line {idx}: {e}\\n  -> content: {raw[:120]!r}\")\n",
    "                continue\n",
    "\n",
    "            if isinstance(obj, dict):\n",
    "                if key in obj:\n",
    "                    questions.append(obj[key])\n",
    "                else:\n",
    "                    print(f\"[WARN] line {idx}: key '{key}' not found, skipping.\")\n",
    "            else:\n",
    "                print(f\"[WARN] line {idx}: not a JSON object, skipping.\")\n",
    "\n",
    "    return questions\n",
    "\n",
    "initial_questions = load_questions_from_jsonl_minimal(f\"./company_questions_{permission}.jsonl\")\n",
    "initial_questions"
   ],
   "outputs": [
    {
     "data": {
      "text/plain": [
       "['API 서버 기술 스택은?',\n",
       " '데이터베이스 연결 상태 확인 방법은?',\n",
       " '캐시 서버 적중률 모니터링 어떻게 해?',\n",
       " \"'보안/인증 가이드에서 다중 인증(MFA) 도입의 구체적인 이점과 적용 사례에 대해 설명해 주실 수 있나요?'\",\n",
       " \"'정기적인 보안 점검 항목에 포함되어야 할 구체적인 체크리스트는 무엇인지, 그리고 외부 보안 전문가에 의한 감사의 필요성에 대해 논의해 주실 수 있나요?'\",\n",
       " \"'로그 관리 섹션에서 비정상적인 활동을 탐지하기 위한 로그 분석의 구체적인 방법론이나 도구에 대해 설명해 주실 수 있나요?'\",\n",
       " \"에러 핸들링 매뉴얼의 '에러 처리 체크리스트'에서 클라이언트 에러와 서버 에러에 대한 처리 로직 검토 시 주의해야 할 점은 무엇인가요?\",\n",
       " \"에러 핸들링 단계 중 '에러 로그 기록'에서 기록해야 할 상세 정보의 구체적인 예시는 무엇인지 설명해 주실 수 있나요?\",\n",
       " '에러 핸들링 개선 섹션에서 팀 내 교육을 실시할 때 어떤 주제를 중심으로 진행하는 것이 효과적일까요?',\n",
       " \"'배포 환경 점검 방법은?'\",\n",
       " \"'정기 백업 주기는?'\",\n",
       " '롤백 계획은 어떻게 수립하나요?',\n",
       " '배포 후 모니터링 방법은?',\n",
       " \"'데이터 보관 정책에서 중요한 데이터의 최소 보관 기간이 5년으로 설정된 이유와 이 기간이 비즈니스 운영에 미치는 영향에 대해 설명해 주실 수 있나요?'\",\n",
       " \"'데이터 백업 정책의 백업 주기에서 일반 데이터의 주간 백업이 설정된 이유와 이 주기가 데이터 안전성에 미치는 영향은 무엇인지 궁금합니다.'\",\n",
       " \"'데이터 복구 절차에서 매 분기마다 수행하는 복구 테스트의 구체적인 진행 방식과 테스트 결과를 문서화하는 과정에 대해 자세히 설명해 주실 수 있나요?'\",\n",
       " '사고 발생 시 초기 대응 절차는?',\n",
       " '사고 분석 회의 내용은?',\n",
       " \"'기능 A 개발 일정은 어떻게 되나요?'\",\n",
       " \"'리팩토링 계획 우선 순위는?'\",\n",
       " \"'백엔드 - 서비스 아키텍처 문서에서 현재 시스템 아키텍처의 주요 구성 요소와 그 역할에 대해 자세히 설명해 주실 수 있나요?'\",\n",
       " \"'백엔드 - 보안/인증 가이드에서 제안하는 인증 방식의 장단점은 무엇인지 구체적으로 설명해 주실 수 있나요?'\",\n",
       " \"'백엔드 - 에러 핸들링 매뉴얼에서 정의된 에러 코드와 그에 따른 처리 방안에 대해 구체적인 사례를 들어 설명해 주실 수 있나요?'\",\n",
       " '안녕!',\n",
       " '반가워!',\n",
       " '안녕하세요!',\n",
       " '휴식 시간에 할 만한 간단한 게임 있으면 알려줘!',\n",
       " '최근에 화제가 된 뉴스는 뭐가 있을까?',\n",
       " '오늘 날씨 어때?',\n",
       " '내가 가볼 만한 여행지 추천해 줘!',\n",
       " '재밌는 책 읽고 싶은데, 추천할 만한 거 있어?',\n",
       " '요즘 인기 있는 TV 프로그램 있으면 알려줘!',\n",
       " '간단한 요리 레시피 알려줄래?',\n",
       " '주말에 놀러 갈 만한 장소 추천해 줘!',\n",
       " '요즘 핫한 카페나 맛집 정보 있으면 알려줘!']"
      ]
     },
     "execution_count": 2,
     "metadata": {},
     "output_type": "execute_result"
    }
   ],
   "execution_count": 2
  },
  {
   "metadata": {},
   "cell_type": "markdown",
   "source": "### 기본 문서 검색 질문 생성 체인",
   "id": "97cc022fb3e2d248"
  },
  {
   "metadata": {},
   "cell_type": "markdown",
   "source": "",
   "id": "423d6107be6581a5"
  },
  {
   "metadata": {
    "ExecuteTime": {
     "end_time": "2025-09-23T01:35:12.871350Z",
     "start_time": "2025-09-23T01:35:12.859422Z"
    }
   },
   "cell_type": "code",
   "source": [
    "import random\n",
    "\n",
    "complex2 = [\"구체적으로(ex. '기술적 기여도 평가에서 A/B 테스트 도입이 긍정적인 결과를 가져온 사례에 대해 자세히 설명해 주실 수 있나요?', '문제 해결 능력 강화를 위한 후속 조치 제안 중 '문제 해결 세션'의 구체적인 진행 방식은 어떻게 돼?','백엔드팀의 추가 인력 투입이나 교육 실행 시 예상되는 효과나 리스크는 무엇이 있을까?')\", \"아주 짧고 간결하게 5~10글자 내로(ex. '백엔드 팀 업무 알려줘', '업무 인계 문서 찾아줘', '백엔드 팀 기술 스택 알려줘봐')\"]\n",
    "\n",
    "def pick_complex2() -> str:\n",
    "    return random.choices(complex2)[0]\n",
    "\n",
    "pick_complex2()"
   ],
   "id": "9b475c3117a0982d",
   "outputs": [
    {
     "data": {
      "text/plain": [
       "\"구체적으로(ex. '기술적 기여도 평가에서 A/B 테스트 도입이 긍정적인 결과를 가져온 사례에 대해 자세히 설명해 주실 수 있나요?', '문제 해결 능력 강화를 위한 후속 조치 제안 중 '문제 해결 세션'의 구체적인 진행 방식은 어떻게 돼?','백엔드팀의 추가 인력 투입이나 교육 실행 시 예상되는 효과나 리스크는 무엇이 있을까?')\""
      ]
     },
     "execution_count": 3,
     "metadata": {},
     "output_type": "execute_result"
    }
   ],
   "execution_count": 3
  },
  {
   "metadata": {
    "ExecuteTime": {
     "end_time": "2025-09-23T01:35:12.894506Z",
     "start_time": "2025-09-23T01:35:12.885296Z"
    }
   },
   "cell_type": "code",
   "source": [
    "def question_chain_setting():\n",
    "    llm = ChatOpenAI(model=\"gpt-4.1\", temperature=0)\n",
    "\n",
    "    basic_prompt = PromptTemplate.from_template(\n",
    "        \"\"\"\n",
    "            다음 제공되는 대화 내역을 기반으로 다음에 나올 수 있는 사용자가 궁금해할 만한 후속 질문 하나를 사용자 입장에서 질문하세요.\n",
    "            이전에 나왔던 질문은 최대한 만들지 말고, 연결된 질문으로 조금이라도 다른 질문을 만들어주세요.\n",
    "            일상적인 질문이 아니라, 이전 대화 내역에 나온 문서 관련 질문과 연결점이 있는 질문이거나 백엔드팀 관련 문서에 대한 질문을 만드세요.\n",
    "            질문은 반드시 {complex} 만들어야 합니다.\n",
    "\n",
    "            대화 내역: {history}\n",
    "\n",
    "            절대로 AI입장에서의 질문을 만들지 마세요.\n",
    "            ex) 추가적인 질문이 있으시면 언제든지 말씀해 주시기 바랍니다.\n",
    "            ex) 추가적으로 궁금한 사항이 있으신가요?\n",
    "            ex) 데이터 접근 권한 관리 방침에 대해 더 궁금한 사항이 있으면 말씀해 주세요.\n",
    "            ex) 안녕하세요. 다른 궁금한 점이 있으신가요?\n",
    "            ex) 안녕하십니까? 도움이 필요하신 부분이 있으신가요?\n",
    "            ex) ~~ 예시는 다음과 같습니다.\n",
    "\n",
    "\n",
    "            답변형태는 다음과 같이 해주세요.\n",
    "            ex) 빌드 결과물의 확인 방법이나 배포 과정에 대해 알고 싶어.\n",
    "            ex) 문서화 시 유의사항 알려줄 수 있나요?\n",
    "            ex) 빌드/배포 가이드의 '6. 문서화' 파트에서 문서화해야 할 내용은 뭐야?\n",
    "            ex) 모델 개발 & 성능 보고서에서 사용된 프로그래밍 언어가 뭐야?\n",
    "        \"\"\"\n",
    "    )\n",
    "\n",
    "    question_chain = basic_prompt | llm | StrOutputParser()\n",
    "\n",
    "    return question_chain"
   ],
   "id": "77c1eaac6b197340",
   "outputs": [],
   "execution_count": 4
  },
  {
   "metadata": {},
   "cell_type": "markdown",
   "source": "",
   "id": "f0415e761e012f6b"
  },
  {
   "metadata": {},
   "cell_type": "markdown",
   "source": "## 일상 질문 의도 다양화 로직",
   "id": "e76f9819a142545b"
  },
  {
   "metadata": {
    "ExecuteTime": {
     "end_time": "2025-09-23T01:35:12.924584Z",
     "start_time": "2025-09-23T01:35:12.913715Z"
    }
   },
   "cell_type": "code",
   "source": [
    "import random\n",
    "\n",
    "INTENTS = [\n",
    "    \"인사/감상\", \"영상/음악\", \"운동/스트레칭\", \"생산성/타이머\",\n",
    "    \"생활 팁/정리\", \"UX(배경/위젯)\", \"퀴즈/잡학\", \"날씨/우산 판단\",\n",
    "    \"음식\"  # <-- 과다 시 일단 제거하거나 가중치↓\n",
    "]\n",
    "\n",
    "def pick_intent() -> str:\n",
    "    # 최근 과다 의도에 역가중치 (음식이 많다면 자동으로 다른 의도 선택)\n",
    "    return random.choices(INTENTS)[0]\n",
    "\n",
    "pick_intent()"
   ],
   "id": "b6225ebaa1814db3",
   "outputs": [
    {
     "data": {
      "text/plain": [
       "'생활 팁/정리'"
      ]
     },
     "execution_count": 5,
     "metadata": {},
     "output_type": "execute_result"
    }
   ],
   "execution_count": 5
  },
  {
   "metadata": {},
   "cell_type": "markdown",
   "source": "### 일상 질문 복잡성 다양화 로직",
   "id": "4695f6b104dfb1a"
  },
  {
   "metadata": {
    "ExecuteTime": {
     "end_time": "2025-09-23T01:35:12.944049Z",
     "start_time": "2025-09-23T01:35:12.935590Z"
    }
   },
   "cell_type": "code",
   "source": [
    "complex = [\"구체적으로(ex. '오늘 간단하게 할 수 있는 취미가 뭐가 있을까?', '여름에 어울리는 시원한 음료 추천해줘.','마음이 편안해지는 방법')\", \"아주 짧고 간결하게 5~10글자 내로(ex. '안녕', '오늘 뭐하지', '오늘 운동 추천좀')\"]\n",
    "\n",
    "def pick_complex() -> str:\n",
    "    return random.choices(complex)[0]\n",
    "\n",
    "pick_complex()"
   ],
   "id": "4b181fecc0629e6a",
   "outputs": [
    {
     "data": {
      "text/plain": [
       "\"아주 짧고 간결하게 5~10글자 내로(ex. '안녕', '오늘 뭐하지', '오늘 운동 추천좀')\""
      ]
     },
     "execution_count": 6,
     "metadata": {},
     "output_type": "execute_result"
    }
   ],
   "execution_count": 6
  },
  {
   "metadata": {},
   "cell_type": "markdown",
   "source": "### 일상 질문 생성 체인",
   "id": "506890eacfe3d978"
  },
  {
   "metadata": {
    "ExecuteTime": {
     "end_time": "2025-09-23T01:35:12.960651Z",
     "start_time": "2025-09-23T01:35:12.953308Z"
    }
   },
   "cell_type": "code",
   "source": [
    "def simple_chain_setting():\n",
    "    # 표준 말투 유지 + 중복 표현 회피 보조\n",
    "    llm = ChatOpenAI(\n",
    "        model=\"gpt-4o-mini\",\n",
    "        temperature=0.3,\n",
    "        presence_penalty=0.6,   # 이미 썼던 표현 회피 유도\n",
    "        frequency_penalty=0.3,  # 반복 억제\n",
    "    )\n",
    "\n",
    "    basic_prompt = PromptTemplate.from_template(\n",
    "        \"\"\"\n",
    "다음은 '사내 직원이 챗봇(무생물)에게' 던질 **캐주얼 인사/잡담/가벼운 추천형** 1문장을 생성하는 작업입니다.\n",
    "\n",
    "[최우선 지시(원래 규칙 포함·강화)]\n",
    "- 문서/보고서/회사자료/회사정보/설정/보안/권한/기능 설명/도움말/사용법 관련 질문·요청 금지\n",
    "- 문서에 대해 물어보는 문장 절대 금지 (예: \"문서 보여줘\", \"보고서 찾아줘\", \"사내 자료 요약해줘\" 등)\n",
    "- 사람(동료/개인)에게 묻는 질문 금지\n",
    "  - 개인 경험/감정/계획 확인: \"주말에 뭐 할 계획이신가요?\", \"오늘 뭐했어?\", \"기분 어때?\", \"어제 어땠어?\"\n",
    "  - 2인칭 친소/경어형 질문: \"~했어?\", \"~하셨나요?\", \"~계신가요?\"\n",
    "  - 상호작용 요구(사람 기준): \"같이 ~할래요?\", \"우리 ~할까요?\"\n",
    "- 의도는 반드시 다음에 맞추세요: {intent}\n",
    "- 질문은 {complex} 만들어야 합니다.\n",
    "\n",
    "[허용 의도: 컴퓨터에게 할 법한 표현만]\n",
    "- 인사·가벼운 감상: \"안녕!\", \"오늘 날씨가 꿀꿀하네..\", \"날씨 좋네!\"\n",
    "- 가벼운 추천/요청: \"오늘 저녁 뭐 먹을까?\", \"퇴근 후 뭐 할까?\", \"주말에 뭐 하면 좋을까?\"\n",
    "\n",
    "[중복/유사도 회피]\n",
    "- 아래 {history}에 포함된 과거 문장/질문과 **동일하거나 매우 유사한 의미/어휘/어순**을 피하세요.\n",
    "- 특히 다음을 지키세요:\n",
    "  1) 과거 문장과 5-그램 연속 일치가 2회 이상 발생하지 않도록 표현을 바꾸세요.\n",
    "  2) 핵심 어휘의 최소 40% 이상을 **동의어/대체 표현**으로 교체하세요.\n",
    "  3) 문장 종결(어미)와 지시 동사를 바꿔 **표현 다양성**을 확보하세요. (예: \"~추천해줘\" 반복 금지)\n",
    "\n",
    "[출력 형식]\n",
    "- 한국어, **오직 1문장**만 출력 (설명/따옴표/불릿/접두어 금지)\n",
    "- 사람 대상 과도한 공손말 금지(\"~계신가요?\" 등)\n",
    "- 가능하면 컴퓨터 지시형 동사 사용: \"~알려줘\", \"~정해줘\", \"~골라줘\", \"~하나 뽑아줘\", \"~판단해줘\", \"~틀어줘\", \"~켜줘\" 등\n",
    "- **예시 문장들의 어휘/어순을 그대로 복사하지 마세요.**\n",
    "\n",
    "[대화내용(중복 회피 기준)]\n",
    "{history}\n",
    "\n",
    "[참고 예시(그대로 쓰지 말 것)]\n",
    "- 오늘 점심 뭐 먹을지 하나만 추천해줘.\n",
    "- 주말에 가볍게 할 만한 취미 하나 알려줘.\n",
    "- 오늘은 좀 피곤하네, 기분 전환용 음악 장르 하나 골라줘.\n",
    "- 퇴근 후 간단히 볼만한 영화 한 편만 추천해줘.\n",
    "- 요즘 날씨 오락가락하네, 우산 챙길지 판단 좀 도와줘.\n",
    "\n",
    "[원치 않는 출력(절대 금지)]\n",
    "- 요즘 날씨가 정말 좋네요, 주말에 뭘 할 계획이신가요?\n",
    "- 오늘 뭐했어?\n",
    "- 어제는 어디 다녀오셨어요?\n",
    "- 주말에 같이 등산 갈래요?\n",
    "\n",
    "위 모든 규칙을 지켜 **1문장만** 출력하세요.\n",
    "        \"\"\"\n",
    "    )\n",
    "\n",
    "    simple_chain = basic_prompt | llm | StrOutputParser()\n",
    "    return simple_chain\n"
   ],
   "id": "9830923d4bce8e67",
   "outputs": [],
   "execution_count": 7
  },
  {
   "metadata": {},
   "cell_type": "markdown",
   "source": "### 검색 쿼리 정제 체인",
   "id": "6a169bbd47a5cb4b"
  },
  {
   "metadata": {
    "ExecuteTime": {
     "end_time": "2025-09-23T01:35:12.978707Z",
     "start_time": "2025-09-23T01:35:12.972644Z"
    }
   },
   "cell_type": "code",
   "source": [
    "def query_setting_for_internal_documents():\n",
    "    llm = ChatOpenAI(\n",
    "        model=\"gpt-4o-mini\",\n",
    "        temperature=0,\n",
    "        model_kwargs={\"response_format\": {\"type\": \"json_object\"}},\n",
    "    )\n",
    "\n",
    "    query_prompt = PromptTemplate.from_template(\n",
    "        \"\"\"\n",
    "       유저의 채팅 히스토리가 주어집니다.\n",
    "\n",
    "       **중요**: 이전 대화 맥락을 반드시 고려해서, 사내 문서 검색에 적합한 쿼리를 생성하세요.\n",
    "       - 현재 대화가 이전 대화와 연관되어 있다면, 이전 맥락을 반영하여 문서 검색을 위한 구체적인 쿼리를 만들어주세요.\n",
    "\n",
    "       **복잡한 질문을 어떻게 정제하고 분리할지에 대한 예시**:\n",
    "       1. 사용자가 \"API 서버의 설정과 관련된 문서와, 데이터베이스 연결 방법에 대해 알고 싶어.\"라고 물었을 경우:\n",
    "          - **정제된 쿼리**: \"API 서버 설정 방법\"과 \"데이터베이스 연결 방법\"\n",
    "          - 이처럼 복잡한 질문을 각각 분리하여 **개별적인 검색 쿼리**를 생성해야 합니다.\n",
    "\n",
    "       2. 사용자가 \"사내 보상 정책과 휴가 정책을 한 번에 찾아볼 수 있을까?\"라고 물었을 경우:\n",
    "          - **정제된 쿼리**: \"사내 보상 정책\"과 \"사내 휴가 정책\"\n",
    "          - 질문이 하나지만 여러 부분으로 나눠서 **별개의 쿼리**를 생성합니다.\n",
    "\n",
    "       3. 사용자가 \"다음 프로젝트의 개발 환경과 관련된 문서, 그리고 테스팅 방법에 대해 알려줘.\"라고 물었을 경우:\n",
    "          - **정제된 쿼리**: \"다음 프로젝트의 개발 환경\"과 \"테스팅 방법\"\n",
    "          - 복잡한 주제일 경우, 각 주제별로 **검색 쿼리**를 명확하게 분리합니다.\n",
    "\n",
    "        4. 사용자가 이전 대화에서 \"사내 휴가 정책이 어떻게 돼?\"라고 물어보고 나서 답변을 받고 나서, \"좀 더 자세히 알려줘. 그리고 인사 정책도 알려줘.\"라고 물었을 경우:\n",
    "          - **정제된 쿼리**: \"사내 휴가 정책에 대한 자세한 내용\"과 \"사내 인사 정책\"\n",
    "          - 이전 대화 내역과 이번 질문의 맥락을 고려하여 **검색 쿼리**를 생성합니다.\n",
    "\n",
    "       **주의사항**:\n",
    "       - 이전 대화에서 이미 답변이 나온 질문에 대해서는 다시 질문을 만들지 마세요.\n",
    "       - 쿼리는 1개 또는 여러 개일 수 있습니다.\n",
    "\n",
    "       대화 히스토리: {history}\n",
    "\n",
    "       JSON 반환 형태:\n",
    "       {{\"queries\": [\"사내 문서 검색 쿼리 1\", \"사내 문서 검색 쿼리 2\", ...]}}\n",
    "       \"\"\"\n",
    "    )\n",
    "\n",
    "    # 이후 이 부분에 실제로 대화 히스토리를 기반으로 쿼리들을 생성하는 로직이 들어갈 것입니다.\n",
    "    query_chain = query_prompt | llm | StrOutputParser()\n",
    "\n",
    "    return query_chain"
   ],
   "id": "2828d656992e30a9",
   "outputs": [],
   "execution_count": 8
  },
  {
   "metadata": {
    "ExecuteTime": {
     "end_time": "2025-09-23T01:35:13.300661Z",
     "start_time": "2025-09-23T01:35:12.990424Z"
    }
   },
   "cell_type": "code",
   "source": [
    "question_chain = question_chain_setting()\n",
    "query_chain = query_setting_for_internal_documents()\n",
    "simple_chain = simple_chain_setting()"
   ],
   "id": "5f2884b84dece916",
   "outputs": [],
   "execution_count": 9
  },
  {
   "metadata": {},
   "cell_type": "markdown",
   "source": "### 기존 학습 데이터에 있는 초기 일상 질문 리스트",
   "id": "821d9da6733f6c10"
  },
  {
   "metadata": {
    "ExecuteTime": {
     "end_time": "2025-09-23T01:35:13.327914Z",
     "start_time": "2025-09-23T01:35:13.312184Z"
    }
   },
   "cell_type": "code",
   "source": [
    "hello_list = ['안녕!', '반가워!', '안녕하세요!', '오늘 날씨가 꿀꿀하네..', '반가워용', '반갑습니다',\n",
    " '안녕', '반가워', '안녕하세요', '반갑습니다', '날씨 좋네!', '요즘 날씨가 정말 변덕스럽네.',\n",
    " '오늘 점심 메뉴 추천해줘.', '오늘 저녁 뭐 먹을까?', '오늘 퇴근 후 뭐 할까?', '주말에 뭐 할지 고민 중이야.',\n",
    " '오늘은 좀 피곤하네.', '이번 주 주말에 뭐 할까?', '오늘 뭐 할지 모르겠어.', '요즘 뭐 재미있는 거 있어?',\n",
    " '주말에 영화 볼까?', '오늘 기분이 좀 이상해.', '이따가 뭐 먹을까?']\n",
    "\n",
    "hello_list2 = ['오늘 기분이 어떤지 궁금해!',\n",
    " '요즘 인기 있는 음악 추천해 줄래?',\n",
    " '좋은 영화 있으면 알려줘!',\n",
    " '요즘 트렌드인 패션 아이템 뭐가 있을까?',\n",
    " '사무실에서 듣기 좋은 팟캐스트 추천해 줄 수 있어',\n",
    " '휴식 시간에 할 만한 간단한 게임 있으면 알려줘!',\n",
    " '최근에 화제가 된 뉴스는 뭐가 있을까?',\n",
    " '오늘 날씨 어때?',\n",
    " '내가 가볼 만한 여행지 추천해 줘!',\n",
    " '재밌는 책 읽고 싶은데, 추천할 만한 거 있어?',\n",
    " '요즘 인기 있는 TV 프로그램 있으면 알려줘!',\n",
    " '간단한 요리 레시피 알려줄래?',\n",
    " '주말에 놀러 갈 만한 장소 추천해 줘!',\n",
    " '요즘 핫한 카페나 맛집 정보 있으면 알려줘!',\n",
    " '기분 전환할 만한 좋은 방법이 있을까?',\n",
    " '새로운 취미를 시작해 보고 싶은데 뭐가 좋을까?',\n",
    " '사무실에 어울리는 음악 플레이리스트 추천해 줘!',\n",
    " '감동적인 영화 있으면 한 편 추천해 줘!',\n",
    " '인기 있는 앱이나 웹사이트 알려줄래?',\n",
    " '오늘의 긍정적인 메시지 하나 던져 줄래?',\n",
    " '가벼운 스트레칭 방법 추천해 줘!',\n",
    " '재밌는 유튜브 채널 알려줄 수 있어?',\n",
    " '감상할 만한 미술 전시회 있으면 추천해 줘!',\n",
    " '건강한 스낵 아이디어가 있다면 알려줘!',\n",
    " '요즘 사람들 사이에서 인기 있는 활동이 뭐지?',\n",
    " '오늘 날씨 어때?',\n",
    " '요즘 핫한 영화 추천해줄 수 있어?',\n",
    " '좋아하는 음악 있으면 알려줘!',\n",
    " '최근에 나온 책 중에 읽어볼 만한 거 있어?',\n",
    " '어떤 유튜브 채널 재미있어?',\n",
    " '오늘 기분 좋게 해줄 만한 명언 하나 알려줘!',\n",
    " '나에게 어울리는 디저트 추천해줘!',\n",
    " '주말에 할 만한 활동이 있을까?',\n",
    " '요즘 인기 있는 드라마 뭐야?',\n",
    " '나랑 잘 맞는 취미가 뭐라고 생각해?',\n",
    " '스트레스 해소하는 방법 몇 가지 알려줘!',\n",
    " '재미있는 팟캐스트 추천해줄래?',\n",
    " '다음에 가볼 만한 여행지 있으면 알려줘!',\n",
    " '내가 좋아할 만한 게임 뭐 있을까?',\n",
    " '나에게 맞는 카페 스타일은 뭐일까?',\n",
    " '요즘 트렌디한 패션 아이템 추천해줘!',\n",
    " '분위기 좋은 음악 추천해줄 수 있어?',\n",
    " '나한테 어울리는 색상은 뭐라고 생각해?',\n",
    " '새로운 레시피 하나 추천해줘!',\n",
    " '가끔 찾고 싶은 동기부여 영상 있어?',\n",
    " '앞으로 주목할 만한 기술 트렌드 뭐가 있을까?',\n",
    " '요즘 유행하는 운동 방법 알려줘!',\n",
    " '내가 좋아할 만한 SNS 계정 있으면 추천해줘!',\n",
    " '나에게 어울릴 것 같은 차 한 잔 추천해줘!',\n",
    " '여름에 듣기 좋은 음악 리스트 만들어줄래?',\n",
    " '오늘 기분 좋은 음악 추천해줄 수 있어?',\n",
    " '최근에 인기 있는 영화 어떤 게 있을까?',\n",
    " '요즘 핫한 책 제목 좀 알려줘!',\n",
    " '주말에 하기 좋은 취미 활동은 뭐가 있을까?',\n",
    " '새로운 팟캐스트 추천해줄 수 있어?',\n",
    " '가볍게 읽기 좋은 웹툰 뭐가 있을까?',\n",
    " '요즘 유행하는 요리법 알고 있어?',\n",
    " '최근에 나온 게임 중에 추천할 만한 게 있을까?',\n",
    " '오늘의 날씨에 딱 맞는 음악이 있을까?',\n",
    " '스트레스 풀기 좋은 영화 한 편 추천해줘!',\n",
    " '출퇴근길에 듣기 좋은 음악 리스트 좀 만들어줄래?',\n",
    " '여름에 가기 좋은 여행지 추천해줄 수 있어?  ',\n",
    " '기분 전환에 좋은 활동 뭐가 있을까?  ',\n",
    " '맛있는 디저트 레시피 알고 있어?  ',\n",
    " '친구한테 선물하기 좋은 아이템 추천해줘!  ',\n",
    " '요즘 사람들이 많이 하는 운동 뭐가 있을까?  ',\n",
    " '겨울에 추천하는 따뜻한 음료는 뭐가 있을까?  ',\n",
    " '새로운 앱 중에 유용한 거 있어?  ',\n",
    " '주말에 볼 만한 드라마 추천해줄 수 있어?  ',\n",
    " '간단하게 만들 수 있는 스낵 레시피 알고 있어?  ',\n",
    " '특별한 날에 어울리는 배경 음악 추천해줘!  ',\n",
    " '근사한 카페 정보 좀 알려줄 수 있어?  ',\n",
    " '요즘 인싸템으로 뭐가 유행하고 있어?  ',\n",
    " '간단한 자기계발 팁 알려줄 수 있어?  ',\n",
    " '혼자 여행하기 좋은 장소 추천해줘!',\n",
    " '오늘 기분이 어떤지 알려줄 수 있어?  ',\n",
    " '요즘 인기 있는 영화 추천해 줄래?  ',\n",
    " '좋은 책이 있으면 소개해 줘.  ',\n",
    " '최신 음악 트렌드 좀 알려줄래?  ',\n",
    " '요즘 날씨가 어떤지 궁금해.  ',\n",
    " '가벼운 운동 추천해 줄 수 있어?  ',\n",
    " '주말에 할 만한 액티비티가 뭐가 있을까?  ',\n",
    " '스트레스 푸는 방법 좀 알려줘.  ',\n",
    " '취미로 하기 좋은 것 추천해 줄 수 있어?  ',\n",
    " '간단한 요리 레시피 하나 알려줘.  ',\n",
    " '최근에 인기 있는 앱 있으면 추천해 줘.  ',\n",
    " '여행지로 가기 좋은 곳이 어디일까?  ',\n",
    " '친구한테 선물하기 좋은 아이템 뭐가 있을까?  ',\n",
    " '이 계절에 가볼 만한 카페 있어?  ',\n",
    " '요즘 유행하는 패션 트렌드가 뭐야?  ',\n",
    " '마음에 드는 음악 장르 추천해줘.  ',\n",
    " '편안하게 쉴 수 있는 장소가 있을까?  ',\n",
    " '영화관에서 볼 만한 좋은 영화가 뭐야?  ',\n",
    " '효과적인 공부 방법 좀 알려줄 수 있어?  ',\n",
    " '최근에 본 뉴스 중 재미있는 거 있어?  ',\n",
    " '간단하게 즐길 수 있는 게임 추천해 줘.  ',\n",
    " '긴장을 푸는 방법 뭐가 있을까?  ',\n",
    " '자기계발에 좋은 강좌 추천해 줄래?  ',\n",
    " '나만의 루틴 만들기에 대한 팁이 있을까?  ',\n",
    " '일상에서 행복을 느끼게 해주는 작은 것들이 뭐가 있을까?',\n",
    " '오늘 날씨 어때?  ',\n",
    " '요즘 인기 있는 영화 추천해줘.  ',\n",
    " '좋은 음악 플레이리스트 있으면 공유해줘.  ',\n",
    " '최근 트렌드 중에서 뭐가 제일 흥미로워 보여?  ',\n",
    " '주말에 가볼 만한 장소 추천해줄래?  ',\n",
    " '재미있는 팟캐스트 있으면 알려줘.  ',\n",
    " '요즘 읽기 좋은 책 있으면 추천해줘.  ',\n",
    " '차 한 잔 할 만한 카페 추천해줘.  ',\n",
    " '요즘 즐겨 보는 TV 프로그램은 뭐야?  ',\n",
    " '좋은 요리 레시피 있으면 알려줘.  ',\n",
    " '이런 날씨에 어울리는 음악은 뭐야?  ',\n",
    " '웹툰 중에서 추천할 만한 게 있어?  ',\n",
    " '최근에 인기 있는 게임 뭐가 있는지 알고 싶어.  ',\n",
    " '좋은 운동 방법이나 루틴이 있으면 알려줘.  ',\n",
    " '기분 전환에 좋은 활동 추천해줘.  ',\n",
    " '친구에게 선물할 만한 아이템 있을까?  ',\n",
    " '오늘 하루 마무리하는 좋은 방법이 있을까?  ',\n",
    " '제철 음식 중에 추천할 만한 것이 뭐야?  ',\n",
    " '기분이 좋을 때 듣기 좋은 음악은 뭐야?  ',\n",
    " '이색적인 여행지 추천해줄 수 있어?  ',\n",
    " '재미있는 일화나 유머가 있으면 들려줘.  ',\n",
    " '나만의 루틴을 만드는 데 도움이 될 만한 조언이 있을까?  ',\n",
    " '간단하게 할 수 있는 취미가 뭐가 있을까?  ',\n",
    " '여름에 어울리는 시원한 음료 추천해줘.  ',\n",
    " '마음이 편안해지는 방법이 있을까?',\n",
    " '오늘 날씨가 좋은데, 어떤 기분이 드는지 궁금해!  ',\n",
    " '요즘 가장 인기 있는 영화가 뭐인지 알고 있어?  ',\n",
    " '내가 한번 읽어볼 만한 좋은 책 추천해줄래?  ',\n",
    " '이 음악 어떤 느낌인지 한번 들어보고 싶어!  ',\n",
    " '여행 가기 좋은 곳이 어디인지 알려줄 수 있어?  ',\n",
    " '최근에 유행하는 패션 아이템이 뭐인지 궁금해!  ',\n",
    " '지금 듣고 있는 노래의 분위기가 어때?  ',\n",
    " '좋은 카페가 있으면 추천해줄 수 있어?  ',\n",
    " '요즘 핫한 레스토랑은 어디인지 알고 있어?  ',\n",
    " '요즘 인기 있는 게임 좀 알려줄래?  ',\n",
    " '내가 할 만한 취미 활동이 뭐가 있을까?  ',\n",
    " '최근에 재밌게 본 유튜브 채널이 뭐야?  ',\n",
    " '요즘 뜨고 있는 TV 프로그램이 있다면 뭐지?  ',\n",
    " '다양한 커피 종류 중 어떤 게 맛있을까?  ',\n",
    " '네가 추천하는 간식은 뭐야?  ',\n",
    " '최근에 본 전시회 중에서 추천할 만한 게 있을까?  ',\n",
    " '자주 가는 운동이 있으면 알려줄 수 있어?  ',\n",
    " '유명한 디저트 카페가 있다면 추천해줘!  ',\n",
    " '좋은 음악 추천해주면 듣고 싶어!  ',\n",
    " '주말에 할 만한 재미있는 활동이 있을까?  ',\n",
    " '요즘 보고 싶은 애니메이션이 있다면 뭐지?  ',\n",
    " '감명 깊었던 다큐멘터리 추천해줄 수 있어?  ',\n",
    " '혼자서 볼 수 있는 시리즈가 있다면 뭐가 좋을까?  ',\n",
    " '최근에 유행하는 패션 스타일이 있다면 알려줘!  ',\n",
    " '가볍게 할 수 있는 게임 중에서 추천할 만한 게 있을까?']\n",
    "\n",
    "hello_list3 = []\n",
    "\n",
    "for hello in hello_list2:\n",
    "    hello = hello.strip()\n",
    "    hello_list3.append(hello)\n",
    "\n",
    "\n",
    "hello_list = hello_list3 + hello_list\n",
    "hello_list\n"
   ],
   "id": "a6333f8ff575f555",
   "outputs": [
    {
     "data": {
      "text/plain": [
       "['오늘 기분이 어떤지 궁금해!',\n",
       " '요즘 인기 있는 음악 추천해 줄래?',\n",
       " '좋은 영화 있으면 알려줘!',\n",
       " '요즘 트렌드인 패션 아이템 뭐가 있을까?',\n",
       " '사무실에서 듣기 좋은 팟캐스트 추천해 줄 수 있어',\n",
       " '휴식 시간에 할 만한 간단한 게임 있으면 알려줘!',\n",
       " '최근에 화제가 된 뉴스는 뭐가 있을까?',\n",
       " '오늘 날씨 어때?',\n",
       " '내가 가볼 만한 여행지 추천해 줘!',\n",
       " '재밌는 책 읽고 싶은데, 추천할 만한 거 있어?',\n",
       " '요즘 인기 있는 TV 프로그램 있으면 알려줘!',\n",
       " '간단한 요리 레시피 알려줄래?',\n",
       " '주말에 놀러 갈 만한 장소 추천해 줘!',\n",
       " '요즘 핫한 카페나 맛집 정보 있으면 알려줘!',\n",
       " '기분 전환할 만한 좋은 방법이 있을까?',\n",
       " '새로운 취미를 시작해 보고 싶은데 뭐가 좋을까?',\n",
       " '사무실에 어울리는 음악 플레이리스트 추천해 줘!',\n",
       " '감동적인 영화 있으면 한 편 추천해 줘!',\n",
       " '인기 있는 앱이나 웹사이트 알려줄래?',\n",
       " '오늘의 긍정적인 메시지 하나 던져 줄래?',\n",
       " '가벼운 스트레칭 방법 추천해 줘!',\n",
       " '재밌는 유튜브 채널 알려줄 수 있어?',\n",
       " '감상할 만한 미술 전시회 있으면 추천해 줘!',\n",
       " '건강한 스낵 아이디어가 있다면 알려줘!',\n",
       " '요즘 사람들 사이에서 인기 있는 활동이 뭐지?',\n",
       " '오늘 날씨 어때?',\n",
       " '요즘 핫한 영화 추천해줄 수 있어?',\n",
       " '좋아하는 음악 있으면 알려줘!',\n",
       " '최근에 나온 책 중에 읽어볼 만한 거 있어?',\n",
       " '어떤 유튜브 채널 재미있어?',\n",
       " '오늘 기분 좋게 해줄 만한 명언 하나 알려줘!',\n",
       " '나에게 어울리는 디저트 추천해줘!',\n",
       " '주말에 할 만한 활동이 있을까?',\n",
       " '요즘 인기 있는 드라마 뭐야?',\n",
       " '나랑 잘 맞는 취미가 뭐라고 생각해?',\n",
       " '스트레스 해소하는 방법 몇 가지 알려줘!',\n",
       " '재미있는 팟캐스트 추천해줄래?',\n",
       " '다음에 가볼 만한 여행지 있으면 알려줘!',\n",
       " '내가 좋아할 만한 게임 뭐 있을까?',\n",
       " '나에게 맞는 카페 스타일은 뭐일까?',\n",
       " '요즘 트렌디한 패션 아이템 추천해줘!',\n",
       " '분위기 좋은 음악 추천해줄 수 있어?',\n",
       " '나한테 어울리는 색상은 뭐라고 생각해?',\n",
       " '새로운 레시피 하나 추천해줘!',\n",
       " '가끔 찾고 싶은 동기부여 영상 있어?',\n",
       " '앞으로 주목할 만한 기술 트렌드 뭐가 있을까?',\n",
       " '요즘 유행하는 운동 방법 알려줘!',\n",
       " '내가 좋아할 만한 SNS 계정 있으면 추천해줘!',\n",
       " '나에게 어울릴 것 같은 차 한 잔 추천해줘!',\n",
       " '여름에 듣기 좋은 음악 리스트 만들어줄래?',\n",
       " '오늘 기분 좋은 음악 추천해줄 수 있어?',\n",
       " '최근에 인기 있는 영화 어떤 게 있을까?',\n",
       " '요즘 핫한 책 제목 좀 알려줘!',\n",
       " '주말에 하기 좋은 취미 활동은 뭐가 있을까?',\n",
       " '새로운 팟캐스트 추천해줄 수 있어?',\n",
       " '가볍게 읽기 좋은 웹툰 뭐가 있을까?',\n",
       " '요즘 유행하는 요리법 알고 있어?',\n",
       " '최근에 나온 게임 중에 추천할 만한 게 있을까?',\n",
       " '오늘의 날씨에 딱 맞는 음악이 있을까?',\n",
       " '스트레스 풀기 좋은 영화 한 편 추천해줘!',\n",
       " '출퇴근길에 듣기 좋은 음악 리스트 좀 만들어줄래?',\n",
       " '여름에 가기 좋은 여행지 추천해줄 수 있어?',\n",
       " '기분 전환에 좋은 활동 뭐가 있을까?',\n",
       " '맛있는 디저트 레시피 알고 있어?',\n",
       " '친구한테 선물하기 좋은 아이템 추천해줘!',\n",
       " '요즘 사람들이 많이 하는 운동 뭐가 있을까?',\n",
       " '겨울에 추천하는 따뜻한 음료는 뭐가 있을까?',\n",
       " '새로운 앱 중에 유용한 거 있어?',\n",
       " '주말에 볼 만한 드라마 추천해줄 수 있어?',\n",
       " '간단하게 만들 수 있는 스낵 레시피 알고 있어?',\n",
       " '특별한 날에 어울리는 배경 음악 추천해줘!',\n",
       " '근사한 카페 정보 좀 알려줄 수 있어?',\n",
       " '요즘 인싸템으로 뭐가 유행하고 있어?',\n",
       " '간단한 자기계발 팁 알려줄 수 있어?',\n",
       " '혼자 여행하기 좋은 장소 추천해줘!',\n",
       " '오늘 기분이 어떤지 알려줄 수 있어?',\n",
       " '요즘 인기 있는 영화 추천해 줄래?',\n",
       " '좋은 책이 있으면 소개해 줘.',\n",
       " '최신 음악 트렌드 좀 알려줄래?',\n",
       " '요즘 날씨가 어떤지 궁금해.',\n",
       " '가벼운 운동 추천해 줄 수 있어?',\n",
       " '주말에 할 만한 액티비티가 뭐가 있을까?',\n",
       " '스트레스 푸는 방법 좀 알려줘.',\n",
       " '취미로 하기 좋은 것 추천해 줄 수 있어?',\n",
       " '간단한 요리 레시피 하나 알려줘.',\n",
       " '최근에 인기 있는 앱 있으면 추천해 줘.',\n",
       " '여행지로 가기 좋은 곳이 어디일까?',\n",
       " '친구한테 선물하기 좋은 아이템 뭐가 있을까?',\n",
       " '이 계절에 가볼 만한 카페 있어?',\n",
       " '요즘 유행하는 패션 트렌드가 뭐야?',\n",
       " '마음에 드는 음악 장르 추천해줘.',\n",
       " '편안하게 쉴 수 있는 장소가 있을까?',\n",
       " '영화관에서 볼 만한 좋은 영화가 뭐야?',\n",
       " '효과적인 공부 방법 좀 알려줄 수 있어?',\n",
       " '최근에 본 뉴스 중 재미있는 거 있어?',\n",
       " '간단하게 즐길 수 있는 게임 추천해 줘.',\n",
       " '긴장을 푸는 방법 뭐가 있을까?',\n",
       " '자기계발에 좋은 강좌 추천해 줄래?',\n",
       " '나만의 루틴 만들기에 대한 팁이 있을까?',\n",
       " '일상에서 행복을 느끼게 해주는 작은 것들이 뭐가 있을까?',\n",
       " '오늘 날씨 어때?',\n",
       " '요즘 인기 있는 영화 추천해줘.',\n",
       " '좋은 음악 플레이리스트 있으면 공유해줘.',\n",
       " '최근 트렌드 중에서 뭐가 제일 흥미로워 보여?',\n",
       " '주말에 가볼 만한 장소 추천해줄래?',\n",
       " '재미있는 팟캐스트 있으면 알려줘.',\n",
       " '요즘 읽기 좋은 책 있으면 추천해줘.',\n",
       " '차 한 잔 할 만한 카페 추천해줘.',\n",
       " '요즘 즐겨 보는 TV 프로그램은 뭐야?',\n",
       " '좋은 요리 레시피 있으면 알려줘.',\n",
       " '이런 날씨에 어울리는 음악은 뭐야?',\n",
       " '웹툰 중에서 추천할 만한 게 있어?',\n",
       " '최근에 인기 있는 게임 뭐가 있는지 알고 싶어.',\n",
       " '좋은 운동 방법이나 루틴이 있으면 알려줘.',\n",
       " '기분 전환에 좋은 활동 추천해줘.',\n",
       " '친구에게 선물할 만한 아이템 있을까?',\n",
       " '오늘 하루 마무리하는 좋은 방법이 있을까?',\n",
       " '제철 음식 중에 추천할 만한 것이 뭐야?',\n",
       " '기분이 좋을 때 듣기 좋은 음악은 뭐야?',\n",
       " '이색적인 여행지 추천해줄 수 있어?',\n",
       " '재미있는 일화나 유머가 있으면 들려줘.',\n",
       " '나만의 루틴을 만드는 데 도움이 될 만한 조언이 있을까?',\n",
       " '간단하게 할 수 있는 취미가 뭐가 있을까?',\n",
       " '여름에 어울리는 시원한 음료 추천해줘.',\n",
       " '마음이 편안해지는 방법이 있을까?',\n",
       " '오늘 날씨가 좋은데, 어떤 기분이 드는지 궁금해!',\n",
       " '요즘 가장 인기 있는 영화가 뭐인지 알고 있어?',\n",
       " '내가 한번 읽어볼 만한 좋은 책 추천해줄래?',\n",
       " '이 음악 어떤 느낌인지 한번 들어보고 싶어!',\n",
       " '여행 가기 좋은 곳이 어디인지 알려줄 수 있어?',\n",
       " '최근에 유행하는 패션 아이템이 뭐인지 궁금해!',\n",
       " '지금 듣고 있는 노래의 분위기가 어때?',\n",
       " '좋은 카페가 있으면 추천해줄 수 있어?',\n",
       " '요즘 핫한 레스토랑은 어디인지 알고 있어?',\n",
       " '요즘 인기 있는 게임 좀 알려줄래?',\n",
       " '내가 할 만한 취미 활동이 뭐가 있을까?',\n",
       " '최근에 재밌게 본 유튜브 채널이 뭐야?',\n",
       " '요즘 뜨고 있는 TV 프로그램이 있다면 뭐지?',\n",
       " '다양한 커피 종류 중 어떤 게 맛있을까?',\n",
       " '네가 추천하는 간식은 뭐야?',\n",
       " '최근에 본 전시회 중에서 추천할 만한 게 있을까?',\n",
       " '자주 가는 운동이 있으면 알려줄 수 있어?',\n",
       " '유명한 디저트 카페가 있다면 추천해줘!',\n",
       " '좋은 음악 추천해주면 듣고 싶어!',\n",
       " '주말에 할 만한 재미있는 활동이 있을까?',\n",
       " '요즘 보고 싶은 애니메이션이 있다면 뭐지?',\n",
       " '감명 깊었던 다큐멘터리 추천해줄 수 있어?',\n",
       " '혼자서 볼 수 있는 시리즈가 있다면 뭐가 좋을까?',\n",
       " '최근에 유행하는 패션 스타일이 있다면 알려줘!',\n",
       " '가볍게 할 수 있는 게임 중에서 추천할 만한 게 있을까?',\n",
       " '안녕!',\n",
       " '반가워!',\n",
       " '안녕하세요!',\n",
       " '오늘 날씨가 꿀꿀하네..',\n",
       " '반가워용',\n",
       " '반갑습니다',\n",
       " '안녕',\n",
       " '반가워',\n",
       " '안녕하세요',\n",
       " '반갑습니다',\n",
       " '날씨 좋네!',\n",
       " '요즘 날씨가 정말 변덕스럽네.',\n",
       " '오늘 점심 메뉴 추천해줘.',\n",
       " '오늘 저녁 뭐 먹을까?',\n",
       " '오늘 퇴근 후 뭐 할까?',\n",
       " '주말에 뭐 할지 고민 중이야.',\n",
       " '오늘은 좀 피곤하네.',\n",
       " '이번 주 주말에 뭐 할까?',\n",
       " '오늘 뭐 할지 모르겠어.',\n",
       " '요즘 뭐 재미있는 거 있어?',\n",
       " '주말에 영화 볼까?',\n",
       " '오늘 기분이 좀 이상해.',\n",
       " '이따가 뭐 먹을까?']"
      ]
     },
     "execution_count": 10,
     "metadata": {},
     "output_type": "execute_result"
    }
   ],
   "execution_count": 10
  },
  {
   "metadata": {},
   "cell_type": "markdown",
   "source": "### 학습 데이터 생성함수",
   "id": "612bf01919a33cf1"
  },
  {
   "cell_type": "code",
   "id": "8a3d8ed45acbadab",
   "metadata": {
    "ExecuteTime": {
     "end_time": "2025-09-23T01:35:13.361196Z",
     "start_time": "2025-09-23T01:35:13.343880Z"
    }
   },
   "source": [
    "import copy\n",
    "\n",
    "tool_prompt = \"\"\"\n",
    "사용자는 backend(백엔드)팀에 속한 팀원입니다.\n",
    "당신은 <tools></tools> 안에 있는 tool을 호출하여 문서를 검색할 수 있습니다.\n",
    "일상적인 질문(ex: 안녕, 안녕하세요, 반가워 등)의 경우, tool 호출 없이 바로 답변하세요.\n",
    "\n",
    "# Tools\n",
    "\n",
    "You may call one or more functions to assist with the user query.\n",
    "\n",
    "You are provided with function signatures within <tools></tools> XML tags:\n",
    "<tools>\n",
    "{\"type\": \"function\", \"function\": {\"name\": \"backend_search\", \"description\": \"사내 문서 검색을 위한 도구입니다. 대화 내역을 바탕으로 사용자가 원하는 문서를 찾고, 관련된 문서를 반환합니다.\", \"parameters\": {\"type\": \"object\", \"properties\": {\"keyword\": {\"type\": \"string\", \"description\": \"검색할 문서 키워드 (예: \\'코드노바 API 서버 설정\\')\"}}, \"required\": [\"keyword\"], \"additionalProperties\": false}}}\n",
    "</tools>\n",
    "\n",
    "For each function call, return a json object with function name and arguments within <tool_call></tool_call> XML tags:\n",
    "<tool_call>\n",
    "{\"name\": <function-name>, \"arguments\": <args-json-object>}'\n",
    "</tool_call>\n",
    "\"\"\"\n",
    "\n",
    "\n",
    "system_message = f\"\"\"\n",
    "당신은 사내 지식을 활용하여 사용자의 질문에 정확하고 유용한 답변을 제공하는 코드노바의 사내 문서 AI 챗봇입니다.\n",
    "\n",
    "{tool_prompt}\n",
    "\n",
    "그리고 다음 지침을 반드시 따르세요:\n",
    "1. 기존의 말투는 잊고 정중하고 사무적인 어조로 답변해야 하세요.\n",
    "2. 대화 내역의 말투도 참고하지 말고 무조건 정중하고 사무적인 어조로 답변하세요\n",
    "3. 사실에 기반한 정보를 사용하세요.\n",
    "4. 사용자의 질문에 대한 답변을 문서에서 찾을 수 없을 경우, \"잘 모르겠습니다\"라고 솔직하게 말하세요.\n",
    "5. 사용자가 문서에 대한 질문이 아닌, \"안녕\"과 같은 일상적인 질문을 한다면 해당 내용에 대해서 적절히 답변해주세요.\n",
    "6. 답변이 너무 길지 않게 하세요.\n",
    "7. 사용자의 말투와 상관 없이, 반드시 정중하고 사무적인 어조로 답변해야 합니다.\n",
    "\"\"\"\n",
    "\n",
    "SYSTEM_PROMPT = {\n",
    "    \"role\": \"system\",\n",
    "    \"content\": system_message\n",
    "}\n",
    "\n",
    "def parse_queries(resp_text: str, fallback: str) -> list[str]:\n",
    "    try:\n",
    "        obj = json.loads(resp_text)\n",
    "    except json.JSONDecodeError:\n",
    "        return [fallback]\n",
    "    q = obj.get(\"queries\", fallback)\n",
    "    if isinstance(q, str):\n",
    "        q = [q]\n",
    "    elif isinstance(q, list):\n",
    "        q = [s.strip() for s in q if isinstance(s, str) and s.strip()]\n",
    "    else:\n",
    "        q = [fallback]\n",
    "    return q or [fallback]\n",
    "\n",
    "def generate_one_chat_sample(initial_q: str, max_turns: int = 5):\n",
    "    messages = [SYSTEM_PROMPT]\n",
    "    current_q = initial_q\n",
    "\n",
    "    query = True\n",
    "\n",
    "    for turn in range(randint(2, max_turns + 1)):\n",
    "        # (1) User 질문 추가\n",
    "        messages.append({\"role\": \"user\", \"content\": current_q})\n",
    "        print(current_q)\n",
    "\n",
    "        if current_q not in hello_list and query:\n",
    "            response = query_chain.invoke({\"history\": messages})\n",
    "            questions = parse_queries(response, fallback=current_q)\n",
    "\n",
    "            tool_calls = []\n",
    "            tool_responses = []\n",
    "            for question in questions:\n",
    "                tool_calls.append(f\"<tool_call>{{\\\"name\\\": \\\"backend_search\\\", \\\"arguments\\\": {{\\\"keyword\\\": \\\"{question}\\\"}}}}</tool_call>\")\n",
    "\n",
    "                # (2) 문서 검색 (vectorstore에서)\n",
    "                k = randint(4,8)\n",
    "                docs = vectorstore.similarity_search(question, k=k)\n",
    "                if docs:\n",
    "                    ref_text = \"\\n\".join([f\"{doc.page_content} [[ref{idx+1}]]\" for idx, doc in enumerate(docs)])\n",
    "                else:\n",
    "                    ref_text = \"검색 결과가 없습니다.\"\n",
    "                ref_text = f\"검색 결과:\\n-----\\n{ref_text}\"\n",
    "                tool_responses.append(f\"<tool_response>{ref_text}</tool_response>\")\n",
    "            tool_call = \"\\n\".join(tool_calls).strip()\n",
    "            tool_response = \"\\n\".join(tool_responses).strip()\n",
    "\n",
    "            if tool_call:\n",
    "                messages.append({\"role\": \"assistant\", \"content\": tool_call})\n",
    "            if tool_response:\n",
    "                messages.append({\"role\": \"user\", \"content\": tool_response})\n",
    "\n",
    "        messages_copy = copy.deepcopy(messages)\n",
    "        messages_copy[0]['content'] += '8. tool call 메세지는 tool call만 담겨 있어야 하고, 실제 답변에서는 tool call을 하지 않습니다. 당신이 tool call을 하지 않아도 됩니다.'\n",
    "        response = client.chat.completions.create(\n",
    "            model=\"gpt-4.1-mini\",\n",
    "            messages=messages_copy,\n",
    "            temperature=0.2\n",
    "        )\n",
    "        assistant_reply = (response.choices[0].message.content or \"\").strip()\n",
    "        # [Fix-4] 비어 있으면 기본 문구로 대체(선택)\n",
    "        if not assistant_reply:\n",
    "            assistant_reply = \"요청하신 내용과 관련된 정보를 찾지 못했습니다. 다른 키워드로 다시 말씀해 주시면 확인하겠습니다.\"\n",
    "        messages.append({\"role\": \"assistant\", \"content\": assistant_reply})\n",
    "\n",
    "        # 다음 질문 생성 여부 랜덤 (5턴이 max면 4턴 미만일때만 질문 생성)\n",
    "        if turn < max_turns - 1 and choice([True, False]):\n",
    "            if choice([True, False]):\n",
    "                complex1 = pick_complex2()\n",
    "                followup = question_chain.invoke({\n",
    "                \"history\": messages,\"complex\": complex1\n",
    "            })\n",
    "                current_q = followup\n",
    "                query = True\n",
    "            else:\n",
    "                intent = pick_intent()\n",
    "                complex2 = pick_complex()\n",
    "                followup = simple_chain.invoke({\"history\": messages, \"intent\": intent, \"complex\": complex2})\n",
    "                current_q = followup\n",
    "                query = False\n",
    "        else:\n",
    "            break\n",
    "\n",
    "    return {\"messages\": messages}"
   ],
   "outputs": [],
   "execution_count": 11
  },
  {
   "cell_type": "code",
   "id": "f0ef55c136165569",
   "metadata": {
    "ExecuteTime": {
     "end_time": "2025-09-23T01:39:47.705021Z",
     "start_time": "2025-09-23T01:35:13.387604Z"
    }
   },
   "source": [
    "import time\n",
    "from tqdm import tqdm\n",
    "\n",
    "train_dataset = []\n",
    "for q in tqdm(initial_questions):\n",
    "    time.sleep(1)  # 1초 대기\n",
    "    sample = generate_one_chat_sample(q, max_turns=4)\n",
    "    train_dataset.append(sample)\n",
    "\n",
    "# 저장\n",
    "with open(f\"qwen3_company_train_dataset_{permission}3.json\", \"w\", encoding=\"utf-8\") as f:\n",
    "    json.dump(train_dataset, f, ensure_ascii=False, indent=2)\n"
   ],
   "outputs": [
    {
     "name": "stderr",
     "output_type": "stream",
     "text": [
      "  0%|          | 0/35 [00:00<?, ?it/s]"
     ]
    },
    {
     "name": "stdout",
     "output_type": "stream",
     "text": [
      "API 서버 기술 스택은?\n"
     ]
    },
    {
     "name": "stderr",
     "output_type": "stream",
     "text": [
      "  3%|▎         | 1/35 [00:03<02:01,  3.58s/it]"
     ]
    },
    {
     "name": "stdout",
     "output_type": "stream",
     "text": [
      "데이터베이스 연결 상태 확인 방법은?\n"
     ]
    },
    {
     "name": "stderr",
     "output_type": "stream",
     "text": [
      "  6%|▌         | 2/35 [00:07<02:07,  3.85s/it]"
     ]
    },
    {
     "name": "stdout",
     "output_type": "stream",
     "text": [
      "캐시 서버 적중률 모니터링 어떻게 해?\n"
     ]
    },
    {
     "name": "stderr",
     "output_type": "stream",
     "text": [
      "  9%|▊         | 3/35 [00:13<02:30,  4.72s/it]"
     ]
    },
    {
     "name": "stdout",
     "output_type": "stream",
     "text": [
      "'보안/인증 가이드에서 다중 인증(MFA) 도입의 구체적인 이점과 적용 사례에 대해 설명해 주실 수 있나요?'\n",
      "API 인증 토큰 발급 절차 알려줘.\n",
      "오늘 저녁 메뉴 하나 정해줘.\n"
     ]
    },
    {
     "name": "stderr",
     "output_type": "stream",
     "text": [
      " 11%|█▏        | 4/35 [00:27<04:18,  8.32s/it]"
     ]
    },
    {
     "name": "stdout",
     "output_type": "stream",
     "text": [
      "'정기적인 보안 점검 항목에 포함되어야 할 구체적인 체크리스트는 무엇인지, 그리고 외부 보안 전문가에 의한 감사의 필요성에 대해 논의해 주실 수 있나요?'\n",
      "보안 사고 대응 매뉴얼을 주기적으로 검토할 때, 최신 보안 트렌드와 기술을 반영하는 구체적인 절차나 기준이 문서에 명시되어 있는지 알려줄 수 있어?\n",
      "오늘 저녁에 간단하게 먹을 수 있는 메뉴 하나 추천해줘.\n"
     ]
    },
    {
     "name": "stderr",
     "output_type": "stream",
     "text": [
      " 14%|█▍        | 5/35 [00:43<05:40, 11.34s/it]"
     ]
    },
    {
     "name": "stdout",
     "output_type": "stream",
     "text": [
      "'로그 관리 섹션에서 비정상적인 활동을 탐지하기 위한 로그 분석의 구체적인 방법론이나 도구에 대해 설명해 주실 수 있나요?'\n",
      "ELK Stack을 활용한 로그 분석 시, 비정상적인 활동을 자동으로 탐지하기 위한 구체적인 설정 예시나 룰 정의 방법이 문서에 안내되어 있는지 궁금해.\n"
     ]
    },
    {
     "name": "stderr",
     "output_type": "stream",
     "text": [
      " 17%|█▋        | 6/35 [00:58<05:58, 12.36s/it]"
     ]
    },
    {
     "name": "stdout",
     "output_type": "stream",
     "text": [
      "에러 핸들링 매뉴얼의 '에러 처리 체크리스트'에서 클라이언트 에러와 서버 에러에 대한 처리 로직 검토 시 주의해야 할 점은 무엇인가요?\n"
     ]
    },
    {
     "name": "stderr",
     "output_type": "stream",
     "text": [
      " 20%|██        | 7/35 [01:07<05:22, 11.50s/it]"
     ]
    },
    {
     "name": "stdout",
     "output_type": "stream",
     "text": [
      "에러 핸들링 단계 중 '에러 로그 기록'에서 기록해야 할 상세 정보의 구체적인 예시는 무엇인지 설명해 주실 수 있나요?\n"
     ]
    },
    {
     "name": "stderr",
     "output_type": "stream",
     "text": [
      " 23%|██▎       | 8/35 [01:11<04:04,  9.06s/it]"
     ]
    },
    {
     "name": "stdout",
     "output_type": "stream",
     "text": [
      "에러 핸들링 개선 섹션에서 팀 내 교육을 실시할 때 어떤 주제를 중심으로 진행하는 것이 효과적일까요?\n"
     ]
    },
    {
     "name": "stderr",
     "output_type": "stream",
     "text": [
      " 26%|██▌       | 9/35 [01:17<03:26,  7.94s/it]"
     ]
    },
    {
     "name": "stdout",
     "output_type": "stream",
     "text": [
      "'배포 환경 점검 방법은?'\n",
      "오늘 저녁 메뉴 하나 정해줘.\n"
     ]
    },
    {
     "name": "stderr",
     "output_type": "stream",
     "text": [
      " 29%|██▊       | 10/35 [01:26<03:25,  8.23s/it]"
     ]
    },
    {
     "name": "stdout",
     "output_type": "stream",
     "text": [
      "'정기 백업 주기는?'\n",
      "오늘 저녁에 어울리는 간단한 샐러드 하나 추천해줘.\n"
     ]
    },
    {
     "name": "stderr",
     "output_type": "stream",
     "text": [
      " 31%|███▏      | 11/35 [01:33<03:07,  7.82s/it]"
     ]
    },
    {
     "name": "stdout",
     "output_type": "stream",
     "text": [
      "롤백 계획은 어떻게 수립하나요?\n"
     ]
    },
    {
     "name": "stderr",
     "output_type": "stream",
     "text": [
      " 34%|███▍      | 12/35 [01:37<02:38,  6.88s/it]"
     ]
    },
    {
     "name": "stdout",
     "output_type": "stream",
     "text": [
      "배포 후 모니터링 방법은?\n"
     ]
    },
    {
     "name": "stderr",
     "output_type": "stream",
     "text": [
      " 37%|███▋      | 13/35 [01:42<02:19,  6.33s/it]"
     ]
    },
    {
     "name": "stdout",
     "output_type": "stream",
     "text": [
      "'데이터 보관 정책에서 중요한 데이터의 최소 보관 기간이 5년으로 설정된 이유와 이 기간이 비즈니스 운영에 미치는 영향에 대해 설명해 주실 수 있나요?'\n",
      "운동할 만한 스트레칭 동작 하나 추천해줘.\n"
     ]
    },
    {
     "name": "stderr",
     "output_type": "stream",
     "text": [
      " 40%|████      | 14/35 [01:54<02:44,  7.83s/it]"
     ]
    },
    {
     "name": "stdout",
     "output_type": "stream",
     "text": [
      "'데이터 백업 정책의 백업 주기에서 일반 데이터의 주간 백업이 설정된 이유와 이 주기가 데이터 안전성에 미치는 영향은 무엇인지 궁금합니다.'\n"
     ]
    },
    {
     "name": "stderr",
     "output_type": "stream",
     "text": [
      " 43%|████▎     | 15/35 [01:59<02:23,  7.17s/it]"
     ]
    },
    {
     "name": "stdout",
     "output_type": "stream",
     "text": [
      "'데이터 복구 절차에서 매 분기마다 수행하는 복구 테스트의 구체적인 진행 방식과 테스트 결과를 문서화하는 과정에 대해 자세히 설명해 주실 수 있나요?'\n"
     ]
    },
    {
     "name": "stderr",
     "output_type": "stream",
     "text": [
      " 46%|████▌     | 16/35 [02:05<02:09,  6.79s/it]"
     ]
    },
    {
     "name": "stdout",
     "output_type": "stream",
     "text": [
      "사고 발생 시 초기 대응 절차는?\n"
     ]
    },
    {
     "name": "stderr",
     "output_type": "stream",
     "text": [
      " 49%|████▊     | 17/35 [02:10<01:51,  6.18s/it]"
     ]
    },
    {
     "name": "stdout",
     "output_type": "stream",
     "text": [
      "사고 분석 회의 내용은?\n",
      "오늘 저녁에 간단하게 먹을 수 있는 샐러드 하나 추천해줘.\n"
     ]
    },
    {
     "name": "stderr",
     "output_type": "stream",
     "text": [
      " 51%|█████▏    | 18/35 [02:16<01:46,  6.27s/it]"
     ]
    },
    {
     "name": "stdout",
     "output_type": "stream",
     "text": [
      "'기능 A 개발 일정은 어떻게 되나요?'\n"
     ]
    },
    {
     "name": "stderr",
     "output_type": "stream",
     "text": [
      " 54%|█████▍    | 19/35 [02:21<01:30,  5.68s/it]"
     ]
    },
    {
     "name": "stdout",
     "output_type": "stream",
     "text": [
      "'리팩토링 계획 우선 순위는?'\n",
      "오늘 날씨가 흐리네, 우산 챙길지 결정해줘.\n"
     ]
    },
    {
     "name": "stderr",
     "output_type": "stream",
     "text": [
      " 57%|█████▋    | 20/35 [02:27<01:27,  5.84s/it]"
     ]
    },
    {
     "name": "stdout",
     "output_type": "stream",
     "text": [
      "'백엔드 - 서비스 아키텍처 문서에서 현재 시스템 아키텍처의 주요 구성 요소와 그 역할에 대해 자세히 설명해 주실 수 있나요?'\n"
     ]
    },
    {
     "name": "stderr",
     "output_type": "stream",
     "text": [
      " 60%|██████    | 21/35 [02:33<01:21,  5.84s/it]"
     ]
    },
    {
     "name": "stdout",
     "output_type": "stream",
     "text": [
      "'백엔드 - 보안/인증 가이드에서 제안하는 인증 방식의 장단점은 무엇인지 구체적으로 설명해 주실 수 있나요?'\n"
     ]
    },
    {
     "name": "stderr",
     "output_type": "stream",
     "text": [
      " 63%|██████▎   | 22/35 [02:39<01:16,  5.86s/it]"
     ]
    },
    {
     "name": "stdout",
     "output_type": "stream",
     "text": [
      "'백엔드 - 에러 핸들링 매뉴얼에서 정의된 에러 코드와 그에 따른 처리 방안에 대해 구체적인 사례를 들어 설명해 주실 수 있나요?'\n"
     ]
    },
    {
     "name": "stderr",
     "output_type": "stream",
     "text": [
      " 66%|██████▌   | 23/35 [02:46<01:14,  6.20s/it]"
     ]
    },
    {
     "name": "stdout",
     "output_type": "stream",
     "text": [
      "안녕!\n",
      "오늘 운동할 만한 거 하나 추천해줘.\n"
     ]
    },
    {
     "name": "stderr",
     "output_type": "stream",
     "text": [
      " 69%|██████▊   | 24/35 [02:50<01:00,  5.52s/it]"
     ]
    },
    {
     "name": "stdout",
     "output_type": "stream",
     "text": [
      "반가워!\n"
     ]
    },
    {
     "name": "stderr",
     "output_type": "stream",
     "text": [
      " 71%|███████▏  | 25/35 [02:52<00:44,  4.45s/it]"
     ]
    },
    {
     "name": "stdout",
     "output_type": "stream",
     "text": [
      "안녕하세요!\n",
      "백엔드팀의 코드 리뷰 프로세스에 대한 구체적인 절차나 기준이 문서화되어 있다면 알려줄 수 있어?\n"
     ]
    },
    {
     "name": "stderr",
     "output_type": "stream",
     "text": [
      " 74%|███████▍  | 26/35 [02:59<00:47,  5.27s/it]"
     ]
    },
    {
     "name": "stdout",
     "output_type": "stream",
     "text": [
      "휴식 시간에 할 만한 간단한 게임 있으면 알려줘!\n",
      "오늘 저녁 메뉴 하나 정해줘!\n"
     ]
    },
    {
     "name": "stderr",
     "output_type": "stream",
     "text": [
      " 77%|███████▋  | 27/35 [03:04<00:41,  5.20s/it]"
     ]
    },
    {
     "name": "stdout",
     "output_type": "stream",
     "text": [
      "최근에 화제가 된 뉴스는 뭐가 있을까?\n",
      "백엔드팀 최근 회의록 있어?\n",
      "기능 A 요구사항 문서 어디 있어?\n"
     ]
    },
    {
     "name": "stderr",
     "output_type": "stream",
     "text": [
      " 80%|████████  | 28/35 [03:15<00:49,  7.06s/it]"
     ]
    },
    {
     "name": "stdout",
     "output_type": "stream",
     "text": [
      "오늘 날씨 어때?\n",
      "백엔드팀에서 사용하는 서버 모니터링 도구나 관련 문서가 있다면, 구체적으로 어떤 항목들을 중점적으로 모니터링하고 있는지 알려줄 수 있어?\n",
      "오늘 저녁 메뉴로 간단한 샐러드 하나 추천해줘.\n"
     ]
    },
    {
     "name": "stderr",
     "output_type": "stream",
     "text": [
      " 83%|████████▎ | 29/35 [03:26<00:48,  8.07s/it]"
     ]
    },
    {
     "name": "stdout",
     "output_type": "stream",
     "text": [
      "내가 가볼 만한 여행지 추천해 줘!\n",
      "백엔드팀에서 사용하는 코드 리뷰 프로세스에 대한 구체적인 절차나 기준이 문서화되어 있다면 알려줄 수 있어?\n",
      "오늘 비가 올 것 같은데, 우산 챙길지 판단해줘.\n",
      "오늘 날씨가 변덕스럽네, 우산 가져갈지 결정해줘.\n"
     ]
    },
    {
     "name": "stderr",
     "output_type": "stream",
     "text": [
      " 86%|████████▌ | 30/35 [03:38<00:47,  9.49s/it]"
     ]
    },
    {
     "name": "stdout",
     "output_type": "stream",
     "text": [
      "재밌는 책 읽고 싶은데, 추천할 만한 거 있어?\n",
      "백엔드팀에서 사용하는 주요 기술 스택이나 프레임워크에 대한 문서가 있다면 알려줄 수 있어?\n",
      "Prometheus, Grafana, ELK 스택을 활용한 모니터링 및 로깅 설정 방법이나 운영 시 주의사항에 대해 자세히 설명된 문서가 있을까?\n",
      "오늘 저녁에 어떤 간단한 요리를 해볼지 추천해줘.\n"
     ]
    },
    {
     "name": "stderr",
     "output_type": "stream",
     "text": [
      " 89%|████████▊ | 31/35 [03:58<00:50, 12.61s/it]"
     ]
    },
    {
     "name": "stdout",
     "output_type": "stream",
     "text": [
      "요즘 인기 있는 TV 프로그램 있으면 알려줘!\n",
      "백엔드팀 조직도 문서 있어?\n"
     ]
    },
    {
     "name": "stderr",
     "output_type": "stream",
     "text": [
      " 91%|█████████▏| 32/35 [04:05<00:32, 10.86s/it]"
     ]
    },
    {
     "name": "stdout",
     "output_type": "stream",
     "text": [
      "간단한 요리 레시피 알려줄래?\n",
      "오늘 날씨가 변덕스럽네, 우산 챙길지 결정해줘.\n",
      "오늘 저녁에 간단하게 만들 수 있는 요리 하나 추천해줘.\n"
     ]
    },
    {
     "name": "stderr",
     "output_type": "stream",
     "text": [
      " 94%|█████████▍| 33/35 [04:12<00:19,  9.62s/it]"
     ]
    },
    {
     "name": "stdout",
     "output_type": "stream",
     "text": [
      "주말에 놀러 갈 만한 장소 추천해 줘!\n",
      "오늘 저녁 메뉴 하나 정해줘!\n"
     ]
    },
    {
     "name": "stderr",
     "output_type": "stream",
     "text": [
      " 97%|█████████▋| 34/35 [04:17<00:08,  8.16s/it]"
     ]
    },
    {
     "name": "stdout",
     "output_type": "stream",
     "text": [
      "요즘 핫한 카페나 맛집 정보 있으면 알려줘!\n",
      "오늘 저녁 메뉴로 간단하게 만들 수 있는 샐러드 하나 추천해줘.\n",
      "백엔드팀의 기술 문서 중에서 신규 팀원이 빠르게 온보딩할 수 있도록 정리된 가이드가 있다면, 그 주요 내용이나 체크리스트를 알려줄 수 있을까?\n"
     ]
    },
    {
     "name": "stderr",
     "output_type": "stream",
     "text": [
      "100%|██████████| 35/35 [04:34<00:00,  7.84s/it]\n"
     ]
    }
   ],
   "execution_count": 12
  },
  {
   "metadata": {
    "ExecuteTime": {
     "end_time": "2025-09-23T01:39:47.738914Z",
     "start_time": "2025-09-23T01:39:47.734061Z"
    }
   },
   "cell_type": "code",
   "source": "",
   "id": "cfa24860e6438ca3",
   "outputs": [],
   "execution_count": null
  },
  {
   "metadata": {
    "ExecuteTime": {
     "end_time": "2025-09-23T01:39:47.756917Z",
     "start_time": "2025-09-23T01:39:47.752865Z"
    }
   },
   "cell_type": "code",
   "source": "",
   "id": "a433f15b7ff7884c",
   "outputs": [],
   "execution_count": null
  },
  {
   "metadata": {},
   "cell_type": "code",
   "outputs": [],
   "execution_count": null,
   "source": "",
   "id": "af947b62f899895a"
  }
 ],
 "metadata": {
  "kernelspec": {
   "display_name": "ai_basic_env",
   "language": "python",
   "name": "python3"
  },
  "language_info": {
   "codemirror_mode": {
    "name": "ipython",
    "version": 3
   },
   "file_extension": ".py",
   "mimetype": "text/x-python",
   "name": "python",
   "nbconvert_exporter": "python",
   "pygments_lexer": "ipython3",
   "version": "3.12.9"
  }
 },
 "nbformat": 4,
 "nbformat_minor": 5
}
