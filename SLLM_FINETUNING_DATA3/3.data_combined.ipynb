{
 "cells": [
  {
   "metadata": {
    "ExecuteTime": {
     "end_time": "2025-09-23T01:44:55.110940Z",
     "start_time": "2025-09-23T01:44:55.030506Z"
    }
   },
   "cell_type": "code",
   "source": [
    "import json\n",
    "\n",
    "# 합칠 파일 목록\n",
    "files = [\n",
    "    \"qwen3_company_train_dataset_frontend3.json\",\n",
    "    \"qwen3_company_train_dataset_backend3.json\",\n",
    "    \"qwen3_company_train_dataset_data_ai3.json\",\n",
    "    \"qwen3_company_train_dataset_cto3.json\",\n",
    "    \"qwen3_company_train_dataset_frontend_informal3.json\",\n",
    "    \"qwen3_company_train_dataset_backend_informal3.json\",\n",
    "    \"qwen3_company_train_dataset_data_ai_informal3.json\",\n",
    "    \"qwen3_company_train_dataset_cto_informal3.json\",\n",
    "]\n",
    "\n",
    "output_file = \"qwen3_company_train_dataset_combined.json\"\n",
    "\n",
    "combined_data = []\n",
    "\n",
    "# 파일들을 순회하면서 데이터 로드 & 합치기\n",
    "for file in files:\n",
    "    with open(file, \"r\", encoding=\"utf-8\") as f:\n",
    "        data = json.load(f)\n",
    "        # 리스트라고 가정하고 합치기\n",
    "        combined_data.extend(data)\n",
    "\n",
    "\n",
    "# 합친 데이터 저장\n",
    "with open(output_file, \"w\", encoding=\"utf-8\") as f:\n",
    "    json.dump(combined_data, f, ensure_ascii=False, indent=4)\n",
    "\n",
    "print(f\"{len(files)}개 파일이 성공적으로 합쳐져 {output_file}에 저장되었습니다.\")\n"
   ],
   "id": "9ccef3e17204798c",
   "outputs": [
    {
     "name": "stdout",
     "output_type": "stream",
     "text": [
      "8개 파일이 성공적으로 합쳐져 qwen3_company_train_dataset_combined.json에 저장되었습니다.\n"
     ]
    }
   ],
   "execution_count": 1
  },
  {
   "metadata": {
    "ExecuteTime": {
     "end_time": "2025-09-23T01:44:55.692116Z",
     "start_time": "2025-09-23T01:44:55.686002Z"
    }
   },
   "cell_type": "code",
   "source": "print(len(combined_data))",
   "id": "a8811056dbe8aac8",
   "outputs": [
    {
     "name": "stdout",
     "output_type": "stream",
     "text": [
      "286\n"
     ]
    }
   ],
   "execution_count": 2
  },
  {
   "metadata": {},
   "cell_type": "code",
   "outputs": [],
   "execution_count": null,
   "source": "",
   "id": "b8fbcf7b673b866"
  }
 ],
 "metadata": {
  "kernelspec": {
   "name": "python3",
   "language": "python",
   "display_name": "Python 3 (ipykernel)"
  }
 },
 "nbformat": 5,
 "nbformat_minor": 9
}
