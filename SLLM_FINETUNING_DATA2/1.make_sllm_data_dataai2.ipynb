{
 "cells": [
  {
   "cell_type": "markdown",
   "id": "111c8c06253fd506",
   "metadata": {},
   "source": [
    "## 초기 system prompt 설정 및 벡터 store 생성"
   ]
  },
  {
   "metadata": {
    "ExecuteTime": {
     "end_time": "2025-09-18T04:30:48.663920Z",
     "start_time": "2025-09-18T04:30:44.917122Z"
    }
   },
   "cell_type": "code",
   "source": "!pip install langchain_community",
   "id": "2a3a7c2407ed9116",
   "outputs": [
    {
     "name": "stdout",
     "output_type": "stream",
     "text": [
      "Requirement already satisfied: langchain_community in c:\\users\\miny0\\anaconda3\\envs\\ai_basic_env\\lib\\site-packages (0.3.29)\n",
      "Requirement already satisfied: langchain-core<2.0.0,>=0.3.75 in c:\\users\\miny0\\anaconda3\\envs\\ai_basic_env\\lib\\site-packages (from langchain_community) (0.3.76)\n",
      "Requirement already satisfied: langchain<2.0.0,>=0.3.27 in c:\\users\\miny0\\anaconda3\\envs\\ai_basic_env\\lib\\site-packages (from langchain_community) (0.3.27)\n",
      "Requirement already satisfied: SQLAlchemy<3,>=1.4 in c:\\users\\miny0\\anaconda3\\envs\\ai_basic_env\\lib\\site-packages (from langchain_community) (2.0.41)\n",
      "Requirement already satisfied: requests<3,>=2.32.5 in c:\\users\\miny0\\anaconda3\\envs\\ai_basic_env\\lib\\site-packages (from langchain_community) (2.32.5)\n",
      "Requirement already satisfied: PyYAML>=5.3 in c:\\users\\miny0\\anaconda3\\envs\\ai_basic_env\\lib\\site-packages (from langchain_community) (6.0.2)\n",
      "Requirement already satisfied: aiohttp<4.0.0,>=3.8.3 in c:\\users\\miny0\\anaconda3\\envs\\ai_basic_env\\lib\\site-packages (from langchain_community) (3.12.13)\n",
      "Requirement already satisfied: tenacity!=8.4.0,<10,>=8.1.0 in c:\\users\\miny0\\anaconda3\\envs\\ai_basic_env\\lib\\site-packages (from langchain_community) (8.5.0)\n",
      "Requirement already satisfied: dataclasses-json<0.7,>=0.6.7 in c:\\users\\miny0\\anaconda3\\envs\\ai_basic_env\\lib\\site-packages (from langchain_community) (0.6.7)\n",
      "Requirement already satisfied: pydantic-settings<3.0.0,>=2.10.1 in c:\\users\\miny0\\anaconda3\\envs\\ai_basic_env\\lib\\site-packages (from langchain_community) (2.10.1)\n",
      "Requirement already satisfied: langsmith>=0.1.125 in c:\\users\\miny0\\anaconda3\\envs\\ai_basic_env\\lib\\site-packages (from langchain_community) (0.4.4)\n",
      "Requirement already satisfied: httpx-sse<1.0.0,>=0.4.0 in c:\\users\\miny0\\anaconda3\\envs\\ai_basic_env\\lib\\site-packages (from langchain_community) (0.4.1)\n",
      "Requirement already satisfied: numpy>=1.26.2 in c:\\users\\miny0\\anaconda3\\envs\\ai_basic_env\\lib\\site-packages (from langchain_community) (1.26.4)\n",
      "Requirement already satisfied: aiohappyeyeballs>=2.5.0 in c:\\users\\miny0\\anaconda3\\envs\\ai_basic_env\\lib\\site-packages (from aiohttp<4.0.0,>=3.8.3->langchain_community) (2.6.1)\n",
      "Requirement already satisfied: aiosignal>=1.1.2 in c:\\users\\miny0\\anaconda3\\envs\\ai_basic_env\\lib\\site-packages (from aiohttp<4.0.0,>=3.8.3->langchain_community) (1.4.0)\n",
      "Requirement already satisfied: attrs>=17.3.0 in c:\\users\\miny0\\anaconda3\\envs\\ai_basic_env\\lib\\site-packages (from aiohttp<4.0.0,>=3.8.3->langchain_community) (25.3.0)\n",
      "Requirement already satisfied: frozenlist>=1.1.1 in c:\\users\\miny0\\anaconda3\\envs\\ai_basic_env\\lib\\site-packages (from aiohttp<4.0.0,>=3.8.3->langchain_community) (1.7.0)\n",
      "Requirement already satisfied: multidict<7.0,>=4.5 in c:\\users\\miny0\\anaconda3\\envs\\ai_basic_env\\lib\\site-packages (from aiohttp<4.0.0,>=3.8.3->langchain_community) (6.6.3)\n",
      "Requirement already satisfied: propcache>=0.2.0 in c:\\users\\miny0\\anaconda3\\envs\\ai_basic_env\\lib\\site-packages (from aiohttp<4.0.0,>=3.8.3->langchain_community) (0.3.1)\n",
      "Requirement already satisfied: yarl<2.0,>=1.17.0 in c:\\users\\miny0\\anaconda3\\envs\\ai_basic_env\\lib\\site-packages (from aiohttp<4.0.0,>=3.8.3->langchain_community) (1.20.1)\n",
      "Requirement already satisfied: marshmallow<4.0.0,>=3.18.0 in c:\\users\\miny0\\anaconda3\\envs\\ai_basic_env\\lib\\site-packages (from dataclasses-json<0.7,>=0.6.7->langchain_community) (3.26.1)\n",
      "Requirement already satisfied: typing-inspect<1,>=0.4.0 in c:\\users\\miny0\\anaconda3\\envs\\ai_basic_env\\lib\\site-packages (from dataclasses-json<0.7,>=0.6.7->langchain_community) (0.9.0)\n",
      "Requirement already satisfied: langchain-text-splitters<1.0.0,>=0.3.9 in c:\\users\\miny0\\anaconda3\\envs\\ai_basic_env\\lib\\site-packages (from langchain<2.0.0,>=0.3.27->langchain_community) (0.3.11)\n",
      "Requirement already satisfied: pydantic<3.0.0,>=2.7.4 in c:\\users\\miny0\\anaconda3\\envs\\ai_basic_env\\lib\\site-packages (from langchain<2.0.0,>=0.3.27->langchain_community) (2.11.4)\n",
      "Requirement already satisfied: jsonpatch<2.0,>=1.33 in c:\\users\\miny0\\anaconda3\\envs\\ai_basic_env\\lib\\site-packages (from langchain-core<2.0.0,>=0.3.75->langchain_community) (1.33)\n",
      "Requirement already satisfied: typing-extensions>=4.7 in c:\\users\\miny0\\anaconda3\\envs\\ai_basic_env\\lib\\site-packages (from langchain-core<2.0.0,>=0.3.75->langchain_community) (4.14.1)\n",
      "Requirement already satisfied: packaging>=23.2 in c:\\users\\miny0\\anaconda3\\envs\\ai_basic_env\\lib\\site-packages (from langchain-core<2.0.0,>=0.3.75->langchain_community) (24.2)\n",
      "Requirement already satisfied: jsonpointer>=1.9 in c:\\users\\miny0\\anaconda3\\envs\\ai_basic_env\\lib\\site-packages (from jsonpatch<2.0,>=1.33->langchain-core<2.0.0,>=0.3.75->langchain_community) (3.0.0)\n",
      "Requirement already satisfied: annotated-types>=0.6.0 in c:\\users\\miny0\\anaconda3\\envs\\ai_basic_env\\lib\\site-packages (from pydantic<3.0.0,>=2.7.4->langchain<2.0.0,>=0.3.27->langchain_community) (0.7.0)\n",
      "Requirement already satisfied: pydantic-core==2.33.2 in c:\\users\\miny0\\anaconda3\\envs\\ai_basic_env\\lib\\site-packages (from pydantic<3.0.0,>=2.7.4->langchain<2.0.0,>=0.3.27->langchain_community) (2.33.2)\n",
      "Requirement already satisfied: typing-inspection>=0.4.0 in c:\\users\\miny0\\anaconda3\\envs\\ai_basic_env\\lib\\site-packages (from pydantic<3.0.0,>=2.7.4->langchain<2.0.0,>=0.3.27->langchain_community) (0.4.1)\n",
      "Requirement already satisfied: python-dotenv>=0.21.0 in c:\\users\\miny0\\anaconda3\\envs\\ai_basic_env\\lib\\site-packages (from pydantic-settings<3.0.0,>=2.10.1->langchain_community) (1.1.1)\n",
      "Requirement already satisfied: charset_normalizer<4,>=2 in c:\\users\\miny0\\anaconda3\\envs\\ai_basic_env\\lib\\site-packages (from requests<3,>=2.32.5->langchain_community) (3.4.2)\n",
      "Requirement already satisfied: idna<4,>=2.5 in c:\\users\\miny0\\anaconda3\\envs\\ai_basic_env\\lib\\site-packages (from requests<3,>=2.32.5->langchain_community) (3.10)\n",
      "Requirement already satisfied: urllib3<3,>=1.21.1 in c:\\users\\miny0\\anaconda3\\envs\\ai_basic_env\\lib\\site-packages (from requests<3,>=2.32.5->langchain_community) (2.5.0)\n",
      "Requirement already satisfied: certifi>=2017.4.17 in c:\\users\\miny0\\anaconda3\\envs\\ai_basic_env\\lib\\site-packages (from requests<3,>=2.32.5->langchain_community) (2025.8.3)\n",
      "Requirement already satisfied: greenlet>=1 in c:\\users\\miny0\\anaconda3\\envs\\ai_basic_env\\lib\\site-packages (from SQLAlchemy<3,>=1.4->langchain_community) (3.2.3)\n",
      "Requirement already satisfied: mypy-extensions>=0.3.0 in c:\\users\\miny0\\anaconda3\\envs\\ai_basic_env\\lib\\site-packages (from typing-inspect<1,>=0.4.0->dataclasses-json<0.7,>=0.6.7->langchain_community) (1.1.0)\n",
      "Requirement already satisfied: httpx<1,>=0.23.0 in c:\\users\\miny0\\anaconda3\\envs\\ai_basic_env\\lib\\site-packages (from langsmith>=0.1.125->langchain_community) (0.28.1)\n",
      "Requirement already satisfied: orjson<4.0.0,>=3.9.14 in c:\\users\\miny0\\anaconda3\\envs\\ai_basic_env\\lib\\site-packages (from langsmith>=0.1.125->langchain_community) (3.10.18)\n",
      "Requirement already satisfied: requests-toolbelt<2.0.0,>=1.0.0 in c:\\users\\miny0\\anaconda3\\envs\\ai_basic_env\\lib\\site-packages (from langsmith>=0.1.125->langchain_community) (1.0.0)\n",
      "Requirement already satisfied: zstandard<0.24.0,>=0.23.0 in c:\\users\\miny0\\anaconda3\\envs\\ai_basic_env\\lib\\site-packages (from langsmith>=0.1.125->langchain_community) (0.23.0)\n",
      "Requirement already satisfied: anyio in c:\\users\\miny0\\anaconda3\\envs\\ai_basic_env\\lib\\site-packages (from httpx<1,>=0.23.0->langsmith>=0.1.125->langchain_community) (4.9.0)\n",
      "Requirement already satisfied: httpcore==1.* in c:\\users\\miny0\\anaconda3\\envs\\ai_basic_env\\lib\\site-packages (from httpx<1,>=0.23.0->langsmith>=0.1.125->langchain_community) (1.0.9)\n",
      "Requirement already satisfied: h11>=0.16 in c:\\users\\miny0\\anaconda3\\envs\\ai_basic_env\\lib\\site-packages (from httpcore==1.*->httpx<1,>=0.23.0->langsmith>=0.1.125->langchain_community) (0.16.0)\n",
      "Requirement already satisfied: sniffio>=1.1 in c:\\users\\miny0\\anaconda3\\envs\\ai_basic_env\\lib\\site-packages (from anyio->httpx<1,>=0.23.0->langsmith>=0.1.125->langchain_community) (1.3.1)\n"
     ]
    }
   ],
   "execution_count": 1
  },
  {
   "cell_type": "code",
   "id": "4a1530950a5dfb25",
   "metadata": {
    "ExecuteTime": {
     "end_time": "2025-09-18T18:55:02.595667Z",
     "start_time": "2025-09-18T18:54:45.106867Z"
    }
   },
   "source": [
    "from langchain_community.embeddings import HuggingFaceEmbeddings\n",
    "from random import randint, choice\n",
    "\n",
    "from langchain_core.output_parsers import StrOutputParser\n",
    "from langchain_core.prompts import PromptTemplate\n",
    "from langchain_openai import ChatOpenAI\n",
    "from openai import OpenAI\n",
    "from langchain.vectorstores import Chroma\n",
    "from dotenv import load_dotenv\n",
    "\n",
    "load_dotenv()\n",
    "\n",
    "client = OpenAI()\n",
    "\n",
    "permission = \"data_ai\"\n",
    "\n",
    "# 벡터 DB 세팅\n",
    "embedding_model = HuggingFaceEmbeddings(model_name=\"BAAI/bge-m3\")\n",
    "vectorstore = Chroma(persist_directory=f\"./chroma_db/{permission}\", embedding_function=embedding_model)"
   ],
   "outputs": [
    {
     "name": "stderr",
     "output_type": "stream",
     "text": [
      "C:\\Users\\miny0\\AppData\\Local\\Temp\\ipykernel_30704\\2660580404.py:18: LangChainDeprecationWarning: The class `HuggingFaceEmbeddings` was deprecated in LangChain 0.2.2 and will be removed in 1.0. An updated version of the class exists in the :class:`~langchain-huggingface package and should be used instead. To use it run `pip install -U :class:`~langchain-huggingface` and import as `from :class:`~langchain_huggingface import HuggingFaceEmbeddings``.\n",
      "  embedding_model = HuggingFaceEmbeddings(model_name=\"BAAI/bge-m3\")\n",
      "C:\\Users\\miny0\\AppData\\Local\\Temp\\ipykernel_30704\\2660580404.py:19: LangChainDeprecationWarning: The class `Chroma` was deprecated in LangChain 0.2.9 and will be removed in 1.0. An updated version of the class exists in the :class:`~langchain-chroma package and should be used instead. To use it run `pip install -U :class:`~langchain-chroma` and import as `from :class:`~langchain_chroma import Chroma``.\n",
      "  vectorstore = Chroma(persist_directory=f\"./chroma_db/{permission}\", embedding_function=embedding_model)\n"
     ]
    }
   ],
   "execution_count": 1
  },
  {
   "cell_type": "markdown",
   "id": "11d07c79608e82fc",
   "metadata": {},
   "source": [
    "## 초기 질문 리스트 가져오기"
   ]
  },
  {
   "cell_type": "code",
   "id": "initial_id",
   "metadata": {
    "collapsed": true,
    "ExecuteTime": {
     "end_time": "2025-09-18T18:55:02.619738Z",
     "start_time": "2025-09-18T18:55:02.606673Z"
    }
   },
   "source": [
    "import json\n",
    "\n",
    "def load_questions_from_jsonl_minimal(path: str, key: str = \"question\"):\n",
    "    \"\"\"JSONL에서 각 라인의 `question` 값만 순서/중복/공백 그대로 추출\"\"\"\n",
    "    questions = []\n",
    "    with open(path, \"r\", encoding=\"utf-8-sig\") as f:\n",
    "        for line in f:\n",
    "            line = line.strip()\n",
    "            obj = json.loads(line)\n",
    "            if isinstance(obj, dict) and key in obj:\n",
    "                questions.append(obj[key])\n",
    "    return questions\n",
    "\n",
    "# 사용 예시\n",
    "initial_questions = load_questions_from_jsonl_minimal(f\"./company_questions_{permission}.jsonl\")\n",
    "initial_questions"
   ],
   "outputs": [
    {
     "data": {
      "text/plain": [
       "['모델 성능 평가 보고서에서 Random Forest 모델의 정확도는 어떻게 되나요?',\n",
       " '모델 성능 평가 보고서의 4. 성능 지표 및 기준 섹션에서 F1 점수의 기준은 무엇인가요?',\n",
       " '모델 성능 평가 보고서의 3. 실험/테스트 절차에서 훈련 데이터와 검증 데이터의 비율은 어떻게 되나요?',\n",
       " '모델 성능 평가 보고서에서 제안된 개선 방안 중 데이터 불균형 해소를 위한 방법은 무엇인가요?',\n",
       " '모델 성능 평가 보고서의 5. 결과 요약 및 검증 포인트에서 검증 포인트로 제시된 항목은 무엇인가요?',\n",
       " '모델 성능 평가 보고서의 4. 성능 지표 및 기준에서 Accuracy의 기준은 얼마인가요?',\n",
       " '모델 성능 평가 보고서의 3. 실험/테스트 절차에서 하이퍼파라미터 튜닝이 완료되었는지 확인하는 체크리스트 항목은 무엇인가요?',\n",
       " '모델 성능 평가 보고서의 6. 리스크/한계 및 개선 제안에서 데이터 편향의 리스크는 어떤 상황에서 발생할 수 있나요?',\n",
       " '데이터 수집 단계에서 데이터 소스 식별 및 목록화는 어떻게 진행되나요?',\n",
       " '데이터 전처리에서 결측치 처리 방법은 어떤 기준으로 결정하나요?',\n",
       " '데이터 저장 단계에서 선택할 수 있는 저장소의 종류는 무엇인가요?',\n",
       " '데이터 분석 단계에서 정의해야 하는 KPI의 예시는 무엇인가요?',\n",
       " '데이터 배포 단계에서 데이터 접근 권한 관리는 어떻게 이루어지나요?',\n",
       " '데이터 품질 기준에서 수집된 데이터의 정확성 및 완전성을 확인하는 방법은 무엇인가요?',\n",
       " '보안/프라이버시 준수 항목 중 데이터 암호화 정책은 어떤 내용을 포함하나요?',\n",
       " '일일 체크리스트에서 데이터 품질 점검은 어떤 방식으로 보고되나요?',\n",
       " '주간 체크리스트에서 데이터 저장소 상태 점검은 어떤 항목을 포함하나요?',\n",
       " '데이터 분석 결과의 신뢰도 및 유효성을 평가하는 기준은 무엇인가요?',\n",
       " '데이터 수집 도구 및 기술 선정 시 고려해야 할 요소는 무엇인가요?',\n",
       " '데이터 클렌징 규칙 정의는 어떤 절차로 진행되나요?',\n",
       " '데이터 저장 프로세스 구현 시 주의해야 할 점은 무엇인가요?',\n",
       " '데이터 배포 자동화 프로세스 구현의 필요성은 무엇인가요?',\n",
       " '정기적인 보안 감사 및 취약점 점검은 어떤 주기로 실시하나요?',\n",
       " '데이터 유출 사고 대응 계획은 어떤 내용을 포함해야 하나요?',\n",
       " '모델 개발 & 성능 보고서에서 로지스틱 회귀의 Accuracy는 얼마인가요?',\n",
       " '성능 비교표에서 랜덤 포레스트의 F1 Score는 어떻게 되나요?',\n",
       " '모델 개발 & 성능 보고서의 결과 요약에서 SVM의 ROC-AUC 값은 얼마인가요?',\n",
       " '성능 비교표에서 결정 트리의 성능 지표는 어떤가요?',\n",
       " '모델 개발 & 성능 보고서의 검증 포인트에서 재현성의 의미는 무엇인가요?',\n",
       " '성능 비교표에서 신경망의 Accuracy와 F1 Score는 각각 얼마인가요?',\n",
       " '모델 개발 & 성능 보고서에서 사용된 데이터셋의 분할 비율은 어떻게 되나요?',\n",
       " '성능 비교표에서 각 모델의 성능 차이를 검증하기 위한 통계적 방법은 무엇인가요?',\n",
       " '모델 개발 & 성능 보고서에서 제안된 데이터 증강 기법의 목적은 무엇인가요?',\n",
       " '성능 비교표에서 하이퍼파라미터 튜닝의 중요성에 대해 어떤 내용이 언급되었나요?',\n",
       " '데이터/AI팀 회의록(정기회의) #2에서 주간 보고서를 통해 각 팀원이 공유하기로 한 진행 상황은 어떤 것인가요?',\n",
       " '데이터/AI팀 회의록(정기회의) #2에서 추가 데이터 수집 계획 수립의 담당자는 누구인가요?',\n",
       " '데이터/AI팀 회의록(정기회의) #2에서 데이터 정제 프로세스 강화 방안 마련의 마감일은 언제인가요?',\n",
       " '데이터/AI팀 회의록(정기회의) #2에서 데이터 수집 지연으로 인한 프로젝트 일정 차질 가능성에 대한 논의는 어떻게 진행되었나요?',\n",
       " '데이터/AI팀 회의록(정기회의) #2에서 AI 모델 성능 개선을 위한 추가 데이터 수집의 필요성은 어떻게 강조되었나요?',\n",
       " '데이터/AI팀 회의록(정기회의) #2에서 템플릿 디자인 및 배포는 언제 이루어질 예정인가요?',\n",
       " '데이터/AI팀 회의록(정기회의) #2에서 팀원 교육 및 사용법 안내는 어떻게 진행될 예정인가요?',\n",
       " '데이터/AI팀 회의록(정기회의) #2에서 데이터 품질 개선 결과 및 AI 모델 성능 변화 분석은 어떻게 이루어질 예정인가요?',\n",
       " '데이터/AI팀 회의록(정기회의) #2에서 각 팀원이 진행 상황을 공유하기로 한 주간 보고서의 주요 항목은 무엇인가요?',\n",
       " '데이터/AI팀 회의록(정기회의) #2에서 데이터 정제 프로세스 검토는 어떤 기준으로 진행될 예정인가요?',\n",
       " '데이터/AI팀 회의록(정기회의) #2에서 중복 데이터 및 결측치 처리 방안 수립의 구체적인 방법은 무엇인가요?',\n",
       " 'AI팀 주간 업무 계획에서 이지훈의 모델 성능 개선 목표의 성공 기준인 AUC 점수 0.85 이상 달성은 어떻게 진행되고 있나요?',\n",
       " '김하늘의 데이터 정제 프로세스 확립 목표에서 정제된 데이터셋 1000건 확보는 현재 어떤 진행 상황인가요?',\n",
       " '박지민의 API 문서화 작업에서 모든 API 엔드포인트 문서화 완료는 마감일인 2025-09-03까지 가능할까요?',\n",
       " 'AI팀 주간 업무 계획의 리스크 관리 방안에서 모델 성능 저하에 대한 추가 데이터 수집 계획은 구체적으로 어떤 내용인가요?',\n",
       " '정기 회의에서 각 팀원 진행 상황 공유 및 리스크 논의는 어떤 형식으로 진행될 예정인가요?',\n",
       " '데이터팀과의 협업 필요 목표에서 데이터 정제 및 품질 검증 지원은 어떤 방식으로 이루어질 계획인가요?',\n",
       " '이지훈의 모델 성능 개선 작업에서 데이터셋 업데이트 완료는 언제까지 이루어질 예정인가요?',\n",
       " '김하늘의 데이터 정제 작업에서 기존 데이터셋의 품질 문제 해결은 어떤 방법으로 진행될 예정인가요?',\n",
       " '박지민의 API 문서화 작업에서 API 변경 사항 반영은 어떤 절차를 통해 이루어질 것인가요?',\n",
       " 'AI팀 주간 업무 계획의 마감 후 점검에서 각 과제별 목표 달성 여부 확인은 어떻게 진행될 예정인가요?',\n",
       " '모델 성능 결과는 내부 공유 드라이브의 어떤 폴더에 저장되며, 접근 방법은 무엇인가요?',\n",
       " '데이터셋은 내부 공유 드라이브의 어떤 폴더에 위치하며, 데이터 정제 작업 후 어떻게 관리될 예정인가요?',\n",
       " 'API 문서의 위치는 내부 공유 드라이브의 어떤 폴더이며, 문서화 완료 후 검토는 어떻게 이루어질 것인가요?',\n",
       " 'AI팀 주간 업무 계획에서 리스크 관리 방안으로 제시된 데이터 정제 지연에 대한 정제 기준 명확화는 어떤 방식으로 진행될 예정인가요?',\n",
       " '각 팀원은 자신의 작업을 주의 깊게 확인해야 한다고 명시되어 있는데, 이를 위한 구체적인 방법이나 도구는 무엇인가요?',\n",
       " '테스트 계획 및 결과 보고서에서 모델 유형으로 사용된 지도 학습 기반 분류 모델의 종류는 무엇인가요?',\n",
       " '테스트 계획 및 결과 보고서에서 하이퍼파라미터 탐색을 위해 사용된 Grid Search의 대상 알고리즘은 어떤 것들이 있나요?',\n",
       " '테스트 계획 및 결과 보고서에서 성능 지표로 사용된 Accuracy의 정의는 무엇인가요?',\n",
       " '테스트 계획 및 결과 보고서에서 모델의 성능을 개선하기 위한 제안 중 하나는 무엇인가요?',\n",
       " '테스트 계획 및 결과 보고서에서 사용된 데이터 유형은 무엇인가요?',\n",
       " '테스트 계획 및 결과 보고서에서 하드웨어 요구 사항은 무엇인가요?',\n",
       " '테스트 계획 및 결과 보고서에서 제시된 최적 모델 선정의 기준은 무엇인가요?',\n",
       " '테스트 계획 및 결과 보고서에서 데이터셋의 분할 방법으로 사용된 함수는 무엇인가요?',\n",
       " '데이터 관리 & 보안 - 데이터 파이프라인 설계 문서에서 데이터 파이프라인의 구조와 흐름은 어떻게 설계되어 있나요?',\n",
       " '데이터 관리 & 보안 - 데이터 접근/보안 정책 문서에서 데이터 접근 권한 관리 방침은 어떤 내용으로 구성되어 있나요?',\n",
       " '데이터 관리 & 보안 - 데이터 거버넌스 정책 문서에서 데이터 품질 관리 기준은 무엇으로 설정되어 있나요?',\n",
       " '데이터 관리 & 보안 - 데이터 보존 및 폐기 정책 문서에서 데이터 보존 기간은 어떻게 정해져 있나요?',\n",
       " '데이터 관리 & 보안 - 수집된 데이터 및 전처리 기록서에서 수집된 데이터의 출처와 전처리 과정은 어떻게 기록되어 있나요?',\n",
       " '모델 개발 & 성능 - 모델 성능 평가 보고서에서 평가 지표는 어떤 것들이 사용되었나요?',\n",
       " '모델 개발 & 성능 - 모델 학습 결과서에서 학습된 모델의 정확도는 얼마인가요?',\n",
       " '모델 개발 & 성능 - 성능 비교표에서 비교된 모델들의 성능 차이는 어떻게 나타나고 있나요?',\n",
       " '모델 개발 & 성능 - 테스트 계획 및 결과 보고서에서 테스트의 주요 목표는 무엇이었나요?',\n",
       " '모델 개발 & 성능 - 데이터 품질 점검 보고서에서 발견된 주요 데이터 품질 문제는 무엇인가요?',\n",
       " '팀 운영 문서 - 데이터팀 주간 업무 계획에서 이번 주의 주요 업무는 무엇인가요?',\n",
       " '팀 운영 문서 - AI팀 주간 업무 계획에서 AI팀의 주요 프로젝트 진행 상황은 어떤가요?',\n",
       " '팀 운영 문서 - 회의록(정기회의) #1에서 논의된 주요 안건은 무엇이었나요?',\n",
       " '데이터 접근/보안 정책 문서에서 데이터 유출 및 무단 접근 방지를 위한 주요 목표는 무엇인가요?',\n",
       " '데이터 품질 개선 보고서에서 데이터 오류율 5% 이하 유지에 대한 성공 기준은 어떻게 설정되었나요?',\n",
       " 'AI 모델 성능 평가서에서 F1 Score 0.85 이상 달성을 위한 구체적인 평가 방법은 무엇인가요?',\n",
       " '신규 파이프라인 문서에서 파이프라인 테스트 완료 후 문서화 작업의 중요성은 무엇인가요?',\n",
       " '데이터 품질 개선 보고서에서 데이터 수집팀의 피드백이 필요한 이유는 무엇인가요?',\n",
       " 'AI 모델 성능 평가서에서 모델 성능 저하를 방지하기 위한 추가 데이터 수집 계획은 어떻게 수립되나요?',\n",
       " 'AI 모델 성능 평가서에서 모델 성능 평가를 위한 최신 데이터셋 확보는 어떻게 이루어지나요?',\n",
       " '데이터 품질 개선 보고서에서 리스크 관리 방안은 어떻게 수립되나요?',\n",
       " 'AI 모델 성능 평가서에서 모델 성능 저하 우려를 줄이기 위한 구체적인 방법은 무엇인가요?',\n",
       " '신규 파이프라인 문서에서 우선순위 조정 및 리소스 재배치의 필요성은 무엇인가요?',\n",
       " '데이터 품질 개선 보고서에서 각 팀원의 작업을 체크리스트 형태로 관리하는 이유는 무엇인가요?',\n",
       " 'AI 모델 성능 평가서에서 진행 사항 공유 및 문제점 논의는 어떻게 이루어지나요?',\n",
       " '신규 파이프라인 문서에서 문서화 작업의 중요성은 무엇인가요?',\n",
       " '데이터 품질 개선 보고서에서 데이터 오류 검토 및 수정의 의존성은 무엇인가요?',\n",
       " 'AI 모델 성능 평가서에서 코드 충돌 발생 가능성을 줄이기 위한 방법은 무엇인가요?',\n",
       " '신규 파이프라인 문서에서 기술 지원을 받기 위해 IT팀과의 협업은 어떻게 이루어지나요?',\n",
       " '데이터 품질 개선 보고서에서 품질 개선 방안 제안서 작성 시 데이터 분석팀의 협조가 필요한 이유는 무엇인가요?',\n",
       " '데이터 보존 및 폐기 정책에서 중요 데이터의 보존 기간은 어떻게 설정되어 있나요?',\n",
       " '데이터/AI팀의 데이터 보존 절차에서 데이터 분류는 어떤 기준으로 이루어지나요?',\n",
       " '데이터 폐기 절차에서 폐기 대상 데이터는 어떻게 식별하나요?',\n",
       " '데이터 보존 및 폐기 정책의 검증 포인트에서 데이터 폐기 후 복구 불가능성을 확인하는 절차는 무엇인가요?',\n",
       " '데이터 보존 및 폐기 정책에서 일반 데이터의 보존 기간은 얼마인가요?',\n",
       " '데이터 폐기 시 어떤 보안 조치를 취해야 하는지에 대한 내용은 어디에 나와 있나요?',\n",
       " '운영 체크리스트의 일일 체크리스트에서 새로운 데이터의 분류는 어떻게 확인하나요?',\n",
       " '데이터 저장소 관리 절차에서 불필요한 데이터 삭제는 어떻게 이루어지나요?',\n",
       " '데이터 폐기 방법 결정 시 전자 데이터와 물리적 데이터의 차이는 무엇인가요?',\n",
       " '데이터 보존 및 폐기 정책의 목적은 무엇인가요?',\n",
       " '데이터/AI팀이 준수해야 할 데이터 보존 및 폐기 정책의 책임은 누구에게 있나요?',\n",
       " '데이터 보존 및 폐기 정책의 개정 이력은 어떻게 관리되나요?',\n",
       " '데이터 보존 및 폐기 정책에서 기밀성을 유지하기 위한 조치는 무엇인가요?',\n",
       " '데이터 수집 및 전처리 기록서에서 데이터 소스 식별 과정은 어떻게 이루어지나요?',\n",
       " '데이터 품질 점검 보고서의 리스크 항목에서 데이터 불균형이 모델 성능에 미치는 영향은 무엇인가요?',\n",
       " '데이터 품질 점검 보고서에서 모델 성능을 극대화하기 위한 주요 요소는 무엇인가요?',\n",
       " '데이터 품질 점검 보고서의 성능 기준에서 ROC-AUC의 기준은 무엇인가요?',\n",
       " '데이터 품질 점검 보고서에서 사용된 알고리즘의 종류는 무엇인가요?',\n",
       " '데이터 품질 점검 보고서의 프로젝트 개요에서 데이터의 어떤 특성을 평가하나요?',\n",
       " '데이터 거버넌스 정책의 개요 및 목적 부분에서 데이터 활용의 효율성을 극대화하기 위한 구체적인 방법은 무엇인가요?',\n",
       " '데이터 접근 관리의 단계 1에서 정의된 역할 기반 접근 제어(RBAC)의 구체적인 내용은 무엇인가요?',\n",
       " '데이터 품질 관리의 단계 2에서 정기적으로 수행하는 데이터 품질 점검의 주기는 어떻게 되나요?',\n",
       " '데이터 보안 및 암호화 섹션에서 모든 데이터의 전송 및 저장 시 암호화에 대한 구체적인 절차는 무엇인가요?',\n",
       " '검증 포인트/품질 기준에서 데이터 품질 점검 결과 보고서 작성의 형식이나 내용은 어떻게 구성되나요?',\n",
       " '운영 체크리스트의 일일 체크리스트에서 데이터 접근 로그 확인 및 검토의 구체적인 방법은 무엇인가요?',\n",
       " '주간 체크리스트에서 데이터 품질 보고서 작성 및 공유의 책임자는 누구인가요?',\n",
       " '데이터 저장 및 처리 시 개인정보 비식별화 절차의 구체적인 방법은 무엇인가요?',\n",
       " '데이터 접근 로그 확인 및 검토에서 어떤 지표를 중점적으로 확인해야 하나요?',\n",
       " '데이터 거버넌스 정책의 목적을 달성하기 위해 필요한 법적 및 윤리적 기준은 무엇인가요?',\n",
       " '데이터 분석 프로젝트 진행 상황 보고서에서 현재 데이터 품질은 몇 퍼센트인가요?',\n",
       " 'AI 모델 성능 개선 방안 보고서에서 제안된 하이퍼파라미터 튜닝의 구체적인 방법은 무엇인가요?',\n",
       " '다음 분기 목표 설정 보고서에서 AI 모델 성능 목표는 얼마로 설정되었나요?',\n",
       " '결측치 문제 해결 방안 제시 보고서에서 박민수가 맡은 역할의 마감일은 언제인가요?',\n",
       " '데이터 수집 자동화 시스템 설계 보고서에서 이영희의 담당 마감일은 언제인가요?',\n",
       " 'AI 모델 성능 개선 방안 보고서에서 앙상블 기법 도입의 필요성은 무엇인가요?',\n",
       " '데이터 분석 프로젝트 진행 상황 보고서에서 전처리 소요 시간 감소율은 얼마인가요?',\n",
       " '결측치 문제로 인한 리스크 보고서에서 제시된 대응 방안은 무엇인가요?',\n",
       " '다음 분기 목표 설정 보고서에서 각 팀원에게 분담된 역할은 어떤 것들이 있나요?',\n",
       " 'AI 모델 성능 개선 방안 보고서에서 현재 모델의 정확도는 얼마인가요?',\n",
       " '데이터 분석 프로젝트 진행 상황 보고서에서 문제점으로 언급된 사항은 무엇인가요?',\n",
       " '하이퍼파라미터 튜닝 진행 보고서에서 최지혜의 마감일은 언제인가요?',\n",
       " '결측치 문제 해결 방안 제시 보고서에서 어떤 팀원이 책임을 맡았나요?',\n",
       " '데이터 수집 자동화 시스템 설계 보고서에서 이영희의 역할은 무엇인가요?',\n",
       " 'AI 모델 성능 개선 방안 보고서에서 추가 데이터셋 활용의 장점은 무엇인가요?',\n",
       " '데이터 분석 프로젝트 진행 상황 보고서에서 완료된 단계는 무엇인가요?',\n",
       " '결측치 문제 해결 방안 제시 보고서에서 제시된 해결 방안은 무엇인가요?',\n",
       " 'AI 모델 성능 개선 방안 보고서에서 목표 정확도에 도달하기 위한 전략은 무엇인가요?',\n",
       " '결측치 문제 해결 방안 제시 보고서에서 박민수가 맡은 Action Item의 내용은 무엇인가요?',\n",
       " '데이터 수집 자동화 시스템 설계 보고서에서 이영희의 역할은 어떤 시스템을 설계하는 것인가요?',\n",
       " 'AI 모델 성능 개선 방안 보고서에서 하이퍼파라미터 튜닝의 목표는 무엇인가요?',\n",
       " '데이터 분석 프로젝트 진행 상황 보고서에서 전처리 소요 시간 감소의 원인은 무엇인가요?',\n",
       " \"AI 윤리/리스크 관리 문서의 '윤리 원칙 요약' 섹션에서 '투명성'의 구체적인 내용은 무엇인가요?\",\n",
       " \"AI 윤리/리스크 관리 문서의 '편향/공정성 점검 항목'에서 데이터 수집 단계의 체크리스트 항목은 어떤 것들이 있나요?\",\n",
       " \"AI 윤리/리스크 관리 문서의 '법적/규제 리스크 검토' 부분에서 어떤 법규를 검토해야 하는지 구체적으로 설명해 주실 수 있나요?\",\n",
       " \"AI 윤리/리스크 관리 문서의 '법적 리스크 발생 가능성 평가'는 어떤 기준으로 진행되나요?\",\n",
       " \"AI 윤리/리스크 관리 문서의 '모델 개발 단계'에서 편향 지표를 측정하는 방법은 무엇인가요?\",\n",
       " \"AI 윤리/리스크 관리 문서의 '정기적인 모델 성능 재평가 및 업데이트'는 어떤 주기로 이루어지나요?\",\n",
       " \"AI 윤리/리스크 관리 문서의 '정기적인 리스크 평가 회의'는 어떤 주기로 개최되나요?\",\n",
       " \"AI 윤리/리스크 관리 문서의 'AI 시스템 운영 중 발생하는 문제에 대한 모니터링 체계'는 어떻게 구성되나요?\",\n",
       " \"AI 윤리/리스크 관리 문서의 'AI 모델의 설계, 개발, 배포 및 운영 과정에서 윤리적 고려사항'은 어떤 방식으로 반영되나요?\",\n",
       " \"AI 윤리/리스크 관리 문서의 '편향성 최소화'를 위한 구체적인 전략은 무엇인가요?\",\n",
       " \"AI 윤리/리스크 관리 문서의 'AI 시스템의 신뢰성을 높이기 위한 기본 지침'은 어떤 내용을 포함하고 있나요?\",\n",
       " '모델 학습 결과서에서 최종 선택된 모델인 XGBoost의 성능 최적화 결과는 어떤가요?',\n",
       " '모델 학습 결과서의 성능 지표 및 기준에서 Accuracy 목표는 무엇인가요?',\n",
       " '모델 학습 결과서에서 검증 데이터와 테스트 데이터의 비율은 어떻게 되나요?',\n",
       " '모델 학습 결과서의 리스크/한계 및 개선 제안에서 과적합의 리스크는 어떤 의미인가요?',\n",
       " '모델 학습 결과서에서 F1 Score의 목표는 얼마인가요?',\n",
       " '모델 학습 결과서의 실험/테스트 절차에서 사용된 하드웨어는 무엇인가요?',\n",
       " '모델 학습 결과서에서 하이퍼파라미터 최적화가 완료되었는지 여부는 체크리스트에서 어떻게 확인하나요?',\n",
       " '모델 학습 결과서의 결과 요약에서 ROC-AUC 값은 얼마인가요?',\n",
       " '모델 학습 결과서에서 데이터셋의 훈련 데이터 비율은 어떻게 되나요?',\n",
       " '모델 학습 결과서에서 검증 데이터의 총 건수는 얼마인가요?',\n",
       " '모델 학습 결과서의 리스크/한계 및 개선 제안에서 데이터 불균형의 리스크는 무엇을 의미하나요?',\n",
       " '모델 학습 결과서에서 교차 검증은 어떤 방식으로 실시하나요?',\n",
       " '모델 학습 결과서의 결과 요약에서 F1 Score 값은 얼마인가요?',\n",
       " '모델 학습 결과서의 개정 이력에서 최초 작성일은 언제인가요?',\n",
       " '모델 학습 결과서에서 훈련/검증/테스트 데이터의 분할 확인은 어떻게 이루어지나요?',\n",
       " '모델 학습 결과서의 성능 지표에서 Accuracy는 어떤 의미인가요?',\n",
       " '모델 학습 결과서에서 하드웨어 사양은 어떤 것들이 포함되어 있나요?',\n",
       " '요즘 트렌드인 패션 아이템 뭐가 있을까?',\n",
       " '사무실에서 듣기 좋은 팟캐스트 추천해 줄 수 있어?',\n",
       " '휴식 시간에 할 만한 간단한 게임 있으면 알려줘!',\n",
       " '최근에 화제가 된 뉴스는 뭐가 있을까?',\n",
       " '오늘 날씨 어때?',\n",
       " '내가 가볼 만한 여행지 추천해 줘!',\n",
       " '재밌는 책 읽고 싶은데, 추천할 만한 거 있어?',\n",
       " '요즘 인기 있는 TV 프로그램 있으면 알려줘!',\n",
       " '간단한 요리 레시피 알려줄래?',\n",
       " '주말에 놀러 갈 만한 장소 추천해 줘!',\n",
       " '요즘 핫한 카페나 맛집 정보 있으면 알려줘!',\n",
       " '건강한 스낵 아이디어가 있다면 알려줘!',\n",
       " '요즘 사람들 사이에서 인기 있는 활동이 뭐지?',\n",
       " '오늘 날씨 어때?',\n",
       " '요즘 핫한 영화 추천해줄 수 있어?',\n",
       " '좋아하는 음악 있으면 알려줘!',\n",
       " '최근에 나온 책 중에 읽어볼 만한 거 있어?',\n",
       " '오늘 기분 좋게 해줄 만한 명언 하나 알려줘!',\n",
       " '나에게 어울리는 디저트 추천해줘!',\n",
       " '주말에 할 만한 활동이 있을까?',\n",
       " '요즘 인기 있는 드라마 뭐야?',\n",
       " '나랑 잘 맞는 취미가 뭐라고 생각해?',\n",
       " '스트레스 해소하는 방법 몇 가지 알려줘!',\n",
       " '재미있는 팟캐스트 추천해줄래?',\n",
       " '다음에 가볼 만한 여행지 있으면 알려줘!',\n",
       " '내가 좋아할 만한 게임 뭐 있을까?',\n",
       " '나에게 맞는 카페 스타일은 뭐일까?',\n",
       " '요즘 트렌디한 패션 아이템 추천해줘!',\n",
       " '분위기 좋은 음악 추천해줄 수 있어?',\n",
       " '오늘 기분 좋은 음악 추천해줄 수 있어?',\n",
       " '최근에 인기 있는 영화 어떤 게 있을까?',\n",
       " '요즘 핫한 책 제목 좀 알려줘!',\n",
       " '주말에 하기 좋은 취미 활동은 뭐가 있을까?',\n",
       " '새로운 팟캐스트 추천해줄 수 있어?',\n",
       " '가볍게 읽기 좋은 웹툰 뭐가 있을까?',\n",
       " '요즘 유행하는 요리법 알고 있어?',\n",
       " '최근에 나온 게임 중에 추천할 만한 게 있을까?',\n",
       " '오늘의 날씨에 딱 맞는 음악이 있을까?',\n",
       " '스트레스 풀기 좋은 영화 한 편 추천해줘!',\n",
       " '출퇴근길에 듣기 좋은 음악 리스트 좀 만들어줄래?',\n",
       " '여름에 가기 좋은 여행지 추천해줄 수 있어?',\n",
       " '기분 전환에 좋은 활동 뭐가 있을까?',\n",
       " '맛있는 디저트 레시피 알고 있어?',\n",
       " '간단한 요리 레시피 하나 알려줘.',\n",
       " '최근에 인기 있는 앱 있으면 추천해 줘.',\n",
       " '여행지로 가기 좋은 곳이 어디일까?',\n",
       " '친구한테 선물하기 좋은 아이템 뭐가 있을까?',\n",
       " '이 계절에 가볼 만한 카페 있어?',\n",
       " '요즘 유행하는 패션 트렌드가 뭐야?',\n",
       " '마음에 드는 음악 장르 추천해줘.',\n",
       " '편안하게 쉴 수 있는 장소가 있을까?',\n",
       " '영화관에서 볼 만한 좋은 영화가 뭐야?',\n",
       " '효과적인 공부 방법 좀 알려줄 수 있어?',\n",
       " '간단하게 즐길 수 있는 게임 추천해 줘.',\n",
       " '긴장을 푸는 방법 뭐가 있을까?',\n",
       " '자기계발에 좋은 강좌 추천해 줄래?',\n",
       " '나만의 루틴 만들기에 대한 팁이 있을까?',\n",
       " '요즘 즐겨 보는 TV 프로그램은 뭐야?',\n",
       " '좋은 요리 레시피 있으면 알려줘.',\n",
       " '이런 날씨에 어울리는 음악은 뭐야?',\n",
       " '웹툰 중에서 추천할 만한 게 있어?',\n",
       " '최근에 인기 있는 게임 뭐가 있는지 알고 싶어.',\n",
       " '좋은 운동 방법이나 루틴이 있으면 알려줘.',\n",
       " '기분 전환에 좋은 활동 추천해줘.',\n",
       " '친구에게 선물할 만한 아이템 있을까?',\n",
       " '오늘 하루 마무리하는 좋은 방법이 있을까?',\n",
       " '제철 음식 중에 추천할 만한 것이 뭐야?',\n",
       " '기분이 좋을 때 듣기 좋은 음악은 뭐야?',\n",
       " '이색적인 여행지 추천해줄 수 있어?',\n",
       " '재미있는 일화나 유머가 있으면 들려줘.',\n",
       " '나만의 루틴을 만드는 데 도움이 될 만한 조언이 있을까?',\n",
       " '간단하게 할 수 있는 취미가 뭐가 있을까?',\n",
       " '여름에 어울리는 시원한 음료 추천해줘.',\n",
       " '마음이 편안해지는 방법이 있을까?',\n",
       " '오늘 날씨가 좋은데, 어떤 기분이 드는지 궁금해!',\n",
       " '요즘 가장 인기 있는 영화가 뭐인지 알고 있어?',\n",
       " '내가 한번 읽어볼 만한 좋은 책 추천해줄래?',\n",
       " '이 음악 어떤 느낌인지 한번 들어보고 싶어!',\n",
       " '여행 가기 좋은 곳이 어디인지 알려줄 수 있어?',\n",
       " '최근에 유행하는 패션 아이템이 뭐인지 궁금해!',\n",
       " '지금 듣고 있는 노래의 분위기가 어때?',\n",
       " '좋은 카페가 있으면 추천해줄 수 있어?',\n",
       " '요즘 핫한 레스토랑은 어디인지 알고 있어?',\n",
       " '요즘 인기 있는 게임 좀 알려줄래?',\n",
       " '내가 할 만한 취미 활동이 뭐가 있을까?',\n",
       " '최근에 재밌게 본 유튜브 채널이 뭐야?',\n",
       " '요즘 뜨고 있는 TV 프로그램이 있다면 뭐지?',\n",
       " '다양한 커피 종류 중 어떤 게 맛있을까?',\n",
       " '네가 추천하는 간식은 뭐야?',\n",
       " '최근에 본 전시회 중에서 추천할 만한 게 있을까?',\n",
       " '자주 가는 운동이 있으면 알려줄 수 있어?',\n",
       " '유명한 디저트 카페가 있다면 추천해줘!',\n",
       " '좋은 음악 추천해주면 듣고 싶어!',\n",
       " '주말에 할 만한 재미있는 활동이 있을까?',\n",
       " '요즘 보고 싶은 애니메이션이 있다면 뭐지?',\n",
       " '감명 깊었던 다큐멘터리 추천해줄 수 있어?',\n",
       " '혼자서 볼 수 있는 시리즈가 있다면 뭐가 좋을까?',\n",
       " '최근에 유행하는 패션 스타일이 있다면 알려줘!',\n",
       " '가볍게 할 수 있는 게임 중에서 추천할 만한 게 있을까?']"
      ]
     },
     "execution_count": 2,
     "metadata": {},
     "output_type": "execute_result"
    }
   ],
   "execution_count": 2
  },
  {
   "metadata": {},
   "cell_type": "markdown",
   "source": "### 기본 문서 검색 질문 생성 체인",
   "id": "97cc022fb3e2d248"
  },
  {
   "metadata": {},
   "cell_type": "markdown",
   "source": "",
   "id": "423d6107be6581a5"
  },
  {
   "metadata": {
    "ExecuteTime": {
     "end_time": "2025-09-18T18:55:03.330250Z",
     "start_time": "2025-09-18T18:55:03.325392Z"
    }
   },
   "cell_type": "code",
   "source": [
    "import random\n",
    "\n",
    "complex2 = [\"구체적으로(ex. '기술적 기여도 평가에서 A/B 테스트 도입이 긍정적인 결과를 가져온 사례에 대해 자세히 설명해 주실 수 있나요?', '문제 해결 능력 강화를 위한 후속 조치 제안 중 '문제 해결 세션'의 구체적인 진행 방식은 어떻게 돼?','데이터AI팀의 추가 인력 투입이나 교육 실행 시 예상되는 효과나 리스크는 무엇이 있을까?')\", \"아주 짧고 간결하게 5~10글자 내로(ex. '데이터AI 팀 업무 알려줘', '업무 인계 문서 찾아줘', '데이터AI 팀 기술 스택 알려줘봐')\"]\n",
    "\n",
    "def pick_complex2() -> str:\n",
    "    return random.choices(complex2)[0]\n",
    "\n",
    "pick_complex2()"
   ],
   "id": "9b475c3117a0982d",
   "outputs": [
    {
     "data": {
      "text/plain": [
       "\"구체적으로(ex. '기술적 기여도 평가에서 A/B 테스트 도입이 긍정적인 결과를 가져온 사례에 대해 자세히 설명해 주실 수 있나요?', '문제 해결 능력 강화를 위한 후속 조치 제안 중 '문제 해결 세션'의 구체적인 진행 방식은 어떻게 돼?','데이터AI팀의 추가 인력 투입이나 교육 실행 시 예상되는 효과나 리스크는 무엇이 있을까?')\""
      ]
     },
     "execution_count": 3,
     "metadata": {},
     "output_type": "execute_result"
    }
   ],
   "execution_count": 3
  },
  {
   "metadata": {
    "ExecuteTime": {
     "end_time": "2025-09-18T18:55:03.339396Z",
     "start_time": "2025-09-18T18:55:03.335257Z"
    }
   },
   "cell_type": "code",
   "source": [
    "def question_chain_setting():\n",
    "    llm = ChatOpenAI(model=\"gpt-4.1\", temperature=0)\n",
    "\n",
    "    basic_prompt = PromptTemplate.from_template(\n",
    "        \"\"\"\n",
    "            다음 제공되는 대화 내역을 기반으로 다음에 나올 수 있는 사용자가 궁금해할 만한 후속 질문 하나를 사용자 입장에서 질문하세요.\n",
    "            이전에 나왔던 질문은 최대한 만들지 말고, 연결된 질문으로 조금이라도 다른 질문을 만들어주세요.\n",
    "            일상적인 질문이 아니라, 이전 대화 내역에 나온 문서 관련 질문과 연결점이 있는 질문이거나 데이터 AI팀 관련 문서에 대한 질문을 만드세요.\n",
    "            질문은 반드시 {complex} 만들어야 합니다.\n",
    "\n",
    "            대화 내역: {history}\n",
    "\n",
    "            절대로 AI입장에서의 질문을 만들지 마세요.\n",
    "            ex) 추가적인 질문이 있으시면 언제든지 말씀해 주시기 바랍니다.\n",
    "            ex) 추가적으로 궁금한 사항이 있으신가요?\n",
    "            ex) 데이터 접근 권한 관리 방침에 대해 더 궁금한 사항이 있으면 말씀해 주세요.\n",
    "            ex) 안녕하세요. 다른 궁금한 점이 있으신가요?\n",
    "            ex) 안녕하십니까? 도움이 필요하신 부분이 있으신가요?\n",
    "            ex) ~~ 예시는 다음과 같습니다.\n",
    "\n",
    "\n",
    "            답변형태는 다음과 같이 해주세요.\n",
    "            ex) 빌드 결과물의 확인 방법이나 배포 과정에 대해 알고 싶어.\n",
    "            ex) 문서화 시 유의사항 알려줄 수 있나요?\n",
    "            ex) 빌드/배포 가이드의 '6. 문서화' 파트에서 문서화해야 할 내용은 뭐야?\n",
    "            ex) 모델 개발 & 성능 보고서에서 사용된 프로그래밍 언어가 뭐야?\n",
    "        \"\"\"\n",
    "    )\n",
    "\n",
    "    question_chain = basic_prompt | llm | StrOutputParser()\n",
    "\n",
    "    return question_chain"
   ],
   "id": "77c1eaac6b197340",
   "outputs": [],
   "execution_count": 4
  },
  {
   "metadata": {},
   "cell_type": "markdown",
   "source": "",
   "id": "f0415e761e012f6b"
  },
  {
   "metadata": {},
   "cell_type": "markdown",
   "source": "## 일상 질문 의도 다양화 로직",
   "id": "e76f9819a142545b"
  },
  {
   "metadata": {
    "ExecuteTime": {
     "end_time": "2025-09-18T18:55:03.353742Z",
     "start_time": "2025-09-18T18:55:03.348699Z"
    }
   },
   "cell_type": "code",
   "source": [
    "import random\n",
    "\n",
    "INTENTS = [\n",
    "    \"인사/감상\", \"영상/음악\", \"운동/스트레칭\", \"생산성/타이머\",\n",
    "    \"생활 팁/정리\", \"UX(배경/위젯)\", \"퀴즈/잡학\", \"날씨/우산 판단\",\n",
    "    \"음식\"  # <-- 과다 시 일단 제거하거나 가중치↓\n",
    "]\n",
    "\n",
    "def pick_intent() -> str:\n",
    "    # 최근 과다 의도에 역가중치 (음식이 많다면 자동으로 다른 의도 선택)\n",
    "    return random.choices(INTENTS)[0]\n",
    "\n",
    "pick_intent()"
   ],
   "id": "b6225ebaa1814db3",
   "outputs": [
    {
     "data": {
      "text/plain": [
       "'영상/음악'"
      ]
     },
     "execution_count": 5,
     "metadata": {},
     "output_type": "execute_result"
    }
   ],
   "execution_count": 5
  },
  {
   "metadata": {},
   "cell_type": "markdown",
   "source": "### 일상 질문 복잡성 다양화 로직",
   "id": "4695f6b104dfb1a"
  },
  {
   "metadata": {
    "ExecuteTime": {
     "end_time": "2025-09-18T18:55:03.378271Z",
     "start_time": "2025-09-18T18:55:03.373067Z"
    }
   },
   "cell_type": "code",
   "source": [
    "complex = [\"구체적으로(ex. '오늘 간단하게 할 수 있는 취미가 뭐가 있을까?', '여름에 어울리는 시원한 음료 추천해줘.','마음이 편안해지는 방법')\", \"아주 짧고 간결하게 5~10글자 내로(ex. '안녕', '오늘 뭐하지', '오늘 운동 추천좀')\"]\n",
    "\n",
    "def pick_complex() -> str:\n",
    "    return random.choices(complex)[0]\n",
    "\n",
    "pick_complex()"
   ],
   "id": "4b181fecc0629e6a",
   "outputs": [
    {
     "data": {
      "text/plain": [
       "\"아주 짧고 간결하게 5~10글자 내로(ex. '안녕', '오늘 뭐하지', '오늘 운동 추천좀')\""
      ]
     },
     "execution_count": 6,
     "metadata": {},
     "output_type": "execute_result"
    }
   ],
   "execution_count": 6
  },
  {
   "metadata": {},
   "cell_type": "markdown",
   "source": "### 일상 질문 생성 체인",
   "id": "506890eacfe3d978"
  },
  {
   "metadata": {
    "ExecuteTime": {
     "end_time": "2025-09-18T18:55:03.404256Z",
     "start_time": "2025-09-18T18:55:03.398259Z"
    }
   },
   "cell_type": "code",
   "source": [
    "def simple_chain_setting():\n",
    "    # 표준 말투 유지 + 중복 표현 회피 보조\n",
    "    llm = ChatOpenAI(\n",
    "        model=\"gpt-4o-mini\",\n",
    "        temperature=0.3,\n",
    "        presence_penalty=0.6,   # 이미 썼던 표현 회피 유도\n",
    "        frequency_penalty=0.3,  # 반복 억제\n",
    "    )\n",
    "\n",
    "    basic_prompt = PromptTemplate.from_template(\n",
    "        \"\"\"\n",
    "다음은 '사내 직원이 챗봇(무생물)에게' 던질 **캐주얼 인사/잡담/가벼운 추천형** 1문장을 생성하는 작업입니다.\n",
    "\n",
    "[최우선 지시(원래 규칙 포함·강화)]\n",
    "- 문서/보고서/회사자료/회사정보/설정/보안/권한/기능 설명/도움말/사용법 관련 질문·요청 금지\n",
    "- 문서에 대해 물어보는 문장 절대 금지 (예: \"문서 보여줘\", \"보고서 찾아줘\", \"사내 자료 요약해줘\" 등)\n",
    "- 사람(동료/개인)에게 묻는 질문 금지\n",
    "  - 개인 경험/감정/계획 확인: \"주말에 뭐 할 계획이신가요?\", \"오늘 뭐했어?\", \"기분 어때?\", \"어제 어땠어?\"\n",
    "  - 2인칭 친소/경어형 질문: \"~했어?\", \"~하셨나요?\", \"~계신가요?\"\n",
    "  - 상호작용 요구(사람 기준): \"같이 ~할래요?\", \"우리 ~할까요?\"\n",
    "- 의도는 반드시 다음에 맞추세요: {intent}\n",
    "- 질문은 {complex} 만들어야 합니다.\n",
    "\n",
    "[허용 의도: 컴퓨터에게 할 법한 표현만]\n",
    "- 인사·가벼운 감상: \"안녕!\", \"오늘 날씨가 꿀꿀하네..\", \"날씨 좋네!\"\n",
    "- 가벼운 추천/요청: \"오늘 저녁 뭐 먹을까?\", \"퇴근 후 뭐 할까?\", \"주말에 뭐 하면 좋을까?\"\n",
    "\n",
    "[중복/유사도 회피]\n",
    "- 아래 {history}에 포함된 과거 문장/질문과 **동일하거나 매우 유사한 의미/어휘/어순**을 피하세요.\n",
    "- 특히 다음을 지키세요:\n",
    "  1) 과거 문장과 5-그램 연속 일치가 2회 이상 발생하지 않도록 표현을 바꾸세요.\n",
    "  2) 핵심 어휘의 최소 40% 이상을 **동의어/대체 표현**으로 교체하세요.\n",
    "  3) 문장 종결(어미)와 지시 동사를 바꿔 **표현 다양성**을 확보하세요. (예: \"~추천해줘\" 반복 금지)\n",
    "\n",
    "[출력 형식]\n",
    "- 한국어, **오직 1문장**만 출력 (설명/따옴표/불릿/접두어 금지)\n",
    "- 사람 대상 과도한 공손말 금지(\"~계신가요?\" 등)\n",
    "- 가능하면 컴퓨터 지시형 동사 사용: \"~알려줘\", \"~정해줘\", \"~골라줘\", \"~하나 뽑아줘\", \"~판단해줘\", \"~틀어줘\", \"~켜줘\" 등\n",
    "- **예시 문장들의 어휘/어순을 그대로 복사하지 마세요.**\n",
    "\n",
    "[대화내용(중복 회피 기준)]\n",
    "{history}\n",
    "\n",
    "[참고 예시(그대로 쓰지 말 것)]\n",
    "- 오늘 점심 뭐 먹을지 하나만 추천해줘.\n",
    "- 주말에 가볍게 할 만한 취미 하나 알려줘.\n",
    "- 오늘은 좀 피곤하네, 기분 전환용 음악 장르 하나 골라줘.\n",
    "- 퇴근 후 간단히 볼만한 영화 한 편만 추천해줘.\n",
    "- 요즘 날씨 오락가락하네, 우산 챙길지 판단 좀 도와줘.\n",
    "\n",
    "[원치 않는 출력(절대 금지)]\n",
    "- 요즘 날씨가 정말 좋네요, 주말에 뭘 할 계획이신가요?\n",
    "- 오늘 뭐했어?\n",
    "- 어제는 어디 다녀오셨어요?\n",
    "- 주말에 같이 등산 갈래요?\n",
    "\n",
    "위 모든 규칙을 지켜 **1문장만** 출력하세요.\n",
    "        \"\"\"\n",
    "    )\n",
    "\n",
    "    simple_chain = basic_prompt | llm | StrOutputParser()\n",
    "    return simple_chain\n"
   ],
   "id": "9830923d4bce8e67",
   "outputs": [],
   "execution_count": 7
  },
  {
   "metadata": {},
   "cell_type": "markdown",
   "source": "### 검색 쿼리 정제 체인",
   "id": "6a169bbd47a5cb4b"
  },
  {
   "metadata": {
    "ExecuteTime": {
     "end_time": "2025-09-18T18:55:03.421082Z",
     "start_time": "2025-09-18T18:55:03.416085Z"
    }
   },
   "cell_type": "code",
   "source": [
    "def query_setting_for_internal_documents():\n",
    "    llm = ChatOpenAI(\n",
    "        model=\"gpt-4o-mini\",\n",
    "        temperature=0,\n",
    "        model_kwargs={\"response_format\": {\"type\": \"json_object\"}},\n",
    "    )\n",
    "\n",
    "    query_prompt = PromptTemplate.from_template(\n",
    "        \"\"\"\n",
    "       유저의 채팅 히스토리가 주어집니다.\n",
    "\n",
    "       **중요**: 이전 대화 맥락을 반드시 고려해서, 사내 문서 검색에 적합한 쿼리를 생성하세요.\n",
    "       - 현재 대화가 이전 대화와 연관되어 있다면, 이전 맥락을 반영하여 문서 검색을 위한 구체적인 쿼리를 만들어주세요.\n",
    "\n",
    "       **복잡한 질문을 어떻게 정제하고 분리할지에 대한 예시**:\n",
    "       1. 사용자가 \"API 서버의 설정과 관련된 문서와, 데이터베이스 연결 방법에 대해 알고 싶어.\"라고 물었을 경우:\n",
    "          - **정제된 쿼리**: \"API 서버 설정 방법\"과 \"데이터베이스 연결 방법\"\n",
    "          - 이처럼 복잡한 질문을 각각 분리하여 **개별적인 검색 쿼리**를 생성해야 합니다.\n",
    "\n",
    "       2. 사용자가 \"사내 보상 정책과 휴가 정책을 한 번에 찾아볼 수 있을까?\"라고 물었을 경우:\n",
    "          - **정제된 쿼리**: \"사내 보상 정책\"과 \"사내 휴가 정책\"\n",
    "          - 질문이 하나지만 여러 부분으로 나눠서 **별개의 쿼리**를 생성합니다.\n",
    "\n",
    "       3. 사용자가 \"다음 프로젝트의 개발 환경과 관련된 문서, 그리고 테스팅 방법에 대해 알려줘.\"라고 물었을 경우:\n",
    "          - **정제된 쿼리**: \"다음 프로젝트의 개발 환경\"과 \"테스팅 방법\"\n",
    "          - 복잡한 주제일 경우, 각 주제별로 **검색 쿼리**를 명확하게 분리합니다.\n",
    "\n",
    "        4. 사용자가 이전 대화에서 \"사내 휴가 정책이 어떻게 돼?\"라고 물어보고 나서 답변을 받고 나서, \"좀 더 자세히 알려줘. 그리고 인사 정책도 알려줘.\"라고 물었을 경우:\n",
    "          - **정제된 쿼리**: \"사내 휴가 정책에 대한 자세한 내용\"과 \"사내 인사 정책\"\n",
    "          - 이전 대화 내역과 이번 질문의 맥락을 고려하여 **검색 쿼리**를 생성합니다.\n",
    "\n",
    "       **주의사항**:\n",
    "       - 이전 대화에서 이미 답변이 나온 질문에 대해서는 다시 질문을 만들지 마세요.\n",
    "       - 쿼리는 1개 또는 여러 개일 수 있습니다.\n",
    "\n",
    "       대화 히스토리: {history}\n",
    "\n",
    "       JSON 반환 형태:\n",
    "       {{\"queries\": [\"사내 문서 검색 쿼리 1\", \"사내 문서 검색 쿼리 2\", ...]}}\n",
    "       \"\"\"\n",
    "    )\n",
    "\n",
    "    # 이후 이 부분에 실제로 대화 히스토리를 기반으로 쿼리들을 생성하는 로직이 들어갈 것입니다.\n",
    "    query_chain = query_prompt | llm | StrOutputParser()\n",
    "\n",
    "    return query_chain"
   ],
   "id": "2828d656992e30a9",
   "outputs": [],
   "execution_count": 8
  },
  {
   "metadata": {
    "ExecuteTime": {
     "end_time": "2025-09-18T18:55:03.856817Z",
     "start_time": "2025-09-18T18:55:03.452974Z"
    }
   },
   "cell_type": "code",
   "source": [
    "question_chain = question_chain_setting()\n",
    "query_chain = query_setting_for_internal_documents()\n",
    "simple_chain = simple_chain_setting()"
   ],
   "id": "5f2884b84dece916",
   "outputs": [],
   "execution_count": 9
  },
  {
   "metadata": {},
   "cell_type": "markdown",
   "source": "### 기존 학습 데이터에 있는 초기 일상 질문 리스트",
   "id": "821d9da6733f6c10"
  },
  {
   "metadata": {
    "ExecuteTime": {
     "end_time": "2025-09-18T18:55:03.877335Z",
     "start_time": "2025-09-18T18:55:03.863334Z"
    }
   },
   "cell_type": "code",
   "source": [
    "hello_list = ['안녕!', '반가워!', '안녕하세요!', '오늘 날씨가 꿀꿀하네..', '반가워용', '반갑습니다',\n",
    " '안녕', '반가워', '안녕하세요', '반갑습니다', '날씨 좋네!', '요즘 날씨가 정말 변덕스럽네.',\n",
    " '오늘 점심 메뉴 추천해줘.', '오늘 저녁 뭐 먹을까?', '오늘 퇴근 후 뭐 할까?', '주말에 뭐 할지 고민 중이야.',\n",
    " '오늘은 좀 피곤하네.', '이번 주 주말에 뭐 할까?', '오늘 뭐 할지 모르겠어.', '요즘 뭐 재미있는 거 있어?',\n",
    " '주말에 영화 볼까?', '오늘 기분이 좀 이상해.', '이따가 뭐 먹을까?']\n",
    "\n",
    "hello_list2 = ['오늘 기분이 어떤지 궁금해!',\n",
    " '요즘 인기 있는 음악 추천해 줄래?',\n",
    " '좋은 영화 있으면 알려줘!',\n",
    " '요즘 트렌드인 패션 아이템 뭐가 있을까?',\n",
    " '사무실에서 듣기 좋은 팟캐스트 추천해 줄 수 있어',\n",
    " '휴식 시간에 할 만한 간단한 게임 있으면 알려줘!',\n",
    " '최근에 화제가 된 뉴스는 뭐가 있을까?',\n",
    " '오늘 날씨 어때?',\n",
    " '내가 가볼 만한 여행지 추천해 줘!',\n",
    " '재밌는 책 읽고 싶은데, 추천할 만한 거 있어?',\n",
    " '요즘 인기 있는 TV 프로그램 있으면 알려줘!',\n",
    " '간단한 요리 레시피 알려줄래?',\n",
    " '주말에 놀러 갈 만한 장소 추천해 줘!',\n",
    " '요즘 핫한 카페나 맛집 정보 있으면 알려줘!',\n",
    " '기분 전환할 만한 좋은 방법이 있을까?',\n",
    " '새로운 취미를 시작해 보고 싶은데 뭐가 좋을까?',\n",
    " '사무실에 어울리는 음악 플레이리스트 추천해 줘!',\n",
    " '감동적인 영화 있으면 한 편 추천해 줘!',\n",
    " '인기 있는 앱이나 웹사이트 알려줄래?',\n",
    " '오늘의 긍정적인 메시지 하나 던져 줄래?',\n",
    " '가벼운 스트레칭 방법 추천해 줘!',\n",
    " '재밌는 유튜브 채널 알려줄 수 있어?',\n",
    " '감상할 만한 미술 전시회 있으면 추천해 줘!',\n",
    " '건강한 스낵 아이디어가 있다면 알려줘!',\n",
    " '요즘 사람들 사이에서 인기 있는 활동이 뭐지?',\n",
    " '오늘 날씨 어때?',\n",
    " '요즘 핫한 영화 추천해줄 수 있어?',\n",
    " '좋아하는 음악 있으면 알려줘!',\n",
    " '최근에 나온 책 중에 읽어볼 만한 거 있어?',\n",
    " '어떤 유튜브 채널 재미있어?',\n",
    " '오늘 기분 좋게 해줄 만한 명언 하나 알려줘!',\n",
    " '나에게 어울리는 디저트 추천해줘!',\n",
    " '주말에 할 만한 활동이 있을까?',\n",
    " '요즘 인기 있는 드라마 뭐야?',\n",
    " '나랑 잘 맞는 취미가 뭐라고 생각해?',\n",
    " '스트레스 해소하는 방법 몇 가지 알려줘!',\n",
    " '재미있는 팟캐스트 추천해줄래?',\n",
    " '다음에 가볼 만한 여행지 있으면 알려줘!',\n",
    " '내가 좋아할 만한 게임 뭐 있을까?',\n",
    " '나에게 맞는 카페 스타일은 뭐일까?',\n",
    " '요즘 트렌디한 패션 아이템 추천해줘!',\n",
    " '분위기 좋은 음악 추천해줄 수 있어?',\n",
    " '나한테 어울리는 색상은 뭐라고 생각해?',\n",
    " '새로운 레시피 하나 추천해줘!',\n",
    " '가끔 찾고 싶은 동기부여 영상 있어?',\n",
    " '앞으로 주목할 만한 기술 트렌드 뭐가 있을까?',\n",
    " '요즘 유행하는 운동 방법 알려줘!',\n",
    " '내가 좋아할 만한 SNS 계정 있으면 추천해줘!',\n",
    " '나에게 어울릴 것 같은 차 한 잔 추천해줘!',\n",
    " '여름에 듣기 좋은 음악 리스트 만들어줄래?',\n",
    " '오늘 기분 좋은 음악 추천해줄 수 있어?',\n",
    " '최근에 인기 있는 영화 어떤 게 있을까?',\n",
    " '요즘 핫한 책 제목 좀 알려줘!',\n",
    " '주말에 하기 좋은 취미 활동은 뭐가 있을까?',\n",
    " '새로운 팟캐스트 추천해줄 수 있어?',\n",
    " '가볍게 읽기 좋은 웹툰 뭐가 있을까?',\n",
    " '요즘 유행하는 요리법 알고 있어?',\n",
    " '최근에 나온 게임 중에 추천할 만한 게 있을까?',\n",
    " '오늘의 날씨에 딱 맞는 음악이 있을까?',\n",
    " '스트레스 풀기 좋은 영화 한 편 추천해줘!',\n",
    " '출퇴근길에 듣기 좋은 음악 리스트 좀 만들어줄래?',\n",
    " '여름에 가기 좋은 여행지 추천해줄 수 있어?  ',\n",
    " '기분 전환에 좋은 활동 뭐가 있을까?  ',\n",
    " '맛있는 디저트 레시피 알고 있어?  ',\n",
    " '친구한테 선물하기 좋은 아이템 추천해줘!  ',\n",
    " '요즘 사람들이 많이 하는 운동 뭐가 있을까?  ',\n",
    " '겨울에 추천하는 따뜻한 음료는 뭐가 있을까?  ',\n",
    " '새로운 앱 중에 유용한 거 있어?  ',\n",
    " '주말에 볼 만한 드라마 추천해줄 수 있어?  ',\n",
    " '간단하게 만들 수 있는 스낵 레시피 알고 있어?  ',\n",
    " '특별한 날에 어울리는 배경 음악 추천해줘!  ',\n",
    " '근사한 카페 정보 좀 알려줄 수 있어?  ',\n",
    " '요즘 인싸템으로 뭐가 유행하고 있어?  ',\n",
    " '간단한 자기계발 팁 알려줄 수 있어?  ',\n",
    " '혼자 여행하기 좋은 장소 추천해줘!',\n",
    " '오늘 기분이 어떤지 알려줄 수 있어?  ',\n",
    " '요즘 인기 있는 영화 추천해 줄래?  ',\n",
    " '좋은 책이 있으면 소개해 줘.  ',\n",
    " '최신 음악 트렌드 좀 알려줄래?  ',\n",
    " '요즘 날씨가 어떤지 궁금해.  ',\n",
    " '가벼운 운동 추천해 줄 수 있어?  ',\n",
    " '주말에 할 만한 액티비티가 뭐가 있을까?  ',\n",
    " '스트레스 푸는 방법 좀 알려줘.  ',\n",
    " '취미로 하기 좋은 것 추천해 줄 수 있어?  ',\n",
    " '간단한 요리 레시피 하나 알려줘.  ',\n",
    " '최근에 인기 있는 앱 있으면 추천해 줘.  ',\n",
    " '여행지로 가기 좋은 곳이 어디일까?  ',\n",
    " '친구한테 선물하기 좋은 아이템 뭐가 있을까?  ',\n",
    " '이 계절에 가볼 만한 카페 있어?  ',\n",
    " '요즘 유행하는 패션 트렌드가 뭐야?  ',\n",
    " '마음에 드는 음악 장르 추천해줘.  ',\n",
    " '편안하게 쉴 수 있는 장소가 있을까?  ',\n",
    " '영화관에서 볼 만한 좋은 영화가 뭐야?  ',\n",
    " '효과적인 공부 방법 좀 알려줄 수 있어?  ',\n",
    " '최근에 본 뉴스 중 재미있는 거 있어?  ',\n",
    " '간단하게 즐길 수 있는 게임 추천해 줘.  ',\n",
    " '긴장을 푸는 방법 뭐가 있을까?  ',\n",
    " '자기계발에 좋은 강좌 추천해 줄래?  ',\n",
    " '나만의 루틴 만들기에 대한 팁이 있을까?  ',\n",
    " '일상에서 행복을 느끼게 해주는 작은 것들이 뭐가 있을까?',\n",
    " '오늘 날씨 어때?  ',\n",
    " '요즘 인기 있는 영화 추천해줘.  ',\n",
    " '좋은 음악 플레이리스트 있으면 공유해줘.  ',\n",
    " '최근 트렌드 중에서 뭐가 제일 흥미로워 보여?  ',\n",
    " '주말에 가볼 만한 장소 추천해줄래?  ',\n",
    " '재미있는 팟캐스트 있으면 알려줘.  ',\n",
    " '요즘 읽기 좋은 책 있으면 추천해줘.  ',\n",
    " '차 한 잔 할 만한 카페 추천해줘.  ',\n",
    " '요즘 즐겨 보는 TV 프로그램은 뭐야?  ',\n",
    " '좋은 요리 레시피 있으면 알려줘.  ',\n",
    " '이런 날씨에 어울리는 음악은 뭐야?  ',\n",
    " '웹툰 중에서 추천할 만한 게 있어?  ',\n",
    " '최근에 인기 있는 게임 뭐가 있는지 알고 싶어.  ',\n",
    " '좋은 운동 방법이나 루틴이 있으면 알려줘.  ',\n",
    " '기분 전환에 좋은 활동 추천해줘.  ',\n",
    " '친구에게 선물할 만한 아이템 있을까?  ',\n",
    " '오늘 하루 마무리하는 좋은 방법이 있을까?  ',\n",
    " '제철 음식 중에 추천할 만한 것이 뭐야?  ',\n",
    " '기분이 좋을 때 듣기 좋은 음악은 뭐야?  ',\n",
    " '이색적인 여행지 추천해줄 수 있어?  ',\n",
    " '재미있는 일화나 유머가 있으면 들려줘.  ',\n",
    " '나만의 루틴을 만드는 데 도움이 될 만한 조언이 있을까?  ',\n",
    " '간단하게 할 수 있는 취미가 뭐가 있을까?  ',\n",
    " '여름에 어울리는 시원한 음료 추천해줘.  ',\n",
    " '마음이 편안해지는 방법이 있을까?',\n",
    " '오늘 날씨가 좋은데, 어떤 기분이 드는지 궁금해!  ',\n",
    " '요즘 가장 인기 있는 영화가 뭐인지 알고 있어?  ',\n",
    " '내가 한번 읽어볼 만한 좋은 책 추천해줄래?  ',\n",
    " '이 음악 어떤 느낌인지 한번 들어보고 싶어!  ',\n",
    " '여행 가기 좋은 곳이 어디인지 알려줄 수 있어?  ',\n",
    " '최근에 유행하는 패션 아이템이 뭐인지 궁금해!  ',\n",
    " '지금 듣고 있는 노래의 분위기가 어때?  ',\n",
    " '좋은 카페가 있으면 추천해줄 수 있어?  ',\n",
    " '요즘 핫한 레스토랑은 어디인지 알고 있어?  ',\n",
    " '요즘 인기 있는 게임 좀 알려줄래?  ',\n",
    " '내가 할 만한 취미 활동이 뭐가 있을까?  ',\n",
    " '최근에 재밌게 본 유튜브 채널이 뭐야?  ',\n",
    " '요즘 뜨고 있는 TV 프로그램이 있다면 뭐지?  ',\n",
    " '다양한 커피 종류 중 어떤 게 맛있을까?  ',\n",
    " '네가 추천하는 간식은 뭐야?  ',\n",
    " '최근에 본 전시회 중에서 추천할 만한 게 있을까?  ',\n",
    " '자주 가는 운동이 있으면 알려줄 수 있어?  ',\n",
    " '유명한 디저트 카페가 있다면 추천해줘!  ',\n",
    " '좋은 음악 추천해주면 듣고 싶어!  ',\n",
    " '주말에 할 만한 재미있는 활동이 있을까?  ',\n",
    " '요즘 보고 싶은 애니메이션이 있다면 뭐지?  ',\n",
    " '감명 깊었던 다큐멘터리 추천해줄 수 있어?  ',\n",
    " '혼자서 볼 수 있는 시리즈가 있다면 뭐가 좋을까?  ',\n",
    " '최근에 유행하는 패션 스타일이 있다면 알려줘!  ',\n",
    " '가볍게 할 수 있는 게임 중에서 추천할 만한 게 있을까?']\n",
    "\n",
    "hello_list3 = []\n",
    "\n",
    "for hello in hello_list2:\n",
    "    hello = hello.strip()\n",
    "    hello_list3.append(hello)\n",
    "\n",
    "\n",
    "hello_list = hello_list3 + hello_list\n",
    "hello_list\n"
   ],
   "id": "a6333f8ff575f555",
   "outputs": [
    {
     "data": {
      "text/plain": [
       "['오늘 기분이 어떤지 궁금해!',\n",
       " '요즘 인기 있는 음악 추천해 줄래?',\n",
       " '좋은 영화 있으면 알려줘!',\n",
       " '요즘 트렌드인 패션 아이템 뭐가 있을까?',\n",
       " '사무실에서 듣기 좋은 팟캐스트 추천해 줄 수 있어',\n",
       " '휴식 시간에 할 만한 간단한 게임 있으면 알려줘!',\n",
       " '최근에 화제가 된 뉴스는 뭐가 있을까?',\n",
       " '오늘 날씨 어때?',\n",
       " '내가 가볼 만한 여행지 추천해 줘!',\n",
       " '재밌는 책 읽고 싶은데, 추천할 만한 거 있어?',\n",
       " '요즘 인기 있는 TV 프로그램 있으면 알려줘!',\n",
       " '간단한 요리 레시피 알려줄래?',\n",
       " '주말에 놀러 갈 만한 장소 추천해 줘!',\n",
       " '요즘 핫한 카페나 맛집 정보 있으면 알려줘!',\n",
       " '기분 전환할 만한 좋은 방법이 있을까?',\n",
       " '새로운 취미를 시작해 보고 싶은데 뭐가 좋을까?',\n",
       " '사무실에 어울리는 음악 플레이리스트 추천해 줘!',\n",
       " '감동적인 영화 있으면 한 편 추천해 줘!',\n",
       " '인기 있는 앱이나 웹사이트 알려줄래?',\n",
       " '오늘의 긍정적인 메시지 하나 던져 줄래?',\n",
       " '가벼운 스트레칭 방법 추천해 줘!',\n",
       " '재밌는 유튜브 채널 알려줄 수 있어?',\n",
       " '감상할 만한 미술 전시회 있으면 추천해 줘!',\n",
       " '건강한 스낵 아이디어가 있다면 알려줘!',\n",
       " '요즘 사람들 사이에서 인기 있는 활동이 뭐지?',\n",
       " '오늘 날씨 어때?',\n",
       " '요즘 핫한 영화 추천해줄 수 있어?',\n",
       " '좋아하는 음악 있으면 알려줘!',\n",
       " '최근에 나온 책 중에 읽어볼 만한 거 있어?',\n",
       " '어떤 유튜브 채널 재미있어?',\n",
       " '오늘 기분 좋게 해줄 만한 명언 하나 알려줘!',\n",
       " '나에게 어울리는 디저트 추천해줘!',\n",
       " '주말에 할 만한 활동이 있을까?',\n",
       " '요즘 인기 있는 드라마 뭐야?',\n",
       " '나랑 잘 맞는 취미가 뭐라고 생각해?',\n",
       " '스트레스 해소하는 방법 몇 가지 알려줘!',\n",
       " '재미있는 팟캐스트 추천해줄래?',\n",
       " '다음에 가볼 만한 여행지 있으면 알려줘!',\n",
       " '내가 좋아할 만한 게임 뭐 있을까?',\n",
       " '나에게 맞는 카페 스타일은 뭐일까?',\n",
       " '요즘 트렌디한 패션 아이템 추천해줘!',\n",
       " '분위기 좋은 음악 추천해줄 수 있어?',\n",
       " '나한테 어울리는 색상은 뭐라고 생각해?',\n",
       " '새로운 레시피 하나 추천해줘!',\n",
       " '가끔 찾고 싶은 동기부여 영상 있어?',\n",
       " '앞으로 주목할 만한 기술 트렌드 뭐가 있을까?',\n",
       " '요즘 유행하는 운동 방법 알려줘!',\n",
       " '내가 좋아할 만한 SNS 계정 있으면 추천해줘!',\n",
       " '나에게 어울릴 것 같은 차 한 잔 추천해줘!',\n",
       " '여름에 듣기 좋은 음악 리스트 만들어줄래?',\n",
       " '오늘 기분 좋은 음악 추천해줄 수 있어?',\n",
       " '최근에 인기 있는 영화 어떤 게 있을까?',\n",
       " '요즘 핫한 책 제목 좀 알려줘!',\n",
       " '주말에 하기 좋은 취미 활동은 뭐가 있을까?',\n",
       " '새로운 팟캐스트 추천해줄 수 있어?',\n",
       " '가볍게 읽기 좋은 웹툰 뭐가 있을까?',\n",
       " '요즘 유행하는 요리법 알고 있어?',\n",
       " '최근에 나온 게임 중에 추천할 만한 게 있을까?',\n",
       " '오늘의 날씨에 딱 맞는 음악이 있을까?',\n",
       " '스트레스 풀기 좋은 영화 한 편 추천해줘!',\n",
       " '출퇴근길에 듣기 좋은 음악 리스트 좀 만들어줄래?',\n",
       " '여름에 가기 좋은 여행지 추천해줄 수 있어?',\n",
       " '기분 전환에 좋은 활동 뭐가 있을까?',\n",
       " '맛있는 디저트 레시피 알고 있어?',\n",
       " '친구한테 선물하기 좋은 아이템 추천해줘!',\n",
       " '요즘 사람들이 많이 하는 운동 뭐가 있을까?',\n",
       " '겨울에 추천하는 따뜻한 음료는 뭐가 있을까?',\n",
       " '새로운 앱 중에 유용한 거 있어?',\n",
       " '주말에 볼 만한 드라마 추천해줄 수 있어?',\n",
       " '간단하게 만들 수 있는 스낵 레시피 알고 있어?',\n",
       " '특별한 날에 어울리는 배경 음악 추천해줘!',\n",
       " '근사한 카페 정보 좀 알려줄 수 있어?',\n",
       " '요즘 인싸템으로 뭐가 유행하고 있어?',\n",
       " '간단한 자기계발 팁 알려줄 수 있어?',\n",
       " '혼자 여행하기 좋은 장소 추천해줘!',\n",
       " '오늘 기분이 어떤지 알려줄 수 있어?',\n",
       " '요즘 인기 있는 영화 추천해 줄래?',\n",
       " '좋은 책이 있으면 소개해 줘.',\n",
       " '최신 음악 트렌드 좀 알려줄래?',\n",
       " '요즘 날씨가 어떤지 궁금해.',\n",
       " '가벼운 운동 추천해 줄 수 있어?',\n",
       " '주말에 할 만한 액티비티가 뭐가 있을까?',\n",
       " '스트레스 푸는 방법 좀 알려줘.',\n",
       " '취미로 하기 좋은 것 추천해 줄 수 있어?',\n",
       " '간단한 요리 레시피 하나 알려줘.',\n",
       " '최근에 인기 있는 앱 있으면 추천해 줘.',\n",
       " '여행지로 가기 좋은 곳이 어디일까?',\n",
       " '친구한테 선물하기 좋은 아이템 뭐가 있을까?',\n",
       " '이 계절에 가볼 만한 카페 있어?',\n",
       " '요즘 유행하는 패션 트렌드가 뭐야?',\n",
       " '마음에 드는 음악 장르 추천해줘.',\n",
       " '편안하게 쉴 수 있는 장소가 있을까?',\n",
       " '영화관에서 볼 만한 좋은 영화가 뭐야?',\n",
       " '효과적인 공부 방법 좀 알려줄 수 있어?',\n",
       " '최근에 본 뉴스 중 재미있는 거 있어?',\n",
       " '간단하게 즐길 수 있는 게임 추천해 줘.',\n",
       " '긴장을 푸는 방법 뭐가 있을까?',\n",
       " '자기계발에 좋은 강좌 추천해 줄래?',\n",
       " '나만의 루틴 만들기에 대한 팁이 있을까?',\n",
       " '일상에서 행복을 느끼게 해주는 작은 것들이 뭐가 있을까?',\n",
       " '오늘 날씨 어때?',\n",
       " '요즘 인기 있는 영화 추천해줘.',\n",
       " '좋은 음악 플레이리스트 있으면 공유해줘.',\n",
       " '최근 트렌드 중에서 뭐가 제일 흥미로워 보여?',\n",
       " '주말에 가볼 만한 장소 추천해줄래?',\n",
       " '재미있는 팟캐스트 있으면 알려줘.',\n",
       " '요즘 읽기 좋은 책 있으면 추천해줘.',\n",
       " '차 한 잔 할 만한 카페 추천해줘.',\n",
       " '요즘 즐겨 보는 TV 프로그램은 뭐야?',\n",
       " '좋은 요리 레시피 있으면 알려줘.',\n",
       " '이런 날씨에 어울리는 음악은 뭐야?',\n",
       " '웹툰 중에서 추천할 만한 게 있어?',\n",
       " '최근에 인기 있는 게임 뭐가 있는지 알고 싶어.',\n",
       " '좋은 운동 방법이나 루틴이 있으면 알려줘.',\n",
       " '기분 전환에 좋은 활동 추천해줘.',\n",
       " '친구에게 선물할 만한 아이템 있을까?',\n",
       " '오늘 하루 마무리하는 좋은 방법이 있을까?',\n",
       " '제철 음식 중에 추천할 만한 것이 뭐야?',\n",
       " '기분이 좋을 때 듣기 좋은 음악은 뭐야?',\n",
       " '이색적인 여행지 추천해줄 수 있어?',\n",
       " '재미있는 일화나 유머가 있으면 들려줘.',\n",
       " '나만의 루틴을 만드는 데 도움이 될 만한 조언이 있을까?',\n",
       " '간단하게 할 수 있는 취미가 뭐가 있을까?',\n",
       " '여름에 어울리는 시원한 음료 추천해줘.',\n",
       " '마음이 편안해지는 방법이 있을까?',\n",
       " '오늘 날씨가 좋은데, 어떤 기분이 드는지 궁금해!',\n",
       " '요즘 가장 인기 있는 영화가 뭐인지 알고 있어?',\n",
       " '내가 한번 읽어볼 만한 좋은 책 추천해줄래?',\n",
       " '이 음악 어떤 느낌인지 한번 들어보고 싶어!',\n",
       " '여행 가기 좋은 곳이 어디인지 알려줄 수 있어?',\n",
       " '최근에 유행하는 패션 아이템이 뭐인지 궁금해!',\n",
       " '지금 듣고 있는 노래의 분위기가 어때?',\n",
       " '좋은 카페가 있으면 추천해줄 수 있어?',\n",
       " '요즘 핫한 레스토랑은 어디인지 알고 있어?',\n",
       " '요즘 인기 있는 게임 좀 알려줄래?',\n",
       " '내가 할 만한 취미 활동이 뭐가 있을까?',\n",
       " '최근에 재밌게 본 유튜브 채널이 뭐야?',\n",
       " '요즘 뜨고 있는 TV 프로그램이 있다면 뭐지?',\n",
       " '다양한 커피 종류 중 어떤 게 맛있을까?',\n",
       " '네가 추천하는 간식은 뭐야?',\n",
       " '최근에 본 전시회 중에서 추천할 만한 게 있을까?',\n",
       " '자주 가는 운동이 있으면 알려줄 수 있어?',\n",
       " '유명한 디저트 카페가 있다면 추천해줘!',\n",
       " '좋은 음악 추천해주면 듣고 싶어!',\n",
       " '주말에 할 만한 재미있는 활동이 있을까?',\n",
       " '요즘 보고 싶은 애니메이션이 있다면 뭐지?',\n",
       " '감명 깊었던 다큐멘터리 추천해줄 수 있어?',\n",
       " '혼자서 볼 수 있는 시리즈가 있다면 뭐가 좋을까?',\n",
       " '최근에 유행하는 패션 스타일이 있다면 알려줘!',\n",
       " '가볍게 할 수 있는 게임 중에서 추천할 만한 게 있을까?',\n",
       " '안녕!',\n",
       " '반가워!',\n",
       " '안녕하세요!',\n",
       " '오늘 날씨가 꿀꿀하네..',\n",
       " '반가워용',\n",
       " '반갑습니다',\n",
       " '안녕',\n",
       " '반가워',\n",
       " '안녕하세요',\n",
       " '반갑습니다',\n",
       " '날씨 좋네!',\n",
       " '요즘 날씨가 정말 변덕스럽네.',\n",
       " '오늘 점심 메뉴 추천해줘.',\n",
       " '오늘 저녁 뭐 먹을까?',\n",
       " '오늘 퇴근 후 뭐 할까?',\n",
       " '주말에 뭐 할지 고민 중이야.',\n",
       " '오늘은 좀 피곤하네.',\n",
       " '이번 주 주말에 뭐 할까?',\n",
       " '오늘 뭐 할지 모르겠어.',\n",
       " '요즘 뭐 재미있는 거 있어?',\n",
       " '주말에 영화 볼까?',\n",
       " '오늘 기분이 좀 이상해.',\n",
       " '이따가 뭐 먹을까?']"
      ]
     },
     "execution_count": 10,
     "metadata": {},
     "output_type": "execute_result"
    }
   ],
   "execution_count": 10
  },
  {
   "metadata": {},
   "cell_type": "markdown",
   "source": "### 학습 데이터 생성함수",
   "id": "612bf01919a33cf1"
  },
  {
   "cell_type": "code",
   "id": "8a3d8ed45acbadab",
   "metadata": {
    "ExecuteTime": {
     "end_time": "2025-09-18T18:55:20.875311Z",
     "start_time": "2025-09-18T18:55:20.862846Z"
    }
   },
   "source": [
    "import copy\n",
    "\n",
    "tool_prompt = \"\"\"\n",
    "사용자는 Data AI(데이터 AI)팀에 속한 팀원입니다.\n",
    "당신은 <tools></tools> 안에 있는 tool을 호출하여 문서를 검색할 수 있습니다.\n",
    "일상적인 질문(ex: 안녕, 안녕하세요, 반가워 등)의 경우, tool 호출 없이 바로 답변하세요.\n",
    "\n",
    "# Tools\n",
    "\n",
    "You may call one or more functions to assist with the user query.\n",
    "\n",
    "You are provided with function signatures within <tools></tools> XML tags:\n",
    "<tools>\n",
    "{\"type\": \"function\", \"function\": {\"name\": \"data_ai_search\", \"description\": \"사내 문서 검색을 위한 도구입니다. 대화 내역을 바탕으로 사용자가 원하는 문서를 찾고, 관련된 문서를 반환합니다.\", \"parameters\": {\"type\": \"object\", \"properties\": {\"keyword\": {\"type\": \"string\", \"description\": \"검색할 문서 키워드 (예: \\'코드노바 API 서버 설정\\')\"}}, \"required\": [\"keyword\"], \"additionalProperties\": false}}}\n",
    "</tools>\n",
    "\n",
    "For each function call, return a json object with function name and arguments within <tool_call></tool_call> XML tags:\n",
    "<tool_call>\n",
    "{\"name\": <function-name>, \"arguments\": <args-json-object>}'\n",
    "</tool_call>\n",
    "\"\"\"\n",
    "\n",
    "\n",
    "system_message = f\"\"\"\n",
    "당신은 사내 지식을 활용하여 사용자의 질문에 정확하고 유용한 답변을 제공하는 코드노바의 사내 문서 AI 챗봇입니다.\n",
    "\n",
    "{tool_prompt}\n",
    "\n",
    "그리고 다음 지침을 반드시 따르세요:\n",
    "1. 기존의 말투는 잊고 정중하고 사무적인 어조로 답변해야 하세요.\n",
    "2. 대화 내역의 말투도 참고하지 말고 무조건 정중하고 사무적인 어조로 답변하세요\n",
    "3. 사실에 기반한 정보를 사용하세요.\n",
    "4. 사용자의 질문에 대한 답변을 문서에서 찾을 수 없을 경우, \"잘 모르겠습니다\"라고 솔직하게 말하세요.\n",
    "5. 사용자가 문서에 대한 질문이 아닌, \"안녕\"과 같은 일상적인 질문을 한다면 해당 내용에 대해서 적절히 답변해주세요.\n",
    "6. 답변이 너무 길지 않게 하세요.\n",
    "7. 사용자의 말투와 상관 없이, 반드시 정중하고 사무적인 어조로 답변해야 합니다.\n",
    "\"\"\"\n",
    "\n",
    "SYSTEM_PROMPT = {\n",
    "    \"role\": \"system\",\n",
    "    \"content\": system_message\n",
    "}\n",
    "\n",
    "def parse_queries(resp_text: str, fallback: str) -> list[str]:\n",
    "    try:\n",
    "        obj = json.loads(resp_text)\n",
    "    except json.JSONDecodeError:\n",
    "        return [fallback]\n",
    "    q = obj.get(\"queries\", fallback)\n",
    "    if isinstance(q, str):\n",
    "        q = [q]\n",
    "    elif isinstance(q, list):\n",
    "        q = [s.strip() for s in q if isinstance(s, str) and s.strip()]\n",
    "    else:\n",
    "        q = [fallback]\n",
    "    return q or [fallback]\n",
    "\n",
    "def generate_one_chat_sample(initial_q: str, max_turns: int = 5):\n",
    "    messages = [SYSTEM_PROMPT]\n",
    "    current_q = initial_q\n",
    "\n",
    "    query = True\n",
    "\n",
    "    for turn in range(randint(2, max_turns + 1)):\n",
    "        # (1) User 질문 추가\n",
    "        messages.append({\"role\": \"user\", \"content\": current_q})\n",
    "        print(current_q)\n",
    "\n",
    "        if current_q not in hello_list and query:\n",
    "            response = query_chain.invoke({\"history\": messages})\n",
    "            questions = parse_queries(response, fallback=current_q)\n",
    "\n",
    "            tool_calls = []\n",
    "            tool_responses = []\n",
    "            for question in questions:\n",
    "                tool_calls.append(f\"<tool_call>{{\\\"name\\\": \\\"data_ai_search\\\", \\\"arguments\\\": {{\\\"keyword\\\": \\\"{question}\\\"}}}}</tool_call>\")\n",
    "\n",
    "                # (2) 문서 검색 (vectorstore에서)\n",
    "                k = randint(4,8)\n",
    "                docs = vectorstore.similarity_search(question, k=k)\n",
    "                if docs:\n",
    "                    ref_text = \"\\n\".join([f\"{doc.page_content} [[ref{idx+1}]]\" for idx, doc in enumerate(docs)])\n",
    "                else:\n",
    "                    ref_text = \"검색 결과가 없습니다.\"\n",
    "                ref_text = f\"검색 결과:\\n-----\\n{ref_text}\"\n",
    "                tool_responses.append(f\"<tool_response>{ref_text}</tool_response>\")\n",
    "            tool_call = \"\\n\".join(tool_calls).strip()\n",
    "            tool_response = \"\\n\".join(tool_responses).strip()\n",
    "\n",
    "            if tool_call:\n",
    "                messages.append({\"role\": \"assistant\", \"content\": tool_call})\n",
    "            if tool_response:\n",
    "                messages.append({\"role\": \"user\", \"content\": tool_response})\n",
    "\n",
    "        # (3) assistant 답변 (GPT로 RAG)\n",
    "        messages_copy = copy.deepcopy(messages)\n",
    "        messages_copy[0]['content'] += '8. tool call 메세지는 tool call만 담겨 있어야 하고, 실제 답변에서는 tool call을 하지 않습니다. 당신이 tool call을 하지 않아도 됩니다.'\n",
    "        response = client.chat.completions.create(\n",
    "            model=\"gpt-4.1-mini\",\n",
    "            messages=messages_copy,\n",
    "            temperature=0.2\n",
    "        )\n",
    "        assistant_reply = (response.choices[0].message.content or \"\").strip()\n",
    "        # [Fix-4] 비어 있으면 기본 문구로 대체(선택)\n",
    "        if not assistant_reply:\n",
    "            assistant_reply = \"요청하신 내용과 관련된 정보를 찾지 못했습니다. 다른 키워드로 다시 말씀해 주시면 확인하겠습니다.\"\n",
    "        messages.append({\"role\": \"assistant\", \"content\": assistant_reply})\n",
    "\n",
    "        # 다음 질문 생성 여부 랜덤 (5턴이 max면 4턴 미만일때만 질문 생성)\n",
    "        if turn < max_turns - 1 and choice([True, False]):\n",
    "            if choice([True, False]):\n",
    "                complex1 = pick_complex2()\n",
    "                followup = question_chain.invoke({\n",
    "                \"history\": messages,\"complex\": complex1\n",
    "            })\n",
    "                current_q = followup\n",
    "                query = True\n",
    "            else:\n",
    "                intent = pick_intent()\n",
    "                complex2 = pick_complex()\n",
    "                followup = simple_chain.invoke({\"history\": messages, \"intent\": intent, \"complex\": complex2})\n",
    "                current_q = followup\n",
    "                query = False\n",
    "        else:\n",
    "            break\n",
    "\n",
    "    return {\"messages\": messages}"
   ],
   "outputs": [],
   "execution_count": 11
  },
  {
   "cell_type": "code",
   "id": "f0ef55c136165569",
   "metadata": {
    "ExecuteTime": {
     "end_time": "2025-09-18T19:31:38.776563Z",
     "start_time": "2025-09-18T18:55:22.687169Z"
    }
   },
   "source": [
    "import time\n",
    "from tqdm import tqdm\n",
    "\n",
    "train_dataset = []\n",
    "for q in tqdm(initial_questions):\n",
    "    time.sleep(1)  # 1초 대기\n",
    "    sample = generate_one_chat_sample(q, max_turns=4)\n",
    "    train_dataset.append(sample)\n",
    "\n",
    "# 저장\n",
    "with open(f\"qwen3_company_train_dataset_{permission}3.json\", \"w\", encoding=\"utf-8\") as f:\n",
    "    json.dump(train_dataset, f, ensure_ascii=False, indent=2)\n"
   ],
   "outputs": [
    {
     "name": "stderr",
     "output_type": "stream",
     "text": [
      "  0%|          | 0/276 [00:00<?, ?it/s]"
     ]
    },
    {
     "name": "stdout",
     "output_type": "stream",
     "text": [
      "모델 성능 평가 보고서에서 Random Forest 모델의 정확도는 어떻게 되나요?\n"
     ]
    },
    {
     "name": "stderr",
     "output_type": "stream",
     "text": [
      "  0%|          | 1/276 [00:04<22:17,  4.86s/it]"
     ]
    },
    {
     "name": "stdout",
     "output_type": "stream",
     "text": [
      "모델 성능 평가 보고서의 4. 성능 지표 및 기준 섹션에서 F1 점수의 기준은 무엇인가요?\n"
     ]
    },
    {
     "name": "stderr",
     "output_type": "stream",
     "text": [
      "  1%|          | 2/276 [00:09<22:24,  4.91s/it]"
     ]
    },
    {
     "name": "stdout",
     "output_type": "stream",
     "text": [
      "모델 성능 평가 보고서의 3. 실험/테스트 절차에서 훈련 데이터와 검증 데이터의 비율은 어떻게 되나요?\n",
      "오늘 저녁에 간단하게 만들 수 있는 요리 하나 추천해줘.\n"
     ]
    },
    {
     "name": "stderr",
     "output_type": "stream",
     "text": [
      "  1%|          | 3/276 [00:19<32:14,  7.09s/it]"
     ]
    },
    {
     "name": "stdout",
     "output_type": "stream",
     "text": [
      "모델 성능 평가 보고서에서 제안된 개선 방안 중 데이터 불균형 해소를 위한 방법은 무엇인가요?\n",
      "오버샘플링 구체 방법 알려줘\n"
     ]
    },
    {
     "name": "stderr",
     "output_type": "stream",
     "text": [
      "  1%|▏         | 4/276 [00:28<35:23,  7.81s/it]"
     ]
    },
    {
     "name": "stdout",
     "output_type": "stream",
     "text": [
      "모델 성능 평가 보고서의 5. 결과 요약 및 검증 포인트에서 검증 포인트로 제시된 항목은 무엇인가요?\n"
     ]
    },
    {
     "name": "stderr",
     "output_type": "stream",
     "text": [
      "  2%|▏         | 5/276 [00:33<30:29,  6.75s/it]"
     ]
    },
    {
     "name": "stdout",
     "output_type": "stream",
     "text": [
      "모델 성능 평가 보고서의 4. 성능 지표 및 기준에서 Accuracy의 기준은 얼마인가요?\n"
     ]
    },
    {
     "name": "stderr",
     "output_type": "stream",
     "text": [
      "  2%|▏         | 6/276 [00:36<24:57,  5.55s/it]"
     ]
    },
    {
     "name": "stdout",
     "output_type": "stream",
     "text": [
      "모델 성능 평가 보고서의 3. 실험/테스트 절차에서 하이퍼파라미터 튜닝이 완료되었는지 확인하는 체크리스트 항목은 무엇인가요?\n"
     ]
    },
    {
     "name": "stderr",
     "output_type": "stream",
     "text": [
      "  3%|▎         | 7/276 [00:42<24:50,  5.54s/it]"
     ]
    },
    {
     "name": "stdout",
     "output_type": "stream",
     "text": [
      "모델 성능 평가 보고서의 6. 리스크/한계 및 개선 제안에서 데이터 편향의 리스크는 어떤 상황에서 발생할 수 있나요?\n"
     ]
    },
    {
     "name": "stderr",
     "output_type": "stream",
     "text": [
      "  3%|▎         | 8/276 [00:46<23:47,  5.33s/it]"
     ]
    },
    {
     "name": "stdout",
     "output_type": "stream",
     "text": [
      "데이터 수집 단계에서 데이터 소스 식별 및 목록화는 어떻게 진행되나요?\n"
     ]
    },
    {
     "name": "stderr",
     "output_type": "stream",
     "text": [
      "  3%|▎         | 9/276 [00:52<23:40,  5.32s/it]"
     ]
    },
    {
     "name": "stdout",
     "output_type": "stream",
     "text": [
      "데이터 전처리에서 결측치 처리 방법은 어떤 기준으로 결정하나요?\n",
      "결측치 처리 방안 제시를 담당한 박민수가 실제로 적용한 결측치 처리 방법과 그 근거에 대해 구체적으로 설명해줄 수 있어?\n"
     ]
    },
    {
     "name": "stderr",
     "output_type": "stream",
     "text": [
      "  4%|▎         | 10/276 [01:04<32:36,  7.35s/it]"
     ]
    },
    {
     "name": "stdout",
     "output_type": "stream",
     "text": [
      "데이터 저장 단계에서 선택할 수 있는 저장소의 종류는 무엇인가요?\n",
      "오늘 저녁에 어울리는 간단한 안주 하나 추천해줘.\n"
     ]
    },
    {
     "name": "stderr",
     "output_type": "stream",
     "text": [
      "  4%|▍         | 11/276 [01:11<32:28,  7.35s/it]"
     ]
    },
    {
     "name": "stdout",
     "output_type": "stream",
     "text": [
      "데이터 분석 단계에서 정의해야 하는 KPI의 예시는 무엇인가요?\n",
      "오늘 저녁으로 간단하게 먹을 수 있는 샐러드 하나 추천해줘.\n"
     ]
    },
    {
     "name": "stderr",
     "output_type": "stream",
     "text": [
      "  4%|▍         | 12/276 [01:23<39:17,  8.93s/it]"
     ]
    },
    {
     "name": "stdout",
     "output_type": "stream",
     "text": [
      "데이터 배포 단계에서 데이터 접근 권한 관리는 어떻게 이루어지나요?\n"
     ]
    },
    {
     "name": "stderr",
     "output_type": "stream",
     "text": [
      "  5%|▍         | 13/276 [01:28<33:50,  7.72s/it]"
     ]
    },
    {
     "name": "stdout",
     "output_type": "stream",
     "text": [
      "데이터 품질 기준에서 수집된 데이터의 정확성 및 완전성을 확인하는 방법은 무엇인가요?\n"
     ]
    },
    {
     "name": "stderr",
     "output_type": "stream",
     "text": [
      "  5%|▌         | 14/276 [01:34<31:27,  7.20s/it]"
     ]
    },
    {
     "name": "stdout",
     "output_type": "stream",
     "text": [
      "보안/프라이버시 준수 항목 중 데이터 암호화 정책은 어떤 내용을 포함하나요?\n",
      "데이터 폐기 절차는 어떻게 돼?\n"
     ]
    },
    {
     "name": "stderr",
     "output_type": "stream",
     "text": [
      "  5%|▌         | 15/276 [01:44<34:42,  7.98s/it]"
     ]
    },
    {
     "name": "stdout",
     "output_type": "stream",
     "text": [
      "일일 체크리스트에서 데이터 품질 점검은 어떤 방식으로 보고되나요?\n"
     ]
    },
    {
     "name": "stderr",
     "output_type": "stream",
     "text": [
      "  6%|▌         | 16/276 [01:50<31:43,  7.32s/it]"
     ]
    },
    {
     "name": "stdout",
     "output_type": "stream",
     "text": [
      "주간 체크리스트에서 데이터 저장소 상태 점검은 어떤 항목을 포함하나요?\n"
     ]
    },
    {
     "name": "stderr",
     "output_type": "stream",
     "text": [
      "  6%|▌         | 17/276 [01:55<28:17,  6.55s/it]"
     ]
    },
    {
     "name": "stdout",
     "output_type": "stream",
     "text": [
      "데이터 분석 결과의 신뢰도 및 유효성을 평가하는 기준은 무엇인가요?\n",
      "오늘 저녁에 간단하게 먹을 수 있는 메뉴 하나 정해줘.\n",
      "데이터 품질 체크리스트 샘플 보여줘\n",
      "오늘 저녁에 간단하게 만들 수 있는 샌드위치 하나 정해줘.\n"
     ]
    },
    {
     "name": "stderr",
     "output_type": "stream",
     "text": [
      "  7%|▋         | 18/276 [02:16<47:34, 11.06s/it]"
     ]
    },
    {
     "name": "stdout",
     "output_type": "stream",
     "text": [
      "데이터 수집 도구 및 기술 선정 시 고려해야 할 요소는 무엇인가요?\n"
     ]
    },
    {
     "name": "stderr",
     "output_type": "stream",
     "text": [
      "  7%|▋         | 19/276 [02:24<43:34, 10.17s/it]"
     ]
    },
    {
     "name": "stdout",
     "output_type": "stream",
     "text": [
      "데이터 클렌징 규칙 정의는 어떤 절차로 진행되나요?\n"
     ]
    },
    {
     "name": "stderr",
     "output_type": "stream",
     "text": [
      "  7%|▋         | 20/276 [02:29<35:57,  8.43s/it]"
     ]
    },
    {
     "name": "stdout",
     "output_type": "stream",
     "text": [
      "데이터 저장 프로세스 구현 시 주의해야 할 점은 무엇인가요?\n",
      "데이터 파이프라인 설계 문서에서 데이터 보존 및 폐기 절차는 구체적으로 어떻게 정의되어 있는지 알려줄 수 있어?\n"
     ]
    },
    {
     "name": "stderr",
     "output_type": "stream",
     "text": [
      "  8%|▊         | 21/276 [02:41<41:02,  9.66s/it]"
     ]
    },
    {
     "name": "stdout",
     "output_type": "stream",
     "text": [
      "데이터 배포 자동화 프로세스 구현의 필요성은 무엇인가요?\n"
     ]
    },
    {
     "name": "stderr",
     "output_type": "stream",
     "text": [
      "  8%|▊         | 22/276 [02:46<34:07,  8.06s/it]"
     ]
    },
    {
     "name": "stdout",
     "output_type": "stream",
     "text": [
      "정기적인 보안 감사 및 취약점 점검은 어떤 주기로 실시하나요?\n"
     ]
    },
    {
     "name": "stderr",
     "output_type": "stream",
     "text": [
      "  8%|▊         | 23/276 [02:50<29:38,  7.03s/it]"
     ]
    },
    {
     "name": "stdout",
     "output_type": "stream",
     "text": [
      "데이터 유출 사고 대응 계획은 어떤 내용을 포함해야 하나요?\n",
      "오늘 저녁에 어떤 영화 볼지 추천해줘.\n"
     ]
    },
    {
     "name": "stderr",
     "output_type": "stream",
     "text": [
      "  9%|▊         | 24/276 [03:02<35:44,  8.51s/it]"
     ]
    },
    {
     "name": "stdout",
     "output_type": "stream",
     "text": [
      "모델 개발 & 성능 보고서에서 로지스틱 회귀의 Accuracy는 얼마인가요?\n",
      "오늘 저녁에 듣기 좋은 음악 장르 하나 추천해줘.\n"
     ]
    },
    {
     "name": "stderr",
     "output_type": "stream",
     "text": [
      "  9%|▉         | 25/276 [03:08<31:45,  7.59s/it]"
     ]
    },
    {
     "name": "stdout",
     "output_type": "stream",
     "text": [
      "성능 비교표에서 랜덤 포레스트의 F1 Score는 어떻게 되나요?\n",
      "랜덤 포레스트 하이퍼파라미터 값 알려줘.\n",
      "랜덤 포레스트 성능 개선 방법 알려줘.\n"
     ]
    },
    {
     "name": "stderr",
     "output_type": "stream",
     "text": [
      "  9%|▉         | 26/276 [03:18<35:34,  8.54s/it]"
     ]
    },
    {
     "name": "stdout",
     "output_type": "stream",
     "text": [
      "모델 개발 & 성능 보고서의 결과 요약에서 SVM의 ROC-AUC 값은 얼마인가요?\n"
     ]
    },
    {
     "name": "stderr",
     "output_type": "stream",
     "text": [
      " 10%|▉         | 27/276 [03:21<28:35,  6.89s/it]"
     ]
    },
    {
     "name": "stdout",
     "output_type": "stream",
     "text": [
      "성능 비교표에서 결정 트리의 성능 지표는 어떤가요?\n"
     ]
    },
    {
     "name": "stderr",
     "output_type": "stream",
     "text": [
      " 10%|█         | 28/276 [03:26<25:55,  6.27s/it]"
     ]
    },
    {
     "name": "stdout",
     "output_type": "stream",
     "text": [
      "모델 개발 & 성능 보고서의 검증 포인트에서 재현성의 의미는 무엇인가요?\n"
     ]
    },
    {
     "name": "stderr",
     "output_type": "stream",
     "text": [
      " 11%|█         | 29/276 [03:30<22:58,  5.58s/it]"
     ]
    },
    {
     "name": "stdout",
     "output_type": "stream",
     "text": [
      "성능 비교표에서 신경망의 Accuracy와 F1 Score는 각각 얼마인가요?\n"
     ]
    },
    {
     "name": "stderr",
     "output_type": "stream",
     "text": [
      " 11%|█         | 30/276 [03:34<20:13,  4.93s/it]"
     ]
    },
    {
     "name": "stdout",
     "output_type": "stream",
     "text": [
      "모델 개발 & 성능 보고서에서 사용된 데이터셋의 분할 비율은 어떻게 되나요?\n",
      "모델 성능 평가 지표는 뭐야?\n"
     ]
    },
    {
     "name": "stderr",
     "output_type": "stream",
     "text": [
      " 11%|█         | 31/276 [03:44<26:46,  6.56s/it]"
     ]
    },
    {
     "name": "stdout",
     "output_type": "stream",
     "text": [
      "성능 비교표에서 각 모델의 성능 차이를 검증하기 위한 통계적 방법은 무엇인가요?\n",
      "데이터 불균형 문제를 해결하기 위해 제안된 데이터 증강 기법에는 어떤 방법들이 포함되어 있는지 구체적으로 설명해 줄 수 있어?\n"
     ]
    },
    {
     "name": "stderr",
     "output_type": "stream",
     "text": [
      " 12%|█▏        | 32/276 [03:53<29:15,  7.19s/it]"
     ]
    },
    {
     "name": "stdout",
     "output_type": "stream",
     "text": [
      "모델 개발 & 성능 보고서에서 제안된 데이터 증강 기법의 목적은 무엇인가요?\n"
     ]
    },
    {
     "name": "stderr",
     "output_type": "stream",
     "text": [
      " 12%|█▏        | 33/276 [03:58<27:02,  6.68s/it]"
     ]
    },
    {
     "name": "stdout",
     "output_type": "stream",
     "text": [
      "성능 비교표에서 하이퍼파라미터 튜닝의 중요성에 대해 어떤 내용이 언급되었나요?\n",
      "성능 비교표에 나온 교차 검증 방법 알려줘.\n"
     ]
    },
    {
     "name": "stderr",
     "output_type": "stream",
     "text": [
      " 12%|█▏        | 34/276 [04:08<31:00,  7.69s/it]"
     ]
    },
    {
     "name": "stdout",
     "output_type": "stream",
     "text": [
      "데이터/AI팀 회의록(정기회의) #2에서 주간 보고서를 통해 각 팀원이 공유하기로 한 진행 상황은 어떤 것인가요?\n"
     ]
    },
    {
     "name": "stderr",
     "output_type": "stream",
     "text": [
      " 13%|█▎        | 35/276 [04:14<28:54,  7.20s/it]"
     ]
    },
    {
     "name": "stdout",
     "output_type": "stream",
     "text": [
      "데이터/AI팀 회의록(정기회의) #2에서 추가 데이터 수집 계획 수립의 담당자는 누구인가요?\n"
     ]
    },
    {
     "name": "stderr",
     "output_type": "stream",
     "text": [
      " 13%|█▎        | 36/276 [04:18<24:12,  6.05s/it]"
     ]
    },
    {
     "name": "stdout",
     "output_type": "stream",
     "text": [
      "데이터/AI팀 회의록(정기회의) #2에서 데이터 정제 프로세스 강화 방안 마련의 마감일은 언제인가요?\n",
      "데이터 품질 개선 보고서 위치 알려줘.\n",
      "AI 모델 성능 평가서 위치도 알려줘.\n",
      "오늘 저녁에 어떤 음식을 먹으면 좋을지 추천해줘.\n"
     ]
    },
    {
     "name": "stderr",
     "output_type": "stream",
     "text": [
      " 13%|█▎        | 37/276 [04:32<34:32,  8.67s/it]"
     ]
    },
    {
     "name": "stdout",
     "output_type": "stream",
     "text": [
      "데이터/AI팀 회의록(정기회의) #2에서 데이터 수집 지연으로 인한 프로젝트 일정 차질 가능성에 대한 논의는 어떻게 진행되었나요?\n",
      "오늘 저녁에 어떤 간단한 요리를 해볼지 하나 추천해줘.\n"
     ]
    },
    {
     "name": "stderr",
     "output_type": "stream",
     "text": [
      " 14%|█▍        | 38/276 [04:44<37:49,  9.54s/it]"
     ]
    },
    {
     "name": "stdout",
     "output_type": "stream",
     "text": [
      "데이터/AI팀 회의록(정기회의) #2에서 AI 모델 성능 개선을 위한 추가 데이터 수집의 필요성은 어떻게 강조되었나요?\n",
      "추가 데이터 수집 계획서 어디 있어?\n"
     ]
    },
    {
     "name": "stderr",
     "output_type": "stream",
     "text": [
      " 14%|█▍        | 39/276 [04:56<41:01, 10.39s/it]"
     ]
    },
    {
     "name": "stdout",
     "output_type": "stream",
     "text": [
      "데이터/AI팀 회의록(정기회의) #2에서 템플릿 디자인 및 배포는 언제 이루어질 예정인가요?\n"
     ]
    },
    {
     "name": "stderr",
     "output_type": "stream",
     "text": [
      " 14%|█▍        | 40/276 [05:01<33:49,  8.60s/it]"
     ]
    },
    {
     "name": "stdout",
     "output_type": "stream",
     "text": [
      "데이터/AI팀 회의록(정기회의) #2에서 팀원 교육 및 사용법 안내는 어떻게 진행될 예정인가요?\n",
      "AI팀 주간 업무 계획 문서 어디 있어?\n"
     ]
    },
    {
     "name": "stderr",
     "output_type": "stream",
     "text": [
      " 15%|█▍        | 41/276 [05:10<33:54,  8.66s/it]"
     ]
    },
    {
     "name": "stdout",
     "output_type": "stream",
     "text": [
      "데이터/AI팀 회의록(정기회의) #2에서 데이터 품질 개선 결과 및 AI 모델 성능 변화 분석은 어떻게 이루어질 예정인가요?\n",
      "오늘 저녁 메뉴로 간단하게 먹을 수 있는 요리 하나 추천해줘.\n",
      "데이터 품질 점검 보고서에서 제시된 데이터 오류율 5% 이하 유지 기준을 실제로 달성하기 위해 적용된 구체적인 데이터 정제 프로세스 단계가 어떻게 구성되어 있는지 설명해줄 수 있어?\n",
      "주간 보고서 템플릿 샘플 보여줄래?\n"
     ]
    },
    {
     "name": "stderr",
     "output_type": "stream",
     "text": [
      " 15%|█▌        | 42/276 [05:37<55:31, 14.24s/it]"
     ]
    },
    {
     "name": "stdout",
     "output_type": "stream",
     "text": [
      "데이터/AI팀 회의록(정기회의) #2에서 각 팀원이 진행 상황을 공유하기로 한 주간 보고서의 주요 항목은 무엇인가요?\n",
      "주간 보고서 템플릿 파일 어디 있어?\n",
      "주간 보고서 작성 시 참고할 수 있는 예시나 샘플 보고서가 문서에 포함되어 있는지 확인할 수 있을까?\n"
     ]
    },
    {
     "name": "stderr",
     "output_type": "stream",
     "text": [
      " 16%|█▌        | 43/276 [05:53<57:07, 14.71s/it]"
     ]
    },
    {
     "name": "stdout",
     "output_type": "stream",
     "text": [
      "데이터/AI팀 회의록(정기회의) #2에서 데이터 정제 프로세스 검토는 어떤 기준으로 진행될 예정인가요?\n",
      "오늘 저녁에 어울리는 간단한 디저트 하나 추천해줘.\n"
     ]
    },
    {
     "name": "stderr",
     "output_type": "stream",
     "text": [
      " 16%|█▌        | 44/276 [06:03<51:37, 13.35s/it]"
     ]
    },
    {
     "name": "stdout",
     "output_type": "stream",
     "text": [
      "데이터/AI팀 회의록(정기회의) #2에서 중복 데이터 및 결측치 처리 방안 수립의 구체적인 방법은 무엇인가요?\n",
      "오늘 날씨가 흐리네, 우산 챙길지 정해줘.\n",
      "오늘 날씨가 흐리니 우산을 챙길지 결정해줘.\n",
      "오늘 저녁에 간단하게 먹을 수 있는 메뉴 하나 추천해줘.\n"
     ]
    },
    {
     "name": "stderr",
     "output_type": "stream",
     "text": [
      " 16%|█▋        | 45/276 [06:17<51:46, 13.45s/it]"
     ]
    },
    {
     "name": "stdout",
     "output_type": "stream",
     "text": [
      "AI팀 주간 업무 계획에서 이지훈의 모델 성능 개선 목표의 성공 기준인 AUC 점수 0.85 이상 달성은 어떻게 진행되고 있나요?\n",
      "하이퍼파라미터 튜닝과 앙상블 기법 도입 과정에서 발생한 주요 이슈나 해결 방안에 대한 구체적인 내용이 문서에 정리되어 있을까?\n"
     ]
    },
    {
     "name": "stderr",
     "output_type": "stream",
     "text": [
      " 17%|█▋        | 46/276 [06:28<49:01, 12.79s/it]"
     ]
    },
    {
     "name": "stdout",
     "output_type": "stream",
     "text": [
      "김하늘의 데이터 정제 프로세스 확립 목표에서 정제된 데이터셋 1000건 확보는 현재 어떤 진행 상황인가요?\n"
     ]
    },
    {
     "name": "stderr",
     "output_type": "stream",
     "text": [
      " 17%|█▋        | 47/276 [06:33<40:12, 10.54s/it]"
     ]
    },
    {
     "name": "stdout",
     "output_type": "stream",
     "text": [
      "박지민의 API 문서화 작업에서 모든 API 엔드포인트 문서화 완료는 마감일인 2025-09-03까지 가능할까요?\n",
      "오늘 저녁 메뉴 하나 추천해줘.\n",
      "API 변경 사항이 발생했을 때 박지민이 문서화 작업에 반영하는 구체적인 프로세스나 체크리스트가 정해져 있는지 알려줄 수 있어?\n"
     ]
    },
    {
     "name": "stderr",
     "output_type": "stream",
     "text": [
      " 17%|█▋        | 48/276 [06:47<43:35, 11.47s/it]"
     ]
    },
    {
     "name": "stdout",
     "output_type": "stream",
     "text": [
      "AI팀 주간 업무 계획의 리스크 관리 방안에서 모델 성능 저하에 대한 추가 데이터 수집 계획은 구체적으로 어떤 내용인가요?\n"
     ]
    },
    {
     "name": "stderr",
     "output_type": "stream",
     "text": [
      " 18%|█▊        | 49/276 [06:54<38:12, 10.10s/it]"
     ]
    },
    {
     "name": "stdout",
     "output_type": "stream",
     "text": [
      "정기 회의에서 각 팀원 진행 상황 공유 및 리스크 논의는 어떤 형식으로 진행될 예정인가요?\n",
      "오늘 저녁 메뉴 하나 정해줘.\n"
     ]
    },
    {
     "name": "stderr",
     "output_type": "stream",
     "text": [
      " 18%|█▊        | 50/276 [07:04<38:46, 10.29s/it]"
     ]
    },
    {
     "name": "stdout",
     "output_type": "stream",
     "text": [
      "데이터팀과의 협업 필요 목표에서 데이터 정제 및 품질 검증 지원은 어떤 방식으로 이루어질 계획인가요?\n",
      "오늘 저녁에 어울리는 간단한 디저트 하나 추천해줘.\n"
     ]
    },
    {
     "name": "stderr",
     "output_type": "stream",
     "text": [
      " 18%|█▊        | 51/276 [07:18<42:50, 11.42s/it]"
     ]
    },
    {
     "name": "stdout",
     "output_type": "stream",
     "text": [
      "이지훈의 모델 성능 개선 작업에서 데이터셋 업데이트 완료는 언제까지 이루어질 예정인가요?\n",
      "오늘 저녁에 간단하게 할 수 있는 스트레칭 동작 하나 추천해줘.\n",
      "데이터 정제 기준은 뭐야?\n",
      "오늘 저녁에 간단하게 할 수 있는 운동 하나 정해줘.\n"
     ]
    },
    {
     "name": "stderr",
     "output_type": "stream",
     "text": [
      " 19%|█▉        | 52/276 [07:35<48:12, 12.91s/it]"
     ]
    },
    {
     "name": "stdout",
     "output_type": "stream",
     "text": [
      "김하늘의 데이터 정제 작업에서 기존 데이터셋의 품질 문제 해결은 어떤 방법으로 진행될 예정인가요?\n"
     ]
    },
    {
     "name": "stderr",
     "output_type": "stream",
     "text": [
      " 19%|█▉        | 53/276 [07:41<40:50, 10.99s/it]"
     ]
    },
    {
     "name": "stdout",
     "output_type": "stream",
     "text": [
      "박지민의 API 문서화 작업에서 API 변경 사항 반영은 어떤 절차를 통해 이루어질 것인가요?\n"
     ]
    },
    {
     "name": "stderr",
     "output_type": "stream",
     "text": [
      " 20%|█▉        | 54/276 [07:47<34:56,  9.44s/it]"
     ]
    },
    {
     "name": "stdout",
     "output_type": "stream",
     "text": [
      "AI팀 주간 업무 계획의 마감 후 점검에서 각 과제별 목표 달성 여부 확인은 어떻게 진행될 예정인가요?\n"
     ]
    },
    {
     "name": "stderr",
     "output_type": "stream",
     "text": [
      " 20%|█▉        | 55/276 [07:52<29:49,  8.10s/it]"
     ]
    },
    {
     "name": "stdout",
     "output_type": "stream",
     "text": [
      "모델 성능 결과는 내부 공유 드라이브의 어떤 폴더에 저장되며, 접근 방법은 무엇인가요?\n"
     ]
    },
    {
     "name": "stderr",
     "output_type": "stream",
     "text": [
      " 20%|██        | 56/276 [07:56<25:35,  6.98s/it]"
     ]
    },
    {
     "name": "stdout",
     "output_type": "stream",
     "text": [
      "데이터셋은 내부 공유 드라이브의 어떤 폴더에 위치하며, 데이터 정제 작업 후 어떻게 관리될 예정인가요?\n",
      "오늘 날씨가 흐리네, 우산 챙길지 결정해줘.\n",
      "오늘 날씨가 흐리니, 우산 챙길지 판단해줘.\n"
     ]
    },
    {
     "name": "stderr",
     "output_type": "stream",
     "text": [
      " 21%|██        | 57/276 [08:08<29:56,  8.20s/it]"
     ]
    },
    {
     "name": "stdout",
     "output_type": "stream",
     "text": [
      "API 문서의 위치는 내부 공유 드라이브의 어떤 폴더이며, 문서화 완료 후 검토는 어떻게 이루어질 것인가요?\n"
     ]
    },
    {
     "name": "stderr",
     "output_type": "stream",
     "text": [
      " 21%|██        | 58/276 [08:11<25:00,  6.88s/it]"
     ]
    },
    {
     "name": "stdout",
     "output_type": "stream",
     "text": [
      "AI팀 주간 업무 계획에서 리스크 관리 방안으로 제시된 데이터 정제 지연에 대한 정제 기준 명확화는 어떤 방식으로 진행될 예정인가요?\n"
     ]
    },
    {
     "name": "stderr",
     "output_type": "stream",
     "text": [
      " 21%|██▏       | 59/276 [08:18<24:27,  6.76s/it]"
     ]
    },
    {
     "name": "stdout",
     "output_type": "stream",
     "text": [
      "각 팀원은 자신의 작업을 주의 깊게 확인해야 한다고 명시되어 있는데, 이를 위한 구체적인 방법이나 도구는 무엇인가요?\n"
     ]
    },
    {
     "name": "stderr",
     "output_type": "stream",
     "text": [
      " 22%|██▏       | 60/276 [08:25<24:35,  6.83s/it]"
     ]
    },
    {
     "name": "stdout",
     "output_type": "stream",
     "text": [
      "테스트 계획 및 결과 보고서에서 모델 유형으로 사용된 지도 학습 기반 분류 모델의 종류는 무엇인가요?\n",
      "오늘 저녁 메뉴 하나 정해줘.\n"
     ]
    },
    {
     "name": "stderr",
     "output_type": "stream",
     "text": [
      " 22%|██▏       | 61/276 [08:31<24:18,  6.78s/it]"
     ]
    },
    {
     "name": "stdout",
     "output_type": "stream",
     "text": [
      "테스트 계획 및 결과 보고서에서 하이퍼파라미터 탐색을 위해 사용된 Grid Search의 대상 알고리즘은 어떤 것들이 있나요?\n"
     ]
    },
    {
     "name": "stderr",
     "output_type": "stream",
     "text": [
      " 22%|██▏       | 62/276 [08:36<22:07,  6.20s/it]"
     ]
    },
    {
     "name": "stdout",
     "output_type": "stream",
     "text": [
      "테스트 계획 및 결과 보고서에서 성능 지표로 사용된 Accuracy의 정의는 무엇인가요?\n",
      "오늘 저녁에 먹을 만한 간단한 요리 하나 추천해줘.\n",
      "테스트 계획 및 결과 보고서에서 Accuracy 외에 F1 Score와 ROC-AUC는 각각 어떤 상황에서 주요 성능 지표로 활용되는지 구체적으로 설명해줄 수 있어?\n"
     ]
    },
    {
     "name": "stderr",
     "output_type": "stream",
     "text": [
      " 23%|██▎       | 63/276 [08:50<30:01,  8.46s/it]"
     ]
    },
    {
     "name": "stdout",
     "output_type": "stream",
     "text": [
      "테스트 계획 및 결과 보고서에서 모델의 성능을 개선하기 위한 제안 중 하나는 무엇인가요?\n",
      "테스트 계획 및 결과 보고서에서 제안된 오버샘플링이나 언더샘플링 기법을 실제로 적용한 사례와 그에 따른 성능 변화가 구체적으로 기록된 부분이 있을까?\n"
     ]
    },
    {
     "name": "stderr",
     "output_type": "stream",
     "text": [
      " 23%|██▎       | 64/276 [09:01<32:27,  9.19s/it]"
     ]
    },
    {
     "name": "stdout",
     "output_type": "stream",
     "text": [
      "테스트 계획 및 결과 보고서에서 사용된 데이터 유형은 무엇인가요?\n",
      "테스트 계획 및 결과 보고서에서 데이터 전처리 과정이나 사용된 전처리 기법에 대한 구체적인 내용이 문서에 나와 있는지 알려줄 수 있어?\n",
      "오늘 저녁 메뉴로 간단하게 만들 수 있는 요리 하나 추천해줘.\n",
      "오늘 저녁으로 간단하게 만들 수 있는 샌드위치 하나 추천해줘.\n"
     ]
    },
    {
     "name": "stderr",
     "output_type": "stream",
     "text": [
      " 24%|██▎       | 65/276 [09:19<41:35, 11.83s/it]"
     ]
    },
    {
     "name": "stdout",
     "output_type": "stream",
     "text": [
      "테스트 계획 및 결과 보고서에서 하드웨어 요구 사항은 무엇인가요?\n",
      "테스트 계획 및 결과 보고서에서 하드웨어 환경에 따른 성능 차이나 리스크가 언급된 부분이 있을까?\n"
     ]
    },
    {
     "name": "stderr",
     "output_type": "stream",
     "text": [
      " 24%|██▍       | 66/276 [09:31<41:45, 11.93s/it]"
     ]
    },
    {
     "name": "stdout",
     "output_type": "stream",
     "text": [
      "테스트 계획 및 결과 보고서에서 제시된 최적 모델 선정의 기준은 무엇인가요?\n"
     ]
    },
    {
     "name": "stderr",
     "output_type": "stream",
     "text": [
      " 24%|██▍       | 67/276 [09:38<36:17, 10.42s/it]"
     ]
    },
    {
     "name": "stdout",
     "output_type": "stream",
     "text": [
      "테스트 계획 및 결과 보고서에서 데이터셋의 분할 방법으로 사용된 함수는 무엇인가요?\n",
      "하이퍼파라미터 튜닝 방법 알려줘.\n",
      "그리드 서치 예시 코드 있어?\n"
     ]
    },
    {
     "name": "stderr",
     "output_type": "stream",
     "text": [
      " 25%|██▍       | 68/276 [09:54<41:33, 11.99s/it]"
     ]
    },
    {
     "name": "stdout",
     "output_type": "stream",
     "text": [
      "데이터 관리 & 보안 - 데이터 파이프라인 설계 문서에서 데이터 파이프라인의 구조와 흐름은 어떻게 설계되어 있나요?\n",
      "데이터 파이프라인 설계 문서에서 각 단계별 품질 검증 절차와 실제로 사용되는 검증 포인트에는 어떤 항목들이 포함되어 있는지 구체적으로 알려줄 수 있어?\n"
     ]
    },
    {
     "name": "stderr",
     "output_type": "stream",
     "text": [
      " 25%|██▌       | 69/276 [10:09<44:50, 13.00s/it]"
     ]
    },
    {
     "name": "stdout",
     "output_type": "stream",
     "text": [
      "데이터 관리 & 보안 - 데이터 접근/보안 정책 문서에서 데이터 접근 권한 관리 방침은 어떤 내용으로 구성되어 있나요?\n"
     ]
    },
    {
     "name": "stderr",
     "output_type": "stream",
     "text": [
      " 25%|██▌       | 70/276 [10:13<35:47, 10.42s/it]"
     ]
    },
    {
     "name": "stdout",
     "output_type": "stream",
     "text": [
      "데이터 관리 & 보안 - 데이터 거버넌스 정책 문서에서 데이터 품질 관리 기준은 무엇으로 설정되어 있나요?\n"
     ]
    },
    {
     "name": "stderr",
     "output_type": "stream",
     "text": [
      " 26%|██▌       | 71/276 [10:17<29:07,  8.52s/it]"
     ]
    },
    {
     "name": "stdout",
     "output_type": "stream",
     "text": [
      "데이터 관리 & 보안 - 데이터 보존 및 폐기 정책 문서에서 데이터 보존 기간은 어떻게 정해져 있나요?\n"
     ]
    },
    {
     "name": "stderr",
     "output_type": "stream",
     "text": [
      " 26%|██▌       | 72/276 [10:21<24:09,  7.10s/it]"
     ]
    },
    {
     "name": "stdout",
     "output_type": "stream",
     "text": [
      "데이터 관리 & 보안 - 수집된 데이터 및 전처리 기록서에서 수집된 데이터의 출처와 전처리 과정은 어떻게 기록되어 있나요?\n",
      "오늘 저녁에 어떤 음식을 먹으면 좋을지 하나 골라줘.\n",
      "데이터 품질 리포트 예시 보여줘.\n",
      "오늘 저녁 메뉴로 무엇이 좋을지 하나 정해줘.\n"
     ]
    },
    {
     "name": "stderr",
     "output_type": "stream",
     "text": [
      " 26%|██▋       | 73/276 [10:43<38:43, 11.44s/it]"
     ]
    },
    {
     "name": "stdout",
     "output_type": "stream",
     "text": [
      "모델 개발 & 성능 - 모델 성능 평가 보고서에서 평가 지표는 어떤 것들이 사용되었나요?\n",
      "모델 성능 평가 보고서에서 교차 검증에 사용된 데이터 분할 방식과 각 fold별 결과 요약을 자세히 알 수 있을까?\n"
     ]
    },
    {
     "name": "stderr",
     "output_type": "stream",
     "text": [
      " 27%|██▋       | 74/276 [10:57<41:34, 12.35s/it]"
     ]
    },
    {
     "name": "stdout",
     "output_type": "stream",
     "text": [
      "모델 개발 & 성능 - 모델 학습 결과서에서 학습된 모델의 정확도는 얼마인가요?\n"
     ]
    },
    {
     "name": "stderr",
     "output_type": "stream",
     "text": [
      " 27%|██▋       | 75/276 [11:01<32:18,  9.65s/it]"
     ]
    },
    {
     "name": "stdout",
     "output_type": "stream",
     "text": [
      "모델 개발 & 성능 - 성능 비교표에서 비교된 모델들의 성능 차이는 어떻게 나타나고 있나요?\n"
     ]
    },
    {
     "name": "stderr",
     "output_type": "stream",
     "text": [
      " 28%|██▊       | 76/276 [11:08<29:23,  8.82s/it]"
     ]
    },
    {
     "name": "stdout",
     "output_type": "stream",
     "text": [
      "모델 개발 & 성능 - 테스트 계획 및 결과 보고서에서 테스트의 주요 목표는 무엇이었나요?\n"
     ]
    },
    {
     "name": "stderr",
     "output_type": "stream",
     "text": [
      " 28%|██▊       | 77/276 [11:13<25:39,  7.74s/it]"
     ]
    },
    {
     "name": "stdout",
     "output_type": "stream",
     "text": [
      "모델 개발 & 성능 - 데이터 품질 점검 보고서에서 발견된 주요 데이터 품질 문제는 무엇인가요?\n"
     ]
    },
    {
     "name": "stderr",
     "output_type": "stream",
     "text": [
      " 28%|██▊       | 78/276 [11:18<22:40,  6.87s/it]"
     ]
    },
    {
     "name": "stdout",
     "output_type": "stream",
     "text": [
      "팀 운영 문서 - 데이터팀 주간 업무 계획에서 이번 주의 주요 업무는 무엇인가요?\n"
     ]
    },
    {
     "name": "stderr",
     "output_type": "stream",
     "text": [
      " 29%|██▊       | 79/276 [11:23<21:07,  6.44s/it]"
     ]
    },
    {
     "name": "stdout",
     "output_type": "stream",
     "text": [
      "팀 운영 문서 - AI팀 주간 업무 계획에서 AI팀의 주요 프로젝트 진행 상황은 어떤가요?\n"
     ]
    },
    {
     "name": "stderr",
     "output_type": "stream",
     "text": [
      " 29%|██▉       | 80/276 [11:28<19:44,  6.04s/it]"
     ]
    },
    {
     "name": "stdout",
     "output_type": "stream",
     "text": [
      "팀 운영 문서 - 회의록(정기회의) #1에서 논의된 주요 안건은 무엇이었나요?\n",
      "오늘 저녁에 간단하게 먹을 수 있는 메뉴 하나 추천해줘.\n"
     ]
    },
    {
     "name": "stderr",
     "output_type": "stream",
     "text": [
      " 29%|██▉       | 81/276 [11:35<20:44,  6.38s/it]"
     ]
    },
    {
     "name": "stdout",
     "output_type": "stream",
     "text": [
      "데이터 접근/보안 정책 문서에서 데이터 유출 및 무단 접근 방지를 위한 주요 목표는 무엇인가요?\n",
      "오늘 저녁에 간단하게 만들 수 있는 요리 하나 추천해줘.\n",
      "오늘 저녁 간단하게 만들 수 있는 요리 하나 정해줘.\n"
     ]
    },
    {
     "name": "stderr",
     "output_type": "stream",
     "text": [
      " 30%|██▉       | 82/276 [11:45<24:04,  7.44s/it]"
     ]
    },
    {
     "name": "stdout",
     "output_type": "stream",
     "text": [
      "데이터 품질 개선 보고서에서 데이터 오류율 5% 이하 유지에 대한 성공 기준은 어떻게 설정되었나요?\n",
      "오늘 저녁 메뉴 하나 정해줘.\n",
      "오늘 저녁으로 간단하게 먹기 좋은 볶음밥 하나 추천해줘.\n"
     ]
    },
    {
     "name": "stderr",
     "output_type": "stream",
     "text": [
      " 30%|███       | 83/276 [11:54<25:05,  7.80s/it]"
     ]
    },
    {
     "name": "stdout",
     "output_type": "stream",
     "text": [
      "AI 모델 성능 평가서에서 F1 Score 0.85 이상 달성을 위한 구체적인 평가 방법은 무엇인가요?\n",
      "데이터 정제 프로세스 강화 방안 마련 시 실제로 적용된 데이터 품질 점검 절차와 체크리스트 항목에는 어떤 내용이 포함되어 있는지 알려줄 수 있어?\n"
     ]
    },
    {
     "name": "stderr",
     "output_type": "stream",
     "text": [
      " 30%|███       | 84/276 [12:12<35:18, 11.04s/it]"
     ]
    },
    {
     "name": "stdout",
     "output_type": "stream",
     "text": [
      "신규 파이프라인 문서에서 파이프라인 테스트 완료 후 문서화 작업의 중요성은 무엇인가요?\n"
     ]
    },
    {
     "name": "stderr",
     "output_type": "stream",
     "text": [
      " 31%|███       | 85/276 [12:17<29:22,  9.23s/it]"
     ]
    },
    {
     "name": "stdout",
     "output_type": "stream",
     "text": [
      "데이터 품질 개선 보고서에서 데이터 수집팀의 피드백이 필요한 이유는 무엇인가요?\n",
      "데이터 품질 개선 보고서에서 데이터 수집팀의 피드백이 실제로 반영된 사례나, 그로 인해 데이터 오류가 어떻게 수정된 적이 있는지 구체적으로 설명해줄 수 있어?\n",
      "데이터 품질 리포트 샘플 보여줘\n"
     ]
    },
    {
     "name": "stderr",
     "output_type": "stream",
     "text": [
      " 31%|███       | 86/276 [12:35<37:06, 11.72s/it]"
     ]
    },
    {
     "name": "stdout",
     "output_type": "stream",
     "text": [
      "AI 모델 성능 평가서에서 모델 성능 저하를 방지하기 위한 추가 데이터 수집 계획은 어떻게 수립되나요?\n"
     ]
    },
    {
     "name": "stderr",
     "output_type": "stream",
     "text": [
      " 32%|███▏      | 87/276 [12:39<29:52,  9.48s/it]"
     ]
    },
    {
     "name": "stdout",
     "output_type": "stream",
     "text": [
      "AI 모델 성능 평가서에서 모델 성능 평가를 위한 최신 데이터셋 확보는 어떻게 이루어지나요?\n"
     ]
    },
    {
     "name": "stderr",
     "output_type": "stream",
     "text": [
      " 32%|███▏      | 88/276 [12:44<25:09,  8.03s/it]"
     ]
    },
    {
     "name": "stdout",
     "output_type": "stream",
     "text": [
      "데이터 품질 개선 보고서에서 리스크 관리 방안은 어떻게 수립되나요?\n"
     ]
    },
    {
     "name": "stderr",
     "output_type": "stream",
     "text": [
      " 32%|███▏      | 89/276 [12:49<22:41,  7.28s/it]"
     ]
    },
    {
     "name": "stdout",
     "output_type": "stream",
     "text": [
      "AI 모델 성능 평가서에서 모델 성능 저하 우려를 줄이기 위한 구체적인 방법은 무엇인가요?\n",
      "오늘 날씨가 흐리네, 우산 챙길지 판단해줘.\n",
      "오늘 저녁에 운동할 만한 간단한 스트레칭 동작 하나 추천해줘.\n"
     ]
    },
    {
     "name": "stderr",
     "output_type": "stream",
     "text": [
      " 33%|███▎      | 90/276 [13:03<28:41,  9.25s/it]"
     ]
    },
    {
     "name": "stdout",
     "output_type": "stream",
     "text": [
      "신규 파이프라인 문서에서 우선순위 조정 및 리소스 재배치의 필요성은 무엇인가요?\n",
      "신규 파이프라인 문서에서 제시된 단계별 체크리스트의 구체적인 항목과, 각 단계별 검증 포인트는 어떻게 설정되어 있는지 알려줄 수 있어?\n",
      "오늘 저녁에 간단히 먹을 수 있는 메뉴 하나 추천해줘.\n",
      "오늘 저녁으로 간편하게 만들 수 있는 볶음밥 하나 정해줘.\n"
     ]
    },
    {
     "name": "stderr",
     "output_type": "stream",
     "text": [
      " 33%|███▎      | 91/276 [13:25<40:22, 13.09s/it]"
     ]
    },
    {
     "name": "stdout",
     "output_type": "stream",
     "text": [
      "데이터 품질 개선 보고서에서 각 팀원의 작업을 체크리스트 형태로 관리하는 이유는 무엇인가요?\n"
     ]
    },
    {
     "name": "stderr",
     "output_type": "stream",
     "text": [
      " 33%|███▎      | 92/276 [13:29<31:38, 10.32s/it]"
     ]
    },
    {
     "name": "stdout",
     "output_type": "stream",
     "text": [
      "AI 모델 성능 평가서에서 진행 사항 공유 및 문제점 논의는 어떻게 이루어지나요?\n",
      "오늘 저녁 메뉴 하나 정해줘.\n",
      "주간 보고서 템플릿 샘플 보여줘\n"
     ]
    },
    {
     "name": "stderr",
     "output_type": "stream",
     "text": [
      " 34%|███▎      | 93/276 [13:46<37:03, 12.15s/it]"
     ]
    },
    {
     "name": "stdout",
     "output_type": "stream",
     "text": [
      "신규 파이프라인 문서에서 문서화 작업의 중요성은 무엇인가요?\n",
      "오늘 저녁에 어떤 간단한 요리를 해볼지 하나 골라줘.\n"
     ]
    },
    {
     "name": "stderr",
     "output_type": "stream",
     "text": [
      " 34%|███▍      | 94/276 [13:54<33:13, 10.95s/it]"
     ]
    },
    {
     "name": "stdout",
     "output_type": "stream",
     "text": [
      "데이터 품질 개선 보고서에서 데이터 오류 검토 및 수정의 의존성은 무엇인가요?\n"
     ]
    },
    {
     "name": "stderr",
     "output_type": "stream",
     "text": [
      " 34%|███▍      | 95/276 [13:58<27:12,  9.02s/it]"
     ]
    },
    {
     "name": "stdout",
     "output_type": "stream",
     "text": [
      "AI 모델 성능 평가서에서 코드 충돌 발생 가능성을 줄이기 위한 방법은 무엇인가요?\n"
     ]
    },
    {
     "name": "stderr",
     "output_type": "stream",
     "text": [
      " 35%|███▍      | 96/276 [14:04<23:42,  7.90s/it]"
     ]
    },
    {
     "name": "stdout",
     "output_type": "stream",
     "text": [
      "신규 파이프라인 문서에서 기술 지원을 받기 위해 IT팀과의 협업은 어떻게 이루어지나요?\n"
     ]
    },
    {
     "name": "stderr",
     "output_type": "stream",
     "text": [
      " 35%|███▌      | 97/276 [14:10<21:48,  7.31s/it]"
     ]
    },
    {
     "name": "stdout",
     "output_type": "stream",
     "text": [
      "데이터 품질 개선 보고서에서 품질 개선 방안 제안서 작성 시 데이터 분석팀의 협조가 필요한 이유는 무엇인가요?\n"
     ]
    },
    {
     "name": "stderr",
     "output_type": "stream",
     "text": [
      " 36%|███▌      | 98/276 [14:15<20:03,  6.76s/it]"
     ]
    },
    {
     "name": "stdout",
     "output_type": "stream",
     "text": [
      "데이터 보존 및 폐기 정책에서 중요 데이터의 보존 기간은 어떻게 설정되어 있나요?\n",
      "데이터 폐기 시 적용되는 안전한 삭제 소프트웨어의 종류나 구체적인 사용 절차에 대해 설명해줄 수 있어?\n",
      "데이터 폐기 기록 양식 보여줘.\n"
     ]
    },
    {
     "name": "stderr",
     "output_type": "stream",
     "text": [
      " 36%|███▌      | 99/276 [14:50<44:46, 15.18s/it]"
     ]
    },
    {
     "name": "stdout",
     "output_type": "stream",
     "text": [
      "데이터/AI팀의 데이터 보존 절차에서 데이터 분류는 어떤 기준으로 이루어지나요?\n",
      "데이터 분류 결과에 따라 설정된 보존 기간이 만료된 데이터는 구체적으로 어떤 절차를 거쳐 폐기되는지 설명해 줄 수 있어?\n",
      "오늘 저녁 메뉴 하나 정해줘.\n"
     ]
    },
    {
     "name": "stderr",
     "output_type": "stream",
     "text": [
      " 36%|███▌      | 100/276 [15:04<43:29, 14.83s/it]"
     ]
    },
    {
     "name": "stdout",
     "output_type": "stream",
     "text": [
      "데이터 폐기 절차에서 폐기 대상 데이터는 어떻게 식별하나요?\n",
      "오늘 저녁에 간단하게 만들 수 있는 요리 하나 추천해줘.\n",
      "폐기 기록 양식 예시 보여줘\n"
     ]
    },
    {
     "name": "stderr",
     "output_type": "stream",
     "text": [
      " 37%|███▋      | 101/276 [15:17<41:50, 14.34s/it]"
     ]
    },
    {
     "name": "stdout",
     "output_type": "stream",
     "text": [
      "데이터 보존 및 폐기 정책의 검증 포인트에서 데이터 폐기 후 복구 불가능성을 확인하는 절차는 무엇인가요?\n"
     ]
    },
    {
     "name": "stderr",
     "output_type": "stream",
     "text": [
      " 37%|███▋      | 102/276 [15:23<34:27, 11.88s/it]"
     ]
    },
    {
     "name": "stdout",
     "output_type": "stream",
     "text": [
      "데이터 보존 및 폐기 정책에서 일반 데이터의 보존 기간은 얼마인가요?\n",
      "오늘 저녁에 먹을 간단한 메뉴 하나 추천해줘.\n",
      "오늘 저녁에 간단하게 만들 수 있는 샌드위치 하나 추천해줘.\n",
      "오늘 저녁에 간편하게 만들 수 있는 파스타 하나 추천해줘.\n"
     ]
    },
    {
     "name": "stderr",
     "output_type": "stream",
     "text": [
      " 37%|███▋      | 103/276 [15:38<37:07, 12.87s/it]"
     ]
    },
    {
     "name": "stdout",
     "output_type": "stream",
     "text": [
      "데이터 폐기 시 어떤 보안 조치를 취해야 하는지에 대한 내용은 어디에 나와 있나요?\n",
      "오늘 저녁 메뉴 하나 정해줘.\n"
     ]
    },
    {
     "name": "stderr",
     "output_type": "stream",
     "text": [
      " 38%|███▊      | 104/276 [15:47<32:52, 11.47s/it]"
     ]
    },
    {
     "name": "stdout",
     "output_type": "stream",
     "text": [
      "운영 체크리스트의 일일 체크리스트에서 새로운 데이터의 분류는 어떻게 확인하나요?\n",
      "오늘 저녁에 간단하게 만들 수 있는 요리 하나 추천해줘.\n",
      "데이터 품질 점검을 수행할 때 사용하는 구체적인 기준이나 체크리스트 항목에는 어떤 내용이 포함되어 있는지 알 수 있을까?\n"
     ]
    },
    {
     "name": "stderr",
     "output_type": "stream",
     "text": [
      " 38%|███▊      | 105/276 [15:59<33:14, 11.67s/it]"
     ]
    },
    {
     "name": "stdout",
     "output_type": "stream",
     "text": [
      "데이터 저장소 관리 절차에서 불필요한 데이터 삭제는 어떻게 이루어지나요?\n"
     ]
    },
    {
     "name": "stderr",
     "output_type": "stream",
     "text": [
      " 38%|███▊      | 106/276 [16:05<28:29, 10.05s/it]"
     ]
    },
    {
     "name": "stdout",
     "output_type": "stream",
     "text": [
      "데이터 폐기 방법 결정 시 전자 데이터와 물리적 데이터의 차이는 무엇인가요?\n"
     ]
    },
    {
     "name": "stderr",
     "output_type": "stream",
     "text": [
      " 39%|███▉      | 107/276 [16:10<23:41,  8.41s/it]"
     ]
    },
    {
     "name": "stdout",
     "output_type": "stream",
     "text": [
      "데이터 보존 및 폐기 정책의 목적은 무엇인가요?\n",
      "오늘 저녁에 간단하게 먹을 수 있는 메뉴 하나 정해줘.\n",
      "데이터 보존 및 폐기 정책에서 폐기 기록을 유지할 때 작성해야 하는 구체적인 문서 양식이나 필수 기재 항목이 어떻게 돼?\n"
     ]
    },
    {
     "name": "stderr",
     "output_type": "stream",
     "text": [
      " 39%|███▉      | 108/276 [16:21<26:11,  9.35s/it]"
     ]
    },
    {
     "name": "stdout",
     "output_type": "stream",
     "text": [
      "데이터/AI팀이 준수해야 할 데이터 보존 및 폐기 정책의 책임은 누구에게 있나요?\n",
      "데이터 보존 및 폐기 정책에서 데이터의 실제 폐기 절차와 방법은 어떻게 정의되어 있는지 구체적으로 알려줄 수 있어?\n"
     ]
    },
    {
     "name": "stderr",
     "output_type": "stream",
     "text": [
      " 39%|███▉      | 109/276 [16:33<27:51, 10.01s/it]"
     ]
    },
    {
     "name": "stdout",
     "output_type": "stream",
     "text": [
      "데이터 보존 및 폐기 정책의 개정 이력은 어떻게 관리되나요?\n"
     ]
    },
    {
     "name": "stderr",
     "output_type": "stream",
     "text": [
      " 40%|███▉      | 110/276 [16:37<22:48,  8.24s/it]"
     ]
    },
    {
     "name": "stdout",
     "output_type": "stream",
     "text": [
      "데이터 보존 및 폐기 정책에서 기밀성을 유지하기 위한 조치는 무엇인가요?\n"
     ]
    },
    {
     "name": "stderr",
     "output_type": "stream",
     "text": [
      " 40%|████      | 111/276 [16:42<19:52,  7.23s/it]"
     ]
    },
    {
     "name": "stdout",
     "output_type": "stream",
     "text": [
      "데이터 수집 및 전처리 기록서에서 데이터 소스 식별 과정은 어떻게 이루어지나요?\n",
      "오늘 저녁 메뉴 하나 정해줘.\n"
     ]
    },
    {
     "name": "stderr",
     "output_type": "stream",
     "text": [
      " 41%|████      | 112/276 [16:48<19:24,  7.10s/it]"
     ]
    },
    {
     "name": "stdout",
     "output_type": "stream",
     "text": [
      "데이터 품질 점검 보고서의 리스크 항목에서 데이터 불균형이 모델 성능에 미치는 영향은 무엇인가요?\n",
      "데이터 증강 기법 예시 알려줘.\n"
     ]
    },
    {
     "name": "stderr",
     "output_type": "stream",
     "text": [
      " 41%|████      | 113/276 [16:59<21:44,  8.00s/it]"
     ]
    },
    {
     "name": "stdout",
     "output_type": "stream",
     "text": [
      "데이터 품질 점검 보고서에서 모델 성능을 극대화하기 위한 주요 요소는 무엇인가요?\n"
     ]
    },
    {
     "name": "stderr",
     "output_type": "stream",
     "text": [
      " 41%|████▏     | 114/276 [17:06<21:24,  7.93s/it]"
     ]
    },
    {
     "name": "stdout",
     "output_type": "stream",
     "text": [
      "데이터 품질 점검 보고서의 성능 기준에서 ROC-AUC의 기준은 무엇인가요?\n",
      "데이터 품질 점검 보고서에서 제시된 ROC-AUC 기준을 충족하지 못했을 때 데이터AI팀이 권장하는 개선 조치나 후속 절차에는 어떤 것들이 있는지 구체적으로 알려줄 수 있어?\n"
     ]
    },
    {
     "name": "stderr",
     "output_type": "stream",
     "text": [
      " 42%|████▏     | 115/276 [17:19<24:51,  9.26s/it]"
     ]
    },
    {
     "name": "stdout",
     "output_type": "stream",
     "text": [
      "데이터 품질 점검 보고서에서 사용된 알고리즘의 종류는 무엇인가요?\n",
      "데이터 품질 점검 보고서에서 하이퍼파라미터 조정은 어떤 방식으로 진행됐는지 구체적으로 설명해 줄 수 있어?\n",
      "오늘 저녁에 간단하게 할 수 있는 운동 하나 추천해줘.\n",
      "오늘 저녁에 할 수 있는 간단한 운동으로는 짧은 산책을 추천해.\n"
     ]
    },
    {
     "name": "stderr",
     "output_type": "stream",
     "text": [
      " 42%|████▏     | 116/276 [17:34<29:15, 10.97s/it]"
     ]
    },
    {
     "name": "stdout",
     "output_type": "stream",
     "text": [
      "데이터 품질 점검 보고서의 프로젝트 개요에서 데이터의 어떤 특성을 평가하나요?\n",
      "데이터 품질 체크리스트 항목 알려줘.\n"
     ]
    },
    {
     "name": "stderr",
     "output_type": "stream",
     "text": [
      " 42%|████▏     | 117/276 [17:43<27:37, 10.43s/it]"
     ]
    },
    {
     "name": "stdout",
     "output_type": "stream",
     "text": [
      "데이터 거버넌스 정책의 개요 및 목적 부분에서 데이터 활용의 효율성을 극대화하기 위한 구체적인 방법은 무엇인가요?\n"
     ]
    },
    {
     "name": "stderr",
     "output_type": "stream",
     "text": [
      " 43%|████▎     | 118/276 [17:48<23:05,  8.77s/it]"
     ]
    },
    {
     "name": "stdout",
     "output_type": "stream",
     "text": [
      "데이터 접근 관리의 단계 1에서 정의된 역할 기반 접근 제어(RBAC)의 구체적인 내용은 무엇인가요?\n",
      "오늘 저녁 메뉴 하나 정해줘.\n",
      "오늘 저녁 메뉴로 뭐가 좋을지 하나 골라줘.\n"
     ]
    },
    {
     "name": "stderr",
     "output_type": "stream",
     "text": [
      " 43%|████▎     | 119/276 [17:58<24:17,  9.28s/it]"
     ]
    },
    {
     "name": "stdout",
     "output_type": "stream",
     "text": [
      "데이터 품질 관리의 단계 2에서 정기적으로 수행하는 데이터 품질 점검의 주기는 어떻게 되나요?\n",
      "데이터 품질 점검 결과를 보고서로 작성할 때 포함해야 하는 필수 항목이나 양식이 정해져 있는지 알려줄 수 있어?\n"
     ]
    },
    {
     "name": "stderr",
     "output_type": "stream",
     "text": [
      " 43%|████▎     | 120/276 [18:09<25:40,  9.87s/it]"
     ]
    },
    {
     "name": "stdout",
     "output_type": "stream",
     "text": [
      "데이터 보안 및 암호화 섹션에서 모든 데이터의 전송 및 저장 시 암호화에 대한 구체적인 절차는 무엇인가요?\n"
     ]
    },
    {
     "name": "stderr",
     "output_type": "stream",
     "text": [
      " 44%|████▍     | 121/276 [18:14<21:35,  8.36s/it]"
     ]
    },
    {
     "name": "stdout",
     "output_type": "stream",
     "text": [
      "검증 포인트/품질 기준에서 데이터 품질 점검 결과 보고서 작성의 형식이나 내용은 어떻게 구성되나요?\n"
     ]
    },
    {
     "name": "stderr",
     "output_type": "stream",
     "text": [
      " 44%|████▍     | 122/276 [18:23<21:49,  8.50s/it]"
     ]
    },
    {
     "name": "stdout",
     "output_type": "stream",
     "text": [
      "운영 체크리스트의 일일 체크리스트에서 데이터 접근 로그 확인 및 검토의 구체적인 방법은 무엇인가요?\n"
     ]
    },
    {
     "name": "stderr",
     "output_type": "stream",
     "text": [
      " 45%|████▍     | 123/276 [18:29<19:27,  7.63s/it]"
     ]
    },
    {
     "name": "stdout",
     "output_type": "stream",
     "text": [
      "주간 체크리스트에서 데이터 품질 보고서 작성 및 공유의 책임자는 누구인가요?\n",
      "데이터 품질 보고서 샘플 위치 알려줘.\n",
      "오늘 날씨가 흐리네, 우산 챙길지 판단해줘.\n"
     ]
    },
    {
     "name": "stderr",
     "output_type": "stream",
     "text": [
      " 45%|████▍     | 124/276 [18:41<22:32,  8.90s/it]"
     ]
    },
    {
     "name": "stdout",
     "output_type": "stream",
     "text": [
      "데이터 저장 및 처리 시 개인정보 비식별화 절차의 구체적인 방법은 무엇인가요?\n",
      "오늘 저녁 메뉴 하나 정해줘.\n"
     ]
    },
    {
     "name": "stderr",
     "output_type": "stream",
     "text": [
      " 45%|████▌     | 125/276 [18:51<23:52,  9.48s/it]"
     ]
    },
    {
     "name": "stdout",
     "output_type": "stream",
     "text": [
      "데이터 접근 로그 확인 및 검토에서 어떤 지표를 중점적으로 확인해야 하나요?\n",
      "데이터 접근 로그에서 비정상적인 접근 시도가 발견됐을 때, 데이터AI팀에서는 어떤 절차에 따라 대응해야 하는지 구체적으로 설명해줄 수 있어?\n"
     ]
    },
    {
     "name": "stderr",
     "output_type": "stream",
     "text": [
      " 46%|████▌     | 126/276 [19:05<27:05, 10.84s/it]"
     ]
    },
    {
     "name": "stdout",
     "output_type": "stream",
     "text": [
      "데이터 거버넌스 정책의 목적을 달성하기 위해 필요한 법적 및 윤리적 기준은 무엇인가요?\n"
     ]
    },
    {
     "name": "stderr",
     "output_type": "stream",
     "text": [
      " 46%|████▌     | 127/276 [19:16<26:45, 10.77s/it]"
     ]
    },
    {
     "name": "stdout",
     "output_type": "stream",
     "text": [
      "데이터 분석 프로젝트 진행 상황 보고서에서 현재 데이터 품질은 몇 퍼센트인가요?\n",
      "오늘 저녁에 어울리는 음악 장르 하나 추천해줘.\n",
      "오늘 운동할 만한 스트레칭 동작 하나 알려줘.\n"
     ]
    },
    {
     "name": "stderr",
     "output_type": "stream",
     "text": [
      " 46%|████▋     | 128/276 [19:25<24:56, 10.11s/it]"
     ]
    },
    {
     "name": "stdout",
     "output_type": "stream",
     "text": [
      "AI 모델 성능 개선 방안 보고서에서 제안된 하이퍼파라미터 튜닝의 구체적인 방법은 무엇인가요?\n"
     ]
    },
    {
     "name": "stderr",
     "output_type": "stream",
     "text": [
      " 47%|████▋     | 129/276 [19:36<25:57, 10.60s/it]"
     ]
    },
    {
     "name": "stdout",
     "output_type": "stream",
     "text": [
      "다음 분기 목표 설정 보고서에서 AI 모델 성능 목표는 얼마로 설정되었나요?\n",
      "오늘 저녁에 어울리는 음악 장르 하나 추천해줘.\n",
      "AI 모델 성능 평가서 위치 알려줘.\n"
     ]
    },
    {
     "name": "stderr",
     "output_type": "stream",
     "text": [
      " 47%|████▋     | 130/276 [19:48<26:36, 10.93s/it]"
     ]
    },
    {
     "name": "stdout",
     "output_type": "stream",
     "text": [
      "결측치 문제 해결 방안 제시 보고서에서 박민수가 맡은 역할의 마감일은 언제인가요?\n"
     ]
    },
    {
     "name": "stderr",
     "output_type": "stream",
     "text": [
      " 47%|████▋     | 131/276 [19:52<21:02,  8.70s/it]"
     ]
    },
    {
     "name": "stdout",
     "output_type": "stream",
     "text": [
      "데이터 수집 자동화 시스템 설계 보고서에서 이영희의 담당 마감일은 언제인가요?\n",
      "데이터 수집 자동화 시스템 설계 보고서 위치 알려줘.\n"
     ]
    },
    {
     "name": "stderr",
     "output_type": "stream",
     "text": [
      " 48%|████▊     | 132/276 [19:59<20:15,  8.44s/it]"
     ]
    },
    {
     "name": "stdout",
     "output_type": "stream",
     "text": [
      "AI 모델 성능 개선 방안 보고서에서 앙상블 기법 도입의 필요성은 무엇인가요?\n",
      "AI 모델 성능 개선 방안 보고서에서 앙상블 기법 도입을 실제로 적용할 때 고려해야 할 리스크나 한계점에는 어떤 것들이 언급되어 있어?\n"
     ]
    },
    {
     "name": "stderr",
     "output_type": "stream",
     "text": [
      " 48%|████▊     | 133/276 [20:15<25:01, 10.50s/it]"
     ]
    },
    {
     "name": "stdout",
     "output_type": "stream",
     "text": [
      "데이터 분석 프로젝트 진행 상황 보고서에서 전처리 소요 시간 감소율은 얼마인가요?\n",
      "오늘 저녁에 간단하게 먹을 수 있는 샐러드 하나 추천해줘.\n"
     ]
    },
    {
     "name": "stderr",
     "output_type": "stream",
     "text": [
      " 49%|████▊     | 134/276 [20:23<23:12,  9.81s/it]"
     ]
    },
    {
     "name": "stdout",
     "output_type": "stream",
     "text": [
      "결측치 문제로 인한 리스크 보고서에서 제시된 대응 방안은 무엇인가요?\n",
      "결측치 처리 기준 문서 있어?\n",
      "결측치 처리 담당자 명단 알려줘.\n"
     ]
    },
    {
     "name": "stderr",
     "output_type": "stream",
     "text": [
      " 49%|████▉     | 135/276 [20:36<25:11, 10.72s/it]"
     ]
    },
    {
     "name": "stdout",
     "output_type": "stream",
     "text": [
      "다음 분기 목표 설정 보고서에서 각 팀원에게 분담된 역할은 어떤 것들이 있나요?\n",
      "각 역할별 산출물 위치 알려줘.\n"
     ]
    },
    {
     "name": "stderr",
     "output_type": "stream",
     "text": [
      " 49%|████▉     | 136/276 [20:48<26:03, 11.17s/it]"
     ]
    },
    {
     "name": "stdout",
     "output_type": "stream",
     "text": [
      "AI 모델 성능 개선 방안 보고서에서 현재 모델의 정확도는 얼마인가요?\n",
      "퇴근 후에 듣기 좋은 편안한 음악 장르 하나 추천해줘.\n",
      "AI 모델 성능 평가 기준은 뭐야?\n",
      "모델 성능 비교표도 보여줄 수 있어?\n"
     ]
    },
    {
     "name": "stderr",
     "output_type": "stream",
     "text": [
      " 50%|████▉     | 137/276 [21:04<29:13, 12.61s/it]"
     ]
    },
    {
     "name": "stdout",
     "output_type": "stream",
     "text": [
      "데이터 분석 프로젝트 진행 상황 보고서에서 문제점으로 언급된 사항은 무엇인가요?\n"
     ]
    },
    {
     "name": "stderr",
     "output_type": "stream",
     "text": [
      " 50%|█████     | 138/276 [21:08<23:05, 10.04s/it]"
     ]
    },
    {
     "name": "stdout",
     "output_type": "stream",
     "text": [
      "하이퍼파라미터 튜닝 진행 보고서에서 최지혜의 마감일은 언제인가요?\n",
      "오늘 저녁 메뉴 하나 정해줘.\n",
      "오늘 저녁으로 간단한 파스타 하나 추천해줘.\n"
     ]
    },
    {
     "name": "stderr",
     "output_type": "stream",
     "text": [
      " 50%|█████     | 139/276 [21:17<22:04,  9.67s/it]"
     ]
    },
    {
     "name": "stdout",
     "output_type": "stream",
     "text": [
      "결측치 문제 해결 방안 제시 보고서에서 어떤 팀원이 책임을 맡았나요?\n",
      "오늘 저녁에 어울리는 간단한 안주 하나 추천해줘.\n"
     ]
    },
    {
     "name": "stderr",
     "output_type": "stream",
     "text": [
      " 51%|█████     | 140/276 [21:24<19:58,  8.81s/it]"
     ]
    },
    {
     "name": "stdout",
     "output_type": "stream",
     "text": [
      "데이터 수집 자동화 시스템 설계 보고서에서 이영희의 역할은 무엇인가요?\n"
     ]
    },
    {
     "name": "stderr",
     "output_type": "stream",
     "text": [
      " 51%|█████     | 141/276 [21:28<16:56,  7.53s/it]"
     ]
    },
    {
     "name": "stdout",
     "output_type": "stream",
     "text": [
      "AI 모델 성능 개선 방안 보고서에서 추가 데이터셋 활용의 장점은 무엇인가요?\n"
     ]
    },
    {
     "name": "stderr",
     "output_type": "stream",
     "text": [
      " 51%|█████▏    | 142/276 [21:35<16:07,  7.22s/it]"
     ]
    },
    {
     "name": "stdout",
     "output_type": "stream",
     "text": [
      "데이터 분석 프로젝트 진행 상황 보고서에서 완료된 단계는 무엇인가요?\n"
     ]
    },
    {
     "name": "stderr",
     "output_type": "stream",
     "text": [
      " 52%|█████▏    | 143/276 [21:39<14:03,  6.34s/it]"
     ]
    },
    {
     "name": "stdout",
     "output_type": "stream",
     "text": [
      "결측치 문제 해결 방안 제시 보고서에서 제시된 해결 방안은 무엇인가요?\n"
     ]
    },
    {
     "name": "stderr",
     "output_type": "stream",
     "text": [
      " 52%|█████▏    | 144/276 [21:44<12:56,  5.88s/it]"
     ]
    },
    {
     "name": "stdout",
     "output_type": "stream",
     "text": [
      "AI 모델 성능 개선 방안 보고서에서 목표 정확도에 도달하기 위한 전략은 무엇인가요?\n",
      "주간 보고서 템플릿 어디 있어?\n"
     ]
    },
    {
     "name": "stderr",
     "output_type": "stream",
     "text": [
      " 53%|█████▎    | 145/276 [21:53<14:56,  6.85s/it]"
     ]
    },
    {
     "name": "stdout",
     "output_type": "stream",
     "text": [
      "결측치 문제 해결 방안 제시 보고서에서 박민수가 맡은 Action Item의 내용은 무엇인가요?\n"
     ]
    },
    {
     "name": "stderr",
     "output_type": "stream",
     "text": [
      " 53%|█████▎    | 146/276 [21:58<13:28,  6.22s/it]"
     ]
    },
    {
     "name": "stdout",
     "output_type": "stream",
     "text": [
      "데이터 수집 자동화 시스템 설계 보고서에서 이영희의 역할은 어떤 시스템을 설계하는 것인가요?\n",
      "오늘 저녁 메뉴 하나 정해줘.\n",
      "모델 성능 평가 보고서 위치 알려줘.\n",
      "모델 성능 평가 보고서에서 사용된 주요 성능 지표와 각 모델별 평가 결과를 구체적으로 알려줄 수 있어?\n"
     ]
    },
    {
     "name": "stderr",
     "output_type": "stream",
     "text": [
      " 53%|█████▎    | 147/276 [22:17<21:40, 10.08s/it]"
     ]
    },
    {
     "name": "stdout",
     "output_type": "stream",
     "text": [
      "AI 모델 성능 개선 방안 보고서에서 하이퍼파라미터 튜닝의 목표는 무엇인가요?\n",
      "하이퍼파라미터 튜닝 과정에서 사용된 검증 방법이나 실험 절차에 대해 구체적으로 설명해 줄 수 있어?\n",
      "하이퍼파라미터 튜닝 결과로 가장 성능이 좋았던 모델의 주요 하이퍼파라미터 값과 그 선정 근거를 알 수 있을까?\n"
     ]
    },
    {
     "name": "stderr",
     "output_type": "stream",
     "text": [
      " 54%|█████▎    | 148/276 [22:38<28:58, 13.58s/it]"
     ]
    },
    {
     "name": "stdout",
     "output_type": "stream",
     "text": [
      "데이터 분석 프로젝트 진행 상황 보고서에서 전처리 소요 시간 감소의 원인은 무엇인가요?\n"
     ]
    },
    {
     "name": "stderr",
     "output_type": "stream",
     "text": [
      " 54%|█████▍    | 149/276 [22:43<22:45, 10.75s/it]"
     ]
    },
    {
     "name": "stdout",
     "output_type": "stream",
     "text": [
      "AI 윤리/리스크 관리 문서의 '윤리 원칙 요약' 섹션에서 '투명성'의 구체적인 내용은 무엇인가요?\n"
     ]
    },
    {
     "name": "stderr",
     "output_type": "stream",
     "text": [
      " 54%|█████▍    | 150/276 [22:46<18:09,  8.64s/it]"
     ]
    },
    {
     "name": "stdout",
     "output_type": "stream",
     "text": [
      "AI 윤리/리스크 관리 문서의 '편향/공정성 점검 항목'에서 데이터 수집 단계의 체크리스트 항목은 어떤 것들이 있나요?\n"
     ]
    },
    {
     "name": "stderr",
     "output_type": "stream",
     "text": [
      " 55%|█████▍    | 151/276 [22:52<15:58,  7.66s/it]"
     ]
    },
    {
     "name": "stdout",
     "output_type": "stream",
     "text": [
      "AI 윤리/리스크 관리 문서의 '법적/규제 리스크 검토' 부분에서 어떤 법규를 검토해야 하는지 구체적으로 설명해 주실 수 있나요?\n",
      "오늘 간단하게 할 수 있는 스트레칭 동작 하나 알려줘.\n",
      "AI 윤리 체크리스트 항목 알려줘.\n"
     ]
    },
    {
     "name": "stderr",
     "output_type": "stream",
     "text": [
      " 55%|█████▌    | 152/276 [23:06<19:42,  9.54s/it]"
     ]
    },
    {
     "name": "stdout",
     "output_type": "stream",
     "text": [
      "AI 윤리/리스크 관리 문서의 '법적 리스크 발생 가능성 평가'는 어떤 기준으로 진행되나요?\n"
     ]
    },
    {
     "name": "stderr",
     "output_type": "stream",
     "text": [
      " 55%|█████▌    | 153/276 [23:10<16:12,  7.90s/it]"
     ]
    },
    {
     "name": "stdout",
     "output_type": "stream",
     "text": [
      "AI 윤리/리스크 관리 문서의 '모델 개발 단계'에서 편향 지표를 측정하는 방법은 무엇인가요?\n"
     ]
    },
    {
     "name": "stderr",
     "output_type": "stream",
     "text": [
      " 56%|█████▌    | 154/276 [23:14<13:50,  6.81s/it]"
     ]
    },
    {
     "name": "stdout",
     "output_type": "stream",
     "text": [
      "AI 윤리/리스크 관리 문서의 '정기적인 모델 성능 재평가 및 업데이트'는 어떤 주기로 이루어지나요?\n"
     ]
    },
    {
     "name": "stderr",
     "output_type": "stream",
     "text": [
      " 56%|█████▌    | 155/276 [23:18<12:19,  6.11s/it]"
     ]
    },
    {
     "name": "stdout",
     "output_type": "stream",
     "text": [
      "AI 윤리/리스크 관리 문서의 '정기적인 리스크 평가 회의'는 어떤 주기로 개최되나요?\n"
     ]
    },
    {
     "name": "stderr",
     "output_type": "stream",
     "text": [
      " 57%|█████▋    | 156/276 [23:22<10:55,  5.46s/it]"
     ]
    },
    {
     "name": "stdout",
     "output_type": "stream",
     "text": [
      "AI 윤리/리스크 관리 문서의 'AI 시스템 운영 중 발생하는 문제에 대한 모니터링 체계'는 어떻게 구성되나요?\n"
     ]
    },
    {
     "name": "stderr",
     "output_type": "stream",
     "text": [
      " 57%|█████▋    | 157/276 [23:29<11:20,  5.72s/it]"
     ]
    },
    {
     "name": "stdout",
     "output_type": "stream",
     "text": [
      "AI 윤리/리스크 관리 문서의 'AI 모델의 설계, 개발, 배포 및 운영 과정에서 윤리적 고려사항'은 어떤 방식으로 반영되나요?\n",
      "오늘 저녁에 간단하게 먹을 수 있는 메뉴 하나 골라줘.\n"
     ]
    },
    {
     "name": "stderr",
     "output_type": "stream",
     "text": [
      " 57%|█████▋    | 158/276 [23:39<13:58,  7.10s/it]"
     ]
    },
    {
     "name": "stdout",
     "output_type": "stream",
     "text": [
      "AI 윤리/리스크 관리 문서의 '편향성 최소화'를 위한 구체적인 전략은 무엇인가요?\n"
     ]
    },
    {
     "name": "stderr",
     "output_type": "stream",
     "text": [
      " 58%|█████▊    | 159/276 [23:44<12:32,  6.43s/it]"
     ]
    },
    {
     "name": "stdout",
     "output_type": "stream",
     "text": [
      "AI 윤리/리스크 관리 문서의 'AI 시스템의 신뢰성을 높이기 위한 기본 지침'은 어떤 내용을 포함하고 있나요?\n"
     ]
    },
    {
     "name": "stderr",
     "output_type": "stream",
     "text": [
      " 58%|█████▊    | 160/276 [23:51<12:40,  6.56s/it]"
     ]
    },
    {
     "name": "stdout",
     "output_type": "stream",
     "text": [
      "모델 학습 결과서에서 최종 선택된 모델인 XGBoost의 성능 최적화 결과는 어떤가요?\n"
     ]
    },
    {
     "name": "stderr",
     "output_type": "stream",
     "text": [
      " 58%|█████▊    | 161/276 [23:56<11:50,  6.18s/it]"
     ]
    },
    {
     "name": "stdout",
     "output_type": "stream",
     "text": [
      "모델 학습 결과서의 성능 지표 및 기준에서 Accuracy 목표는 무엇인가요?\n"
     ]
    },
    {
     "name": "stderr",
     "output_type": "stream",
     "text": [
      " 59%|█████▊    | 162/276 [24:00<10:31,  5.54s/it]"
     ]
    },
    {
     "name": "stdout",
     "output_type": "stream",
     "text": [
      "모델 학습 결과서에서 검증 데이터와 테스트 데이터의 비율은 어떻게 되나요?\n",
      "모델 성능 검증 방법 자세히 알려줘.\n",
      "오늘 퇴근 후 간단히 할 수 있는 스트레칭 동작 하나 추천해줘.\n",
      "모델 성능 평가 보고서에서 사용된 주요 성능 지표별 산출 방식이나 기준값은 어떻게 설정되어 있는지 알려줄 수 있어?\n"
     ]
    },
    {
     "name": "stderr",
     "output_type": "stream",
     "text": [
      " 59%|█████▉    | 163/276 [24:24<20:49, 11.06s/it]"
     ]
    },
    {
     "name": "stdout",
     "output_type": "stream",
     "text": [
      "모델 학습 결과서의 리스크/한계 및 개선 제안에서 과적합의 리스크는 어떤 의미인가요?\n",
      "모델 학습 결과서에서 제안된 데이터 증강이나 앙상블 기법이 실제로 과적합 문제를 얼마나 개선했는지에 대한 구체적인 사례나 성능 변화가 문서에 나와 있는지 알려줄 수 있어?\n"
     ]
    },
    {
     "name": "stderr",
     "output_type": "stream",
     "text": [
      " 59%|█████▉    | 164/276 [24:39<23:05, 12.37s/it]"
     ]
    },
    {
     "name": "stdout",
     "output_type": "stream",
     "text": [
      "모델 학습 결과서에서 F1 Score의 목표는 얼마인가요?\n",
      "데이터 불균형 문제로 인한 성능 저하 리스크에 대해, 모델 학습 결과서에서는 어떤 데이터 증강 기법을 제안하고 있는지 구체적으로 알려줄 수 있어?\n"
     ]
    },
    {
     "name": "stderr",
     "output_type": "stream",
     "text": [
      " 60%|█████▉    | 165/276 [24:48<20:39, 11.17s/it]"
     ]
    },
    {
     "name": "stdout",
     "output_type": "stream",
     "text": [
      "모델 학습 결과서의 실험/테스트 절차에서 사용된 하드웨어는 무엇인가요?\n",
      "오늘 저녁에 간단하게 할 수 있는 운동 하나 추천해줘.\n",
      "모델 학습 결과서에서 하이퍼파라미터 최적화는 어떤 방식으로 진행됐는지 구체적으로 설명해줄 수 있어?\n"
     ]
    },
    {
     "name": "stderr",
     "output_type": "stream",
     "text": [
      " 60%|██████    | 166/276 [25:01<21:27, 11.71s/it]"
     ]
    },
    {
     "name": "stdout",
     "output_type": "stream",
     "text": [
      "모델 학습 결과서에서 하이퍼파라미터 최적화가 완료되었는지 여부는 체크리스트에서 어떻게 확인하나요?\n"
     ]
    },
    {
     "name": "stderr",
     "output_type": "stream",
     "text": [
      " 61%|██████    | 167/276 [25:07<18:30, 10.19s/it]"
     ]
    },
    {
     "name": "stdout",
     "output_type": "stream",
     "text": [
      "모델 학습 결과서의 결과 요약에서 ROC-AUC 값은 얼마인가요?\n"
     ]
    },
    {
     "name": "stderr",
     "output_type": "stream",
     "text": [
      " 61%|██████    | 168/276 [25:12<15:25,  8.57s/it]"
     ]
    },
    {
     "name": "stdout",
     "output_type": "stream",
     "text": [
      "모델 학습 결과서에서 데이터셋의 훈련 데이터 비율은 어떻게 되나요?\n",
      "데이터 전처리 방법은 뭐야?\n",
      "오늘 저녁 메뉴로 간단하게 먹을 수 있는 요리 하나 추천해줘.\n"
     ]
    },
    {
     "name": "stderr",
     "output_type": "stream",
     "text": [
      " 61%|██████    | 169/276 [25:23<16:14,  9.11s/it]"
     ]
    },
    {
     "name": "stdout",
     "output_type": "stream",
     "text": [
      "모델 학습 결과서에서 검증 데이터의 총 건수는 얼마인가요?\n",
      "모델 학습 결과서에서 데이터 불균형 문제를 해결하기 위해 제안된 데이터 증강 기법에는 어떤 방법들이 포함되어 있는지 구체적으로 알려줄 수 있어?\n"
     ]
    },
    {
     "name": "stderr",
     "output_type": "stream",
     "text": [
      " 62%|██████▏   | 170/276 [25:30<15:21,  8.69s/it]"
     ]
    },
    {
     "name": "stdout",
     "output_type": "stream",
     "text": [
      "모델 학습 결과서의 리스크/한계 및 개선 제안에서 데이터 불균형의 리스크는 무엇을 의미하나요?\n"
     ]
    },
    {
     "name": "stderr",
     "output_type": "stream",
     "text": [
      " 62%|██████▏   | 171/276 [25:37<13:58,  7.99s/it]"
     ]
    },
    {
     "name": "stdout",
     "output_type": "stream",
     "text": [
      "모델 학습 결과서에서 교차 검증은 어떤 방식으로 실시하나요?\n",
      "오늘 저녁에 듣기 좋은 음악 장르 하나 추천해줘.\n"
     ]
    },
    {
     "name": "stderr",
     "output_type": "stream",
     "text": [
      " 62%|██████▏   | 172/276 [25:45<13:58,  8.06s/it]"
     ]
    },
    {
     "name": "stdout",
     "output_type": "stream",
     "text": [
      "모델 학습 결과서의 결과 요약에서 F1 Score 값은 얼마인가요?\n",
      "오늘 저녁에 어떤 간단한 요리 해볼까, 하나 추천해줘.\n",
      "오늘 저녁에 간단하게 만들 수 있는 요리로 '볶음밥' 하나 정해줘.\n",
      "모델 성능 평가 기준 문서 위치 알려줘.\n"
     ]
    },
    {
     "name": "stderr",
     "output_type": "stream",
     "text": [
      " 63%|██████▎   | 173/276 [25:59<17:00,  9.91s/it]"
     ]
    },
    {
     "name": "stdout",
     "output_type": "stream",
     "text": [
      "모델 학습 결과서의 개정 이력에서 최초 작성일은 언제인가요?\n",
      "오늘 저녁에 간단하게 먹을 수 있는 샐러드 추천해줘.\n"
     ]
    },
    {
     "name": "stderr",
     "output_type": "stream",
     "text": [
      " 63%|██████▎   | 174/276 [26:07<15:49,  9.31s/it]"
     ]
    },
    {
     "name": "stdout",
     "output_type": "stream",
     "text": [
      "모델 학습 결과서에서 훈련/검증/테스트 데이터의 분할 확인은 어떻게 이루어지나요?\n"
     ]
    },
    {
     "name": "stderr",
     "output_type": "stream",
     "text": [
      " 63%|██████▎   | 175/276 [26:12<13:38,  8.10s/it]"
     ]
    },
    {
     "name": "stdout",
     "output_type": "stream",
     "text": [
      "모델 학습 결과서의 성능 지표에서 Accuracy는 어떤 의미인가요?\n",
      "성능 지표별 산출 방법 알려줘.\n",
      "교차 검증 방법 자세히 알려줘.\n",
      "오늘 저녁에 간단하게 먹을 수 있는 메뉴 하나 추천해줘.\n"
     ]
    },
    {
     "name": "stderr",
     "output_type": "stream",
     "text": [
      " 64%|██████▍   | 176/276 [26:28<17:25, 10.45s/it]"
     ]
    },
    {
     "name": "stdout",
     "output_type": "stream",
     "text": [
      "모델 학습 결과서에서 하드웨어 사양은 어떤 것들이 포함되어 있나요?\n"
     ]
    },
    {
     "name": "stderr",
     "output_type": "stream",
     "text": [
      " 64%|██████▍   | 177/276 [26:32<14:04,  8.53s/it]"
     ]
    },
    {
     "name": "stdout",
     "output_type": "stream",
     "text": [
      "요즘 트렌드인 패션 아이템 뭐가 있을까?\n"
     ]
    },
    {
     "name": "stderr",
     "output_type": "stream",
     "text": [
      " 64%|██████▍   | 178/276 [26:35<11:17,  6.92s/it]"
     ]
    },
    {
     "name": "stdout",
     "output_type": "stream",
     "text": [
      "사무실에서 듣기 좋은 팟캐스트 추천해 줄 수 있어?\n"
     ]
    },
    {
     "name": "stderr",
     "output_type": "stream",
     "text": [
      " 65%|██████▍   | 179/276 [26:38<09:12,  5.70s/it]"
     ]
    },
    {
     "name": "stdout",
     "output_type": "stream",
     "text": [
      "휴식 시간에 할 만한 간단한 게임 있으면 알려줘!\n"
     ]
    },
    {
     "name": "stderr",
     "output_type": "stream",
     "text": [
      " 65%|██████▌   | 180/276 [26:42<08:13,  5.14s/it]"
     ]
    },
    {
     "name": "stdout",
     "output_type": "stream",
     "text": [
      "최근에 화제가 된 뉴스는 뭐가 있을까?\n"
     ]
    },
    {
     "name": "stderr",
     "output_type": "stream",
     "text": [
      " 66%|██████▌   | 181/276 [26:45<06:52,  4.34s/it]"
     ]
    },
    {
     "name": "stdout",
     "output_type": "stream",
     "text": [
      "오늘 날씨 어때?\n",
      "데이터AI팀 조직도 문서 있어?\n"
     ]
    },
    {
     "name": "stderr",
     "output_type": "stream",
     "text": [
      " 66%|██████▌   | 182/276 [26:50<07:33,  4.83s/it]"
     ]
    },
    {
     "name": "stdout",
     "output_type": "stream",
     "text": [
      "내가 가볼 만한 여행지 추천해 줘!\n",
      "오늘 저녁 메뉴로 간단하게 먹을 수 있는 요리 하나 추천해줘.\n",
      "오늘 저녁에 간단하게 먹을 수 있는 메뉴 하나 정해줘.\n"
     ]
    },
    {
     "name": "stderr",
     "output_type": "stream",
     "text": [
      " 66%|██████▋   | 183/276 [26:58<08:31,  5.50s/it]"
     ]
    },
    {
     "name": "stdout",
     "output_type": "stream",
     "text": [
      "재밌는 책 읽고 싶은데, 추천할 만한 거 있어?\n"
     ]
    },
    {
     "name": "stderr",
     "output_type": "stream",
     "text": [
      " 67%|██████▋   | 184/276 [27:00<07:06,  4.64s/it]"
     ]
    },
    {
     "name": "stdout",
     "output_type": "stream",
     "text": [
      "요즘 인기 있는 TV 프로그램 있으면 알려줘!\n",
      "오늘 날씨가 흐리네, 우산 필요할까?\n",
      "데이터AI팀 조직도 문서 있어?\n"
     ]
    },
    {
     "name": "stderr",
     "output_type": "stream",
     "text": [
      " 67%|██████▋   | 185/276 [27:09<08:53,  5.86s/it]"
     ]
    },
    {
     "name": "stdout",
     "output_type": "stream",
     "text": [
      "간단한 요리 레시피 알려줄래?\n",
      "오늘 저녁에 먹기 좋은 간단한 샐러드 레시피 하나 알려줘.\n",
      "데이터 AI팀에서 활용하는 데이터 전처리 자동화 프로세스에 대한 문서가 있다면, 주요 단계와 적용 사례를 구체적으로 설명해 줄 수 있을까?\n",
      "오늘 저녁에 간단하게 먹을 수 있는 메뉴 하나 정해줘.\n"
     ]
    },
    {
     "name": "stderr",
     "output_type": "stream",
     "text": [
      " 67%|██████▋   | 186/276 [27:27<14:31,  9.68s/it]"
     ]
    },
    {
     "name": "stdout",
     "output_type": "stream",
     "text": [
      "주말에 놀러 갈 만한 장소 추천해 줘!\n",
      "오늘 저녁에 듣기 좋은 음악 장르 하나 추천해줘.\n",
      "오늘 운동할 만한 스트레칭 동작 하나 알려줘.\n"
     ]
    },
    {
     "name": "stderr",
     "output_type": "stream",
     "text": [
      " 68%|██████▊   | 187/276 [27:38<14:36,  9.85s/it]"
     ]
    },
    {
     "name": "stdout",
     "output_type": "stream",
     "text": [
      "요즘 핫한 카페나 맛집 정보 있으면 알려줘!\n",
      "오늘 저녁 메뉴 하나 정해줘.\n"
     ]
    },
    {
     "name": "stderr",
     "output_type": "stream",
     "text": [
      " 68%|██████▊   | 188/276 [27:43<12:23,  8.45s/it]"
     ]
    },
    {
     "name": "stdout",
     "output_type": "stream",
     "text": [
      "건강한 스낵 아이디어가 있다면 알려줘!\n",
      "데이터 AI팀에서 건강한 스낵 아이디어와 관련된 사내 문서나 가이드라인이 따로 정리되어 있는지 확인할 수 있을까?\n"
     ]
    },
    {
     "name": "stderr",
     "output_type": "stream",
     "text": [
      " 68%|██████▊   | 189/276 [27:52<12:27,  8.59s/it]"
     ]
    },
    {
     "name": "stdout",
     "output_type": "stream",
     "text": [
      "요즘 사람들 사이에서 인기 있는 활동이 뭐지?\n",
      "오늘 저녁에 어울리는 간단한 스낵 하나 추천해줘.\n",
      "오늘 저녁에 간편하게 먹을 수 있는 간식 하나 정해줘.\n"
     ]
    },
    {
     "name": "stderr",
     "output_type": "stream",
     "text": [
      " 69%|██████▉   | 190/276 [28:00<12:13,  8.52s/it]"
     ]
    },
    {
     "name": "stdout",
     "output_type": "stream",
     "text": [
      "오늘 날씨 어때?\n",
      "데이터 AI팀의 주요 프로젝트별 산출물이나 문서화 기준이 어떻게 정해져 있는지 궁금해.\n"
     ]
    },
    {
     "name": "stderr",
     "output_type": "stream",
     "text": [
      " 69%|██████▉   | 191/276 [28:10<12:26,  8.78s/it]"
     ]
    },
    {
     "name": "stdout",
     "output_type": "stream",
     "text": [
      "요즘 핫한 영화 추천해줄 수 있어?\n",
      "오늘 퇴근 후 간단하게 할 수 있는 스트레칭 동작 하나 알려줘.\n"
     ]
    },
    {
     "name": "stderr",
     "output_type": "stream",
     "text": [
      " 70%|██████▉   | 192/276 [28:17<11:41,  8.35s/it]"
     ]
    },
    {
     "name": "stdout",
     "output_type": "stream",
     "text": [
      "좋아하는 음악 있으면 알려줘!\n"
     ]
    },
    {
     "name": "stderr",
     "output_type": "stream",
     "text": [
      " 70%|██████▉   | 193/276 [28:19<09:00,  6.51s/it]"
     ]
    },
    {
     "name": "stdout",
     "output_type": "stream",
     "text": [
      "최근에 나온 책 중에 읽어볼 만한 거 있어?\n",
      "오늘 저녁에 어떤 간단한 요리를 해볼까?\n"
     ]
    },
    {
     "name": "stderr",
     "output_type": "stream",
     "text": [
      " 70%|███████   | 194/276 [28:24<08:06,  5.93s/it]"
     ]
    },
    {
     "name": "stdout",
     "output_type": "stream",
     "text": [
      "오늘 기분 좋게 해줄 만한 명언 하나 알려줘!\n",
      "데이터 AI팀에서 팀원들의 동기 부여나 사기 진작을 위해 활용할 수 있는 사내 프로그램이나 제도에 대한 문서가 있을까?\n",
      "오늘 저녁 메뉴 하나 정해줘.\n",
      "오늘 저녁에 간편하게 먹을 수 있는 파스타 하나 골라줘.\n"
     ]
    },
    {
     "name": "stderr",
     "output_type": "stream",
     "text": [
      " 71%|███████   | 195/276 [28:35<10:16,  7.61s/it]"
     ]
    },
    {
     "name": "stdout",
     "output_type": "stream",
     "text": [
      "나에게 어울리는 디저트 추천해줘!\n"
     ]
    },
    {
     "name": "stderr",
     "output_type": "stream",
     "text": [
      " 71%|███████   | 196/276 [28:38<08:08,  6.10s/it]"
     ]
    },
    {
     "name": "stdout",
     "output_type": "stream",
     "text": [
      "주말에 할 만한 활동이 있을까?\n",
      "데이터 AI팀의 업무 프로세스나 산출물에 대한 공식 문서는 어디에서 확인할 수 있어?\n"
     ]
    },
    {
     "name": "stderr",
     "output_type": "stream",
     "text": [
      " 71%|███████▏  | 197/276 [28:46<08:41,  6.60s/it]"
     ]
    },
    {
     "name": "stdout",
     "output_type": "stream",
     "text": [
      "요즘 인기 있는 드라마 뭐야?\n"
     ]
    },
    {
     "name": "stderr",
     "output_type": "stream",
     "text": [
      " 72%|███████▏  | 198/276 [28:48<06:49,  5.25s/it]"
     ]
    },
    {
     "name": "stdout",
     "output_type": "stream",
     "text": [
      "나랑 잘 맞는 취미가 뭐라고 생각해?\n"
     ]
    },
    {
     "name": "stderr",
     "output_type": "stream",
     "text": [
      " 72%|███████▏  | 199/276 [28:50<05:45,  4.49s/it]"
     ]
    },
    {
     "name": "stdout",
     "output_type": "stream",
     "text": [
      "스트레스 해소하는 방법 몇 가지 알려줘!\n"
     ]
    },
    {
     "name": "stderr",
     "output_type": "stream",
     "text": [
      " 72%|███████▏  | 200/276 [28:54<05:22,  4.24s/it]"
     ]
    },
    {
     "name": "stdout",
     "output_type": "stream",
     "text": [
      "재미있는 팟캐스트 추천해줄래?\n",
      "데이터AI팀 조직도 문서 있어?\n"
     ]
    },
    {
     "name": "stderr",
     "output_type": "stream",
     "text": [
      " 73%|███████▎  | 201/276 [29:02<06:33,  5.25s/it]"
     ]
    },
    {
     "name": "stdout",
     "output_type": "stream",
     "text": [
      "다음에 가볼 만한 여행지 있으면 알려줘!\n"
     ]
    },
    {
     "name": "stderr",
     "output_type": "stream",
     "text": [
      " 73%|███████▎  | 202/276 [29:04<05:22,  4.35s/it]"
     ]
    },
    {
     "name": "stdout",
     "output_type": "stream",
     "text": [
      "내가 좋아할 만한 게임 뭐 있을까?\n",
      "오늘 저녁에 간단하게 먹을 수 있는 요리 하나 추천해줘.\n"
     ]
    },
    {
     "name": "stderr",
     "output_type": "stream",
     "text": [
      " 74%|███████▎  | 203/276 [29:08<05:21,  4.40s/it]"
     ]
    },
    {
     "name": "stdout",
     "output_type": "stream",
     "text": [
      "나에게 맞는 카페 스타일은 뭐일까?\n"
     ]
    },
    {
     "name": "stderr",
     "output_type": "stream",
     "text": [
      " 74%|███████▍  | 204/276 [29:12<04:52,  4.06s/it]"
     ]
    },
    {
     "name": "stdout",
     "output_type": "stream",
     "text": [
      "요즘 트렌디한 패션 아이템 추천해줘!\n"
     ]
    },
    {
     "name": "stderr",
     "output_type": "stream",
     "text": [
      " 74%|███████▍  | 205/276 [29:14<04:14,  3.58s/it]"
     ]
    },
    {
     "name": "stdout",
     "output_type": "stream",
     "text": [
      "분위기 좋은 음악 추천해줄 수 있어?\n"
     ]
    },
    {
     "name": "stderr",
     "output_type": "stream",
     "text": [
      " 75%|███████▍  | 206/276 [29:17<03:58,  3.41s/it]"
     ]
    },
    {
     "name": "stdout",
     "output_type": "stream",
     "text": [
      "오늘 기분 좋은 음악 추천해줄 수 있어?\n"
     ]
    },
    {
     "name": "stderr",
     "output_type": "stream",
     "text": [
      " 75%|███████▌  | 207/276 [29:20<03:40,  3.19s/it]"
     ]
    },
    {
     "name": "stdout",
     "output_type": "stream",
     "text": [
      "최근에 인기 있는 영화 어떤 게 있을까?\n"
     ]
    },
    {
     "name": "stderr",
     "output_type": "stream",
     "text": [
      " 75%|███████▌  | 208/276 [29:22<03:12,  2.83s/it]"
     ]
    },
    {
     "name": "stdout",
     "output_type": "stream",
     "text": [
      "요즘 핫한 책 제목 좀 알려줘!\n"
     ]
    },
    {
     "name": "stderr",
     "output_type": "stream",
     "text": [
      " 76%|███████▌  | 209/276 [29:24<03:02,  2.72s/it]"
     ]
    },
    {
     "name": "stdout",
     "output_type": "stream",
     "text": [
      "주말에 하기 좋은 취미 활동은 뭐가 있을까?\n"
     ]
    },
    {
     "name": "stderr",
     "output_type": "stream",
     "text": [
      " 76%|███████▌  | 210/276 [29:27<02:57,  2.69s/it]"
     ]
    },
    {
     "name": "stdout",
     "output_type": "stream",
     "text": [
      "새로운 팟캐스트 추천해줄 수 있어?\n"
     ]
    },
    {
     "name": "stderr",
     "output_type": "stream",
     "text": [
      " 76%|███████▋  | 211/276 [29:30<02:59,  2.76s/it]"
     ]
    },
    {
     "name": "stdout",
     "output_type": "stream",
     "text": [
      "가볍게 읽기 좋은 웹툰 뭐가 있을까?\n"
     ]
    },
    {
     "name": "stderr",
     "output_type": "stream",
     "text": [
      " 77%|███████▋  | 212/276 [29:32<02:45,  2.59s/it]"
     ]
    },
    {
     "name": "stdout",
     "output_type": "stream",
     "text": [
      "요즘 유행하는 요리법 알고 있어?\n",
      "오늘 저녁 메뉴 하나 정해줘.\n",
      "오늘 날씨가 변덕스럽네, 우산 챙길지 판단해줘.\n"
     ]
    },
    {
     "name": "stderr",
     "output_type": "stream",
     "text": [
      " 77%|███████▋  | 213/276 [29:39<04:07,  3.93s/it]"
     ]
    },
    {
     "name": "stdout",
     "output_type": "stream",
     "text": [
      "최근에 나온 게임 중에 추천할 만한 게 있을까?\n",
      "오늘 저녁 메뉴 하나 정해줘.\n"
     ]
    },
    {
     "name": "stderr",
     "output_type": "stream",
     "text": [
      " 78%|███████▊  | 214/276 [29:44<04:28,  4.34s/it]"
     ]
    },
    {
     "name": "stdout",
     "output_type": "stream",
     "text": [
      "오늘의 날씨에 딱 맞는 음악이 있을까?\n",
      "데이터AI팀에서 최근에 작성된 기술 문서나 가이드라인이 있다면, 그 주요 변경사항이나 업데이트된 내용을 알려줄 수 있어?\n"
     ]
    },
    {
     "name": "stderr",
     "output_type": "stream",
     "text": [
      " 78%|███████▊  | 215/276 [29:54<06:05,  5.99s/it]"
     ]
    },
    {
     "name": "stdout",
     "output_type": "stream",
     "text": [
      "스트레스 풀기 좋은 영화 한 편 추천해줘!\n"
     ]
    },
    {
     "name": "stderr",
     "output_type": "stream",
     "text": [
      " 78%|███████▊  | 216/276 [29:57<04:56,  4.93s/it]"
     ]
    },
    {
     "name": "stdout",
     "output_type": "stream",
     "text": [
      "출퇴근길에 듣기 좋은 음악 리스트 좀 만들어줄래?\n",
      "오늘 운동할 만한 스트레칭 동작 하나 알려줘.\n",
      "데이터 AI팀에서 최근에 작성된 기술 문서나 가이드라인 목록을 확인할 수 있을까?\n"
     ]
    },
    {
     "name": "stderr",
     "output_type": "stream",
     "text": [
      " 79%|███████▊  | 217/276 [30:08<06:46,  6.88s/it]"
     ]
    },
    {
     "name": "stdout",
     "output_type": "stream",
     "text": [
      "여름에 가기 좋은 여행지 추천해줄 수 있어?\n"
     ]
    },
    {
     "name": "stderr",
     "output_type": "stream",
     "text": [
      " 79%|███████▉  | 218/276 [30:12<05:39,  5.85s/it]"
     ]
    },
    {
     "name": "stdout",
     "output_type": "stream",
     "text": [
      "기분 전환에 좋은 활동 뭐가 있을까?\n",
      "데이터AI팀 문서 목록 보여줘\n",
      "AI 윤리/리스크 관리 문서 요약해줘\n",
      "리스크 평가 회의 주기 알려줘\n"
     ]
    },
    {
     "name": "stderr",
     "output_type": "stream",
     "text": [
      " 79%|███████▉  | 219/276 [30:29<08:48,  9.27s/it]"
     ]
    },
    {
     "name": "stdout",
     "output_type": "stream",
     "text": [
      "맛있는 디저트 레시피 알고 있어?\n",
      "데이터AI팀 문서 목록 보여줘\n"
     ]
    },
    {
     "name": "stderr",
     "output_type": "stream",
     "text": [
      " 80%|███████▉  | 220/276 [30:35<07:53,  8.46s/it]"
     ]
    },
    {
     "name": "stdout",
     "output_type": "stream",
     "text": [
      "간단한 요리 레시피 하나 알려줘.\n"
     ]
    },
    {
     "name": "stderr",
     "output_type": "stream",
     "text": [
      " 80%|████████  | 221/276 [30:39<06:25,  7.00s/it]"
     ]
    },
    {
     "name": "stdout",
     "output_type": "stream",
     "text": [
      "최근에 인기 있는 앱 있으면 추천해 줘.\n",
      "오늘 간단하게 할 수 있는 스트레칭 동작 하나 알려줘.\n",
      "데이터AI팀 문서 목록 보여줘\n"
     ]
    },
    {
     "name": "stderr",
     "output_type": "stream",
     "text": [
      " 80%|████████  | 222/276 [30:49<06:59,  7.77s/it]"
     ]
    },
    {
     "name": "stdout",
     "output_type": "stream",
     "text": [
      "여행지로 가기 좋은 곳이 어디일까?\n",
      "데이터AI팀 조직도 문서 있어?\n"
     ]
    },
    {
     "name": "stderr",
     "output_type": "stream",
     "text": [
      " 81%|████████  | 223/276 [30:55<06:22,  7.22s/it]"
     ]
    },
    {
     "name": "stdout",
     "output_type": "stream",
     "text": [
      "친구한테 선물하기 좋은 아이템 뭐가 있을까?\n",
      "오늘 저녁 메뉴 하나 정해줘.\n",
      "오늘 저녁에 먹을 만한 음식 하나 골라줘.\n"
     ]
    },
    {
     "name": "stderr",
     "output_type": "stream",
     "text": [
      " 81%|████████  | 224/276 [31:05<07:13,  8.34s/it]"
     ]
    },
    {
     "name": "stdout",
     "output_type": "stream",
     "text": [
      "이 계절에 가볼 만한 카페 있어?\n",
      "데이터AI팀에서 사내 카페 추천 데이터를 수집하거나 분석한 사례가 있다면, 그 데이터는 어떤 방식으로 수집되고 활용됐는지 구체적으로 설명해 줄 수 있어?\n"
     ]
    },
    {
     "name": "stderr",
     "output_type": "stream",
     "text": [
      " 82%|████████▏ | 225/276 [31:15<07:22,  8.68s/it]"
     ]
    },
    {
     "name": "stdout",
     "output_type": "stream",
     "text": [
      "요즘 유행하는 패션 트렌드가 뭐야?\n"
     ]
    },
    {
     "name": "stderr",
     "output_type": "stream",
     "text": [
      " 82%|████████▏ | 226/276 [31:17<05:34,  6.68s/it]"
     ]
    },
    {
     "name": "stdout",
     "output_type": "stream",
     "text": [
      "마음에 드는 음악 장르 추천해줘.\n",
      "데이터 AI팀에서 활용하는 데이터 분석 도구나 플랫폼에 대한 문서가 있다면, 주요 기능이나 사용 사례를 구체적으로 설명해줄 수 있어?\n"
     ]
    },
    {
     "name": "stderr",
     "output_type": "stream",
     "text": [
      " 82%|████████▏ | 227/276 [31:28<06:34,  8.06s/it]"
     ]
    },
    {
     "name": "stdout",
     "output_type": "stream",
     "text": [
      "편안하게 쉴 수 있는 장소가 있을까?\n"
     ]
    },
    {
     "name": "stderr",
     "output_type": "stream",
     "text": [
      " 83%|████████▎ | 228/276 [31:30<04:58,  6.21s/it]"
     ]
    },
    {
     "name": "stdout",
     "output_type": "stream",
     "text": [
      "영화관에서 볼 만한 좋은 영화가 뭐야?\n",
      "오늘 운동으로 뭐 할지 정해줘.\n"
     ]
    },
    {
     "name": "stderr",
     "output_type": "stream",
     "text": [
      " 83%|████████▎ | 229/276 [31:35<04:37,  5.90s/it]"
     ]
    },
    {
     "name": "stdout",
     "output_type": "stream",
     "text": [
      "효과적인 공부 방법 좀 알려줄 수 있어?\n"
     ]
    },
    {
     "name": "stderr",
     "output_type": "stream",
     "text": [
      " 83%|████████▎ | 230/276 [31:39<03:57,  5.17s/it]"
     ]
    },
    {
     "name": "stdout",
     "output_type": "stream",
     "text": [
      "간단하게 즐길 수 있는 게임 추천해 줘.\n"
     ]
    },
    {
     "name": "stderr",
     "output_type": "stream",
     "text": [
      " 84%|████████▎ | 231/276 [31:41<03:17,  4.40s/it]"
     ]
    },
    {
     "name": "stdout",
     "output_type": "stream",
     "text": [
      "긴장을 푸는 방법 뭐가 있을까?\n"
     ]
    },
    {
     "name": "stderr",
     "output_type": "stream",
     "text": [
      " 84%|████████▍ | 232/276 [31:44<02:47,  3.81s/it]"
     ]
    },
    {
     "name": "stdout",
     "output_type": "stream",
     "text": [
      "자기계발에 좋은 강좌 추천해 줄래?\n"
     ]
    },
    {
     "name": "stderr",
     "output_type": "stream",
     "text": [
      " 84%|████████▍ | 233/276 [31:46<02:20,  3.26s/it]"
     ]
    },
    {
     "name": "stdout",
     "output_type": "stream",
     "text": [
      "나만의 루틴 만들기에 대한 팁이 있을까?\n"
     ]
    },
    {
     "name": "stderr",
     "output_type": "stream",
     "text": [
      " 85%|████████▍ | 234/276 [31:51<02:38,  3.77s/it]"
     ]
    },
    {
     "name": "stdout",
     "output_type": "stream",
     "text": [
      "요즘 즐겨 보는 TV 프로그램은 뭐야?\n"
     ]
    },
    {
     "name": "stderr",
     "output_type": "stream",
     "text": [
      " 85%|████████▌ | 235/276 [31:53<02:17,  3.36s/it]"
     ]
    },
    {
     "name": "stdout",
     "output_type": "stream",
     "text": [
      "좋은 요리 레시피 있으면 알려줘.\n"
     ]
    },
    {
     "name": "stderr",
     "output_type": "stream",
     "text": [
      " 86%|████████▌ | 236/276 [31:55<01:59,  2.98s/it]"
     ]
    },
    {
     "name": "stdout",
     "output_type": "stream",
     "text": [
      "이런 날씨에 어울리는 음악은 뭐야?\n"
     ]
    },
    {
     "name": "stderr",
     "output_type": "stream",
     "text": [
      " 86%|████████▌ | 237/276 [31:58<01:54,  2.93s/it]"
     ]
    },
    {
     "name": "stdout",
     "output_type": "stream",
     "text": [
      "웹툰 중에서 추천할 만한 게 있어?\n"
     ]
    },
    {
     "name": "stderr",
     "output_type": "stream",
     "text": [
      " 86%|████████▌ | 238/276 [32:01<01:52,  2.95s/it]"
     ]
    },
    {
     "name": "stdout",
     "output_type": "stream",
     "text": [
      "최근에 인기 있는 게임 뭐가 있는지 알고 싶어.\n",
      "데이터 AI팀에서 최근에 진행한 프로젝트나 연구 사례를 문서로 정리한 자료가 있을까?\n",
      "오늘 저녁 메뉴 하나 정해줘.\n"
     ]
    },
    {
     "name": "stderr",
     "output_type": "stream",
     "text": [
      " 87%|████████▋ | 239/276 [32:13<03:29,  5.65s/it]"
     ]
    },
    {
     "name": "stdout",
     "output_type": "stream",
     "text": [
      "좋은 운동 방법이나 루틴이 있으면 알려줘.\n"
     ]
    },
    {
     "name": "stderr",
     "output_type": "stream",
     "text": [
      " 87%|████████▋ | 240/276 [32:19<03:29,  5.81s/it]"
     ]
    },
    {
     "name": "stdout",
     "output_type": "stream",
     "text": [
      "기분 전환에 좋은 활동 추천해줘.\n"
     ]
    },
    {
     "name": "stderr",
     "output_type": "stream",
     "text": [
      " 87%|████████▋ | 241/276 [32:23<02:59,  5.12s/it]"
     ]
    },
    {
     "name": "stdout",
     "output_type": "stream",
     "text": [
      "친구에게 선물할 만한 아이템 있을까?\n"
     ]
    },
    {
     "name": "stderr",
     "output_type": "stream",
     "text": [
      " 88%|████████▊ | 242/276 [32:26<02:32,  4.49s/it]"
     ]
    },
    {
     "name": "stdout",
     "output_type": "stream",
     "text": [
      "오늘 하루 마무리하는 좋은 방법이 있을까?\n",
      "데이터AI팀 문서 관리 기준 알려줘\n",
      "정기회의 회의록 위치 알려줘\n",
      "회의록 작성 포맷 알려줘\n"
     ]
    },
    {
     "name": "stderr",
     "output_type": "stream",
     "text": [
      " 88%|████████▊ | 243/276 [32:45<04:52,  8.87s/it]"
     ]
    },
    {
     "name": "stdout",
     "output_type": "stream",
     "text": [
      "제철 음식 중에 추천할 만한 것이 뭐야?\n"
     ]
    },
    {
     "name": "stderr",
     "output_type": "stream",
     "text": [
      " 88%|████████▊ | 244/276 [32:58<05:21, 10.05s/it]"
     ]
    },
    {
     "name": "stdout",
     "output_type": "stream",
     "text": [
      "기분이 좋을 때 듣기 좋은 음악은 뭐야?\n"
     ]
    },
    {
     "name": "stderr",
     "output_type": "stream",
     "text": [
      " 89%|████████▉ | 245/276 [33:00<04:02,  7.82s/it]"
     ]
    },
    {
     "name": "stdout",
     "output_type": "stream",
     "text": [
      "이색적인 여행지 추천해줄 수 있어?\n",
      "데이터AI팀에서 최근에 작성된 프로젝트 산출물 목록을 확인할 수 있을까?\n"
     ]
    },
    {
     "name": "stderr",
     "output_type": "stream",
     "text": [
      " 89%|████████▉ | 246/276 [33:07<03:44,  7.47s/it]"
     ]
    },
    {
     "name": "stdout",
     "output_type": "stream",
     "text": [
      "재미있는 일화나 유머가 있으면 들려줘.\n",
      "오늘 저녁 메뉴 하나 정해줘.\n",
      "데이터 AI팀의 주요 프로젝트별 산출물이나 결과물 목록을 확인할 수 있을까?\n",
      "데이터 품질 개선 보고서나 AI 모델 성능 평가서에 포함된 주요 평가 지표와 산출 기준이 어떻게 정의되어 있는지 알려줄 수 있어?\n"
     ]
    },
    {
     "name": "stderr",
     "output_type": "stream",
     "text": [
      " 89%|████████▉ | 247/276 [33:26<05:15, 10.87s/it]"
     ]
    },
    {
     "name": "stdout",
     "output_type": "stream",
     "text": [
      "나만의 루틴을 만드는 데 도움이 될 만한 조언이 있을까?\n",
      "데이터AI 팀 업무 매뉴얼 있어?\n",
      "AI 윤리/리스크 관리 문서에서 규정된 리스크 관리 절차의 구체적인 단계와 실제 적용 사례가 궁금해.\n"
     ]
    },
    {
     "name": "stderr",
     "output_type": "stream",
     "text": [
      " 90%|████████▉ | 248/276 [33:43<05:55, 12.69s/it]"
     ]
    },
    {
     "name": "stdout",
     "output_type": "stream",
     "text": [
      "간단하게 할 수 있는 취미가 뭐가 있을까?\n",
      "오늘 저녁 메뉴 하나 정해줘.\n"
     ]
    },
    {
     "name": "stderr",
     "output_type": "stream",
     "text": [
      " 90%|█████████ | 249/276 [33:48<04:46, 10.62s/it]"
     ]
    },
    {
     "name": "stdout",
     "output_type": "stream",
     "text": [
      "여름에 어울리는 시원한 음료 추천해줘.\n",
      "데이터 AI팀에서 여름철 음료 추천과 관련된 데이터 분석 사례나 내부 문서가 있다면, 그 분석 방법이나 활용된 데이터 소스에 대해 설명해줄 수 있어?\n",
      "데이터 품질 점검 보고서에서 실제로 사용된 데이터 정제 프로세스의 구체적인 단계와 적용 사례를 설명해줄 수 있어?\n"
     ]
    },
    {
     "name": "stderr",
     "output_type": "stream",
     "text": [
      " 91%|█████████ | 250/276 [34:14<06:31, 15.08s/it]"
     ]
    },
    {
     "name": "stdout",
     "output_type": "stream",
     "text": [
      "마음이 편안해지는 방법이 있을까?\n"
     ]
    },
    {
     "name": "stderr",
     "output_type": "stream",
     "text": [
      " 91%|█████████ | 251/276 [34:16<04:43, 11.32s/it]"
     ]
    },
    {
     "name": "stdout",
     "output_type": "stream",
     "text": [
      "오늘 날씨가 좋은데, 어떤 기분이 드는지 궁금해!\n",
      "데이터AI팀 조직도 문서 있어?\n",
      "AI 윤리/리스크 관리 문서에서 규정된 리스크 평가 및 대응 프로세스의 구체적인 단계와 실제 적용 사례가 어떻게 되는지 설명해 줄 수 있어?\n"
     ]
    },
    {
     "name": "stderr",
     "output_type": "stream",
     "text": [
      " 91%|█████████▏| 252/276 [34:30<04:45, 11.91s/it]"
     ]
    },
    {
     "name": "stdout",
     "output_type": "stream",
     "text": [
      "요즘 가장 인기 있는 영화가 뭐인지 알고 있어?\n",
      "데이터AI팀 문서 목록 보여줘\n",
      "오늘 간단하게 할 수 있는 스트레칭 동작 하나 알려줘.\n",
      "AI 윤리/리스크 관리 문서 요약해줘\n"
     ]
    },
    {
     "name": "stderr",
     "output_type": "stream",
     "text": [
      " 92%|█████████▏| 253/276 [34:49<05:25, 14.17s/it]"
     ]
    },
    {
     "name": "stdout",
     "output_type": "stream",
     "text": [
      "내가 한번 읽어볼 만한 좋은 책 추천해줄래?\n"
     ]
    },
    {
     "name": "stderr",
     "output_type": "stream",
     "text": [
      " 92%|█████████▏| 254/276 [34:53<04:00, 10.94s/it]"
     ]
    },
    {
     "name": "stdout",
     "output_type": "stream",
     "text": [
      "이 음악 어떤 느낌인지 한번 들어보고 싶어!\n",
      "오늘 저녁에 간단하게 할 수 있는 운동 하나 추천해줘.\n"
     ]
    },
    {
     "name": "stderr",
     "output_type": "stream",
     "text": [
      " 92%|█████████▏| 255/276 [34:58<03:14,  9.26s/it]"
     ]
    },
    {
     "name": "stdout",
     "output_type": "stream",
     "text": [
      "여행 가기 좋은 곳이 어디인지 알려줄 수 있어?\n"
     ]
    },
    {
     "name": "stderr",
     "output_type": "stream",
     "text": [
      " 93%|█████████▎| 256/276 [35:01<02:25,  7.29s/it]"
     ]
    },
    {
     "name": "stdout",
     "output_type": "stream",
     "text": [
      "최근에 유행하는 패션 아이템이 뭐인지 궁금해!\n",
      "데이터AI팀 조직도 문서 있어?\n"
     ]
    },
    {
     "name": "stderr",
     "output_type": "stream",
     "text": [
      " 93%|█████████▎| 257/276 [35:08<02:17,  7.26s/it]"
     ]
    },
    {
     "name": "stdout",
     "output_type": "stream",
     "text": [
      "지금 듣고 있는 노래의 분위기가 어때?\n"
     ]
    },
    {
     "name": "stderr",
     "output_type": "stream",
     "text": [
      " 93%|█████████▎| 258/276 [35:10<01:41,  5.65s/it]"
     ]
    },
    {
     "name": "stdout",
     "output_type": "stream",
     "text": [
      "좋은 카페가 있으면 추천해줄 수 있어?\n"
     ]
    },
    {
     "name": "stderr",
     "output_type": "stream",
     "text": [
      " 94%|█████████▍| 259/276 [35:12<01:18,  4.63s/it]"
     ]
    },
    {
     "name": "stdout",
     "output_type": "stream",
     "text": [
      "요즘 핫한 레스토랑은 어디인지 알고 있어?\n"
     ]
    },
    {
     "name": "stderr",
     "output_type": "stream",
     "text": [
      " 94%|█████████▍| 260/276 [35:14<01:02,  3.91s/it]"
     ]
    },
    {
     "name": "stdout",
     "output_type": "stream",
     "text": [
      "요즘 인기 있는 게임 좀 알려줄래?\n",
      "오늘 저녁 메뉴 하나 정해줘.\n",
      "오늘 저녁에 먹을 수 있는 메뉴 하나 골라줘.\n"
     ]
    },
    {
     "name": "stderr",
     "output_type": "stream",
     "text": [
      " 95%|█████████▍| 261/276 [35:22<01:17,  5.18s/it]"
     ]
    },
    {
     "name": "stdout",
     "output_type": "stream",
     "text": [
      "내가 할 만한 취미 활동이 뭐가 있을까?\n"
     ]
    },
    {
     "name": "stderr",
     "output_type": "stream",
     "text": [
      " 95%|█████████▍| 262/276 [35:26<01:04,  4.64s/it]"
     ]
    },
    {
     "name": "stdout",
     "output_type": "stream",
     "text": [
      "최근에 재밌게 본 유튜브 채널이 뭐야?\n"
     ]
    },
    {
     "name": "stderr",
     "output_type": "stream",
     "text": [
      " 95%|█████████▌| 263/276 [35:28<00:51,  3.97s/it]"
     ]
    },
    {
     "name": "stdout",
     "output_type": "stream",
     "text": [
      "요즘 뜨고 있는 TV 프로그램이 있다면 뭐지?\n"
     ]
    },
    {
     "name": "stderr",
     "output_type": "stream",
     "text": [
      " 96%|█████████▌| 264/276 [35:30<00:41,  3.48s/it]"
     ]
    },
    {
     "name": "stdout",
     "output_type": "stream",
     "text": [
      "다양한 커피 종류 중 어떤 게 맛있을까?\n",
      "데이터 AI팀에서 진행한 최근 프로젝트별 기술 스택과 각 스택을 선택한 이유를 알 수 있을까?\n"
     ]
    },
    {
     "name": "stderr",
     "output_type": "stream",
     "text": [
      " 96%|█████████▌| 265/276 [35:42<01:04,  5.89s/it]"
     ]
    },
    {
     "name": "stdout",
     "output_type": "stream",
     "text": [
      "네가 추천하는 간식은 뭐야?\n"
     ]
    },
    {
     "name": "stderr",
     "output_type": "stream",
     "text": [
      " 96%|█████████▋| 266/276 [35:44<00:47,  4.80s/it]"
     ]
    },
    {
     "name": "stdout",
     "output_type": "stream",
     "text": [
      "최근에 본 전시회 중에서 추천할 만한 게 있을까?\n",
      "오늘 저녁 메뉴 하나 정해줘.\n"
     ]
    },
    {
     "name": "stderr",
     "output_type": "stream",
     "text": [
      " 97%|█████████▋| 267/276 [35:49<00:43,  4.78s/it]"
     ]
    },
    {
     "name": "stdout",
     "output_type": "stream",
     "text": [
      "자주 가는 운동이 있으면 알려줄 수 있어?\n"
     ]
    },
    {
     "name": "stderr",
     "output_type": "stream",
     "text": [
      " 97%|█████████▋| 268/276 [35:51<00:32,  4.04s/it]"
     ]
    },
    {
     "name": "stdout",
     "output_type": "stream",
     "text": [
      "유명한 디저트 카페가 있다면 추천해줘!\n"
     ]
    },
    {
     "name": "stderr",
     "output_type": "stream",
     "text": [
      " 97%|█████████▋| 269/276 [35:54<00:24,  3.57s/it]"
     ]
    },
    {
     "name": "stdout",
     "output_type": "stream",
     "text": [
      "좋은 음악 추천해주면 듣고 싶어!\n"
     ]
    },
    {
     "name": "stderr",
     "output_type": "stream",
     "text": [
      " 98%|█████████▊| 270/276 [35:56<00:18,  3.14s/it]"
     ]
    },
    {
     "name": "stdout",
     "output_type": "stream",
     "text": [
      "주말에 할 만한 재미있는 활동이 있을까?\n"
     ]
    },
    {
     "name": "stderr",
     "output_type": "stream",
     "text": [
      " 98%|█████████▊| 271/276 [35:59<00:15,  3.09s/it]"
     ]
    },
    {
     "name": "stdout",
     "output_type": "stream",
     "text": [
      "요즘 보고 싶은 애니메이션이 있다면 뭐지?\n",
      "오늘 저녁 메뉴 하나 정해줘.\n"
     ]
    },
    {
     "name": "stderr",
     "output_type": "stream",
     "text": [
      " 99%|█████████▊| 272/276 [36:04<00:15,  3.79s/it]"
     ]
    },
    {
     "name": "stdout",
     "output_type": "stream",
     "text": [
      "감명 깊었던 다큐멘터리 추천해줄 수 있어?\n"
     ]
    },
    {
     "name": "stderr",
     "output_type": "stream",
     "text": [
      " 99%|█████████▉| 273/276 [36:08<00:11,  3.71s/it]"
     ]
    },
    {
     "name": "stdout",
     "output_type": "stream",
     "text": [
      "혼자서 볼 수 있는 시리즈가 있다면 뭐가 좋을까?\n"
     ]
    },
    {
     "name": "stderr",
     "output_type": "stream",
     "text": [
      " 99%|█████████▉| 274/276 [36:11<00:07,  3.53s/it]"
     ]
    },
    {
     "name": "stdout",
     "output_type": "stream",
     "text": [
      "최근에 유행하는 패션 스타일이 있다면 알려줘!\n"
     ]
    },
    {
     "name": "stderr",
     "output_type": "stream",
     "text": [
      "100%|█████████▉| 275/276 [36:13<00:03,  3.03s/it]"
     ]
    },
    {
     "name": "stdout",
     "output_type": "stream",
     "text": [
      "가볍게 할 수 있는 게임 중에서 추천할 만한 게 있을까?\n"
     ]
    },
    {
     "name": "stderr",
     "output_type": "stream",
     "text": [
      "100%|██████████| 276/276 [36:16<00:00,  7.88s/it]\n"
     ]
    }
   ],
   "execution_count": 12
  },
  {
   "metadata": {},
   "cell_type": "code",
   "outputs": [],
   "execution_count": null,
   "source": "",
   "id": "cfa24860e6438ca3"
  },
  {
   "metadata": {},
   "cell_type": "code",
   "outputs": [],
   "execution_count": null,
   "source": "",
   "id": "74b378e7e4fb068b"
  }
 ],
 "metadata": {
  "kernelspec": {
   "display_name": "ai_basic_env",
   "language": "python",
   "name": "python3"
  },
  "language_info": {
   "codemirror_mode": {
    "name": "ipython",
    "version": 3
   },
   "file_extension": ".py",
   "mimetype": "text/x-python",
   "name": "python",
   "nbconvert_exporter": "python",
   "pygments_lexer": "ipython3",
   "version": "3.12.9"
  }
 },
 "nbformat": 4,
 "nbformat_minor": 5
}
