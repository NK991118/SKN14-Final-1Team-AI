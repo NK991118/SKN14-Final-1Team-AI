{
 "cells": [
  {
   "cell_type": "markdown",
   "id": "111c8c06253fd506",
   "metadata": {},
   "source": [
    "## 초기 system prompt 설정 및 벡터 store 생성"
   ]
  },
  {
   "metadata": {
    "ExecuteTime": {
     "end_time": "2025-09-17T15:21:25.392966Z",
     "start_time": "2025-09-17T15:20:57.349316Z"
    }
   },
   "cell_type": "code",
   "source": "!pip install langchain_community",
   "id": "2a3a7c2407ed9116",
   "outputs": [
    {
     "name": "stdout",
     "output_type": "stream",
     "text": [
      "Collecting langchain_community\n",
      "  Using cached langchain_community-0.3.29-py3-none-any.whl.metadata (2.9 kB)\n",
      "Collecting langchain-core<2.0.0,>=0.3.75 (from langchain_community)\n",
      "  Using cached langchain_core-0.3.76-py3-none-any.whl.metadata (3.7 kB)\n",
      "Collecting langchain<2.0.0,>=0.3.27 (from langchain_community)\n",
      "  Using cached langchain-0.3.27-py3-none-any.whl.metadata (7.8 kB)\n",
      "Requirement already satisfied: SQLAlchemy<3,>=1.4 in c:\\users\\miny0\\anaconda3\\lib\\site-packages (from langchain_community) (2.0.34)\n",
      "Collecting requests<3,>=2.32.5 (from langchain_community)\n",
      "  Using cached requests-2.32.5-py3-none-any.whl.metadata (4.9 kB)\n",
      "Requirement already satisfied: PyYAML>=5.3 in c:\\users\\miny0\\anaconda3\\lib\\site-packages (from langchain_community) (6.0.1)\n",
      "Requirement already satisfied: aiohttp<4.0.0,>=3.8.3 in c:\\users\\miny0\\anaconda3\\lib\\site-packages (from langchain_community) (3.10.5)\n",
      "Requirement already satisfied: tenacity!=8.4.0,<10,>=8.1.0 in c:\\users\\miny0\\anaconda3\\lib\\site-packages (from langchain_community) (8.2.3)\n",
      "Collecting dataclasses-json<0.7,>=0.6.7 (from langchain_community)\n",
      "  Using cached dataclasses_json-0.6.7-py3-none-any.whl.metadata (25 kB)\n",
      "Collecting pydantic-settings<3.0.0,>=2.10.1 (from langchain_community)\n",
      "  Using cached pydantic_settings-2.10.1-py3-none-any.whl.metadata (3.4 kB)\n",
      "Requirement already satisfied: langsmith>=0.1.125 in c:\\users\\miny0\\anaconda3\\lib\\site-packages (from langchain_community) (0.4.4)\n",
      "Collecting httpx-sse<1.0.0,>=0.4.0 (from langchain_community)\n",
      "  Using cached httpx_sse-0.4.1-py3-none-any.whl.metadata (9.4 kB)\n",
      "Requirement already satisfied: numpy>=1.26.2 in c:\\users\\miny0\\anaconda3\\lib\\site-packages (from langchain_community) (2.3.0)\n",
      "Requirement already satisfied: aiohappyeyeballs>=2.3.0 in c:\\users\\miny0\\anaconda3\\lib\\site-packages (from aiohttp<4.0.0,>=3.8.3->langchain_community) (2.4.0)\n",
      "Requirement already satisfied: aiosignal>=1.1.2 in c:\\users\\miny0\\anaconda3\\lib\\site-packages (from aiohttp<4.0.0,>=3.8.3->langchain_community) (1.2.0)\n",
      "Requirement already satisfied: attrs>=17.3.0 in c:\\users\\miny0\\anaconda3\\lib\\site-packages (from aiohttp<4.0.0,>=3.8.3->langchain_community) (23.1.0)\n",
      "Requirement already satisfied: frozenlist>=1.1.1 in c:\\users\\miny0\\anaconda3\\lib\\site-packages (from aiohttp<4.0.0,>=3.8.3->langchain_community) (1.4.0)\n",
      "Requirement already satisfied: multidict<7.0,>=4.5 in c:\\users\\miny0\\anaconda3\\lib\\site-packages (from aiohttp<4.0.0,>=3.8.3->langchain_community) (6.0.4)\n",
      "Requirement already satisfied: yarl<2.0,>=1.0 in c:\\users\\miny0\\anaconda3\\lib\\site-packages (from aiohttp<4.0.0,>=3.8.3->langchain_community) (1.11.0)\n",
      "Collecting marshmallow<4.0.0,>=3.18.0 (from dataclasses-json<0.7,>=0.6.7->langchain_community)\n",
      "  Using cached marshmallow-3.26.1-py3-none-any.whl.metadata (7.3 kB)\n",
      "Collecting typing-inspect<1,>=0.4.0 (from dataclasses-json<0.7,>=0.6.7->langchain_community)\n",
      "  Using cached typing_inspect-0.9.0-py3-none-any.whl.metadata (1.5 kB)\n",
      "Collecting langchain-text-splitters<1.0.0,>=0.3.9 (from langchain<2.0.0,>=0.3.27->langchain_community)\n",
      "  Using cached langchain_text_splitters-0.3.11-py3-none-any.whl.metadata (1.8 kB)\n",
      "Requirement already satisfied: pydantic<3.0.0,>=2.7.4 in c:\\users\\miny0\\anaconda3\\lib\\site-packages (from langchain<2.0.0,>=0.3.27->langchain_community) (2.8.2)\n",
      "Requirement already satisfied: jsonpatch<2.0,>=1.33 in c:\\users\\miny0\\anaconda3\\lib\\site-packages (from langchain-core<2.0.0,>=0.3.75->langchain_community) (1.33)\n",
      "Requirement already satisfied: typing-extensions>=4.7 in c:\\users\\miny0\\anaconda3\\lib\\site-packages (from langchain-core<2.0.0,>=0.3.75->langchain_community) (4.11.0)\n",
      "Requirement already satisfied: packaging>=23.2 in c:\\users\\miny0\\anaconda3\\lib\\site-packages (from langchain-core<2.0.0,>=0.3.75->langchain_community) (24.1)\n",
      "Requirement already satisfied: jsonpointer>=1.9 in c:\\users\\miny0\\anaconda3\\lib\\site-packages (from jsonpatch<2.0,>=1.33->langchain-core<2.0.0,>=0.3.75->langchain_community) (2.1)\n",
      "Requirement already satisfied: annotated-types>=0.4.0 in c:\\users\\miny0\\anaconda3\\lib\\site-packages (from pydantic<3.0.0,>=2.7.4->langchain<2.0.0,>=0.3.27->langchain_community) (0.6.0)\n",
      "Requirement already satisfied: pydantic-core==2.20.1 in c:\\users\\miny0\\anaconda3\\lib\\site-packages (from pydantic<3.0.0,>=2.7.4->langchain<2.0.0,>=0.3.27->langchain_community) (2.20.1)\n",
      "Requirement already satisfied: python-dotenv>=0.21.0 in c:\\users\\miny0\\anaconda3\\lib\\site-packages (from pydantic-settings<3.0.0,>=2.10.1->langchain_community) (0.21.0)\n",
      "Collecting typing-inspection>=0.4.0 (from pydantic-settings<3.0.0,>=2.10.1->langchain_community)\n",
      "  Using cached typing_inspection-0.4.1-py3-none-any.whl.metadata (2.6 kB)\n",
      "Requirement already satisfied: charset_normalizer<4,>=2 in c:\\users\\miny0\\anaconda3\\lib\\site-packages (from requests<3,>=2.32.5->langchain_community) (3.3.2)\n",
      "Requirement already satisfied: idna<4,>=2.5 in c:\\users\\miny0\\anaconda3\\lib\\site-packages (from requests<3,>=2.32.5->langchain_community) (3.7)\n",
      "Requirement already satisfied: urllib3<3,>=1.21.1 in c:\\users\\miny0\\anaconda3\\lib\\site-packages (from requests<3,>=2.32.5->langchain_community) (2.2.3)\n",
      "Requirement already satisfied: certifi>=2017.4.17 in c:\\users\\miny0\\anaconda3\\lib\\site-packages (from requests<3,>=2.32.5->langchain_community) (2025.1.31)\n",
      "Requirement already satisfied: greenlet!=0.4.17 in c:\\users\\miny0\\anaconda3\\lib\\site-packages (from SQLAlchemy<3,>=1.4->langchain_community) (3.0.1)\n",
      "Requirement already satisfied: mypy-extensions>=0.3.0 in c:\\users\\miny0\\anaconda3\\lib\\site-packages (from typing-inspect<1,>=0.4.0->dataclasses-json<0.7,>=0.6.7->langchain_community) (1.0.0)\n",
      "Requirement already satisfied: httpx<1,>=0.23.0 in c:\\users\\miny0\\anaconda3\\lib\\site-packages (from langsmith>=0.1.125->langchain_community) (0.27.0)\n",
      "Requirement already satisfied: orjson<4.0.0,>=3.9.14 in c:\\users\\miny0\\anaconda3\\lib\\site-packages (from langsmith>=0.1.125->langchain_community) (3.10.18)\n",
      "Requirement already satisfied: requests-toolbelt<2.0.0,>=1.0.0 in c:\\users\\miny0\\anaconda3\\lib\\site-packages (from langsmith>=0.1.125->langchain_community) (1.0.0)\n",
      "Requirement already satisfied: zstandard<0.24.0,>=0.23.0 in c:\\users\\miny0\\anaconda3\\lib\\site-packages (from langsmith>=0.1.125->langchain_community) (0.23.0)\n",
      "Requirement already satisfied: anyio in c:\\users\\miny0\\anaconda3\\lib\\site-packages (from httpx<1,>=0.23.0->langsmith>=0.1.125->langchain_community) (4.9.0)\n",
      "Requirement already satisfied: httpcore==1.* in c:\\users\\miny0\\anaconda3\\lib\\site-packages (from httpx<1,>=0.23.0->langsmith>=0.1.125->langchain_community) (1.0.2)\n",
      "Requirement already satisfied: sniffio in c:\\users\\miny0\\anaconda3\\lib\\site-packages (from httpx<1,>=0.23.0->langsmith>=0.1.125->langchain_community) (1.3.0)\n",
      "Requirement already satisfied: h11<0.15,>=0.13 in c:\\users\\miny0\\anaconda3\\lib\\site-packages (from httpcore==1.*->httpx<1,>=0.23.0->langsmith>=0.1.125->langchain_community) (0.14.0)\n",
      "Collecting typing-extensions>=4.7 (from langchain-core<2.0.0,>=0.3.75->langchain_community)\n",
      "  Using cached typing_extensions-4.15.0-py3-none-any.whl.metadata (3.3 kB)\n",
      "Using cached langchain_community-0.3.29-py3-none-any.whl (2.5 MB)\n",
      "Using cached dataclasses_json-0.6.7-py3-none-any.whl (28 kB)\n",
      "Using cached httpx_sse-0.4.1-py3-none-any.whl (8.1 kB)\n",
      "Using cached langchain-0.3.27-py3-none-any.whl (1.0 MB)\n",
      "Using cached langchain_core-0.3.76-py3-none-any.whl (447 kB)\n",
      "Using cached langchain_text_splitters-0.3.11-py3-none-any.whl (33 kB)\n",
      "Using cached marshmallow-3.26.1-py3-none-any.whl (50 kB)\n",
      "Using cached pydantic_settings-2.10.1-py3-none-any.whl (45 kB)\n",
      "Using cached requests-2.32.5-py3-none-any.whl (64 kB)\n",
      "Using cached typing_inspect-0.9.0-py3-none-any.whl (8.8 kB)\n",
      "Using cached typing_inspection-0.4.1-py3-none-any.whl (14 kB)\n",
      "Using cached typing_extensions-4.15.0-py3-none-any.whl (44 kB)\n",
      "Installing collected packages: typing-extensions, requests, marshmallow, httpx-sse, typing-inspection, typing-inspect, dataclasses-json, pydantic-settings, langchain-core, langchain-text-splitters, langchain, langchain_community\n",
      "\n",
      "  Attempting uninstall: typing-extensions\n",
      "\n",
      "    Found existing installation: typing_extensions 4.11.0\n",
      "\n",
      "    Uninstalling typing_extensions-4.11.0:\n",
      "\n",
      "   ----------------------------------------  0/12 [typing-extensions]\n",
      "   ----------------------------------------  0/12 [typing-extensions]\n",
      "   ----------------------------------------  0/12 [typing-extensions]\n",
      "   ----------------------------------------  0/12 [typing-extensions]\n",
      "   ----------------------------------------  0/12 [typing-extensions]\n",
      "   ----------------------------------------  0/12 [typing-extensions]\n",
      "   ----------------------------------------  0/12 [typing-extensions]\n",
      "   ----------------------------------------  0/12 [typing-extensions]\n",
      "   ----------------------------------------  0/12 [typing-extensions]\n",
      "   ----------------------------------------  0/12 [typing-extensions]\n",
      "   ----------------------------------------  0/12 [typing-extensions]\n",
      "   ----------------------------------------  0/12 [typing-extensions]\n",
      "   ----------------------------------------  0/12 [typing-extensions]\n",
      "   ----------------------------------------  0/12 [typing-extensions]\n",
      "   ----------------------------------------  0/12 [typing-extensions]\n",
      "   ----------------------------------------  0/12 [typing-extensions]\n",
      "   ----------------------------------------  0/12 [typing-extensions]\n",
      "   ----------------------------------------  0/12 [typing-extensions]\n",
      "   ----------------------------------------  0/12 [typing-extensions]\n",
      "   ----------------------------------------  0/12 [typing-extensions]\n",
      "   ----------------------------------------  0/12 [typing-extensions]\n",
      "   ----------------------------------------  0/12 [typing-extensions]\n",
      "   ----------------------------------------  0/12 [typing-extensions]\n",
      "   ----------------------------------------  0/12 [typing-extensions]\n",
      "   ----------------------------------------  0/12 [typing-extensions]\n",
      "   ----------------------------------------  0/12 [typing-extensions]\n",
      "   ----------------------------------------  0/12 [typing-extensions]\n",
      "   ----------------------------------------  0/12 [typing-extensions]\n",
      "   ----------------------------------------  0/12 [typing-extensions]\n",
      "   ----------------------------------------  0/12 [typing-extensions]\n",
      "   ----------------------------------------  0/12 [typing-extensions]\n",
      "   ----------------------------------------  0/12 [typing-extensions]\n",
      "   ----------------------------------------  0/12 [typing-extensions]\n",
      "      Successfully uninstalled typing_extensions-4.11.0\n",
      "   ----------------------------------------  0/12 [typing-extensions]\n",
      "  Attempting uninstall: requests\n",
      "   ----------------------------------------  0/12 [typing-extensions]\n",
      "    Found existing installation: requests 2.32.3\n",
      "   ----------------------------------------  0/12 [typing-extensions]\n",
      "    Uninstalling requests-2.32.3:\n",
      "   ----------------------------------------  0/12 [typing-extensions]\n",
      "      Successfully uninstalled requests-2.32.3\n",
      "   ----------------------------------------  0/12 [typing-extensions]\n",
      "   --- ------------------------------------  1/12 [requests]\n",
      "   ------ ---------------------------------  2/12 [marshmallow]\n",
      "   ----------------------- ----------------  7/12 [pydantic-settings]\n",
      "  Attempting uninstall: langchain-core\n",
      "   ----------------------- ----------------  7/12 [pydantic-settings]\n",
      "    Found existing installation: langchain-core 0.3.68\n",
      "   ----------------------- ----------------  7/12 [pydantic-settings]\n",
      "    Uninstalling langchain-core-0.3.68:\n",
      "   ----------------------- ----------------  7/12 [pydantic-settings]\n",
      "   -------------------------- -------------  8/12 [langchain-core]\n",
      "      Successfully uninstalled langchain-core-0.3.68\n",
      "   -------------------------- -------------  8/12 [langchain-core]\n",
      "   -------------------------- -------------  8/12 [langchain-core]\n",
      "   -------------------------- -------------  8/12 [langchain-core]\n",
      "   -------------------------- -------------  8/12 [langchain-core]\n",
      "   -------------------------- -------------  8/12 [langchain-core]\n",
      "   -------------------------- -------------  8/12 [langchain-core]\n",
      "  Attempting uninstall: langchain-text-splitters\n",
      "   -------------------------- -------------  8/12 [langchain-core]\n",
      "    Found existing installation: langchain-text-splitters 0.3.8\n",
      "   -------------------------- -------------  8/12 [langchain-core]\n",
      "    Uninstalling langchain-text-splitters-0.3.8:\n",
      "   -------------------------- -------------  8/12 [langchain-core]\n",
      "      Successfully uninstalled langchain-text-splitters-0.3.8\n",
      "   -------------------------- -------------  8/12 [langchain-core]\n",
      "  Attempting uninstall: langchain\n",
      "   -------------------------- -------------  8/12 [langchain-core]\n",
      "   --------------------------------- ------ 10/12 [langchain]\n",
      "    Found existing installation: langchain 0.3.26\n",
      "   --------------------------------- ------ 10/12 [langchain]\n",
      "   --------------------------------- ------ 10/12 [langchain]\n",
      "   --------------------------------- ------ 10/12 [langchain]\n",
      "    Uninstalling langchain-0.3.26:\n",
      "   --------------------------------- ------ 10/12 [langchain]\n",
      "      Successfully uninstalled langchain-0.3.26\n",
      "   --------------------------------- ------ 10/12 [langchain]\n",
      "   --------------------------------- ------ 10/12 [langchain]\n",
      "   --------------------------------- ------ 10/12 [langchain]\n",
      "   --------------------------------- ------ 10/12 [langchain]\n",
      "   --------------------------------- ------ 10/12 [langchain]\n",
      "   --------------------------------- ------ 10/12 [langchain]\n",
      "   --------------------------------- ------ 10/12 [langchain]\n",
      "   --------------------------------- ------ 10/12 [langchain]\n",
      "   --------------------------------- ------ 10/12 [langchain]\n",
      "   --------------------------------- ------ 10/12 [langchain]\n",
      "   --------------------------------- ------ 10/12 [langchain]\n",
      "   --------------------------------- ------ 10/12 [langchain]\n",
      "   --------------------------------- ------ 10/12 [langchain]\n",
      "   --------------------------------- ------ 10/12 [langchain]\n",
      "   --------------------------------- ------ 10/12 [langchain]\n",
      "   --------------------------------- ------ 10/12 [langchain]\n",
      "   --------------------------------- ------ 10/12 [langchain]\n",
      "   --------------------------------- ------ 10/12 [langchain]\n",
      "   --------------------------------- ------ 10/12 [langchain]\n",
      "   --------------------------------- ------ 10/12 [langchain]\n",
      "   --------------------------------- ------ 10/12 [langchain]\n",
      "   --------------------------------- ------ 10/12 [langchain]\n",
      "   --------------------------------- ------ 10/12 [langchain]\n",
      "   --------------------------------- ------ 10/12 [langchain]\n",
      "   --------------------------------- ------ 10/12 [langchain]\n",
      "   --------------------------------- ------ 10/12 [langchain]\n",
      "   --------------------------------- ------ 10/12 [langchain]\n",
      "   --------------------------------- ------ 10/12 [langchain]\n",
      "   --------------------------------- ------ 10/12 [langchain]\n",
      "   ------------------------------------ --- 11/12 [langchain_community]\n",
      "   ------------------------------------ --- 11/12 [langchain_community]\n",
      "   ------------------------------------ --- 11/12 [langchain_community]\n",
      "   ------------------------------------ --- 11/12 [langchain_community]\n",
      "   ------------------------------------ --- 11/12 [langchain_community]\n",
      "   ------------------------------------ --- 11/12 [langchain_community]\n",
      "   ------------------------------------ --- 11/12 [langchain_community]\n",
      "   ------------------------------------ --- 11/12 [langchain_community]\n",
      "   ------------------------------------ --- 11/12 [langchain_community]\n",
      "   ------------------------------------ --- 11/12 [langchain_community]\n",
      "   ------------------------------------ --- 11/12 [langchain_community]\n",
      "   ------------------------------------ --- 11/12 [langchain_community]\n",
      "   ------------------------------------ --- 11/12 [langchain_community]\n",
      "   ------------------------------------ --- 11/12 [langchain_community]\n",
      "   ------------------------------------ --- 11/12 [langchain_community]\n",
      "   ------------------------------------ --- 11/12 [langchain_community]\n",
      "   ------------------------------------ --- 11/12 [langchain_community]\n",
      "   ------------------------------------ --- 11/12 [langchain_community]\n",
      "   ------------------------------------ --- 11/12 [langchain_community]\n",
      "   ------------------------------------ --- 11/12 [langchain_community]\n",
      "   ------------------------------------ --- 11/12 [langchain_community]\n",
      "   ------------------------------------ --- 11/12 [langchain_community]\n",
      "   ------------------------------------ --- 11/12 [langchain_community]\n",
      "   ------------------------------------ --- 11/12 [langchain_community]\n",
      "   ------------------------------------ --- 11/12 [langchain_community]\n",
      "   ------------------------------------ --- 11/12 [langchain_community]\n",
      "   ------------------------------------ --- 11/12 [langchain_community]\n",
      "   ------------------------------------ --- 11/12 [langchain_community]\n",
      "   ------------------------------------ --- 11/12 [langchain_community]\n",
      "   ------------------------------------ --- 11/12 [langchain_community]\n",
      "   ------------------------------------ --- 11/12 [langchain_community]\n",
      "   ------------------------------------ --- 11/12 [langchain_community]\n",
      "   ------------------------------------ --- 11/12 [langchain_community]\n",
      "   ------------------------------------ --- 11/12 [langchain_community]\n",
      "   ------------------------------------ --- 11/12 [langchain_community]\n",
      "   ------------------------------------ --- 11/12 [langchain_community]\n",
      "   ------------------------------------ --- 11/12 [langchain_community]\n",
      "   ------------------------------------ --- 11/12 [langchain_community]\n",
      "   ------------------------------------ --- 11/12 [langchain_community]\n",
      "   ------------------------------------ --- 11/12 [langchain_community]\n",
      "   ------------------------------------ --- 11/12 [langchain_community]\n",
      "   ------------------------------------ --- 11/12 [langchain_community]\n",
      "   ------------------------------------ --- 11/12 [langchain_community]\n",
      "   ------------------------------------ --- 11/12 [langchain_community]\n",
      "   ------------------------------------ --- 11/12 [langchain_community]\n",
      "   ------------------------------------ --- 11/12 [langchain_community]\n",
      "   ------------------------------------ --- 11/12 [langchain_community]\n",
      "   ------------------------------------ --- 11/12 [langchain_community]\n",
      "   ------------------------------------ --- 11/12 [langchain_community]\n",
      "   ------------------------------------ --- 11/12 [langchain_community]\n",
      "   ------------------------------------ --- 11/12 [langchain_community]\n",
      "   ------------------------------------ --- 11/12 [langchain_community]\n",
      "   ------------------------------------ --- 11/12 [langchain_community]\n",
      "   ------------------------------------ --- 11/12 [langchain_community]\n",
      "   ------------------------------------ --- 11/12 [langchain_community]\n",
      "   ---------------------------------------- 12/12 [langchain_community]\n",
      "\n",
      "Successfully installed dataclasses-json-0.6.7 httpx-sse-0.4.1 langchain-0.3.27 langchain-core-0.3.76 langchain-text-splitters-0.3.11 langchain_community-0.3.29 marshmallow-3.26.1 pydantic-settings-2.10.1 requests-2.32.5 typing-extensions-4.15.0 typing-inspect-0.9.0 typing-inspection-0.4.1\n"
     ]
    },
    {
     "name": "stderr",
     "output_type": "stream",
     "text": [
      "\n",
      "[notice] A new release of pip is available: 25.1.1 -> 25.2\n",
      "[notice] To update, run: python.exe -m pip install --upgrade pip\n"
     ]
    }
   ],
   "execution_count": 7
  },
  {
   "cell_type": "code",
   "id": "4a1530950a5dfb25",
   "metadata": {
    "ExecuteTime": {
     "end_time": "2025-09-18T06:26:17.012492Z",
     "start_time": "2025-09-18T06:25:54.631061Z"
    }
   },
   "source": [
    "from langchain_community.embeddings import HuggingFaceEmbeddings\n",
    "from random import randint, choice\n",
    "\n",
    "from langchain_core.output_parsers import StrOutputParser\n",
    "from langchain_core.prompts import PromptTemplate\n",
    "from langchain_openai import ChatOpenAI\n",
    "from openai import OpenAI\n",
    "from langchain.vectorstores import Chroma\n",
    "from dotenv import load_dotenv\n",
    "\n",
    "load_dotenv()\n",
    "\n",
    "client = OpenAI()\n",
    "\n",
    "permission = \"cto\"\n",
    "\n",
    "# 벡터 DB 세팅\n",
    "embedding_model = HuggingFaceEmbeddings(model_name=\"BAAI/bge-m3\")\n",
    "vectorstore = Chroma(persist_directory=f\"./chroma_db/{permission}\", embedding_function=embedding_model)"
   ],
   "outputs": [
    {
     "name": "stderr",
     "output_type": "stream",
     "text": [
      "C:\\Users\\miny0\\AppData\\Local\\Temp\\ipykernel_38164\\979826118.py:18: LangChainDeprecationWarning: The class `HuggingFaceEmbeddings` was deprecated in LangChain 0.2.2 and will be removed in 1.0. An updated version of the class exists in the :class:`~langchain-huggingface package and should be used instead. To use it run `pip install -U :class:`~langchain-huggingface` and import as `from :class:`~langchain_huggingface import HuggingFaceEmbeddings``.\n",
      "  embedding_model = HuggingFaceEmbeddings(model_name=\"BAAI/bge-m3\")\n",
      "C:\\Users\\miny0\\AppData\\Local\\Temp\\ipykernel_38164\\979826118.py:19: LangChainDeprecationWarning: The class `Chroma` was deprecated in LangChain 0.2.9 and will be removed in 1.0. An updated version of the class exists in the :class:`~langchain-chroma package and should be used instead. To use it run `pip install -U :class:`~langchain-chroma` and import as `from :class:`~langchain_chroma import Chroma``.\n",
      "  vectorstore = Chroma(persist_directory=f\"./chroma_db/{permission}\", embedding_function=embedding_model)\n"
     ]
    }
   ],
   "execution_count": 1
  },
  {
   "cell_type": "markdown",
   "id": "11d07c79608e82fc",
   "metadata": {},
   "source": [
    "## 초기 질문 리스트 가져오기"
   ]
  },
  {
   "cell_type": "code",
   "id": "initial_id",
   "metadata": {
    "collapsed": true,
    "ExecuteTime": {
     "end_time": "2025-09-18T06:26:23.614384Z",
     "start_time": "2025-09-18T06:26:23.594629Z"
    }
   },
   "source": [
    "import json\n",
    "\n",
    "def load_questions_from_jsonl_minimal(path: str, key: str = \"question\"):\n",
    "    \"\"\"JSONL에서 각 라인의 `question` 값만 순서/중복/공백 그대로 추출\"\"\"\n",
    "    questions = []\n",
    "    with open(path, \"r\", encoding=\"utf-8-sig\") as f:\n",
    "        for line in f:\n",
    "            line = line.strip()\n",
    "            obj = json.loads(line)\n",
    "            if isinstance(obj, dict) and key in obj:\n",
    "                questions.append(obj[key])\n",
    "    return questions\n",
    "\n",
    "# 사용 예시\n",
    "initial_questions = load_questions_from_jsonl_minimal(f\"./company_questions_{permission}.jsonl\")\n",
    "initial_questions"
   ],
   "outputs": [
    {
     "data": {
      "text/plain": [
       "['내부 평가 피드백 문서에서 프론트엔드팀의 업무 수행 능력에 대한 성과는 어떤가요?',\n",
       " '프론트엔드팀의 팀워크 및 커뮤니케이션 부분에서 발생한 의견 충돌에 대한 구체적인 사례는 무엇인가요?',\n",
       " '기술적 기여도 평가에서 A/B 테스트 도입이 긍정적인 결과를 가져온 사례에 대해 자세히 설명해 주실 수 있나요?',\n",
       " '개선 포인트 중 팀 내 갈등 해결을 위한 커뮤니케이션 교육의 필요성에 대한 구체적인 이유는 무엇인가요?',\n",
       " \"문제 해결 능력 강화를 위한 후속 조치 제안 중 '문제 해결 세션'의 구체적인 진행 방식은 어떻게 되나요?\",\n",
       " 'CTO 의사결정 참고 사항에서 언급된 리스크 관리의 필요성에 대해 좀 더 자세히 설명해 주실 수 있나요?',\n",
       " '프론트엔드팀의 기술 혁신을 위한 자원 투자 필요성에 대한 구체적인 예시는 무엇인가요?',\n",
       " '성과 기반 평가 도입 검토에 대한 구체적인 계획이나 방향성이 있나요?',\n",
       " '내부 평가 피드백 문서에서 제시된 정기적인 워크숍의 목표와 기대 효과는 무엇인가요?',\n",
       " '프론트엔드팀의 문제 해결 능력에서 개선이 필요한 부분은 어떤 것들이 있으며, 이를 어떻게 해결할 계획인가요?',\n",
       " '2025년 1분기부터 3분기까지의 프로젝트에서 프론트엔드팀의 주요 성과는 무엇이었나요?',\n",
       " '조직 구조 개편안의 개요 및 목적 부분에서, 개편의 주요 목표는 무엇인가요?',\n",
       " '조직 구조 개편안의 적용 범위에서 모든 부서가 포함된 이유는 무엇인가요?',\n",
       " \"실행 계획의 첫 번째 단계인 '현 조직 구조 분석 및 문제점 도출'의 책임자는 누구인가요?\",\n",
       " '새로운 조직 구조 설계 및 초안 작성 단계의 기간은 얼마나 되며, 이 단계의 책임자는 누구인가요?',\n",
       " '최종안 발표 및 내부 커뮤니케이션 단계에서 CTO의 역할은 무엇인가요?',\n",
       " '새로운 조직 구조 시행 후 성과 모니터링은 어떤 방식으로 진행되며, 책임자는 누구인가요?',\n",
       " \"리스크 및 대응 방안에서 '직원 저항'에 대한 대응 방안은 무엇인가요?\",\n",
       " '성과 저하 리스크에 대한 대응 방안으로 어떤 시스템이 구축될 예정인가요?',\n",
       " '검증 포인트에서 효율성을 평가하기 위한 기준은 무엇인가요?',\n",
       " '부서 간 소통 개선 여부를 측정하기 위한 방법은 무엇인가요?',\n",
       " 'KPI 변화 분석을 통해 성과 개선 여부를 확인하는 방법은 무엇인가요?',\n",
       " '직원 만족도를 파악하기 위한 방법으로 어떤 조사가 진행될 예정인가요?',\n",
       " '기밀 유지 지침에서 언급된 기밀 정보의 접근을 최소화하는 이유는 무엇인가요?',\n",
       " '조직 구조 개편안의 작성일은 언제이며, 버전은 무엇인가요?',\n",
       " \"각 단계별 실행 계획에서 '단계별 시행 및 명확한 가이드라인 제공'의 중요성은 무엇인가요?\",\n",
       " '새로운 조직 구조 시행 후 3개월 간 성과 모니터링의 중요성은 무엇인가요?',\n",
       " \"인사팀이 맡은 역할 중 '초안에 대한 피드백 수집 및 수정'의 중요성은 무엇인가요?\",\n",
       " \"조직 구조 개편안의 목적이 '조직의 전반적인 성과를 극대화'하는 것인데, 이를 위해 어떤 구체적인 조치가 필요할까요?\",\n",
       " '각 부서의 역할과 책임을 명확히 하기 위한 방법은 무엇인가요?',\n",
       " \"조직 구조 개편안의 리스크 관리 방안에서 '혼란 발생'에 대한 설명은 무엇인가요?\",\n",
       " '새로운 조직 구조 설계 시 고려해야 할 요소는 무엇인가요?',\n",
       " '조직 구조 개편안의 기밀 유지 교육은 어떻게 진행될 예정인가요?',\n",
       " '각 부서의 팀 리더가 개편안에 대해 어떤 역할을 수행해야 하나요?',\n",
       " '핵심 인재 유지 및 스카우트 전략 보고서의 기밀 유지 지침은 어떤 내용을 포함하고 있나요?',\n",
       " '핵심 인재 유지 및 스카우트 전략 보고서에서 외부 스카우트 대상 인재의 정의는 무엇인가요?',\n",
       " '핵심 인재 유지 및 스카우트 전략 보고서의 각 단계별 책임자는 누구인가요?',\n",
       " '핵심 인재 유지 및 스카우트 전략 보고서에서 KPI 설정 후 6개월 내 성과 분석의 중요성은 무엇인가요?',\n",
       " '핵심 인재 유지 및 스카우트 전략 보고서에서 정기적인 피드백 및 소통 강화의 필요성은 무엇인가요?',\n",
       " \"민감 데이터 접근 키·암호화 키 관리 문서의 '위협 시나리오 및 영향' 파트에서 무단 접근에 대한 구체적인 사례는 무엇인가요?\",\n",
       " \"'대응 전략' 섹션의 '키 생성 및 저장' 부분에서 사용해야 하는 안전한 알고리즘의 예시는 무엇인가요?\",\n",
       " \"'접근 제어' 파트에서 최소 권한 원칙을 적용하기 위한 구체적인 절차는 어떻게 되나요?\",\n",
       " \"'키 회전 및 폐기' 섹션에서 정기적인 키 회전 정책의 주기는 어떻게 설정되어 있나요?\",\n",
       " \"'교육 및 인식 제고' 파트에서 직원 대상 보안 교육의 주요 내용은 무엇인가요?\",\n",
       " \"'검증/점검 체크리스트'에서 키 생성 및 저장 방식 검토를 위한 기준은 무엇인가요?\",\n",
       " \"'리스크 한계 및 보완책' 섹션에서 다중 인증(MFA) 도입의 필요성에 대한 설명은 어떻게 되어 있나요?\",\n",
       " \"'CTO 보고·승인 포인트'에서 주요 보안 사건 발생 시 어떤 절차를 따라야 하는지 구체적으로 설명해 주세요.\",\n",
       " \"'위협 시나리오 및 영향' 파트에서 키 유출의 경우 데이터의 기밀성과 무결성이 어떻게 위협받는지 설명해 주세요.\",\n",
       " \"'대응 전략'의 '접근 제어' 부분에서 접근 로그 기록의 주기적 검토는 어떤 방식으로 이루어지나요?\",\n",
       " \"'키 회전 및 폐기' 섹션에서 사용하지 않는 키를 안전하게 폐기하는 방법은 무엇인가요?\",\n",
       " \"'검증/점검 체크리스트'에서 접근 권한 관리 현황 점검의 구체적인 방법은 무엇인가요?\",\n",
       " \"'리스크 한계 및 보완책'에서 정기적인 보안 감사의 주기는 어떻게 설정되어 있나요?\",\n",
       " \"'대응 전략'의 '키 생성 및 저장' 부분에서 HSM과 KMS의 차이점은 무엇인가요?\",\n",
       " \"'교육 및 인식 제고' 파트에서 보안 교육의 이수 현황을 어떻게 확인하나요?\",\n",
       " \"'CTO 보고·승인 포인트'에서 키 관리 정책의 변경 사항은 어떤 방식으로 보고되나요?\",\n",
       " \"'위협 시나리오 및 영향'에서 내부자 공격의 예시는 무엇인가요?\",\n",
       " \"'대응 전략'의 '키 회전 및 폐기' 부분에서 키 변경 시 어떤 절차를 따라야 하나요?\",\n",
       " \"'검증/점검 체크리스트'에서 보안 교육 이수 현황 확인을 위한 기준은 무엇인가요?\",\n",
       " \"'리스크 한계 및 보완책'에서 키 유출 방지를 위한 추가적인 보안 조치는 무엇이 있나요?\",\n",
       " '취약점 대응 전략 & 보안 사고 대응 매뉴얼에서 내부 공격에 대한 영향은 무엇인가요?',\n",
       " '취약점 대응 전략 & 보안 사고 대응 매뉴얼의 단계 1에서 모니터링 시스템 구축에 대한 구체적인 내용은 무엇인가요?',\n",
       " '취약점 대응 전략 & 보안 사고 대응 매뉴얼의 단계 3에서 복구 계획 수립에 대한 구체적인 절차는 무엇인가요?',\n",
       " '취약점 대응 전략 & 보안 사고 대응 매뉴얼의 개요 및 배경에서 사이버 공격의 빈도와 복잡성 증가에 대한 설명은 어떻게 되어 있나요?',\n",
       " '취약점 대응 전략 & 보안 사고 대응 매뉴얼의 단계 1에서 정기적인 취약점 스캔의 주기는 어떻게 설정하나요?',\n",
       " '취약점 대응 전략 & 보안 사고 대응 매뉴얼의 정책 변경 시 CTO 보고·승인 포인트에서 어떤 절차를 따라야 하나요?',\n",
       " '취약점 대응 전략 & 보안 사고 대응 매뉴얼의 보완책에서 다단계 인증 강화의 구체적인 방법은 무엇인가요?',\n",
       " '데이터/AI팀 내부 평가 피드백 문서에서 2024년 1월부터 2025년 8월까지의 프로젝트 완료율은 어떻게 평가되었나요?',\n",
       " '데이터/AI팀의 혁신성에 대한 평가 점수는 몇 점이며, 어떤 새로운 알고리즘 개발 사례가 있었나요?',\n",
       " '내부 평가 피드백 문서에서 근무 태도 중 협력도에 대한 평가 점수는 얼마이며, 어떤 세부 내용이 포함되어 있나요?',\n",
       " '데이터/AI팀의 문제 해결 능력에 대한 평가 점수는 몇 점이며, 어떤 접근법이 효과적이었는지 설명해 주실 수 있나요?',\n",
       " '내부 평가 피드백 문서에서 제안된 후속 조치 중 정기적인 팀 회의의 목적은 무엇인가요?',\n",
       " '데이터/AI팀의 결과물 품질에 대한 고객 피드백은 어떤 내용이었으며, 평가 점수는 얼마였나요?',\n",
       " '내부 평가 피드백 문서에서 커뮤니케이션 부족으로 인한 업무 지연 발생에 대한 구체적인 사례가 있나요?',\n",
       " '데이터/AI팀의 책임감에 대한 평가 점수는 얼마이며, 주어진 업무에 대한 성실한 수행의 예시는 무엇인가요?',\n",
       " '프로젝트 관리의 비효율성에 대한 구체적인 문제점은 무엇이며, 이를 해결하기 위한 도구는 어떤 것이 제안되었나요?',\n",
       " 'CTO 의사결정 참고 사항에서 전략적 인력 배치의 필요성에 대한 설명은 무엇인가요?',\n",
       " '데이터/AI팀의 피드백 문화 강화를 위한 정기적인 피드백 세션의 구체적인 계획은 어떻게 되나요?',\n",
       " '내부 평가 피드백 문서에서 제시된 개선 포인트 중 소통 부족으로 인한 업무 지연의 구체적인 사례는 무엇인가요?',\n",
       " '데이터/AI팀의 프로젝트 완료율이 90% 이상인 이유는 무엇이라고 평가되었나요?',\n",
       " '내부 평가 피드백 문서에서 제안된 교육 및 훈련의 필요성에 대한 구체적인 내용은 무엇인가요?',\n",
       " '데이터/AI팀의 성과가 뛰어난 팀원을 주요 프로젝트에 배치하는 이유는 무엇인가요?',\n",
       " '임원 인사·보상·승계 계획 문서에서 임원 보상 구조에 대한 내용은 어떤가요?',\n",
       " '핵심 인재 유지 및 스카우트 전략 보고서에서 현재 스카우트 전략의 주요 포인트는 무엇인가요?',\n",
       " '주요 인사(승진·이동·해고) 관리 문서에서 최근 승진된 인재의 명단은 어떻게 되나요?',\n",
       " '조직 구조 개편안에서 제안된 새로운 조직 구조의 주요 변경 사항은 무엇인가요?',\n",
       " '핵심 인재 유출 리스크 분석 및 대응 전략 문서에서 유출 리스크가 가장 높은 부서는 어디인가요?',\n",
       " '내부 평가 피드백 문서_프론트엔드팀 근무 태도 및 기술 기여도 평가에서 프론트엔드팀의 기술 기여도는 어떻게 평가되었나요?',\n",
       " '내부 평가 피드백 문서_백엔드팀 근무 태도 및 리더십 평가에서 백엔드팀의 리더십 평가 결과는 어떤가요?',\n",
       " '내부 평가 피드백 문서_데이터/AI팀 근무 태도 및 연구 성과 평가에서 데이터/AI팀의 연구 성과는 어떤가요?',\n",
       " '팀 성과 자료_프론트엔드팀 KPI 달성률 및 성과 분석에서 프론트엔드팀의 KPI 달성률은 얼마인가요?',\n",
       " '팀 성과 자료_백엔드팀 프로젝트 성과 및 보상 연계 보고서에서 백엔드팀의 프로젝트 성과는 어떻게 평가되었나요?',\n",
       " '팀 성과 자료_데이터/AI팀 R&D 성과 및 투자 대비 효과 분석에서 R&D 성과의 투자 대비 효과는 어떤가요?',\n",
       " '취약점 대응 전략 & 보안 사고 대응 매뉴얼에서 주요 취약점 대응 절차는 무엇인가요?',\n",
       " '민감 데이터 접근 키·암호화 키 관리 문서에서 암호화 키 관리의 현재 상태는 어떤가요?',\n",
       " '서비스 장애 대응 시나리오 (대규모 트래픽/데이터센터 장애)에서 대규모 트래픽 발생 시 대응 방안은 무엇인가요?',\n",
       " '내부자 위협 관리 가이드 (계정 유출·권한 남용 대응)에서 계정 유출에 대한 대응 방안은 어떤가요?',\n",
       " '내부 평가 피드백 문서_백엔드팀 근무 태도 및 리더십 평가에서 백엔드팀의 협업 능력에 대한 평가 결과는 어떤가요?',\n",
       " '내부 평가 피드백 문서_백엔드팀 근무 태도 및 리더십 평가에서 프로젝트 A의 성공적 완료에 대한 구체적인 성과는 무엇인가요?',\n",
       " '내부 평가 피드백 문서_백엔드팀 근무 태도 및 리더십 평가에서 시스템 안정성 향상에 대한 구체적인 수치는 어떻게 되나요?',\n",
       " '데이터/AI팀 R&D 성과 및 투자 대비 효과 분석 보고서에서 성과 측정 지표의 다양화 필요성에 대한 구체적인 설명은 무엇인가요?',\n",
       " '데이터/AI팀 R&D 성과 및 투자 대비 효과 분석 보고서에서 제안된 후속 조치 중 외부 전문가와의 협업 강화 방안은 어떤 내용인가요?',\n",
       " '데이터/AI팀 R&D 성과 및 투자 대비 효과 분석 보고서에서 ROI 분석을 통해 효율적인 자원 배분을 위한 전략적 고려 사항은 무엇인가요?',\n",
       " '데이터/AI팀 R&D 성과 및 투자 대비 효과 분석 보고서에서 데이터 품질 저하에 따른 프로젝트 실패 리스크를 줄이기 위한 방안은 무엇인가요?',\n",
       " '데이터/AI팀 R&D 성과 및 투자 대비 효과 분석 보고서에서 팀원들의 태도 및 기여도 분석 결과는 어떻게 요약될 수 있나요?',\n",
       " '데이터/AI팀 R&D 성과 및 투자 대비 효과 분석 보고서에서 고객 맞춤형 AI 솔루션 개발 완료에 대한 고객 피드백은 어떤 내용이었나요?',\n",
       " '데이터/AI팀 R&D 성과 및 투자 대비 효과 분석 보고서에서 데이터 분석 플랫폼 업그레이드의 구체적인 성과는 무엇인가요?',\n",
       " '데이터/AI팀 R&D 성과 및 투자 대비 효과 분석 보고서에서 제안된 성과 측정 지표에 고객 만족도 및 시장 반응을 추가하는 이유는 무엇인가요?',\n",
       " '주요 인사(승진·이동·해고) 관리 문서에서 인사 변화 필요성 분석의 책임자는 누구인가요?',\n",
       " '주요 인사(승진·이동·해고) 관리 문서의 실행 계획에서 승진/이동/해고 대상자와의 면담 실시 단계의 완료 기한은 언제인가요?',\n",
       " '주요 인사(승진·이동·해고) 관리 문서에서 인사 변화 후 모니터링의 검증 포인트는 무엇인가요?',\n",
       " '주요 인사(승진·이동·해고) 관리 문서의 리스크 및 대응 방안에서 직원 불만에 대한 대응 방안은 무엇인가요?',\n",
       " '주요 인사(승진·이동·해고) 관리 문서에서 승진/이동/해고 대상자와의 면담을 실시하는 책임자는 누구인가요?',\n",
       " '주요 인사(승진·이동·해고) 관리 문서의 적용 범위에는 어떤 직원들이 포함되나요?',\n",
       " '주요 인사(승진·이동·해고) 관리 문서에서 인사 변화 공지 및 실행 단계의 책임자는 누구인가요?',\n",
       " '주요 인사(승진·이동·해고) 관리 문서의 리스크 중 인력 공백에 대한 설명은 무엇인가요?',\n",
       " '주요 인사(승진·이동·해고) 관리 문서에서 성과 기반 결정의 검증 포인트는 무엇인가요?',\n",
       " '주요 인사(승진·이동·해고) 관리 문서의 기밀 유지 지침에 따르면, 이 문서는 누구와 공유해서는 안 되나요?',\n",
       " '주요 인사(승진·이동·해고) 관리 문서의 실행 계획에서 후보자 선정 및 평가 기준 수립 단계의 완료 기한은 언제인가요?',\n",
       " '주요 인사(승진·이동·해고) 관리 문서에서 조직 문화 저하에 대한 리스크 설명은 무엇인가요?',\n",
       " '주요 인사(승진·이동·해고) 관리 문서의 개요 및 목적에서 인사 변화의 중요성은 무엇으로 설명되고 있나요?',\n",
       " '주요 인사(승진·이동·해고) 관리 문서의 실행 계획에서 최종 결정 및 승인 단계의 책임자는 누구인가요?',\n",
       " '주요 인사(승진·이동·해고) 관리 문서에서 인사 변화 후 피드백 수집의 완료 기한은 언제인가요?',\n",
       " '주요 인사(승진·이동·해고) 관리 문서의 리스크 및 대응 방안에서 긍정적인 조직 문화 조성을 위한 프로그램 시행은 어떤 리스크에 대한 대응 방안인가요?',\n",
       " '주요 인사(승진·이동·해고) 관리 문서에서 팀의 의견 수렴의 검증 포인트는 무엇인가요?',\n",
       " '주요 인사(승진·이동·해고) 관리 문서의 개정 이력에서 최초 작성일은 언제인가요?',\n",
       " '주요 인사(승진·이동·해고) 관리 문서의 실행 계획에서 인사 변화 필요성 분석 단계의 완료 기한은 언제인가요?',\n",
       " '주요 인사(승진·이동·해고) 관리 문서에서 인사 변화 과정에서 발생하는 모든 정보는 어떻게 관리되어야 하나요?',\n",
       " '주요 인사(승진·이동·해고) 관리 문서의 적용 범위에서 정규직과 계약직 외에 어떤 직원이 포함되나요?',\n",
       " '주요 인사(승진·이동·해고) 관리 문서의 리스크 및 대응 방안에서 해고로 인한 업무 공백 발생에 대한 설명은 무엇인가요?',\n",
       " '주요 인사(승진·이동·해고) 관리 문서에서 인사 변화의 효과적인 관리가 중요한 이유는 무엇인가요?',\n",
       " '주요 인사(승진·이동·해고) 관리 문서의 실행 계획에서 인사 변화 공지 및 실행 단계의 설명은 무엇인가요?',\n",
       " '주요 인사(승진·이동·해고) 관리 문서에서 인사 변화 필요성 분석의 단계에서 어떤 작업이 이루어지나요?',\n",
       " '임원 인사·보상·승계 계획 문서에서 현재 임원 구성 및 성과 분석의 완료 기한은 언제인가요?',\n",
       " '임원 인사·보상·승계 계획 문서의 시장 및 업계 벤치마킹 보상 조사는 어떤 내용을 포함하나요?',\n",
       " '임원 인사·보상·승계 계획 문서에서 보상 및 승계 계획 초안 작성의 책임자는 누구인가요?',\n",
       " '임원 인사·보상·승계 계획 문서의 리스크 및 대응 방안에서 인재 이탈에 대한 대응 방안은 무엇인가요?',\n",
       " '임원 인사·보상·승계 계획 문서에서 승계 계획의 실효성을 검증하기 위한 포인트는 무엇인가요?',\n",
       " '임원 인사·보상·승계 계획 문서의 최종 계획 수립 및 승인 단계의 완료 기한은 언제인가요?',\n",
       " '임원 인사·보상·승계 계획 문서에서 내부 갈등에 대한 대응 방안은 무엇으로 제시되고 있나요?',\n",
       " '임원 인사·보상·승계 계획 문서의 성과 기반 평가에서 어떤 기준이 설정되어야 하는지 확인하는 방법은 무엇인가요?',\n",
       " '임원 인사·보상·승계 계획 문서에서 보상 경쟁력을 검토하기 위해 어떤 기준을 사용하나요?',\n",
       " '임원 인사·보상·승계 계획 문서의 기밀 유지 지침에 따르면, 문서의 복사 및 배포는 누구의 승인을 받아야 하나요?',\n",
       " '임원 인사·보상·승계 계획 문서에서 초안 검토 및 피드백 수집의 책임자는 누구인가요?',\n",
       " '임원 인사·보상·승계 계획 문서의 작성일자는 언제인가요?',\n",
       " '임원 인사·보상·승계 계획 문서에서 법적 리스크에 대한 대응 방안은 무엇인가요?',\n",
       " '임원 인사·보상·승계 계획 문서의 적용 범위는 어떤 임원들을 포함하나요?',\n",
       " '임원 인사·보상·승계 계획 문서에서 인사팀의 역할은 무엇인가요?',\n",
       " '임원 인사·보상·승계 계획 문서의 6단계 실행 계획에서 실행 및 모니터링의 완료 기한은 언제인가요?',\n",
       " '임원 인사·보상·승계 계획 문서에서 CTO의 관점에서 검증해야 할 포인트는 무엇인가요?',\n",
       " '임원 인사·보상·승계 계획 문서의 개요 및 목적에서 어떤 목표를 설정하고 있나요?',\n",
       " '임원 인사·보상·승계 계획 문서에서 경쟁력 있는 보상 패키지 제공의 필요성은 어떻게 설명되고 있나요?',\n",
       " '임원 인사·보상·승계 계획 문서의 리스크 및 대응 방안에서 내부 갈등의 설명은 무엇인가요?',\n",
       " '임원 인사·보상·승계 계획 문서의 버전은 몇 번인가요?',\n",
       " '임원 인사·보상·승계 계획 문서에서 인사 정책의 법적 미비에 대한 설명은 무엇인가요?',\n",
       " '임원 인사·보상·승계 계획 문서의 작성자는 누구인가요?',\n",
       " '임원 인사·보상·승계 계획 문서에서 임원 인사의 투명성과 공정성을 확보하기 위한 방법은 무엇인가요?',\n",
       " '임원 인사·보상·승계 계획 문서의 리스크 관리 목표는 무엇인가요?',\n",
       " '백엔드팀 프로젝트 성과 및 보상 연계 보고서에서 프로젝트 완료율은 어떻게 평가되었나요?',\n",
       " '백엔드팀 프로젝트 성과 및 보상 연계 보고서에서 코드 품질에 대한 기준은 무엇인가요?',\n",
       " '백엔드팀 프로젝트 성과 및 보상 연계 보고서에서 팀원 간 협업 및 커뮤니케이션의 평가 기준은 어떻게 설정되었나요?',\n",
       " '백엔드팀 프로젝트 성과 및 보상 연계 보고서에서 프로젝트 A의 사용자 피드백은 어떤 결과를 보였나요?',\n",
       " '백엔드팀 프로젝트 성과 및 보상 연계 보고서에서 팀원 X의 기여도는 어떤 점에서 높게 평가되었나요?',\n",
       " '백엔드팀 프로젝트 성과 및 보상 연계 보고서에서 코드 리뷰 피드백 반영률이 저조한 이유는 무엇인가요?',\n",
       " '백엔드팀 프로젝트 성과 및 보상 연계 보고서에서 제안된 후속 조치 중 정기적인 코드 리뷰 세션의 필요성은 어떤 이유에서인가요?',\n",
       " '백엔드팀 프로젝트 성과 및 보상 연계 보고서에서 팀원 Y의 성과는 어떤 점에서 두드러졌나요?',\n",
       " '백엔드팀 프로젝트 성과 및 보상 연계 보고서에서 커뮤니케이션 부족으로 인한 일정 지연 사례는 어떤 프로젝트에서 발생했나요?',\n",
       " '백엔드팀 프로젝트 성과 및 보상 연계 보고서에서 성과가 우수한 팀원에게 지급될 인센티브는 어떤 기준으로 결정되나요?',\n",
       " '백엔드팀 프로젝트 성과 및 보상 연계 보고서에서 신규 팀원 교육 및 멘토링 프로그램의 필요성은 어떻게 설명되고 있나요?',\n",
       " '백엔드팀 프로젝트 성과 및 보상 연계 보고서에서 고객 피드백 및 사용자 만족도는 어떤 방식으로 측정되었나요?',\n",
       " '백엔드팀 프로젝트 성과 및 보상 연계 보고서에서 코드 품질 점수 85점은 어떤 기준으로 평가된 것인가요?',\n",
       " '백엔드팀 프로젝트 성과 및 보상 연계 보고서에서 팀 내 관리 체계 강화의 필요성은 어떤 리스크를 예방하기 위한 것인가요?',\n",
       " '백엔드팀 프로젝트 성과 및 보상 연계 보고서에서 2025년 1월부터 8월까지 진행된 프로젝트의 범위는 어떻게 설정되었나요?',\n",
       " '핵심 인재 유출 리스크 분석 및 대응 전략 보고서에서 현재 인재 유출 리스크를 평가하기 위한 직원 만족도 조사는 어떻게 진행되나요?',\n",
       " '실행 계획의 단계 2인 예방 조치 수립에서 보상 체계 재검토 및 개선의 구체적인 방안은 무엇인가요?',\n",
       " '유출 시나리오 대응 단계에서 유출 인재의 지식 전이 방지 방안은 어떤 내용으로 구성되어 있나요?',\n",
       " '지속 모니터링 및 피드백 단계에서 정기적인 인재 유출 리스크 평가의 주기는 어떻게 설정되어 있나요?',\n",
       " '리스크 및 대응 방안 섹션에서 내부 불만족에 대한 대응 방안으로 제시된 정기적인 피드백 및 소통 강화는 어떤 방식으로 이루어지나요?',\n",
       " '경쟁사 영입 리스크에 대한 대응 방안으로 보상 체계 및 근무 환경 개선이 언급되었는데, 구체적으로 어떤 개선 사항이 포함될 예정인가요?',\n",
       " '경력 개발 부족으로 인한 이탈을 방지하기 위한 교육 및 개발 프로그램 확대는 어떤 형태로 진행될 계획인가요?',\n",
       " '인재 유출 후 대응 체계의 실효성 점검은 어떤 지표를 통해 이루어질 예정인가요?',\n",
       " '직원 만족도 및 이직률 변화 추적을 위한 구체적인 데이터 수집 방법은 무엇인가요?',\n",
       " '법적 계약 강화 및 사후 관리 방안은 어떤 절차로 진행될 예정인가요?',\n",
       " '인재 유출 리스크 분석 및 대응 전략 보고서에서 제시된 유연 근무제 도입의 구체적인 내용은 무엇인가요?',\n",
       " '경쟁사 대비 인재 관리 전략의 경쟁력 평가를 위한 기준은 무엇인가요?',\n",
       " '직원 피드백 수집 및 분석은 어떤 도구나 방법을 통해 이루어질 예정인가요?',\n",
       " '인재 유출 리스크를 관리하기 위한 대응 매뉴얼 작성은 어떤 형식으로 진행될 것인가요?',\n",
       " \"핵심 인재 유출 리스크 분석 및 대응 전략 보고서에서 제시된 '워라밸 증진'의 구체적인 방안은 무엇인가요?\",\n",
       " \"내부자 위협 관리 가이드의 '위협 시나리오 및 영향' 파트에서 계정 유출의 구체적인 사례는 무엇인가요?\",\n",
       " '프론트엔드팀 KPI 달성률 및 성과 분석 보고서에서 사용자 인터페이스 개선의 목표치와 달성률은 각각 얼마인가요?',\n",
       " '프론트엔드팀 KPI 달성률 및 성과 분석 보고서에서 로딩 속도 최적화의 달성률이 낮은 이유는 무엇인가요?',\n",
       " '프론트엔드팀 KPI 달성률 및 성과 분석 보고서에서 버그 수정률의 목표치와 실제 달성률은 어떻게 되나요?',\n",
       " '프론트엔드팀 KPI 달성률 및 성과 분석 보고서에서 팀원들의 협업 태도에 대한 분석 결과는 무엇인가요?',\n",
       " '프론트엔드팀 KPI 달성률 및 성과 분석 보고서에서 제안된 후속 조치 중 주간 미팅 운영의 목적은 무엇인가요?',\n",
       " '프론트엔드팀 KPI 달성률 및 성과 분석 보고서에서 코드 리뷰 프로세스 강화를 위한 제안은 어떤 내용인가요?',\n",
       " '프론트엔드팀 KPI 달성률 및 성과 분석 보고서에서 일정 관리 강화의 필요성이 언급된 이유는 무엇인가요?',\n",
       " '프론트엔드팀 KPI 달성률 및 성과 분석 보고서에서 외부 요인에 의한 지연이 있었던 프로젝트는 어떤 것인가요?',\n",
       " '프론트엔드팀 KPI 달성률 및 성과 분석 보고서에서 팀원 교육 프로그램의 필요성이 언급된 이유는 무엇인가요?',\n",
       " '프론트엔드팀 KPI 달성률 및 성과 분석 보고서에서 개선 포인트로 제시된 사용자 피드백 반영의 중요성은 무엇인가요?',\n",
       " '프론트엔드팀 KPI 달성률 및 성과 분석 보고서에서 팀의 성과 향상을 위한 즉각적인 조치가 필요한 이유는 무엇인가요?',\n",
       " '프론트엔드팀 KPI 달성률 및 성과 분석 보고서에서 팀원들의 일정 관리에 대한 어려움은 어떤 경향을 보였나요?',\n",
       " '프론트엔드팀 KPI 달성률 및 성과 분석 보고서에서 제안된 팀원 교육 프로그램의 주제는 무엇인가요?',\n",
       " '프론트엔드팀 KPI 달성률 및 성과 분석 보고서에서 프로젝트 우선순위 재조정의 필요성이 언급된 이유는 무엇인가요?',\n",
       " '프론트엔드팀 KPI 달성률 및 성과 분석 보고서에서 팀의 전반적인 기여도를 분석하는 목적은 무엇인가요?',\n",
       " '서비스 장애 대응 시나리오 문서에서 대규모 트래픽 증가에 대한 위협 시나리오는 어떤 내용으로 구성되어 있나요?',\n",
       " '서비스 장애 대응 시나리오 문서의 3단계 즉각적인 대응에서 트래픽 관리를 위해 어떤 방법이 제시되고 있나요?',\n",
       " '서비스 장애 대응 시나리오 문서의 4단계 사후 검토 및 개선에서 사후 분석 회의의 목적은 무엇인가요?',\n",
       " '서비스 장애 대응 시나리오 문서의 검증/점검 체크리스트에서 백업 및 복구 절차 문서화 및 테스트는 어떤 항목으로 포함되어 있나요?',\n",
       " '서비스 장애 대응 시나리오 문서에서 리스크 한계로 언급된 인프라 의존성의 구체적인 내용은 무엇인가요?',\n",
       " '서비스 장애 대응 시나리오 문서의 6단계 CTO 보고·승인 포인트에서 장애 발생 시 보고는 어떤 시간 내에 이루어져야 하나요?',\n",
       " '서비스 장애 대응 시나리오 문서의 2단계 즉각적인 대응에서 서버 리소스 확장에 대한 검토는 어떤 방식으로 이루어져야 하나요?',\n",
       " '서비스 장애 대응 시나리오 문서에서 제시된 다중 클라우드 전략의 목적은 무엇인가요?',\n",
       " '서비스 장애 대응 시나리오 문서의 1단계 모니터링 및 경고에서 경고 시스템 설정의 중요성은 무엇인가요?',\n",
       " '서비스 장애 대응 시나리오 문서의 5단계 리스크 한계 및 보완책에서 인력 부족에 대한 대응 방안은 무엇인가요?',\n",
       " '서비스 장애 대응 시나리오 문서에서 장애 원인 분석은 어떤 방식으로 진행되어야 하나요?',\n",
       " '서비스 장애 대응 시나리오 문서의 3단계 문제 해결에서 백업 및 복구 절차의 중요성은 무엇인가요?',\n",
       " '서비스 장애 대응 시나리오 문서의 2단계 즉각적인 대응에서 CDN 활용의 필요성은 무엇인가요?',\n",
       " '서비스 장애 대응 시나리오 문서의 4단계 사후 검토 및 개선에서 발견된 문제점은 어떻게 처리해야 하나요?',\n",
       " '서비스 장애 대응 시나리오 문서의 1단계 모니터링 및 경고에서 실시간 트래픽 모니터링의 필요성은 무엇인가요?',\n",
       " '서비스 장애 대응 시나리오 문서에서 장애 발생 후 48시간 이내에 제출해야 하는 보고서는 무엇인가요?',\n",
       " '서비스 장애 대응 시나리오 문서의 3단계 문제 해결에서 관련 팀과의 협력은 어떤 방식으로 이루어져야 하나요?',\n",
       " '서비스 장애 대응 시나리오 문서의 5단계 리스크 한계 및 보완책에서 상시 교육의 필요성은 무엇인가요?',\n",
       " '서비스 장애 대응 시나리오 문서의 2단계 즉각적인 대응에서 로드 밸런서의 역할은 무엇인가요?',\n",
       " '서비스 장애 대응 시나리오 문서의 1단계 모니터링 및 경고에서 이상 징후 조기 탐지의 중요성은 무엇인가요?',\n",
       " '안녕!',\n",
       " '반가워!',\n",
       " '안녕하세요!',\n",
       " '오늘 날씨가 꿀꿀하네..',\n",
       " '반가워용',\n",
       " '반갑습니다',\n",
       " '안녕',\n",
       " '반가워',\n",
       " '안녕하세요',\n",
       " '반갑습니다',\n",
       " '날씨 좋네!',\n",
       " '요즘 날씨가 정말 변덕스럽네.',\n",
       " '오늘 점심 메뉴 추천해줘.',\n",
       " '오늘 저녁 뭐 먹을까?',\n",
       " '요즘 트렌드인 패션 아이템 뭐가 있을까?',\n",
       " '사무실에서 듣기 좋은 팟캐스트 추천해 줄 수 있어?',\n",
       " '휴식 시간에 할 만한 간단한 게임 있으면 알려줘!',\n",
       " '최근에 화제가 된 뉴스는 뭐가 있을까?',\n",
       " '오늘 날씨 어때?',\n",
       " '내가 가볼 만한 여행지 추천해 줘!',\n",
       " '재밌는 책 읽고 싶은데, 추천할 만한 거 있어?',\n",
       " '요즘 인기 있는 TV 프로그램 있으면 알려줘!',\n",
       " '간단한 요리 레시피 알려줄래?',\n",
       " '주말에 놀러 갈 만한 장소 추천해 줘!',\n",
       " '요즘 핫한 카페나 맛집 정보 있으면 알려줘!',\n",
       " '건강한 스낵 아이디어가 있다면 알려줘!',\n",
       " '요즘 사람들 사이에서 인기 있는 활동이 뭐지?',\n",
       " '오늘 날씨 어때?',\n",
       " '요즘 핫한 영화 추천해줄 수 있어?',\n",
       " '좋아하는 음악 있으면 알려줘!',\n",
       " '최근에 나온 책 중에 읽어볼 만한 거 있어?',\n",
       " '오늘 기분 좋게 해줄 만한 명언 하나 알려줘!',\n",
       " '나에게 어울리는 디저트 추천해줘!',\n",
       " '주말에 할 만한 활동이 있을까?',\n",
       " '요즘 인기 있는 드라마 뭐야?',\n",
       " '나랑 잘 맞는 취미가 뭐라고 생각해?',\n",
       " '스트레스 해소하는 방법 몇 가지 알려줘!',\n",
       " '재미있는 팟캐스트 추천해줄래?',\n",
       " '다음에 가볼 만한 여행지 있으면 알려줘!',\n",
       " '내가 좋아할 만한 게임 뭐 있을까?',\n",
       " '나에게 맞는 카페 스타일은 뭐일까?',\n",
       " '요즘 트렌디한 패션 아이템 추천해줘!',\n",
       " '분위기 좋은 음악 추천해줄 수 있어?',\n",
       " '오늘 기분 좋은 음악 추천해줄 수 있어?',\n",
       " '최근에 인기 있는 영화 어떤 게 있을까?',\n",
       " '요즘 핫한 책 제목 좀 알려줘!',\n",
       " '주말에 하기 좋은 취미 활동은 뭐가 있을까?',\n",
       " '새로운 팟캐스트 추천해줄 수 있어?',\n",
       " '가볍게 읽기 좋은 웹툰 뭐가 있을까?',\n",
       " '요즘 유행하는 요리법 알고 있어?',\n",
       " '최근에 나온 게임 중에 추천할 만한 게 있을까?',\n",
       " '오늘의 날씨에 딱 맞는 음악이 있을까?',\n",
       " '스트레스 풀기 좋은 영화 한 편 추천해줘!',\n",
       " '출퇴근길에 듣기 좋은 음악 리스트 좀 만들어줄래?',\n",
       " '여름에 가기 좋은 여행지 추천해줄 수 있어?',\n",
       " '기분 전환에 좋은 활동 뭐가 있을까?',\n",
       " '맛있는 디저트 레시피 알고 있어?',\n",
       " '간단한 요리 레시피 하나 알려줘.',\n",
       " '최근에 인기 있는 앱 있으면 추천해 줘.',\n",
       " '여행지로 가기 좋은 곳이 어디일까?',\n",
       " '친구한테 선물하기 좋은 아이템 뭐가 있을까?',\n",
       " '이 계절에 가볼 만한 카페 있어?',\n",
       " '요즘 유행하는 패션 트렌드가 뭐야?',\n",
       " '마음에 드는 음악 장르 추천해줘.',\n",
       " '편안하게 쉴 수 있는 장소가 있을까?',\n",
       " '영화관에서 볼 만한 좋은 영화가 뭐야?',\n",
       " '효과적인 공부 방법 좀 알려줄 수 있어?',\n",
       " '간단하게 즐길 수 있는 게임 추천해 줘.',\n",
       " '긴장을 푸는 방법 뭐가 있을까?',\n",
       " '자기계발에 좋은 강좌 추천해 줄래?',\n",
       " '나만의 루틴 만들기에 대한 팁이 있을까?',\n",
       " '요즘 즐겨 보는 TV 프로그램은 뭐야?',\n",
       " '좋은 요리 레시피 있으면 알려줘.',\n",
       " '이런 날씨에 어울리는 음악은 뭐야?',\n",
       " '웹툰 중에서 추천할 만한 게 있어?',\n",
       " '최근에 인기 있는 게임 뭐가 있는지 알고 싶어.',\n",
       " '좋은 운동 방법이나 루틴이 있으면 알려줘.',\n",
       " '기분 전환에 좋은 활동 추천해줘.',\n",
       " '친구에게 선물할 만한 아이템 있을까?',\n",
       " '오늘 하루 마무리하는 좋은 방법이 있을까?',\n",
       " '제철 음식 중에 추천할 만한 것이 뭐야?',\n",
       " '기분이 좋을 때 듣기 좋은 음악은 뭐야?',\n",
       " '이색적인 여행지 추천해줄 수 있어?',\n",
       " '재미있는 일화나 유머가 있으면 들려줘.',\n",
       " '나만의 루틴을 만드는 데 도움이 될 만한 조언이 있을까?',\n",
       " '간단하게 할 수 있는 취미가 뭐가 있을까?',\n",
       " '여름에 어울리는 시원한 음료 추천해줘.',\n",
       " '마음이 편안해지는 방법이 있을까?',\n",
       " '오늘 날씨가 좋은데, 어떤 기분이 드는지 궁금해!',\n",
       " '요즘 가장 인기 있는 영화가 뭐인지 알고 있어?',\n",
       " '내가 한번 읽어볼 만한 좋은 책 추천해줄래?',\n",
       " '이 음악 어떤 느낌인지 한번 들어보고 싶어!',\n",
       " '여행 가기 좋은 곳이 어디인지 알려줄 수 있어?',\n",
       " '최근에 유행하는 패션 아이템이 뭐인지 궁금해!',\n",
       " '지금 듣고 있는 노래의 분위기가 어때?',\n",
       " '좋은 카페가 있으면 추천해줄 수 있어?',\n",
       " '요즘 핫한 레스토랑은 어디인지 알고 있어?',\n",
       " '요즘 인기 있는 게임 좀 알려줄래?',\n",
       " '내가 할 만한 취미 활동이 뭐가 있을까?',\n",
       " '최근에 재밌게 본 유튜브 채널이 뭐야?',\n",
       " '요즘 뜨고 있는 TV 프로그램이 있다면 뭐지?',\n",
       " '다양한 커피 종류 중 어떤 게 맛있을까?',\n",
       " '네가 추천하는 간식은 뭐야?',\n",
       " '최근에 본 전시회 중에서 추천할 만한 게 있을까?',\n",
       " '자주 가는 운동이 있으면 알려줄 수 있어?',\n",
       " '유명한 디저트 카페가 있다면 추천해줘!',\n",
       " '좋은 음악 추천해주면 듣고 싶어!',\n",
       " '주말에 할 만한 재미있는 활동이 있을까?',\n",
       " '요즘 보고 싶은 애니메이션이 있다면 뭐지?',\n",
       " '감명 깊었던 다큐멘터리 추천해줄 수 있어?',\n",
       " '혼자서 볼 수 있는 시리즈가 있다면 뭐가 좋을까?',\n",
       " '최근에 유행하는 패션 스타일이 있다면 알려줘!',\n",
       " '가볍게 할 수 있는 게임 중에서 추천할 만한 게 있을까?']"
      ]
     },
     "execution_count": 2,
     "metadata": {},
     "output_type": "execute_result"
    }
   ],
   "execution_count": 2
  },
  {
   "metadata": {},
   "cell_type": "markdown",
   "source": "### 기본 문서 검색 질문 생성 ㅔ인",
   "id": "97cc022fb3e2d248"
  },
  {
   "metadata": {},
   "cell_type": "markdown",
   "source": "",
   "id": "423d6107be6581a5"
  },
  {
   "metadata": {
    "ExecuteTime": {
     "end_time": "2025-09-18T06:26:57.804674Z",
     "start_time": "2025-09-18T06:26:57.797470Z"
    }
   },
   "cell_type": "code",
   "source": [
    "import random\n",
    "\n",
    "complex2 = [\"구체적으로(ex. '기술적 기여도 평가에서 A/B 테스트 도입이 긍정적인 결과를 가져온 사례에 대해 자세히 설명해 주실 수 있나요?', '문제 해결 능력 강화를 위한 후속 조치 제안 중 '문제 해결 세션'의 구체적인 진행 방식은 어떻게 돼?','프론트엔드팀의 추가 인력 투입이나 교육 실행 시 예상되는 효과나 리스크는 무엇이 있을까?')\", \"아주 짧고 간결하게 5~10글자 내로(ex. '백엔드 팀 업무 알려줘', '임원 승계 문서 찾아줘', '프론트엔드 기술 스택 알려줘봐')\"]\n",
    "\n",
    "def pick_complex2() -> str:\n",
    "    return random.choices(complex2)[0]\n",
    "\n",
    "pick_complex2()"
   ],
   "id": "9b475c3117a0982d",
   "outputs": [
    {
     "data": {
      "text/plain": [
       "\"구체적으로(ex. '기술적 기여도 평가에서 A/B 테스트 도입이 긍정적인 결과를 가져온 사례에 대해 자세히 설명해 주실 수 있나요?', '문제 해결 능력 강화를 위한 후속 조치 제안 중 '문제 해결 세션'의 구체적인 진행 방식은 어떻게 돼?','프론트엔드팀의 추가 인력 투입이나 교육 실행 시 예상되는 효과나 리스크는 무엇이 있을까?')\""
      ]
     },
     "execution_count": 10,
     "metadata": {},
     "output_type": "execute_result"
    }
   ],
   "execution_count": 10
  },
  {
   "metadata": {
    "ExecuteTime": {
     "end_time": "2025-09-18T06:26:58.157549Z",
     "start_time": "2025-09-18T06:26:58.151654Z"
    }
   },
   "cell_type": "code",
   "source": [
    "def question_chain_setting():\n",
    "    llm = ChatOpenAI(model=\"gpt-4.1\", temperature=0)\n",
    "\n",
    "    basic_prompt = PromptTemplate.from_template(\n",
    "        \"\"\"\n",
    "            다음 제공되는 대화 내역을 기반으로 다음에 나올 수 있는 사용자가 궁금해할 만한 후속 질문 하나를 사용자 입장에서 질문하세요.\n",
    "            이전에 나왔던 질문은 최대한 만들지 말고, 연결된 질문으로 조금이라도 다른 질문을 만들어주세요.\n",
    "            질문은 반드시 {complex} 만들어야 합니다.\n",
    "\n",
    "            대화 내역: {history}\n",
    "\n",
    "            절대로 AI입장에서의 질문을 만들지 마세요.\n",
    "            ex) 추가적인 질문이 있으시면 언제든지 말씀해 주시기 바랍니다.\n",
    "            ex) 추가적으로 궁금한 사항이 있으신가요?\n",
    "            ex) 데이터 접근 권한 관리 방침에 대해 더 궁금한 사항이 있으면 말씀해 주세요.\n",
    "            ex) 안녕하세요. 다른 궁금한 점이 있으신가요?\n",
    "            ex) 안녕하십니까? 도움이 필요하신 부분이 있으신가요?\n",
    "            ex) ~~ 예시는 다음과 같습니다.\n",
    "\n",
    "\n",
    "            답변형태는 다음과 같이 해주세요.\n",
    "            ex) 빌드 결과물의 확인 방법이나 배포 과정에 대해 알고 싶어.\n",
    "            ex) 문서화 시 유의사항 알려줄 수 있나요?\n",
    "            ex) 빌드/배포 가이드의 '6. 문서화' 파트에서 문서화해야 할 내용은 뭐야?\n",
    "            ex) 모델 개발 & 성능 보고서에서 사용된 프로그래밍 언어가 뭐야?\n",
    "        \"\"\"\n",
    "    )\n",
    "\n",
    "    question_chain = basic_prompt | llm | StrOutputParser()\n",
    "\n",
    "    return question_chain"
   ],
   "id": "77c1eaac6b197340",
   "outputs": [],
   "execution_count": 11
  },
  {
   "metadata": {},
   "cell_type": "markdown",
   "source": "",
   "id": "f0415e761e012f6b"
  },
  {
   "metadata": {},
   "cell_type": "markdown",
   "source": "## 일상 질문 의도 다양화 로직",
   "id": "e76f9819a142545b"
  },
  {
   "metadata": {
    "ExecuteTime": {
     "end_time": "2025-09-18T06:26:59.748544Z",
     "start_time": "2025-09-18T06:26:59.741164Z"
    }
   },
   "cell_type": "code",
   "source": [
    "import random\n",
    "\n",
    "INTENTS = [\n",
    "    \"인사/감상\", \"영상/음악\", \"운동/스트레칭\", \"생산성/타이머\",\n",
    "    \"생활 팁/정리\", \"UX(배경/위젯)\", \"퀴즈/잡학\", \"날씨/우산 판단\",\n",
    "    \"음식\"  # <-- 과다 시 일단 제거하거나 가중치↓\n",
    "]\n",
    "\n",
    "def pick_intent() -> str:\n",
    "    # 최근 과다 의도에 역가중치 (음식이 많다면 자동으로 다른 의도 선택)\n",
    "    return random.choices(INTENTS)[0]\n",
    "\n",
    "pick_intent()"
   ],
   "id": "b6225ebaa1814db3",
   "outputs": [
    {
     "data": {
      "text/plain": [
       "'생산성/타이머'"
      ]
     },
     "execution_count": 12,
     "metadata": {},
     "output_type": "execute_result"
    }
   ],
   "execution_count": 12
  },
  {
   "metadata": {},
   "cell_type": "markdown",
   "source": "### 일상 질문 복잡성 다양화 로직",
   "id": "4695f6b104dfb1a"
  },
  {
   "metadata": {
    "ExecuteTime": {
     "end_time": "2025-09-18T06:27:01.144261Z",
     "start_time": "2025-09-18T06:27:01.135605Z"
    }
   },
   "cell_type": "code",
   "source": [
    "complex = [\"구체적으로(ex. '오늘 간단하게 할 수 있는 취미가 뭐가 있을까?', '여름에 어울리는 시원한 음료 추천해줘.','마음이 편안해지는 방법')\", \"아주 짧고 간결하게 5~10글자 내로(ex. '안녕', '오늘 뭐하지', '오늘 운동 추천좀')\"]\n",
    "\n",
    "def pick_complex() -> str:\n",
    "    return random.choices(complex)[0]\n",
    "\n",
    "pick_complex()"
   ],
   "id": "4b181fecc0629e6a",
   "outputs": [
    {
     "data": {
      "text/plain": [
       "\"아주 짧고 간결하게 5~10글자 내로(ex. '안녕', '오늘 뭐하지', '오늘 운동 추천좀')\""
      ]
     },
     "execution_count": 13,
     "metadata": {},
     "output_type": "execute_result"
    }
   ],
   "execution_count": 13
  },
  {
   "metadata": {},
   "cell_type": "markdown",
   "source": "### 일상 질문 생성 체인",
   "id": "506890eacfe3d978"
  },
  {
   "metadata": {
    "ExecuteTime": {
     "end_time": "2025-09-18T06:27:02.389939Z",
     "start_time": "2025-09-18T06:27:02.381626Z"
    }
   },
   "cell_type": "code",
   "source": [
    "def simple_chain_setting():\n",
    "    # 표준 말투 유지 + 중복 표현 회피 보조\n",
    "    llm = ChatOpenAI(\n",
    "        model=\"gpt-4o-mini\",\n",
    "        temperature=0.3,\n",
    "        presence_penalty=0.6,   # 이미 썼던 표현 회피 유도\n",
    "        frequency_penalty=0.3,  # 반복 억제\n",
    "    )\n",
    "\n",
    "    basic_prompt = PromptTemplate.from_template(\n",
    "        \"\"\"\n",
    "다음은 '사내 직원이 챗봇(무생물)에게' 던질 **캐주얼 인사/잡담/가벼운 추천형** 1문장을 생성하는 작업입니다.\n",
    "\n",
    "[최우선 지시(원래 규칙 포함·강화)]\n",
    "- 문서/보고서/회사자료/회사정보/설정/보안/권한/기능 설명/도움말/사용법 관련 질문·요청 금지\n",
    "- 문서에 대해 물어보는 문장 절대 금지 (예: \"문서 보여줘\", \"보고서 찾아줘\", \"사내 자료 요약해줘\" 등)\n",
    "- 사람(동료/개인)에게 묻는 질문 금지\n",
    "  - 개인 경험/감정/계획 확인: \"주말에 뭐 할 계획이신가요?\", \"오늘 뭐했어?\", \"기분 어때?\", \"어제 어땠어?\"\n",
    "  - 2인칭 친소/경어형 질문: \"~했어?\", \"~하셨나요?\", \"~계신가요?\"\n",
    "  - 상호작용 요구(사람 기준): \"같이 ~할래요?\", \"우리 ~할까요?\"\n",
    "- 의도는 반드시 다음에 맞추세요: {intent}\n",
    "- 질문은 {complex} 만들어야 합니다.\n",
    "\n",
    "[허용 의도: 컴퓨터에게 할 법한 표현만]\n",
    "- 인사·가벼운 감상: \"안녕!\", \"오늘 날씨가 꿀꿀하네..\", \"날씨 좋네!\"\n",
    "- 가벼운 추천/요청: \"오늘 저녁 뭐 먹을까?\", \"퇴근 후 뭐 할까?\", \"주말에 뭐 하면 좋을까?\"\n",
    "\n",
    "[중복/유사도 회피]\n",
    "- 아래 {history}에 포함된 과거 문장/질문과 **동일하거나 매우 유사한 의미/어휘/어순**을 피하세요.\n",
    "- 특히 다음을 지키세요:\n",
    "  1) 과거 문장과 5-그램 연속 일치가 2회 이상 발생하지 않도록 표현을 바꾸세요.\n",
    "  2) 핵심 어휘의 최소 40% 이상을 **동의어/대체 표현**으로 교체하세요.\n",
    "  3) 문장 종결(어미)와 지시 동사를 바꿔 **표현 다양성**을 확보하세요. (예: \"~추천해줘\" 반복 금지)\n",
    "\n",
    "[출력 형식]\n",
    "- 한국어, **오직 1문장**만 출력 (설명/따옴표/불릿/접두어 금지)\n",
    "- 사람 대상 과도한 공손말 금지(\"~계신가요?\" 등)\n",
    "- 가능하면 컴퓨터 지시형 동사 사용: \"~알려줘\", \"~정해줘\", \"~골라줘\", \"~하나 뽑아줘\", \"~판단해줘\", \"~틀어줘\", \"~켜줘\" 등\n",
    "- **예시 문장들의 어휘/어순을 그대로 복사하지 마세요.**\n",
    "\n",
    "[대화내용(중복 회피 기준)]\n",
    "{history}\n",
    "\n",
    "[참고 예시(그대로 쓰지 말 것)]\n",
    "- 오늘 점심 뭐 먹을지 하나만 추천해줘.\n",
    "- 주말에 가볍게 할 만한 취미 하나 알려줘.\n",
    "- 오늘은 좀 피곤하네, 기분 전환용 음악 장르 하나 골라줘.\n",
    "- 퇴근 후 간단히 볼만한 영화 한 편만 추천해줘.\n",
    "- 요즘 날씨 오락가락하네, 우산 챙길지 판단 좀 도와줘.\n",
    "\n",
    "[원치 않는 출력(절대 금지)]\n",
    "- 요즘 날씨가 정말 좋네요, 주말에 뭘 할 계획이신가요?\n",
    "- 오늘 뭐했어?\n",
    "- 어제는 어디 다녀오셨어요?\n",
    "- 주말에 같이 등산 갈래요?\n",
    "\n",
    "위 모든 규칙을 지켜 **1문장만** 출력하세요.\n",
    "        \"\"\"\n",
    "    )\n",
    "\n",
    "    simple_chain = basic_prompt | llm | StrOutputParser()\n",
    "    return simple_chain\n"
   ],
   "id": "9830923d4bce8e67",
   "outputs": [],
   "execution_count": 14
  },
  {
   "metadata": {},
   "cell_type": "markdown",
   "source": "### 검색 쿼리 정제 체인",
   "id": "6a169bbd47a5cb4b"
  },
  {
   "metadata": {},
   "cell_type": "markdown",
   "source": "",
   "id": "38abc1c839d6fbb7"
  },
  {
   "metadata": {
    "ExecuteTime": {
     "end_time": "2025-09-18T06:27:04.050505Z",
     "start_time": "2025-09-18T06:27:04.043515Z"
    }
   },
   "cell_type": "code",
   "source": [
    "def query_setting_for_internal_documents():\n",
    "    llm = ChatOpenAI(\n",
    "        model=\"gpt-4o-mini\",\n",
    "        temperature=0,\n",
    "        model_kwargs={\"response_format\": {\"type\": \"json_object\"}},\n",
    "    )\n",
    "\n",
    "    query_prompt = PromptTemplate.from_template(\n",
    "        \"\"\"\n",
    "       유저의 채팅 히스토리가 주어집니다.\n",
    "\n",
    "       **중요**: 이전 대화 맥락을 반드시 고려해서, 사내 문서 검색에 적합한 쿼리를 생성하세요.\n",
    "       - 현재 대화가 이전 대화와 연관되어 있다면, 이전 맥락을 반영하여 문서 검색을 위한 구체적인 쿼리를 만들어주세요.\n",
    "\n",
    "       **복잡한 질문을 어떻게 정제하고 분리할지에 대한 예시**:\n",
    "       1. 사용자가 \"API 서버의 설정과 관련된 문서와, 데이터베이스 연결 방법에 대해 알고 싶어.\"라고 물었을 경우:\n",
    "          - **정제된 쿼리**: \"API 서버 설정 방법\"과 \"데이터베이스 연결 방법\"\n",
    "          - 이처럼 복잡한 질문을 각각 분리하여 **개별적인 검색 쿼리**를 생성해야 합니다.\n",
    "\n",
    "       2. 사용자가 \"사내 보상 정책과 휴가 정책을 한 번에 찾아볼 수 있을까?\"라고 물었을 경우:\n",
    "          - **정제된 쿼리**: \"사내 보상 정책\"과 \"사내 휴가 정책\"\n",
    "          - 질문이 하나지만 여러 부분으로 나눠서 **별개의 쿼리**를 생성합니다.\n",
    "\n",
    "       3. 사용자가 \"다음 프로젝트의 개발 환경과 관련된 문서, 그리고 테스팅 방법에 대해 알려줘.\"라고 물었을 경우:\n",
    "          - **정제된 쿼리**: \"다음 프로젝트의 개발 환경\"과 \"테스팅 방법\"\n",
    "          - 복잡한 주제일 경우, 각 주제별로 **검색 쿼리**를 명확하게 분리합니다.\n",
    "\n",
    "        4. 사용자가 이전 대화에서 \"사내 휴가 정책이 어떻게 돼?\"라고 물어보고 나서 답변을 받고 나서, \"좀 더 자세히 알려줘. 그리고 인사 정책도 알려줘.\"라고 물었을 경우:\n",
    "          - **정제된 쿼리**: \"사내 휴가 정책에 대한 자세한 내용\"과 \"사내 인사 정책\"\n",
    "          - 이전 대화 내역과 이번 질문의 맥락을 고려하여 **검색 쿼리**를 생성합니다.\n",
    "\n",
    "       **주의사항**:\n",
    "       - 이전 대화에서 이미 답변이 나온 질문에 대해서는 다시 질문을 만들지 마세요.\n",
    "       - 쿼리는 1개 또는 여러 개일 수 있습니다.\n",
    "\n",
    "       대화 히스토리: {history}\n",
    "\n",
    "       JSON 반환 형태:\n",
    "       {{\"queries\": [\"사내 문서 검색 쿼리 1\", \"사내 문서 검색 쿼리 2\", ...]}}\n",
    "       \"\"\"\n",
    "    )\n",
    "\n",
    "    # 이후 이 부분에 실제로 대화 히스토리를 기반으로 쿼리들을 생성하는 로직이 들어갈 것입니다.\n",
    "    query_chain = query_prompt | llm | StrOutputParser()\n",
    "\n",
    "    return query_chain"
   ],
   "id": "2828d656992e30a9",
   "outputs": [],
   "execution_count": 15
  },
  {
   "metadata": {
    "ExecuteTime": {
     "end_time": "2025-09-18T06:27:05.782089Z",
     "start_time": "2025-09-18T06:27:05.336805Z"
    }
   },
   "cell_type": "code",
   "source": [
    "question_chain = question_chain_setting()\n",
    "query_chain = query_setting_for_internal_documents()\n",
    "simple_chain = simple_chain_setting()"
   ],
   "id": "5f2884b84dece916",
   "outputs": [],
   "execution_count": 16
  },
  {
   "metadata": {},
   "cell_type": "markdown",
   "source": "### 기존 학습 데이터에 있는 초기 일상 질문 리스트",
   "id": "821d9da6733f6c10"
  },
  {
   "metadata": {
    "ExecuteTime": {
     "end_time": "2025-09-18T07:26:35.774719Z",
     "start_time": "2025-09-18T07:26:35.749271Z"
    }
   },
   "cell_type": "code",
   "source": [
    "hello_list = ['안녕!', '반가워!', '안녕하세요!', '오늘 날씨가 꿀꿀하네..', '반가워용', '반갑습니다',\n",
    " '안녕', '반가워', '안녕하세요', '반갑습니다', '날씨 좋네!', '요즘 날씨가 정말 변덕스럽네.',\n",
    " '오늘 점심 메뉴 추천해줘.', '오늘 저녁 뭐 먹을까?', '오늘 퇴근 후 뭐 할까?', '주말에 뭐 할지 고민 중이야.',\n",
    " '오늘은 좀 피곤하네.', '이번 주 주말에 뭐 할까?', '오늘 뭐 할지 모르겠어.', '요즘 뭐 재미있는 거 있어?',\n",
    " '주말에 영화 볼까?', '오늘 기분이 좀 이상해.', '이따가 뭐 먹을까?']\n",
    "\n",
    "hello_list2 = ['오늘 기분이 어떤지 궁금해!',\n",
    " '요즘 인기 있는 음악 추천해 줄래?',\n",
    " '좋은 영화 있으면 알려줘!',\n",
    " '요즘 트렌드인 패션 아이템 뭐가 있을까?',\n",
    " '사무실에서 듣기 좋은 팟캐스트 추천해 줄 수 있어',\n",
    " '휴식 시간에 할 만한 간단한 게임 있으면 알려줘!',\n",
    " '최근에 화제가 된 뉴스는 뭐가 있을까?',\n",
    " '오늘 날씨 어때?',\n",
    " '내가 가볼 만한 여행지 추천해 줘!',\n",
    " '재밌는 책 읽고 싶은데, 추천할 만한 거 있어?',\n",
    " '요즘 인기 있는 TV 프로그램 있으면 알려줘!',\n",
    " '간단한 요리 레시피 알려줄래?',\n",
    " '주말에 놀러 갈 만한 장소 추천해 줘!',\n",
    " '요즘 핫한 카페나 맛집 정보 있으면 알려줘!',\n",
    " '기분 전환할 만한 좋은 방법이 있을까?',\n",
    " '새로운 취미를 시작해 보고 싶은데 뭐가 좋을까?',\n",
    " '사무실에 어울리는 음악 플레이리스트 추천해 줘!',\n",
    " '감동적인 영화 있으면 한 편 추천해 줘!',\n",
    " '인기 있는 앱이나 웹사이트 알려줄래?',\n",
    " '오늘의 긍정적인 메시지 하나 던져 줄래?',\n",
    " '가벼운 스트레칭 방법 추천해 줘!',\n",
    " '재밌는 유튜브 채널 알려줄 수 있어?',\n",
    " '감상할 만한 미술 전시회 있으면 추천해 줘!',\n",
    " '건강한 스낵 아이디어가 있다면 알려줘!',\n",
    " '요즘 사람들 사이에서 인기 있는 활동이 뭐지?',\n",
    " '오늘 날씨 어때?',\n",
    " '요즘 핫한 영화 추천해줄 수 있어?',\n",
    " '좋아하는 음악 있으면 알려줘!',\n",
    " '최근에 나온 책 중에 읽어볼 만한 거 있어?',\n",
    " '어떤 유튜브 채널 재미있어?',\n",
    " '오늘 기분 좋게 해줄 만한 명언 하나 알려줘!',\n",
    " '나에게 어울리는 디저트 추천해줘!',\n",
    " '주말에 할 만한 활동이 있을까?',\n",
    " '요즘 인기 있는 드라마 뭐야?',\n",
    " '나랑 잘 맞는 취미가 뭐라고 생각해?',\n",
    " '스트레스 해소하는 방법 몇 가지 알려줘!',\n",
    " '재미있는 팟캐스트 추천해줄래?',\n",
    " '다음에 가볼 만한 여행지 있으면 알려줘!',\n",
    " '내가 좋아할 만한 게임 뭐 있을까?',\n",
    " '나에게 맞는 카페 스타일은 뭐일까?',\n",
    " '요즘 트렌디한 패션 아이템 추천해줘!',\n",
    " '분위기 좋은 음악 추천해줄 수 있어?',\n",
    " '나한테 어울리는 색상은 뭐라고 생각해?',\n",
    " '새로운 레시피 하나 추천해줘!',\n",
    " '가끔 찾고 싶은 동기부여 영상 있어?',\n",
    " '앞으로 주목할 만한 기술 트렌드 뭐가 있을까?',\n",
    " '요즘 유행하는 운동 방법 알려줘!',\n",
    " '내가 좋아할 만한 SNS 계정 있으면 추천해줘!',\n",
    " '나에게 어울릴 것 같은 차 한 잔 추천해줘!',\n",
    " '여름에 듣기 좋은 음악 리스트 만들어줄래?',\n",
    " '오늘 기분 좋은 음악 추천해줄 수 있어?',\n",
    " '최근에 인기 있는 영화 어떤 게 있을까?',\n",
    " '요즘 핫한 책 제목 좀 알려줘!',\n",
    " '주말에 하기 좋은 취미 활동은 뭐가 있을까?',\n",
    " '새로운 팟캐스트 추천해줄 수 있어?',\n",
    " '가볍게 읽기 좋은 웹툰 뭐가 있을까?',\n",
    " '요즘 유행하는 요리법 알고 있어?',\n",
    " '최근에 나온 게임 중에 추천할 만한 게 있을까?',\n",
    " '오늘의 날씨에 딱 맞는 음악이 있을까?',\n",
    " '스트레스 풀기 좋은 영화 한 편 추천해줘!',\n",
    " '출퇴근길에 듣기 좋은 음악 리스트 좀 만들어줄래?',\n",
    " '여름에 가기 좋은 여행지 추천해줄 수 있어?  ',\n",
    " '기분 전환에 좋은 활동 뭐가 있을까?  ',\n",
    " '맛있는 디저트 레시피 알고 있어?  ',\n",
    " '친구한테 선물하기 좋은 아이템 추천해줘!  ',\n",
    " '요즘 사람들이 많이 하는 운동 뭐가 있을까?  ',\n",
    " '겨울에 추천하는 따뜻한 음료는 뭐가 있을까?  ',\n",
    " '새로운 앱 중에 유용한 거 있어?  ',\n",
    " '주말에 볼 만한 드라마 추천해줄 수 있어?  ',\n",
    " '간단하게 만들 수 있는 스낵 레시피 알고 있어?  ',\n",
    " '특별한 날에 어울리는 배경 음악 추천해줘!  ',\n",
    " '근사한 카페 정보 좀 알려줄 수 있어?  ',\n",
    " '요즘 인싸템으로 뭐가 유행하고 있어?  ',\n",
    " '간단한 자기계발 팁 알려줄 수 있어?  ',\n",
    " '혼자 여행하기 좋은 장소 추천해줘!',\n",
    " '오늘 기분이 어떤지 알려줄 수 있어?  ',\n",
    " '요즘 인기 있는 영화 추천해 줄래?  ',\n",
    " '좋은 책이 있으면 소개해 줘.  ',\n",
    " '최신 음악 트렌드 좀 알려줄래?  ',\n",
    " '요즘 날씨가 어떤지 궁금해.  ',\n",
    " '가벼운 운동 추천해 줄 수 있어?  ',\n",
    " '주말에 할 만한 액티비티가 뭐가 있을까?  ',\n",
    " '스트레스 푸는 방법 좀 알려줘.  ',\n",
    " '취미로 하기 좋은 것 추천해 줄 수 있어?  ',\n",
    " '간단한 요리 레시피 하나 알려줘.  ',\n",
    " '최근에 인기 있는 앱 있으면 추천해 줘.  ',\n",
    " '여행지로 가기 좋은 곳이 어디일까?  ',\n",
    " '친구한테 선물하기 좋은 아이템 뭐가 있을까?  ',\n",
    " '이 계절에 가볼 만한 카페 있어?  ',\n",
    " '요즘 유행하는 패션 트렌드가 뭐야?  ',\n",
    " '마음에 드는 음악 장르 추천해줘.  ',\n",
    " '편안하게 쉴 수 있는 장소가 있을까?  ',\n",
    " '영화관에서 볼 만한 좋은 영화가 뭐야?  ',\n",
    " '효과적인 공부 방법 좀 알려줄 수 있어?  ',\n",
    " '최근에 본 뉴스 중 재미있는 거 있어?  ',\n",
    " '간단하게 즐길 수 있는 게임 추천해 줘.  ',\n",
    " '긴장을 푸는 방법 뭐가 있을까?  ',\n",
    " '자기계발에 좋은 강좌 추천해 줄래?  ',\n",
    " '나만의 루틴 만들기에 대한 팁이 있을까?  ',\n",
    " '일상에서 행복을 느끼게 해주는 작은 것들이 뭐가 있을까?',\n",
    " '오늘 날씨 어때?  ',\n",
    " '요즘 인기 있는 영화 추천해줘.  ',\n",
    " '좋은 음악 플레이리스트 있으면 공유해줘.  ',\n",
    " '최근 트렌드 중에서 뭐가 제일 흥미로워 보여?  ',\n",
    " '주말에 가볼 만한 장소 추천해줄래?  ',\n",
    " '재미있는 팟캐스트 있으면 알려줘.  ',\n",
    " '요즘 읽기 좋은 책 있으면 추천해줘.  ',\n",
    " '차 한 잔 할 만한 카페 추천해줘.  ',\n",
    " '요즘 즐겨 보는 TV 프로그램은 뭐야?  ',\n",
    " '좋은 요리 레시피 있으면 알려줘.  ',\n",
    " '이런 날씨에 어울리는 음악은 뭐야?  ',\n",
    " '웹툰 중에서 추천할 만한 게 있어?  ',\n",
    " '최근에 인기 있는 게임 뭐가 있는지 알고 싶어.  ',\n",
    " '좋은 운동 방법이나 루틴이 있으면 알려줘.  ',\n",
    " '기분 전환에 좋은 활동 추천해줘.  ',\n",
    " '친구에게 선물할 만한 아이템 있을까?  ',\n",
    " '오늘 하루 마무리하는 좋은 방법이 있을까?  ',\n",
    " '제철 음식 중에 추천할 만한 것이 뭐야?  ',\n",
    " '기분이 좋을 때 듣기 좋은 음악은 뭐야?  ',\n",
    " '이색적인 여행지 추천해줄 수 있어?  ',\n",
    " '재미있는 일화나 유머가 있으면 들려줘.  ',\n",
    " '나만의 루틴을 만드는 데 도움이 될 만한 조언이 있을까?  ',\n",
    " '간단하게 할 수 있는 취미가 뭐가 있을까?  ',\n",
    " '여름에 어울리는 시원한 음료 추천해줘.  ',\n",
    " '마음이 편안해지는 방법이 있을까?',\n",
    " '오늘 날씨가 좋은데, 어떤 기분이 드는지 궁금해!  ',\n",
    " '요즘 가장 인기 있는 영화가 뭐인지 알고 있어?  ',\n",
    " '내가 한번 읽어볼 만한 좋은 책 추천해줄래?  ',\n",
    " '이 음악 어떤 느낌인지 한번 들어보고 싶어!  ',\n",
    " '여행 가기 좋은 곳이 어디인지 알려줄 수 있어?  ',\n",
    " '최근에 유행하는 패션 아이템이 뭐인지 궁금해!  ',\n",
    " '지금 듣고 있는 노래의 분위기가 어때?  ',\n",
    " '좋은 카페가 있으면 추천해줄 수 있어?  ',\n",
    " '요즘 핫한 레스토랑은 어디인지 알고 있어?  ',\n",
    " '요즘 인기 있는 게임 좀 알려줄래?  ',\n",
    " '내가 할 만한 취미 활동이 뭐가 있을까?  ',\n",
    " '최근에 재밌게 본 유튜브 채널이 뭐야?  ',\n",
    " '요즘 뜨고 있는 TV 프로그램이 있다면 뭐지?  ',\n",
    " '다양한 커피 종류 중 어떤 게 맛있을까?  ',\n",
    " '네가 추천하는 간식은 뭐야?  ',\n",
    " '최근에 본 전시회 중에서 추천할 만한 게 있을까?  ',\n",
    " '자주 가는 운동이 있으면 알려줄 수 있어?  ',\n",
    " '유명한 디저트 카페가 있다면 추천해줘!  ',\n",
    " '좋은 음악 추천해주면 듣고 싶어!  ',\n",
    " '주말에 할 만한 재미있는 활동이 있을까?  ',\n",
    " '요즘 보고 싶은 애니메이션이 있다면 뭐지?  ',\n",
    " '감명 깊었던 다큐멘터리 추천해줄 수 있어?  ',\n",
    " '혼자서 볼 수 있는 시리즈가 있다면 뭐가 좋을까?  ',\n",
    " '최근에 유행하는 패션 스타일이 있다면 알려줘!  ',\n",
    " '가볍게 할 수 있는 게임 중에서 추천할 만한 게 있을까?']\n",
    "\n",
    "hello_list3 = []\n",
    "\n",
    "for hello in hello_list2:\n",
    "    hello = hello.strip()\n",
    "    hello_list3.append(hello)\n",
    "\n",
    "\n",
    "hello_list = hello_list3 + hello_list\n",
    "hello_list\n"
   ],
   "id": "a6333f8ff575f555",
   "outputs": [
    {
     "data": {
      "text/plain": [
       "['오늘 기분이 어떤지 궁금해!',\n",
       " '요즘 인기 있는 음악 추천해 줄래?',\n",
       " '좋은 영화 있으면 알려줘!',\n",
       " '요즘 트렌드인 패션 아이템 뭐가 있을까?',\n",
       " '사무실에서 듣기 좋은 팟캐스트 추천해 줄 수 있어',\n",
       " '휴식 시간에 할 만한 간단한 게임 있으면 알려줘!',\n",
       " '최근에 화제가 된 뉴스는 뭐가 있을까?',\n",
       " '오늘 날씨 어때?',\n",
       " '내가 가볼 만한 여행지 추천해 줘!',\n",
       " '재밌는 책 읽고 싶은데, 추천할 만한 거 있어?',\n",
       " '요즘 인기 있는 TV 프로그램 있으면 알려줘!',\n",
       " '간단한 요리 레시피 알려줄래?',\n",
       " '주말에 놀러 갈 만한 장소 추천해 줘!',\n",
       " '요즘 핫한 카페나 맛집 정보 있으면 알려줘!',\n",
       " '기분 전환할 만한 좋은 방법이 있을까?',\n",
       " '새로운 취미를 시작해 보고 싶은데 뭐가 좋을까?',\n",
       " '사무실에 어울리는 음악 플레이리스트 추천해 줘!',\n",
       " '감동적인 영화 있으면 한 편 추천해 줘!',\n",
       " '인기 있는 앱이나 웹사이트 알려줄래?',\n",
       " '오늘의 긍정적인 메시지 하나 던져 줄래?',\n",
       " '가벼운 스트레칭 방법 추천해 줘!',\n",
       " '재밌는 유튜브 채널 알려줄 수 있어?',\n",
       " '감상할 만한 미술 전시회 있으면 추천해 줘!',\n",
       " '건강한 스낵 아이디어가 있다면 알려줘!',\n",
       " '요즘 사람들 사이에서 인기 있는 활동이 뭐지?',\n",
       " '오늘 날씨 어때?',\n",
       " '요즘 핫한 영화 추천해줄 수 있어?',\n",
       " '좋아하는 음악 있으면 알려줘!',\n",
       " '최근에 나온 책 중에 읽어볼 만한 거 있어?',\n",
       " '어떤 유튜브 채널 재미있어?',\n",
       " '오늘 기분 좋게 해줄 만한 명언 하나 알려줘!',\n",
       " '나에게 어울리는 디저트 추천해줘!',\n",
       " '주말에 할 만한 활동이 있을까?',\n",
       " '요즘 인기 있는 드라마 뭐야?',\n",
       " '나랑 잘 맞는 취미가 뭐라고 생각해?',\n",
       " '스트레스 해소하는 방법 몇 가지 알려줘!',\n",
       " '재미있는 팟캐스트 추천해줄래?',\n",
       " '다음에 가볼 만한 여행지 있으면 알려줘!',\n",
       " '내가 좋아할 만한 게임 뭐 있을까?',\n",
       " '나에게 맞는 카페 스타일은 뭐일까?',\n",
       " '요즘 트렌디한 패션 아이템 추천해줘!',\n",
       " '분위기 좋은 음악 추천해줄 수 있어?',\n",
       " '나한테 어울리는 색상은 뭐라고 생각해?',\n",
       " '새로운 레시피 하나 추천해줘!',\n",
       " '가끔 찾고 싶은 동기부여 영상 있어?',\n",
       " '앞으로 주목할 만한 기술 트렌드 뭐가 있을까?',\n",
       " '요즘 유행하는 운동 방법 알려줘!',\n",
       " '내가 좋아할 만한 SNS 계정 있으면 추천해줘!',\n",
       " '나에게 어울릴 것 같은 차 한 잔 추천해줘!',\n",
       " '여름에 듣기 좋은 음악 리스트 만들어줄래?',\n",
       " '오늘 기분 좋은 음악 추천해줄 수 있어?',\n",
       " '최근에 인기 있는 영화 어떤 게 있을까?',\n",
       " '요즘 핫한 책 제목 좀 알려줘!',\n",
       " '주말에 하기 좋은 취미 활동은 뭐가 있을까?',\n",
       " '새로운 팟캐스트 추천해줄 수 있어?',\n",
       " '가볍게 읽기 좋은 웹툰 뭐가 있을까?',\n",
       " '요즘 유행하는 요리법 알고 있어?',\n",
       " '최근에 나온 게임 중에 추천할 만한 게 있을까?',\n",
       " '오늘의 날씨에 딱 맞는 음악이 있을까?',\n",
       " '스트레스 풀기 좋은 영화 한 편 추천해줘!',\n",
       " '출퇴근길에 듣기 좋은 음악 리스트 좀 만들어줄래?',\n",
       " '여름에 가기 좋은 여행지 추천해줄 수 있어?',\n",
       " '기분 전환에 좋은 활동 뭐가 있을까?',\n",
       " '맛있는 디저트 레시피 알고 있어?',\n",
       " '친구한테 선물하기 좋은 아이템 추천해줘!',\n",
       " '요즘 사람들이 많이 하는 운동 뭐가 있을까?',\n",
       " '겨울에 추천하는 따뜻한 음료는 뭐가 있을까?',\n",
       " '새로운 앱 중에 유용한 거 있어?',\n",
       " '주말에 볼 만한 드라마 추천해줄 수 있어?',\n",
       " '간단하게 만들 수 있는 스낵 레시피 알고 있어?',\n",
       " '특별한 날에 어울리는 배경 음악 추천해줘!',\n",
       " '근사한 카페 정보 좀 알려줄 수 있어?',\n",
       " '요즘 인싸템으로 뭐가 유행하고 있어?',\n",
       " '간단한 자기계발 팁 알려줄 수 있어?',\n",
       " '혼자 여행하기 좋은 장소 추천해줘!',\n",
       " '오늘 기분이 어떤지 알려줄 수 있어?',\n",
       " '요즘 인기 있는 영화 추천해 줄래?',\n",
       " '좋은 책이 있으면 소개해 줘.',\n",
       " '최신 음악 트렌드 좀 알려줄래?',\n",
       " '요즘 날씨가 어떤지 궁금해.',\n",
       " '가벼운 운동 추천해 줄 수 있어?',\n",
       " '주말에 할 만한 액티비티가 뭐가 있을까?',\n",
       " '스트레스 푸는 방법 좀 알려줘.',\n",
       " '취미로 하기 좋은 것 추천해 줄 수 있어?',\n",
       " '간단한 요리 레시피 하나 알려줘.',\n",
       " '최근에 인기 있는 앱 있으면 추천해 줘.',\n",
       " '여행지로 가기 좋은 곳이 어디일까?',\n",
       " '친구한테 선물하기 좋은 아이템 뭐가 있을까?',\n",
       " '이 계절에 가볼 만한 카페 있어?',\n",
       " '요즘 유행하는 패션 트렌드가 뭐야?',\n",
       " '마음에 드는 음악 장르 추천해줘.',\n",
       " '편안하게 쉴 수 있는 장소가 있을까?',\n",
       " '영화관에서 볼 만한 좋은 영화가 뭐야?',\n",
       " '효과적인 공부 방법 좀 알려줄 수 있어?',\n",
       " '최근에 본 뉴스 중 재미있는 거 있어?',\n",
       " '간단하게 즐길 수 있는 게임 추천해 줘.',\n",
       " '긴장을 푸는 방법 뭐가 있을까?',\n",
       " '자기계발에 좋은 강좌 추천해 줄래?',\n",
       " '나만의 루틴 만들기에 대한 팁이 있을까?',\n",
       " '일상에서 행복을 느끼게 해주는 작은 것들이 뭐가 있을까?',\n",
       " '오늘 날씨 어때?',\n",
       " '요즘 인기 있는 영화 추천해줘.',\n",
       " '좋은 음악 플레이리스트 있으면 공유해줘.',\n",
       " '최근 트렌드 중에서 뭐가 제일 흥미로워 보여?',\n",
       " '주말에 가볼 만한 장소 추천해줄래?',\n",
       " '재미있는 팟캐스트 있으면 알려줘.',\n",
       " '요즘 읽기 좋은 책 있으면 추천해줘.',\n",
       " '차 한 잔 할 만한 카페 추천해줘.',\n",
       " '요즘 즐겨 보는 TV 프로그램은 뭐야?',\n",
       " '좋은 요리 레시피 있으면 알려줘.',\n",
       " '이런 날씨에 어울리는 음악은 뭐야?',\n",
       " '웹툰 중에서 추천할 만한 게 있어?',\n",
       " '최근에 인기 있는 게임 뭐가 있는지 알고 싶어.',\n",
       " '좋은 운동 방법이나 루틴이 있으면 알려줘.',\n",
       " '기분 전환에 좋은 활동 추천해줘.',\n",
       " '친구에게 선물할 만한 아이템 있을까?',\n",
       " '오늘 하루 마무리하는 좋은 방법이 있을까?',\n",
       " '제철 음식 중에 추천할 만한 것이 뭐야?',\n",
       " '기분이 좋을 때 듣기 좋은 음악은 뭐야?',\n",
       " '이색적인 여행지 추천해줄 수 있어?',\n",
       " '재미있는 일화나 유머가 있으면 들려줘.',\n",
       " '나만의 루틴을 만드는 데 도움이 될 만한 조언이 있을까?',\n",
       " '간단하게 할 수 있는 취미가 뭐가 있을까?',\n",
       " '여름에 어울리는 시원한 음료 추천해줘.',\n",
       " '마음이 편안해지는 방법이 있을까?',\n",
       " '오늘 날씨가 좋은데, 어떤 기분이 드는지 궁금해!',\n",
       " '요즘 가장 인기 있는 영화가 뭐인지 알고 있어?',\n",
       " '내가 한번 읽어볼 만한 좋은 책 추천해줄래?',\n",
       " '이 음악 어떤 느낌인지 한번 들어보고 싶어!',\n",
       " '여행 가기 좋은 곳이 어디인지 알려줄 수 있어?',\n",
       " '최근에 유행하는 패션 아이템이 뭐인지 궁금해!',\n",
       " '지금 듣고 있는 노래의 분위기가 어때?',\n",
       " '좋은 카페가 있으면 추천해줄 수 있어?',\n",
       " '요즘 핫한 레스토랑은 어디인지 알고 있어?',\n",
       " '요즘 인기 있는 게임 좀 알려줄래?',\n",
       " '내가 할 만한 취미 활동이 뭐가 있을까?',\n",
       " '최근에 재밌게 본 유튜브 채널이 뭐야?',\n",
       " '요즘 뜨고 있는 TV 프로그램이 있다면 뭐지?',\n",
       " '다양한 커피 종류 중 어떤 게 맛있을까?',\n",
       " '네가 추천하는 간식은 뭐야?',\n",
       " '최근에 본 전시회 중에서 추천할 만한 게 있을까?',\n",
       " '자주 가는 운동이 있으면 알려줄 수 있어?',\n",
       " '유명한 디저트 카페가 있다면 추천해줘!',\n",
       " '좋은 음악 추천해주면 듣고 싶어!',\n",
       " '주말에 할 만한 재미있는 활동이 있을까?',\n",
       " '요즘 보고 싶은 애니메이션이 있다면 뭐지?',\n",
       " '감명 깊었던 다큐멘터리 추천해줄 수 있어?',\n",
       " '혼자서 볼 수 있는 시리즈가 있다면 뭐가 좋을까?',\n",
       " '최근에 유행하는 패션 스타일이 있다면 알려줘!',\n",
       " '가볍게 할 수 있는 게임 중에서 추천할 만한 게 있을까?',\n",
       " '안녕!',\n",
       " '반가워!',\n",
       " '안녕하세요!',\n",
       " '오늘 날씨가 꿀꿀하네..',\n",
       " '반가워용',\n",
       " '반갑습니다',\n",
       " '안녕',\n",
       " '반가워',\n",
       " '안녕하세요',\n",
       " '반갑습니다',\n",
       " '날씨 좋네!',\n",
       " '요즘 날씨가 정말 변덕스럽네.',\n",
       " '오늘 점심 메뉴 추천해줘.',\n",
       " '오늘 저녁 뭐 먹을까?',\n",
       " '오늘 퇴근 후 뭐 할까?',\n",
       " '주말에 뭐 할지 고민 중이야.',\n",
       " '오늘은 좀 피곤하네.',\n",
       " '이번 주 주말에 뭐 할까?',\n",
       " '오늘 뭐 할지 모르겠어.',\n",
       " '요즘 뭐 재미있는 거 있어?',\n",
       " '주말에 영화 볼까?',\n",
       " '오늘 기분이 좀 이상해.',\n",
       " '이따가 뭐 먹을까?']"
      ]
     },
     "execution_count": 1,
     "metadata": {},
     "output_type": "execute_result"
    }
   ],
   "execution_count": 1
  },
  {
   "metadata": {},
   "cell_type": "markdown",
   "source": "### 학습 데이터 생성함수",
   "id": "612bf01919a33cf1"
  },
  {
   "cell_type": "code",
   "id": "8a3d8ed45acbadab",
   "metadata": {
    "ExecuteTime": {
     "end_time": "2025-09-18T06:27:11.958256Z",
     "start_time": "2025-09-18T06:27:11.943934Z"
    }
   },
   "source": [
    "tool_prompt = \"\"\"\n",
    "사용자는 cto로서, 모든 팀의 문서를 열람할 수 있는 개발팀 최고 관리자입니다.\n",
    "당신은 <tools></tools> 안에 있는 tool을 호출하여 문서를 검색할 수 있습니다.\n",
    "일상적인 질문(ex: 안녕, 안녕하세요, 반가워 등)의 경우, tool 호출 없이 바로 답변하세요.\n",
    "\n",
    "# Tools\n",
    "\n",
    "You may call one or more functions to assist with the user query.\n",
    "\n",
    "You are provided with function signatures within <tools></tools> XML tags:\n",
    "<tools>\n",
    "{\"type\": \"function\", \"function\": {\"name\": \"cto_search\", \"description\": \"사내 문서 검색을 위한 도구입니다. 대화 내역을 바탕으로 사용자가 원하는 문서를 찾고, 관련된 문서를 반환합니다.\", \"parameters\": {\"type\": \"object\", \"properties\": {\"keyword\": {\"type\": \"string\", \"description\": \"검색할 문서 키워드 (예: \\'코드노바 API 서버 설정\\')\"}}, \"required\": [\"keyword\"], \"additionalProperties\": false}}}\n",
    "</tools>\n",
    "\n",
    "For each function call, return a json object with function name and arguments within <tool_call></tool_call> XML tags:\n",
    "<tool_call>\n",
    "{\"name\": <function-name>, \"arguments\": <args-json-object>}'\n",
    "</tool_call>\n",
    "\"\"\"\n",
    "\n",
    "\n",
    "system_message = f\"\"\"\n",
    "당신은 사내 지식을 활용하여 사용자의 질문에 정확하고 유용한 답변을 제공하는 코드노바의 사내 문서 AI 챗봇입니다.\n",
    "\n",
    "{tool_prompt}\n",
    "\n",
    "그리고 다음 지침을 반드시 따르세요:\n",
    "1. 기존의 말투는 잊고 정중하고 사무적인 어조로 답변해야 하세요.\n",
    "2. 대화 내역의 말투도 참고하지 말고 무조건 정중하고 사무적인 어조로 답변하세요\n",
    "3. 사실에 기반한 정보를 사용하세요.\n",
    "4. 사용자의 질문에 대한 답변을 문서에서 찾을 수 없을 경우, \"잘 모르겠습니다\"라고 솔직하게 말하세요.\n",
    "5. 사용자가 문서에 대한 질문이 아닌, \"안녕\"과 같은 일상적인 질문을 한다면 해당 내용에 대해서 적절히 답변해주세요.\n",
    "6. 답변이 너무 길지 않게 하세요.\n",
    "7. 사용자의 말투와 상관 없이, 반드시 정중하고 사무적인 어조로 답변해야 합니다.\n",
    "\"\"\"\n",
    "\n",
    "SYSTEM_PROMPT = {\n",
    "    \"role\": \"system\",\n",
    "    \"content\": system_message\n",
    "}\n",
    "\n",
    "def parse_queries(resp_text: str, fallback: str) -> list[str]:\n",
    "    try:\n",
    "        obj = json.loads(resp_text)\n",
    "    except json.JSONDecodeError:\n",
    "        return [fallback]\n",
    "    q = obj.get(\"queries\", fallback)\n",
    "    if isinstance(q, str):\n",
    "        q = [q]\n",
    "    elif isinstance(q, list):\n",
    "        q = [s.strip() for s in q if isinstance(s, str) and s.strip()]\n",
    "    else:\n",
    "        q = [fallback]\n",
    "    return q or [fallback]\n",
    "\n",
    "def generate_one_chat_sample(initial_q: str, max_turns: int = 5):\n",
    "    messages = [SYSTEM_PROMPT]\n",
    "    current_q = initial_q\n",
    "\n",
    "    query = True\n",
    "\n",
    "    for turn in range(randint(2, max_turns + 1)):\n",
    "        # (1) User 질문 추가\n",
    "        messages.append({\"role\": \"user\", \"content\": current_q})\n",
    "        print(current_q)\n",
    "\n",
    "        if current_q not in hello_list and query:\n",
    "            response = query_chain.invoke({\"history\": messages})\n",
    "            questions = parse_queries(response, fallback=current_q)\n",
    "\n",
    "            tool_calls = []\n",
    "            tool_responses = []\n",
    "            for question in questions:\n",
    "                tool_calls.append(f\"<tool_call>{{\\\"name\\\": \\\"cto_search\\\", \\\"arguments\\\": {{\\\"keyword\\\": \\\"{question}\\\"}}}}</tool_call>\")\n",
    "\n",
    "                # (2) 문서 검색 (vectorstore에서)\n",
    "                k = randint(4,8)\n",
    "                docs = vectorstore.similarity_search(question, k=k)\n",
    "                if docs:\n",
    "                    ref_text = \"\\n\".join([f\"{doc.page_content} [[ref{idx+1}]]\" for idx, doc in enumerate(docs)])\n",
    "                else:\n",
    "                    ref_text = \"검색 결과가 없습니다.\"\n",
    "                ref_text = f\"검색 결과:\\n-----\\n{ref_text}\"\n",
    "                tool_responses.append(f\"<tool_response>{ref_text}</tool_response>\")\n",
    "            tool_call = \"\\n\".join(tool_calls).strip()\n",
    "            tool_response = \"\\n\".join(tool_responses).strip()\n",
    "\n",
    "            if tool_call:\n",
    "                messages.append({\"role\": \"assistant\", \"content\": tool_call})\n",
    "            if tool_response:\n",
    "                messages.append({\"role\": \"user\", \"content\": tool_response})\n",
    "\n",
    "        # (3) assistant 답변 (GPT로 RAG)\n",
    "        response = client.chat.completions.create(\n",
    "            model=\"gpt-4.1-mini\",\n",
    "            messages=messages,\n",
    "            temperature=0.2\n",
    "        )\n",
    "        assistant_reply = (response.choices[0].message.content or \"\").strip()\n",
    "        # [Fix-4] 비어 있으면 기본 문구로 대체(선택)\n",
    "        if not assistant_reply:\n",
    "            assistant_reply = \"요청하신 내용과 관련된 정보를 찾지 못했습니다. 다른 키워드로 다시 말씀해 주시면 확인하겠습니다.\"\n",
    "        messages.append({\"role\": \"assistant\", \"content\": assistant_reply})\n",
    "\n",
    "        # 다음 질문 생성 여부 랜덤 (5턴이 max면 4턴 미만일때만 질문 생성)\n",
    "        if turn < max_turns - 1 and choice([True, False]):\n",
    "            if choice([True, False]):\n",
    "                complex1 = pick_complex2()\n",
    "                followup = question_chain.invoke({\n",
    "                \"history\": messages,\"complex\": complex1\n",
    "            })\n",
    "                current_q = followup\n",
    "                query = True\n",
    "            else:\n",
    "                intent = pick_intent()\n",
    "                complex2 = pick_complex()\n",
    "                followup = simple_chain.invoke({\"history\": messages, \"intent\": intent, \"complex\": complex2})\n",
    "                current_q = followup\n",
    "                query = False\n",
    "        else:\n",
    "            break\n",
    "\n",
    "    return {\"messages\": messages}"
   ],
   "outputs": [],
   "execution_count": 18
  },
  {
   "cell_type": "code",
   "id": "f0ef55c136165569",
   "metadata": {
    "ExecuteTime": {
     "end_time": "2025-09-18T07:15:27.250604Z",
     "start_time": "2025-09-18T06:27:13.291331Z"
    }
   },
   "source": [
    "import time\n",
    "from tqdm import tqdm\n",
    "\n",
    "train_dataset = []\n",
    "for q in tqdm(initial_questions):\n",
    "    time.sleep(1)  # 1초 대기\n",
    "    sample = generate_one_chat_sample(q, max_turns=4)\n",
    "    train_dataset.append(sample)\n",
    "\n",
    "# 저장\n",
    "with open(f\"qwen3_company_train_dataset_{permission}3.json\", \"w\", encoding=\"utf-8\") as f:\n",
    "    json.dump(train_dataset, f, ensure_ascii=False, indent=2)\n"
   ],
   "outputs": [
    {
     "name": "stderr",
     "output_type": "stream",
     "text": [
      "  0%|          | 0/336 [00:00<?, ?it/s]"
     ]
    },
    {
     "name": "stdout",
     "output_type": "stream",
     "text": [
      "내부 평가 피드백 문서에서 프론트엔드팀의 업무 수행 능력에 대한 성과는 어떤가요?\n",
      "프론트엔드팀 개선 방안은 뭐야?\n",
      "오늘 저녁에 어떤 간단한 요리를 해볼지 하나 정해줘.\n"
     ]
    },
    {
     "name": "stderr",
     "output_type": "stream",
     "text": [
      "  0%|          | 1/336 [00:20<1:53:03, 20.25s/it]"
     ]
    },
    {
     "name": "stdout",
     "output_type": "stream",
     "text": [
      "프론트엔드팀의 팀워크 및 커뮤니케이션 부분에서 발생한 의견 충돌에 대한 구체적인 사례는 무엇인가요?\n"
     ]
    },
    {
     "name": "stderr",
     "output_type": "stream",
     "text": [
      "  1%|          | 2/336 [00:25<1:04:08, 11.52s/it]"
     ]
    },
    {
     "name": "stdout",
     "output_type": "stream",
     "text": [
      "기술적 기여도 평가에서 A/B 테스트 도입이 긍정적인 결과를 가져온 사례에 대해 자세히 설명해 주실 수 있나요?\n",
      "오늘 저녁 메뉴 하나 정해줘.\n",
      "A/B 테스트 도입 과정에서 사용된 데이터셋의 구성이나 실험 설계 방식에 대해 구체적으로 설명해 줄 수 있어?\n",
      "오늘 저녁으로 간단하게 만들 수 있는 파스타 하나 추천해줘.\n"
     ]
    },
    {
     "name": "stderr",
     "output_type": "stream",
     "text": [
      "  1%|          | 3/336 [00:46<1:28:10, 15.89s/it]"
     ]
    },
    {
     "name": "stdout",
     "output_type": "stream",
     "text": [
      "개선 포인트 중 팀 내 갈등 해결을 위한 커뮤니케이션 교육의 필요성에 대한 구체적인 이유는 무엇인가요?\n"
     ]
    },
    {
     "name": "stderr",
     "output_type": "stream",
     "text": [
      "  1%|          | 4/336 [00:53<1:07:00, 12.11s/it]"
     ]
    },
    {
     "name": "stdout",
     "output_type": "stream",
     "text": [
      "문제 해결 능력 강화를 위한 후속 조치 제안 중 '문제 해결 세션'의 구체적인 진행 방식은 어떻게 되나요?\n"
     ]
    },
    {
     "name": "stderr",
     "output_type": "stream",
     "text": [
      "  1%|▏         | 5/336 [00:58<53:49,  9.76s/it]  "
     ]
    },
    {
     "name": "stdout",
     "output_type": "stream",
     "text": [
      "CTO 의사결정 참고 사항에서 언급된 리스크 관리의 필요성에 대해 좀 더 자세히 설명해 주실 수 있나요?\n"
     ]
    },
    {
     "name": "stderr",
     "output_type": "stream",
     "text": [
      "  2%|▏         | 6/336 [01:04<46:25,  8.44s/it]"
     ]
    },
    {
     "name": "stdout",
     "output_type": "stream",
     "text": [
      "프론트엔드팀의 기술 혁신을 위한 자원 투자 필요성에 대한 구체적인 예시는 무엇인가요?\n",
      "프론트엔드팀 KPI 구체 수치 알려줘\n",
      "오늘 저녁에 어떤 영화를 볼지 추천해줘.\n",
      "프론트엔드팀의 KPI 달성률이 낮았던 주요 원인과 이에 대한 개선 방안이 구체적으로 무엇인지 알려줄 수 있어?\n"
     ]
    },
    {
     "name": "stderr",
     "output_type": "stream",
     "text": [
      "  2%|▏         | 7/336 [01:28<1:13:44, 13.45s/it]"
     ]
    },
    {
     "name": "stdout",
     "output_type": "stream",
     "text": [
      "성과 기반 평가 도입 검토에 대한 구체적인 계획이나 방향성이 있나요?\n",
      "성과 기반 평가 도입 시 팀원 간 협업이나 커뮤니케이션이 실제 평가와 보상에 어떻게 반영되는지 구체적으로 설명해 줄 수 있어?\n"
     ]
    },
    {
     "name": "stderr",
     "output_type": "stream",
     "text": [
      "  2%|▏         | 8/336 [01:43<1:17:03, 14.10s/it]"
     ]
    },
    {
     "name": "stdout",
     "output_type": "stream",
     "text": [
      "내부 평가 피드백 문서에서 제시된 정기적인 워크숍의 목표와 기대 효과는 무엇인가요?\n",
      "오늘 저녁 메뉴 하나 정해줘.\n"
     ]
    },
    {
     "name": "stderr",
     "output_type": "stream",
     "text": [
      "  3%|▎         | 9/336 [01:51<1:05:43, 12.06s/it]"
     ]
    },
    {
     "name": "stdout",
     "output_type": "stream",
     "text": [
      "프론트엔드팀의 문제 해결 능력에서 개선이 필요한 부분은 어떤 것들이 있으며, 이를 어떻게 해결할 계획인가요?\n"
     ]
    },
    {
     "name": "stderr",
     "output_type": "stream",
     "text": [
      "  3%|▎         | 10/336 [01:57<56:11, 10.34s/it] "
     ]
    },
    {
     "name": "stdout",
     "output_type": "stream",
     "text": [
      "2025년 1분기부터 3분기까지의 프로젝트에서 프론트엔드팀의 주요 성과는 무엇이었나요?\n"
     ]
    },
    {
     "name": "stderr",
     "output_type": "stream",
     "text": [
      "  3%|▎         | 11/336 [02:03<47:54,  8.84s/it]"
     ]
    },
    {
     "name": "stdout",
     "output_type": "stream",
     "text": [
      "조직 구조 개편안의 개요 및 목적 부분에서, 개편의 주요 목표는 무엇인가요?\n",
      "조직 구조 개편안의 단계별 실행 계획에서 각 단계별로 예상되는 주요 리스크와 그에 대한 대응 방안은 어떻게 마련되어 있는지 설명해줄 수 있어?\n"
     ]
    },
    {
     "name": "stderr",
     "output_type": "stream",
     "text": [
      "  4%|▎         | 12/336 [02:18<57:41, 10.68s/it]"
     ]
    },
    {
     "name": "stdout",
     "output_type": "stream",
     "text": [
      "조직 구조 개편안의 적용 범위에서 모든 부서가 포함된 이유는 무엇인가요?\n"
     ]
    },
    {
     "name": "stderr",
     "output_type": "stream",
     "text": [
      "  4%|▍         | 13/336 [02:24<49:45,  9.24s/it]"
     ]
    },
    {
     "name": "stdout",
     "output_type": "stream",
     "text": [
      "실행 계획의 첫 번째 단계인 '현 조직 구조 분석 및 문제점 도출'의 책임자는 누구인가요?\n"
     ]
    },
    {
     "name": "stderr",
     "output_type": "stream",
     "text": [
      "  4%|▍         | 14/336 [02:28<41:34,  7.75s/it]"
     ]
    },
    {
     "name": "stdout",
     "output_type": "stream",
     "text": [
      "새로운 조직 구조 설계 및 초안 작성 단계의 기간은 얼마나 되며, 이 단계의 책임자는 누구인가요?\n"
     ]
    },
    {
     "name": "stderr",
     "output_type": "stream",
     "text": [
      "  4%|▍         | 15/336 [02:31<34:41,  6.49s/it]"
     ]
    },
    {
     "name": "stdout",
     "output_type": "stream",
     "text": [
      "최종안 발표 및 내부 커뮤니케이션 단계에서 CTO의 역할은 무엇인가요?\n"
     ]
    },
    {
     "name": "stderr",
     "output_type": "stream",
     "text": [
      "  5%|▍         | 16/336 [02:39<36:30,  6.85s/it]"
     ]
    },
    {
     "name": "stdout",
     "output_type": "stream",
     "text": [
      "새로운 조직 구조 시행 후 성과 모니터링은 어떤 방식으로 진행되며, 책임자는 누구인가요?\n"
     ]
    },
    {
     "name": "stderr",
     "output_type": "stream",
     "text": [
      "  5%|▌         | 17/336 [02:44<33:08,  6.23s/it]"
     ]
    },
    {
     "name": "stdout",
     "output_type": "stream",
     "text": [
      "리스크 및 대응 방안에서 '직원 저항'에 대한 대응 방안은 무엇인가요?\n",
      "직원 교육 구체 방법 알려줘\n",
      "오늘 저녁에 간단하게 만들 수 있는 요리 하나 추천해줘.\n"
     ]
    },
    {
     "name": "stderr",
     "output_type": "stream",
     "text": [
      "  5%|▌         | 18/336 [02:54<39:06,  7.38s/it]"
     ]
    },
    {
     "name": "stdout",
     "output_type": "stream",
     "text": [
      "성과 저하 리스크에 대한 대응 방안으로 어떤 시스템이 구축될 예정인가요?\n",
      "KPI 분석 주기는 어떻게 돼?\n"
     ]
    },
    {
     "name": "stderr",
     "output_type": "stream",
     "text": [
      "  6%|▌         | 19/336 [03:06<45:42,  8.65s/it]"
     ]
    },
    {
     "name": "stdout",
     "output_type": "stream",
     "text": [
      "검증 포인트에서 효율성을 평가하기 위한 기준은 무엇인가요?\n",
      "오늘 저녁에 먹을 음식 하나 정해줘.\n"
     ]
    },
    {
     "name": "stderr",
     "output_type": "stream",
     "text": [
      "  6%|▌         | 20/336 [03:14<45:44,  8.68s/it]"
     ]
    },
    {
     "name": "stdout",
     "output_type": "stream",
     "text": [
      "부서 간 소통 개선 여부를 측정하기 위한 방법은 무엇인가요?\n"
     ]
    },
    {
     "name": "stderr",
     "output_type": "stream",
     "text": [
      "  6%|▋         | 21/336 [03:21<42:11,  8.04s/it]"
     ]
    },
    {
     "name": "stdout",
     "output_type": "stream",
     "text": [
      "KPI 변화 분석을 통해 성과 개선 여부를 확인하는 방법은 무엇인가요?\n"
     ]
    },
    {
     "name": "stderr",
     "output_type": "stream",
     "text": [
      "  7%|▋         | 22/336 [03:28<41:02,  7.84s/it]"
     ]
    },
    {
     "name": "stdout",
     "output_type": "stream",
     "text": [
      "직원 만족도를 파악하기 위한 방법으로 어떤 조사가 진행될 예정인가요?\n"
     ]
    },
    {
     "name": "stderr",
     "output_type": "stream",
     "text": [
      "  7%|▋         | 23/336 [03:32<34:51,  6.68s/it]"
     ]
    },
    {
     "name": "stdout",
     "output_type": "stream",
     "text": [
      "기밀 유지 지침에서 언급된 기밀 정보의 접근을 최소화하는 이유는 무엇인가요?\n"
     ]
    },
    {
     "name": "stderr",
     "output_type": "stream",
     "text": [
      "  7%|▋         | 24/336 [03:37<31:24,  6.04s/it]"
     ]
    },
    {
     "name": "stdout",
     "output_type": "stream",
     "text": [
      "조직 구조 개편안의 작성일은 언제이며, 버전은 무엇인가요?\n",
      "오늘 저녁 메뉴 하나 정해줘.\n"
     ]
    },
    {
     "name": "stderr",
     "output_type": "stream",
     "text": [
      "  7%|▋         | 25/336 [03:44<33:01,  6.37s/it]"
     ]
    },
    {
     "name": "stdout",
     "output_type": "stream",
     "text": [
      "각 단계별 실행 계획에서 '단계별 시행 및 명확한 가이드라인 제공'의 중요성은 무엇인가요?\n"
     ]
    },
    {
     "name": "stderr",
     "output_type": "stream",
     "text": [
      "  8%|▊         | 26/336 [03:49<31:28,  6.09s/it]"
     ]
    },
    {
     "name": "stdout",
     "output_type": "stream",
     "text": [
      "새로운 조직 구조 시행 후 3개월 간 성과 모니터링의 중요성은 무엇인가요?\n"
     ]
    },
    {
     "name": "stderr",
     "output_type": "stream",
     "text": [
      "  8%|▊         | 27/336 [03:55<29:52,  5.80s/it]"
     ]
    },
    {
     "name": "stdout",
     "output_type": "stream",
     "text": [
      "인사팀이 맡은 역할 중 '초안에 대한 피드백 수집 및 수정'의 중요성은 무엇인가요?\n",
      "오늘 저녁 메뉴 하나 정해줘.\n",
      "피드백 수집 방법 구체적으로 알려줘\n",
      "오늘 저녁에 어울리는 음악 장르 하나 추천해줘.\n"
     ]
    },
    {
     "name": "stderr",
     "output_type": "stream",
     "text": [
      "  8%|▊         | 28/336 [04:10<44:37,  8.69s/it]"
     ]
    },
    {
     "name": "stdout",
     "output_type": "stream",
     "text": [
      "조직 구조 개편안의 목적이 '조직의 전반적인 성과를 극대화'하는 것인데, 이를 위해 어떤 구체적인 조치가 필요할까요?\n"
     ]
    },
    {
     "name": "stderr",
     "output_type": "stream",
     "text": [
      "  9%|▊         | 29/336 [04:18<43:11,  8.44s/it]"
     ]
    },
    {
     "name": "stdout",
     "output_type": "stream",
     "text": [
      "각 부서의 역할과 책임을 명확히 하기 위한 방법은 무엇인가요?\n",
      "조직 구조 변경 시 리스크 대응 방안 알려줘\n"
     ]
    },
    {
     "name": "stderr",
     "output_type": "stream",
     "text": [
      "  9%|▉         | 30/336 [04:32<51:59, 10.19s/it]"
     ]
    },
    {
     "name": "stdout",
     "output_type": "stream",
     "text": [
      "조직 구조 개편안의 리스크 관리 방안에서 '혼란 발생'에 대한 설명은 무엇인가요?\n"
     ]
    },
    {
     "name": "stderr",
     "output_type": "stream",
     "text": [
      "  9%|▉         | 31/336 [04:36<42:44,  8.41s/it]"
     ]
    },
    {
     "name": "stdout",
     "output_type": "stream",
     "text": [
      "새로운 조직 구조 설계 시 고려해야 할 요소는 무엇인가요?\n"
     ]
    },
    {
     "name": "stderr",
     "output_type": "stream",
     "text": [
      " 10%|▉         | 32/336 [04:42<37:46,  7.46s/it]"
     ]
    },
    {
     "name": "stdout",
     "output_type": "stream",
     "text": [
      "조직 구조 개편안의 기밀 유지 교육은 어떻게 진행될 예정인가요?\n",
      "기밀 유지 서약의 구체적인 서명 절차나 관리 방식에 대해 설명해줄 수 있어?\n"
     ]
    },
    {
     "name": "stderr",
     "output_type": "stream",
     "text": [
      " 10%|▉         | 33/336 [04:52<41:30,  8.22s/it]"
     ]
    },
    {
     "name": "stdout",
     "output_type": "stream",
     "text": [
      "각 부서의 팀 리더가 개편안에 대해 어떤 역할을 수행해야 하나요?\n"
     ]
    },
    {
     "name": "stderr",
     "output_type": "stream",
     "text": [
      " 10%|█         | 34/336 [04:59<39:53,  7.92s/it]"
     ]
    },
    {
     "name": "stdout",
     "output_type": "stream",
     "text": [
      "핵심 인재 유지 및 스카우트 전략 보고서의 기밀 유지 지침은 어떤 내용을 포함하고 있나요?\n",
      "오늘 저녁 메뉴 하나 정해줘.\n"
     ]
    },
    {
     "name": "stderr",
     "output_type": "stream",
     "text": [
      " 10%|█         | 35/336 [05:07<39:27,  7.87s/it]"
     ]
    },
    {
     "name": "stdout",
     "output_type": "stream",
     "text": [
      "핵심 인재 유지 및 스카우트 전략 보고서에서 외부 스카우트 대상 인재의 정의는 무엇인가요?\n"
     ]
    },
    {
     "name": "stderr",
     "output_type": "stream",
     "text": [
      " 11%|█         | 36/336 [05:12<35:36,  7.12s/it]"
     ]
    },
    {
     "name": "stdout",
     "output_type": "stream",
     "text": [
      "핵심 인재 유지 및 스카우트 전략 보고서의 각 단계별 책임자는 누구인가요?\n",
      "오늘 저녁 메뉴 하나 정해줘.\n"
     ]
    },
    {
     "name": "stderr",
     "output_type": "stream",
     "text": [
      " 11%|█         | 37/336 [05:20<37:05,  7.44s/it]"
     ]
    },
    {
     "name": "stdout",
     "output_type": "stream",
     "text": [
      "핵심 인재 유지 및 스카우트 전략 보고서에서 KPI 설정 후 6개월 내 성과 분석의 중요성은 무엇인가요?\n"
     ]
    },
    {
     "name": "stderr",
     "output_type": "stream",
     "text": [
      " 11%|█▏        | 38/336 [05:27<36:33,  7.36s/it]"
     ]
    },
    {
     "name": "stdout",
     "output_type": "stream",
     "text": [
      "핵심 인재 유지 및 스카우트 전략 보고서에서 정기적인 피드백 및 소통 강화의 필요성은 무엇인가요?\n",
      "피드백 세션 운영 방식 알려줘\n"
     ]
    },
    {
     "name": "stderr",
     "output_type": "stream",
     "text": [
      " 12%|█▏        | 39/336 [05:38<42:04,  8.50s/it]"
     ]
    },
    {
     "name": "stdout",
     "output_type": "stream",
     "text": [
      "민감 데이터 접근 키·암호화 키 관리 문서의 '위협 시나리오 및 영향' 파트에서 무단 접근에 대한 구체적인 사례는 무엇인가요?\n"
     ]
    },
    {
     "name": "stderr",
     "output_type": "stream",
     "text": [
      " 12%|█▏        | 40/336 [05:44<37:31,  7.61s/it]"
     ]
    },
    {
     "name": "stdout",
     "output_type": "stream",
     "text": [
      "'대응 전략' 섹션의 '키 생성 및 저장' 부분에서 사용해야 하는 안전한 알고리즘의 예시는 무엇인가요?\n",
      "오늘 운동할 만한 스트레칭 동작 하나 알려줘.\n"
     ]
    },
    {
     "name": "stderr",
     "output_type": "stream",
     "text": [
      " 12%|█▏        | 41/336 [05:52<38:40,  7.87s/it]"
     ]
    },
    {
     "name": "stdout",
     "output_type": "stream",
     "text": [
      "'접근 제어' 파트에서 최소 권한 원칙을 적용하기 위한 구체적인 절차는 어떻게 되나요?\n"
     ]
    },
    {
     "name": "stderr",
     "output_type": "stream",
     "text": [
      " 12%|█▎        | 42/336 [06:00<37:21,  7.63s/it]"
     ]
    },
    {
     "name": "stdout",
     "output_type": "stream",
     "text": [
      "'키 회전 및 폐기' 섹션에서 정기적인 키 회전 정책의 주기는 어떻게 설정되어 있나요?\n",
      "키 폐기 절차 자세히 알려줘\n"
     ]
    },
    {
     "name": "stderr",
     "output_type": "stream",
     "text": [
      " 13%|█▎        | 43/336 [06:10<41:26,  8.49s/it]"
     ]
    },
    {
     "name": "stdout",
     "output_type": "stream",
     "text": [
      "'교육 및 인식 제고' 파트에서 직원 대상 보안 교육의 주요 내용은 무엇인가요?\n",
      "보안 교육 일정은 어떻게 돼?\n"
     ]
    },
    {
     "name": "stderr",
     "output_type": "stream",
     "text": [
      " 13%|█▎        | 44/336 [06:19<42:17,  8.69s/it]"
     ]
    },
    {
     "name": "stdout",
     "output_type": "stream",
     "text": [
      "'검증/점검 체크리스트'에서 키 생성 및 저장 방식 검토를 위한 기준은 무엇인가요?\n"
     ]
    },
    {
     "name": "stderr",
     "output_type": "stream",
     "text": [
      " 13%|█▎        | 45/336 [06:27<40:35,  8.37s/it]"
     ]
    },
    {
     "name": "stdout",
     "output_type": "stream",
     "text": [
      "'리스크 한계 및 보완책' 섹션에서 다중 인증(MFA) 도입의 필요성에 대한 설명은 어떻게 되어 있나요?\n"
     ]
    },
    {
     "name": "stderr",
     "output_type": "stream",
     "text": [
      " 14%|█▎        | 46/336 [06:31<34:46,  7.20s/it]"
     ]
    },
    {
     "name": "stdout",
     "output_type": "stream",
     "text": [
      "'CTO 보고·승인 포인트'에서 주요 보안 사건 발생 시 어떤 절차를 따라야 하는지 구체적으로 설명해 주세요.\n",
      "사고 발생 후 48시간 이내에 제출해야 하는 사후 분석 보고서에는 어떤 항목들이 반드시 포함되어야 하는지 알려줄 수 있어?\n"
     ]
    },
    {
     "name": "stderr",
     "output_type": "stream",
     "text": [
      " 14%|█▍        | 47/336 [06:44<42:05,  8.74s/it]"
     ]
    },
    {
     "name": "stdout",
     "output_type": "stream",
     "text": [
      "'위협 시나리오 및 영향' 파트에서 키 유출의 경우 데이터의 기밀성과 무결성이 어떻게 위협받는지 설명해 주세요.\n",
      "키 관리 실패 사례도 알려줘\n"
     ]
    },
    {
     "name": "stderr",
     "output_type": "stream",
     "text": [
      " 14%|█▍        | 48/336 [06:55<45:28,  9.47s/it]"
     ]
    },
    {
     "name": "stdout",
     "output_type": "stream",
     "text": [
      "'대응 전략'의 '접근 제어' 부분에서 접근 로그 기록의 주기적 검토는 어떤 방식으로 이루어지나요?\n"
     ]
    },
    {
     "name": "stderr",
     "output_type": "stream",
     "text": [
      " 15%|█▍        | 49/336 [07:00<39:10,  8.19s/it]"
     ]
    },
    {
     "name": "stdout",
     "output_type": "stream",
     "text": [
      "'키 회전 및 폐기' 섹션에서 사용하지 않는 키를 안전하게 폐기하는 방법은 무엇인가요?\n"
     ]
    },
    {
     "name": "stderr",
     "output_type": "stream",
     "text": [
      " 15%|█▍        | 50/336 [07:05<34:27,  7.23s/it]"
     ]
    },
    {
     "name": "stdout",
     "output_type": "stream",
     "text": [
      "'검증/점검 체크리스트'에서 접근 권한 관리 현황 점검의 구체적인 방법은 무엇인가요?\n"
     ]
    },
    {
     "name": "stderr",
     "output_type": "stream",
     "text": [
      " 15%|█▌        | 51/336 [07:11<31:56,  6.73s/it]"
     ]
    },
    {
     "name": "stdout",
     "output_type": "stream",
     "text": [
      "'리스크 한계 및 보완책'에서 정기적인 보안 감사의 주기는 어떻게 설정되어 있나요?\n",
      "오늘 저녁 메뉴 하나 정해줘.\n"
     ]
    },
    {
     "name": "stderr",
     "output_type": "stream",
     "text": [
      " 15%|█▌        | 52/336 [07:17<32:02,  6.77s/it]"
     ]
    },
    {
     "name": "stdout",
     "output_type": "stream",
     "text": [
      "'대응 전략'의 '키 생성 및 저장' 부분에서 HSM과 KMS의 차이점은 무엇인가요?\n"
     ]
    },
    {
     "name": "stderr",
     "output_type": "stream",
     "text": [
      " 16%|█▌        | 53/336 [07:24<31:37,  6.70s/it]"
     ]
    },
    {
     "name": "stdout",
     "output_type": "stream",
     "text": [
      "'교육 및 인식 제고' 파트에서 보안 교육의 이수 현황을 어떻게 확인하나요?\n",
      "오늘 저녁 메뉴 하나 정해줘.\n"
     ]
    },
    {
     "name": "stderr",
     "output_type": "stream",
     "text": [
      " 16%|█▌        | 54/336 [07:30<31:08,  6.63s/it]"
     ]
    },
    {
     "name": "stdout",
     "output_type": "stream",
     "text": [
      "'CTO 보고·승인 포인트'에서 키 관리 정책의 변경 사항은 어떤 방식으로 보고되나요?\n",
      "정기 보고 시 포함되어야 하는 키 관리 정책 변경 관련 주요 항목이나 필수 보고 서식이 따로 정해져 있는지 알려줄 수 있어?\n",
      "오늘 저녁 메뉴 하나 정해줘.\n",
      "키 관리 정책 변경 승인 절차도 알려줘\n"
     ]
    },
    {
     "name": "stderr",
     "output_type": "stream",
     "text": [
      " 16%|█▋        | 55/336 [07:46<43:09,  9.22s/it]"
     ]
    },
    {
     "name": "stdout",
     "output_type": "stream",
     "text": [
      "'위협 시나리오 및 영향'에서 내부자 공격의 예시는 무엇인가요?\n"
     ]
    },
    {
     "name": "stderr",
     "output_type": "stream",
     "text": [
      " 17%|█▋        | 56/336 [07:50<36:06,  7.74s/it]"
     ]
    },
    {
     "name": "stdout",
     "output_type": "stream",
     "text": [
      "'대응 전략'의 '키 회전 및 폐기' 부분에서 키 변경 시 어떤 절차를 따라야 하나요?\n",
      "키 폐기 시 유의사항 알려줘\n",
      "키 폐기 후 관련 로그나 기록의 보관 기간 및 관리 방식은 어떻게 설정되어 있나?\n"
     ]
    },
    {
     "name": "stderr",
     "output_type": "stream",
     "text": [
      " 17%|█▋        | 57/336 [08:07<48:59, 10.53s/it]"
     ]
    },
    {
     "name": "stdout",
     "output_type": "stream",
     "text": [
      "'검증/점검 체크리스트'에서 보안 교육 이수 현황 확인을 위한 기준은 무엇인가요?\n",
      "보안 교육 주기는 어떻게 돼?\n"
     ]
    },
    {
     "name": "stderr",
     "output_type": "stream",
     "text": [
      " 17%|█▋        | 58/336 [08:18<49:53, 10.77s/it]"
     ]
    },
    {
     "name": "stdout",
     "output_type": "stream",
     "text": [
      "'리스크 한계 및 보완책'에서 키 유출 방지를 위한 추가적인 보안 조치는 무엇이 있나요?\n"
     ]
    },
    {
     "name": "stderr",
     "output_type": "stream",
     "text": [
      " 18%|█▊        | 59/336 [08:25<43:38,  9.45s/it]"
     ]
    },
    {
     "name": "stdout",
     "output_type": "stream",
     "text": [
      "취약점 대응 전략 & 보안 사고 대응 매뉴얼에서 내부 공격에 대한 영향은 무엇인가요?\n"
     ]
    },
    {
     "name": "stderr",
     "output_type": "stream",
     "text": [
      " 18%|█▊        | 60/336 [08:32<40:33,  8.82s/it]"
     ]
    },
    {
     "name": "stdout",
     "output_type": "stream",
     "text": [
      "취약점 대응 전략 & 보안 사고 대응 매뉴얼의 단계 1에서 모니터링 시스템 구축에 대한 구체적인 내용은 무엇인가요?\n",
      "오늘 저녁 메뉴 하나 정해줘.\n"
     ]
    },
    {
     "name": "stderr",
     "output_type": "stream",
     "text": [
      " 18%|█▊        | 61/336 [08:39<37:43,  8.23s/it]"
     ]
    },
    {
     "name": "stdout",
     "output_type": "stream",
     "text": [
      "취약점 대응 전략 & 보안 사고 대응 매뉴얼의 단계 3에서 복구 계획 수립에 대한 구체적인 절차는 무엇인가요?\n"
     ]
    },
    {
     "name": "stderr",
     "output_type": "stream",
     "text": [
      " 18%|█▊        | 62/336 [08:46<35:49,  7.84s/it]"
     ]
    },
    {
     "name": "stdout",
     "output_type": "stream",
     "text": [
      "취약점 대응 전략 & 보안 사고 대응 매뉴얼의 개요 및 배경에서 사이버 공격의 빈도와 복잡성 증가에 대한 설명은 어떻게 되어 있나요?\n",
      "위협 시나리오별로 실제로 적용된 대응 사례나, 각 단계별 실행 과정에서 발생했던 주요 이슈에 대해 구체적으로 설명해줄 수 있어?\n"
     ]
    },
    {
     "name": "stderr",
     "output_type": "stream",
     "text": [
      " 19%|█▉        | 63/336 [09:05<51:32, 11.33s/it]"
     ]
    },
    {
     "name": "stdout",
     "output_type": "stream",
     "text": [
      "취약점 대응 전략 & 보안 사고 대응 매뉴얼의 단계 1에서 정기적인 취약점 스캔의 주기는 어떻게 설정하나요?\n"
     ]
    },
    {
     "name": "stderr",
     "output_type": "stream",
     "text": [
      " 19%|█▉        | 64/336 [09:11<44:20,  9.78s/it]"
     ]
    },
    {
     "name": "stdout",
     "output_type": "stream",
     "text": [
      "취약점 대응 전략 & 보안 사고 대응 매뉴얼의 정책 변경 시 CTO 보고·승인 포인트에서 어떤 절차를 따라야 하나요?\n",
      "오늘 저녁 메뉴 하나 정해줘.\n"
     ]
    },
    {
     "name": "stderr",
     "output_type": "stream",
     "text": [
      " 19%|█▉        | 65/336 [09:21<43:16,  9.58s/it]"
     ]
    },
    {
     "name": "stdout",
     "output_type": "stream",
     "text": [
      "취약점 대응 전략 & 보안 사고 대응 매뉴얼의 보완책에서 다단계 인증 강화의 구체적인 방법은 무엇인가요?\n",
      "다중 인증(MFA) 도입 시 사용자 경험 저하나 운영상 발생할 수 있는 문제점은 무엇이 있는지 알려줄 수 있을까?\n",
      "다중 인증 도입 시 사용자 불편을 최소화할 수 있는 방법 하나 제안해줘.\n",
      "적응형 인증 도입 사례 알려줘.\n"
     ]
    },
    {
     "name": "stderr",
     "output_type": "stream",
     "text": [
      " 20%|█▉        | 66/336 [09:43<1:00:43, 13.49s/it]"
     ]
    },
    {
     "name": "stdout",
     "output_type": "stream",
     "text": [
      "데이터/AI팀 내부 평가 피드백 문서에서 2024년 1월부터 2025년 8월까지의 프로젝트 완료율은 어떻게 평가되었나요?\n",
      "프로젝트별 주요 성과도 알려줘\n",
      "프로젝트별로 도출된 개선 포인트와 이에 대한 구체적인 후속 조치 방안은 어떻게 제안되었는지 알려줄 수 있어?\n"
     ]
    },
    {
     "name": "stderr",
     "output_type": "stream",
     "text": [
      " 20%|█▉        | 67/336 [10:03<1:09:22, 15.47s/it]"
     ]
    },
    {
     "name": "stdout",
     "output_type": "stream",
     "text": [
      "데이터/AI팀의 혁신성에 대한 평가 점수는 몇 점이며, 어떤 새로운 알고리즘 개발 사례가 있었나요?\n"
     ]
    },
    {
     "name": "stderr",
     "output_type": "stream",
     "text": [
      " 20%|██        | 68/336 [10:10<57:21, 12.84s/it]  "
     ]
    },
    {
     "name": "stdout",
     "output_type": "stream",
     "text": [
      "내부 평가 피드백 문서에서 근무 태도 중 협력도에 대한 평가 점수는 얼마이며, 어떤 세부 내용이 포함되어 있나요?\n"
     ]
    },
    {
     "name": "stderr",
     "output_type": "stream",
     "text": [
      " 21%|██        | 69/336 [10:16<47:34, 10.69s/it]"
     ]
    },
    {
     "name": "stdout",
     "output_type": "stream",
     "text": [
      "데이터/AI팀의 문제 해결 능력에 대한 평가 점수는 몇 점이며, 어떤 접근법이 효과적이었는지 설명해 주실 수 있나요?\n"
     ]
    },
    {
     "name": "stderr",
     "output_type": "stream",
     "text": [
      " 21%|██        | 70/336 [10:22<41:02,  9.26s/it]"
     ]
    },
    {
     "name": "stdout",
     "output_type": "stream",
     "text": [
      "내부 평가 피드백 문서에서 제안된 후속 조치 중 정기적인 팀 회의의 목적은 무엇인가요?\n",
      "정기 회의에서 나온 주요 이슈는 뭐야?\n",
      "오늘 저녁 메뉴 하나 추천해줘.\n"
     ]
    },
    {
     "name": "stderr",
     "output_type": "stream",
     "text": [
      " 21%|██        | 71/336 [10:34<45:20, 10.26s/it]"
     ]
    },
    {
     "name": "stdout",
     "output_type": "stream",
     "text": [
      "데이터/AI팀의 결과물 품질에 대한 고객 피드백은 어떤 내용이었으며, 평가 점수는 얼마였나요?\n"
     ]
    },
    {
     "name": "stderr",
     "output_type": "stream",
     "text": [
      " 21%|██▏       | 72/336 [10:40<38:49,  8.83s/it]"
     ]
    },
    {
     "name": "stdout",
     "output_type": "stream",
     "text": [
      "내부 평가 피드백 문서에서 커뮤니케이션 부족으로 인한 업무 지연 발생에 대한 구체적인 사례가 있나요?\n"
     ]
    },
    {
     "name": "stderr",
     "output_type": "stream",
     "text": [
      " 22%|██▏       | 73/336 [10:45<33:33,  7.65s/it]"
     ]
    },
    {
     "name": "stdout",
     "output_type": "stream",
     "text": [
      "데이터/AI팀의 책임감에 대한 평가 점수는 얼마이며, 주어진 업무에 대한 성실한 수행의 예시는 무엇인가요?\n",
      "오늘 저녁에 간단하게 할 수 있는 스트레칭 동작 하나 알려줘.\n"
     ]
    },
    {
     "name": "stderr",
     "output_type": "stream",
     "text": [
      " 22%|██▏       | 74/336 [10:54<36:04,  8.26s/it]"
     ]
    },
    {
     "name": "stdout",
     "output_type": "stream",
     "text": [
      "프로젝트 관리의 비효율성에 대한 구체적인 문제점은 무엇이며, 이를 해결하기 위한 도구는 어떤 것이 제안되었나요?\n",
      "오늘 저녁 메뉴 하나 정해줘!\n",
      "프로젝트 관리 도구(Jira, Trello 등) 도입 이후 실제로 일정 관리나 커뮤니케이션 측면에서 개선된 사례가 있다면 구체적으로 설명해 줄 수 있어?\n",
      "프로젝트 관리 도구 도입 이후 코드 리뷰 프로세스나 피드백 문화가 어떻게 변화했는지, 구체적인 실행 방식이나 성과가 있다면 설명해 줄 수 있어?\n"
     ]
    },
    {
     "name": "stderr",
     "output_type": "stream",
     "text": [
      " 22%|██▏       | 75/336 [11:22<1:01:42, 14.18s/it]"
     ]
    },
    {
     "name": "stdout",
     "output_type": "stream",
     "text": [
      "CTO 의사결정 참고 사항에서 전략적 인력 배치의 필요성에 대한 설명은 무엇인가요?\n"
     ]
    },
    {
     "name": "stderr",
     "output_type": "stream",
     "text": [
      " 23%|██▎       | 76/336 [11:29<51:13, 11.82s/it]  "
     ]
    },
    {
     "name": "stdout",
     "output_type": "stream",
     "text": [
      "데이터/AI팀의 피드백 문화 강화를 위한 정기적인 피드백 세션의 구체적인 계획은 어떻게 되나요?\n",
      "오늘 저녁에 어떤 음악 들어볼까?\n",
      "정기적인 피드백 세션에서 도출된 개선 사항이나 액션 아이템은 실제로 어떻게 관리되고 추적되고 있는지 구체적으로 알려줄 수 있어?\n",
      "프로젝트 관리 도구에서 각 액션 아이템의 진행 상황을 시각적으로 확인하거나 자동 알림을 받을 수 있는 기능이 있는지 궁금해.\n"
     ]
    },
    {
     "name": "stderr",
     "output_type": "stream",
     "text": [
      " 23%|██▎       | 77/336 [11:54<1:08:46, 15.93s/it]"
     ]
    },
    {
     "name": "stdout",
     "output_type": "stream",
     "text": [
      "내부 평가 피드백 문서에서 제시된 개선 포인트 중 소통 부족으로 인한 업무 지연의 구체적인 사례는 무엇인가요?\n",
      "오늘 운동으로 할 만한 스트레칭 하나 알려줘.\n"
     ]
    },
    {
     "name": "stderr",
     "output_type": "stream",
     "text": [
      " 23%|██▎       | 78/336 [12:02<58:11, 13.53s/it]  "
     ]
    },
    {
     "name": "stdout",
     "output_type": "stream",
     "text": [
      "데이터/AI팀의 프로젝트 완료율이 90% 이상인 이유는 무엇이라고 평가되었나요?\n"
     ]
    },
    {
     "name": "stderr",
     "output_type": "stream",
     "text": [
      " 24%|██▎       | 79/336 [12:07<47:03, 10.99s/it]"
     ]
    },
    {
     "name": "stdout",
     "output_type": "stream",
     "text": [
      "내부 평가 피드백 문서에서 제안된 교육 및 훈련의 필요성에 대한 구체적인 내용은 무엇인가요?\n"
     ]
    },
    {
     "name": "stderr",
     "output_type": "stream",
     "text": [
      " 24%|██▍       | 80/336 [12:15<42:25,  9.94s/it]"
     ]
    },
    {
     "name": "stdout",
     "output_type": "stream",
     "text": [
      "데이터/AI팀의 성과가 뛰어난 팀원을 주요 프로젝트에 배치하는 이유는 무엇인가요?\n"
     ]
    },
    {
     "name": "stderr",
     "output_type": "stream",
     "text": [
      " 24%|██▍       | 81/336 [12:20<35:56,  8.46s/it]"
     ]
    },
    {
     "name": "stdout",
     "output_type": "stream",
     "text": [
      "임원 인사·보상·승계 계획 문서에서 임원 보상 구조에 대한 내용은 어떤가요?\n"
     ]
    },
    {
     "name": "stderr",
     "output_type": "stream",
     "text": [
      " 24%|██▍       | 82/336 [12:26<32:50,  7.76s/it]"
     ]
    },
    {
     "name": "stdout",
     "output_type": "stream",
     "text": [
      "핵심 인재 유지 및 스카우트 전략 보고서에서 현재 스카우트 전략의 주요 포인트는 무엇인가요?\n"
     ]
    },
    {
     "name": "stderr",
     "output_type": "stream",
     "text": [
      " 25%|██▍       | 83/336 [12:34<33:17,  7.89s/it]"
     ]
    },
    {
     "name": "stdout",
     "output_type": "stream",
     "text": [
      "주요 인사(승진·이동·해고) 관리 문서에서 최근 승진된 인재의 명단은 어떻게 되나요?\n"
     ]
    },
    {
     "name": "stderr",
     "output_type": "stream",
     "text": [
      " 25%|██▌       | 84/336 [12:38<28:30,  6.79s/it]"
     ]
    },
    {
     "name": "stdout",
     "output_type": "stream",
     "text": [
      "조직 구조 개편안에서 제안된 새로운 조직 구조의 주요 변경 사항은 무엇인가요?\n",
      "개편안 시행 일정 알려줘\n",
      "조직 구조 개편 시행 후 3개월간 성과 모니터링은 어떤 지표와 방법으로 진행되는지 구체적으로 알려줄 수 있어?\n"
     ]
    },
    {
     "name": "stderr",
     "output_type": "stream",
     "text": [
      " 25%|██▌       | 85/336 [12:59<46:34, 11.14s/it]"
     ]
    },
    {
     "name": "stdout",
     "output_type": "stream",
     "text": [
      "핵심 인재 유출 리스크 분석 및 대응 전략 문서에서 유출 리스크가 가장 높은 부서는 어디인가요?\n",
      "유출 방지 핵심 대응책은 뭐야?\n"
     ]
    },
    {
     "name": "stderr",
     "output_type": "stream",
     "text": [
      " 26%|██▌       | 86/336 [13:12<48:18, 11.59s/it]"
     ]
    },
    {
     "name": "stdout",
     "output_type": "stream",
     "text": [
      "내부 평가 피드백 문서_프론트엔드팀 근무 태도 및 기술 기여도 평가에서 프론트엔드팀의 기술 기여도는 어떻게 평가되었나요?\n"
     ]
    },
    {
     "name": "stderr",
     "output_type": "stream",
     "text": [
      " 26%|██▌       | 87/336 [13:20<43:24, 10.46s/it]"
     ]
    },
    {
     "name": "stdout",
     "output_type": "stream",
     "text": [
      "내부 평가 피드백 문서_백엔드팀 근무 태도 및 리더십 평가에서 백엔드팀의 리더십 평가 결과는 어떤가요?\n"
     ]
    },
    {
     "name": "stderr",
     "output_type": "stream",
     "text": [
      " 26%|██▌       | 88/336 [13:28<40:11,  9.72s/it]"
     ]
    },
    {
     "name": "stdout",
     "output_type": "stream",
     "text": [
      "내부 평가 피드백 문서_데이터/AI팀 근무 태도 및 연구 성과 평가에서 데이터/AI팀의 연구 성과는 어떤가요?\n"
     ]
    },
    {
     "name": "stderr",
     "output_type": "stream",
     "text": [
      " 26%|██▋       | 89/336 [13:35<36:28,  8.86s/it]"
     ]
    },
    {
     "name": "stdout",
     "output_type": "stream",
     "text": [
      "팀 성과 자료_프론트엔드팀 KPI 달성률 및 성과 분석에서 프론트엔드팀의 KPI 달성률은 얼마인가요?\n",
      "프론트엔드팀의 KPI 달성률이 낮은 주요 원인으로 지적된 외부 요인과 내부 프로세스 문제에 대해 구체적으로 어떤 사례가 있었는지 설명해 줄 수 있어?\n",
      "프론트엔드팀의 코드 리뷰 프로세스 개선이나 QA팀과의 협업 강화 방안이 실제로 어떻게 추진되고 있는지, 구체적인 실행 계획이나 변경된 절차가 있다면 알려줄 수 있어?\n"
     ]
    },
    {
     "name": "stderr",
     "output_type": "stream",
     "text": [
      " 27%|██▋       | 90/336 [14:07<1:04:42, 15.78s/it]"
     ]
    },
    {
     "name": "stdout",
     "output_type": "stream",
     "text": [
      "팀 성과 자료_백엔드팀 프로젝트 성과 및 보상 연계 보고서에서 백엔드팀의 프로젝트 성과는 어떻게 평가되었나요?\n",
      "오늘 저녁 메뉴 하나 정해줘.\n"
     ]
    },
    {
     "name": "stderr",
     "output_type": "stream",
     "text": [
      " 27%|██▋       | 91/336 [14:20<1:00:52, 14.91s/it]"
     ]
    },
    {
     "name": "stdout",
     "output_type": "stream",
     "text": [
      "팀 성과 자료_데이터/AI팀 R&D 성과 및 투자 대비 효과 분석에서 R&D 성과의 투자 대비 효과는 어떤가요?\n"
     ]
    },
    {
     "name": "stderr",
     "output_type": "stream",
     "text": [
      " 27%|██▋       | 92/336 [14:28<52:24, 12.89s/it]  "
     ]
    },
    {
     "name": "stdout",
     "output_type": "stream",
     "text": [
      "취약점 대응 전략 & 보안 사고 대응 매뉴얼에서 주요 취약점 대응 절차는 무엇인가요?\n"
     ]
    },
    {
     "name": "stderr",
     "output_type": "stream",
     "text": [
      " 28%|██▊       | 93/336 [14:42<53:37, 13.24s/it]"
     ]
    },
    {
     "name": "stdout",
     "output_type": "stream",
     "text": [
      "민감 데이터 접근 키·암호화 키 관리 문서에서 암호화 키 관리의 현재 상태는 어떤가요?\n",
      "정기적인 키 회전이나 폐기 과정에서 발생했던 주요 이슈나 개선 사례가 있다면 구체적으로 설명해 줄 수 있어?\n",
      "정기적인 키 회전이나 폐기 절차가 실제 운영 환경에서 서비스 중단이나 장애로 이어진 사례가 있었는지, 있었다면 어떤 대응 방안이 적용됐는지 구체적으로 설명해 줄 수 있어?\n",
      "키 회전이나 폐기 절차와 관련된 장애 대응 훈련이나 시뮬레이션은 실제로 어떻게 진행되고 있는지, 구체적인 운영 프로세스를 설명해 줄 수 있어?\n"
     ]
    },
    {
     "name": "stderr",
     "output_type": "stream",
     "text": [
      " 28%|██▊       | 94/336 [15:17<1:20:16, 19.90s/it]"
     ]
    },
    {
     "name": "stdout",
     "output_type": "stream",
     "text": [
      "서비스 장애 대응 시나리오 (대규모 트래픽/데이터센터 장애)에서 대규모 트래픽 발생 시 대응 방안은 무엇인가요?\n"
     ]
    },
    {
     "name": "stderr",
     "output_type": "stream",
     "text": [
      " 28%|██▊       | 95/336 [15:24<1:04:07, 15.96s/it]"
     ]
    },
    {
     "name": "stdout",
     "output_type": "stream",
     "text": [
      "내부자 위협 관리 가이드 (계정 유출·권한 남용 대응)에서 계정 유출에 대한 대응 방안은 어떤가요?\n"
     ]
    },
    {
     "name": "stderr",
     "output_type": "stream",
     "text": [
      " 29%|██▊       | 96/336 [15:29<50:37, 12.66s/it]  "
     ]
    },
    {
     "name": "stdout",
     "output_type": "stream",
     "text": [
      "내부 평가 피드백 문서_백엔드팀 근무 태도 및 리더십 평가에서 백엔드팀의 협업 능력에 대한 평가 결과는 어떤가요?\n",
      "백엔드팀 리더십 평가 결과도 알려줘.\n"
     ]
    },
    {
     "name": "stderr",
     "output_type": "stream",
     "text": [
      " 29%|██▉       | 97/336 [15:41<49:12, 12.35s/it]"
     ]
    },
    {
     "name": "stdout",
     "output_type": "stream",
     "text": [
      "내부 평가 피드백 문서_백엔드팀 근무 태도 및 리더십 평가에서 프로젝트 A의 성공적 완료에 대한 구체적인 성과는 무엇인가요?\n"
     ]
    },
    {
     "name": "stderr",
     "output_type": "stream",
     "text": [
      " 29%|██▉       | 98/336 [15:46<41:15, 10.40s/it]"
     ]
    },
    {
     "name": "stdout",
     "output_type": "stream",
     "text": [
      "내부 평가 피드백 문서_백엔드팀 근무 태도 및 리더십 평가에서 시스템 안정성 향상에 대한 구체적인 수치는 어떻게 되나요?\n"
     ]
    },
    {
     "name": "stderr",
     "output_type": "stream",
     "text": [
      " 29%|██▉       | 99/336 [15:52<34:49,  8.82s/it]"
     ]
    },
    {
     "name": "stdout",
     "output_type": "stream",
     "text": [
      "데이터/AI팀 R&D 성과 및 투자 대비 효과 분석 보고서에서 성과 측정 지표의 다양화 필요성에 대한 구체적인 설명은 무엇인가요?\n"
     ]
    },
    {
     "name": "stderr",
     "output_type": "stream",
     "text": [
      " 30%|██▉       | 100/336 [15:58<31:37,  8.04s/it]"
     ]
    },
    {
     "name": "stdout",
     "output_type": "stream",
     "text": [
      "데이터/AI팀 R&D 성과 및 투자 대비 효과 분석 보고서에서 제안된 후속 조치 중 외부 전문가와의 협업 강화 방안은 어떤 내용인가요?\n",
      "오늘 저녁에 어떤 간단한 요리를 해볼지 하나 추천해줘.\n"
     ]
    },
    {
     "name": "stderr",
     "output_type": "stream",
     "text": [
      " 30%|███       | 101/336 [16:14<40:39, 10.38s/it]"
     ]
    },
    {
     "name": "stdout",
     "output_type": "stream",
     "text": [
      "데이터/AI팀 R&D 성과 및 투자 대비 효과 분석 보고서에서 ROI 분석을 통해 효율적인 자원 배분을 위한 전략적 고려 사항은 무엇인가요?\n",
      "외부 협력 네트워크 확대 방안 알려줘\n",
      "오늘 저녁에 간단하게 먹을 메뉴 하나 정해줘.\n"
     ]
    },
    {
     "name": "stderr",
     "output_type": "stream",
     "text": [
      " 30%|███       | 102/336 [16:31<48:29, 12.44s/it]"
     ]
    },
    {
     "name": "stdout",
     "output_type": "stream",
     "text": [
      "데이터/AI팀 R&D 성과 및 투자 대비 효과 분석 보고서에서 데이터 품질 저하에 따른 프로젝트 실패 리스크를 줄이기 위한 방안은 무엇인가요?\n",
      "데이터 품질 관리 프로세스 재정비 시 구체적으로 어떤 절차나 도구를 도입했는지 설명해 줄 수 있어?\n",
      "데이터 품질 점검 결과에서 발견된 주요 문제 유형과 그에 대한 개선 조치 사례를 구체적으로 설명해 줄 수 있어?\n"
     ]
    },
    {
     "name": "stderr",
     "output_type": "stream",
     "text": [
      " 31%|███       | 103/336 [16:56<1:02:46, 16.17s/it]"
     ]
    },
    {
     "name": "stdout",
     "output_type": "stream",
     "text": [
      "데이터/AI팀 R&D 성과 및 투자 대비 효과 분석 보고서에서 팀원들의 태도 및 기여도 분석 결과는 어떻게 요약될 수 있나요?\n",
      "성과 분석에서 언급된 일부 의사소통 비효율과 정보 공유 부족 문제에 대해, 구체적으로 어떤 상황에서 업무 지연이 발생했는지 사례를 들어 설명해줄 수 있어?\n"
     ]
    },
    {
     "name": "stderr",
     "output_type": "stream",
     "text": [
      " 31%|███       | 104/336 [17:10<59:52, 15.48s/it]  "
     ]
    },
    {
     "name": "stdout",
     "output_type": "stream",
     "text": [
      "데이터/AI팀 R&D 성과 및 투자 대비 효과 분석 보고서에서 고객 맞춤형 AI 솔루션 개발 완료에 대한 고객 피드백은 어떤 내용이었나요?\n",
      "고객 피드백 구체 사례 알려줘\n",
      "오늘 저녁 메뉴 하나 정해줘.\n",
      "프로젝트A 담당자 명단 알려줘\n"
     ]
    },
    {
     "name": "stderr",
     "output_type": "stream",
     "text": [
      " 31%|███▏      | 105/336 [17:27<1:02:01, 16.11s/it]"
     ]
    },
    {
     "name": "stdout",
     "output_type": "stream",
     "text": [
      "데이터/AI팀 R&D 성과 및 투자 대비 효과 분석 보고서에서 데이터 분석 플랫폼 업그레이드의 구체적인 성과는 무엇인가요?\n",
      "오늘 저녁 메뉴 하나 정해줘.\n"
     ]
    },
    {
     "name": "stderr",
     "output_type": "stream",
     "text": [
      " 32%|███▏      | 106/336 [17:37<54:29, 14.22s/it]  "
     ]
    },
    {
     "name": "stdout",
     "output_type": "stream",
     "text": [
      "데이터/AI팀 R&D 성과 및 투자 대비 효과 분석 보고서에서 제안된 성과 측정 지표에 고객 만족도 및 시장 반응을 추가하는 이유는 무엇인가요?\n"
     ]
    },
    {
     "name": "stderr",
     "output_type": "stream",
     "text": [
      " 32%|███▏      | 107/336 [17:43<44:36, 11.69s/it]"
     ]
    },
    {
     "name": "stdout",
     "output_type": "stream",
     "text": [
      "주요 인사(승진·이동·해고) 관리 문서에서 인사 변화 필요성 분석의 책임자는 누구인가요?\n",
      "인사 변화 필요성 분석 이후 후보자 선정 및 평가 기준 수립 단계에서 CTO와 인사팀이 각각 맡는 역할의 구체적인 분담 내용이 궁금해.\n"
     ]
    },
    {
     "name": "stderr",
     "output_type": "stream",
     "text": [
      " 32%|███▏      | 108/336 [17:55<45:07, 11.87s/it]"
     ]
    },
    {
     "name": "stdout",
     "output_type": "stream",
     "text": [
      "주요 인사(승진·이동·해고) 관리 문서의 실행 계획에서 승진/이동/해고 대상자와의 면담 실시 단계의 완료 기한은 언제인가요?\n",
      "오늘 저녁 메뉴 하나 정해줘.\n",
      "면담 결과 보고 절차 알려줘\n",
      "오늘 저녁에 먹을 간단한 요리 하나 추천해줘.\n"
     ]
    },
    {
     "name": "stderr",
     "output_type": "stream",
     "text": [
      " 32%|███▏      | 109/336 [18:13<51:24, 13.59s/it]"
     ]
    },
    {
     "name": "stdout",
     "output_type": "stream",
     "text": [
      "주요 인사(승진·이동·해고) 관리 문서에서 인사 변화 후 모니터링의 검증 포인트는 무엇인가요?\n"
     ]
    },
    {
     "name": "stderr",
     "output_type": "stream",
     "text": [
      " 33%|███▎      | 110/336 [18:18<42:24, 11.26s/it]"
     ]
    },
    {
     "name": "stdout",
     "output_type": "stream",
     "text": [
      "주요 인사(승진·이동·해고) 관리 문서의 리스크 및 대응 방안에서 직원 불만에 대한 대응 방안은 무엇인가요?\n"
     ]
    },
    {
     "name": "stderr",
     "output_type": "stream",
     "text": [
      " 33%|███▎      | 111/336 [18:24<35:51,  9.56s/it]"
     ]
    },
    {
     "name": "stdout",
     "output_type": "stream",
     "text": [
      "주요 인사(승진·이동·해고) 관리 문서에서 승진/이동/해고 대상자와의 면담을 실시하는 책임자는 누구인가요?\n"
     ]
    },
    {
     "name": "stderr",
     "output_type": "stream",
     "text": [
      " 33%|███▎      | 112/336 [18:32<33:31,  8.98s/it]"
     ]
    },
    {
     "name": "stdout",
     "output_type": "stream",
     "text": [
      "주요 인사(승진·이동·해고) 관리 문서의 적용 범위에는 어떤 직원들이 포함되나요?\n"
     ]
    },
    {
     "name": "stderr",
     "output_type": "stream",
     "text": [
      " 34%|███▎      | 113/336 [18:38<30:48,  8.29s/it]"
     ]
    },
    {
     "name": "stdout",
     "output_type": "stream",
     "text": [
      "주요 인사(승진·이동·해고) 관리 문서에서 인사 변화 공지 및 실행 단계의 책임자는 누구인가요?\n"
     ]
    },
    {
     "name": "stderr",
     "output_type": "stream",
     "text": [
      " 34%|███▍      | 114/336 [18:43<26:25,  7.14s/it]"
     ]
    },
    {
     "name": "stdout",
     "output_type": "stream",
     "text": [
      "주요 인사(승진·이동·해고) 관리 문서의 리스크 중 인력 공백에 대한 설명은 무엇인가요?\n",
      "대체 인력 계획 수립 절차 알려줘\n",
      "오늘 저녁에 간단하게 만들 수 있는 요리 하나 추천해줘.\n",
      "대체 인력 투입 시 기존 팀원들의 업무 분담 조정은 구체적으로 어떻게 진행되는지 알려줄 수 있어?\n"
     ]
    },
    {
     "name": "stderr",
     "output_type": "stream",
     "text": [
      " 34%|███▍      | 115/336 [19:08<46:30, 12.63s/it]"
     ]
    },
    {
     "name": "stdout",
     "output_type": "stream",
     "text": [
      "주요 인사(승진·이동·해고) 관리 문서에서 성과 기반 결정의 검증 포인트는 무엇인가요?\n"
     ]
    },
    {
     "name": "stderr",
     "output_type": "stream",
     "text": [
      " 35%|███▍      | 116/336 [19:14<39:01, 10.64s/it]"
     ]
    },
    {
     "name": "stdout",
     "output_type": "stream",
     "text": [
      "주요 인사(승진·이동·해고) 관리 문서의 기밀 유지 지침에 따르면, 이 문서는 누구와 공유해서는 안 되나요?\n",
      "기밀 위반 시 제재 내용 알려줘\n"
     ]
    },
    {
     "name": "stderr",
     "output_type": "stream",
     "text": [
      " 35%|███▍      | 117/336 [19:24<37:56, 10.40s/it]"
     ]
    },
    {
     "name": "stdout",
     "output_type": "stream",
     "text": [
      "주요 인사(승진·이동·해고) 관리 문서의 실행 계획에서 후보자 선정 및 평가 기준 수립 단계의 완료 기한은 언제인가요?\n",
      "오늘 저녁 메뉴 하나 정해줘.\n"
     ]
    },
    {
     "name": "stderr",
     "output_type": "stream",
     "text": [
      " 35%|███▌      | 118/336 [19:30<33:06,  9.11s/it]"
     ]
    },
    {
     "name": "stdout",
     "output_type": "stream",
     "text": [
      "주요 인사(승진·이동·해고) 관리 문서에서 조직 문화 저하에 대한 리스크 설명은 무엇인가요?\n",
      "오늘 운동 뭐 할지 정해줘.\n"
     ]
    },
    {
     "name": "stderr",
     "output_type": "stream",
     "text": [
      " 35%|███▌      | 119/336 [19:38<31:11,  8.63s/it]"
     ]
    },
    {
     "name": "stdout",
     "output_type": "stream",
     "text": [
      "주요 인사(승진·이동·해고) 관리 문서의 개요 및 목적에서 인사 변화의 중요성은 무엇으로 설명되고 있나요?\n"
     ]
    },
    {
     "name": "stderr",
     "output_type": "stream",
     "text": [
      " 36%|███▌      | 120/336 [19:43<27:56,  7.76s/it]"
     ]
    },
    {
     "name": "stdout",
     "output_type": "stream",
     "text": [
      "주요 인사(승진·이동·해고) 관리 문서의 실행 계획에서 최종 결정 및 승인 단계의 책임자는 누구인가요?\n"
     ]
    },
    {
     "name": "stderr",
     "output_type": "stream",
     "text": [
      " 36%|███▌      | 121/336 [19:47<23:12,  6.47s/it]"
     ]
    },
    {
     "name": "stdout",
     "output_type": "stream",
     "text": [
      "주요 인사(승진·이동·해고) 관리 문서에서 인사 변화 후 피드백 수집의 완료 기한은 언제인가요?\n",
      "피드백 수집 방식은 어떻게 돼?\n",
      "오늘 저녁에 어울리는 간단한 요리 하나 추천해줘.\n",
      "피드백 설문 문항 예시 보여줘.\n"
     ]
    },
    {
     "name": "stderr",
     "output_type": "stream",
     "text": [
      " 36%|███▋      | 122/336 [20:03<33:16,  9.33s/it]"
     ]
    },
    {
     "name": "stdout",
     "output_type": "stream",
     "text": [
      "주요 인사(승진·이동·해고) 관리 문서의 리스크 및 대응 방안에서 긍정적인 조직 문화 조성을 위한 프로그램 시행은 어떤 리스크에 대한 대응 방안인가요?\n"
     ]
    },
    {
     "name": "stderr",
     "output_type": "stream",
     "text": [
      " 37%|███▋      | 123/336 [20:07<27:51,  7.85s/it]"
     ]
    },
    {
     "name": "stdout",
     "output_type": "stream",
     "text": [
      "주요 인사(승진·이동·해고) 관리 문서에서 팀의 의견 수렴의 검증 포인트는 무엇인가요?\n",
      "오늘 저녁 메뉴 하나 정해줘.\n"
     ]
    },
    {
     "name": "stderr",
     "output_type": "stream",
     "text": [
      " 37%|███▋      | 124/336 [20:13<25:56,  7.34s/it]"
     ]
    },
    {
     "name": "stdout",
     "output_type": "stream",
     "text": [
      "주요 인사(승진·이동·해고) 관리 문서의 개정 이력에서 최초 작성일은 언제인가요?\n"
     ]
    },
    {
     "name": "stderr",
     "output_type": "stream",
     "text": [
      " 37%|███▋      | 125/336 [20:18<23:00,  6.54s/it]"
     ]
    },
    {
     "name": "stdout",
     "output_type": "stream",
     "text": [
      "주요 인사(승진·이동·해고) 관리 문서의 실행 계획에서 인사 변화 필요성 분석 단계의 완료 기한은 언제인가요?\n"
     ]
    },
    {
     "name": "stderr",
     "output_type": "stream",
     "text": [
      " 38%|███▊      | 126/336 [20:22<20:12,  5.78s/it]"
     ]
    },
    {
     "name": "stdout",
     "output_type": "stream",
     "text": [
      "주요 인사(승진·이동·해고) 관리 문서에서 인사 변화 과정에서 발생하는 모든 정보는 어떻게 관리되어야 하나요?\n"
     ]
    },
    {
     "name": "stderr",
     "output_type": "stream",
     "text": [
      " 38%|███▊      | 127/336 [20:26<17:58,  5.16s/it]"
     ]
    },
    {
     "name": "stdout",
     "output_type": "stream",
     "text": [
      "주요 인사(승진·이동·해고) 관리 문서의 적용 범위에서 정규직과 계약직 외에 어떤 직원이 포함되나요?\n",
      "이 문서에서 언급된 '모든 직원'에 인턴, 파견직, 프리랜서 등 비정규 인력도 포함되는지, 그리고 이들에 대한 인사 관리 프로세스 적용 방식이 별도로 정의되어 있는지 궁금해.\n"
     ]
    },
    {
     "name": "stderr",
     "output_type": "stream",
     "text": [
      " 38%|███▊      | 128/336 [20:38<25:37,  7.39s/it]"
     ]
    },
    {
     "name": "stdout",
     "output_type": "stream",
     "text": [
      "주요 인사(승진·이동·해고) 관리 문서의 리스크 및 대응 방안에서 해고로 인한 업무 공백 발생에 대한 설명은 무엇인가요?\n",
      "오늘 저녁 메뉴 하나 정해줘.\n"
     ]
    },
    {
     "name": "stderr",
     "output_type": "stream",
     "text": [
      " 38%|███▊      | 129/336 [20:48<28:05,  8.14s/it]"
     ]
    },
    {
     "name": "stdout",
     "output_type": "stream",
     "text": [
      "주요 인사(승진·이동·해고) 관리 문서에서 인사 변화의 효과적인 관리가 중요한 이유는 무엇인가요?\n",
      "오늘 저녁에 듣기 좋은 음악 장르 하나 추천해줘.\n"
     ]
    },
    {
     "name": "stderr",
     "output_type": "stream",
     "text": [
      " 39%|███▊      | 130/336 [20:56<27:19,  7.96s/it]"
     ]
    },
    {
     "name": "stdout",
     "output_type": "stream",
     "text": [
      "주요 인사(승진·이동·해고) 관리 문서의 실행 계획에서 인사 변화 공지 및 실행 단계의 설명은 무엇인가요?\n"
     ]
    },
    {
     "name": "stderr",
     "output_type": "stream",
     "text": [
      " 39%|███▉      | 131/336 [21:01<24:03,  7.04s/it]"
     ]
    },
    {
     "name": "stdout",
     "output_type": "stream",
     "text": [
      "주요 인사(승진·이동·해고) 관리 문서에서 인사 변화 필요성 분석의 단계에서 어떤 작업이 이루어지나요?\n"
     ]
    },
    {
     "name": "stderr",
     "output_type": "stream",
     "text": [
      " 39%|███▉      | 132/336 [21:05<20:49,  6.13s/it]"
     ]
    },
    {
     "name": "stdout",
     "output_type": "stream",
     "text": [
      "임원 인사·보상·승계 계획 문서에서 현재 임원 구성 및 성과 분석의 완료 기한은 언제인가요?\n"
     ]
    },
    {
     "name": "stderr",
     "output_type": "stream",
     "text": [
      " 40%|███▉      | 133/336 [21:09<18:40,  5.52s/it]"
     ]
    },
    {
     "name": "stdout",
     "output_type": "stream",
     "text": [
      "임원 인사·보상·승계 계획 문서의 시장 및 업계 벤치마킹 보상 조사는 어떤 내용을 포함하나요?\n",
      "보상 패키지 구성 항목 알려줘\n"
     ]
    },
    {
     "name": "stderr",
     "output_type": "stream",
     "text": [
      " 40%|███▉      | 134/336 [21:19<23:00,  6.83s/it]"
     ]
    },
    {
     "name": "stdout",
     "output_type": "stream",
     "text": [
      "임원 인사·보상·승계 계획 문서에서 보상 및 승계 계획 초안 작성의 책임자는 누구인가요?\n",
      "보상 및 승계 계획 초안 작성 이후 경영진의 피드백 수집 과정은 어떻게 진행되는지 알려줄 수 있어?\n"
     ]
    },
    {
     "name": "stderr",
     "output_type": "stream",
     "text": [
      " 40%|████      | 135/336 [21:27<24:47,  7.40s/it]"
     ]
    },
    {
     "name": "stdout",
     "output_type": "stream",
     "text": [
      "임원 인사·보상·승계 계획 문서의 리스크 및 대응 방안에서 인재 이탈에 대한 대응 방안은 무엇인가요?\n",
      "오늘 날씨가 흐리네, 우산 챙길지 결정해줘.\n",
      "오늘 저녁 메뉴로 뭐가 좋을지 골라줘.\n"
     ]
    },
    {
     "name": "stderr",
     "output_type": "stream",
     "text": [
      " 40%|████      | 136/336 [21:40<29:59,  9.00s/it]"
     ]
    },
    {
     "name": "stdout",
     "output_type": "stream",
     "text": [
      "임원 인사·보상·승계 계획 문서에서 승계 계획의 실효성을 검증하기 위한 포인트는 무엇인가요?\n"
     ]
    },
    {
     "name": "stderr",
     "output_type": "stream",
     "text": [
      " 41%|████      | 137/336 [21:46<26:21,  7.95s/it]"
     ]
    },
    {
     "name": "stdout",
     "output_type": "stream",
     "text": [
      "임원 인사·보상·승계 계획 문서의 최종 계획 수립 및 승인 단계의 완료 기한은 언제인가요?\n"
     ]
    },
    {
     "name": "stderr",
     "output_type": "stream",
     "text": [
      " 41%|████      | 138/336 [21:51<23:25,  7.10s/it]"
     ]
    },
    {
     "name": "stdout",
     "output_type": "stream",
     "text": [
      "임원 인사·보상·승계 계획 문서에서 내부 갈등에 대한 대응 방안은 무엇으로 제시되고 있나요?\n"
     ]
    },
    {
     "name": "stderr",
     "output_type": "stream",
     "text": [
      " 41%|████▏     | 139/336 [21:55<20:39,  6.29s/it]"
     ]
    },
    {
     "name": "stdout",
     "output_type": "stream",
     "text": [
      "임원 인사·보상·승계 계획 문서의 성과 기반 평가에서 어떤 기준이 설정되어야 하는지 확인하는 방법은 무엇인가요?\n"
     ]
    },
    {
     "name": "stderr",
     "output_type": "stream",
     "text": [
      " 42%|████▏     | 140/336 [22:00<19:14,  5.89s/it]"
     ]
    },
    {
     "name": "stdout",
     "output_type": "stream",
     "text": [
      "임원 인사·보상·승계 계획 문서에서 보상 경쟁력을 검토하기 위해 어떤 기준을 사용하나요?\n",
      "오늘 저녁에 간단하게 먹을 수 있는 음식 하나 추천해줘.\n"
     ]
    },
    {
     "name": "stderr",
     "output_type": "stream",
     "text": [
      " 42%|████▏     | 141/336 [22:07<20:06,  6.19s/it]"
     ]
    },
    {
     "name": "stdout",
     "output_type": "stream",
     "text": [
      "임원 인사·보상·승계 계획 문서의 기밀 유지 지침에 따르면, 문서의 복사 및 배포는 누구의 승인을 받아야 하나요?\n"
     ]
    },
    {
     "name": "stderr",
     "output_type": "stream",
     "text": [
      " 42%|████▏     | 142/336 [22:13<19:19,  5.98s/it]"
     ]
    },
    {
     "name": "stdout",
     "output_type": "stream",
     "text": [
      "임원 인사·보상·승계 계획 문서에서 초안 검토 및 피드백 수집의 책임자는 누구인가요?\n"
     ]
    },
    {
     "name": "stderr",
     "output_type": "stream",
     "text": [
      " 43%|████▎     | 143/336 [22:18<18:14,  5.67s/it]"
     ]
    },
    {
     "name": "stdout",
     "output_type": "stream",
     "text": [
      "임원 인사·보상·승계 계획 문서의 작성일자는 언제인가요?\n",
      "오늘 저녁 간단하게 먹을 수 있는 메뉴 하나 정해줘.\n"
     ]
    },
    {
     "name": "stderr",
     "output_type": "stream",
     "text": [
      " 43%|████▎     | 144/336 [22:23<18:00,  5.63s/it]"
     ]
    },
    {
     "name": "stdout",
     "output_type": "stream",
     "text": [
      "임원 인사·보상·승계 계획 문서에서 법적 리스크에 대한 대응 방안은 무엇인가요?\n",
      "오늘 저녁 메뉴 하나 정해줘.\n",
      "임원 인사·보상·승계 계획 문서에서 법률 자문을 통한 정책 검토가 실제로 어떻게 진행되는지 구체적인 절차를 설명해줄 수 있어?\n"
     ]
    },
    {
     "name": "stderr",
     "output_type": "stream",
     "text": [
      " 43%|████▎     | 145/336 [22:43<31:34,  9.92s/it]"
     ]
    },
    {
     "name": "stdout",
     "output_type": "stream",
     "text": [
      "임원 인사·보상·승계 계획 문서의 적용 범위는 어떤 임원들을 포함하나요?\n",
      "승계 계획 수립 절차 알려줘\n",
      "오늘 저녁에 어울리는 간단한 요리 하나 추천해줘.\n"
     ]
    },
    {
     "name": "stderr",
     "output_type": "stream",
     "text": [
      " 43%|████▎     | 146/336 [23:00<37:55, 11.98s/it]"
     ]
    },
    {
     "name": "stdout",
     "output_type": "stream",
     "text": [
      "임원 인사·보상·승계 계획 문서에서 인사팀의 역할은 무엇인가요?\n"
     ]
    },
    {
     "name": "stderr",
     "output_type": "stream",
     "text": [
      " 44%|████▍     | 147/336 [23:07<33:08, 10.52s/it]"
     ]
    },
    {
     "name": "stdout",
     "output_type": "stream",
     "text": [
      "임원 인사·보상·승계 계획 문서의 6단계 실행 계획에서 실행 및 모니터링의 완료 기한은 언제인가요?\n",
      "실행 및 모니터링 단계에서 산출되는 주요 결과물이나 보고서는 어떤 형식으로 제출해야 해?\n"
     ]
    },
    {
     "name": "stderr",
     "output_type": "stream",
     "text": [
      " 44%|████▍     | 148/336 [23:22<37:42, 12.03s/it]"
     ]
    },
    {
     "name": "stdout",
     "output_type": "stream",
     "text": [
      "임원 인사·보상·승계 계획 문서에서 CTO의 관점에서 검증해야 할 포인트는 무엇인가요?\n"
     ]
    },
    {
     "name": "stderr",
     "output_type": "stream",
     "text": [
      " 44%|████▍     | 149/336 [23:30<33:31, 10.76s/it]"
     ]
    },
    {
     "name": "stdout",
     "output_type": "stream",
     "text": [
      "임원 인사·보상·승계 계획 문서의 개요 및 목적에서 어떤 목표를 설정하고 있나요?\n"
     ]
    },
    {
     "name": "stderr",
     "output_type": "stream",
     "text": [
      " 45%|████▍     | 150/336 [23:37<29:17,  9.45s/it]"
     ]
    },
    {
     "name": "stdout",
     "output_type": "stream",
     "text": [
      "임원 인사·보상·승계 계획 문서에서 경쟁력 있는 보상 패키지 제공의 필요성은 어떻게 설명되고 있나요?\n",
      "오늘 저녁에 간단하게 먹을 수 있는 음식 하나 추천해줘.\n",
      "오늘 저녁에 간단하게 만들 수 있는 파스타 하나 추천해줘.\n",
      "오늘 저녁에 간단하게 만들 수 있는 볶음밥 하나 정해줘.\n"
     ]
    },
    {
     "name": "stderr",
     "output_type": "stream",
     "text": [
      " 45%|████▍     | 151/336 [23:49<31:48, 10.32s/it]"
     ]
    },
    {
     "name": "stdout",
     "output_type": "stream",
     "text": [
      "임원 인사·보상·승계 계획 문서의 리스크 및 대응 방안에서 내부 갈등의 설명은 무엇인가요?\n"
     ]
    },
    {
     "name": "stderr",
     "output_type": "stream",
     "text": [
      " 45%|████▌     | 152/336 [23:54<26:45,  8.73s/it]"
     ]
    },
    {
     "name": "stdout",
     "output_type": "stream",
     "text": [
      "임원 인사·보상·승계 계획 문서의 버전은 몇 번인가요?\n"
     ]
    },
    {
     "name": "stderr",
     "output_type": "stream",
     "text": [
      " 46%|████▌     | 153/336 [23:58<22:03,  7.23s/it]"
     ]
    },
    {
     "name": "stdout",
     "output_type": "stream",
     "text": [
      "임원 인사·보상·승계 계획 문서에서 인사 정책의 법적 미비에 대한 설명은 무엇인가요?\n",
      "오늘 저녁 메뉴 하나 정해줘.\n"
     ]
    },
    {
     "name": "stderr",
     "output_type": "stream",
     "text": [
      " 46%|████▌     | 154/336 [24:05<22:08,  7.30s/it]"
     ]
    },
    {
     "name": "stdout",
     "output_type": "stream",
     "text": [
      "임원 인사·보상·승계 계획 문서의 작성자는 누구인가요?\n"
     ]
    },
    {
     "name": "stderr",
     "output_type": "stream",
     "text": [
      " 46%|████▌     | 155/336 [24:09<19:03,  6.32s/it]"
     ]
    },
    {
     "name": "stdout",
     "output_type": "stream",
     "text": [
      "임원 인사·보상·승계 계획 문서에서 임원 인사의 투명성과 공정성을 확보하기 위한 방법은 무엇인가요?\n"
     ]
    },
    {
     "name": "stderr",
     "output_type": "stream",
     "text": [
      " 46%|████▋     | 156/336 [24:16<19:17,  6.43s/it]"
     ]
    },
    {
     "name": "stdout",
     "output_type": "stream",
     "text": [
      "임원 인사·보상·승계 계획 문서의 리스크 관리 목표는 무엇인가요?\n"
     ]
    },
    {
     "name": "stderr",
     "output_type": "stream",
     "text": [
      " 47%|████▋     | 157/336 [24:22<18:30,  6.20s/it]"
     ]
    },
    {
     "name": "stdout",
     "output_type": "stream",
     "text": [
      "백엔드팀 프로젝트 성과 및 보상 연계 보고서에서 프로젝트 완료율은 어떻게 평가되었나요?\n",
      "보상 연계 기준 구체적으로 알려줘\n"
     ]
    },
    {
     "name": "stderr",
     "output_type": "stream",
     "text": [
      " 47%|████▋     | 158/336 [24:35<24:53,  8.39s/it]"
     ]
    },
    {
     "name": "stdout",
     "output_type": "stream",
     "text": [
      "백엔드팀 프로젝트 성과 및 보상 연계 보고서에서 코드 품질에 대한 기준은 무엇인가요?\n",
      "코드 리뷰 피드백 반영률이 저조한 원인이나 이를 개선하기 위한 구체적인 방안이 보고서에 언급되어 있는지 알려줄 수 있어?\n"
     ]
    },
    {
     "name": "stderr",
     "output_type": "stream",
     "text": [
      " 47%|████▋     | 159/336 [24:47<27:43,  9.40s/it]"
     ]
    },
    {
     "name": "stdout",
     "output_type": "stream",
     "text": [
      "백엔드팀 프로젝트 성과 및 보상 연계 보고서에서 팀원 간 협업 및 커뮤니케이션의 평가 기준은 어떻게 설정되었나요?\n",
      "성과 기반 보상 방식 구체적으로 알려줘\n",
      "오늘 운동할 만한 스트레칭 동작 하나 알려줘.\n"
     ]
    },
    {
     "name": "stderr",
     "output_type": "stream",
     "text": [
      " 48%|████▊     | 160/336 [25:09<39:00, 13.30s/it]"
     ]
    },
    {
     "name": "stdout",
     "output_type": "stream",
     "text": [
      "백엔드팀 프로젝트 성과 및 보상 연계 보고서에서 프로젝트 A의 사용자 피드백은 어떤 결과를 보였나요?\n",
      "오늘 저녁에 간단하게 먹을 수 있는 메뉴 하나 정해줘.\n"
     ]
    },
    {
     "name": "stderr",
     "output_type": "stream",
     "text": [
      " 48%|████▊     | 161/336 [25:17<33:54, 11.63s/it]"
     ]
    },
    {
     "name": "stdout",
     "output_type": "stream",
     "text": [
      "백엔드팀 프로젝트 성과 및 보상 연계 보고서에서 팀원 X의 기여도는 어떤 점에서 높게 평가되었나요?\n"
     ]
    },
    {
     "name": "stderr",
     "output_type": "stream",
     "text": [
      " 48%|████▊     | 162/336 [25:23<28:46,  9.92s/it]"
     ]
    },
    {
     "name": "stdout",
     "output_type": "stream",
     "text": [
      "백엔드팀 프로젝트 성과 및 보상 연계 보고서에서 코드 리뷰 피드백 반영률이 저조한 이유는 무엇인가요?\n",
      "오늘 저녁에 간단하게 먹을 수 있는 메뉴 하나 추천해줘.\n",
      "오늘 저녁에 간편하게 만들 수 있는 파스타 하나 정해줘.\n",
      "오늘 저녁에 간편하게 만들 수 있는 크림 파스타 하나 정해줘.\n"
     ]
    },
    {
     "name": "stderr",
     "output_type": "stream",
     "text": [
      " 49%|████▊     | 163/336 [25:39<33:41, 11.68s/it]"
     ]
    },
    {
     "name": "stdout",
     "output_type": "stream",
     "text": [
      "백엔드팀 프로젝트 성과 및 보상 연계 보고서에서 제안된 후속 조치 중 정기적인 코드 리뷰 세션의 필요성은 어떤 이유에서인가요?\n",
      "오늘 저녁 메뉴 하나 정해줘.\n"
     ]
    },
    {
     "name": "stderr",
     "output_type": "stream",
     "text": [
      " 49%|████▉     | 164/336 [25:48<31:26, 10.97s/it]"
     ]
    },
    {
     "name": "stdout",
     "output_type": "stream",
     "text": [
      "백엔드팀 프로젝트 성과 및 보상 연계 보고서에서 팀원 Y의 성과는 어떤 점에서 두드러졌나요?\n"
     ]
    },
    {
     "name": "stderr",
     "output_type": "stream",
     "text": [
      " 49%|████▉     | 165/336 [25:53<26:26,  9.28s/it]"
     ]
    },
    {
     "name": "stdout",
     "output_type": "stream",
     "text": [
      "백엔드팀 프로젝트 성과 및 보상 연계 보고서에서 커뮤니케이션 부족으로 인한 일정 지연 사례는 어떤 프로젝트에서 발생했나요?\n",
      "성과 연계 인센티브 기준 알려줘\n"
     ]
    },
    {
     "name": "stderr",
     "output_type": "stream",
     "text": [
      " 49%|████▉     | 166/336 [26:04<27:25,  9.68s/it]"
     ]
    },
    {
     "name": "stdout",
     "output_type": "stream",
     "text": [
      "백엔드팀 프로젝트 성과 및 보상 연계 보고서에서 성과가 우수한 팀원에게 지급될 인센티브는 어떤 기준으로 결정되나요?\n",
      "성과 평가 기준별로 각 항목의 세부 평가 방식이나 점수 산정 방법에 대해 구체적으로 설명해줄 수 있어?\n"
     ]
    },
    {
     "name": "stderr",
     "output_type": "stream",
     "text": [
      " 50%|████▉     | 167/336 [26:19<31:35, 11.22s/it]"
     ]
    },
    {
     "name": "stdout",
     "output_type": "stream",
     "text": [
      "백엔드팀 프로젝트 성과 및 보상 연계 보고서에서 신규 팀원 교육 및 멘토링 프로그램의 필요성은 어떻게 설명되고 있나요?\n"
     ]
    },
    {
     "name": "stderr",
     "output_type": "stream",
     "text": [
      " 50%|█████     | 168/336 [26:25<27:12,  9.72s/it]"
     ]
    },
    {
     "name": "stdout",
     "output_type": "stream",
     "text": [
      "백엔드팀 프로젝트 성과 및 보상 연계 보고서에서 고객 피드백 및 사용자 만족도는 어떤 방식으로 측정되었나요?\n",
      "고객 피드백 설문조사에서 도출된 주요 개선 사항이나 실제로 반영된 사례가 있다면 구체적으로 알려줄 수 있어?\n",
      "오늘 저녁에 간단하게 할 운동 하나 추천해줘.\n"
     ]
    },
    {
     "name": "stderr",
     "output_type": "stream",
     "text": [
      " 50%|█████     | 169/336 [26:43<33:38, 12.09s/it]"
     ]
    },
    {
     "name": "stdout",
     "output_type": "stream",
     "text": [
      "백엔드팀 프로젝트 성과 및 보상 연계 보고서에서 코드 품질 점수 85점은 어떤 기준으로 평가된 것인가요?\n",
      "오늘 저녁에 어울리는 간단한 요리 하나 추천해줘.\n",
      "오늘 저녁에 간단하게 만들 수 있는 '볶음밥' 하나 골라줘.\n"
     ]
    },
    {
     "name": "stderr",
     "output_type": "stream",
     "text": [
      " 51%|█████     | 170/336 [26:56<34:32, 12.48s/it]"
     ]
    },
    {
     "name": "stdout",
     "output_type": "stream",
     "text": [
      "백엔드팀 프로젝트 성과 및 보상 연계 보고서에서 팀 내 관리 체계 강화의 필요성은 어떤 리스크를 예방하기 위한 것인가요?\n"
     ]
    },
    {
     "name": "stderr",
     "output_type": "stream",
     "text": [
      " 51%|█████     | 171/336 [27:03<29:42, 10.81s/it]"
     ]
    },
    {
     "name": "stdout",
     "output_type": "stream",
     "text": [
      "백엔드팀 프로젝트 성과 및 보상 연계 보고서에서 2025년 1월부터 8월까지 진행된 프로젝트의 범위는 어떻게 설정되었나요?\n"
     ]
    },
    {
     "name": "stderr",
     "output_type": "stream",
     "text": [
      " 51%|█████     | 172/336 [27:09<25:32,  9.35s/it]"
     ]
    },
    {
     "name": "stdout",
     "output_type": "stream",
     "text": [
      "핵심 인재 유출 리스크 분석 및 대응 전략 보고서에서 현재 인재 유출 리스크를 평가하기 위한 직원 만족도 조사는 어떻게 진행되나요?\n",
      "직원 피드백 분석 방법 알려줘\n"
     ]
    },
    {
     "name": "stderr",
     "output_type": "stream",
     "text": [
      " 51%|█████▏    | 173/336 [27:20<26:35,  9.79s/it]"
     ]
    },
    {
     "name": "stdout",
     "output_type": "stream",
     "text": [
      "실행 계획의 단계 2인 예방 조치 수립에서 보상 체계 재검토 및 개선의 구체적인 방안은 무엇인가요?\n"
     ]
    },
    {
     "name": "stderr",
     "output_type": "stream",
     "text": [
      " 52%|█████▏    | 174/336 [27:24<22:14,  8.24s/it]"
     ]
    },
    {
     "name": "stdout",
     "output_type": "stream",
     "text": [
      "유출 시나리오 대응 단계에서 유출 인재의 지식 전이 방지 방안은 어떤 내용으로 구성되어 있나요?\n",
      "유출 대응 매뉴얼에는 어떤 구체적인 절차나 체크리스트가 포함되어 있는지 알려줄 수 있을까?\n"
     ]
    },
    {
     "name": "stderr",
     "output_type": "stream",
     "text": [
      " 52%|█████▏    | 175/336 [27:38<26:31,  9.88s/it]"
     ]
    },
    {
     "name": "stdout",
     "output_type": "stream",
     "text": [
      "지속 모니터링 및 피드백 단계에서 정기적인 인재 유출 리스크 평가의 주기는 어떻게 설정되어 있나요?\n",
      "정기적인 인재 유출 리스크 평가에서 수집된 직원 피드백은 구체적으로 어떤 방식으로 분석되고 대응 전략에 반영되는지 설명해줄 수 있어?\n"
     ]
    },
    {
     "name": "stderr",
     "output_type": "stream",
     "text": [
      " 52%|█████▏    | 176/336 [27:50<28:21, 10.63s/it]"
     ]
    },
    {
     "name": "stdout",
     "output_type": "stream",
     "text": [
      "리스크 및 대응 방안 섹션에서 내부 불만족에 대한 대응 방안으로 제시된 정기적인 피드백 및 소통 강화는 어떤 방식으로 이루어지나요?\n",
      "정기적인 피드백 세션이나 팀 회의에서 도출된 개선 사항이 실제로 어떻게 실행되고 있는지 구체적인 사례를 알 수 있을까?\n"
     ]
    },
    {
     "name": "stderr",
     "output_type": "stream",
     "text": [
      " 53%|█████▎    | 177/336 [28:04<30:33, 11.53s/it]"
     ]
    },
    {
     "name": "stdout",
     "output_type": "stream",
     "text": [
      "경쟁사 영입 리스크에 대한 대응 방안으로 보상 체계 및 근무 환경 개선이 언급되었는데, 구체적으로 어떤 개선 사항이 포함될 예정인가요?\n"
     ]
    },
    {
     "name": "stderr",
     "output_type": "stream",
     "text": [
      " 53%|█████▎    | 178/336 [28:11<26:24, 10.03s/it]"
     ]
    },
    {
     "name": "stdout",
     "output_type": "stream",
     "text": [
      "경력 개발 부족으로 인한 이탈을 방지하기 위한 교육 및 개발 프로그램 확대는 어떤 형태로 진행될 계획인가요?\n"
     ]
    },
    {
     "name": "stderr",
     "output_type": "stream",
     "text": [
      " 53%|█████▎    | 179/336 [28:17<23:23,  8.94s/it]"
     ]
    },
    {
     "name": "stdout",
     "output_type": "stream",
     "text": [
      "인재 유출 후 대응 체계의 실효성 점검은 어떤 지표를 통해 이루어질 예정인가요?\n",
      "경쟁사 인재 영입 동향 자료 있어?\n",
      "오늘 저녁에 어떤 간단한 요리 하나 추천해줘.\n"
     ]
    },
    {
     "name": "stderr",
     "output_type": "stream",
     "text": [
      " 54%|█████▎    | 180/336 [28:29<25:51,  9.94s/it]"
     ]
    },
    {
     "name": "stdout",
     "output_type": "stream",
     "text": [
      "직원 만족도 및 이직률 변화 추적을 위한 구체적인 데이터 수집 방법은 무엇인가요?\n",
      "오늘 저녁에 간단하게 먹을 수 있는 음식 하나 추천해줘.\n"
     ]
    },
    {
     "name": "stderr",
     "output_type": "stream",
     "text": [
      " 54%|█████▍    | 181/336 [28:39<25:44,  9.97s/it]"
     ]
    },
    {
     "name": "stdout",
     "output_type": "stream",
     "text": [
      "법적 계약 강화 및 사후 관리 방안은 어떤 절차로 진행될 예정인가요?\n",
      "오늘 저녁에 간단하게 만들 수 있는 요리 하나 추천해줘.\n"
     ]
    },
    {
     "name": "stderr",
     "output_type": "stream",
     "text": [
      " 54%|█████▍    | 182/336 [28:48<24:36,  9.59s/it]"
     ]
    },
    {
     "name": "stdout",
     "output_type": "stream",
     "text": [
      "인재 유출 리스크 분석 및 대응 전략 보고서에서 제시된 유연 근무제 도입의 구체적인 내용은 무엇인가요?\n",
      "오늘 저녁 메뉴 하나 정해줘.\n"
     ]
    },
    {
     "name": "stderr",
     "output_type": "stream",
     "text": [
      " 54%|█████▍    | 183/336 [28:55<22:37,  8.87s/it]"
     ]
    },
    {
     "name": "stdout",
     "output_type": "stream",
     "text": [
      "경쟁사 대비 인재 관리 전략의 경쟁력 평가를 위한 기준은 무엇인가요?\n"
     ]
    },
    {
     "name": "stderr",
     "output_type": "stream",
     "text": [
      " 55%|█████▍    | 184/336 [29:01<20:00,  7.90s/it]"
     ]
    },
    {
     "name": "stdout",
     "output_type": "stream",
     "text": [
      "직원 피드백 수집 및 분석은 어떤 도구나 방법을 통해 이루어질 예정인가요?\n"
     ]
    },
    {
     "name": "stderr",
     "output_type": "stream",
     "text": [
      " 55%|█████▌    | 185/336 [29:05<17:31,  6.96s/it]"
     ]
    },
    {
     "name": "stdout",
     "output_type": "stream",
     "text": [
      "인재 유출 리스크를 관리하기 위한 대응 매뉴얼 작성은 어떤 형식으로 진행될 것인가요?\n",
      "직원 만족도 조사 방법 알려줘\n",
      "직원 만족도 조사에서 수집된 피드백을 실제 조직 개선에 반영할 때 구체적으로 어떤 절차를 거치는지 알려줄 수 있어?\n"
     ]
    },
    {
     "name": "stderr",
     "output_type": "stream",
     "text": [
      " 55%|█████▌    | 186/336 [29:27<28:14, 11.30s/it]"
     ]
    },
    {
     "name": "stdout",
     "output_type": "stream",
     "text": [
      "핵심 인재 유출 리스크 분석 및 대응 전략 보고서에서 제시된 '워라밸 증진'의 구체적인 방안은 무엇인가요?\n"
     ]
    },
    {
     "name": "stderr",
     "output_type": "stream",
     "text": [
      " 56%|█████▌    | 187/336 [29:32<23:13,  9.35s/it]"
     ]
    },
    {
     "name": "stdout",
     "output_type": "stream",
     "text": [
      "내부자 위협 관리 가이드의 '위협 시나리오 및 영향' 파트에서 계정 유출의 구체적인 사례는 무엇인가요?\n",
      "계정 유출 예방 방법 알려줘\n",
      "퇴근 후 간단히 즐길 수 있는 취미 하나 추천해줘.\n",
      "퇴근 후 가볍게 할 수 있는 취미로 그림 그리기를 추천해줘.\n"
     ]
    },
    {
     "name": "stderr",
     "output_type": "stream",
     "text": [
      " 56%|█████▌    | 188/336 [29:49<28:52, 11.71s/it]"
     ]
    },
    {
     "name": "stdout",
     "output_type": "stream",
     "text": [
      "프론트엔드팀 KPI 달성률 및 성과 분석 보고서에서 사용자 인터페이스 개선의 목표치와 달성률은 각각 얼마인가요?\n",
      "일부 미완료된 기능 목록 알려줘\n"
     ]
    },
    {
     "name": "stderr",
     "output_type": "stream",
     "text": [
      " 56%|█████▋    | 189/336 [30:01<28:57, 11.82s/it]"
     ]
    },
    {
     "name": "stdout",
     "output_type": "stream",
     "text": [
      "프론트엔드팀 KPI 달성률 및 성과 분석 보고서에서 로딩 속도 최적화의 달성률이 낮은 이유는 무엇인가요?\n"
     ]
    },
    {
     "name": "stderr",
     "output_type": "stream",
     "text": [
      " 57%|█████▋    | 190/336 [30:07<24:43, 10.16s/it]"
     ]
    },
    {
     "name": "stdout",
     "output_type": "stream",
     "text": [
      "프론트엔드팀 KPI 달성률 및 성과 분석 보고서에서 버그 수정률의 목표치와 실제 달성률은 어떻게 되나요?\n"
     ]
    },
    {
     "name": "stderr",
     "output_type": "stream",
     "text": [
      " 57%|█████▋    | 191/336 [30:14<22:12,  9.19s/it]"
     ]
    },
    {
     "name": "stdout",
     "output_type": "stream",
     "text": [
      "프론트엔드팀 KPI 달성률 및 성과 분석 보고서에서 팀원들의 협업 태도에 대한 분석 결과는 무엇인가요?\n",
      "일정 관리 교육 자료도 있어?\n"
     ]
    },
    {
     "name": "stderr",
     "output_type": "stream",
     "text": [
      " 57%|█████▋    | 192/336 [30:28<25:09, 10.48s/it]"
     ]
    },
    {
     "name": "stdout",
     "output_type": "stream",
     "text": [
      "프론트엔드팀 KPI 달성률 및 성과 분석 보고서에서 제안된 후속 조치 중 주간 미팅 운영의 목적은 무엇인가요?\n"
     ]
    },
    {
     "name": "stderr",
     "output_type": "stream",
     "text": [
      " 57%|█████▋    | 193/336 [30:34<21:53,  9.18s/it]"
     ]
    },
    {
     "name": "stdout",
     "output_type": "stream",
     "text": [
      "프론트엔드팀 KPI 달성률 및 성과 분석 보고서에서 코드 리뷰 프로세스 강화를 위한 제안은 어떤 내용인가요?\n"
     ]
    },
    {
     "name": "stderr",
     "output_type": "stream",
     "text": [
      " 58%|█████▊    | 194/336 [30:40<19:47,  8.37s/it]"
     ]
    },
    {
     "name": "stdout",
     "output_type": "stream",
     "text": [
      "프론트엔드팀 KPI 달성률 및 성과 분석 보고서에서 일정 관리 강화의 필요성이 언급된 이유는 무엇인가요?\n",
      "오늘 저녁에 간단하게 먹을 수 있는 샐러드 하나 추천해줘.\n"
     ]
    },
    {
     "name": "stderr",
     "output_type": "stream",
     "text": [
      " 58%|█████▊    | 195/336 [30:53<22:34,  9.60s/it]"
     ]
    },
    {
     "name": "stdout",
     "output_type": "stream",
     "text": [
      "프론트엔드팀 KPI 달성률 및 성과 분석 보고서에서 외부 요인에 의한 지연이 있었던 프로젝트는 어떤 것인가요?\n",
      "오늘 저녁 메뉴 하나 정해줘.\n"
     ]
    },
    {
     "name": "stderr",
     "output_type": "stream",
     "text": [
      " 58%|█████▊    | 196/336 [31:02<21:52,  9.37s/it]"
     ]
    },
    {
     "name": "stdout",
     "output_type": "stream",
     "text": [
      "프론트엔드팀 KPI 달성률 및 성과 분석 보고서에서 팀원 교육 프로그램의 필요성이 언급된 이유는 무엇인가요?\n"
     ]
    },
    {
     "name": "stderr",
     "output_type": "stream",
     "text": [
      " 59%|█████▊    | 197/336 [31:07<19:09,  8.27s/it]"
     ]
    },
    {
     "name": "stdout",
     "output_type": "stream",
     "text": [
      "프론트엔드팀 KPI 달성률 및 성과 분석 보고서에서 개선 포인트로 제시된 사용자 피드백 반영의 중요성은 무엇인가요?\n"
     ]
    },
    {
     "name": "stderr",
     "output_type": "stream",
     "text": [
      " 59%|█████▉    | 198/336 [31:14<17:38,  7.67s/it]"
     ]
    },
    {
     "name": "stdout",
     "output_type": "stream",
     "text": [
      "프론트엔드팀 KPI 달성률 및 성과 분석 보고서에서 팀의 성과 향상을 위한 즉각적인 조치가 필요한 이유는 무엇인가요?\n",
      "오늘 저녁 메뉴 하나 정해줘.\n",
      "오늘 저녁으로 간단한 파스타 하나 정해줘.\n",
      "오늘 저녁으로 간단한 토마토 소스 파스타 하나 정해줘.\n"
     ]
    },
    {
     "name": "stderr",
     "output_type": "stream",
     "text": [
      " 59%|█████▉    | 199/336 [31:29<22:51, 10.01s/it]"
     ]
    },
    {
     "name": "stdout",
     "output_type": "stream",
     "text": [
      "프론트엔드팀 KPI 달성률 및 성과 분석 보고서에서 팀원들의 일정 관리에 대한 어려움은 어떤 경향을 보였나요?\n"
     ]
    },
    {
     "name": "stderr",
     "output_type": "stream",
     "text": [
      " 60%|█████▉    | 200/336 [31:34<19:21,  8.54s/it]"
     ]
    },
    {
     "name": "stdout",
     "output_type": "stream",
     "text": [
      "프론트엔드팀 KPI 달성률 및 성과 분석 보고서에서 제안된 팀원 교육 프로그램의 주제는 무엇인가요?\n",
      "오늘 저녁에 간단하게 먹을 수 있는 메뉴 하나 추천해줘.\n"
     ]
    },
    {
     "name": "stderr",
     "output_type": "stream",
     "text": [
      " 60%|█████▉    | 201/336 [31:42<18:27,  8.20s/it]"
     ]
    },
    {
     "name": "stdout",
     "output_type": "stream",
     "text": [
      "프론트엔드팀 KPI 달성률 및 성과 분석 보고서에서 프로젝트 우선순위 재조정의 필요성이 언급된 이유는 무엇인가요?\n",
      "오늘 저녁에 간단히 볼 만한 영화 하나 추천해줘.\n"
     ]
    },
    {
     "name": "stderr",
     "output_type": "stream",
     "text": [
      " 60%|██████    | 202/336 [31:50<18:32,  8.31s/it]"
     ]
    },
    {
     "name": "stdout",
     "output_type": "stream",
     "text": [
      "프론트엔드팀 KPI 달성률 및 성과 분석 보고서에서 팀의 전반적인 기여도를 분석하는 목적은 무엇인가요?\n"
     ]
    },
    {
     "name": "stderr",
     "output_type": "stream",
     "text": [
      " 60%|██████    | 203/336 [31:56<16:56,  7.64s/it]"
     ]
    },
    {
     "name": "stdout",
     "output_type": "stream",
     "text": [
      "서비스 장애 대응 시나리오 문서에서 대규모 트래픽 증가에 대한 위협 시나리오는 어떤 내용으로 구성되어 있나요?\n"
     ]
    },
    {
     "name": "stderr",
     "output_type": "stream",
     "text": [
      " 61%|██████    | 204/336 [32:05<17:13,  7.83s/it]"
     ]
    },
    {
     "name": "stdout",
     "output_type": "stream",
     "text": [
      "서비스 장애 대응 시나리오 문서의 3단계 즉각적인 대응에서 트래픽 관리를 위해 어떤 방법이 제시되고 있나요?\n",
      "로드 밸런서 설정 변경이나 CDN 활용 시 실제 적용 절차와 담당 팀의 역할 분담은 어떻게 정의되어 있어?\n",
      "오늘 저녁에 듣기 좋은 음악 장르 하나 추천해줘.\n",
      "오늘 저녁에 어울리는 음악 장르로 차분한 클래식을 추천해줘.\n"
     ]
    },
    {
     "name": "stderr",
     "output_type": "stream",
     "text": [
      " 61%|██████    | 205/336 [32:26<26:14, 12.02s/it]"
     ]
    },
    {
     "name": "stdout",
     "output_type": "stream",
     "text": [
      "서비스 장애 대응 시나리오 문서의 4단계 사후 검토 및 개선에서 사후 분석 회의의 목적은 무엇인가요?\n",
      "오늘 저녁에 어떤 영화 볼지 추천해줘.\n",
      "오늘 저녁에 볼 만한 영화 하나 골라줘.\n"
     ]
    },
    {
     "name": "stderr",
     "output_type": "stream",
     "text": [
      " 61%|██████▏   | 206/336 [32:38<26:08, 12.07s/it]"
     ]
    },
    {
     "name": "stdout",
     "output_type": "stream",
     "text": [
      "서비스 장애 대응 시나리오 문서의 검증/점검 체크리스트에서 백업 및 복구 절차 문서화 및 테스트는 어떤 항목으로 포함되어 있나요?\n",
      "복구 테스트 결과를 팀 내에서 어떻게 공유하고, 공유 시 포함해야 하는 주요 내용은 무엇이야?\n"
     ]
    },
    {
     "name": "stderr",
     "output_type": "stream",
     "text": [
      " 62%|██████▏   | 207/336 [32:52<26:41, 12.41s/it]"
     ]
    },
    {
     "name": "stdout",
     "output_type": "stream",
     "text": [
      "서비스 장애 대응 시나리오 문서에서 리스크 한계로 언급된 인프라 의존성의 구체적인 내용은 무엇인가요?\n"
     ]
    },
    {
     "name": "stderr",
     "output_type": "stream",
     "text": [
      " 62%|██████▏   | 208/336 [32:57<22:05, 10.36s/it]"
     ]
    },
    {
     "name": "stdout",
     "output_type": "stream",
     "text": [
      "서비스 장애 대응 시나리오 문서의 6단계 CTO 보고·승인 포인트에서 장애 발생 시 보고는 어떤 시간 내에 이루어져야 하나요?\n"
     ]
    },
    {
     "name": "stderr",
     "output_type": "stream",
     "text": [
      " 62%|██████▏   | 209/336 [33:02<18:21,  8.67s/it]"
     ]
    },
    {
     "name": "stdout",
     "output_type": "stream",
     "text": [
      "서비스 장애 대응 시나리오 문서의 2단계 즉각적인 대응에서 서버 리소스 확장에 대한 검토는 어떤 방식으로 이루어져야 하나요?\n"
     ]
    },
    {
     "name": "stderr",
     "output_type": "stream",
     "text": [
      " 62%|██████▎   | 210/336 [33:08<16:29,  7.86s/it]"
     ]
    },
    {
     "name": "stdout",
     "output_type": "stream",
     "text": [
      "서비스 장애 대응 시나리오 문서에서 제시된 다중 클라우드 전략의 목적은 무엇인가요?\n",
      "오늘 날씨가 흐리던데, 우산 챙길지 결정해줘.\n"
     ]
    },
    {
     "name": "stderr",
     "output_type": "stream",
     "text": [
      " 63%|██████▎   | 211/336 [33:16<16:23,  7.87s/it]"
     ]
    },
    {
     "name": "stdout",
     "output_type": "stream",
     "text": [
      "서비스 장애 대응 시나리오 문서의 1단계 모니터링 및 경고에서 경고 시스템 설정의 중요성은 무엇인가요?\n",
      "오늘 저녁 메뉴 하나 정해줘.\n"
     ]
    },
    {
     "name": "stderr",
     "output_type": "stream",
     "text": [
      " 63%|██████▎   | 212/336 [33:25<17:02,  8.24s/it]"
     ]
    },
    {
     "name": "stdout",
     "output_type": "stream",
     "text": [
      "서비스 장애 대응 시나리오 문서의 5단계 리스크 한계 및 보완책에서 인력 부족에 대한 대응 방안은 무엇인가요?\n",
      "정기적인 교육을 통해 비상 대응 능력을 향상한다고 했는데, 실제로 실시된 교육 프로그램의 구체적인 내용이나 커리큘럼 예시를 알 수 있을까?\n",
      "장애 대응 훈련이나 시뮬레이션이 실제로 어떻게 진행되는지, 구체적인 시나리오나 평가 기준이 있다면 알려줄 수 있을까?\n"
     ]
    },
    {
     "name": "stderr",
     "output_type": "stream",
     "text": [
      " 63%|██████▎   | 213/336 [33:46<24:44, 12.07s/it]"
     ]
    },
    {
     "name": "stdout",
     "output_type": "stream",
     "text": [
      "서비스 장애 대응 시나리오 문서에서 장애 원인 분석은 어떤 방식으로 진행되어야 하나요?\n",
      "오늘 저녁 메뉴 하나 정해줘.\n"
     ]
    },
    {
     "name": "stderr",
     "output_type": "stream",
     "text": [
      " 64%|██████▎   | 214/336 [33:54<22:07, 10.88s/it]"
     ]
    },
    {
     "name": "stdout",
     "output_type": "stream",
     "text": [
      "서비스 장애 대응 시나리오 문서의 3단계 문제 해결에서 백업 및 복구 절차의 중요성은 무엇인가요?\n",
      "복구 테스트 주기 기준 알려줘\n",
      "복구 테스트 실패 시 조치 절차 알려줘\n",
      "오늘 저녁 메뉴 하나 정해줘.\n"
     ]
    },
    {
     "name": "stderr",
     "output_type": "stream",
     "text": [
      " 64%|██████▍   | 215/336 [34:11<25:52, 12.83s/it]"
     ]
    },
    {
     "name": "stdout",
     "output_type": "stream",
     "text": [
      "서비스 장애 대응 시나리오 문서의 2단계 즉각적인 대응에서 CDN 활용의 필요성은 무엇인가요?\n",
      "오늘 저녁 메뉴 하나 정해줘.\n"
     ]
    },
    {
     "name": "stderr",
     "output_type": "stream",
     "text": [
      " 64%|██████▍   | 216/336 [34:19<22:41, 11.35s/it]"
     ]
    },
    {
     "name": "stdout",
     "output_type": "stream",
     "text": [
      "서비스 장애 대응 시나리오 문서의 4단계 사후 검토 및 개선에서 발견된 문제점은 어떻게 처리해야 하나요?\n"
     ]
    },
    {
     "name": "stderr",
     "output_type": "stream",
     "text": [
      " 65%|██████▍   | 217/336 [34:26<19:32,  9.85s/it]"
     ]
    },
    {
     "name": "stdout",
     "output_type": "stream",
     "text": [
      "서비스 장애 대응 시나리오 문서의 1단계 모니터링 및 경고에서 실시간 트래픽 모니터링의 필요성은 무엇인가요?\n"
     ]
    },
    {
     "name": "stderr",
     "output_type": "stream",
     "text": [
      " 65%|██████▍   | 218/336 [34:33<17:36,  8.95s/it]"
     ]
    },
    {
     "name": "stdout",
     "output_type": "stream",
     "text": [
      "서비스 장애 대응 시나리오 문서에서 장애 발생 후 48시간 이내에 제출해야 하는 보고서는 무엇인가요?\n"
     ]
    },
    {
     "name": "stderr",
     "output_type": "stream",
     "text": [
      " 65%|██████▌   | 219/336 [34:37<14:58,  7.68s/it]"
     ]
    },
    {
     "name": "stdout",
     "output_type": "stream",
     "text": [
      "서비스 장애 대응 시나리오 문서의 3단계 문제 해결에서 관련 팀과의 협력은 어떤 방식으로 이루어져야 하나요?\n",
      "장애 원인 분석 과정에서 각 팀이 정보를 공유할 때 사용하는 공식 커뮤니케이션 채널이나 도구가 따로 정해져 있는지 궁금해.\n",
      "장애 발생 시 각 팀에 신속하게 정보를 통보하는 구체적인 절차나 예시 메시지 포맷이 정해져 있는지 궁금해.\n",
      "오늘 저녁에 간단하게 먹을 수 있는 메뉴 하나 추천해줘.\n"
     ]
    },
    {
     "name": "stderr",
     "output_type": "stream",
     "text": [
      " 65%|██████▌   | 220/336 [35:00<23:45, 12.29s/it]"
     ]
    },
    {
     "name": "stdout",
     "output_type": "stream",
     "text": [
      "서비스 장애 대응 시나리오 문서의 5단계 리스크 한계 및 보완책에서 상시 교육의 필요성은 무엇인가요?\n"
     ]
    },
    {
     "name": "stderr",
     "output_type": "stream",
     "text": [
      " 66%|██████▌   | 221/336 [35:07<20:11, 10.53s/it]"
     ]
    },
    {
     "name": "stdout",
     "output_type": "stream",
     "text": [
      "서비스 장애 대응 시나리오 문서의 2단계 즉각적인 대응에서 로드 밸런서의 역할은 무엇인가요?\n"
     ]
    },
    {
     "name": "stderr",
     "output_type": "stream",
     "text": [
      " 66%|██████▌   | 222/336 [35:12<17:03,  8.97s/it]"
     ]
    },
    {
     "name": "stdout",
     "output_type": "stream",
     "text": [
      "서비스 장애 대응 시나리오 문서의 1단계 모니터링 및 경고에서 이상 징후 조기 탐지의 중요성은 무엇인가요?\n"
     ]
    },
    {
     "name": "stderr",
     "output_type": "stream",
     "text": [
      " 66%|██████▋   | 223/336 [35:18<15:17,  8.12s/it]"
     ]
    },
    {
     "name": "stdout",
     "output_type": "stream",
     "text": [
      "안녕!\n",
      "오늘 저녁에 간단하게 먹을 수 있는 메뉴 하나 추천해줘.\n"
     ]
    },
    {
     "name": "stderr",
     "output_type": "stream",
     "text": [
      " 67%|██████▋   | 224/336 [35:22<12:55,  6.93s/it]"
     ]
    },
    {
     "name": "stdout",
     "output_type": "stream",
     "text": [
      "반가워!\n",
      "오늘 저녁 메뉴 하나 정해줘.\n"
     ]
    },
    {
     "name": "stderr",
     "output_type": "stream",
     "text": [
      " 67%|██████▋   | 225/336 [35:26<10:53,  5.89s/it]"
     ]
    },
    {
     "name": "stdout",
     "output_type": "stream",
     "text": [
      "안녕하세요!\n",
      "최근 조직도 문서 어디 있어?\n"
     ]
    },
    {
     "name": "stderr",
     "output_type": "stream",
     "text": [
      " 67%|██████▋   | 226/336 [35:33<11:29,  6.27s/it]"
     ]
    },
    {
     "name": "stdout",
     "output_type": "stream",
     "text": [
      "오늘 날씨가 꿀꿀하네..\n"
     ]
    },
    {
     "name": "stderr",
     "output_type": "stream",
     "text": [
      " 68%|██████▊   | 227/336 [35:35<09:02,  4.98s/it]"
     ]
    },
    {
     "name": "stdout",
     "output_type": "stream",
     "text": [
      "반가워용\n"
     ]
    },
    {
     "name": "stderr",
     "output_type": "stream",
     "text": [
      " 68%|██████▊   | 228/336 [35:37<07:22,  4.10s/it]"
     ]
    },
    {
     "name": "stdout",
     "output_type": "stream",
     "text": [
      "반갑습니다\n",
      "오늘 저녁 메뉴 하나 정해줘.\n"
     ]
    },
    {
     "name": "stderr",
     "output_type": "stream",
     "text": [
      " 68%|██████▊   | 229/336 [35:42<07:34,  4.24s/it]"
     ]
    },
    {
     "name": "stdout",
     "output_type": "stream",
     "text": [
      "안녕\n"
     ]
    },
    {
     "name": "stderr",
     "output_type": "stream",
     "text": [
      " 68%|██████▊   | 230/336 [35:43<06:07,  3.46s/it]"
     ]
    },
    {
     "name": "stdout",
     "output_type": "stream",
     "text": [
      "반가워\n"
     ]
    },
    {
     "name": "stderr",
     "output_type": "stream",
     "text": [
      " 69%|██████▉   | 231/336 [35:45<05:12,  2.98s/it]"
     ]
    },
    {
     "name": "stdout",
     "output_type": "stream",
     "text": [
      "안녕하세요\n",
      "최근 업데이트된 문서 목록 보여줘\n",
      "정기회의 문서 주요 내용 요약해줘\n"
     ]
    },
    {
     "name": "stderr",
     "output_type": "stream",
     "text": [
      " 69%|██████▉   | 232/336 [35:57<09:37,  5.55s/it]"
     ]
    },
    {
     "name": "stdout",
     "output_type": "stream",
     "text": [
      "반갑습니다\n",
      "오늘 저녁에 간단하게 할 수 있는 스트레칭 동작 하나 알려줘.\n"
     ]
    },
    {
     "name": "stderr",
     "output_type": "stream",
     "text": [
      " 69%|██████▉   | 233/336 [36:02<09:31,  5.55s/it]"
     ]
    },
    {
     "name": "stdout",
     "output_type": "stream",
     "text": [
      "날씨 좋네!\n"
     ]
    },
    {
     "name": "stderr",
     "output_type": "stream",
     "text": [
      " 70%|██████▉   | 234/336 [36:04<07:37,  4.49s/it]"
     ]
    },
    {
     "name": "stdout",
     "output_type": "stream",
     "text": [
      "요즘 날씨가 정말 변덕스럽네.\n",
      "오늘 저녁 메뉴 하나 정해줘.\n"
     ]
    },
    {
     "name": "stderr",
     "output_type": "stream",
     "text": [
      " 70%|██████▉   | 235/336 [36:10<08:02,  4.78s/it]"
     ]
    },
    {
     "name": "stdout",
     "output_type": "stream",
     "text": [
      "오늘 점심 메뉴 추천해줘.\n",
      "점심 회식 장소 추천해줄래?\n"
     ]
    },
    {
     "name": "stderr",
     "output_type": "stream",
     "text": [
      " 70%|███████   | 236/336 [36:16<08:34,  5.14s/it]"
     ]
    },
    {
     "name": "stdout",
     "output_type": "stream",
     "text": [
      "오늘 저녁 뭐 먹을까?\n"
     ]
    },
    {
     "name": "stderr",
     "output_type": "stream",
     "text": [
      " 71%|███████   | 237/336 [36:18<07:07,  4.32s/it]"
     ]
    },
    {
     "name": "stdout",
     "output_type": "stream",
     "text": [
      "요즘 트렌드인 패션 아이템 뭐가 있을까?\n"
     ]
    },
    {
     "name": "stderr",
     "output_type": "stream",
     "text": [
      " 71%|███████   | 238/336 [36:21<06:31,  3.99s/it]"
     ]
    },
    {
     "name": "stdout",
     "output_type": "stream",
     "text": [
      "사무실에서 듣기 좋은 팟캐스트 추천해 줄 수 있어?\n",
      "사무실에서 듣기 좋은 음악 장르 하나 추천해줘.\n",
      "사무실 음악 플레이리스트 예시 알려줘.\n",
      "사무실 음악 관련 사내 규정이 따로 있어?\n"
     ]
    },
    {
     "name": "stderr",
     "output_type": "stream",
     "text": [
      " 71%|███████   | 239/336 [36:36<11:27,  7.09s/it]"
     ]
    },
    {
     "name": "stdout",
     "output_type": "stream",
     "text": [
      "휴식 시간에 할 만한 간단한 게임 있으면 알려줘!\n"
     ]
    },
    {
     "name": "stderr",
     "output_type": "stream",
     "text": [
      " 71%|███████▏  | 240/336 [36:39<09:32,  5.97s/it]"
     ]
    },
    {
     "name": "stdout",
     "output_type": "stream",
     "text": [
      "최근에 화제가 된 뉴스는 뭐가 있을까?\n",
      "오늘 저녁 메뉴 하나 정해줘.\n",
      "프론트엔드 버그 재발 방지책 있어?\n"
     ]
    },
    {
     "name": "stderr",
     "output_type": "stream",
     "text": [
      " 72%|███████▏  | 241/336 [36:54<13:50,  8.75s/it]"
     ]
    },
    {
     "name": "stdout",
     "output_type": "stream",
     "text": [
      "오늘 날씨 어때?\n",
      "오늘 운동할 만한 스트레칭 동작 하나 알려줘.\n"
     ]
    },
    {
     "name": "stderr",
     "output_type": "stream",
     "text": [
      " 72%|███████▏  | 242/336 [37:00<12:12,  7.79s/it]"
     ]
    },
    {
     "name": "stdout",
     "output_type": "stream",
     "text": [
      "내가 가볼 만한 여행지 추천해 줘!\n"
     ]
    },
    {
     "name": "stderr",
     "output_type": "stream",
     "text": [
      " 72%|███████▏  | 243/336 [37:02<09:44,  6.28s/it]"
     ]
    },
    {
     "name": "stdout",
     "output_type": "stream",
     "text": [
      "재밌는 책 읽고 싶은데, 추천할 만한 거 있어?\n"
     ]
    },
    {
     "name": "stderr",
     "output_type": "stream",
     "text": [
      " 73%|███████▎  | 244/336 [37:05<08:03,  5.25s/it]"
     ]
    },
    {
     "name": "stdout",
     "output_type": "stream",
     "text": [
      "요즘 인기 있는 TV 프로그램 있으면 알려줘!\n"
     ]
    },
    {
     "name": "stderr",
     "output_type": "stream",
     "text": [
      " 73%|███████▎  | 245/336 [37:08<06:59,  4.61s/it]"
     ]
    },
    {
     "name": "stdout",
     "output_type": "stream",
     "text": [
      "간단한 요리 레시피 알려줄래?\n"
     ]
    },
    {
     "name": "stderr",
     "output_type": "stream",
     "text": [
      " 73%|███████▎  | 246/336 [37:12<06:18,  4.20s/it]"
     ]
    },
    {
     "name": "stdout",
     "output_type": "stream",
     "text": [
      "주말에 놀러 갈 만한 장소 추천해 줘!\n"
     ]
    },
    {
     "name": "stderr",
     "output_type": "stream",
     "text": [
      " 74%|███████▎  | 247/336 [37:16<06:06,  4.11s/it]"
     ]
    },
    {
     "name": "stdout",
     "output_type": "stream",
     "text": [
      "요즘 핫한 카페나 맛집 정보 있으면 알려줘!\n",
      "오늘 저녁 메뉴 하나 정해줘.\n",
      "프론트엔드팀 회의록 요약해줘\n"
     ]
    },
    {
     "name": "stderr",
     "output_type": "stream",
     "text": [
      " 74%|███████▍  | 248/336 [37:28<09:48,  6.68s/it]"
     ]
    },
    {
     "name": "stdout",
     "output_type": "stream",
     "text": [
      "건강한 스낵 아이디어가 있다면 알려줘!\n",
      "외부 협력 네트워크 확대 방안 알려줘\n"
     ]
    },
    {
     "name": "stderr",
     "output_type": "stream",
     "text": [
      " 74%|███████▍  | 249/336 [37:37<10:29,  7.23s/it]"
     ]
    },
    {
     "name": "stdout",
     "output_type": "stream",
     "text": [
      "요즘 사람들 사이에서 인기 있는 활동이 뭐지?\n",
      "오늘 날씨가 변덕스럽네, 우산 챙길지 판단해줘.\n"
     ]
    },
    {
     "name": "stderr",
     "output_type": "stream",
     "text": [
      " 74%|███████▍  | 250/336 [37:42<09:35,  6.69s/it]"
     ]
    },
    {
     "name": "stdout",
     "output_type": "stream",
     "text": [
      "오늘 날씨 어때?\n"
     ]
    },
    {
     "name": "stderr",
     "output_type": "stream",
     "text": [
      " 75%|███████▍  | 251/336 [37:48<08:56,  6.31s/it]"
     ]
    },
    {
     "name": "stdout",
     "output_type": "stream",
     "text": [
      "요즘 핫한 영화 추천해줄 수 있어?\n"
     ]
    },
    {
     "name": "stderr",
     "output_type": "stream",
     "text": [
      " 75%|███████▌  | 252/336 [37:51<07:46,  5.55s/it]"
     ]
    },
    {
     "name": "stdout",
     "output_type": "stream",
     "text": [
      "좋아하는 음악 있으면 알려줘!\n"
     ]
    },
    {
     "name": "stderr",
     "output_type": "stream",
     "text": [
      " 75%|███████▌  | 253/336 [37:55<06:42,  4.85s/it]"
     ]
    },
    {
     "name": "stdout",
     "output_type": "stream",
     "text": [
      "최근에 나온 책 중에 읽어볼 만한 거 있어?\n"
     ]
    },
    {
     "name": "stderr",
     "output_type": "stream",
     "text": [
      " 76%|███████▌  | 254/336 [37:58<06:05,  4.46s/it]"
     ]
    },
    {
     "name": "stdout",
     "output_type": "stream",
     "text": [
      "오늘 기분 좋게 해줄 만한 명언 하나 알려줘!\n"
     ]
    },
    {
     "name": "stderr",
     "output_type": "stream",
     "text": [
      " 76%|███████▌  | 255/336 [38:02<05:42,  4.23s/it]"
     ]
    },
    {
     "name": "stdout",
     "output_type": "stream",
     "text": [
      "나에게 어울리는 디저트 추천해줘!\n",
      "오늘 저녁에 간단하게 먹을 수 있는 메뉴 하나 정해줘.\n"
     ]
    },
    {
     "name": "stderr",
     "output_type": "stream",
     "text": [
      " 76%|███████▌  | 256/336 [38:08<06:31,  4.90s/it]"
     ]
    },
    {
     "name": "stdout",
     "output_type": "stream",
     "text": [
      "주말에 할 만한 활동이 있을까?\n",
      "자유 개발 시간에 추천하는 프로젝트 있어?\n"
     ]
    },
    {
     "name": "stderr",
     "output_type": "stream",
     "text": [
      " 76%|███████▋  | 257/336 [38:17<07:49,  5.94s/it]"
     ]
    },
    {
     "name": "stdout",
     "output_type": "stream",
     "text": [
      "요즘 인기 있는 드라마 뭐야?\n"
     ]
    },
    {
     "name": "stderr",
     "output_type": "stream",
     "text": [
      " 77%|███████▋  | 258/336 [38:20<06:44,  5.19s/it]"
     ]
    },
    {
     "name": "stdout",
     "output_type": "stream",
     "text": [
      "나랑 잘 맞는 취미가 뭐라고 생각해?\n"
     ]
    },
    {
     "name": "stderr",
     "output_type": "stream",
     "text": [
      " 77%|███████▋  | 259/336 [38:24<06:06,  4.76s/it]"
     ]
    },
    {
     "name": "stdout",
     "output_type": "stream",
     "text": [
      "스트레스 해소하는 방법 몇 가지 알려줘!\n"
     ]
    },
    {
     "name": "stderr",
     "output_type": "stream",
     "text": [
      " 77%|███████▋  | 260/336 [38:27<05:28,  4.32s/it]"
     ]
    },
    {
     "name": "stdout",
     "output_type": "stream",
     "text": [
      "재미있는 팟캐스트 추천해줄래?\n"
     ]
    },
    {
     "name": "stderr",
     "output_type": "stream",
     "text": [
      " 78%|███████▊  | 261/336 [38:31<05:04,  4.06s/it]"
     ]
    },
    {
     "name": "stdout",
     "output_type": "stream",
     "text": [
      "다음에 가볼 만한 여행지 있으면 알려줘!\n",
      "UI/UX 가이드 최신 트렌드 뭐야?\n",
      "A/B 테스트 구체 사례 있어?\n"
     ]
    },
    {
     "name": "stderr",
     "output_type": "stream",
     "text": [
      " 78%|███████▊  | 262/336 [38:49<10:11,  8.26s/it]"
     ]
    },
    {
     "name": "stdout",
     "output_type": "stream",
     "text": [
      "내가 좋아할 만한 게임 뭐 있을까?\n",
      "프로젝트별로 고객 피드백을 수집하고 반영한 구체적인 사례가 있다면 알려줄 수 있어?\n"
     ]
    },
    {
     "name": "stderr",
     "output_type": "stream",
     "text": [
      " 78%|███████▊  | 263/336 [39:01<11:35,  9.53s/it]"
     ]
    },
    {
     "name": "stdout",
     "output_type": "stream",
     "text": [
      "나에게 맞는 카페 스타일은 뭐일까?\n"
     ]
    },
    {
     "name": "stderr",
     "output_type": "stream",
     "text": [
      " 79%|███████▊  | 264/336 [39:05<09:17,  7.74s/it]"
     ]
    },
    {
     "name": "stdout",
     "output_type": "stream",
     "text": [
      "요즘 트렌디한 패션 아이템 추천해줘!\n"
     ]
    },
    {
     "name": "stderr",
     "output_type": "stream",
     "text": [
      " 79%|███████▉  | 265/336 [39:08<07:35,  6.41s/it]"
     ]
    },
    {
     "name": "stdout",
     "output_type": "stream",
     "text": [
      "분위기 좋은 음악 추천해줄 수 있어?\n",
      "프로젝트 관리 도구 도입 시 추천되는 구체적인 솔루션이나 실제 도입 사례가 있다면 알려줄 수 있어?\n"
     ]
    },
    {
     "name": "stderr",
     "output_type": "stream",
     "text": [
      " 79%|███████▉  | 266/336 [39:17<08:18,  7.11s/it]"
     ]
    },
    {
     "name": "stdout",
     "output_type": "stream",
     "text": [
      "오늘 기분 좋은 음악 추천해줄 수 있어?\n"
     ]
    },
    {
     "name": "stderr",
     "output_type": "stream",
     "text": [
      " 79%|███████▉  | 267/336 [39:20<06:47,  5.90s/it]"
     ]
    },
    {
     "name": "stdout",
     "output_type": "stream",
     "text": [
      "최근에 인기 있는 영화 어떤 게 있을까?\n",
      "모델 성능 평가 지표 자세히 알려줘\n",
      "오늘 저녁 메뉴 하나 정해줘.\n"
     ]
    },
    {
     "name": "stderr",
     "output_type": "stream",
     "text": [
      " 80%|███████▉  | 268/336 [39:32<08:45,  7.73s/it]"
     ]
    },
    {
     "name": "stdout",
     "output_type": "stream",
     "text": [
      "요즘 핫한 책 제목 좀 알려줘!\n"
     ]
    },
    {
     "name": "stderr",
     "output_type": "stream",
     "text": [
      " 80%|████████  | 269/336 [39:35<07:07,  6.38s/it]"
     ]
    },
    {
     "name": "stdout",
     "output_type": "stream",
     "text": [
      "주말에 하기 좋은 취미 활동은 뭐가 있을까?\n"
     ]
    },
    {
     "name": "stderr",
     "output_type": "stream",
     "text": [
      " 80%|████████  | 270/336 [39:38<05:58,  5.43s/it]"
     ]
    },
    {
     "name": "stdout",
     "output_type": "stream",
     "text": [
      "새로운 팟캐스트 추천해줄 수 있어?\n",
      "사용자 피드백 수집 방법 자세히 알려줘\n"
     ]
    },
    {
     "name": "stderr",
     "output_type": "stream",
     "text": [
      " 81%|████████  | 271/336 [39:47<07:00,  6.46s/it]"
     ]
    },
    {
     "name": "stdout",
     "output_type": "stream",
     "text": [
      "가볍게 읽기 좋은 웹툰 뭐가 있을까?\n",
      "모델 성능 평가 지표 종류 알려줘\n"
     ]
    },
    {
     "name": "stderr",
     "output_type": "stream",
     "text": [
      " 81%|████████  | 272/336 [39:56<07:47,  7.30s/it]"
     ]
    },
    {
     "name": "stdout",
     "output_type": "stream",
     "text": [
      "요즘 유행하는 요리법 알고 있어?\n",
      "오늘 운동 후에 간단하게 할 수 있는 스트레칭 동작 하나 알려줘.\n",
      "오늘 저녁에 간단하게 만들 수 있는 샐러드 레시피 하나 알려줘.\n"
     ]
    },
    {
     "name": "stderr",
     "output_type": "stream",
     "text": [
      " 81%|████████▏ | 273/336 [40:08<08:51,  8.44s/it]"
     ]
    },
    {
     "name": "stdout",
     "output_type": "stream",
     "text": [
      "최근에 나온 게임 중에 추천할 만한 게 있을까?\n",
      "오늘 저녁 메뉴 하나 정해줘.\n"
     ]
    },
    {
     "name": "stderr",
     "output_type": "stream",
     "text": [
      " 82%|████████▏ | 274/336 [40:14<08:15,  7.99s/it]"
     ]
    },
    {
     "name": "stdout",
     "output_type": "stream",
     "text": [
      "오늘의 날씨에 딱 맞는 음악이 있을까?\n"
     ]
    },
    {
     "name": "stderr",
     "output_type": "stream",
     "text": [
      " 82%|████████▏ | 275/336 [40:18<06:42,  6.59s/it]"
     ]
    },
    {
     "name": "stdout",
     "output_type": "stream",
     "text": [
      "스트레스 풀기 좋은 영화 한 편 추천해줘!\n",
      "오늘 저녁에 간단하게 먹을 수 있는 메뉴 하나 정해줘.\n"
     ]
    },
    {
     "name": "stderr",
     "output_type": "stream",
     "text": [
      " 82%|████████▏ | 276/336 [40:25<06:47,  6.80s/it]"
     ]
    },
    {
     "name": "stdout",
     "output_type": "stream",
     "text": [
      "출퇴근길에 듣기 좋은 음악 리스트 좀 만들어줄래?\n"
     ]
    },
    {
     "name": "stderr",
     "output_type": "stream",
     "text": [
      " 82%|████████▏ | 277/336 [40:28<05:37,  5.72s/it]"
     ]
    },
    {
     "name": "stdout",
     "output_type": "stream",
     "text": [
      "여름에 가기 좋은 여행지 추천해줄 수 있어?\n"
     ]
    },
    {
     "name": "stderr",
     "output_type": "stream",
     "text": [
      " 83%|████████▎ | 278/336 [40:32<04:56,  5.11s/it]"
     ]
    },
    {
     "name": "stdout",
     "output_type": "stream",
     "text": [
      "기분 전환에 좋은 활동 뭐가 있을까?\n",
      "기분 전환을 위해 간단하게 할 수 있는 운동 하나 추천해줘.\n",
      "업무 중 짧은 시간에 할 수 있는 스트레칭 동작 예시나 구체적인 방법을 안내해줄 수 있어?\n",
      "오늘 기분 전환할 음악 장르 하나 추천해줘.\n"
     ]
    },
    {
     "name": "stderr",
     "output_type": "stream",
     "text": [
      " 83%|████████▎ | 279/336 [40:49<08:21,  8.80s/it]"
     ]
    },
    {
     "name": "stdout",
     "output_type": "stream",
     "text": [
      "맛있는 디저트 레시피 알고 있어?\n"
     ]
    },
    {
     "name": "stderr",
     "output_type": "stream",
     "text": [
      " 83%|████████▎ | 280/336 [40:53<06:45,  7.23s/it]"
     ]
    },
    {
     "name": "stdout",
     "output_type": "stream",
     "text": [
      "간단한 요리 레시피 하나 알려줘.\n"
     ]
    },
    {
     "name": "stderr",
     "output_type": "stream",
     "text": [
      " 84%|████████▎ | 281/336 [40:57<05:43,  6.25s/it]"
     ]
    },
    {
     "name": "stdout",
     "output_type": "stream",
     "text": [
      "최근에 인기 있는 앱 있으면 추천해 줘.\n",
      "사용자 피드백 수집 방법에 대한 구체적인 방안에는 어떤 절차나 도구가 제안되고 있는지 알려줄 수 있어?\n"
     ]
    },
    {
     "name": "stderr",
     "output_type": "stream",
     "text": [
      " 84%|████████▍ | 282/336 [41:09<07:04,  7.86s/it]"
     ]
    },
    {
     "name": "stdout",
     "output_type": "stream",
     "text": [
      "여행지로 가기 좋은 곳이 어디일까?\n",
      "오늘 저녁에 먹기 좋은 간단한 요리 하나 추천해줘.\n"
     ]
    },
    {
     "name": "stderr",
     "output_type": "stream",
     "text": [
      " 84%|████████▍ | 283/336 [41:15<06:28,  7.32s/it]"
     ]
    },
    {
     "name": "stdout",
     "output_type": "stream",
     "text": [
      "친구한테 선물하기 좋은 아이템 뭐가 있을까?\n"
     ]
    },
    {
     "name": "stderr",
     "output_type": "stream",
     "text": [
      " 85%|████████▍ | 284/336 [41:18<05:20,  6.16s/it]"
     ]
    },
    {
     "name": "stdout",
     "output_type": "stream",
     "text": [
      "이 계절에 가볼 만한 카페 있어?\n"
     ]
    },
    {
     "name": "stderr",
     "output_type": "stream",
     "text": [
      " 85%|████████▍ | 285/336 [41:22<04:36,  5.42s/it]"
     ]
    },
    {
     "name": "stdout",
     "output_type": "stream",
     "text": [
      "요즘 유행하는 패션 트렌드가 뭐야?\n"
     ]
    },
    {
     "name": "stderr",
     "output_type": "stream",
     "text": [
      " 85%|████████▌ | 286/336 [41:25<03:56,  4.74s/it]"
     ]
    },
    {
     "name": "stdout",
     "output_type": "stream",
     "text": [
      "마음에 드는 음악 장르 추천해줘.\n",
      "오늘 저녁 메뉴 하나 정해줘.\n",
      "오늘 저녁에 어떤 간단한 요리를 해볼지 하나 추천해줘.\n"
     ]
    },
    {
     "name": "stderr",
     "output_type": "stream",
     "text": [
      " 85%|████████▌ | 287/336 [41:34<04:52,  5.96s/it]"
     ]
    },
    {
     "name": "stdout",
     "output_type": "stream",
     "text": [
      "편안하게 쉴 수 있는 장소가 있을까?\n",
      "오늘 저녁에 어떤 간단한 요리를 해볼지 하나 정해줘.\n",
      "오늘 저녁에 간단하게 만들 수 있는 샐러드 하나 추천해줘.\n"
     ]
    },
    {
     "name": "stderr",
     "output_type": "stream",
     "text": [
      " 86%|████████▌ | 288/336 [41:45<05:59,  7.49s/it]"
     ]
    },
    {
     "name": "stdout",
     "output_type": "stream",
     "text": [
      "영화관에서 볼 만한 좋은 영화가 뭐야?\n",
      "오늘 저녁 메뉴 하나 정해줘.\n"
     ]
    },
    {
     "name": "stderr",
     "output_type": "stream",
     "text": [
      " 86%|████████▌ | 289/336 [41:52<05:47,  7.40s/it]"
     ]
    },
    {
     "name": "stdout",
     "output_type": "stream",
     "text": [
      "효과적인 공부 방법 좀 알려줄 수 있어?\n"
     ]
    },
    {
     "name": "stderr",
     "output_type": "stream",
     "text": [
      " 86%|████████▋ | 290/336 [41:58<05:15,  6.87s/it]"
     ]
    },
    {
     "name": "stdout",
     "output_type": "stream",
     "text": [
      "간단하게 즐길 수 있는 게임 추천해 줘.\n"
     ]
    },
    {
     "name": "stderr",
     "output_type": "stream",
     "text": [
      " 87%|████████▋ | 291/336 [42:01<04:25,  5.91s/it]"
     ]
    },
    {
     "name": "stdout",
     "output_type": "stream",
     "text": [
      "긴장을 푸는 방법 뭐가 있을까?\n",
      "팀 내 갈등 해결을 위한 커뮤니케이션 교육의 구체적인 진행 방식이나 커리큘럼 예시가 있을까?\n",
      "오늘 저녁에 먹을 만한 간단한 요리 하나 추천해줘.\n"
     ]
    },
    {
     "name": "stderr",
     "output_type": "stream",
     "text": [
      " 87%|████████▋ | 292/336 [42:17<06:30,  8.87s/it]"
     ]
    },
    {
     "name": "stdout",
     "output_type": "stream",
     "text": [
      "자기계발에 좋은 강좌 추천해 줄래?\n",
      "리더십 워크숍 자료 어디 있어?\n",
      "리더십 워크숍에서 다뤄진 주요 교육 주제나 실제 사례가 구체적으로 어떤 내용이었는지 알 수 있을까?\n"
     ]
    },
    {
     "name": "stderr",
     "output_type": "stream",
     "text": [
      " 87%|████████▋ | 293/336 [42:34<08:04, 11.27s/it]"
     ]
    },
    {
     "name": "stdout",
     "output_type": "stream",
     "text": [
      "나만의 루틴 만들기에 대한 팁이 있을까?\n"
     ]
    },
    {
     "name": "stderr",
     "output_type": "stream",
     "text": [
      " 88%|████████▊ | 294/336 [42:40<06:42,  9.58s/it]"
     ]
    },
    {
     "name": "stdout",
     "output_type": "stream",
     "text": [
      "요즘 즐겨 보는 TV 프로그램은 뭐야?\n"
     ]
    },
    {
     "name": "stderr",
     "output_type": "stream",
     "text": [
      " 88%|████████▊ | 295/336 [42:44<05:28,  8.00s/it]"
     ]
    },
    {
     "name": "stdout",
     "output_type": "stream",
     "text": [
      "좋은 요리 레시피 있으면 알려줘.\n",
      "배포 및 롤백 절차에 각 단계별 책임자를 명시할 때 참고할 만한 구체적인 역할 분담 예시가 있을까?\n"
     ]
    },
    {
     "name": "stderr",
     "output_type": "stream",
     "text": [
      " 88%|████████▊ | 296/336 [42:57<06:16,  9.41s/it]"
     ]
    },
    {
     "name": "stdout",
     "output_type": "stream",
     "text": [
      "이런 날씨에 어울리는 음악은 뭐야?\n",
      "AI 모델 성능 최적화 과제에서 사용된 데이터 증강 기법의 구체적인 적용 사례를 설명해 줄 수 있어?\n",
      "오늘 저녁 간단하게 먹을 만한 메뉴 하나 정해줘.\n"
     ]
    },
    {
     "name": "stderr",
     "output_type": "stream",
     "text": [
      " 88%|████████▊ | 297/336 [43:11<07:05, 10.92s/it]"
     ]
    },
    {
     "name": "stdout",
     "output_type": "stream",
     "text": [
      "웹툰 중에서 추천할 만한 게 있어?\n"
     ]
    },
    {
     "name": "stderr",
     "output_type": "stream",
     "text": [
      " 89%|████████▊ | 298/336 [43:15<05:39,  8.94s/it]"
     ]
    },
    {
     "name": "stdout",
     "output_type": "stream",
     "text": [
      "최근에 인기 있는 게임 뭐가 있는지 알고 싶어.\n",
      "오늘 저녁 메뉴 하나 정해줘.\n"
     ]
    },
    {
     "name": "stderr",
     "output_type": "stream",
     "text": [
      " 89%|████████▉ | 299/336 [43:22<05:02,  8.16s/it]"
     ]
    },
    {
     "name": "stdout",
     "output_type": "stream",
     "text": [
      "좋은 운동 방법이나 루틴이 있으면 알려줘.\n"
     ]
    },
    {
     "name": "stderr",
     "output_type": "stream",
     "text": [
      " 89%|████████▉ | 300/336 [43:25<04:05,  6.82s/it]"
     ]
    },
    {
     "name": "stdout",
     "output_type": "stream",
     "text": [
      "기분 전환에 좋은 활동 추천해줘.\n",
      "업무 계획서의 주간 목표와 주요 업무 항목을 구분할 때 참고할 만한 예시 문서가 있을까?\n"
     ]
    },
    {
     "name": "stderr",
     "output_type": "stream",
     "text": [
      " 90%|████████▉ | 301/336 [43:37<04:53,  8.40s/it]"
     ]
    },
    {
     "name": "stdout",
     "output_type": "stream",
     "text": [
      "친구에게 선물할 만한 아이템 있을까?\n"
     ]
    },
    {
     "name": "stderr",
     "output_type": "stream",
     "text": [
      " 90%|████████▉ | 302/336 [43:41<03:57,  6.99s/it]"
     ]
    },
    {
     "name": "stdout",
     "output_type": "stream",
     "text": [
      "오늘 하루 마무리하는 좋은 방법이 있을까?\n"
     ]
    },
    {
     "name": "stderr",
     "output_type": "stream",
     "text": [
      " 90%|█████████ | 303/336 [43:46<03:29,  6.34s/it]"
     ]
    },
    {
     "name": "stdout",
     "output_type": "stream",
     "text": [
      "제철 음식 중에 추천할 만한 것이 뭐야?\n",
      "데이터 품질 리포트 예시 보여줘\n"
     ]
    },
    {
     "name": "stderr",
     "output_type": "stream",
     "text": [
      " 90%|█████████ | 304/336 [44:01<04:48,  9.02s/it]"
     ]
    },
    {
     "name": "stdout",
     "output_type": "stream",
     "text": [
      "기분이 좋을 때 듣기 좋은 음악은 뭐야?\n",
      "오늘 저녁 메뉴 하나 정해줘.\n"
     ]
    },
    {
     "name": "stderr",
     "output_type": "stream",
     "text": [
      " 91%|█████████ | 305/336 [44:08<04:21,  8.44s/it]"
     ]
    },
    {
     "name": "stdout",
     "output_type": "stream",
     "text": [
      "이색적인 여행지 추천해줄 수 있어?\n",
      "에러 로그 분석 방법 알려줘\n"
     ]
    },
    {
     "name": "stderr",
     "output_type": "stream",
     "text": [
      " 91%|█████████ | 306/336 [44:20<04:45,  9.52s/it]"
     ]
    },
    {
     "name": "stdout",
     "output_type": "stream",
     "text": [
      "재미있는 일화나 유머가 있으면 들려줘.\n"
     ]
    },
    {
     "name": "stderr",
     "output_type": "stream",
     "text": [
      " 91%|█████████▏| 307/336 [44:24<03:42,  7.66s/it]"
     ]
    },
    {
     "name": "stdout",
     "output_type": "stream",
     "text": [
      "나만의 루틴을 만드는 데 도움이 될 만한 조언이 있을까?\n"
     ]
    },
    {
     "name": "stderr",
     "output_type": "stream",
     "text": [
      " 92%|█████████▏| 308/336 [44:30<03:19,  7.14s/it]"
     ]
    },
    {
     "name": "stdout",
     "output_type": "stream",
     "text": [
      "간단하게 할 수 있는 취미가 뭐가 있을까?\n"
     ]
    },
    {
     "name": "stderr",
     "output_type": "stream",
     "text": [
      " 92%|█████████▏| 309/336 [44:34<02:48,  6.24s/it]"
     ]
    },
    {
     "name": "stdout",
     "output_type": "stream",
     "text": [
      "여름에 어울리는 시원한 음료 추천해줘.\n"
     ]
    },
    {
     "name": "stderr",
     "output_type": "stream",
     "text": [
      " 92%|█████████▏| 310/336 [44:37<02:16,  5.24s/it]"
     ]
    },
    {
     "name": "stdout",
     "output_type": "stream",
     "text": [
      "마음이 편안해지는 방법이 있을까?\n"
     ]
    },
    {
     "name": "stderr",
     "output_type": "stream",
     "text": [
      " 93%|█████████▎| 311/336 [44:39<01:48,  4.32s/it]"
     ]
    },
    {
     "name": "stdout",
     "output_type": "stream",
     "text": [
      "오늘 날씨가 좋은데, 어떤 기분이 드는지 궁금해!\n",
      "오늘 저녁에 간단히 먹을 만한 메뉴 하나 정해줘.\n"
     ]
    },
    {
     "name": "stderr",
     "output_type": "stream",
     "text": [
      " 93%|█████████▎| 312/336 [44:46<02:03,  5.15s/it]"
     ]
    },
    {
     "name": "stdout",
     "output_type": "stream",
     "text": [
      "요즘 가장 인기 있는 영화가 뭐인지 알고 있어?\n",
      "오늘 저녁에 간단하게 먹을 수 있는 메뉴 하나 추천해줘.\n"
     ]
    },
    {
     "name": "stderr",
     "output_type": "stream",
     "text": [
      " 93%|█████████▎| 313/336 [44:52<02:03,  5.38s/it]"
     ]
    },
    {
     "name": "stdout",
     "output_type": "stream",
     "text": [
      "내가 한번 읽어볼 만한 좋은 책 추천해줄래?\n"
     ]
    },
    {
     "name": "stderr",
     "output_type": "stream",
     "text": [
      " 93%|█████████▎| 314/336 [44:55<01:45,  4.81s/it]"
     ]
    },
    {
     "name": "stdout",
     "output_type": "stream",
     "text": [
      "이 음악 어떤 느낌인지 한번 들어보고 싶어!\n"
     ]
    },
    {
     "name": "stderr",
     "output_type": "stream",
     "text": [
      " 94%|█████████▍| 315/336 [44:58<01:28,  4.22s/it]"
     ]
    },
    {
     "name": "stdout",
     "output_type": "stream",
     "text": [
      "여행 가기 좋은 곳이 어디인지 알려줄 수 있어?\n",
      "온보딩 체크리스트 자세히 알려줘\n",
      "온보딩 멘토 지정 기준 알려줘\n",
      "온보딩 멘토와의 정기 미팅에서는 주로 어떤 주제나 이슈를 다루는지 구체적으로 알려줄 수 있어?\n"
     ]
    },
    {
     "name": "stderr",
     "output_type": "stream",
     "text": [
      " 94%|█████████▍| 316/336 [45:19<03:03,  9.20s/it]"
     ]
    },
    {
     "name": "stdout",
     "output_type": "stream",
     "text": [
      "최근에 유행하는 패션 아이템이 뭐인지 궁금해!\n",
      "UI/UX 디자인 가이드라인에 최신 트렌드를 반영할 때 참고하는 외부 자료나 기준이 있다면 구체적으로 알려줄 수 있어?\n"
     ]
    },
    {
     "name": "stderr",
     "output_type": "stream",
     "text": [
      " 94%|█████████▍| 317/336 [45:37<03:44, 11.84s/it]"
     ]
    },
    {
     "name": "stdout",
     "output_type": "stream",
     "text": [
      "지금 듣고 있는 노래의 분위기가 어때?\n",
      "프로젝트 일정 관리 강화를 위해 도입된 구체적인 도구나 프로세스가 있다면 설명해 줄 수 있어?\n"
     ]
    },
    {
     "name": "stderr",
     "output_type": "stream",
     "text": [
      " 95%|█████████▍| 318/336 [45:46<03:19, 11.08s/it]"
     ]
    },
    {
     "name": "stdout",
     "output_type": "stream",
     "text": [
      "좋은 카페가 있으면 추천해줄 수 있어?\n",
      "주간 회고에서 수집된 피드백이 실제로 다음 주 업무 계획에 어떻게 반영되는지 구체적으로 설명해 줄 수 있어?\n"
     ]
    },
    {
     "name": "stderr",
     "output_type": "stream",
     "text": [
      " 95%|█████████▍| 319/336 [45:58<03:11, 11.27s/it]"
     ]
    },
    {
     "name": "stdout",
     "output_type": "stream",
     "text": [
      "요즘 핫한 레스토랑은 어디인지 알고 있어?\n"
     ]
    },
    {
     "name": "stderr",
     "output_type": "stream",
     "text": [
      " 95%|█████████▌| 320/336 [46:02<02:24,  9.05s/it]"
     ]
    },
    {
     "name": "stdout",
     "output_type": "stream",
     "text": [
      "요즘 인기 있는 게임 좀 알려줄래?\n"
     ]
    },
    {
     "name": "stderr",
     "output_type": "stream",
     "text": [
      " 96%|█████████▌| 321/336 [46:07<01:56,  7.78s/it]"
     ]
    },
    {
     "name": "stdout",
     "output_type": "stream",
     "text": [
      "내가 할 만한 취미 활동이 뭐가 있을까?\n",
      "자유 개발 시간에 진행된 개인 프로젝트나 학습 사례 중에서 팀원들이 추천한 활동이 있다면 알려줄 수 있어?\n"
     ]
    },
    {
     "name": "stderr",
     "output_type": "stream",
     "text": [
      " 96%|█████████▌| 322/336 [46:19<02:09,  9.22s/it]"
     ]
    },
    {
     "name": "stdout",
     "output_type": "stream",
     "text": [
      "최근에 재밌게 본 유튜브 채널이 뭐야?\n",
      "주간 미팅 운영 방식 알려줘\n",
      "주간 회의에서 논의된 이슈나 결정 사항은 어떤 방식으로 기록하고 공유하고 있는지 알려줄 수 있어?\n",
      "오늘 저녁에 간단하게 먹을 수 있는 메뉴 하나 추천해줘.\n"
     ]
    },
    {
     "name": "stderr",
     "output_type": "stream",
     "text": [
      " 96%|█████████▌| 323/336 [46:42<02:53, 13.34s/it]"
     ]
    },
    {
     "name": "stdout",
     "output_type": "stream",
     "text": [
      "요즘 뜨고 있는 TV 프로그램이 있다면 뭐지?\n"
     ]
    },
    {
     "name": "stderr",
     "output_type": "stream",
     "text": [
      " 96%|█████████▋| 324/336 [46:46<02:04, 10.34s/it]"
     ]
    },
    {
     "name": "stdout",
     "output_type": "stream",
     "text": [
      "다양한 커피 종류 중 어떤 게 맛있을까?\n"
     ]
    },
    {
     "name": "stderr",
     "output_type": "stream",
     "text": [
      " 97%|█████████▋| 325/336 [46:49<01:31,  8.33s/it]"
     ]
    },
    {
     "name": "stdout",
     "output_type": "stream",
     "text": [
      "네가 추천하는 간식은 뭐야?\n"
     ]
    },
    {
     "name": "stderr",
     "output_type": "stream",
     "text": [
      " 97%|█████████▋| 326/336 [46:53<01:08,  6.84s/it]"
     ]
    },
    {
     "name": "stdout",
     "output_type": "stream",
     "text": [
      "최근에 본 전시회 중에서 추천할 만한 게 있을까?\n",
      "오늘 저녁 메뉴 하나 정해줘.\n"
     ]
    },
    {
     "name": "stderr",
     "output_type": "stream",
     "text": [
      " 97%|█████████▋| 327/336 [46:59<00:59,  6.63s/it]"
     ]
    },
    {
     "name": "stdout",
     "output_type": "stream",
     "text": [
      "자주 가는 운동이 있으면 알려줄 수 있어?\n"
     ]
    },
    {
     "name": "stderr",
     "output_type": "stream",
     "text": [
      " 98%|█████████▊| 328/336 [47:02<00:44,  5.59s/it]"
     ]
    },
    {
     "name": "stdout",
     "output_type": "stream",
     "text": [
      "유명한 디저트 카페가 있다면 추천해줘!\n",
      "이번 주말에 즐길 수 있는 간단한 야외 활동 하나 추천해줘.\n"
     ]
    },
    {
     "name": "stderr",
     "output_type": "stream",
     "text": [
      " 98%|█████████▊| 329/336 [47:10<00:44,  6.41s/it]"
     ]
    },
    {
     "name": "stdout",
     "output_type": "stream",
     "text": [
      "좋은 음악 추천해주면 듣고 싶어!\n"
     ]
    },
    {
     "name": "stderr",
     "output_type": "stream",
     "text": [
      " 98%|█████████▊| 330/336 [47:14<00:33,  5.62s/it]"
     ]
    },
    {
     "name": "stdout",
     "output_type": "stream",
     "text": [
      "주말에 할 만한 재미있는 활동이 있을까?\n",
      "자유 개발 시간에 추천하는 프로젝트 있어?\n",
      "자유 개발 시간에 적합한 프로젝트 하나 추천해줘.\n"
     ]
    },
    {
     "name": "stderr",
     "output_type": "stream",
     "text": [
      " 99%|█████████▊| 331/336 [47:27<00:38,  7.71s/it]"
     ]
    },
    {
     "name": "stdout",
     "output_type": "stream",
     "text": [
      "요즘 보고 싶은 애니메이션이 있다면 뭐지?\n",
      "모델 성능 개선 방법 구체적으로 알려줘\n"
     ]
    },
    {
     "name": "stderr",
     "output_type": "stream",
     "text": [
      " 99%|█████████▉| 332/336 [47:36<00:33,  8.26s/it]"
     ]
    },
    {
     "name": "stdout",
     "output_type": "stream",
     "text": [
      "감명 깊었던 다큐멘터리 추천해줄 수 있어?\n",
      "오늘 저녁에 어울리는 음악 장르 하나 추천해줘.\n",
      "오늘 저녁에 먹을 간단한 간식 하나 추천해줘.\n"
     ]
    },
    {
     "name": "stderr",
     "output_type": "stream",
     "text": [
      " 99%|█████████▉| 333/336 [47:45<00:25,  8.36s/it]"
     ]
    },
    {
     "name": "stdout",
     "output_type": "stream",
     "text": [
      "혼자서 볼 수 있는 시리즈가 있다면 뭐가 좋을까?\n"
     ]
    },
    {
     "name": "stderr",
     "output_type": "stream",
     "text": [
      " 99%|█████████▉| 334/336 [47:48<00:13,  6.92s/it]"
     ]
    },
    {
     "name": "stdout",
     "output_type": "stream",
     "text": [
      "최근에 유행하는 패션 스타일이 있다면 알려줘!\n",
      "UI/UX 트렌드 반영 사례 알려줘\n"
     ]
    },
    {
     "name": "stderr",
     "output_type": "stream",
     "text": [
      "100%|█████████▉| 335/336 [48:00<00:08,  8.34s/it]"
     ]
    },
    {
     "name": "stdout",
     "output_type": "stream",
     "text": [
      "가볍게 할 수 있는 게임 중에서 추천할 만한 게 있을까?\n",
      "모바일 게임 순위 알려줘\n",
      "모델 성능 평가 지표 알려줘\n"
     ]
    },
    {
     "name": "stderr",
     "output_type": "stream",
     "text": [
      "100%|██████████| 336/336 [48:13<00:00,  8.61s/it]\n"
     ]
    }
   ],
   "execution_count": 19
  },
  {
   "metadata": {},
   "cell_type": "code",
   "outputs": [],
   "execution_count": null,
   "source": "",
   "id": "cfa24860e6438ca3"
  }
 ],
 "metadata": {
  "kernelspec": {
   "display_name": "ai_basic_env",
   "language": "python",
   "name": "python3"
  },
  "language_info": {
   "codemirror_mode": {
    "name": "ipython",
    "version": 3
   },
   "file_extension": ".py",
   "mimetype": "text/x-python",
   "name": "python",
   "nbconvert_exporter": "python",
   "pygments_lexer": "ipython3",
   "version": "3.12.9"
  }
 },
 "nbformat": 4,
 "nbformat_minor": 5
}
