{
 "cells": [
  {
   "cell_type": "markdown",
   "id": "111c8c06253fd506",
   "metadata": {},
   "source": [
    "## 초기 system prompt 설정 및 벡터 store 생성"
   ]
  },
  {
   "metadata": {
    "ExecuteTime": {
     "end_time": "2025-09-18T04:30:48.663920Z",
     "start_time": "2025-09-18T04:30:44.917122Z"
    }
   },
   "cell_type": "code",
   "source": "!pip install langchain_community",
   "id": "2a3a7c2407ed9116",
   "outputs": [
    {
     "name": "stdout",
     "output_type": "stream",
     "text": [
      "Requirement already satisfied: langchain_community in c:\\users\\miny0\\anaconda3\\envs\\ai_basic_env\\lib\\site-packages (0.3.29)\n",
      "Requirement already satisfied: langchain-core<2.0.0,>=0.3.75 in c:\\users\\miny0\\anaconda3\\envs\\ai_basic_env\\lib\\site-packages (from langchain_community) (0.3.76)\n",
      "Requirement already satisfied: langchain<2.0.0,>=0.3.27 in c:\\users\\miny0\\anaconda3\\envs\\ai_basic_env\\lib\\site-packages (from langchain_community) (0.3.27)\n",
      "Requirement already satisfied: SQLAlchemy<3,>=1.4 in c:\\users\\miny0\\anaconda3\\envs\\ai_basic_env\\lib\\site-packages (from langchain_community) (2.0.41)\n",
      "Requirement already satisfied: requests<3,>=2.32.5 in c:\\users\\miny0\\anaconda3\\envs\\ai_basic_env\\lib\\site-packages (from langchain_community) (2.32.5)\n",
      "Requirement already satisfied: PyYAML>=5.3 in c:\\users\\miny0\\anaconda3\\envs\\ai_basic_env\\lib\\site-packages (from langchain_community) (6.0.2)\n",
      "Requirement already satisfied: aiohttp<4.0.0,>=3.8.3 in c:\\users\\miny0\\anaconda3\\envs\\ai_basic_env\\lib\\site-packages (from langchain_community) (3.12.13)\n",
      "Requirement already satisfied: tenacity!=8.4.0,<10,>=8.1.0 in c:\\users\\miny0\\anaconda3\\envs\\ai_basic_env\\lib\\site-packages (from langchain_community) (8.5.0)\n",
      "Requirement already satisfied: dataclasses-json<0.7,>=0.6.7 in c:\\users\\miny0\\anaconda3\\envs\\ai_basic_env\\lib\\site-packages (from langchain_community) (0.6.7)\n",
      "Requirement already satisfied: pydantic-settings<3.0.0,>=2.10.1 in c:\\users\\miny0\\anaconda3\\envs\\ai_basic_env\\lib\\site-packages (from langchain_community) (2.10.1)\n",
      "Requirement already satisfied: langsmith>=0.1.125 in c:\\users\\miny0\\anaconda3\\envs\\ai_basic_env\\lib\\site-packages (from langchain_community) (0.4.4)\n",
      "Requirement already satisfied: httpx-sse<1.0.0,>=0.4.0 in c:\\users\\miny0\\anaconda3\\envs\\ai_basic_env\\lib\\site-packages (from langchain_community) (0.4.1)\n",
      "Requirement already satisfied: numpy>=1.26.2 in c:\\users\\miny0\\anaconda3\\envs\\ai_basic_env\\lib\\site-packages (from langchain_community) (1.26.4)\n",
      "Requirement already satisfied: aiohappyeyeballs>=2.5.0 in c:\\users\\miny0\\anaconda3\\envs\\ai_basic_env\\lib\\site-packages (from aiohttp<4.0.0,>=3.8.3->langchain_community) (2.6.1)\n",
      "Requirement already satisfied: aiosignal>=1.1.2 in c:\\users\\miny0\\anaconda3\\envs\\ai_basic_env\\lib\\site-packages (from aiohttp<4.0.0,>=3.8.3->langchain_community) (1.4.0)\n",
      "Requirement already satisfied: attrs>=17.3.0 in c:\\users\\miny0\\anaconda3\\envs\\ai_basic_env\\lib\\site-packages (from aiohttp<4.0.0,>=3.8.3->langchain_community) (25.3.0)\n",
      "Requirement already satisfied: frozenlist>=1.1.1 in c:\\users\\miny0\\anaconda3\\envs\\ai_basic_env\\lib\\site-packages (from aiohttp<4.0.0,>=3.8.3->langchain_community) (1.7.0)\n",
      "Requirement already satisfied: multidict<7.0,>=4.5 in c:\\users\\miny0\\anaconda3\\envs\\ai_basic_env\\lib\\site-packages (from aiohttp<4.0.0,>=3.8.3->langchain_community) (6.6.3)\n",
      "Requirement already satisfied: propcache>=0.2.0 in c:\\users\\miny0\\anaconda3\\envs\\ai_basic_env\\lib\\site-packages (from aiohttp<4.0.0,>=3.8.3->langchain_community) (0.3.1)\n",
      "Requirement already satisfied: yarl<2.0,>=1.17.0 in c:\\users\\miny0\\anaconda3\\envs\\ai_basic_env\\lib\\site-packages (from aiohttp<4.0.0,>=3.8.3->langchain_community) (1.20.1)\n",
      "Requirement already satisfied: marshmallow<4.0.0,>=3.18.0 in c:\\users\\miny0\\anaconda3\\envs\\ai_basic_env\\lib\\site-packages (from dataclasses-json<0.7,>=0.6.7->langchain_community) (3.26.1)\n",
      "Requirement already satisfied: typing-inspect<1,>=0.4.0 in c:\\users\\miny0\\anaconda3\\envs\\ai_basic_env\\lib\\site-packages (from dataclasses-json<0.7,>=0.6.7->langchain_community) (0.9.0)\n",
      "Requirement already satisfied: langchain-text-splitters<1.0.0,>=0.3.9 in c:\\users\\miny0\\anaconda3\\envs\\ai_basic_env\\lib\\site-packages (from langchain<2.0.0,>=0.3.27->langchain_community) (0.3.11)\n",
      "Requirement already satisfied: pydantic<3.0.0,>=2.7.4 in c:\\users\\miny0\\anaconda3\\envs\\ai_basic_env\\lib\\site-packages (from langchain<2.0.0,>=0.3.27->langchain_community) (2.11.4)\n",
      "Requirement already satisfied: jsonpatch<2.0,>=1.33 in c:\\users\\miny0\\anaconda3\\envs\\ai_basic_env\\lib\\site-packages (from langchain-core<2.0.0,>=0.3.75->langchain_community) (1.33)\n",
      "Requirement already satisfied: typing-extensions>=4.7 in c:\\users\\miny0\\anaconda3\\envs\\ai_basic_env\\lib\\site-packages (from langchain-core<2.0.0,>=0.3.75->langchain_community) (4.14.1)\n",
      "Requirement already satisfied: packaging>=23.2 in c:\\users\\miny0\\anaconda3\\envs\\ai_basic_env\\lib\\site-packages (from langchain-core<2.0.0,>=0.3.75->langchain_community) (24.2)\n",
      "Requirement already satisfied: jsonpointer>=1.9 in c:\\users\\miny0\\anaconda3\\envs\\ai_basic_env\\lib\\site-packages (from jsonpatch<2.0,>=1.33->langchain-core<2.0.0,>=0.3.75->langchain_community) (3.0.0)\n",
      "Requirement already satisfied: annotated-types>=0.6.0 in c:\\users\\miny0\\anaconda3\\envs\\ai_basic_env\\lib\\site-packages (from pydantic<3.0.0,>=2.7.4->langchain<2.0.0,>=0.3.27->langchain_community) (0.7.0)\n",
      "Requirement already satisfied: pydantic-core==2.33.2 in c:\\users\\miny0\\anaconda3\\envs\\ai_basic_env\\lib\\site-packages (from pydantic<3.0.0,>=2.7.4->langchain<2.0.0,>=0.3.27->langchain_community) (2.33.2)\n",
      "Requirement already satisfied: typing-inspection>=0.4.0 in c:\\users\\miny0\\anaconda3\\envs\\ai_basic_env\\lib\\site-packages (from pydantic<3.0.0,>=2.7.4->langchain<2.0.0,>=0.3.27->langchain_community) (0.4.1)\n",
      "Requirement already satisfied: python-dotenv>=0.21.0 in c:\\users\\miny0\\anaconda3\\envs\\ai_basic_env\\lib\\site-packages (from pydantic-settings<3.0.0,>=2.10.1->langchain_community) (1.1.1)\n",
      "Requirement already satisfied: charset_normalizer<4,>=2 in c:\\users\\miny0\\anaconda3\\envs\\ai_basic_env\\lib\\site-packages (from requests<3,>=2.32.5->langchain_community) (3.4.2)\n",
      "Requirement already satisfied: idna<4,>=2.5 in c:\\users\\miny0\\anaconda3\\envs\\ai_basic_env\\lib\\site-packages (from requests<3,>=2.32.5->langchain_community) (3.10)\n",
      "Requirement already satisfied: urllib3<3,>=1.21.1 in c:\\users\\miny0\\anaconda3\\envs\\ai_basic_env\\lib\\site-packages (from requests<3,>=2.32.5->langchain_community) (2.5.0)\n",
      "Requirement already satisfied: certifi>=2017.4.17 in c:\\users\\miny0\\anaconda3\\envs\\ai_basic_env\\lib\\site-packages (from requests<3,>=2.32.5->langchain_community) (2025.8.3)\n",
      "Requirement already satisfied: greenlet>=1 in c:\\users\\miny0\\anaconda3\\envs\\ai_basic_env\\lib\\site-packages (from SQLAlchemy<3,>=1.4->langchain_community) (3.2.3)\n",
      "Requirement already satisfied: mypy-extensions>=0.3.0 in c:\\users\\miny0\\anaconda3\\envs\\ai_basic_env\\lib\\site-packages (from typing-inspect<1,>=0.4.0->dataclasses-json<0.7,>=0.6.7->langchain_community) (1.1.0)\n",
      "Requirement already satisfied: httpx<1,>=0.23.0 in c:\\users\\miny0\\anaconda3\\envs\\ai_basic_env\\lib\\site-packages (from langsmith>=0.1.125->langchain_community) (0.28.1)\n",
      "Requirement already satisfied: orjson<4.0.0,>=3.9.14 in c:\\users\\miny0\\anaconda3\\envs\\ai_basic_env\\lib\\site-packages (from langsmith>=0.1.125->langchain_community) (3.10.18)\n",
      "Requirement already satisfied: requests-toolbelt<2.0.0,>=1.0.0 in c:\\users\\miny0\\anaconda3\\envs\\ai_basic_env\\lib\\site-packages (from langsmith>=0.1.125->langchain_community) (1.0.0)\n",
      "Requirement already satisfied: zstandard<0.24.0,>=0.23.0 in c:\\users\\miny0\\anaconda3\\envs\\ai_basic_env\\lib\\site-packages (from langsmith>=0.1.125->langchain_community) (0.23.0)\n",
      "Requirement already satisfied: anyio in c:\\users\\miny0\\anaconda3\\envs\\ai_basic_env\\lib\\site-packages (from httpx<1,>=0.23.0->langsmith>=0.1.125->langchain_community) (4.9.0)\n",
      "Requirement already satisfied: httpcore==1.* in c:\\users\\miny0\\anaconda3\\envs\\ai_basic_env\\lib\\site-packages (from httpx<1,>=0.23.0->langsmith>=0.1.125->langchain_community) (1.0.9)\n",
      "Requirement already satisfied: h11>=0.16 in c:\\users\\miny0\\anaconda3\\envs\\ai_basic_env\\lib\\site-packages (from httpcore==1.*->httpx<1,>=0.23.0->langsmith>=0.1.125->langchain_community) (0.16.0)\n",
      "Requirement already satisfied: sniffio>=1.1 in c:\\users\\miny0\\anaconda3\\envs\\ai_basic_env\\lib\\site-packages (from anyio->httpx<1,>=0.23.0->langsmith>=0.1.125->langchain_community) (1.3.1)\n"
     ]
    }
   ],
   "execution_count": 1
  },
  {
   "cell_type": "code",
   "id": "4a1530950a5dfb25",
   "metadata": {
    "ExecuteTime": {
     "end_time": "2025-09-18T18:55:57.698503Z",
     "start_time": "2025-09-18T18:55:48.109130Z"
    }
   },
   "source": [
    "from langchain_community.embeddings import HuggingFaceEmbeddings\n",
    "from random import randint, choice\n",
    "\n",
    "from langchain_core.output_parsers import StrOutputParser\n",
    "from langchain_core.prompts import PromptTemplate\n",
    "from langchain_openai import ChatOpenAI\n",
    "from openai import OpenAI\n",
    "from langchain.vectorstores import Chroma\n",
    "from dotenv import load_dotenv\n",
    "\n",
    "load_dotenv()\n",
    "\n",
    "client = OpenAI()\n",
    "\n",
    "permission = \"frontend\"\n",
    "\n",
    "# 벡터 DB 세팅\n",
    "embedding_model = HuggingFaceEmbeddings(model_name=\"BAAI/bge-m3\")\n",
    "vectorstore = Chroma(persist_directory=f\"./chroma_db/{permission}\", embedding_function=embedding_model)"
   ],
   "outputs": [
    {
     "name": "stderr",
     "output_type": "stream",
     "text": [
      "C:\\Users\\miny0\\AppData\\Local\\Temp\\ipykernel_21916\\1803320750.py:18: LangChainDeprecationWarning: The class `HuggingFaceEmbeddings` was deprecated in LangChain 0.2.2 and will be removed in 1.0. An updated version of the class exists in the :class:`~langchain-huggingface package and should be used instead. To use it run `pip install -U :class:`~langchain-huggingface` and import as `from :class:`~langchain_huggingface import HuggingFaceEmbeddings``.\n",
      "  embedding_model = HuggingFaceEmbeddings(model_name=\"BAAI/bge-m3\")\n",
      "C:\\Users\\miny0\\AppData\\Local\\Temp\\ipykernel_21916\\1803320750.py:19: LangChainDeprecationWarning: The class `Chroma` was deprecated in LangChain 0.2.9 and will be removed in 1.0. An updated version of the class exists in the :class:`~langchain-chroma package and should be used instead. To use it run `pip install -U :class:`~langchain-chroma` and import as `from :class:`~langchain_chroma import Chroma``.\n",
      "  vectorstore = Chroma(persist_directory=f\"./chroma_db/{permission}\", embedding_function=embedding_model)\n"
     ]
    }
   ],
   "execution_count": 1
  },
  {
   "cell_type": "markdown",
   "id": "11d07c79608e82fc",
   "metadata": {},
   "source": [
    "## 초기 질문 리스트 가져오기"
   ]
  },
  {
   "cell_type": "code",
   "id": "initial_id",
   "metadata": {
    "collapsed": true,
    "ExecuteTime": {
     "end_time": "2025-09-18T18:57:17.974509Z",
     "start_time": "2025-09-18T18:57:17.963305Z"
    }
   },
   "source": [
    "import json\n",
    "\n",
    "def load_questions_from_jsonl_minimal(path: str, key: str = \"question\"):\n",
    "    \"\"\"JSONL에서 각 라인의 `question` 값만 순서/중복/공백 그대로 추출\"\"\"\n",
    "    questions = []\n",
    "    with open(path, \"r\", encoding=\"utf-8-sig\") as f:\n",
    "        for line in f:\n",
    "            line = line.strip()\n",
    "            obj = json.loads(line)\n",
    "            if isinstance(obj, dict) and key in obj:\n",
    "                questions.append(obj[key])\n",
    "    return questions\n",
    "\n",
    "# 사용 예시\n",
    "initial_questions = load_questions_from_jsonl_minimal(f\"./company_questions_{permission}.jsonl\")\n",
    "initial_questions"
   ],
   "outputs": [
    {
     "data": {
      "text/plain": [
       "[\"빌드/배포 가이드의 '1.1 환경 설정' 파트에서 Node.js 설치에 대한 구체적인 버전 요구사항은 무엇인가요?\",\n",
       " \"빌드/배포 가이드의 '1.2 프로젝트 클론' 파트에서 GitHub에서 프로젝트를 클론할 때 사용하는 명령어는 무엇인가요?\",\n",
       " \"빌드/배포 가이드의 '1.3 의존성 설치' 파트에서 의존성을 설치하기 위해 실행해야 하는 명령어는 무엇인가요?\",\n",
       " \"빌드/배포 가이드의 '2.1 빌드 명령어 실행' 파트에서 빌드를 실행하기 위해 사용할 수 있는 명령어는 무엇인가요?\",\n",
       " \"빌드/배포 가이드의 '2.2 빌드 결과 확인' 파트에서 빌드 결과물이 생성되는 폴더의 이름은 무엇인가요?\",\n",
       " \"빌드/배포 가이드의 '3.1 배포 환경 설정' 파트에서 배포할 서버에 접근하기 위한 방법은 무엇인가요?\",\n",
       " \"빌드/배포 가이드의 '3.2 파일 전송' 파트에서 빌드된 파일을 서버에 전송하기 위해 사용할 수 있는 방법은 무엇인가요?\",\n",
       " \"빌드/배포 가이드의 '3.3 서버 설정' 파트에서 웹 서버의 설정 파일을 수정할 때 확인해야 할 사항은 무엇인가요?\",\n",
       " \"빌드/배포 가이드의 '4.1 서비스 재시작' 파트에서 웹 서버를 재시작하기 위해 사용할 수 있는 명령어는 무엇인가요?\",\n",
       " \"빌드/배포 가이드의 '4.2 배포 확인' 파트에서 배포된 URL을 열어 확인해야 할 사항은 무엇인가요?\",\n",
       " \"빌드/배포 가이드의 '5.1 로그 확인' 파트에서 오류 메시지를 파악하기 위해 확인해야 하는 로그 파일의 경로는 무엇인가요?\",\n",
       " \"빌드/배포 가이드의 '5.2 문제 해결' 파트에서 발생한 오류를 해결하기 위해 어떤 방법을 사용할 수 있나요?\",\n",
       " \"빌드/배포 가이드의 '6. 문서화' 파트에서 문서화해야 할 내용은 무엇인가요?\",\n",
       " \"빌드/배포 가이드의 '다음 개정 제안'에서 제안된 배포 자동화 도구에 대한 추가 정보는 어떤 내용을 포함해야 하나요?\",\n",
       " \"빌드/배포 가이드의 '다음 개정 제안'에서 각 단계에 대한 예시를 추가하는 것이 왜 중요한가요?\",\n",
       " \"UI/UX 디자인 가이드라인의 '디자인 원칙' 섹션에서 사용자 중심 디자인의 구체적인 적용 사례는 무엇인가요?\",\n",
       " '색상 가이드 섹션에서 기본 색상과 보조 색상의 조합에 대한 예시는 어떤 것이 있나요?',\n",
       " '타이포그래피 섹션에서 폰트 크기 설정에 대한 구체적인 기준은 무엇인가요?',\n",
       " '버튼 및 상호작용 요소 섹션에서 호버 효과의 구체적인 디자인 예시는 어떤 것이 있나요?',\n",
       " '레이아웃 및 그리드 시스템 섹션에서 12열 그리드 시스템을 사용하는 이유는 무엇인가요?',\n",
       " '이미지 및 아이콘 사용 섹션에서 고해상도 이미지를 선택할 때 고려해야 할 요소는 무엇인가요?',\n",
       " '사용자 피드백 섹션에서 A/B 테스트의 구체적인 진행 방법은 어떻게 되나요?',\n",
       " '문서화 섹션에서 디자인 시스템 문서화의 중요성에 대한 설명은 무엇인가요?',\n",
       " '디자인 원칙 섹션에서 접근성을 고려한 디자인의 구체적인 예시는 무엇인가요?',\n",
       " '색상 가이드 섹션에서 배경 색상 선택 시 고려해야 할 요소는 무엇인가요?',\n",
       " '타이포그래피 섹션에서 행간 및 자간 설정의 중요성에 대한 설명은 무엇인가요?',\n",
       " '버튼 및 상호작용 요소 섹션에서 상태 표시의 구체적인 예시는 어떤 것이 있나요?',\n",
       " '레이아웃 및 그리드 시스템 섹션에서 여백 및 패딩 설정의 기준은 무엇인가요?',\n",
       " '이미지 및 아이콘 사용 섹션에서 아이콘 스타일의 일관성을 유지하는 방법은 무엇인가요?',\n",
       " '사용자 피드백 섹션에서 테스트 및 검증의 구체적인 절차는 어떻게 되나요?',\n",
       " '문서화 섹션에서 버전 관리의 필요성에 대한 설명은 무엇인가요?',\n",
       " '디자인 원칙 섹션에서 일관성을 유지하기 위한 구체적인 방법은 무엇인가요?',\n",
       " '색상 가이드 섹션에서 강조가 필요한 부분에 사용할 수 있는 보조 색상의 예시는 무엇인가요?',\n",
       " '타이포그래피 섹션에서 브랜드와 일관된 느낌을 주는 폰트의 예시는 어떤 것이 있나요?',\n",
       " '버튼 및 상호작용 요소 섹션에서 클릭 가능한 영역의 크기 기준은 무엇인가요?',\n",
       " '레이아웃 및 그리드 시스템 섹션에서 모듈화의 장점은 무엇인가요?',\n",
       " '이미지 및 아이콘 사용 섹션에서 콘텐츠와의 연관성을 높이기 위한 이미지 선택 기준은 무엇인가요?',\n",
       " '사용자 피드백 섹션에서 피드백 수집 후 개선 과정의 구체적인 단계는 무엇인가요?',\n",
       " '문서화 섹션에서 팀원들이 쉽게 접근할 수 있도록 하는 방법은 무엇인가요?',\n",
       " '디자인 원칙 섹션에서 반응형 디자인의 필요성에 대한 설명은 무엇인가요?',\n",
       " '협업 프로세스 문서의 초기 회의 섹션에서 요구사항이 명확히 정의되었는지 검증하는 방법은 무엇인가요?',\n",
       " '디자인 단계에서 와이어프레임 및 프로토타입이 요구사항에 부합하는지 확인하는 기준은 무엇인가요?',\n",
       " '개발 단계의 코드 리뷰 과정에서 코드 품질 기준을 준수하는지 검증하는 방법은 어떤 것이 있나요?',\n",
       " '테스트 단계에서 QA 진행 시 모든 기능이 정상적으로 작동하는지 확인하기 위한 절차는 무엇인가요?',\n",
       " '배포 단계에서 사용자 피드백을 수집하는 방법은 무엇이며, 이를 어떻게 문서화하나요?',\n",
       " '피드백 및 회고 섹션에서 다음 프로젝트에 반영할 수 있는 교훈을 도출하기 위한 회의 진행 방식은 어떻게 되나요?',\n",
       " '문서화 섹션에서 모든 문서가 팀원에게 공유되었는지 확인하는 절차는 무엇인가요?',\n",
       " '협업 도구 섹션에서 슬랙(Slack)과 팀즈(Teams)의 사용 목적은 무엇인가요?',\n",
       " '프로젝트 관리 도구인 지라(Jira)와 트렐로(Trello)의 사용 시 주의해야 할 점은 무엇인가요?',\n",
       " '프론트엔드 개발자의 역할 중 코드 리뷰와 버그 수정의 구체적인 책임은 무엇인가요?',\n",
       " '디자이너의 역할에서 사용자 경험(UX) 최적화를 위해 고려해야 할 요소는 무엇인가요?',\n",
       " '프로덕트 매니저가 요구사항 수집 시 주의해야 할 점은 무엇인가요?',\n",
       " 'QA 엔지니어가 기능 테스트를 진행할 때 어떤 기준으로 버그를 리포트하나요?',\n",
       " '초기 회의에서 각 팀원의 역할이 분명히 이해되었는지 확인하는 방법은 무엇인가요?',\n",
       " '디자인 단계에서 사용자 경험(UX)이 최적화되었는지 검증하기 위한 방법은 무엇인가요?',\n",
       " '개발 단계에서 Pull Request(PR) 생성 후 리뷰 진행 시 어떤 점을 중점적으로 검토해야 하나요?',\n",
       " '테스트 단계에서 발견된 버그가 적절히 수정되었는지 확인하는 절차는 무엇인가요?',\n",
       " '배포 준비 단계에서 최종 검토 후 배포 계획 수립 시 고려해야 할 요소는 무엇인가요?',\n",
       " '정기 회의에서 무엇이 잘 되었고, 무엇이 개선되어야 하는지를 평가하는 기준은 무엇인가요?',\n",
       " '문서 작성 시 프로젝트 관련 문서 및 결과물을 정리하는 방법은 어떤 것이 있나요?',\n",
       " '프론트엔드 아키텍처 문서에서 기술 스택에 대한 내용은 어떤 프레임워크와 상태 관리 도구를 포함하고 있나요?',\n",
       " '프론트엔드 아키텍처 문서의 폴더 구조에서 `services/` 폴더의 역할은 무엇인가요?',\n",
       " '개발 원칙 섹션에서 코드 가독성을 높이기 위한 명확한 네이밍의 중요성에 대해 설명해 주세요.',\n",
       " '프론트엔드 아키텍처 문서의 성능 최적화 부분에서 Lazy Loading의 목적은 무엇인가요?',\n",
       " 'Git 워크플로우 섹션에서 기능 개발 시 어떤 브랜치 전략을 따라야 하나요?',\n",
       " '코드 리뷰 기준에서 확인해야 할 사항은 무엇인지 프론트엔드 아키텍처 문서에서 설명해 주세요.',\n",
       " '유닛 테스트를 작성할 때 사용할 수 있는 도구는 무엇인가요? 프론트엔드 아키텍처 문서에서 언급된 내용을 바탕으로 설명해 주세요.',\n",
       " 'CI/CD 섹션에서 자동화된 빌드에 사용되는 도구는 무엇이며, 그 역할은 무엇인가요?',\n",
       " '프론트엔드 아키텍처 문서에서 모니터링 도구로 언급된 Google Analytics와 Sentry의 용도는 무엇인가요?',\n",
       " '컴포넌트 재사용성을 높이기 위한 원칙 중 하나로 props 활용이 언급되었는데, 그 이유는 무엇인가요?',\n",
       " '프론트엔드 아키텍처 문서에서 주석 작성의 중요성에 대해 어떻게 설명하고 있나요?',\n",
       " '성능 최적화에서 Memoization의 사용 목적은 무엇인가요? 프론트엔드 아키텍처 문서의 내용을 바탕으로 설명해 주세요.',\n",
       " '프론트엔드 아키텍처 문서에서 각 페이지에 해당하는 컴포넌트는 어떤 폴더에 위치하나요?',\n",
       " '프론트엔드 아키텍처 문서의 결론 부분에서 강조하는 개발자의 생산성을 높이기 위한 원칙은 무엇인가요?',\n",
       " 'E2E 테스트를 수행하기 위해 사용할 수 있는 도구는 무엇인가요? 프론트엔드 아키텍처 문서에서 언급된 내용을 바탕으로 설명해 주세요.',\n",
       " \"코딩 컨벤션 & 스타일 가이드의 기본 원칙에서 '일관성'의 중요성에 대해 구체적으로 설명해 주실 수 있나요?\",\n",
       " '파일 및 폴더 구조 섹션에서 기능별로 나누어 관리하는 이유는 무엇인가요?',\n",
       " \"변수 및 함수 파트에서 '변수명' 작성 시 주의해야 할 점은 무엇인지 구체적으로 알고 싶습니다.\",\n",
       " '주석 작성 섹션에서 복잡한 부분에 주석을 추가하는 이유는 무엇인가요?',\n",
       " '코드 포맷팅에서 줄 길이를 80~120자로 제한하는 이유는 무엇인지 설명해 주실 수 있나요?',\n",
       " '컴포넌트 작성 섹션에서 상태(state)와 속성(props)을 구분하는 것이 왜 중요한지 구체적으로 알고 싶습니다.',\n",
       " '에러 처리 파트에서 비동기 작업에 에러 핸들링을 포함해야 하는 이유는 무엇인가요?',\n",
       " '테스트 섹션에서 유닛 테스트와 통합 테스트의 차이점에 대해 설명해 주실 수 있나요?',\n",
       " '코드 리뷰 프로세스에서 리뷰어가 주석 및 피드백을 제공하는 이유는 무엇인가요?',\n",
       " '기타 섹션에서 ESLint와 Prettier를 사용하는 이유는 무엇인지 구체적으로 알고 싶습니다.',\n",
       " '코드 리뷰에서 받은 피드백을 반영하는 것이 왜 중요한지 설명해 주실 수 있나요?',\n",
       " '보안 가이드라인에서 프론트엔드 애플리케이션의 보안을 강화하기 위한 권장 사항은 무엇인가요?',\n",
       " '로그/모니터링 가이드에서 로그 수집의 중요성에 대해 설명해 주세요.',\n",
       " '협업 프로세스 문서에서 팀원 간의 의사소통을 원활하게 하기 위한 방법은 무엇인가요?',\n",
       " '신규 입사자 온보딩 가이드에서 첫 주에 수행해야 할 주요 활동은 무엇인가요?',\n",
       " '프론트엔드팀 주간 업무 계획에서 이번 주의 주요 목표는 무엇인가요?',\n",
       " '프론트엔드팀 회의록(정기회의) #1에서 논의된 주요 안건은 무엇인가요?',\n",
       " '프론트엔드팀 회의록(정기회의) #2에서 결정된 액션 아이템은 무엇인가요?',\n",
       " '실패 사례 & 대응 기록(Postmortem 문서)에서 가장 최근의 실패 사례는 무엇이며, 그에 대한 대응은 어땠나요?',\n",
       " '프로젝트/제품 릴리즈 노트 관리 문서에서 릴리즈 노트 작성 시 포함해야 할 필수 항목은 무엇인가요?',\n",
       " \"API 연동 매뉴얼의 'API 호출 구현' 파트에서 요청 시 필요한 헤더와 파라미터 설정에 대한 구체적인 예시는 무엇인가요?\",\n",
       " \"API 연동 매뉴얼의 '응답 처리' 파트에서 성공적인 응답과 오류 응답에 대한 처리를 어떻게 구분해야 하나요?\",\n",
       " \"API 연동 매뉴얼의 'UI 연동' 파트에서 데이터 바인딩 및 상태 관리를 통해 UI와 API의 연계를 강화하는 방법은 무엇인가요?\",\n",
       " \"API 연동 매뉴얼의 '개발 환경 설정' 파트에서 환경 변수를 설정하는 방법은 무엇인가요?\",\n",
       " \"API 연동 매뉴얼의 '요구 사항 정의' 파트에서 API를 통해 주고받을 데이터의 예시는 무엇인가요?\",\n",
       " \"API 연동 매뉴얼의 'UI 연동' 파트에서 API에서 받은 데이터를 사용자 인터페이스에 반영하는 방법은 무엇인가요?\",\n",
       " '프론트엔드팀 주간 업무 계획에서 사용자 경험 개선을 위한 UI/UX 업데이트 진행에 대한 구체적인 목표는 무엇인가요?',\n",
       " '주간 업무 일정의 월요일 업무 회의에서 주간 목표 공유 시 어떤 내용이 논의되나요?',\n",
       " '화요일의 신규 기능 개발 파트에서 요구사항 분석 및 기술 스택 선정은 어떻게 진행되나요?',\n",
       " '수요일의 코드 리뷰 및 품질 관리에서 팀원 간 코드 리뷰는 어떤 기준으로 진행되나요?',\n",
       " '목요일 기능 통합 및 테스트에서 통합 테스트는 어떤 방식으로 수행되며, 사용자 시나리오 기반 테스트의 주요 포인트는 무엇인가요?',\n",
       " '주간 회고에서 이번 주 진행한 업무에 대한 회고는 어떤 형식으로 이루어지며, 개선 사항은 어떻게 수집하나요?',\n",
       " '체크리스트에서 UI/UX 개선 사항을 팀원과 공유하는 과정은 어떻게 진행되나요?',\n",
       " '신규 기능 개발 요구사항 분석 완료 후, 어떤 절차를 통해 코드 작성이 시작되나요?',\n",
       " '버그 수정 후 QA 진행은 어떤 방식으로 이루어지며, 어떤 기준으로 수정 사항이 테스트되나요?',\n",
       " '문서화 작업 완료 후, 팀원들이 쉽게 접근할 수 있도록 하는 방법은 무엇인가요?',\n",
       " '검증 포인트에서 UI/UX 개선 사항이 사용자 피드백을 반영했는지 확인하는 방법은 무엇인가요?',\n",
       " '신규 기능이 요구사항에 부합하는지 검토하는 과정은 어떻게 이루어지나요?',\n",
       " '코드 품질 향상 및 버그 수정 후, 기존 기능에 영향이 없는지 테스트하는 절차는 무엇인가요?',\n",
       " '자유 개발 시간 동안 개인 프로젝트나 학습 시간은 어떻게 활용되나요?',\n",
       " '주간 업무 계획에서 각 업무의 우선순위는 어떻게 정해지나요?',\n",
       " '프론트엔드팀 회의록에서 현재 프로젝트 진행 상황에 대한 각 팀원의 기능 진행률 점검 결과는 어떻게 되나요?',\n",
       " '회의록에서 언급된 각 팀원의 역할과 책임에 대한 구체적인 내용은 무엇인가요?',\n",
       " '회의에서 논의된 사용자 피드백 반영 방안의 구체적인 실행 계획은 무엇인가요?',\n",
       " '회의록에서 언급된 버그 수정 및 개선 사항의 구체적인 내용은 무엇이었나요?',\n",
       " '향후 개발 일정 조정에서 어떤 기준으로 마일스톤을 재조정할 예정인가요?',\n",
       " '회의록에서 논의된 사용자 피드백 수집 방법 개선 방안에 대한 구체적인 아이디어는 무엇이었나요?',\n",
       " \"보안 가이드라인의 '일반 보안 원칙' 섹션에서 정기적인 교육의 중요성에 대해 어떤 내용이 포함되어 있나요?\",\n",
       " \"'데이터 보호' 파트에서 민감한 데이터 처리에 대한 구체적인 절차는 무엇인가요?\",\n",
       " '크로스사이트 스크립팅(XSS) 방지 섹션에서 입력 검증의 중요성에 대해 어떤 지침이 제시되어 있나요?',\n",
       " \"'크로스사이트 요청 위조(CSRF) 방지' 파트에서 CSRF 토큰 사용에 대한 구체적인 요구사항은 무엇인가요?\",\n",
       " '의존성 관리 섹션에서 패키지 업데이트의 주기와 중요성에 대해 어떤 내용이 설명되어 있나요?',\n",
       " '오류 처리 섹션에서 사용자 친화적인 오류 메시지의 필요성에 대해 어떤 지침이 제공되고 있나요?',\n",
       " '배포 보안 파트에서 CI/CD 파이프라인 보안에 대한 구체적인 접근 권한 제한 방법은 무엇인가요?',\n",
       " \"'정기적인 보안 감사' 섹션에서 내부 감사의 주기와 목적에 대해 어떤 내용이 포함되어 있나요?\",\n",
       " '보안 가이드라인의 결론 부분에서 프론트엔드팀의 보안이 사용자 신뢰와 어떻게 연결되는지에 대한 설명은 무엇인가요?',\n",
       " \"'크로스사이트 요청 위조(CSRF) 방지' 섹션에서 SameSite 쿠키 속성 설정의 중요성에 대해 어떤 내용이 언급되어 있나요?\",\n",
       " '릴리즈 노트 개요에서 제품의 새로운 기능과 개선 사항을 어떻게 정리해야 하는지 구체적으로 설명해 주실 수 있나요?',\n",
       " '정보 로그와 성능 로그의 차이점은 무엇인가요?',\n",
       " '에러 발생 시 에러 로그가 기록되는지 확인하는 절차는 어떻게 되나요?',\n",
       " '모니터링 체크리스트에서 페이지 로드 시간 및 API 응답 시간이 정상 범위 내에 있는지 확인하는 방법은 무엇인가요?',\n",
       " '로그 수집 단계에서 로그 포맷을 정의하는 이유는 무엇인가요?',\n",
       " '정기 점검 시 어떤 항목을 중점적으로 점검해야 하나요?',\n",
       " '리뷰 회의에서 로그 및 모니터링 결과를 공유할 때 어떤 형식으로 진행하나요?',\n",
       " \"온보딩 절차에서 사전 준비 단계의 '계정 생성'에 대한 구체적인 절차는 무엇인가요?\",\n",
       " \"첫 주 일정에서 '오리엔테이션 참석' 시 어떤 내용이 다뤄지며, 참석해야 하는 이유는 무엇인가요?\",\n",
       " \"도구 및 기술 스택 섹션에서 '버전 관리 시스템'으로 Git을 사용하는 이유는 무엇인가요?\",\n",
       " \"학습 자료에서 '문서화된 가이드'는 어디에서 확인할 수 있으며, 어떤 종류의 정보가 포함되어 있나요?\",\n",
       " \"초기 프로젝트 참여에서 '작은 기능 추가'는 어떤 방식으로 진행되며, 구체적인 예시가 있을까요?\",\n",
       " \"피드백 및 개선 섹션의 '정기적인 피드백 세션'은 얼마나 자주 진행되며, 어떤 형식으로 이루어지나요?\",\n",
       " \"문화 및 가치에서 '협업'의 중요성에 대해 구체적으로 설명해 주실 수 있나요?\",\n",
       " \"체크리스트에서 '필수 도구 설치 및 사용법 숙지'는 어떤 도구를 포함하며, 설치 방법은 어떻게 되나요?\",\n",
       " \"온보딩 과정에서 '멘토 지정'은 어떤 기준으로 이루어지며, 멘토와의 미팅은 어떻게 진행되나요?\",\n",
       " \"추가 지원 섹션에서 '멘토나 팀 리더에게 문의'할 때 어떤 종류의 질문을 하는 것이 좋나요?\",\n",
       " '\"실패 사례 & 대응 기록 보고서에서 사건 발생일은 언제인가요?\"',\n",
       " '\"피드백 요청을 통해 도출할 개선 방안은 어떤 것들이 있을까요?\"',\n",
       " '\"사건 발생일과 사건 설명을 구체적으로 보완하기 위한 개정 제안은 어떤 내용이 포함될 예정인가요?\"',\n",
       " '\"버그 수정 패치 배포 후 사용자에게 전달된 공지사항의 주요 내용은 무엇인가요?\"',\n",
       " '\"QA팀과의 정기적인 협업 미팅 일정 수립은 어떤 방식으로 진행될 예정인가요?\"',\n",
       " '프론트엔드팀 회의록에서 현재 진행 중인 프로젝트의 주요 마일스톤 준수 현황은 어떻게 되나요?',\n",
       " '프론트엔드팀 회의록에서 이영희가 맡고 있는 기능 개발의 UI/UX 테스트 단계에 대한 구체적인 내용은 무엇인가요?',\n",
       " '프론트엔드팀 회의록에서 사용자 피드백을 수집하기 위한 설문조사 진행 계획은 어떻게 되어 있나요?',\n",
       " '프론트엔드팀 회의록에서 논의된 사용자 피드백 반영 방안의 개선 사항 우선순위는 어떻게 정리되었나요?',\n",
       " '프론트엔드팀 회의록에서 신규 기능 개발 우선순위로 설정된 기능들은 어떤 것들이 있으며, 그 이유는 무엇인가요?',\n",
       " '프론트엔드팀 회의록에서 다음 회의에서 발표할 구체적인 계획은 어떤 내용이 포함될 예정인가요?',\n",
       " '프론트엔드팀 회의록에서 사용자 맞춤형 추천 기능의 개발 우선순위가 높은 이유는 무엇인가요?',\n",
       " '프론트엔드팀 회의록에서 실시간 협업 기능의 개발 필요성에 대한 논의는 어떻게 이루어졌나요?',\n",
       " '프론트엔드팀 회의록에서 다국어 지원 기능의 개발 우선순위가 낮은 이유는 무엇인가요?',\n",
       " '테스트 전략 및 QA 가이드에서 단위 테스트의 목적은 무엇인가요?',\n",
       " '테스트 종류 섹션에서 통합 테스트의 검증 포인트는 어떤 것들이 있나요?',\n",
       " 'QA 프로세스의 테스트 계획 수립 단계에서 테스트 범위 정의는 어떻게 이루어지나요?',\n",
       " '기능 테스트의 도구로는 어떤 것들이 있으며, 그 목적은 무엇인가요?',\n",
       " '회귀 테스트의 검증 포인트에는 어떤 내용이 포함되나요?',\n",
       " '테스트 케이스 작성 단계에서 동료와의 리뷰는 어떤 과정을 포함하나요?',\n",
       " '테스트 실행 단계에서 발견된 버그는 어떻게 보고하고 처리하나요?',\n",
       " '테스트 결과 분석 단계에서 문제점을 도출하는 방법은 무엇인가요?',\n",
       " '지속적인 개선을 위한 피드백 공유는 QA 프로세스의 어떤 단계에서 이루어지나요?',\n",
       " '테스트 환경 설정은 QA 프로세스의 어떤 단계에서 이루어지며, 그 중요성은 무엇인가요?',\n",
       " '코드 품질 유지를 위한 테스트의 중요성은 무엇인가요?',\n",
       " '사용자 경험 향상을 위한 테스트의 목적은 무엇인가요?',\n",
       " '각 기능에 대한 테스트 케이스 작성 시 고려해야 할 사항은 무엇인가요?',\n",
       " '테스트 일정 수립 단계에서 어떤 요소를 고려해야 하나요?',\n",
       " '새로운 기능 추가 후 회귀 테스트의 필요성은 무엇인가요?',\n",
       " '테스트 도구 목록을 업데이트할 때 어떤 기준을 적용해야 하나요?',\n",
       " '피드백을 통해 소프트웨어 품질을 지속적으로 향상시키기 위한 방법은 무엇인가요?',\n",
       " '각 함수의 입력값에 대한 정확한 출력을 확인하는 것은 어떤 테스트 종류에 해당하나요?',\n",
       " 'API와의 연동 테스트는 어떤 테스트 종류에서 수행되나요?',\n",
       " '테스트 결과를 문서화하는 이유는 무엇인가요?',\n",
       " '안녕!',\n",
       " '반가워!',\n",
       " '안녕하세요!',\n",
       " '오늘 날씨가 꿀꿀하네..',\n",
       " '반가워용',\n",
       " '반갑습니다',\n",
       " '안녕',\n",
       " '반가워',\n",
       " '안녕하세요',\n",
       " '반갑습니다',\n",
       " '날씨 좋네!',\n",
       " '요즘 날씨가 정말 변덕스럽네.',\n",
       " '오늘 점심 메뉴 추천해줘.',\n",
       " '오늘 저녁 뭐 먹을까?',\n",
       " '요즘 트렌드인 패션 아이템 뭐가 있을까?',\n",
       " '사무실에서 듣기 좋은 팟캐스트 추천해 줄 수 있어?',\n",
       " '휴식 시간에 할 만한 간단한 게임 있으면 알려줘!',\n",
       " '최근에 화제가 된 뉴스는 뭐가 있을까?',\n",
       " '오늘 날씨 어때?',\n",
       " '내가 가볼 만한 여행지 추천해 줘!',\n",
       " '재밌는 책 읽고 싶은데, 추천할 만한 거 있어?',\n",
       " '요즘 인기 있는 TV 프로그램 있으면 알려줘!',\n",
       " '간단한 요리 레시피 알려줄래?',\n",
       " '주말에 놀러 갈 만한 장소 추천해 줘!',\n",
       " '요즘 핫한 카페나 맛집 정보 있으면 알려줘!',\n",
       " '건강한 스낵 아이디어가 있다면 알려줘!',\n",
       " '요즘 사람들 사이에서 인기 있는 활동이 뭐지?',\n",
       " '오늘 날씨 어때?',\n",
       " '요즘 핫한 영화 추천해줄 수 있어?',\n",
       " '좋아하는 음악 있으면 알려줘!',\n",
       " '최근에 나온 책 중에 읽어볼 만한 거 있어?',\n",
       " '오늘 기분 좋게 해줄 만한 명언 하나 알려줘!',\n",
       " '나에게 어울리는 디저트 추천해줘!',\n",
       " '주말에 할 만한 활동이 있을까?',\n",
       " '요즘 인기 있는 드라마 뭐야?',\n",
       " '나랑 잘 맞는 취미가 뭐라고 생각해?',\n",
       " '스트레스 해소하는 방법 몇 가지 알려줘!',\n",
       " '재미있는 팟캐스트 추천해줄래?',\n",
       " '다음에 가볼 만한 여행지 있으면 알려줘!',\n",
       " '내가 좋아할 만한 게임 뭐 있을까?',\n",
       " '나에게 맞는 카페 스타일은 뭐일까?',\n",
       " '요즘 트렌디한 패션 아이템 추천해줘!',\n",
       " '분위기 좋은 음악 추천해줄 수 있어?',\n",
       " '오늘 기분 좋은 음악 추천해줄 수 있어?',\n",
       " '최근에 인기 있는 영화 어떤 게 있을까?',\n",
       " '요즘 핫한 책 제목 좀 알려줘!',\n",
       " '주말에 하기 좋은 취미 활동은 뭐가 있을까?',\n",
       " '새로운 팟캐스트 추천해줄 수 있어?',\n",
       " '가볍게 읽기 좋은 웹툰 뭐가 있을까?',\n",
       " '요즘 유행하는 요리법 알고 있어?',\n",
       " '최근에 나온 게임 중에 추천할 만한 게 있을까?',\n",
       " '오늘의 날씨에 딱 맞는 음악이 있을까?',\n",
       " '스트레스 풀기 좋은 영화 한 편 추천해줘!',\n",
       " '출퇴근길에 듣기 좋은 음악 리스트 좀 만들어줄래?',\n",
       " '여름에 가기 좋은 여행지 추천해줄 수 있어?',\n",
       " '기분 전환에 좋은 활동 뭐가 있을까?',\n",
       " '맛있는 디저트 레시피 알고 있어?',\n",
       " '간단한 요리 레시피 하나 알려줘.',\n",
       " '최근에 인기 있는 앱 있으면 추천해 줘.',\n",
       " '여행지로 가기 좋은 곳이 어디일까?',\n",
       " '친구한테 선물하기 좋은 아이템 뭐가 있을까?',\n",
       " '이 계절에 가볼 만한 카페 있어?',\n",
       " '요즘 유행하는 패션 트렌드가 뭐야?',\n",
       " '마음에 드는 음악 장르 추천해줘.',\n",
       " '편안하게 쉴 수 있는 장소가 있을까?',\n",
       " '영화관에서 볼 만한 좋은 영화가 뭐야?',\n",
       " '효과적인 공부 방법 좀 알려줄 수 있어?',\n",
       " '간단하게 즐길 수 있는 게임 추천해 줘.',\n",
       " '긴장을 푸는 방법 뭐가 있을까?',\n",
       " '자기계발에 좋은 강좌 추천해 줄래?',\n",
       " '나만의 루틴 만들기에 대한 팁이 있을까?',\n",
       " '요즘 즐겨 보는 TV 프로그램은 뭐야?',\n",
       " '좋은 요리 레시피 있으면 알려줘.',\n",
       " '이런 날씨에 어울리는 음악은 뭐야?',\n",
       " '웹툰 중에서 추천할 만한 게 있어?',\n",
       " '최근에 인기 있는 게임 뭐가 있는지 알고 싶어.',\n",
       " '좋은 운동 방법이나 루틴이 있으면 알려줘.',\n",
       " '기분 전환에 좋은 활동 추천해줘.',\n",
       " '친구에게 선물할 만한 아이템 있을까?',\n",
       " '오늘 하루 마무리하는 좋은 방법이 있을까?',\n",
       " '제철 음식 중에 추천할 만한 것이 뭐야?',\n",
       " '기분이 좋을 때 듣기 좋은 음악은 뭐야?',\n",
       " '이색적인 여행지 추천해줄 수 있어?',\n",
       " '재미있는 일화나 유머가 있으면 들려줘.',\n",
       " '나만의 루틴을 만드는 데 도움이 될 만한 조언이 있을까?',\n",
       " '간단하게 할 수 있는 취미가 뭐가 있을까?',\n",
       " '여름에 어울리는 시원한 음료 추천해줘.',\n",
       " '마음이 편안해지는 방법이 있을까?',\n",
       " '오늘 날씨가 좋은데, 어떤 기분이 드는지 궁금해!',\n",
       " '요즘 가장 인기 있는 영화가 뭐인지 알고 있어?',\n",
       " '내가 한번 읽어볼 만한 좋은 책 추천해줄래?',\n",
       " '이 음악 어떤 느낌인지 한번 들어보고 싶어!',\n",
       " '여행 가기 좋은 곳이 어디인지 알려줄 수 있어?',\n",
       " '최근에 유행하는 패션 아이템이 뭐인지 궁금해!',\n",
       " '지금 듣고 있는 노래의 분위기가 어때?',\n",
       " '좋은 카페가 있으면 추천해줄 수 있어?',\n",
       " '요즘 핫한 레스토랑은 어디인지 알고 있어?',\n",
       " '요즘 인기 있는 게임 좀 알려줄래?',\n",
       " '내가 할 만한 취미 활동이 뭐가 있을까?',\n",
       " '최근에 재밌게 본 유튜브 채널이 뭐야?',\n",
       " '요즘 뜨고 있는 TV 프로그램이 있다면 뭐지?',\n",
       " '다양한 커피 종류 중 어떤 게 맛있을까?',\n",
       " '네가 추천하는 간식은 뭐야?',\n",
       " '최근에 본 전시회 중에서 추천할 만한 게 있을까?',\n",
       " '자주 가는 운동이 있으면 알려줄 수 있어?',\n",
       " '유명한 디저트 카페가 있다면 추천해줘!',\n",
       " '좋은 음악 추천해주면 듣고 싶어!',\n",
       " '주말에 할 만한 재미있는 활동이 있을까?',\n",
       " '요즘 보고 싶은 애니메이션이 있다면 뭐지?',\n",
       " '감명 깊었던 다큐멘터리 추천해줄 수 있어?',\n",
       " '혼자서 볼 수 있는 시리즈가 있다면 뭐가 좋을까?',\n",
       " '최근에 유행하는 패션 스타일이 있다면 알려줘!',\n",
       " '가볍게 할 수 있는 게임 중에서 추천할 만한 게 있을까?']"
      ]
     },
     "execution_count": 7,
     "metadata": {},
     "output_type": "execute_result"
    }
   ],
   "execution_count": 7
  },
  {
   "metadata": {},
   "cell_type": "markdown",
   "source": "### 기본 문서 검색 질문 생성 체인",
   "id": "97cc022fb3e2d248"
  },
  {
   "metadata": {},
   "cell_type": "markdown",
   "source": "",
   "id": "423d6107be6581a5"
  },
  {
   "metadata": {
    "ExecuteTime": {
     "end_time": "2025-09-18T18:57:33.593211Z",
     "start_time": "2025-09-18T18:57:33.586812Z"
    }
   },
   "cell_type": "code",
   "source": [
    "import random\n",
    "\n",
    "complex2 = [\"구체적으로(ex. '기술적 기여도 평가에서 A/B 테스트 도입이 긍정적인 결과를 가져온 사례에 대해 자세히 설명해 주실 수 있나요?', '문제 해결 능력 강화를 위한 후속 조치 제안 중 '문제 해결 세션'의 구체적인 진행 방식은 어떻게 돼?','프론트엔드팀의 추가 인력 투입이나 교육 실행 시 예상되는 효과나 리스크는 무엇이 있을까?')\", \"아주 짧고 간결하게 5~10글자 내로(ex. '프론트엔드 팀 업무 알려줘', '업무 인계 문서 찾아줘', '프론트엔드 팀 기술 스택 알려줘봐')\"]\n",
    "\n",
    "def pick_complex2() -> str:\n",
    "    return random.choices(complex2)[0]\n",
    "\n",
    "pick_complex2()"
   ],
   "id": "9b475c3117a0982d",
   "outputs": [
    {
     "data": {
      "text/plain": [
       "\"아주 짧고 간결하게 5~10글자 내로(ex. '프론트엔드 팀 업무 알려줘', '업무 인계 문서 찾아줘', '프론트엔드 팀 기술 스택 알려줘봐')\""
      ]
     },
     "execution_count": 8,
     "metadata": {},
     "output_type": "execute_result"
    }
   ],
   "execution_count": 8
  },
  {
   "metadata": {
    "ExecuteTime": {
     "end_time": "2025-09-18T18:57:36.404299Z",
     "start_time": "2025-09-18T18:57:36.399405Z"
    }
   },
   "cell_type": "code",
   "source": [
    "def question_chain_setting():\n",
    "    llm = ChatOpenAI(model=\"gpt-4.1\", temperature=0)\n",
    "\n",
    "    basic_prompt = PromptTemplate.from_template(\n",
    "        \"\"\"\n",
    "            다음 제공되는 대화 내역을 기반으로 다음에 나올 수 있는 사용자가 궁금해할 만한 후속 질문 하나를 사용자 입장에서 질문하세요.\n",
    "            이전에 나왔던 질문은 최대한 만들지 말고, 연결된 질문으로 조금이라도 다른 질문을 만들어주세요.\n",
    "            일상적인 질문이 아니라, 이전 대화 내역에 나온 문서 관련 질문과 연결점이 있는 질문이거나 프론트엔드팀 관련 문서에 대한 질문을 만드세요.\n",
    "            질문은 반드시 {complex} 만들어야 합니다.\n",
    "\n",
    "            대화 내역: {history}\n",
    "\n",
    "            절대로 AI입장에서의 질문을 만들지 마세요.\n",
    "            ex) 추가적인 질문이 있으시면 언제든지 말씀해 주시기 바랍니다.\n",
    "            ex) 추가적으로 궁금한 사항이 있으신가요?\n",
    "            ex) 데이터 접근 권한 관리 방침에 대해 더 궁금한 사항이 있으면 말씀해 주세요.\n",
    "            ex) 안녕하세요. 다른 궁금한 점이 있으신가요?\n",
    "            ex) 안녕하십니까? 도움이 필요하신 부분이 있으신가요?\n",
    "            ex) ~~ 예시는 다음과 같습니다.\n",
    "\n",
    "\n",
    "            답변형태는 다음과 같이 해주세요.\n",
    "            ex) 빌드 결과물의 확인 방법이나 배포 과정에 대해 알고 싶어.\n",
    "            ex) 문서화 시 유의사항 알려줄 수 있나요?\n",
    "            ex) 빌드/배포 가이드의 '6. 문서화' 파트에서 문서화해야 할 내용은 뭐야?\n",
    "            ex) 모델 개발 & 성능 보고서에서 사용된 프로그래밍 언어가 뭐야?\n",
    "        \"\"\"\n",
    "    )\n",
    "\n",
    "    question_chain = basic_prompt | llm | StrOutputParser()\n",
    "\n",
    "    return question_chain"
   ],
   "id": "77c1eaac6b197340",
   "outputs": [],
   "execution_count": 9
  },
  {
   "metadata": {},
   "cell_type": "markdown",
   "source": "",
   "id": "f0415e761e012f6b"
  },
  {
   "metadata": {},
   "cell_type": "markdown",
   "source": "## 일상 질문 의도 다양화 로직",
   "id": "e76f9819a142545b"
  },
  {
   "metadata": {
    "ExecuteTime": {
     "end_time": "2025-09-18T18:57:48.153790Z",
     "start_time": "2025-09-18T18:57:48.147703Z"
    }
   },
   "cell_type": "code",
   "source": [
    "import random\n",
    "\n",
    "INTENTS = [\n",
    "    \"인사/감상\", \"영상/음악\", \"운동/스트레칭\", \"생산성/타이머\",\n",
    "    \"생활 팁/정리\", \"UX(배경/위젯)\", \"퀴즈/잡학\", \"날씨/우산 판단\",\n",
    "    \"음식\"  # <-- 과다 시 일단 제거하거나 가중치↓\n",
    "]\n",
    "\n",
    "def pick_intent() -> str:\n",
    "    # 최근 과다 의도에 역가중치 (음식이 많다면 자동으로 다른 의도 선택)\n",
    "    return random.choices(INTENTS)[0]\n",
    "\n",
    "pick_intent()"
   ],
   "id": "b6225ebaa1814db3",
   "outputs": [
    {
     "data": {
      "text/plain": [
       "'생활 팁/정리'"
      ]
     },
     "execution_count": 10,
     "metadata": {},
     "output_type": "execute_result"
    }
   ],
   "execution_count": 10
  },
  {
   "metadata": {},
   "cell_type": "markdown",
   "source": "### 일상 질문 복잡성 다양화 로직",
   "id": "4695f6b104dfb1a"
  },
  {
   "metadata": {
    "ExecuteTime": {
     "end_time": "2025-09-18T18:57:49.689636Z",
     "start_time": "2025-09-18T18:57:49.683616Z"
    }
   },
   "cell_type": "code",
   "source": [
    "complex = [\"구체적으로(ex. '오늘 간단하게 할 수 있는 취미가 뭐가 있을까?', '여름에 어울리는 시원한 음료 추천해줘.','마음이 편안해지는 방법')\", \"아주 짧고 간결하게 5~10글자 내로(ex. '안녕', '오늘 뭐하지', '오늘 운동 추천좀')\"]\n",
    "\n",
    "def pick_complex() -> str:\n",
    "    return random.choices(complex)[0]\n",
    "\n",
    "pick_complex()"
   ],
   "id": "4b181fecc0629e6a",
   "outputs": [
    {
     "data": {
      "text/plain": [
       "\"아주 짧고 간결하게 5~10글자 내로(ex. '안녕', '오늘 뭐하지', '오늘 운동 추천좀')\""
      ]
     },
     "execution_count": 11,
     "metadata": {},
     "output_type": "execute_result"
    }
   ],
   "execution_count": 11
  },
  {
   "metadata": {},
   "cell_type": "markdown",
   "source": "### 일상 질문 생성 체인",
   "id": "506890eacfe3d978"
  },
  {
   "metadata": {
    "ExecuteTime": {
     "end_time": "2025-09-18T18:57:50.703718Z",
     "start_time": "2025-09-18T18:57:50.698241Z"
    }
   },
   "cell_type": "code",
   "source": [
    "def simple_chain_setting():\n",
    "    # 표준 말투 유지 + 중복 표현 회피 보조\n",
    "    llm = ChatOpenAI(\n",
    "        model=\"gpt-4o-mini\",\n",
    "        temperature=0.3,\n",
    "        presence_penalty=0.6,   # 이미 썼던 표현 회피 유도\n",
    "        frequency_penalty=0.3,  # 반복 억제\n",
    "    )\n",
    "\n",
    "    basic_prompt = PromptTemplate.from_template(\n",
    "        \"\"\"\n",
    "다음은 '사내 직원이 챗봇(무생물)에게' 던질 **캐주얼 인사/잡담/가벼운 추천형** 1문장을 생성하는 작업입니다.\n",
    "\n",
    "[최우선 지시(원래 규칙 포함·강화)]\n",
    "- 문서/보고서/회사자료/회사정보/설정/보안/권한/기능 설명/도움말/사용법 관련 질문·요청 금지\n",
    "- 문서에 대해 물어보는 문장 절대 금지 (예: \"문서 보여줘\", \"보고서 찾아줘\", \"사내 자료 요약해줘\" 등)\n",
    "- 사람(동료/개인)에게 묻는 질문 금지\n",
    "  - 개인 경험/감정/계획 확인: \"주말에 뭐 할 계획이신가요?\", \"오늘 뭐했어?\", \"기분 어때?\", \"어제 어땠어?\"\n",
    "  - 2인칭 친소/경어형 질문: \"~했어?\", \"~하셨나요?\", \"~계신가요?\"\n",
    "  - 상호작용 요구(사람 기준): \"같이 ~할래요?\", \"우리 ~할까요?\"\n",
    "- 의도는 반드시 다음에 맞추세요: {intent}\n",
    "- 질문은 {complex} 만들어야 합니다.\n",
    "\n",
    "[허용 의도: 컴퓨터에게 할 법한 표현만]\n",
    "- 인사·가벼운 감상: \"안녕!\", \"오늘 날씨가 꿀꿀하네..\", \"날씨 좋네!\"\n",
    "- 가벼운 추천/요청: \"오늘 저녁 뭐 먹을까?\", \"퇴근 후 뭐 할까?\", \"주말에 뭐 하면 좋을까?\"\n",
    "\n",
    "[중복/유사도 회피]\n",
    "- 아래 {history}에 포함된 과거 문장/질문과 **동일하거나 매우 유사한 의미/어휘/어순**을 피하세요.\n",
    "- 특히 다음을 지키세요:\n",
    "  1) 과거 문장과 5-그램 연속 일치가 2회 이상 발생하지 않도록 표현을 바꾸세요.\n",
    "  2) 핵심 어휘의 최소 40% 이상을 **동의어/대체 표현**으로 교체하세요.\n",
    "  3) 문장 종결(어미)와 지시 동사를 바꿔 **표현 다양성**을 확보하세요. (예: \"~추천해줘\" 반복 금지)\n",
    "\n",
    "[출력 형식]\n",
    "- 한국어, **오직 1문장**만 출력 (설명/따옴표/불릿/접두어 금지)\n",
    "- 사람 대상 과도한 공손말 금지(\"~계신가요?\" 등)\n",
    "- 가능하면 컴퓨터 지시형 동사 사용: \"~알려줘\", \"~정해줘\", \"~골라줘\", \"~하나 뽑아줘\", \"~판단해줘\", \"~틀어줘\", \"~켜줘\" 등\n",
    "- **예시 문장들의 어휘/어순을 그대로 복사하지 마세요.**\n",
    "\n",
    "[대화내용(중복 회피 기준)]\n",
    "{history}\n",
    "\n",
    "[참고 예시(그대로 쓰지 말 것)]\n",
    "- 오늘 점심 뭐 먹을지 하나만 추천해줘.\n",
    "- 주말에 가볍게 할 만한 취미 하나 알려줘.\n",
    "- 오늘은 좀 피곤하네, 기분 전환용 음악 장르 하나 골라줘.\n",
    "- 퇴근 후 간단히 볼만한 영화 한 편만 추천해줘.\n",
    "- 요즘 날씨 오락가락하네, 우산 챙길지 판단 좀 도와줘.\n",
    "\n",
    "[원치 않는 출력(절대 금지)]\n",
    "- 요즘 날씨가 정말 좋네요, 주말에 뭘 할 계획이신가요?\n",
    "- 오늘 뭐했어?\n",
    "- 어제는 어디 다녀오셨어요?\n",
    "- 주말에 같이 등산 갈래요?\n",
    "\n",
    "위 모든 규칙을 지켜 **1문장만** 출력하세요.\n",
    "        \"\"\"\n",
    "    )\n",
    "\n",
    "    simple_chain = basic_prompt | llm | StrOutputParser()\n",
    "    return simple_chain\n"
   ],
   "id": "9830923d4bce8e67",
   "outputs": [],
   "execution_count": 12
  },
  {
   "metadata": {},
   "cell_type": "markdown",
   "source": "### 검색 쿼리 정제 체인",
   "id": "6a169bbd47a5cb4b"
  },
  {
   "metadata": {
    "ExecuteTime": {
     "end_time": "2025-09-18T18:57:54.062547Z",
     "start_time": "2025-09-18T18:57:54.057469Z"
    }
   },
   "cell_type": "code",
   "source": [
    "def query_setting_for_internal_documents():\n",
    "    llm = ChatOpenAI(\n",
    "        model=\"gpt-4o-mini\",\n",
    "        temperature=0,\n",
    "        model_kwargs={\"response_format\": {\"type\": \"json_object\"}},\n",
    "    )\n",
    "\n",
    "    query_prompt = PromptTemplate.from_template(\n",
    "        \"\"\"\n",
    "       유저의 채팅 히스토리가 주어집니다.\n",
    "\n",
    "       **중요**: 이전 대화 맥락을 반드시 고려해서, 사내 문서 검색에 적합한 쿼리를 생성하세요.\n",
    "       - 현재 대화가 이전 대화와 연관되어 있다면, 이전 맥락을 반영하여 문서 검색을 위한 구체적인 쿼리를 만들어주세요.\n",
    "\n",
    "       **복잡한 질문을 어떻게 정제하고 분리할지에 대한 예시**:\n",
    "       1. 사용자가 \"API 서버의 설정과 관련된 문서와, 데이터베이스 연결 방법에 대해 알고 싶어.\"라고 물었을 경우:\n",
    "          - **정제된 쿼리**: \"API 서버 설정 방법\"과 \"데이터베이스 연결 방법\"\n",
    "          - 이처럼 복잡한 질문을 각각 분리하여 **개별적인 검색 쿼리**를 생성해야 합니다.\n",
    "\n",
    "       2. 사용자가 \"사내 보상 정책과 휴가 정책을 한 번에 찾아볼 수 있을까?\"라고 물었을 경우:\n",
    "          - **정제된 쿼리**: \"사내 보상 정책\"과 \"사내 휴가 정책\"\n",
    "          - 질문이 하나지만 여러 부분으로 나눠서 **별개의 쿼리**를 생성합니다.\n",
    "\n",
    "       3. 사용자가 \"다음 프로젝트의 개발 환경과 관련된 문서, 그리고 테스팅 방법에 대해 알려줘.\"라고 물었을 경우:\n",
    "          - **정제된 쿼리**: \"다음 프로젝트의 개발 환경\"과 \"테스팅 방법\"\n",
    "          - 복잡한 주제일 경우, 각 주제별로 **검색 쿼리**를 명확하게 분리합니다.\n",
    "\n",
    "        4. 사용자가 이전 대화에서 \"사내 휴가 정책이 어떻게 돼?\"라고 물어보고 나서 답변을 받고 나서, \"좀 더 자세히 알려줘. 그리고 인사 정책도 알려줘.\"라고 물었을 경우:\n",
    "          - **정제된 쿼리**: \"사내 휴가 정책에 대한 자세한 내용\"과 \"사내 인사 정책\"\n",
    "          - 이전 대화 내역과 이번 질문의 맥락을 고려하여 **검색 쿼리**를 생성합니다.\n",
    "\n",
    "       **주의사항**:\n",
    "       - 이전 대화에서 이미 답변이 나온 질문에 대해서는 다시 질문을 만들지 마세요.\n",
    "       - 쿼리는 1개 또는 여러 개일 수 있습니다.\n",
    "\n",
    "       대화 히스토리: {history}\n",
    "\n",
    "       JSON 반환 형태:\n",
    "       {{\"queries\": [\"사내 문서 검색 쿼리 1\", \"사내 문서 검색 쿼리 2\", ...]}}\n",
    "       \"\"\"\n",
    "    )\n",
    "\n",
    "    # 이후 이 부분에 실제로 대화 히스토리를 기반으로 쿼리들을 생성하는 로직이 들어갈 것입니다.\n",
    "    query_chain = query_prompt | llm | StrOutputParser()\n",
    "\n",
    "    return query_chain"
   ],
   "id": "2828d656992e30a9",
   "outputs": [],
   "execution_count": 13
  },
  {
   "metadata": {
    "ExecuteTime": {
     "end_time": "2025-09-18T18:57:54.758971Z",
     "start_time": "2025-09-18T18:57:54.540058Z"
    }
   },
   "cell_type": "code",
   "source": [
    "question_chain = question_chain_setting()\n",
    "query_chain = query_setting_for_internal_documents()\n",
    "simple_chain = simple_chain_setting()"
   ],
   "id": "5f2884b84dece916",
   "outputs": [],
   "execution_count": 14
  },
  {
   "metadata": {},
   "cell_type": "markdown",
   "source": "### 기존 학습 데이터에 있는 초기 일상 질문 리스트",
   "id": "821d9da6733f6c10"
  },
  {
   "metadata": {
    "ExecuteTime": {
     "end_time": "2025-09-18T18:57:55.863517Z",
     "start_time": "2025-09-18T18:57:55.848967Z"
    }
   },
   "cell_type": "code",
   "source": [
    "hello_list = ['안녕!', '반가워!', '안녕하세요!', '오늘 날씨가 꿀꿀하네..', '반가워용', '반갑습니다',\n",
    " '안녕', '반가워', '안녕하세요', '반갑습니다', '날씨 좋네!', '요즘 날씨가 정말 변덕스럽네.',\n",
    " '오늘 점심 메뉴 추천해줘.', '오늘 저녁 뭐 먹을까?', '오늘 퇴근 후 뭐 할까?', '주말에 뭐 할지 고민 중이야.',\n",
    " '오늘은 좀 피곤하네.', '이번 주 주말에 뭐 할까?', '오늘 뭐 할지 모르겠어.', '요즘 뭐 재미있는 거 있어?',\n",
    " '주말에 영화 볼까?', '오늘 기분이 좀 이상해.', '이따가 뭐 먹을까?']\n",
    "\n",
    "hello_list2 = ['오늘 기분이 어떤지 궁금해!',\n",
    " '요즘 인기 있는 음악 추천해 줄래?',\n",
    " '좋은 영화 있으면 알려줘!',\n",
    " '요즘 트렌드인 패션 아이템 뭐가 있을까?',\n",
    " '사무실에서 듣기 좋은 팟캐스트 추천해 줄 수 있어',\n",
    " '휴식 시간에 할 만한 간단한 게임 있으면 알려줘!',\n",
    " '최근에 화제가 된 뉴스는 뭐가 있을까?',\n",
    " '오늘 날씨 어때?',\n",
    " '내가 가볼 만한 여행지 추천해 줘!',\n",
    " '재밌는 책 읽고 싶은데, 추천할 만한 거 있어?',\n",
    " '요즘 인기 있는 TV 프로그램 있으면 알려줘!',\n",
    " '간단한 요리 레시피 알려줄래?',\n",
    " '주말에 놀러 갈 만한 장소 추천해 줘!',\n",
    " '요즘 핫한 카페나 맛집 정보 있으면 알려줘!',\n",
    " '기분 전환할 만한 좋은 방법이 있을까?',\n",
    " '새로운 취미를 시작해 보고 싶은데 뭐가 좋을까?',\n",
    " '사무실에 어울리는 음악 플레이리스트 추천해 줘!',\n",
    " '감동적인 영화 있으면 한 편 추천해 줘!',\n",
    " '인기 있는 앱이나 웹사이트 알려줄래?',\n",
    " '오늘의 긍정적인 메시지 하나 던져 줄래?',\n",
    " '가벼운 스트레칭 방법 추천해 줘!',\n",
    " '재밌는 유튜브 채널 알려줄 수 있어?',\n",
    " '감상할 만한 미술 전시회 있으면 추천해 줘!',\n",
    " '건강한 스낵 아이디어가 있다면 알려줘!',\n",
    " '요즘 사람들 사이에서 인기 있는 활동이 뭐지?',\n",
    " '오늘 날씨 어때?',\n",
    " '요즘 핫한 영화 추천해줄 수 있어?',\n",
    " '좋아하는 음악 있으면 알려줘!',\n",
    " '최근에 나온 책 중에 읽어볼 만한 거 있어?',\n",
    " '어떤 유튜브 채널 재미있어?',\n",
    " '오늘 기분 좋게 해줄 만한 명언 하나 알려줘!',\n",
    " '나에게 어울리는 디저트 추천해줘!',\n",
    " '주말에 할 만한 활동이 있을까?',\n",
    " '요즘 인기 있는 드라마 뭐야?',\n",
    " '나랑 잘 맞는 취미가 뭐라고 생각해?',\n",
    " '스트레스 해소하는 방법 몇 가지 알려줘!',\n",
    " '재미있는 팟캐스트 추천해줄래?',\n",
    " '다음에 가볼 만한 여행지 있으면 알려줘!',\n",
    " '내가 좋아할 만한 게임 뭐 있을까?',\n",
    " '나에게 맞는 카페 스타일은 뭐일까?',\n",
    " '요즘 트렌디한 패션 아이템 추천해줘!',\n",
    " '분위기 좋은 음악 추천해줄 수 있어?',\n",
    " '나한테 어울리는 색상은 뭐라고 생각해?',\n",
    " '새로운 레시피 하나 추천해줘!',\n",
    " '가끔 찾고 싶은 동기부여 영상 있어?',\n",
    " '앞으로 주목할 만한 기술 트렌드 뭐가 있을까?',\n",
    " '요즘 유행하는 운동 방법 알려줘!',\n",
    " '내가 좋아할 만한 SNS 계정 있으면 추천해줘!',\n",
    " '나에게 어울릴 것 같은 차 한 잔 추천해줘!',\n",
    " '여름에 듣기 좋은 음악 리스트 만들어줄래?',\n",
    " '오늘 기분 좋은 음악 추천해줄 수 있어?',\n",
    " '최근에 인기 있는 영화 어떤 게 있을까?',\n",
    " '요즘 핫한 책 제목 좀 알려줘!',\n",
    " '주말에 하기 좋은 취미 활동은 뭐가 있을까?',\n",
    " '새로운 팟캐스트 추천해줄 수 있어?',\n",
    " '가볍게 읽기 좋은 웹툰 뭐가 있을까?',\n",
    " '요즘 유행하는 요리법 알고 있어?',\n",
    " '최근에 나온 게임 중에 추천할 만한 게 있을까?',\n",
    " '오늘의 날씨에 딱 맞는 음악이 있을까?',\n",
    " '스트레스 풀기 좋은 영화 한 편 추천해줘!',\n",
    " '출퇴근길에 듣기 좋은 음악 리스트 좀 만들어줄래?',\n",
    " '여름에 가기 좋은 여행지 추천해줄 수 있어?  ',\n",
    " '기분 전환에 좋은 활동 뭐가 있을까?  ',\n",
    " '맛있는 디저트 레시피 알고 있어?  ',\n",
    " '친구한테 선물하기 좋은 아이템 추천해줘!  ',\n",
    " '요즘 사람들이 많이 하는 운동 뭐가 있을까?  ',\n",
    " '겨울에 추천하는 따뜻한 음료는 뭐가 있을까?  ',\n",
    " '새로운 앱 중에 유용한 거 있어?  ',\n",
    " '주말에 볼 만한 드라마 추천해줄 수 있어?  ',\n",
    " '간단하게 만들 수 있는 스낵 레시피 알고 있어?  ',\n",
    " '특별한 날에 어울리는 배경 음악 추천해줘!  ',\n",
    " '근사한 카페 정보 좀 알려줄 수 있어?  ',\n",
    " '요즘 인싸템으로 뭐가 유행하고 있어?  ',\n",
    " '간단한 자기계발 팁 알려줄 수 있어?  ',\n",
    " '혼자 여행하기 좋은 장소 추천해줘!',\n",
    " '오늘 기분이 어떤지 알려줄 수 있어?  ',\n",
    " '요즘 인기 있는 영화 추천해 줄래?  ',\n",
    " '좋은 책이 있으면 소개해 줘.  ',\n",
    " '최신 음악 트렌드 좀 알려줄래?  ',\n",
    " '요즘 날씨가 어떤지 궁금해.  ',\n",
    " '가벼운 운동 추천해 줄 수 있어?  ',\n",
    " '주말에 할 만한 액티비티가 뭐가 있을까?  ',\n",
    " '스트레스 푸는 방법 좀 알려줘.  ',\n",
    " '취미로 하기 좋은 것 추천해 줄 수 있어?  ',\n",
    " '간단한 요리 레시피 하나 알려줘.  ',\n",
    " '최근에 인기 있는 앱 있으면 추천해 줘.  ',\n",
    " '여행지로 가기 좋은 곳이 어디일까?  ',\n",
    " '친구한테 선물하기 좋은 아이템 뭐가 있을까?  ',\n",
    " '이 계절에 가볼 만한 카페 있어?  ',\n",
    " '요즘 유행하는 패션 트렌드가 뭐야?  ',\n",
    " '마음에 드는 음악 장르 추천해줘.  ',\n",
    " '편안하게 쉴 수 있는 장소가 있을까?  ',\n",
    " '영화관에서 볼 만한 좋은 영화가 뭐야?  ',\n",
    " '효과적인 공부 방법 좀 알려줄 수 있어?  ',\n",
    " '최근에 본 뉴스 중 재미있는 거 있어?  ',\n",
    " '간단하게 즐길 수 있는 게임 추천해 줘.  ',\n",
    " '긴장을 푸는 방법 뭐가 있을까?  ',\n",
    " '자기계발에 좋은 강좌 추천해 줄래?  ',\n",
    " '나만의 루틴 만들기에 대한 팁이 있을까?  ',\n",
    " '일상에서 행복을 느끼게 해주는 작은 것들이 뭐가 있을까?',\n",
    " '오늘 날씨 어때?  ',\n",
    " '요즘 인기 있는 영화 추천해줘.  ',\n",
    " '좋은 음악 플레이리스트 있으면 공유해줘.  ',\n",
    " '최근 트렌드 중에서 뭐가 제일 흥미로워 보여?  ',\n",
    " '주말에 가볼 만한 장소 추천해줄래?  ',\n",
    " '재미있는 팟캐스트 있으면 알려줘.  ',\n",
    " '요즘 읽기 좋은 책 있으면 추천해줘.  ',\n",
    " '차 한 잔 할 만한 카페 추천해줘.  ',\n",
    " '요즘 즐겨 보는 TV 프로그램은 뭐야?  ',\n",
    " '좋은 요리 레시피 있으면 알려줘.  ',\n",
    " '이런 날씨에 어울리는 음악은 뭐야?  ',\n",
    " '웹툰 중에서 추천할 만한 게 있어?  ',\n",
    " '최근에 인기 있는 게임 뭐가 있는지 알고 싶어.  ',\n",
    " '좋은 운동 방법이나 루틴이 있으면 알려줘.  ',\n",
    " '기분 전환에 좋은 활동 추천해줘.  ',\n",
    " '친구에게 선물할 만한 아이템 있을까?  ',\n",
    " '오늘 하루 마무리하는 좋은 방법이 있을까?  ',\n",
    " '제철 음식 중에 추천할 만한 것이 뭐야?  ',\n",
    " '기분이 좋을 때 듣기 좋은 음악은 뭐야?  ',\n",
    " '이색적인 여행지 추천해줄 수 있어?  ',\n",
    " '재미있는 일화나 유머가 있으면 들려줘.  ',\n",
    " '나만의 루틴을 만드는 데 도움이 될 만한 조언이 있을까?  ',\n",
    " '간단하게 할 수 있는 취미가 뭐가 있을까?  ',\n",
    " '여름에 어울리는 시원한 음료 추천해줘.  ',\n",
    " '마음이 편안해지는 방법이 있을까?',\n",
    " '오늘 날씨가 좋은데, 어떤 기분이 드는지 궁금해!  ',\n",
    " '요즘 가장 인기 있는 영화가 뭐인지 알고 있어?  ',\n",
    " '내가 한번 읽어볼 만한 좋은 책 추천해줄래?  ',\n",
    " '이 음악 어떤 느낌인지 한번 들어보고 싶어!  ',\n",
    " '여행 가기 좋은 곳이 어디인지 알려줄 수 있어?  ',\n",
    " '최근에 유행하는 패션 아이템이 뭐인지 궁금해!  ',\n",
    " '지금 듣고 있는 노래의 분위기가 어때?  ',\n",
    " '좋은 카페가 있으면 추천해줄 수 있어?  ',\n",
    " '요즘 핫한 레스토랑은 어디인지 알고 있어?  ',\n",
    " '요즘 인기 있는 게임 좀 알려줄래?  ',\n",
    " '내가 할 만한 취미 활동이 뭐가 있을까?  ',\n",
    " '최근에 재밌게 본 유튜브 채널이 뭐야?  ',\n",
    " '요즘 뜨고 있는 TV 프로그램이 있다면 뭐지?  ',\n",
    " '다양한 커피 종류 중 어떤 게 맛있을까?  ',\n",
    " '네가 추천하는 간식은 뭐야?  ',\n",
    " '최근에 본 전시회 중에서 추천할 만한 게 있을까?  ',\n",
    " '자주 가는 운동이 있으면 알려줄 수 있어?  ',\n",
    " '유명한 디저트 카페가 있다면 추천해줘!  ',\n",
    " '좋은 음악 추천해주면 듣고 싶어!  ',\n",
    " '주말에 할 만한 재미있는 활동이 있을까?  ',\n",
    " '요즘 보고 싶은 애니메이션이 있다면 뭐지?  ',\n",
    " '감명 깊었던 다큐멘터리 추천해줄 수 있어?  ',\n",
    " '혼자서 볼 수 있는 시리즈가 있다면 뭐가 좋을까?  ',\n",
    " '최근에 유행하는 패션 스타일이 있다면 알려줘!  ',\n",
    " '가볍게 할 수 있는 게임 중에서 추천할 만한 게 있을까?']\n",
    "\n",
    "hello_list3 = []\n",
    "\n",
    "for hello in hello_list2:\n",
    "    hello = hello.strip()\n",
    "    hello_list3.append(hello)\n",
    "\n",
    "\n",
    "hello_list = hello_list3 + hello_list\n",
    "hello_list\n"
   ],
   "id": "a6333f8ff575f555",
   "outputs": [
    {
     "data": {
      "text/plain": [
       "['오늘 기분이 어떤지 궁금해!',\n",
       " '요즘 인기 있는 음악 추천해 줄래?',\n",
       " '좋은 영화 있으면 알려줘!',\n",
       " '요즘 트렌드인 패션 아이템 뭐가 있을까?',\n",
       " '사무실에서 듣기 좋은 팟캐스트 추천해 줄 수 있어',\n",
       " '휴식 시간에 할 만한 간단한 게임 있으면 알려줘!',\n",
       " '최근에 화제가 된 뉴스는 뭐가 있을까?',\n",
       " '오늘 날씨 어때?',\n",
       " '내가 가볼 만한 여행지 추천해 줘!',\n",
       " '재밌는 책 읽고 싶은데, 추천할 만한 거 있어?',\n",
       " '요즘 인기 있는 TV 프로그램 있으면 알려줘!',\n",
       " '간단한 요리 레시피 알려줄래?',\n",
       " '주말에 놀러 갈 만한 장소 추천해 줘!',\n",
       " '요즘 핫한 카페나 맛집 정보 있으면 알려줘!',\n",
       " '기분 전환할 만한 좋은 방법이 있을까?',\n",
       " '새로운 취미를 시작해 보고 싶은데 뭐가 좋을까?',\n",
       " '사무실에 어울리는 음악 플레이리스트 추천해 줘!',\n",
       " '감동적인 영화 있으면 한 편 추천해 줘!',\n",
       " '인기 있는 앱이나 웹사이트 알려줄래?',\n",
       " '오늘의 긍정적인 메시지 하나 던져 줄래?',\n",
       " '가벼운 스트레칭 방법 추천해 줘!',\n",
       " '재밌는 유튜브 채널 알려줄 수 있어?',\n",
       " '감상할 만한 미술 전시회 있으면 추천해 줘!',\n",
       " '건강한 스낵 아이디어가 있다면 알려줘!',\n",
       " '요즘 사람들 사이에서 인기 있는 활동이 뭐지?',\n",
       " '오늘 날씨 어때?',\n",
       " '요즘 핫한 영화 추천해줄 수 있어?',\n",
       " '좋아하는 음악 있으면 알려줘!',\n",
       " '최근에 나온 책 중에 읽어볼 만한 거 있어?',\n",
       " '어떤 유튜브 채널 재미있어?',\n",
       " '오늘 기분 좋게 해줄 만한 명언 하나 알려줘!',\n",
       " '나에게 어울리는 디저트 추천해줘!',\n",
       " '주말에 할 만한 활동이 있을까?',\n",
       " '요즘 인기 있는 드라마 뭐야?',\n",
       " '나랑 잘 맞는 취미가 뭐라고 생각해?',\n",
       " '스트레스 해소하는 방법 몇 가지 알려줘!',\n",
       " '재미있는 팟캐스트 추천해줄래?',\n",
       " '다음에 가볼 만한 여행지 있으면 알려줘!',\n",
       " '내가 좋아할 만한 게임 뭐 있을까?',\n",
       " '나에게 맞는 카페 스타일은 뭐일까?',\n",
       " '요즘 트렌디한 패션 아이템 추천해줘!',\n",
       " '분위기 좋은 음악 추천해줄 수 있어?',\n",
       " '나한테 어울리는 색상은 뭐라고 생각해?',\n",
       " '새로운 레시피 하나 추천해줘!',\n",
       " '가끔 찾고 싶은 동기부여 영상 있어?',\n",
       " '앞으로 주목할 만한 기술 트렌드 뭐가 있을까?',\n",
       " '요즘 유행하는 운동 방법 알려줘!',\n",
       " '내가 좋아할 만한 SNS 계정 있으면 추천해줘!',\n",
       " '나에게 어울릴 것 같은 차 한 잔 추천해줘!',\n",
       " '여름에 듣기 좋은 음악 리스트 만들어줄래?',\n",
       " '오늘 기분 좋은 음악 추천해줄 수 있어?',\n",
       " '최근에 인기 있는 영화 어떤 게 있을까?',\n",
       " '요즘 핫한 책 제목 좀 알려줘!',\n",
       " '주말에 하기 좋은 취미 활동은 뭐가 있을까?',\n",
       " '새로운 팟캐스트 추천해줄 수 있어?',\n",
       " '가볍게 읽기 좋은 웹툰 뭐가 있을까?',\n",
       " '요즘 유행하는 요리법 알고 있어?',\n",
       " '최근에 나온 게임 중에 추천할 만한 게 있을까?',\n",
       " '오늘의 날씨에 딱 맞는 음악이 있을까?',\n",
       " '스트레스 풀기 좋은 영화 한 편 추천해줘!',\n",
       " '출퇴근길에 듣기 좋은 음악 리스트 좀 만들어줄래?',\n",
       " '여름에 가기 좋은 여행지 추천해줄 수 있어?',\n",
       " '기분 전환에 좋은 활동 뭐가 있을까?',\n",
       " '맛있는 디저트 레시피 알고 있어?',\n",
       " '친구한테 선물하기 좋은 아이템 추천해줘!',\n",
       " '요즘 사람들이 많이 하는 운동 뭐가 있을까?',\n",
       " '겨울에 추천하는 따뜻한 음료는 뭐가 있을까?',\n",
       " '새로운 앱 중에 유용한 거 있어?',\n",
       " '주말에 볼 만한 드라마 추천해줄 수 있어?',\n",
       " '간단하게 만들 수 있는 스낵 레시피 알고 있어?',\n",
       " '특별한 날에 어울리는 배경 음악 추천해줘!',\n",
       " '근사한 카페 정보 좀 알려줄 수 있어?',\n",
       " '요즘 인싸템으로 뭐가 유행하고 있어?',\n",
       " '간단한 자기계발 팁 알려줄 수 있어?',\n",
       " '혼자 여행하기 좋은 장소 추천해줘!',\n",
       " '오늘 기분이 어떤지 알려줄 수 있어?',\n",
       " '요즘 인기 있는 영화 추천해 줄래?',\n",
       " '좋은 책이 있으면 소개해 줘.',\n",
       " '최신 음악 트렌드 좀 알려줄래?',\n",
       " '요즘 날씨가 어떤지 궁금해.',\n",
       " '가벼운 운동 추천해 줄 수 있어?',\n",
       " '주말에 할 만한 액티비티가 뭐가 있을까?',\n",
       " '스트레스 푸는 방법 좀 알려줘.',\n",
       " '취미로 하기 좋은 것 추천해 줄 수 있어?',\n",
       " '간단한 요리 레시피 하나 알려줘.',\n",
       " '최근에 인기 있는 앱 있으면 추천해 줘.',\n",
       " '여행지로 가기 좋은 곳이 어디일까?',\n",
       " '친구한테 선물하기 좋은 아이템 뭐가 있을까?',\n",
       " '이 계절에 가볼 만한 카페 있어?',\n",
       " '요즘 유행하는 패션 트렌드가 뭐야?',\n",
       " '마음에 드는 음악 장르 추천해줘.',\n",
       " '편안하게 쉴 수 있는 장소가 있을까?',\n",
       " '영화관에서 볼 만한 좋은 영화가 뭐야?',\n",
       " '효과적인 공부 방법 좀 알려줄 수 있어?',\n",
       " '최근에 본 뉴스 중 재미있는 거 있어?',\n",
       " '간단하게 즐길 수 있는 게임 추천해 줘.',\n",
       " '긴장을 푸는 방법 뭐가 있을까?',\n",
       " '자기계발에 좋은 강좌 추천해 줄래?',\n",
       " '나만의 루틴 만들기에 대한 팁이 있을까?',\n",
       " '일상에서 행복을 느끼게 해주는 작은 것들이 뭐가 있을까?',\n",
       " '오늘 날씨 어때?',\n",
       " '요즘 인기 있는 영화 추천해줘.',\n",
       " '좋은 음악 플레이리스트 있으면 공유해줘.',\n",
       " '최근 트렌드 중에서 뭐가 제일 흥미로워 보여?',\n",
       " '주말에 가볼 만한 장소 추천해줄래?',\n",
       " '재미있는 팟캐스트 있으면 알려줘.',\n",
       " '요즘 읽기 좋은 책 있으면 추천해줘.',\n",
       " '차 한 잔 할 만한 카페 추천해줘.',\n",
       " '요즘 즐겨 보는 TV 프로그램은 뭐야?',\n",
       " '좋은 요리 레시피 있으면 알려줘.',\n",
       " '이런 날씨에 어울리는 음악은 뭐야?',\n",
       " '웹툰 중에서 추천할 만한 게 있어?',\n",
       " '최근에 인기 있는 게임 뭐가 있는지 알고 싶어.',\n",
       " '좋은 운동 방법이나 루틴이 있으면 알려줘.',\n",
       " '기분 전환에 좋은 활동 추천해줘.',\n",
       " '친구에게 선물할 만한 아이템 있을까?',\n",
       " '오늘 하루 마무리하는 좋은 방법이 있을까?',\n",
       " '제철 음식 중에 추천할 만한 것이 뭐야?',\n",
       " '기분이 좋을 때 듣기 좋은 음악은 뭐야?',\n",
       " '이색적인 여행지 추천해줄 수 있어?',\n",
       " '재미있는 일화나 유머가 있으면 들려줘.',\n",
       " '나만의 루틴을 만드는 데 도움이 될 만한 조언이 있을까?',\n",
       " '간단하게 할 수 있는 취미가 뭐가 있을까?',\n",
       " '여름에 어울리는 시원한 음료 추천해줘.',\n",
       " '마음이 편안해지는 방법이 있을까?',\n",
       " '오늘 날씨가 좋은데, 어떤 기분이 드는지 궁금해!',\n",
       " '요즘 가장 인기 있는 영화가 뭐인지 알고 있어?',\n",
       " '내가 한번 읽어볼 만한 좋은 책 추천해줄래?',\n",
       " '이 음악 어떤 느낌인지 한번 들어보고 싶어!',\n",
       " '여행 가기 좋은 곳이 어디인지 알려줄 수 있어?',\n",
       " '최근에 유행하는 패션 아이템이 뭐인지 궁금해!',\n",
       " '지금 듣고 있는 노래의 분위기가 어때?',\n",
       " '좋은 카페가 있으면 추천해줄 수 있어?',\n",
       " '요즘 핫한 레스토랑은 어디인지 알고 있어?',\n",
       " '요즘 인기 있는 게임 좀 알려줄래?',\n",
       " '내가 할 만한 취미 활동이 뭐가 있을까?',\n",
       " '최근에 재밌게 본 유튜브 채널이 뭐야?',\n",
       " '요즘 뜨고 있는 TV 프로그램이 있다면 뭐지?',\n",
       " '다양한 커피 종류 중 어떤 게 맛있을까?',\n",
       " '네가 추천하는 간식은 뭐야?',\n",
       " '최근에 본 전시회 중에서 추천할 만한 게 있을까?',\n",
       " '자주 가는 운동이 있으면 알려줄 수 있어?',\n",
       " '유명한 디저트 카페가 있다면 추천해줘!',\n",
       " '좋은 음악 추천해주면 듣고 싶어!',\n",
       " '주말에 할 만한 재미있는 활동이 있을까?',\n",
       " '요즘 보고 싶은 애니메이션이 있다면 뭐지?',\n",
       " '감명 깊었던 다큐멘터리 추천해줄 수 있어?',\n",
       " '혼자서 볼 수 있는 시리즈가 있다면 뭐가 좋을까?',\n",
       " '최근에 유행하는 패션 스타일이 있다면 알려줘!',\n",
       " '가볍게 할 수 있는 게임 중에서 추천할 만한 게 있을까?',\n",
       " '안녕!',\n",
       " '반가워!',\n",
       " '안녕하세요!',\n",
       " '오늘 날씨가 꿀꿀하네..',\n",
       " '반가워용',\n",
       " '반갑습니다',\n",
       " '안녕',\n",
       " '반가워',\n",
       " '안녕하세요',\n",
       " '반갑습니다',\n",
       " '날씨 좋네!',\n",
       " '요즘 날씨가 정말 변덕스럽네.',\n",
       " '오늘 점심 메뉴 추천해줘.',\n",
       " '오늘 저녁 뭐 먹을까?',\n",
       " '오늘 퇴근 후 뭐 할까?',\n",
       " '주말에 뭐 할지 고민 중이야.',\n",
       " '오늘은 좀 피곤하네.',\n",
       " '이번 주 주말에 뭐 할까?',\n",
       " '오늘 뭐 할지 모르겠어.',\n",
       " '요즘 뭐 재미있는 거 있어?',\n",
       " '주말에 영화 볼까?',\n",
       " '오늘 기분이 좀 이상해.',\n",
       " '이따가 뭐 먹을까?']"
      ]
     },
     "execution_count": 15,
     "metadata": {},
     "output_type": "execute_result"
    }
   ],
   "execution_count": 15
  },
  {
   "metadata": {},
   "cell_type": "markdown",
   "source": "### 학습 데이터 생성함수",
   "id": "612bf01919a33cf1"
  },
  {
   "cell_type": "code",
   "id": "8a3d8ed45acbadab",
   "metadata": {
    "ExecuteTime": {
     "end_time": "2025-09-18T18:58:00.777141Z",
     "start_time": "2025-09-18T18:58:00.765311Z"
    }
   },
   "source": [
    "import copy\n",
    "\n",
    "tool_prompt = \"\"\"\n",
    "사용자는 frontend(프론트엔드)팀에 속한 팀원입니다.\n",
    "당신은 <tools></tools> 안에 있는 tool을 호출하여 문서를 검색할 수 있습니다.\n",
    "일상적인 질문(ex: 안녕, 안녕하세요, 반가워 등)의 경우, tool 호출 없이 바로 답변하세요.\n",
    "\n",
    "# Tools\n",
    "\n",
    "You may call one or more functions to assist with the user query.\n",
    "\n",
    "You are provided with function signatures within <tools></tools> XML tags:\n",
    "<tools>\n",
    "{\"type\": \"function\", \"function\": {\"name\": \"frontend_search\", \"description\": \"사내 문서 검색을 위한 도구입니다. 대화 내역을 바탕으로 사용자가 원하는 문서를 찾고, 관련된 문서를 반환합니다.\", \"parameters\": {\"type\": \"object\", \"properties\": {\"keyword\": {\"type\": \"string\", \"description\": \"검색할 문서 키워드 (예: \\'코드노바 API 서버 설정\\')\"}}, \"required\": [\"keyword\"], \"additionalProperties\": false}}}\n",
    "</tools>\n",
    "\n",
    "For each function call, return a json object with function name and arguments within <tool_call></tool_call> XML tags:\n",
    "<tool_call>\n",
    "{\"name\": <function-name>, \"arguments\": <args-json-object>}'\n",
    "</tool_call>\n",
    "\"\"\"\n",
    "\n",
    "\n",
    "system_message = f\"\"\"\n",
    "당신은 사내 지식을 활용하여 사용자의 질문에 정확하고 유용한 답변을 제공하는 코드노바의 사내 문서 AI 챗봇입니다.\n",
    "\n",
    "{tool_prompt}\n",
    "\n",
    "그리고 다음 지침을 반드시 따르세요:\n",
    "1. 기존의 말투는 잊고 정중하고 사무적인 어조로 답변해야 하세요.\n",
    "2. 대화 내역의 말투도 참고하지 말고 무조건 정중하고 사무적인 어조로 답변하세요\n",
    "3. 사실에 기반한 정보를 사용하세요.\n",
    "4. 사용자의 질문에 대한 답변을 문서에서 찾을 수 없을 경우, \"잘 모르겠습니다\"라고 솔직하게 말하세요.\n",
    "5. 사용자가 문서에 대한 질문이 아닌, \"안녕\"과 같은 일상적인 질문을 한다면 해당 내용에 대해서 적절히 답변해주세요.\n",
    "6. 답변이 너무 길지 않게 하세요.\n",
    "7. 사용자의 말투와 상관 없이, 반드시 정중하고 사무적인 어조로 답변해야 합니다.\n",
    "\"\"\"\n",
    "\n",
    "SYSTEM_PROMPT = {\n",
    "    \"role\": \"system\",\n",
    "    \"content\": system_message\n",
    "}\n",
    "\n",
    "def parse_queries(resp_text: str, fallback: str) -> list[str]:\n",
    "    try:\n",
    "        obj = json.loads(resp_text)\n",
    "    except json.JSONDecodeError:\n",
    "        return [fallback]\n",
    "    q = obj.get(\"queries\", fallback)\n",
    "    if isinstance(q, str):\n",
    "        q = [q]\n",
    "    elif isinstance(q, list):\n",
    "        q = [s.strip() for s in q if isinstance(s, str) and s.strip()]\n",
    "    else:\n",
    "        q = [fallback]\n",
    "    return q or [fallback]\n",
    "\n",
    "def generate_one_chat_sample(initial_q: str, max_turns: int = 5):\n",
    "    messages = [SYSTEM_PROMPT]\n",
    "    current_q = initial_q\n",
    "\n",
    "    query = True\n",
    "\n",
    "    for turn in range(randint(2, max_turns + 1)):\n",
    "        # (1) User 질문 추가\n",
    "        messages.append({\"role\": \"user\", \"content\": current_q})\n",
    "        print(current_q)\n",
    "\n",
    "        if current_q not in hello_list and query:\n",
    "            response = query_chain.invoke({\"history\": messages})\n",
    "            questions = parse_queries(response, fallback=current_q)\n",
    "\n",
    "            tool_calls = []\n",
    "            tool_responses = []\n",
    "            for question in questions:\n",
    "                tool_calls.append(f\"<tool_call>{{\\\"name\\\": \\\"frontend_search\\\", \\\"arguments\\\": {{\\\"keyword\\\": \\\"{question}\\\"}}}}</tool_call>\")\n",
    "\n",
    "                # (2) 문서 검색 (vectorstore에서)\n",
    "                k = randint(4,8)\n",
    "                docs = vectorstore.similarity_search(question, k=k)\n",
    "                if docs:\n",
    "                    ref_text = \"\\n\".join([f\"{doc.page_content} [[ref{idx+1}]]\" for idx, doc in enumerate(docs)])\n",
    "                else:\n",
    "                    ref_text = \"검색 결과가 없습니다.\"\n",
    "                ref_text = f\"검색 결과:\\n-----\\n{ref_text}\"\n",
    "                tool_responses.append(f\"<tool_response>{ref_text}</tool_response>\")\n",
    "            tool_call = \"\\n\".join(tool_calls).strip()\n",
    "            tool_response = \"\\n\".join(tool_responses).strip()\n",
    "\n",
    "            if tool_call:\n",
    "                messages.append({\"role\": \"assistant\", \"content\": tool_call})\n",
    "            if tool_response:\n",
    "                messages.append({\"role\": \"user\", \"content\": tool_response})\n",
    "\n",
    "        messages_copy = copy.deepcopy(messages)\n",
    "        messages_copy[0]['content'] += '8. tool call 메세지는 tool call만 담겨 있어야 하고, 실제 답변에서는 tool call을 하지 않습니다. 당신이 tool call을 하지 않아도 됩니다.'\n",
    "        response = client.chat.completions.create(\n",
    "            model=\"gpt-4.1-mini\",\n",
    "            messages=messages_copy,\n",
    "            temperature=0.2\n",
    "        )\n",
    "        assistant_reply = (response.choices[0].message.content or \"\").strip()\n",
    "        # [Fix-4] 비어 있으면 기본 문구로 대체(선택)\n",
    "        if not assistant_reply:\n",
    "            assistant_reply = \"요청하신 내용과 관련된 정보를 찾지 못했습니다. 다른 키워드로 다시 말씀해 주시면 확인하겠습니다.\"\n",
    "        messages.append({\"role\": \"assistant\", \"content\": assistant_reply})\n",
    "\n",
    "        # 다음 질문 생성 여부 랜덤 (5턴이 max면 4턴 미만일때만 질문 생성)\n",
    "        if turn < max_turns - 1 and choice([True, False]):\n",
    "            if choice([True, False]):\n",
    "                complex1 = pick_complex2()\n",
    "                followup = question_chain.invoke({\n",
    "                \"history\": messages,\"complex\": complex1\n",
    "            })\n",
    "                current_q = followup\n",
    "                query = True\n",
    "            else:\n",
    "                intent = pick_intent()\n",
    "                complex2 = pick_complex()\n",
    "                followup = simple_chain.invoke({\"history\": messages, \"intent\": intent, \"complex\": complex2})\n",
    "                current_q = followup\n",
    "                query = False\n",
    "        else:\n",
    "            break\n",
    "\n",
    "    return {\"messages\": messages}"
   ],
   "outputs": [],
   "execution_count": 16
  },
  {
   "cell_type": "code",
   "id": "f0ef55c136165569",
   "metadata": {
    "ExecuteTime": {
     "end_time": "2025-09-18T19:36:48.681750Z",
     "start_time": "2025-09-18T18:58:04.488551Z"
    }
   },
   "source": [
    "import time\n",
    "from tqdm import tqdm\n",
    "\n",
    "train_dataset = []\n",
    "for q in tqdm(initial_questions):\n",
    "    time.sleep(1)  # 1초 대기\n",
    "    sample = generate_one_chat_sample(q, max_turns=4)\n",
    "    train_dataset.append(sample)\n",
    "\n",
    "# 저장\n",
    "with open(f\"qwen3_company_train_dataset_{permission}3.json\", \"w\", encoding=\"utf-8\") as f:\n",
    "    json.dump(train_dataset, f, ensure_ascii=False, indent=2)\n"
   ],
   "outputs": [
    {
     "name": "stderr",
     "output_type": "stream",
     "text": [
      "  0%|          | 0/296 [00:00<?, ?it/s]"
     ]
    },
    {
     "name": "stdout",
     "output_type": "stream",
     "text": [
      "빌드/배포 가이드의 '1.1 환경 설정' 파트에서 Node.js 설치에 대한 구체적인 버전 요구사항은 무엇인가요?\n"
     ]
    },
    {
     "name": "stderr",
     "output_type": "stream",
     "text": [
      "  0%|          | 1/296 [00:05<26:32,  5.40s/it]"
     ]
    },
    {
     "name": "stdout",
     "output_type": "stream",
     "text": [
      "빌드/배포 가이드의 '1.2 프로젝트 클론' 파트에서 GitHub에서 프로젝트를 클론할 때 사용하는 명령어는 무엇인가요?\n"
     ]
    },
    {
     "name": "stderr",
     "output_type": "stream",
     "text": [
      "  1%|          | 2/296 [00:09<21:30,  4.39s/it]"
     ]
    },
    {
     "name": "stdout",
     "output_type": "stream",
     "text": [
      "빌드/배포 가이드의 '1.3 의존성 설치' 파트에서 의존성을 설치하기 위해 실행해야 하는 명령어는 무엇인가요?\n",
      "오늘 저녁 메뉴 하나 정해줘.\n",
      "오늘 저녁으로 간편하게 즐길 수 있는 파스타 하나 추천해줘.\n",
      "오늘 저녁으로 간편하게 먹을 수 있는 볶음밥 하나 골라줘.\n"
     ]
    },
    {
     "name": "stderr",
     "output_type": "stream",
     "text": [
      "  1%|          | 3/296 [00:19<35:21,  7.24s/it]"
     ]
    },
    {
     "name": "stdout",
     "output_type": "stream",
     "text": [
      "빌드/배포 가이드의 '2.1 빌드 명령어 실행' 파트에서 빌드를 실행하기 위해 사용할 수 있는 명령어는 무엇인가요?\n"
     ]
    },
    {
     "name": "stderr",
     "output_type": "stream",
     "text": [
      "  1%|▏         | 4/296 [00:24<29:59,  6.16s/it]"
     ]
    },
    {
     "name": "stdout",
     "output_type": "stream",
     "text": [
      "빌드/배포 가이드의 '2.2 빌드 결과 확인' 파트에서 빌드 결과물이 생성되는 폴더의 이름은 무엇인가요?\n",
      "배포 자동화 도구에 대한 추가 정보나 실제 적용 사례가 문서에 포함되어 있는지 알려줄 수 있어?\n"
     ]
    },
    {
     "name": "stderr",
     "output_type": "stream",
     "text": [
      "  2%|▏         | 5/296 [00:33<34:39,  7.14s/it]"
     ]
    },
    {
     "name": "stdout",
     "output_type": "stream",
     "text": [
      "빌드/배포 가이드의 '3.1 배포 환경 설정' 파트에서 배포할 서버에 접근하기 위한 방법은 무엇인가요?\n"
     ]
    },
    {
     "name": "stderr",
     "output_type": "stream",
     "text": [
      "  2%|▏         | 6/296 [00:37<29:44,  6.15s/it]"
     ]
    },
    {
     "name": "stdout",
     "output_type": "stream",
     "text": [
      "빌드/배포 가이드의 '3.2 파일 전송' 파트에서 빌드된 파일을 서버에 전송하기 위해 사용할 수 있는 방법은 무엇인가요?\n",
      "오늘 저녁 메뉴 하나 정해줘.\n",
      "배포 자동화 도구 정보 알려줘.\n"
     ]
    },
    {
     "name": "stderr",
     "output_type": "stream",
     "text": [
      "  2%|▏         | 7/296 [00:45<33:30,  6.96s/it]"
     ]
    },
    {
     "name": "stdout",
     "output_type": "stream",
     "text": [
      "빌드/배포 가이드의 '3.3 서버 설정' 파트에서 웹 서버의 설정 파일을 수정할 때 확인해야 할 사항은 무엇인가요?\n"
     ]
    },
    {
     "name": "stderr",
     "output_type": "stream",
     "text": [
      "  3%|▎         | 8/296 [00:49<28:33,  5.95s/it]"
     ]
    },
    {
     "name": "stdout",
     "output_type": "stream",
     "text": [
      "빌드/배포 가이드의 '4.1 서비스 재시작' 파트에서 웹 서버를 재시작하기 위해 사용할 수 있는 명령어는 무엇인가요?\n",
      "오늘 운동으로 할 만한 스트레칭 하나 추천해줘.\n",
      "오늘 저녁에 간단하게 만들 수 있는 샐러드 하나 추천해줘.\n"
     ]
    },
    {
     "name": "stderr",
     "output_type": "stream",
     "text": [
      "  3%|▎         | 9/296 [01:05<42:57,  8.98s/it]"
     ]
    },
    {
     "name": "stdout",
     "output_type": "stream",
     "text": [
      "빌드/배포 가이드의 '4.2 배포 확인' 파트에서 배포된 URL을 열어 확인해야 할 사항은 무엇인가요?\n",
      "오늘 저녁에 어떤 간단한 요리를 해볼지 하나 정해줘.\n"
     ]
    },
    {
     "name": "stderr",
     "output_type": "stream",
     "text": [
      "  3%|▎         | 10/296 [01:15<44:47,  9.40s/it]"
     ]
    },
    {
     "name": "stdout",
     "output_type": "stream",
     "text": [
      "빌드/배포 가이드의 '5.1 로그 확인' 파트에서 오류 메시지를 파악하기 위해 확인해야 하는 로그 파일의 경로는 무엇인가요?\n"
     ]
    },
    {
     "name": "stderr",
     "output_type": "stream",
     "text": [
      "  4%|▎         | 11/296 [01:19<36:40,  7.72s/it]"
     ]
    },
    {
     "name": "stdout",
     "output_type": "stream",
     "text": [
      "빌드/배포 가이드의 '5.2 문제 해결' 파트에서 발생한 오류를 해결하기 위해 어떤 방법을 사용할 수 있나요?\n"
     ]
    },
    {
     "name": "stderr",
     "output_type": "stream",
     "text": [
      "  4%|▍         | 12/296 [01:23<31:32,  6.66s/it]"
     ]
    },
    {
     "name": "stdout",
     "output_type": "stream",
     "text": [
      "빌드/배포 가이드의 '6. 문서화' 파트에서 문서화해야 할 내용은 무엇인가요?\n",
      "오늘 저녁에 간단하게 먹을 수 있는 음식 하나 추천해줘.\n",
      "배포 과정에서 발생한 문제와 해결 방법을 문서화할 때, 구체적으로 어떤 형식이나 템플릿을 사용하는지 알려줄 수 있어?\n"
     ]
    },
    {
     "name": "stderr",
     "output_type": "stream",
     "text": [
      "  4%|▍         | 13/296 [01:39<44:55,  9.52s/it]"
     ]
    },
    {
     "name": "stdout",
     "output_type": "stream",
     "text": [
      "빌드/배포 가이드의 '다음 개정 제안'에서 제안된 배포 자동화 도구에 대한 추가 정보는 어떤 내용을 포함해야 하나요?\n"
     ]
    },
    {
     "name": "stderr",
     "output_type": "stream",
     "text": [
      "  5%|▍         | 14/296 [01:48<42:55,  9.13s/it]"
     ]
    },
    {
     "name": "stdout",
     "output_type": "stream",
     "text": [
      "빌드/배포 가이드의 '다음 개정 제안'에서 각 단계에 대한 예시를 추가하는 것이 왜 중요한가요?\n",
      "오늘 저녁에 어울리는 음악 장르 하나 추천해줘.\n"
     ]
    },
    {
     "name": "stderr",
     "output_type": "stream",
     "text": [
      "  5%|▌         | 15/296 [01:56<41:21,  8.83s/it]"
     ]
    },
    {
     "name": "stdout",
     "output_type": "stream",
     "text": [
      "UI/UX 디자인 가이드라인의 '디자인 원칙' 섹션에서 사용자 중심 디자인의 구체적인 적용 사례는 무엇인가요?\n"
     ]
    },
    {
     "name": "stderr",
     "output_type": "stream",
     "text": [
      "  5%|▌         | 16/296 [02:01<35:29,  7.61s/it]"
     ]
    },
    {
     "name": "stdout",
     "output_type": "stream",
     "text": [
      "색상 가이드 섹션에서 기본 색상과 보조 색상의 조합에 대한 예시는 어떤 것이 있나요?\n",
      "오늘 저녁 메뉴 하나 정해줘.\n",
      "오늘 저녁으로 간편하게 먹을 수 있는 파스타 하나 추천해줘.\n"
     ]
    },
    {
     "name": "stderr",
     "output_type": "stream",
     "text": [
      "  6%|▌         | 17/296 [02:10<37:19,  8.03s/it]"
     ]
    },
    {
     "name": "stdout",
     "output_type": "stream",
     "text": [
      "타이포그래피 섹션에서 폰트 크기 설정에 대한 구체적인 기준은 무엇인가요?\n",
      "타이포그래피에서 행간과 자간을 설정할 때 참고해야 하는 구체적인 수치나 가이드라인이 따로 정해져 있는지 알려줄 수 있어?\n",
      "오늘 저녁에 어울리는 간단한 요리 하나 추천해줘.\n"
     ]
    },
    {
     "name": "stderr",
     "output_type": "stream",
     "text": [
      "  6%|▌         | 18/296 [02:21<42:22,  9.14s/it]"
     ]
    },
    {
     "name": "stdout",
     "output_type": "stream",
     "text": [
      "버튼 및 상호작용 요소 섹션에서 호버 효과의 구체적인 디자인 예시는 어떤 것이 있나요?\n"
     ]
    },
    {
     "name": "stderr",
     "output_type": "stream",
     "text": [
      "  6%|▋         | 19/296 [02:27<37:55,  8.21s/it]"
     ]
    },
    {
     "name": "stdout",
     "output_type": "stream",
     "text": [
      "레이아웃 및 그리드 시스템 섹션에서 12열 그리드 시스템을 사용하는 이유는 무엇인가요?\n"
     ]
    },
    {
     "name": "stderr",
     "output_type": "stream",
     "text": [
      "  7%|▋         | 20/296 [02:31<31:06,  6.76s/it]"
     ]
    },
    {
     "name": "stdout",
     "output_type": "stream",
     "text": [
      "이미지 및 아이콘 사용 섹션에서 고해상도 이미지를 선택할 때 고려해야 할 요소는 무엇인가요?\n",
      "디자인 시스템 문서화 시 이미지 및 아이콘 관련 가이드라인을 효과적으로 공유하려면 어떤 방식이나 도구를 활용하는 것이 좋을까?\n",
      "버전 관리 방법 자세히 알려줘.\n"
     ]
    },
    {
     "name": "stderr",
     "output_type": "stream",
     "text": [
      "  7%|▋         | 21/296 [02:46<42:52,  9.35s/it]"
     ]
    },
    {
     "name": "stdout",
     "output_type": "stream",
     "text": [
      "사용자 피드백 섹션에서 A/B 테스트의 구체적인 진행 방법은 어떻게 되나요?\n",
      "오늘 저녁 메뉴로 간단하게 먹을 수 있는 샐러드 하나 추천해줘.\n"
     ]
    },
    {
     "name": "stderr",
     "output_type": "stream",
     "text": [
      "  7%|▋         | 22/296 [02:52<38:24,  8.41s/it]"
     ]
    },
    {
     "name": "stdout",
     "output_type": "stream",
     "text": [
      "문서화 섹션에서 디자인 시스템 문서화의 중요성에 대한 설명은 무엇인가요?\n"
     ]
    },
    {
     "name": "stderr",
     "output_type": "stream",
     "text": [
      "  8%|▊         | 23/296 [02:56<31:37,  6.95s/it]"
     ]
    },
    {
     "name": "stdout",
     "output_type": "stream",
     "text": [
      "디자인 원칙 섹션에서 접근성을 고려한 디자인의 구체적인 예시는 무엇인가요?\n"
     ]
    },
    {
     "name": "stderr",
     "output_type": "stream",
     "text": [
      "  8%|▊         | 24/296 [03:00<27:35,  6.09s/it]"
     ]
    },
    {
     "name": "stdout",
     "output_type": "stream",
     "text": [
      "색상 가이드 섹션에서 배경 색상 선택 시 고려해야 할 요소는 무엇인가요?\n",
      "버튼 색상 선택 기준 알려줘\n"
     ]
    },
    {
     "name": "stderr",
     "output_type": "stream",
     "text": [
      "  8%|▊         | 25/296 [03:08<29:43,  6.58s/it]"
     ]
    },
    {
     "name": "stdout",
     "output_type": "stream",
     "text": [
      "타이포그래피 섹션에서 행간 및 자간 설정의 중요성에 대한 설명은 무엇인가요?\n",
      "오늘 저녁 메뉴 하나 정해줘.\n"
     ]
    },
    {
     "name": "stderr",
     "output_type": "stream",
     "text": [
      "  9%|▉         | 26/296 [03:15<30:22,  6.75s/it]"
     ]
    },
    {
     "name": "stdout",
     "output_type": "stream",
     "text": [
      "버튼 및 상호작용 요소 섹션에서 상태 표시의 구체적인 예시는 어떤 것이 있나요?\n",
      "버튼 상태 표시와 관련된 테스트나 검증 절차는 어떻게 진행되는지 알려줄 수 있어?\n"
     ]
    },
    {
     "name": "stderr",
     "output_type": "stream",
     "text": [
      "  9%|▉         | 27/296 [03:27<37:25,  8.35s/it]"
     ]
    },
    {
     "name": "stdout",
     "output_type": "stream",
     "text": [
      "레이아웃 및 그리드 시스템 섹션에서 여백 및 패딩 설정의 기준은 무엇인가요?\n"
     ]
    },
    {
     "name": "stderr",
     "output_type": "stream",
     "text": [
      "  9%|▉         | 28/296 [03:31<31:37,  7.08s/it]"
     ]
    },
    {
     "name": "stdout",
     "output_type": "stream",
     "text": [
      "이미지 및 아이콘 사용 섹션에서 아이콘 스타일의 일관성을 유지하는 방법은 무엇인가요?\n",
      "오늘 저녁에 간단하게 만들 수 있는 요리 하나 추천해줘.\n"
     ]
    },
    {
     "name": "stderr",
     "output_type": "stream",
     "text": [
      " 10%|▉         | 29/296 [03:39<32:32,  7.31s/it]"
     ]
    },
    {
     "name": "stdout",
     "output_type": "stream",
     "text": [
      "사용자 피드백 섹션에서 테스트 및 검증의 구체적인 절차는 어떻게 되나요?\n"
     ]
    },
    {
     "name": "stderr",
     "output_type": "stream",
     "text": [
      " 10%|█         | 30/296 [03:46<31:32,  7.11s/it]"
     ]
    },
    {
     "name": "stdout",
     "output_type": "stream",
     "text": [
      "문서화 섹션에서 버전 관리의 필요성에 대한 설명은 무엇인가요?\n"
     ]
    },
    {
     "name": "stderr",
     "output_type": "stream",
     "text": [
      " 10%|█         | 31/296 [03:50<28:14,  6.39s/it]"
     ]
    },
    {
     "name": "stdout",
     "output_type": "stream",
     "text": [
      "디자인 원칙 섹션에서 일관성을 유지하기 위한 구체적인 방법은 무엇인가요?\n"
     ]
    },
    {
     "name": "stderr",
     "output_type": "stream",
     "text": [
      " 11%|█         | 32/296 [03:56<27:05,  6.16s/it]"
     ]
    },
    {
     "name": "stdout",
     "output_type": "stream",
     "text": [
      "색상 가이드 섹션에서 강조가 필요한 부분에 사용할 수 있는 보조 색상의 예시는 무엇인가요?\n"
     ]
    },
    {
     "name": "stderr",
     "output_type": "stream",
     "text": [
      " 11%|█         | 33/296 [04:00<23:50,  5.44s/it]"
     ]
    },
    {
     "name": "stdout",
     "output_type": "stream",
     "text": [
      "타이포그래피 섹션에서 브랜드와 일관된 느낌을 주는 폰트의 예시는 어떤 것이 있나요?\n"
     ]
    },
    {
     "name": "stderr",
     "output_type": "stream",
     "text": [
      " 11%|█▏        | 34/296 [04:05<23:51,  5.46s/it]"
     ]
    },
    {
     "name": "stdout",
     "output_type": "stream",
     "text": [
      "버튼 및 상호작용 요소 섹션에서 클릭 가능한 영역의 크기 기준은 무엇인가요?\n"
     ]
    },
    {
     "name": "stderr",
     "output_type": "stream",
     "text": [
      " 12%|█▏        | 35/296 [04:09<21:54,  5.03s/it]"
     ]
    },
    {
     "name": "stdout",
     "output_type": "stream",
     "text": [
      "레이아웃 및 그리드 시스템 섹션에서 모듈화의 장점은 무엇인가요?\n"
     ]
    },
    {
     "name": "stderr",
     "output_type": "stream",
     "text": [
      " 12%|█▏        | 36/296 [04:13<20:07,  4.65s/it]"
     ]
    },
    {
     "name": "stdout",
     "output_type": "stream",
     "text": [
      "이미지 및 아이콘 사용 섹션에서 콘텐츠와의 연관성을 높이기 위한 이미지 선택 기준은 무엇인가요?\n",
      "오늘 저녁 메뉴 하나 정해줘.\n"
     ]
    },
    {
     "name": "stderr",
     "output_type": "stream",
     "text": [
      " 12%|█▎        | 37/296 [04:19<22:15,  5.16s/it]"
     ]
    },
    {
     "name": "stdout",
     "output_type": "stream",
     "text": [
      "사용자 피드백 섹션에서 피드백 수집 후 개선 과정의 구체적인 단계는 무엇인가요?\n",
      "오늘 저녁 메뉴 하나 정해줘.\n"
     ]
    },
    {
     "name": "stderr",
     "output_type": "stream",
     "text": [
      " 13%|█▎        | 38/296 [04:30<28:52,  6.71s/it]"
     ]
    },
    {
     "name": "stdout",
     "output_type": "stream",
     "text": [
      "문서화 섹션에서 팀원들이 쉽게 접근할 수 있도록 하는 방법은 무엇인가요?\n",
      "오늘 날씨가 흐리네, 우산 챙길지 판단해줘.\n"
     ]
    },
    {
     "name": "stderr",
     "output_type": "stream",
     "text": [
      " 13%|█▎        | 39/296 [04:37<29:12,  6.82s/it]"
     ]
    },
    {
     "name": "stdout",
     "output_type": "stream",
     "text": [
      "디자인 원칙 섹션에서 반응형 디자인의 필요성에 대한 설명은 무엇인가요?\n",
      "오늘 저녁에 어떤 간단한 요리를 해볼지 하나 추천해줘.\n"
     ]
    },
    {
     "name": "stderr",
     "output_type": "stream",
     "text": [
      " 14%|█▎        | 40/296 [04:44<29:38,  6.95s/it]"
     ]
    },
    {
     "name": "stdout",
     "output_type": "stream",
     "text": [
      "협업 프로세스 문서의 초기 회의 섹션에서 요구사항이 명확히 정의되었는지 검증하는 방법은 무엇인가요?\n"
     ]
    },
    {
     "name": "stderr",
     "output_type": "stream",
     "text": [
      " 14%|█▍        | 41/296 [04:48<26:11,  6.16s/it]"
     ]
    },
    {
     "name": "stdout",
     "output_type": "stream",
     "text": [
      "디자인 단계에서 와이어프레임 및 프로토타입이 요구사항에 부합하는지 확인하는 기준은 무엇인가요?\n",
      "디자인 초안에 대한 사용자 피드백을 수집하고 개선하는 구체적인 절차는 어떻게 진행돼?\n"
     ]
    },
    {
     "name": "stderr",
     "output_type": "stream",
     "text": [
      " 14%|█▍        | 42/296 [05:01<33:44,  7.97s/it]"
     ]
    },
    {
     "name": "stdout",
     "output_type": "stream",
     "text": [
      "개발 단계의 코드 리뷰 과정에서 코드 품질 기준을 준수하는지 검증하는 방법은 어떤 것이 있나요?\n"
     ]
    },
    {
     "name": "stderr",
     "output_type": "stream",
     "text": [
      " 15%|█▍        | 43/296 [05:05<29:49,  7.07s/it]"
     ]
    },
    {
     "name": "stdout",
     "output_type": "stream",
     "text": [
      "테스트 단계에서 QA 진행 시 모든 기능이 정상적으로 작동하는지 확인하기 위한 절차는 무엇인가요?\n",
      "테스트 케이스 작성 단계에서 동료와의 리뷰를 효과적으로 진행하기 위한 구체적인 방법이나 체크리스트가 문서에 안내되어 있는지 궁금해.\n"
     ]
    },
    {
     "name": "stderr",
     "output_type": "stream",
     "text": [
      " 15%|█▍        | 44/296 [05:21<40:21,  9.61s/it]"
     ]
    },
    {
     "name": "stdout",
     "output_type": "stream",
     "text": [
      "배포 단계에서 사용자 피드백을 수집하는 방법은 무엇이며, 이를 어떻게 문서화하나요?\n",
      "사용자 피드백을 분석해서 개선 사항의 우선순위를 정할 때 적용하는 기준이나 프로세스가 문서에 구체적으로 나와 있는지 알려줄 수 있어?\n"
     ]
    },
    {
     "name": "stderr",
     "output_type": "stream",
     "text": [
      " 15%|█▌        | 45/296 [05:39<50:16, 12.02s/it]"
     ]
    },
    {
     "name": "stdout",
     "output_type": "stream",
     "text": [
      "피드백 및 회고 섹션에서 다음 프로젝트에 반영할 수 있는 교훈을 도출하기 위한 회의 진행 방식은 어떻게 되나요?\n"
     ]
    },
    {
     "name": "stderr",
     "output_type": "stream",
     "text": [
      " 16%|█▌        | 46/296 [05:42<39:51,  9.57s/it]"
     ]
    },
    {
     "name": "stdout",
     "output_type": "stream",
     "text": [
      "문서화 섹션에서 모든 문서가 팀원에게 공유되었는지 확인하는 절차는 무엇인가요?\n"
     ]
    },
    {
     "name": "stderr",
     "output_type": "stream",
     "text": [
      " 16%|█▌        | 47/296 [05:46<32:22,  7.80s/it]"
     ]
    },
    {
     "name": "stdout",
     "output_type": "stream",
     "text": [
      "협업 도구 섹션에서 슬랙(Slack)과 팀즈(Teams)의 사용 목적은 무엇인가요?\n",
      "오늘 저녁에 간단하게 먹을 수 있는 메뉴 하나 정해줘.\n",
      "오늘 저녁으로 간단한 파스타 하나 정해줘.\n"
     ]
    },
    {
     "name": "stderr",
     "output_type": "stream",
     "text": [
      " 16%|█▌        | 48/296 [05:53<31:39,  7.66s/it]"
     ]
    },
    {
     "name": "stdout",
     "output_type": "stream",
     "text": [
      "프로젝트 관리 도구인 지라(Jira)와 트렐로(Trello)의 사용 시 주의해야 할 점은 무엇인가요?\n",
      "프론트엔드 협업 프로세스 단계 알려줘\n",
      "문서화 시 체크리스트 항목 알려줘.\n"
     ]
    },
    {
     "name": "stderr",
     "output_type": "stream",
     "text": [
      " 17%|█▋        | 49/296 [06:15<48:35, 11.80s/it]"
     ]
    },
    {
     "name": "stdout",
     "output_type": "stream",
     "text": [
      "프론트엔드 개발자의 역할 중 코드 리뷰와 버그 수정의 구체적인 책임은 무엇인가요?\n"
     ]
    },
    {
     "name": "stderr",
     "output_type": "stream",
     "text": [
      " 17%|█▋        | 50/296 [06:22<42:40, 10.41s/it]"
     ]
    },
    {
     "name": "stdout",
     "output_type": "stream",
     "text": [
      "디자이너의 역할에서 사용자 경험(UX) 최적화를 위해 고려해야 할 요소는 무엇인가요?\n"
     ]
    },
    {
     "name": "stderr",
     "output_type": "stream",
     "text": [
      " 17%|█▋        | 51/296 [06:30<39:30,  9.68s/it]"
     ]
    },
    {
     "name": "stdout",
     "output_type": "stream",
     "text": [
      "프로덕트 매니저가 요구사항 수집 시 주의해야 할 점은 무엇인가요?\n",
      "오늘 저녁에 간단하게 먹을 수 있는 메뉴 하나 추천해줘.\n"
     ]
    },
    {
     "name": "stderr",
     "output_type": "stream",
     "text": [
      " 18%|█▊        | 52/296 [06:37<35:46,  8.80s/it]"
     ]
    },
    {
     "name": "stdout",
     "output_type": "stream",
     "text": [
      "QA 엔지니어가 기능 테스트를 진행할 때 어떤 기준으로 버그를 리포트하나요?\n",
      "오늘 저녁에 어떤 음악 듣는 게 좋을까?\n"
     ]
    },
    {
     "name": "stderr",
     "output_type": "stream",
     "text": [
      " 18%|█▊        | 53/296 [06:45<34:24,  8.49s/it]"
     ]
    },
    {
     "name": "stdout",
     "output_type": "stream",
     "text": [
      "초기 회의에서 각 팀원의 역할이 분명히 이해되었는지 확인하는 방법은 무엇인가요?\n",
      "협업 체크리스트 자세히 알려줘.\n",
      "오늘 퇴근 후에 간단하게 할 수 있는 스트레칭 동작 하나 알려줘.\n"
     ]
    },
    {
     "name": "stderr",
     "output_type": "stream",
     "text": [
      " 18%|█▊        | 54/296 [07:00<42:04, 10.43s/it]"
     ]
    },
    {
     "name": "stdout",
     "output_type": "stream",
     "text": [
      "디자인 단계에서 사용자 경험(UX)이 최적화되었는지 검증하기 위한 방법은 무엇인가요?\n"
     ]
    },
    {
     "name": "stderr",
     "output_type": "stream",
     "text": [
      " 19%|█▊        | 55/296 [07:04<34:54,  8.69s/it]"
     ]
    },
    {
     "name": "stdout",
     "output_type": "stream",
     "text": [
      "개발 단계에서 Pull Request(PR) 생성 후 리뷰 진행 시 어떤 점을 중점적으로 검토해야 하나요?\n"
     ]
    },
    {
     "name": "stderr",
     "output_type": "stream",
     "text": [
      " 19%|█▉        | 56/296 [07:11<31:53,  7.97s/it]"
     ]
    },
    {
     "name": "stdout",
     "output_type": "stream",
     "text": [
      "테스트 단계에서 발견된 버그가 적절히 수정되었는지 확인하는 절차는 무엇인가요?\n"
     ]
    },
    {
     "name": "stderr",
     "output_type": "stream",
     "text": [
      " 19%|█▉        | 57/296 [07:16<28:25,  7.14s/it]"
     ]
    },
    {
     "name": "stdout",
     "output_type": "stream",
     "text": [
      "배포 준비 단계에서 최종 검토 후 배포 계획 수립 시 고려해야 할 요소는 무엇인가요?\n"
     ]
    },
    {
     "name": "stderr",
     "output_type": "stream",
     "text": [
      " 20%|█▉        | 58/296 [07:22<27:47,  7.01s/it]"
     ]
    },
    {
     "name": "stdout",
     "output_type": "stream",
     "text": [
      "정기 회의에서 무엇이 잘 되었고, 무엇이 개선되어야 하는지를 평가하는 기준은 무엇인가요?\n"
     ]
    },
    {
     "name": "stderr",
     "output_type": "stream",
     "text": [
      " 20%|█▉        | 59/296 [07:28<26:01,  6.59s/it]"
     ]
    },
    {
     "name": "stdout",
     "output_type": "stream",
     "text": [
      "문서 작성 시 프로젝트 관련 문서 및 결과물을 정리하는 방법은 어떤 것이 있나요?\n"
     ]
    },
    {
     "name": "stderr",
     "output_type": "stream",
     "text": [
      " 20%|██        | 60/296 [07:34<25:06,  6.38s/it]"
     ]
    },
    {
     "name": "stdout",
     "output_type": "stream",
     "text": [
      "프론트엔드 아키텍처 문서에서 기술 스택에 대한 내용은 어떤 프레임워크와 상태 관리 도구를 포함하고 있나요?\n",
      "코딩 컨벤션 문서 위치 알려줘\n"
     ]
    },
    {
     "name": "stderr",
     "output_type": "stream",
     "text": [
      " 21%|██        | 61/296 [07:44<28:53,  7.38s/it]"
     ]
    },
    {
     "name": "stdout",
     "output_type": "stream",
     "text": [
      "프론트엔드 아키텍처 문서의 폴더 구조에서 `services/` 폴더의 역할은 무엇인가요?\n",
      "오늘 날씨가 흐리네, 우산 챙길지 판단해줘.\n"
     ]
    },
    {
     "name": "stderr",
     "output_type": "stream",
     "text": [
      " 21%|██        | 62/296 [07:51<28:50,  7.39s/it]"
     ]
    },
    {
     "name": "stdout",
     "output_type": "stream",
     "text": [
      "개발 원칙 섹션에서 코드 가독성을 높이기 위한 명확한 네이밍의 중요성에 대해 설명해 주세요.\n"
     ]
    },
    {
     "name": "stderr",
     "output_type": "stream",
     "text": [
      " 21%|██▏       | 63/296 [07:55<25:12,  6.49s/it]"
     ]
    },
    {
     "name": "stdout",
     "output_type": "stream",
     "text": [
      "프론트엔드 아키텍처 문서의 성능 최적화 부분에서 Lazy Loading의 목적은 무엇인가요?\n",
      "오늘 저녁에 간단하게 만들 수 있는 요리 하나 추천해줘.\n"
     ]
    },
    {
     "name": "stderr",
     "output_type": "stream",
     "text": [
      " 22%|██▏       | 64/296 [08:04<27:20,  7.07s/it]"
     ]
    },
    {
     "name": "stdout",
     "output_type": "stream",
     "text": [
      "Git 워크플로우 섹션에서 기능 개발 시 어떤 브랜치 전략을 따라야 하나요?\n"
     ]
    },
    {
     "name": "stderr",
     "output_type": "stream",
     "text": [
      " 22%|██▏       | 65/296 [08:08<23:56,  6.22s/it]"
     ]
    },
    {
     "name": "stdout",
     "output_type": "stream",
     "text": [
      "코드 리뷰 기준에서 확인해야 할 사항은 무엇인지 프론트엔드 아키텍처 문서에서 설명해 주세요.\n"
     ]
    },
    {
     "name": "stderr",
     "output_type": "stream",
     "text": [
      " 22%|██▏       | 66/296 [08:13<22:33,  5.88s/it]"
     ]
    },
    {
     "name": "stdout",
     "output_type": "stream",
     "text": [
      "유닛 테스트를 작성할 때 사용할 수 있는 도구는 무엇인가요? 프론트엔드 아키텍처 문서에서 언급된 내용을 바탕으로 설명해 주세요.\n",
      "오늘 저녁 메뉴 하나 정해줘.\n",
      "테스트 케이스 작성 예시 문서 있어?\n"
     ]
    },
    {
     "name": "stderr",
     "output_type": "stream",
     "text": [
      " 23%|██▎       | 67/296 [08:24<28:28,  7.46s/it]"
     ]
    },
    {
     "name": "stdout",
     "output_type": "stream",
     "text": [
      "CI/CD 섹션에서 자동화된 빌드에 사용되는 도구는 무엇이며, 그 역할은 무엇인가요?\n",
      "CI/CD 파이프라인 보안 점검이 자동화된다고 했는데, 구체적으로 어떤 보안 점검 항목들이 포함되어 있는지 알 수 있을까?\n"
     ]
    },
    {
     "name": "stderr",
     "output_type": "stream",
     "text": [
      " 23%|██▎       | 68/296 [08:35<32:03,  8.44s/it]"
     ]
    },
    {
     "name": "stdout",
     "output_type": "stream",
     "text": [
      "프론트엔드 아키텍처 문서에서 모니터링 도구로 언급된 Google Analytics와 Sentry의 용도는 무엇인가요?\n"
     ]
    },
    {
     "name": "stderr",
     "output_type": "stream",
     "text": [
      " 23%|██▎       | 69/296 [08:40<27:51,  7.36s/it]"
     ]
    },
    {
     "name": "stdout",
     "output_type": "stream",
     "text": [
      "컴포넌트 재사용성을 높이기 위한 원칙 중 하나로 props 활용이 언급되었는데, 그 이유는 무엇인가요?\n",
      "컴포넌트 네이밍 규칙 알려줘\n"
     ]
    },
    {
     "name": "stderr",
     "output_type": "stream",
     "text": [
      " 24%|██▎       | 70/296 [08:48<28:29,  7.56s/it]"
     ]
    },
    {
     "name": "stdout",
     "output_type": "stream",
     "text": [
      "프론트엔드 아키텍처 문서에서 주석 작성의 중요성에 대해 어떻게 설명하고 있나요?\n",
      "코딩 컨벤션 문서에 주석 예시 있어?\n",
      "코드 리뷰 과정에서 주석 작성에 대한 구체적인 피드백이나 개선 사례가 문서에 정리되어 있는지 궁금해.\n",
      "코드 리뷰에서 주석 관련 피드백을 반영한 실제 개선 사례나 변경 이력이 남아 있는 문서가 있을까?\n"
     ]
    },
    {
     "name": "stderr",
     "output_type": "stream",
     "text": [
      " 24%|██▍       | 71/296 [09:11<45:57, 12.26s/it]"
     ]
    },
    {
     "name": "stdout",
     "output_type": "stream",
     "text": [
      "성능 최적화에서 Memoization의 사용 목적은 무엇인가요? 프론트엔드 아키텍처 문서의 내용을 바탕으로 설명해 주세요.\n",
      "프론트엔드팀 코드 리뷰 기준 알려줘.\n",
      "테스트 전략 문서에 리뷰 절차도 있나요?\n",
      "오늘 저녁 메뉴 하나 정해줘.\n"
     ]
    },
    {
     "name": "stderr",
     "output_type": "stream",
     "text": [
      " 24%|██▍       | 72/296 [09:26<49:01, 13.13s/it]"
     ]
    },
    {
     "name": "stdout",
     "output_type": "stream",
     "text": [
      "프론트엔드 아키텍처 문서에서 각 페이지에 해당하는 컴포넌트는 어떤 폴더에 위치하나요?\n",
      "코딩 컨벤션 문서에서 파일 네이밍 규칙 알려줘.\n"
     ]
    },
    {
     "name": "stderr",
     "output_type": "stream",
     "text": [
      " 25%|██▍       | 73/296 [09:34<42:34, 11.46s/it]"
     ]
    },
    {
     "name": "stdout",
     "output_type": "stream",
     "text": [
      "프론트엔드 아키텍처 문서의 결론 부분에서 강조하는 개발자의 생산성을 높이기 위한 원칙은 무엇인가요?\n"
     ]
    },
    {
     "name": "stderr",
     "output_type": "stream",
     "text": [
      " 25%|██▌       | 74/296 [09:37<33:41,  9.11s/it]"
     ]
    },
    {
     "name": "stdout",
     "output_type": "stream",
     "text": [
      "E2E 테스트를 수행하기 위해 사용할 수 있는 도구는 무엇인가요? 프론트엔드 아키텍처 문서에서 언급된 내용을 바탕으로 설명해 주세요.\n",
      "테스트 케이스 작성 방법 알려줘.\n"
     ]
    },
    {
     "name": "stderr",
     "output_type": "stream",
     "text": [
      " 25%|██▌       | 75/296 [09:47<33:36,  9.12s/it]"
     ]
    },
    {
     "name": "stdout",
     "output_type": "stream",
     "text": [
      "코딩 컨벤션 & 스타일 가이드의 기본 원칙에서 '일관성'의 중요성에 대해 구체적으로 설명해 주실 수 있나요?\n"
     ]
    },
    {
     "name": "stderr",
     "output_type": "stream",
     "text": [
      " 26%|██▌       | 76/296 [09:51<27:56,  7.62s/it]"
     ]
    },
    {
     "name": "stdout",
     "output_type": "stream",
     "text": [
      "파일 및 폴더 구조 섹션에서 기능별로 나누어 관리하는 이유는 무엇인가요?\n"
     ]
    },
    {
     "name": "stderr",
     "output_type": "stream",
     "text": [
      " 26%|██▌       | 77/296 [09:56<24:50,  6.81s/it]"
     ]
    },
    {
     "name": "stdout",
     "output_type": "stream",
     "text": [
      "변수 및 함수 파트에서 '변수명' 작성 시 주의해야 할 점은 무엇인지 구체적으로 알고 싶습니다.\n",
      "오늘 저녁 메뉴 하나 정해줘.\n",
      "함수명 작성 규칙도 알려줘.\n",
      "주석 작성 시 주의사항 알려줘.\n"
     ]
    },
    {
     "name": "stderr",
     "output_type": "stream",
     "text": [
      " 26%|██▋       | 78/296 [10:13<36:26, 10.03s/it]"
     ]
    },
    {
     "name": "stdout",
     "output_type": "stream",
     "text": [
      "주석 작성 섹션에서 복잡한 부분에 주석을 추가하는 이유는 무엇인가요?\n",
      "주석 스타일 예시 보여줄 수 있어?\n"
     ]
    },
    {
     "name": "stderr",
     "output_type": "stream",
     "text": [
      " 27%|██▋       | 79/296 [10:24<37:02, 10.24s/it]"
     ]
    },
    {
     "name": "stdout",
     "output_type": "stream",
     "text": [
      "코드 포맷팅에서 줄 길이를 80~120자로 제한하는 이유는 무엇인지 설명해 주실 수 있나요?\n",
      "코드 리뷰 기준도 알려줄래?\n",
      "코드 리뷰 과정에서 주로 지적되는 코드 품질 개선 항목에는 어떤 것들이 있는지 구체적으로 알려줄 수 있어?\n"
     ]
    },
    {
     "name": "stderr",
     "output_type": "stream",
     "text": [
      " 27%|██▋       | 80/296 [10:41<43:59, 12.22s/it]"
     ]
    },
    {
     "name": "stdout",
     "output_type": "stream",
     "text": [
      "컴포넌트 작성 섹션에서 상태(state)와 속성(props)을 구분하는 것이 왜 중요한지 구체적으로 알고 싶습니다.\n"
     ]
    },
    {
     "name": "stderr",
     "output_type": "stream",
     "text": [
      " 27%|██▋       | 81/296 [10:46<35:58, 10.04s/it]"
     ]
    },
    {
     "name": "stdout",
     "output_type": "stream",
     "text": [
      "에러 처리 파트에서 비동기 작업에 에러 핸들링을 포함해야 하는 이유는 무엇인가요?\n"
     ]
    },
    {
     "name": "stderr",
     "output_type": "stream",
     "text": [
      " 28%|██▊       | 82/296 [10:50<29:11,  8.18s/it]"
     ]
    },
    {
     "name": "stdout",
     "output_type": "stream",
     "text": [
      "테스트 섹션에서 유닛 테스트와 통합 테스트의 차이점에 대해 설명해 주실 수 있나요?\n"
     ]
    },
    {
     "name": "stderr",
     "output_type": "stream",
     "text": [
      " 28%|██▊       | 83/296 [10:54<25:30,  7.19s/it]"
     ]
    },
    {
     "name": "stdout",
     "output_type": "stream",
     "text": [
      "코드 리뷰 프로세스에서 리뷰어가 주석 및 피드백을 제공하는 이유는 무엇인가요?\n"
     ]
    },
    {
     "name": "stderr",
     "output_type": "stream",
     "text": [
      " 28%|██▊       | 84/296 [10:59<22:35,  6.39s/it]"
     ]
    },
    {
     "name": "stdout",
     "output_type": "stream",
     "text": [
      "기타 섹션에서 ESLint와 Prettier를 사용하는 이유는 무엇인지 구체적으로 알고 싶습니다.\n"
     ]
    },
    {
     "name": "stderr",
     "output_type": "stream",
     "text": [
      " 29%|██▊       | 85/296 [11:03<19:47,  5.63s/it]"
     ]
    },
    {
     "name": "stdout",
     "output_type": "stream",
     "text": [
      "코드 리뷰에서 받은 피드백을 반영하는 것이 왜 중요한지 설명해 주실 수 있나요?\n"
     ]
    },
    {
     "name": "stderr",
     "output_type": "stream",
     "text": [
      " 29%|██▉       | 86/296 [11:07<18:08,  5.19s/it]"
     ]
    },
    {
     "name": "stdout",
     "output_type": "stream",
     "text": [
      "보안 가이드라인에서 프론트엔드 애플리케이션의 보안을 강화하기 위한 권장 사항은 무엇인가요?\n"
     ]
    },
    {
     "name": "stderr",
     "output_type": "stream",
     "text": [
      " 29%|██▉       | 87/296 [11:13<18:51,  5.41s/it]"
     ]
    },
    {
     "name": "stdout",
     "output_type": "stream",
     "text": [
      "로그/모니터링 가이드에서 로그 수집의 중요성에 대해 설명해 주세요.\n",
      "오늘 저녁에 어울리는 간단한 디저트 하나 추천해줘.\n"
     ]
    },
    {
     "name": "stderr",
     "output_type": "stream",
     "text": [
      " 30%|██▉       | 88/296 [11:20<20:55,  6.04s/it]"
     ]
    },
    {
     "name": "stdout",
     "output_type": "stream",
     "text": [
      "협업 프로세스 문서에서 팀원 간의 의사소통을 원활하게 하기 위한 방법은 무엇인가요?\n",
      "협업 프로세스 문서에서 코드 리뷰를 효과적으로 진행하기 위한 구체적인 절차나 체크리스트가 정리되어 있는지 알려줄 수 있어?\n"
     ]
    },
    {
     "name": "stderr",
     "output_type": "stream",
     "text": [
      " 30%|███       | 89/296 [11:34<28:15,  8.19s/it]"
     ]
    },
    {
     "name": "stdout",
     "output_type": "stream",
     "text": [
      "신규 입사자 온보딩 가이드에서 첫 주에 수행해야 할 주요 활동은 무엇인가요?\n"
     ]
    },
    {
     "name": "stderr",
     "output_type": "stream",
     "text": [
      " 30%|███       | 90/296 [11:40<26:17,  7.66s/it]"
     ]
    },
    {
     "name": "stdout",
     "output_type": "stream",
     "text": [
      "프론트엔드팀 주간 업무 계획에서 이번 주의 주요 목표는 무엇인가요?\n"
     ]
    },
    {
     "name": "stderr",
     "output_type": "stream",
     "text": [
      " 31%|███       | 91/296 [11:45<22:55,  6.71s/it]"
     ]
    },
    {
     "name": "stdout",
     "output_type": "stream",
     "text": [
      "프론트엔드팀 회의록(정기회의) #1에서 논의된 주요 안건은 무엇인가요?\n",
      "오늘 저녁 메뉴 하나 정해줘.\n",
      "정기회의 #2 주요 안건도 알려줘.\n"
     ]
    },
    {
     "name": "stderr",
     "output_type": "stream",
     "text": [
      " 31%|███       | 92/296 [11:59<31:02,  9.13s/it]"
     ]
    },
    {
     "name": "stdout",
     "output_type": "stream",
     "text": [
      "프론트엔드팀 회의록(정기회의) #2에서 결정된 액션 아이템은 무엇인가요?\n",
      "오늘 퇴근 후 간단하게 할 수 있는 스트레칭 동작 하나 알려줘.\n"
     ]
    },
    {
     "name": "stderr",
     "output_type": "stream",
     "text": [
      " 31%|███▏      | 93/296 [12:09<31:01,  9.17s/it]"
     ]
    },
    {
     "name": "stdout",
     "output_type": "stream",
     "text": [
      "실패 사례 & 대응 기록(Postmortem 문서)에서 가장 최근의 실패 사례는 무엇이며, 그에 대한 대응은 어땠나요?\n"
     ]
    },
    {
     "name": "stderr",
     "output_type": "stream",
     "text": [
      " 32%|███▏      | 94/296 [12:14<27:25,  8.15s/it]"
     ]
    },
    {
     "name": "stdout",
     "output_type": "stream",
     "text": [
      "프로젝트/제품 릴리즈 노트 관리 문서에서 릴리즈 노트 작성 시 포함해야 할 필수 항목은 무엇인가요?\n",
      "릴리즈 노트 작성 시 팀원들의 피드백을 효과적으로 반영하는 구체적인 방법이나 절차가 문서에 안내되어 있는지 궁금해.\n"
     ]
    },
    {
     "name": "stderr",
     "output_type": "stream",
     "text": [
      " 32%|███▏      | 95/296 [12:27<31:52,  9.51s/it]"
     ]
    },
    {
     "name": "stdout",
     "output_type": "stream",
     "text": [
      "API 연동 매뉴얼의 'API 호출 구현' 파트에서 요청 시 필요한 헤더와 파라미터 설정에 대한 구체적인 예시는 무엇인가요?\n"
     ]
    },
    {
     "name": "stderr",
     "output_type": "stream",
     "text": [
      " 32%|███▏      | 96/296 [12:33<27:40,  8.30s/it]"
     ]
    },
    {
     "name": "stdout",
     "output_type": "stream",
     "text": [
      "API 연동 매뉴얼의 '응답 처리' 파트에서 성공적인 응답과 오류 응답에 대한 처리를 어떻게 구분해야 하나요?\n",
      "API 연동 테스트 체크리스트 알려줘.\n",
      "오늘 저녁에 간단하게 먹을 수 있는 메뉴 하나 정해줘.\n",
      "API 연동 모니터링 방법 알려줘.\n"
     ]
    },
    {
     "name": "stderr",
     "output_type": "stream",
     "text": [
      " 33%|███▎      | 97/296 [12:49<36:08, 10.89s/it]"
     ]
    },
    {
     "name": "stdout",
     "output_type": "stream",
     "text": [
      "API 연동 매뉴얼의 'UI 연동' 파트에서 데이터 바인딩 및 상태 관리를 통해 UI와 API의 연계를 강화하는 방법은 무엇인가요?\n"
     ]
    },
    {
     "name": "stderr",
     "output_type": "stream",
     "text": [
      " 33%|███▎      | 98/296 [12:54<29:58,  9.08s/it]"
     ]
    },
    {
     "name": "stdout",
     "output_type": "stream",
     "text": [
      "API 연동 매뉴얼의 '개발 환경 설정' 파트에서 환경 변수를 설정하는 방법은 무엇인가요?\n",
      "API 연동 오류 사례랑 해결법 알려줘.\n",
      "API 연동 매뉴얼에서 오류 응답을 처리하는 로직은 구체적으로 어떻게 구현해야 하는지 알려줄 수 있어?\n",
      "오늘 저녁에 간단하게 만들 수 있는 요리 하나 추천해줘.\n"
     ]
    },
    {
     "name": "stderr",
     "output_type": "stream",
     "text": [
      " 33%|███▎      | 99/296 [13:12<38:41, 11.78s/it]"
     ]
    },
    {
     "name": "stdout",
     "output_type": "stream",
     "text": [
      "API 연동 매뉴얼의 '요구 사항 정의' 파트에서 API를 통해 주고받을 데이터의 예시는 무엇인가요?\n",
      "오늘 저녁에 어울리는 간단한 안주 하나 추천해줘.\n"
     ]
    },
    {
     "name": "stderr",
     "output_type": "stream",
     "text": [
      " 34%|███▍      | 100/296 [13:18<32:28,  9.94s/it]"
     ]
    },
    {
     "name": "stdout",
     "output_type": "stream",
     "text": [
      "API 연동 매뉴얼의 'UI 연동' 파트에서 API에서 받은 데이터를 사용자 인터페이스에 반영하는 방법은 무엇인가요?\n"
     ]
    },
    {
     "name": "stderr",
     "output_type": "stream",
     "text": [
      " 34%|███▍      | 101/296 [13:25<29:09,  8.97s/it]"
     ]
    },
    {
     "name": "stdout",
     "output_type": "stream",
     "text": [
      "프론트엔드팀 주간 업무 계획에서 사용자 경험 개선을 위한 UI/UX 업데이트 진행에 대한 구체적인 목표는 무엇인가요?\n"
     ]
    },
    {
     "name": "stderr",
     "output_type": "stream",
     "text": [
      " 34%|███▍      | 102/296 [13:30<25:38,  7.93s/it]"
     ]
    },
    {
     "name": "stdout",
     "output_type": "stream",
     "text": [
      "주간 업무 일정의 월요일 업무 회의에서 주간 목표 공유 시 어떤 내용이 논의되나요?\n"
     ]
    },
    {
     "name": "stderr",
     "output_type": "stream",
     "text": [
      " 35%|███▍      | 103/296 [13:34<21:27,  6.67s/it]"
     ]
    },
    {
     "name": "stdout",
     "output_type": "stream",
     "text": [
      "화요일의 신규 기능 개발 파트에서 요구사항 분석 및 기술 스택 선정은 어떻게 진행되나요?\n"
     ]
    },
    {
     "name": "stderr",
     "output_type": "stream",
     "text": [
      " 35%|███▌      | 104/296 [13:39<19:47,  6.18s/it]"
     ]
    },
    {
     "name": "stdout",
     "output_type": "stream",
     "text": [
      "수요일의 코드 리뷰 및 품질 관리에서 팀원 간 코드 리뷰는 어떤 기준으로 진행되나요?\n"
     ]
    },
    {
     "name": "stderr",
     "output_type": "stream",
     "text": [
      " 35%|███▌      | 105/296 [13:45<19:04,  5.99s/it]"
     ]
    },
    {
     "name": "stdout",
     "output_type": "stream",
     "text": [
      "목요일 기능 통합 및 테스트에서 통합 테스트는 어떤 방식으로 수행되며, 사용자 시나리오 기반 테스트의 주요 포인트는 무엇인가요?\n"
     ]
    },
    {
     "name": "stderr",
     "output_type": "stream",
     "text": [
      " 36%|███▌      | 106/296 [13:49<17:50,  5.63s/it]"
     ]
    },
    {
     "name": "stdout",
     "output_type": "stream",
     "text": [
      "주간 회고에서 이번 주 진행한 업무에 대한 회고는 어떤 형식으로 이루어지며, 개선 사항은 어떻게 수집하나요?\n"
     ]
    },
    {
     "name": "stderr",
     "output_type": "stream",
     "text": [
      " 36%|███▌      | 107/296 [13:54<16:38,  5.28s/it]"
     ]
    },
    {
     "name": "stdout",
     "output_type": "stream",
     "text": [
      "체크리스트에서 UI/UX 개선 사항을 팀원과 공유하는 과정은 어떻게 진행되나요?\n",
      "오늘 저녁에 어떤 간단한 요리를 해볼지 하나 추천해줘.\n"
     ]
    },
    {
     "name": "stderr",
     "output_type": "stream",
     "text": [
      " 36%|███▋      | 108/296 [14:03<20:15,  6.46s/it]"
     ]
    },
    {
     "name": "stdout",
     "output_type": "stream",
     "text": [
      "신규 기능 개발 요구사항 분석 완료 후, 어떤 절차를 통해 코드 작성이 시작되나요?\n",
      "코드 리뷰 기준 자세히 알려줘.\n",
      "코드 리뷰 피드백 반영 절차 알려줘.\n"
     ]
    },
    {
     "name": "stderr",
     "output_type": "stream",
     "text": [
      " 37%|███▋      | 109/296 [14:17<26:59,  8.66s/it]"
     ]
    },
    {
     "name": "stdout",
     "output_type": "stream",
     "text": [
      "버그 수정 후 QA 진행은 어떤 방식으로 이루어지며, 어떤 기준으로 수정 사항이 테스트되나요?\n",
      "오늘 저녁 메뉴 하나 정해줘.\n",
      "오늘 저녁으로 간편하게 먹을 수 있는 파스타 하나 골라줘.\n"
     ]
    },
    {
     "name": "stderr",
     "output_type": "stream",
     "text": [
      " 37%|███▋      | 110/296 [14:32<32:27, 10.47s/it]"
     ]
    },
    {
     "name": "stdout",
     "output_type": "stream",
     "text": [
      "문서화 작업 완료 후, 팀원들이 쉽게 접근할 수 있도록 하는 방법은 무엇인가요?\n",
      "문서 공유 후 팀원들의 피드백을 효과적으로 수집하고 문서에 반영하는 구체적인 프로세스가 어떻게 되는지 알려줄 수 있어?\n"
     ]
    },
    {
     "name": "stderr",
     "output_type": "stream",
     "text": [
      " 38%|███▊      | 111/296 [14:46<36:16, 11.76s/it]"
     ]
    },
    {
     "name": "stdout",
     "output_type": "stream",
     "text": [
      "검증 포인트에서 UI/UX 개선 사항이 사용자 피드백을 반영했는지 확인하는 방법은 무엇인가요?\n"
     ]
    },
    {
     "name": "stderr",
     "output_type": "stream",
     "text": [
      " 38%|███▊      | 112/296 [14:52<30:12,  9.85s/it]"
     ]
    },
    {
     "name": "stdout",
     "output_type": "stream",
     "text": [
      "신규 기능이 요구사항에 부합하는지 검토하는 과정은 어떻게 이루어지나요?\n"
     ]
    },
    {
     "name": "stderr",
     "output_type": "stream",
     "text": [
      " 38%|███▊      | 113/296 [14:57<25:56,  8.51s/it]"
     ]
    },
    {
     "name": "stdout",
     "output_type": "stream",
     "text": [
      "코드 품질 향상 및 버그 수정 후, 기존 기능에 영향이 없는지 테스트하는 절차는 무엇인가요?\n",
      "회귀 테스트에 사용되는 Cypress나 Jest의 구체적인 설정 방법과 테스트 자동화 도입 시 참고할 만한 사내 가이드가 있을까?\n"
     ]
    },
    {
     "name": "stderr",
     "output_type": "stream",
     "text": [
      " 39%|███▊      | 114/296 [15:12<31:23, 10.35s/it]"
     ]
    },
    {
     "name": "stdout",
     "output_type": "stream",
     "text": [
      "자유 개발 시간 동안 개인 프로젝트나 학습 시간은 어떻게 활용되나요?\n",
      "오늘 저녁에 듣기 좋은 음악 장르 하나 추천해줘.\n",
      "오늘 저녁에 어울리는 음악 장르 하나 정해줘.\n",
      "정기적인 피드백 세션에서는 어떤 방식으로 팀원들의 의견을 수집하고 개선 사항을 도출하는지 구체적으로 설명해줄 수 있어?\n"
     ]
    },
    {
     "name": "stderr",
     "output_type": "stream",
     "text": [
      " 39%|███▉      | 115/296 [15:28<36:30, 12.10s/it]"
     ]
    },
    {
     "name": "stdout",
     "output_type": "stream",
     "text": [
      "주간 업무 계획에서 각 업무의 우선순위는 어떻게 정해지나요?\n"
     ]
    },
    {
     "name": "stderr",
     "output_type": "stream",
     "text": [
      " 39%|███▉      | 116/296 [15:33<30:20, 10.11s/it]"
     ]
    },
    {
     "name": "stdout",
     "output_type": "stream",
     "text": [
      "프론트엔드팀 회의록에서 현재 프로젝트 진행 상황에 대한 각 팀원의 기능 진행률 점검 결과는 어떻게 되나요?\n",
      "오늘 저녁에 어떤 간단한 요리 하나 추천해줘.\n"
     ]
    },
    {
     "name": "stderr",
     "output_type": "stream",
     "text": [
      " 40%|███▉      | 117/296 [15:43<29:58, 10.05s/it]"
     ]
    },
    {
     "name": "stdout",
     "output_type": "stream",
     "text": [
      "회의록에서 언급된 각 팀원의 역할과 책임에 대한 구체적인 내용은 무엇인가요?\n",
      "프론트엔드팀의 협업 프로세스 단계별로 각 역할이 실제로 어떻게 분배되고 실행되는지, 구체적인 예시를 들어 설명해줄 수 있어?\n"
     ]
    },
    {
     "name": "stderr",
     "output_type": "stream",
     "text": [
      " 40%|███▉      | 118/296 [16:00<36:05, 12.16s/it]"
     ]
    },
    {
     "name": "stdout",
     "output_type": "stream",
     "text": [
      "회의에서 논의된 사용자 피드백 반영 방안의 구체적인 실행 계획은 무엇인가요?\n",
      "오늘 저녁 메뉴 하나 정해줘.\n",
      "오늘 저녁으로 간편하게 먹을 수 있는 파스타 하나 골라줘.\n",
      "오늘 저녁으로 간편하게 먹을 수 있는 리조또 하나 추천해줘.\n"
     ]
    },
    {
     "name": "stderr",
     "output_type": "stream",
     "text": [
      " 40%|████      | 119/296 [16:14<37:04, 12.57s/it]"
     ]
    },
    {
     "name": "stdout",
     "output_type": "stream",
     "text": [
      "회의록에서 언급된 버그 수정 및 개선 사항의 구체적인 내용은 무엇이었나요?\n",
      "피드백 회의 진행 방식 알려줘.\n",
      "오늘 저녁에 간단하게 먹을 수 있는 음식 하나 추천해줘.\n",
      "오늘 저녁에 간편하게 먹을 수 있는 라면 하나 정해줘.\n"
     ]
    },
    {
     "name": "stderr",
     "output_type": "stream",
     "text": [
      " 41%|████      | 120/296 [16:37<46:24, 15.82s/it]"
     ]
    },
    {
     "name": "stdout",
     "output_type": "stream",
     "text": [
      "향후 개발 일정 조정에서 어떤 기준으로 마일스톤을 재조정할 예정인가요?\n",
      "신규 기능 우선순위 선정 기준 자세히 알려줘.\n"
     ]
    },
    {
     "name": "stderr",
     "output_type": "stream",
     "text": [
      " 41%|████      | 121/296 [16:53<45:49, 15.71s/it]"
     ]
    },
    {
     "name": "stdout",
     "output_type": "stream",
     "text": [
      "회의록에서 논의된 사용자 피드백 수집 방법 개선 방안에 대한 구체적인 아이디어는 무엇이었나요?\n"
     ]
    },
    {
     "name": "stderr",
     "output_type": "stream",
     "text": [
      " 41%|████      | 122/296 [16:57<35:45, 12.33s/it]"
     ]
    },
    {
     "name": "stdout",
     "output_type": "stream",
     "text": [
      "보안 가이드라인의 '일반 보안 원칙' 섹션에서 정기적인 교육의 중요성에 대해 어떤 내용이 포함되어 있나요?\n",
      "오늘 저녁 메뉴 하나 정해줘.\n"
     ]
    },
    {
     "name": "stderr",
     "output_type": "stream",
     "text": [
      " 42%|████▏     | 123/296 [17:03<30:02, 10.42s/it]"
     ]
    },
    {
     "name": "stdout",
     "output_type": "stream",
     "text": [
      "'데이터 보호' 파트에서 민감한 데이터 처리에 대한 구체적인 절차는 무엇인가요?\n",
      "데이터 접근 로그 보관 기간은?\n"
     ]
    },
    {
     "name": "stderr",
     "output_type": "stream",
     "text": [
      " 42%|████▏     | 124/296 [17:10<27:09,  9.47s/it]"
     ]
    },
    {
     "name": "stdout",
     "output_type": "stream",
     "text": [
      "크로스사이트 스크립팅(XSS) 방지 섹션에서 입력 검증의 중요성에 대해 어떤 지침이 제시되어 있나요?\n"
     ]
    },
    {
     "name": "stderr",
     "output_type": "stream",
     "text": [
      " 42%|████▏     | 125/296 [17:16<23:18,  8.18s/it]"
     ]
    },
    {
     "name": "stdout",
     "output_type": "stream",
     "text": [
      "'크로스사이트 요청 위조(CSRF) 방지' 파트에서 CSRF 토큰 사용에 대한 구체적인 요구사항은 무엇인가요?\n"
     ]
    },
    {
     "name": "stderr",
     "output_type": "stream",
     "text": [
      " 43%|████▎     | 126/296 [17:20<20:00,  7.06s/it]"
     ]
    },
    {
     "name": "stdout",
     "output_type": "stream",
     "text": [
      "의존성 관리 섹션에서 패키지 업데이트의 주기와 중요성에 대해 어떤 내용이 설명되어 있나요?\n"
     ]
    },
    {
     "name": "stderr",
     "output_type": "stream",
     "text": [
      " 43%|████▎     | 127/296 [17:25<18:03,  6.41s/it]"
     ]
    },
    {
     "name": "stdout",
     "output_type": "stream",
     "text": [
      "오류 처리 섹션에서 사용자 친화적인 오류 메시지의 필요성에 대해 어떤 지침이 제공되고 있나요?\n",
      "오늘 저녁 메뉴 하나 정해줘.\n"
     ]
    },
    {
     "name": "stderr",
     "output_type": "stream",
     "text": [
      " 43%|████▎     | 128/296 [17:31<17:56,  6.41s/it]"
     ]
    },
    {
     "name": "stdout",
     "output_type": "stream",
     "text": [
      "배포 보안 파트에서 CI/CD 파이프라인 보안에 대한 구체적인 접근 권한 제한 방법은 무엇인가요?\n",
      "오늘 간단하게 할 수 있는 스트레칭 동작 하나 알려줘.\n",
      "오늘 날씨가 흐리네, 우산 챙길지 판단해줘.\n",
      "오늘 저녁에 간단하게 먹을 수 있는 간식 하나 추천해줘.\n"
     ]
    },
    {
     "name": "stderr",
     "output_type": "stream",
     "text": [
      " 44%|████▎     | 129/296 [17:45<23:47,  8.55s/it]"
     ]
    },
    {
     "name": "stdout",
     "output_type": "stream",
     "text": [
      "'정기적인 보안 감사' 섹션에서 내부 감사의 주기와 목적에 대해 어떤 내용이 포함되어 있나요?\n"
     ]
    },
    {
     "name": "stderr",
     "output_type": "stream",
     "text": [
      " 44%|████▍     | 130/296 [17:50<20:52,  7.55s/it]"
     ]
    },
    {
     "name": "stdout",
     "output_type": "stream",
     "text": [
      "보안 가이드라인의 결론 부분에서 프론트엔드팀의 보안이 사용자 신뢰와 어떻게 연결되는지에 대한 설명은 무엇인가요?\n"
     ]
    },
    {
     "name": "stderr",
     "output_type": "stream",
     "text": [
      " 44%|████▍     | 131/296 [17:54<18:05,  6.58s/it]"
     ]
    },
    {
     "name": "stdout",
     "output_type": "stream",
     "text": [
      "'크로스사이트 요청 위조(CSRF) 방지' 섹션에서 SameSite 쿠키 속성 설정의 중요성에 대해 어떤 내용이 언급되어 있나요?\n",
      "SameSite 쿠키 속성 설정 시 적용해야 하는 구체적인 값이나 프론트엔드팀에서 권장하는 설정 방식이 문서에 명시되어 있는지 알려줄 수 있어?\n",
      "CSRF 방지와 관련해서 프론트엔드팀에서 실제로 적용한 사례나, SameSite 쿠키 설정이 적용된 코드 예시가 문서에 포함되어 있는지 확인해 줄 수 있어?\n",
      "오늘 저녁에 어울리는 간단한 디저트 하나 추천해줘.\n"
     ]
    },
    {
     "name": "stderr",
     "output_type": "stream",
     "text": [
      " 45%|████▍     | 132/296 [18:14<28:25, 10.40s/it]"
     ]
    },
    {
     "name": "stdout",
     "output_type": "stream",
     "text": [
      "릴리즈 노트 개요에서 제품의 새로운 기능과 개선 사항을 어떻게 정리해야 하는지 구체적으로 설명해 주실 수 있나요?\n",
      "오늘 기분 전환을 위해 듣기 좋은 음악 장르 하나 추천해줘.\n",
      "릴리즈 노트 작성 시 팀원들의 피드백을 효과적으로 수집하고 반영하는 구체적인 프로세스는 어떻게 진행되고 있어?\n"
     ]
    },
    {
     "name": "stderr",
     "output_type": "stream",
     "text": [
      " 45%|████▍     | 133/296 [18:34<36:06, 13.29s/it]"
     ]
    },
    {
     "name": "stdout",
     "output_type": "stream",
     "text": [
      "정보 로그와 성능 로그의 차이점은 무엇인가요?\n"
     ]
    },
    {
     "name": "stderr",
     "output_type": "stream",
     "text": [
      " 45%|████▌     | 134/296 [18:38<28:55, 10.71s/it]"
     ]
    },
    {
     "name": "stdout",
     "output_type": "stream",
     "text": [
      "에러 발생 시 에러 로그가 기록되는지 확인하는 절차는 어떻게 되나요?\n",
      "오늘 저녁에 듣기 좋은 음악 장르 하나 추천해줘.\n"
     ]
    },
    {
     "name": "stderr",
     "output_type": "stream",
     "text": [
      " 46%|████▌     | 135/296 [18:46<26:23,  9.83s/it]"
     ]
    },
    {
     "name": "stdout",
     "output_type": "stream",
     "text": [
      "모니터링 체크리스트에서 페이지 로드 시간 및 API 응답 시간이 정상 범위 내에 있는지 확인하는 방법은 무엇인가요?\n",
      "모니터링 도구별로 페이지 로드 시간과 API 응답 시간의 정상 범위 기준은 어떻게 설정하는지 구체적으로 설명해줄 수 있어?\n"
     ]
    },
    {
     "name": "stderr",
     "output_type": "stream",
     "text": [
      " 46%|████▌     | 136/296 [19:08<35:49, 13.43s/it]"
     ]
    },
    {
     "name": "stdout",
     "output_type": "stream",
     "text": [
      "로그 수집 단계에서 로그 포맷을 정의하는 이유는 무엇인가요?\n"
     ]
    },
    {
     "name": "stderr",
     "output_type": "stream",
     "text": [
      " 46%|████▋     | 137/296 [19:12<27:54, 10.53s/it]"
     ]
    },
    {
     "name": "stdout",
     "output_type": "stream",
     "text": [
      "정기 점검 시 어떤 항목을 중점적으로 점검해야 하나요?\n"
     ]
    },
    {
     "name": "stderr",
     "output_type": "stream",
     "text": [
      " 47%|████▋     | 138/296 [19:18<23:52,  9.07s/it]"
     ]
    },
    {
     "name": "stdout",
     "output_type": "stream",
     "text": [
      "리뷰 회의에서 로그 및 모니터링 결과를 공유할 때 어떤 형식으로 진행하나요?\n"
     ]
    },
    {
     "name": "stderr",
     "output_type": "stream",
     "text": [
      " 47%|████▋     | 139/296 [19:24<21:35,  8.25s/it]"
     ]
    },
    {
     "name": "stdout",
     "output_type": "stream",
     "text": [
      "온보딩 절차에서 사전 준비 단계의 '계정 생성'에 대한 구체적인 절차는 무엇인가요?\n",
      "오늘 날씨가 흐리네, 우산 챙길지 판단해줘.\n"
     ]
    },
    {
     "name": "stderr",
     "output_type": "stream",
     "text": [
      " 47%|████▋     | 140/296 [19:32<21:27,  8.26s/it]"
     ]
    },
    {
     "name": "stdout",
     "output_type": "stream",
     "text": [
      "첫 주 일정에서 '오리엔테이션 참석' 시 어떤 내용이 다뤄지며, 참석해야 하는 이유는 무엇인가요?\n"
     ]
    },
    {
     "name": "stderr",
     "output_type": "stream",
     "text": [
      " 48%|████▊     | 141/296 [19:38<19:43,  7.63s/it]"
     ]
    },
    {
     "name": "stdout",
     "output_type": "stream",
     "text": [
      "도구 및 기술 스택 섹션에서 '버전 관리 시스템'으로 Git을 사용하는 이유는 무엇인가요?\n",
      "프론트엔드팀의 코드 리뷰 프로세스에서 리뷰 기준이나 피드백 반영 절차가 실제로 어떻게 운영되는지 구체적으로 설명해줄 수 있어?\n"
     ]
    },
    {
     "name": "stderr",
     "output_type": "stream",
     "text": [
      " 48%|████▊     | 142/296 [19:49<21:56,  8.55s/it]"
     ]
    },
    {
     "name": "stdout",
     "output_type": "stream",
     "text": [
      "학습 자료에서 '문서화된 가이드'는 어디에서 확인할 수 있으며, 어떤 종류의 정보가 포함되어 있나요?\n"
     ]
    },
    {
     "name": "stderr",
     "output_type": "stream",
     "text": [
      " 48%|████▊     | 143/296 [19:56<20:50,  8.17s/it]"
     ]
    },
    {
     "name": "stdout",
     "output_type": "stream",
     "text": [
      "초기 프로젝트 참여에서 '작은 기능 추가'는 어떤 방식으로 진행되며, 구체적인 예시가 있을까요?\n",
      "프론트엔드팀의 코드 리뷰 프로세스에서 주로 중점적으로 확인하는 항목과 실제 피드백 반영 절차에 대해 자세히 설명해 줄 수 있어?\n",
      "오늘 저녁에 간단하게 만들 수 있는 요리 하나 추천해줘.\n",
      "프론트엔드팀에서 코드 리뷰 시 발견된 보안 취약점이나 버그는 어떤 방식으로 추적 및 관리되고, 관련 이슈 해결 후에는 어떤 절차로 재검토가 이루어지는지 구체적으로 설명해 줄 수 있어?\n"
     ]
    },
    {
     "name": "stderr",
     "output_type": "stream",
     "text": [
      " 49%|████▊     | 144/296 [20:30<40:08, 15.85s/it]"
     ]
    },
    {
     "name": "stdout",
     "output_type": "stream",
     "text": [
      "피드백 및 개선 섹션의 '정기적인 피드백 세션'은 얼마나 자주 진행되며, 어떤 형식으로 이루어지나요?\n"
     ]
    },
    {
     "name": "stderr",
     "output_type": "stream",
     "text": [
      " 49%|████▉     | 145/296 [20:34<31:16, 12.42s/it]"
     ]
    },
    {
     "name": "stdout",
     "output_type": "stream",
     "text": [
      "문화 및 가치에서 '협업'의 중요성에 대해 구체적으로 설명해 주실 수 있나요?\n"
     ]
    },
    {
     "name": "stderr",
     "output_type": "stream",
     "text": [
      " 49%|████▉     | 146/296 [20:40<25:38, 10.25s/it]"
     ]
    },
    {
     "name": "stdout",
     "output_type": "stream",
     "text": [
      "체크리스트에서 '필수 도구 설치 및 사용법 숙지'는 어떤 도구를 포함하며, 설치 방법은 어떻게 되나요?\n"
     ]
    },
    {
     "name": "stderr",
     "output_type": "stream",
     "text": [
      " 50%|████▉     | 147/296 [20:50<25:49, 10.40s/it]"
     ]
    },
    {
     "name": "stdout",
     "output_type": "stream",
     "text": [
      "온보딩 과정에서 '멘토 지정'은 어떤 기준으로 이루어지며, 멘토와의 미팅은 어떻게 진행되나요?\n"
     ]
    },
    {
     "name": "stderr",
     "output_type": "stream",
     "text": [
      " 50%|█████     | 148/296 [20:55<21:41,  8.79s/it]"
     ]
    },
    {
     "name": "stdout",
     "output_type": "stream",
     "text": [
      "추가 지원 섹션에서 '멘토나 팀 리더에게 문의'할 때 어떤 종류의 질문을 하는 것이 좋나요?\n"
     ]
    },
    {
     "name": "stderr",
     "output_type": "stream",
     "text": [
      " 50%|█████     | 149/296 [21:00<18:38,  7.61s/it]"
     ]
    },
    {
     "name": "stdout",
     "output_type": "stream",
     "text": [
      "\"실패 사례 & 대응 기록 보고서에서 사건 발생일은 언제인가요?\"\n",
      "대응 조치 담당자는 누구야?\n",
      "사건 원인 상세 내용 알려줘.\n"
     ]
    },
    {
     "name": "stderr",
     "output_type": "stream",
     "text": [
      " 51%|█████     | 150/296 [21:15<23:23,  9.61s/it]"
     ]
    },
    {
     "name": "stdout",
     "output_type": "stream",
     "text": [
      "\"피드백 요청을 통해 도출할 개선 방안은 어떤 것들이 있을까요?\"\n",
      "피드백 회의 진행 방식 알려줘\n",
      "피드백 회의에서 도출된 개선 사항이나 Action Item의 진행 상황은 어떤 방식으로 주기적으로 업데이트되고 공유되는지 구체적으로 알려줄 수 있어?\n"
     ]
    },
    {
     "name": "stderr",
     "output_type": "stream",
     "text": [
      " 51%|█████     | 151/296 [21:42<36:14, 15.00s/it]"
     ]
    },
    {
     "name": "stdout",
     "output_type": "stream",
     "text": [
      "\"사건 발생일과 사건 설명을 구체적으로 보완하기 위한 개정 제안은 어떤 내용이 포함될 예정인가요?\"\n"
     ]
    },
    {
     "name": "stderr",
     "output_type": "stream",
     "text": [
      " 51%|█████▏    | 152/296 [21:46<28:18, 11.80s/it]"
     ]
    },
    {
     "name": "stdout",
     "output_type": "stream",
     "text": [
      "\"버그 수정 패치 배포 후 사용자에게 전달된 공지사항의 주요 내용은 무엇인가요?\"\n",
      "사용자 피드백 수집 방법 알려줘.\n",
      "피드백 회의 진행 방식 알려줘.\n",
      "피드백 회의에서 도출된 개선 사항이 실제 개발 일정과 마일스톤에 어떻게 반영되는지 구체적으로 설명해줄 수 있어?\n"
     ]
    },
    {
     "name": "stderr",
     "output_type": "stream",
     "text": [
      " 52%|█████▏    | 153/296 [22:10<36:16, 15.22s/it]"
     ]
    },
    {
     "name": "stdout",
     "output_type": "stream",
     "text": [
      "\"QA팀과의 정기적인 협업 미팅 일정 수립은 어떤 방식으로 진행될 예정인가요?\"\n"
     ]
    },
    {
     "name": "stderr",
     "output_type": "stream",
     "text": [
      " 52%|█████▏    | 154/296 [22:14<28:16, 11.95s/it]"
     ]
    },
    {
     "name": "stdout",
     "output_type": "stream",
     "text": [
      "프론트엔드팀 회의록에서 현재 진행 중인 프로젝트의 주요 마일스톤 준수 현황은 어떻게 되나요?\n"
     ]
    },
    {
     "name": "stderr",
     "output_type": "stream",
     "text": [
      " 52%|█████▏    | 155/296 [22:19<23:06,  9.83s/it]"
     ]
    },
    {
     "name": "stdout",
     "output_type": "stream",
     "text": [
      "프론트엔드팀 회의록에서 이영희가 맡고 있는 기능 개발의 UI/UX 테스트 단계에 대한 구체적인 내용은 무엇인가요?\n",
      "오늘 저녁 운동으로 할 수 있는 간단한 스트레칭 동작 하나 알려줘.\n"
     ]
    },
    {
     "name": "stderr",
     "output_type": "stream",
     "text": [
      " 53%|█████▎    | 156/296 [22:31<24:15, 10.40s/it]"
     ]
    },
    {
     "name": "stdout",
     "output_type": "stream",
     "text": [
      "프론트엔드팀 회의록에서 사용자 피드백을 수집하기 위한 설문조사 진행 계획은 어떻게 되어 있나요?\n"
     ]
    },
    {
     "name": "stderr",
     "output_type": "stream",
     "text": [
      " 53%|█████▎    | 157/296 [22:37<21:28,  9.27s/it]"
     ]
    },
    {
     "name": "stdout",
     "output_type": "stream",
     "text": [
      "프론트엔드팀 회의록에서 논의된 사용자 피드백 반영 방안의 개선 사항 우선순위는 어떻게 정리되었나요?\n"
     ]
    },
    {
     "name": "stderr",
     "output_type": "stream",
     "text": [
      " 53%|█████▎    | 158/296 [22:42<18:25,  8.01s/it]"
     ]
    },
    {
     "name": "stdout",
     "output_type": "stream",
     "text": [
      "프론트엔드팀 회의록에서 신규 기능 개발 우선순위로 설정된 기능들은 어떤 것들이 있으며, 그 이유는 무엇인가요?\n"
     ]
    },
    {
     "name": "stderr",
     "output_type": "stream",
     "text": [
      " 54%|█████▎    | 159/296 [22:48<16:48,  7.36s/it]"
     ]
    },
    {
     "name": "stdout",
     "output_type": "stream",
     "text": [
      "프론트엔드팀 회의록에서 다음 회의에서 발표할 구체적인 계획은 어떤 내용이 포함될 예정인가요?\n",
      "신규 기능 우선순위 선정 기준이 구체적으로 어떻게 정의되어 있는지 알 수 있을까?\n",
      "신규 기능 제안 리스트 보여줄래?\n"
     ]
    },
    {
     "name": "stderr",
     "output_type": "stream",
     "text": [
      " 54%|█████▍    | 160/296 [23:06<24:01, 10.60s/it]"
     ]
    },
    {
     "name": "stdout",
     "output_type": "stream",
     "text": [
      "프론트엔드팀 회의록에서 사용자 맞춤형 추천 기능의 개발 우선순위가 높은 이유는 무엇인가요?\n",
      "오늘 저녁에 간단하게 먹을 수 있는 메뉴 하나 추천해줘.\n",
      "사용자 맞춤형 추천 기능의 구체적인 개발 일정이나 마일스톤 계획은 어떻게 수립되어 있는지 알려줄 수 있어?\n"
     ]
    },
    {
     "name": "stderr",
     "output_type": "stream",
     "text": [
      " 54%|█████▍    | 161/296 [23:21<26:34, 11.81s/it]"
     ]
    },
    {
     "name": "stdout",
     "output_type": "stream",
     "text": [
      "프론트엔드팀 회의록에서 실시간 협업 기능의 개발 필요성에 대한 논의는 어떻게 이루어졌나요?\n"
     ]
    },
    {
     "name": "stderr",
     "output_type": "stream",
     "text": [
      " 55%|█████▍    | 162/296 [23:27<22:42, 10.17s/it]"
     ]
    },
    {
     "name": "stdout",
     "output_type": "stream",
     "text": [
      "프론트엔드팀 회의록에서 다국어 지원 기능의 개발 우선순위가 낮은 이유는 무엇인가요?\n",
      "오늘 저녁에 간단하게 먹을 수 있는 샐러드 하나 추천해줘.\n",
      "신규 기능 우선순위 선정 기준이 구체적으로 어떻게 정해졌는지 알 수 있을까?\n"
     ]
    },
    {
     "name": "stderr",
     "output_type": "stream",
     "text": [
      " 55%|█████▌    | 163/296 [23:38<22:59, 10.37s/it]"
     ]
    },
    {
     "name": "stdout",
     "output_type": "stream",
     "text": [
      "테스트 전략 및 QA 가이드에서 단위 테스트의 목적은 무엇인가요?\n"
     ]
    },
    {
     "name": "stderr",
     "output_type": "stream",
     "text": [
      " 55%|█████▌    | 164/296 [23:42<18:41,  8.50s/it]"
     ]
    },
    {
     "name": "stdout",
     "output_type": "stream",
     "text": [
      "테스트 종류 섹션에서 통합 테스트의 검증 포인트는 어떤 것들이 있나요?\n",
      "오늘 저녁 메뉴 하나 정해줘.\n",
      "협업 프로세스 단계별 검증 포인트도 알려줘.\n",
      "오늘 저녁으로 먹을 만한 음식 하나 골라줘.\n"
     ]
    },
    {
     "name": "stderr",
     "output_type": "stream",
     "text": [
      " 56%|█████▌    | 165/296 [23:57<22:36, 10.36s/it]"
     ]
    },
    {
     "name": "stdout",
     "output_type": "stream",
     "text": [
      "QA 프로세스의 테스트 계획 수립 단계에서 테스트 범위 정의는 어떻게 이루어지나요?\n"
     ]
    },
    {
     "name": "stderr",
     "output_type": "stream",
     "text": [
      " 56%|█████▌    | 166/296 [24:03<19:24,  8.96s/it]"
     ]
    },
    {
     "name": "stdout",
     "output_type": "stream",
     "text": [
      "기능 테스트의 도구로는 어떤 것들이 있으며, 그 목적은 무엇인가요?\n"
     ]
    },
    {
     "name": "stderr",
     "output_type": "stream",
     "text": [
      " 56%|█████▋    | 167/296 [24:07<16:17,  7.58s/it]"
     ]
    },
    {
     "name": "stdout",
     "output_type": "stream",
     "text": [
      "회귀 테스트의 검증 포인트에는 어떤 내용이 포함되나요?\n"
     ]
    },
    {
     "name": "stderr",
     "output_type": "stream",
     "text": [
      " 57%|█████▋    | 168/296 [24:11<13:48,  6.47s/it]"
     ]
    },
    {
     "name": "stdout",
     "output_type": "stream",
     "text": [
      "테스트 케이스 작성 단계에서 동료와의 리뷰는 어떤 과정을 포함하나요?\n"
     ]
    },
    {
     "name": "stderr",
     "output_type": "stream",
     "text": [
      " 57%|█████▋    | 169/296 [24:15<12:09,  5.75s/it]"
     ]
    },
    {
     "name": "stdout",
     "output_type": "stream",
     "text": [
      "테스트 실행 단계에서 발견된 버그는 어떻게 보고하고 처리하나요?\n"
     ]
    },
    {
     "name": "stderr",
     "output_type": "stream",
     "text": [
      " 57%|█████▋    | 170/296 [24:21<12:19,  5.87s/it]"
     ]
    },
    {
     "name": "stdout",
     "output_type": "stream",
     "text": [
      "테스트 결과 분석 단계에서 문제점을 도출하는 방법은 무엇인가요?\n",
      "오늘 저녁 메뉴 하나 추천해줘.\n"
     ]
    },
    {
     "name": "stderr",
     "output_type": "stream",
     "text": [
      " 58%|█████▊    | 171/296 [24:29<13:19,  6.40s/it]"
     ]
    },
    {
     "name": "stdout",
     "output_type": "stream",
     "text": [
      "지속적인 개선을 위한 피드백 공유는 QA 프로세스의 어떤 단계에서 이루어지나요?\n",
      "오늘 날씨가 변덕스럽네, 우산 챙길지 판단해줘.\n",
      "오늘 날씨가 변덕스러워, 우산 챙길지 결정해줘.\n"
     ]
    },
    {
     "name": "stderr",
     "output_type": "stream",
     "text": [
      " 58%|█████▊    | 172/296 [24:37<14:20,  6.94s/it]"
     ]
    },
    {
     "name": "stdout",
     "output_type": "stream",
     "text": [
      "테스트 환경 설정은 QA 프로세스의 어떤 단계에서 이루어지며, 그 중요성은 무엇인가요?\n"
     ]
    },
    {
     "name": "stderr",
     "output_type": "stream",
     "text": [
      " 58%|█████▊    | 173/296 [24:42<13:04,  6.38s/it]"
     ]
    },
    {
     "name": "stdout",
     "output_type": "stream",
     "text": [
      "코드 품질 유지를 위한 테스트의 중요성은 무엇인가요?\n"
     ]
    },
    {
     "name": "stderr",
     "output_type": "stream",
     "text": [
      " 59%|█████▉    | 174/296 [24:47<11:52,  5.84s/it]"
     ]
    },
    {
     "name": "stdout",
     "output_type": "stream",
     "text": [
      "사용자 경험 향상을 위한 테스트의 목적은 무엇인가요?\n"
     ]
    },
    {
     "name": "stderr",
     "output_type": "stream",
     "text": [
      " 59%|█████▉    | 175/296 [24:51<10:53,  5.40s/it]"
     ]
    },
    {
     "name": "stdout",
     "output_type": "stream",
     "text": [
      "각 기능에 대한 테스트 케이스 작성 시 고려해야 할 사항은 무엇인가요?\n"
     ]
    },
    {
     "name": "stderr",
     "output_type": "stream",
     "text": [
      " 59%|█████▉    | 176/296 [24:58<12:02,  6.02s/it]"
     ]
    },
    {
     "name": "stdout",
     "output_type": "stream",
     "text": [
      "테스트 일정 수립 단계에서 어떤 요소를 고려해야 하나요?\n"
     ]
    },
    {
     "name": "stderr",
     "output_type": "stream",
     "text": [
      " 60%|█████▉    | 177/296 [25:03<11:22,  5.73s/it]"
     ]
    },
    {
     "name": "stdout",
     "output_type": "stream",
     "text": [
      "새로운 기능 추가 후 회귀 테스트의 필요성은 무엇인가요?\n"
     ]
    },
    {
     "name": "stderr",
     "output_type": "stream",
     "text": [
      " 60%|██████    | 178/296 [25:09<10:54,  5.55s/it]"
     ]
    },
    {
     "name": "stdout",
     "output_type": "stream",
     "text": [
      "테스트 도구 목록을 업데이트할 때 어떤 기준을 적용해야 하나요?\n"
     ]
    },
    {
     "name": "stderr",
     "output_type": "stream",
     "text": [
      " 60%|██████    | 179/296 [25:14<10:33,  5.41s/it]"
     ]
    },
    {
     "name": "stdout",
     "output_type": "stream",
     "text": [
      "피드백을 통해 소프트웨어 품질을 지속적으로 향상시키기 위한 방법은 무엇인가요?\n",
      "오늘 저녁 메뉴 하나 정해줘.\n"
     ]
    },
    {
     "name": "stderr",
     "output_type": "stream",
     "text": [
      " 61%|██████    | 180/296 [25:25<13:55,  7.20s/it]"
     ]
    },
    {
     "name": "stdout",
     "output_type": "stream",
     "text": [
      "각 함수의 입력값에 대한 정확한 출력을 확인하는 것은 어떤 테스트 종류에 해당하나요?\n"
     ]
    },
    {
     "name": "stderr",
     "output_type": "stream",
     "text": [
      " 61%|██████    | 181/296 [25:29<11:41,  6.10s/it]"
     ]
    },
    {
     "name": "stdout",
     "output_type": "stream",
     "text": [
      "API와의 연동 테스트는 어떤 테스트 종류에서 수행되나요?\n"
     ]
    },
    {
     "name": "stderr",
     "output_type": "stream",
     "text": [
      " 61%|██████▏   | 182/296 [25:33<10:21,  5.46s/it]"
     ]
    },
    {
     "name": "stdout",
     "output_type": "stream",
     "text": [
      "테스트 결과를 문서화하는 이유는 무엇인가요?\n"
     ]
    },
    {
     "name": "stderr",
     "output_type": "stream",
     "text": [
      " 62%|██████▏   | 183/296 [25:36<09:19,  4.96s/it]"
     ]
    },
    {
     "name": "stdout",
     "output_type": "stream",
     "text": [
      "안녕!\n",
      "오늘 저녁에 어떤 간단한 요리 해볼지 추천해줘.\n",
      "프론트엔드팀 문서 목록 보여줘\n",
      "오늘 저녁에 간단하게 만들 수 있는 요리 하나 추천해줘.\n"
     ]
    },
    {
     "name": "stderr",
     "output_type": "stream",
     "text": [
      " 62%|██████▏   | 184/296 [25:49<13:32,  7.25s/it]"
     ]
    },
    {
     "name": "stdout",
     "output_type": "stream",
     "text": [
      "반가워!\n",
      "프론트엔드팀 문서 목록 보여줘\n",
      "오늘 저녁 메뉴 하나 정해줘.\n",
      "오늘 저녁으로 간편하게 먹을 수 있는 파스타 하나 추천해줘.\n"
     ]
    },
    {
     "name": "stderr",
     "output_type": "stream",
     "text": [
      " 62%|██████▎   | 185/296 [26:02<16:30,  8.92s/it]"
     ]
    },
    {
     "name": "stdout",
     "output_type": "stream",
     "text": [
      "안녕하세요!\n",
      "오늘 저녁에 간단하게 먹을 수 있는 메뉴 하나 추천해줘.\n",
      "프론트엔드팀에서 최근에 적용된 코드 리뷰 프로세스의 주요 변경사항이 있다면 구체적으로 알려줄 수 있어?\n",
      "코드 리뷰 시 활용되는 ESLint, Prettier 등 도구의 구체적인 설정 기준이나 팀 내에서 합의된 스타일 가이드가 있다면 알려줄 수 있어?\n"
     ]
    },
    {
     "name": "stderr",
     "output_type": "stream",
     "text": [
      " 63%|██████▎   | 186/296 [26:21<21:58, 11.99s/it]"
     ]
    },
    {
     "name": "stdout",
     "output_type": "stream",
     "text": [
      "오늘 날씨가 꿀꿀하네..\n"
     ]
    },
    {
     "name": "stderr",
     "output_type": "stream",
     "text": [
      " 63%|██████▎   | 187/296 [26:23<16:22,  9.02s/it]"
     ]
    },
    {
     "name": "stdout",
     "output_type": "stream",
     "text": [
      "반가워용\n",
      "오늘 저녁 메뉴 하나 정해줘.\n"
     ]
    },
    {
     "name": "stderr",
     "output_type": "stream",
     "text": [
      " 64%|██████▎   | 188/296 [26:27<13:31,  7.51s/it]"
     ]
    },
    {
     "name": "stdout",
     "output_type": "stream",
     "text": [
      "반갑습니다\n",
      "프론트엔드팀 조직도 문서 있어?\n"
     ]
    },
    {
     "name": "stderr",
     "output_type": "stream",
     "text": [
      " 64%|██████▍   | 189/296 [26:35<13:31,  7.58s/it]"
     ]
    },
    {
     "name": "stdout",
     "output_type": "stream",
     "text": [
      "안녕\n",
      "프론트엔드팀 문서 목록 보여줘\n"
     ]
    },
    {
     "name": "stderr",
     "output_type": "stream",
     "text": [
      " 64%|██████▍   | 190/296 [26:42<13:06,  7.42s/it]"
     ]
    },
    {
     "name": "stdout",
     "output_type": "stream",
     "text": [
      "반가워\n",
      "오늘 저녁에 간단하게 만들 수 있는 요리 하나 추천해줘.\n"
     ]
    },
    {
     "name": "stderr",
     "output_type": "stream",
     "text": [
      " 65%|██████▍   | 191/296 [26:47<11:43,  6.70s/it]"
     ]
    },
    {
     "name": "stdout",
     "output_type": "stream",
     "text": [
      "안녕하세요\n",
      "프론트엔드팀 문서 목록 보여줘\n"
     ]
    },
    {
     "name": "stderr",
     "output_type": "stream",
     "text": [
      " 65%|██████▍   | 192/296 [26:54<11:55,  6.88s/it]"
     ]
    },
    {
     "name": "stdout",
     "output_type": "stream",
     "text": [
      "반갑습니다\n",
      "오늘 저녁에 어울리는 간단한 요리 하나 추천해줘.\n",
      "프론트엔드팀 문서 목록 보여줘\n"
     ]
    },
    {
     "name": "stderr",
     "output_type": "stream",
     "text": [
      " 65%|██████▌   | 193/296 [27:04<13:19,  7.76s/it]"
     ]
    },
    {
     "name": "stdout",
     "output_type": "stream",
     "text": [
      "날씨 좋네!\n",
      "프론트엔드팀 문서 목록 보여줘\n",
      "오늘 저녁 메뉴 하나 정해줘.\n",
      "프론트엔드팀의 협업 프로세스 문서에서 코드 리뷰 절차와 피드백 방식이 어떻게 정의되어 있는지 구체적으로 알려줄 수 있어?\n"
     ]
    },
    {
     "name": "stderr",
     "output_type": "stream",
     "text": [
      " 66%|██████▌   | 194/296 [27:25<19:43, 11.61s/it]"
     ]
    },
    {
     "name": "stdout",
     "output_type": "stream",
     "text": [
      "요즘 날씨가 정말 변덕스럽네.\n",
      "오늘 저녁에 어울리는 간단한 안주 하나 추천해줘.\n",
      "오늘 저녁 간단한 요리 하나 추천해줘.\n"
     ]
    },
    {
     "name": "stderr",
     "output_type": "stream",
     "text": [
      " 66%|██████▌   | 195/296 [27:32<17:23, 10.33s/it]"
     ]
    },
    {
     "name": "stdout",
     "output_type": "stream",
     "text": [
      "오늘 점심 메뉴 추천해줘.\n",
      "오늘 저녁에 듣기 좋은 음악 장르 하나 추천해줘.\n",
      "오늘 간단하게 할 수 있는 스트레칭 동작 하나 알려줘.\n"
     ]
    },
    {
     "name": "stderr",
     "output_type": "stream",
     "text": [
      " 66%|██████▌   | 196/296 [27:40<16:05,  9.66s/it]"
     ]
    },
    {
     "name": "stdout",
     "output_type": "stream",
     "text": [
      "오늘 저녁 뭐 먹을까?\n",
      "프론트엔드팀 문서 목록 보여줘\n",
      "오늘 저녁에 어울리는 간단한 요리 하나 추천해줘.\n",
      "오늘 저녁에 간단하게 만들 수 있는 파스타 요리 하나 추천해줘.\n"
     ]
    },
    {
     "name": "stderr",
     "output_type": "stream",
     "text": [
      " 67%|██████▋   | 197/296 [27:55<18:43, 11.35s/it]"
     ]
    },
    {
     "name": "stdout",
     "output_type": "stream",
     "text": [
      "요즘 트렌드인 패션 아이템 뭐가 있을까?\n",
      "오늘 저녁 메뉴 하나 정해줘.\n"
     ]
    },
    {
     "name": "stderr",
     "output_type": "stream",
     "text": [
      " 67%|██████▋   | 198/296 [27:59<15:01,  9.20s/it]"
     ]
    },
    {
     "name": "stdout",
     "output_type": "stream",
     "text": [
      "사무실에서 듣기 좋은 팟캐스트 추천해 줄 수 있어?\n"
     ]
    },
    {
     "name": "stderr",
     "output_type": "stream",
     "text": [
      " 67%|██████▋   | 199/296 [28:03<11:58,  7.40s/it]"
     ]
    },
    {
     "name": "stdout",
     "output_type": "stream",
     "text": [
      "휴식 시간에 할 만한 간단한 게임 있으면 알려줘!\n",
      "프론트엔드팀 온보딩 문서 있어?\n"
     ]
    },
    {
     "name": "stderr",
     "output_type": "stream",
     "text": [
      " 68%|██████▊   | 200/296 [28:11<12:06,  7.56s/it]"
     ]
    },
    {
     "name": "stdout",
     "output_type": "stream",
     "text": [
      "최근에 화제가 된 뉴스는 뭐가 있을까?\n"
     ]
    },
    {
     "name": "stderr",
     "output_type": "stream",
     "text": [
      " 68%|██████▊   | 201/296 [28:13<09:38,  6.09s/it]"
     ]
    },
    {
     "name": "stdout",
     "output_type": "stream",
     "text": [
      "오늘 날씨 어때?\n"
     ]
    },
    {
     "name": "stderr",
     "output_type": "stream",
     "text": [
      " 68%|██████▊   | 202/296 [28:15<07:44,  4.94s/it]"
     ]
    },
    {
     "name": "stdout",
     "output_type": "stream",
     "text": [
      "내가 가볼 만한 여행지 추천해 줘!\n"
     ]
    },
    {
     "name": "stderr",
     "output_type": "stream",
     "text": [
      " 69%|██████▊   | 203/296 [28:18<06:28,  4.18s/it]"
     ]
    },
    {
     "name": "stdout",
     "output_type": "stream",
     "text": [
      "재밌는 책 읽고 싶은데, 추천할 만한 거 있어?\n",
      "프론트엔드팀 문서 목록 보여줘\n",
      "프론트엔드팀의 협업 프로세스 문서에서 코드 리뷰 절차와 피드백 방식이 어떻게 정의되어 있는지 자세히 알려줄 수 있어?\n"
     ]
    },
    {
     "name": "stderr",
     "output_type": "stream",
     "text": [
      " 69%|██████▉   | 204/296 [28:34<11:46,  7.68s/it]"
     ]
    },
    {
     "name": "stdout",
     "output_type": "stream",
     "text": [
      "요즘 인기 있는 TV 프로그램 있으면 알려줘!\n",
      "오늘 저녁에 간단하게 먹을 수 있는 음식 하나 추천해줘.\n",
      "오늘 저녁에 간단한 간식 하나 정해줘.\n",
      "오늘 간단하게 할 수 있는 스트레칭 동작 하나 추천해줘.\n"
     ]
    },
    {
     "name": "stderr",
     "output_type": "stream",
     "text": [
      " 69%|██████▉   | 205/296 [28:42<11:59,  7.91s/it]"
     ]
    },
    {
     "name": "stdout",
     "output_type": "stream",
     "text": [
      "간단한 요리 레시피 알려줄래?\n",
      "프론트엔드팀 문서 목록 보여줘\n",
      "오늘 저녁 메뉴 하나 정해줘.\n",
      "오늘 저녁 메뉴 하나 골라줘.\n"
     ]
    },
    {
     "name": "stderr",
     "output_type": "stream",
     "text": [
      " 70%|██████▉   | 206/296 [28:55<13:52,  9.25s/it]"
     ]
    },
    {
     "name": "stdout",
     "output_type": "stream",
     "text": [
      "주말에 놀러 갈 만한 장소 추천해 줘!\n",
      "오늘 저녁에 듣기 좋은 음악 장르 하나 추천해줘.\n"
     ]
    },
    {
     "name": "stderr",
     "output_type": "stream",
     "text": [
      " 70%|██████▉   | 207/296 [28:59<11:45,  7.93s/it]"
     ]
    },
    {
     "name": "stdout",
     "output_type": "stream",
     "text": [
      "요즘 핫한 카페나 맛집 정보 있으면 알려줘!\n",
      "오늘 날씨가 변덕스럽네, 우산 챙길지 결정해줘.\n",
      "프론트엔드팀의 기술 스택이나 개발 환경에 대한 표준 문서가 있다면, 주요 내용이나 도입 배경을 설명해줄 수 있어?\n",
      "프론트엔드팀의 협업 프로세스 문서에서 코드 리뷰 절차나 피드백 방식이 어떻게 정의되어 있는지 구체적으로 설명해줄 수 있어?\n"
     ]
    },
    {
     "name": "stderr",
     "output_type": "stream",
     "text": [
      " 70%|███████   | 208/296 [29:19<16:51, 11.49s/it]"
     ]
    },
    {
     "name": "stdout",
     "output_type": "stream",
     "text": [
      "건강한 스낵 아이디어가 있다면 알려줘!\n",
      "오늘 운동할 만한 간단한 스트레칭 알려줘.\n"
     ]
    },
    {
     "name": "stderr",
     "output_type": "stream",
     "text": [
      " 71%|███████   | 209/296 [29:26<14:34, 10.05s/it]"
     ]
    },
    {
     "name": "stdout",
     "output_type": "stream",
     "text": [
      "요즘 사람들 사이에서 인기 있는 활동이 뭐지?\n",
      "오늘 저녁 메뉴 하나 정해줘.\n"
     ]
    },
    {
     "name": "stderr",
     "output_type": "stream",
     "text": [
      " 71%|███████   | 210/296 [29:31<12:26,  8.68s/it]"
     ]
    },
    {
     "name": "stdout",
     "output_type": "stream",
     "text": [
      "오늘 날씨 어때?\n"
     ]
    },
    {
     "name": "stderr",
     "output_type": "stream",
     "text": [
      " 71%|███████▏  | 211/296 [29:33<09:29,  6.70s/it]"
     ]
    },
    {
     "name": "stdout",
     "output_type": "stream",
     "text": [
      "요즘 핫한 영화 추천해줄 수 있어?\n"
     ]
    },
    {
     "name": "stderr",
     "output_type": "stream",
     "text": [
      " 72%|███████▏  | 212/296 [29:36<07:43,  5.52s/it]"
     ]
    },
    {
     "name": "stdout",
     "output_type": "stream",
     "text": [
      "좋아하는 음악 있으면 알려줘!\n"
     ]
    },
    {
     "name": "stderr",
     "output_type": "stream",
     "text": [
      " 72%|███████▏  | 213/296 [29:39<06:17,  4.54s/it]"
     ]
    },
    {
     "name": "stdout",
     "output_type": "stream",
     "text": [
      "최근에 나온 책 중에 읽어볼 만한 거 있어?\n"
     ]
    },
    {
     "name": "stderr",
     "output_type": "stream",
     "text": [
      " 72%|███████▏  | 214/296 [29:41<05:19,  3.90s/it]"
     ]
    },
    {
     "name": "stdout",
     "output_type": "stream",
     "text": [
      "오늘 기분 좋게 해줄 만한 명언 하나 알려줘!\n",
      "오늘 저녁에 어울리는 간단한 요리 하나 추천해줘.\n"
     ]
    },
    {
     "name": "stderr",
     "output_type": "stream",
     "text": [
      " 73%|███████▎  | 215/296 [29:47<05:58,  4.42s/it]"
     ]
    },
    {
     "name": "stdout",
     "output_type": "stream",
     "text": [
      "나에게 어울리는 디저트 추천해줘!\n",
      "오늘 날씨가 흐리네, 우산 챙길지 판단해줘.\n"
     ]
    },
    {
     "name": "stderr",
     "output_type": "stream",
     "text": [
      " 73%|███████▎  | 216/296 [29:52<06:11,  4.64s/it]"
     ]
    },
    {
     "name": "stdout",
     "output_type": "stream",
     "text": [
      "주말에 할 만한 활동이 있을까?\n",
      "오늘 저녁에 간단하게 먹을 수 있는 음식 하나 추천해줘.\n"
     ]
    },
    {
     "name": "stderr",
     "output_type": "stream",
     "text": [
      " 73%|███████▎  | 217/296 [29:56<06:09,  4.68s/it]"
     ]
    },
    {
     "name": "stdout",
     "output_type": "stream",
     "text": [
      "요즘 인기 있는 드라마 뭐야?\n",
      "프론트엔드팀에서 최근에 업데이트된 기술 스택이나 도입된 신규 라이브러리가 있다면, 관련 문서에서 구체적으로 어떤 변경 사항이 있었는지 알려줄 수 있어?\n"
     ]
    },
    {
     "name": "stderr",
     "output_type": "stream",
     "text": [
      " 74%|███████▎  | 218/296 [30:08<08:53,  6.85s/it]"
     ]
    },
    {
     "name": "stdout",
     "output_type": "stream",
     "text": [
      "나랑 잘 맞는 취미가 뭐라고 생각해?\n",
      "프론트엔드팀의 온보딩 문서에는 신규 팀원이 숙지해야 할 주요 개발 환경이나 툴에 대한 안내가 포함되어 있어?\n",
      "오늘 저녁에 어울리는 간단한 간식 하나 추천해줘.\n"
     ]
    },
    {
     "name": "stderr",
     "output_type": "stream",
     "text": [
      " 74%|███████▍  | 219/296 [30:21<11:01,  8.59s/it]"
     ]
    },
    {
     "name": "stdout",
     "output_type": "stream",
     "text": [
      "스트레스 해소하는 방법 몇 가지 알려줘!\n"
     ]
    },
    {
     "name": "stderr",
     "output_type": "stream",
     "text": [
      " 74%|███████▍  | 220/296 [30:25<09:03,  7.15s/it]"
     ]
    },
    {
     "name": "stdout",
     "output_type": "stream",
     "text": [
      "재미있는 팟캐스트 추천해줄래?\n",
      "오늘 날씨가 변덕스럽네, 우산 챙길지 결정해줘.\n"
     ]
    },
    {
     "name": "stderr",
     "output_type": "stream",
     "text": [
      " 75%|███████▍  | 221/296 [30:29<07:52,  6.30s/it]"
     ]
    },
    {
     "name": "stdout",
     "output_type": "stream",
     "text": [
      "다음에 가볼 만한 여행지 있으면 알려줘!\n"
     ]
    },
    {
     "name": "stderr",
     "output_type": "stream",
     "text": [
      " 75%|███████▌  | 222/296 [30:31<06:18,  5.11s/it]"
     ]
    },
    {
     "name": "stdout",
     "output_type": "stream",
     "text": [
      "내가 좋아할 만한 게임 뭐 있을까?\n"
     ]
    },
    {
     "name": "stderr",
     "output_type": "stream",
     "text": [
      " 75%|███████▌  | 223/296 [30:34<05:05,  4.19s/it]"
     ]
    },
    {
     "name": "stdout",
     "output_type": "stream",
     "text": [
      "나에게 맞는 카페 스타일은 뭐일까?\n",
      "오늘 저녁에 어떤 간단한 요리를 해볼지 하나 정해줘.\n",
      "오늘 날씨가 흐리네, 우산 챙길지 판단해줘.\n"
     ]
    },
    {
     "name": "stderr",
     "output_type": "stream",
     "text": [
      " 76%|███████▌  | 224/296 [30:40<05:43,  4.77s/it]"
     ]
    },
    {
     "name": "stdout",
     "output_type": "stream",
     "text": [
      "요즘 트렌디한 패션 아이템 추천해줘!\n",
      "오늘 저녁에 간단하게 만들 수 있는 요리 하나 정해줘.\n"
     ]
    },
    {
     "name": "stderr",
     "output_type": "stream",
     "text": [
      " 76%|███████▌  | 225/296 [30:44<05:32,  4.68s/it]"
     ]
    },
    {
     "name": "stdout",
     "output_type": "stream",
     "text": [
      "분위기 좋은 음악 추천해줄 수 있어?\n",
      "오늘 저녁에 먹을 만한 간단한 요리 하나 추천해줘.\n",
      "프론트엔드팀에서 최근에 적용된 코드 리뷰 프로세스의 주요 변경사항이 있다면 구체적으로 알려줄 수 있어?\n"
     ]
    },
    {
     "name": "stderr",
     "output_type": "stream",
     "text": [
      " 76%|███████▋  | 226/296 [30:53<06:56,  5.94s/it]"
     ]
    },
    {
     "name": "stdout",
     "output_type": "stream",
     "text": [
      "오늘 기분 좋은 음악 추천해줄 수 있어?\n",
      "오늘 저녁 메뉴 하나 정해줘.\n"
     ]
    },
    {
     "name": "stderr",
     "output_type": "stream",
     "text": [
      " 77%|███████▋  | 227/296 [30:59<06:55,  6.03s/it]"
     ]
    },
    {
     "name": "stdout",
     "output_type": "stream",
     "text": [
      "최근에 인기 있는 영화 어떤 게 있을까?\n",
      "오늘 저녁에 어울리는 간단한 디저트 하나 추천해줘.\n"
     ]
    },
    {
     "name": "stderr",
     "output_type": "stream",
     "text": [
      " 77%|███████▋  | 228/296 [31:03<06:12,  5.48s/it]"
     ]
    },
    {
     "name": "stdout",
     "output_type": "stream",
     "text": [
      "요즘 핫한 책 제목 좀 알려줘!\n",
      "프론트엔드팀에서 최근에 참고한 기술 트렌드나 도입한 신규 라이브러리 목록을 알 수 있을까?\n",
      "프론트엔드팀의 코드 리뷰 프로세스에서 중점적으로 확인하는 항목이나 체크리스트가 있다면 구체적으로 알려줄 수 있을까?\n",
      "테스트 전략 및 QA 가이드 내용도 알려줘.\n"
     ]
    },
    {
     "name": "stderr",
     "output_type": "stream",
     "text": [
      " 77%|███████▋  | 229/296 [31:30<13:05, 11.73s/it]"
     ]
    },
    {
     "name": "stdout",
     "output_type": "stream",
     "text": [
      "주말에 하기 좋은 취미 활동은 뭐가 있을까?\n"
     ]
    },
    {
     "name": "stderr",
     "output_type": "stream",
     "text": [
      " 78%|███████▊  | 230/296 [31:32<09:52,  8.98s/it]"
     ]
    },
    {
     "name": "stdout",
     "output_type": "stream",
     "text": [
      "새로운 팟캐스트 추천해줄 수 있어?\n",
      "프론트엔드팀 문서 목록 보여줘\n"
     ]
    },
    {
     "name": "stderr",
     "output_type": "stream",
     "text": [
      " 78%|███████▊  | 231/296 [31:40<09:12,  8.49s/it]"
     ]
    },
    {
     "name": "stdout",
     "output_type": "stream",
     "text": [
      "가볍게 읽기 좋은 웹툰 뭐가 있을까?\n"
     ]
    },
    {
     "name": "stderr",
     "output_type": "stream",
     "text": [
      " 78%|███████▊  | 232/296 [31:43<07:16,  6.82s/it]"
     ]
    },
    {
     "name": "stdout",
     "output_type": "stream",
     "text": [
      "요즘 유행하는 요리법 알고 있어?\n",
      "오늘 저녁에 듣기 좋은 음악 장르 하나 추천해줘.\n",
      "프론트엔드팀 문서 목록 보여줘\n"
     ]
    },
    {
     "name": "stderr",
     "output_type": "stream",
     "text": [
      " 79%|███████▊  | 233/296 [31:53<08:21,  7.96s/it]"
     ]
    },
    {
     "name": "stdout",
     "output_type": "stream",
     "text": [
      "최근에 나온 게임 중에 추천할 만한 게 있을까?\n"
     ]
    },
    {
     "name": "stderr",
     "output_type": "stream",
     "text": [
      " 79%|███████▉  | 234/296 [31:55<06:27,  6.25s/it]"
     ]
    },
    {
     "name": "stdout",
     "output_type": "stream",
     "text": [
      "오늘의 날씨에 딱 맞는 음악이 있을까?\n",
      "프론트엔드팀에서 최근에 참고한 기술 스택이나 라이브러리 목록을 문서로 정리한 자료가 있을까?\n"
     ]
    },
    {
     "name": "stderr",
     "output_type": "stream",
     "text": [
      " 79%|███████▉  | 235/296 [32:03<06:36,  6.50s/it]"
     ]
    },
    {
     "name": "stdout",
     "output_type": "stream",
     "text": [
      "스트레스 풀기 좋은 영화 한 편 추천해줘!\n",
      "프론트엔드팀 문서 목록 보여줘\n",
      "오늘 저녁에 간단하게 즐길 수 있는 요리 하나 추천해줘.\n"
     ]
    },
    {
     "name": "stderr",
     "output_type": "stream",
     "text": [
      " 80%|███████▉  | 236/296 [32:18<09:04,  9.08s/it]"
     ]
    },
    {
     "name": "stdout",
     "output_type": "stream",
     "text": [
      "출퇴근길에 듣기 좋은 음악 리스트 좀 만들어줄래?\n"
     ]
    },
    {
     "name": "stderr",
     "output_type": "stream",
     "text": [
      " 80%|████████  | 237/296 [32:22<07:39,  7.78s/it]"
     ]
    },
    {
     "name": "stdout",
     "output_type": "stream",
     "text": [
      "여름에 가기 좋은 여행지 추천해줄 수 있어?\n",
      "오늘 저녁에 어떤 간단한 요리를 해볼까?\n"
     ]
    },
    {
     "name": "stderr",
     "output_type": "stream",
     "text": [
      " 80%|████████  | 238/296 [32:29<07:19,  7.57s/it]"
     ]
    },
    {
     "name": "stdout",
     "output_type": "stream",
     "text": [
      "기분 전환에 좋은 활동 뭐가 있을까?\n",
      "오늘 저녁에 간단하게 먹을 수 있는 샐러드 하나 추천해줘.\n"
     ]
    },
    {
     "name": "stderr",
     "output_type": "stream",
     "text": [
      " 81%|████████  | 239/296 [32:37<07:09,  7.54s/it]"
     ]
    },
    {
     "name": "stdout",
     "output_type": "stream",
     "text": [
      "맛있는 디저트 레시피 알고 있어?\n",
      "프론트엔드팀 문서 작성 가이드 있어?\n"
     ]
    },
    {
     "name": "stderr",
     "output_type": "stream",
     "text": [
      " 81%|████████  | 240/296 [32:46<07:26,  7.98s/it]"
     ]
    },
    {
     "name": "stdout",
     "output_type": "stream",
     "text": [
      "간단한 요리 레시피 하나 알려줘.\n"
     ]
    },
    {
     "name": "stderr",
     "output_type": "stream",
     "text": [
      " 81%|████████▏ | 241/296 [32:49<05:50,  6.38s/it]"
     ]
    },
    {
     "name": "stdout",
     "output_type": "stream",
     "text": [
      "최근에 인기 있는 앱 있으면 추천해 줘.\n",
      "오늘 저녁 메뉴 하나 정해줘.\n",
      "오늘 저녁에 간단하게 먹을 수 있는 메뉴 하나 추천해줘.\n",
      "프론트엔드팀 문서 목록 보여줘\n"
     ]
    },
    {
     "name": "stderr",
     "output_type": "stream",
     "text": [
      " 82%|████████▏ | 242/296 [33:03<07:48,  8.67s/it]"
     ]
    },
    {
     "name": "stdout",
     "output_type": "stream",
     "text": [
      "여행지로 가기 좋은 곳이 어디일까?\n",
      "오늘 저녁 메뉴 하나 정해줘.\n",
      "프론트엔드팀 문서 목록 보여줘\n"
     ]
    },
    {
     "name": "stderr",
     "output_type": "stream",
     "text": [
      " 82%|████████▏ | 243/296 [33:14<08:29,  9.61s/it]"
     ]
    },
    {
     "name": "stdout",
     "output_type": "stream",
     "text": [
      "친구한테 선물하기 좋은 아이템 뭐가 있을까?\n",
      "프론트엔드팀 온보딩 자료 있어?\n"
     ]
    },
    {
     "name": "stderr",
     "output_type": "stream",
     "text": [
      " 82%|████████▏ | 244/296 [33:24<08:26,  9.75s/it]"
     ]
    },
    {
     "name": "stdout",
     "output_type": "stream",
     "text": [
      "이 계절에 가볼 만한 카페 있어?\n"
     ]
    },
    {
     "name": "stderr",
     "output_type": "stream",
     "text": [
      " 83%|████████▎ | 245/296 [33:27<06:23,  7.53s/it]"
     ]
    },
    {
     "name": "stdout",
     "output_type": "stream",
     "text": [
      "요즘 유행하는 패션 트렌드가 뭐야?\n"
     ]
    },
    {
     "name": "stderr",
     "output_type": "stream",
     "text": [
      " 83%|████████▎ | 246/296 [33:29<04:56,  5.94s/it]"
     ]
    },
    {
     "name": "stdout",
     "output_type": "stream",
     "text": [
      "마음에 드는 음악 장르 추천해줘.\n",
      "오늘 저녁 메뉴 하나 정해줘.\n",
      "프론트엔드팀에서 최근에 참고할 만한 코드 스타일 가이드나 베스트 프랙티스 문서가 있다면 알려줄 수 있어?\n",
      "프론트엔드팀의 코드 리뷰 프로세스는 구체적으로 어떻게 진행되고, 리뷰 시 중점적으로 확인하는 항목에는 어떤 것들이 있는지 알려줄 수 있어?\n"
     ]
    },
    {
     "name": "stderr",
     "output_type": "stream",
     "text": [
      " 83%|████████▎ | 247/296 [33:49<08:18, 10.18s/it]"
     ]
    },
    {
     "name": "stdout",
     "output_type": "stream",
     "text": [
      "편안하게 쉴 수 있는 장소가 있을까?\n",
      "프론트엔드팀 휴게 공간 이용 시 사전 예약이나 이용 시간 제한 같은 정책이 정해져 있는지 궁금해.\n",
      "프론트엔드팀의 주간 업무 계획이나 회의록에서 언급된 '정기적인 피드백 세션'은 구체적으로 어떤 방식으로 진행되고, 피드백 결과가 팀 내에서 어떻게 공유되는지 알 수 있을까?\n"
     ]
    },
    {
     "name": "stderr",
     "output_type": "stream",
     "text": [
      " 84%|████████▍ | 248/296 [34:03<08:58, 11.21s/it]"
     ]
    },
    {
     "name": "stdout",
     "output_type": "stream",
     "text": [
      "영화관에서 볼 만한 좋은 영화가 뭐야?\n"
     ]
    },
    {
     "name": "stderr",
     "output_type": "stream",
     "text": [
      " 84%|████████▍ | 249/296 [34:05<06:40,  8.51s/it]"
     ]
    },
    {
     "name": "stdout",
     "output_type": "stream",
     "text": [
      "효과적인 공부 방법 좀 알려줄 수 있어?\n"
     ]
    },
    {
     "name": "stderr",
     "output_type": "stream",
     "text": [
      " 84%|████████▍ | 250/296 [34:08<05:20,  6.96s/it]"
     ]
    },
    {
     "name": "stdout",
     "output_type": "stream",
     "text": [
      "간단하게 즐길 수 있는 게임 추천해 줘.\n",
      "프론트엔드팀에서 진행한 프로젝트 중 게임 개발 사례나 관련 문서가 있다면, 어떤 기술 스택과 구조를 사용했는지 알 수 있을까?\n"
     ]
    },
    {
     "name": "stderr",
     "output_type": "stream",
     "text": [
      " 85%|████████▍ | 251/296 [34:18<05:46,  7.69s/it]"
     ]
    },
    {
     "name": "stdout",
     "output_type": "stream",
     "text": [
      "긴장을 푸는 방법 뭐가 있을까?\n",
      "오늘 저녁에 어울리는 간단한 디저트 하나 추천해줘.\n"
     ]
    },
    {
     "name": "stderr",
     "output_type": "stream",
     "text": [
      " 85%|████████▌ | 252/296 [34:25<05:28,  7.46s/it]"
     ]
    },
    {
     "name": "stdout",
     "output_type": "stream",
     "text": [
      "자기계발에 좋은 강좌 추천해 줄래?\n",
      "오늘 저녁에 어떤 간단한 요리를 해볼까?\n"
     ]
    },
    {
     "name": "stderr",
     "output_type": "stream",
     "text": [
      " 85%|████████▌ | 253/296 [34:29<04:46,  6.65s/it]"
     ]
    },
    {
     "name": "stdout",
     "output_type": "stream",
     "text": [
      "나만의 루틴 만들기에 대한 팁이 있을까?\n",
      "오늘 저녁에 어떤 간단한 요리를 해볼까?\n"
     ]
    },
    {
     "name": "stderr",
     "output_type": "stream",
     "text": [
      " 86%|████████▌ | 254/296 [34:36<04:43,  6.74s/it]"
     ]
    },
    {
     "name": "stdout",
     "output_type": "stream",
     "text": [
      "요즘 즐겨 보는 TV 프로그램은 뭐야?\n",
      "프론트엔드팀의 코드 리뷰 프로세스나 가이드라인이 문서화되어 있다면, 주요 체크리스트나 중점적으로 검토하는 항목이 무엇인지 알려줄 수 있어?\n"
     ]
    },
    {
     "name": "stderr",
     "output_type": "stream",
     "text": [
      " 86%|████████▌ | 255/296 [34:47<05:25,  7.94s/it]"
     ]
    },
    {
     "name": "stdout",
     "output_type": "stream",
     "text": [
      "좋은 요리 레시피 있으면 알려줘.\n"
     ]
    },
    {
     "name": "stderr",
     "output_type": "stream",
     "text": [
      " 86%|████████▋ | 256/296 [34:50<04:11,  6.29s/it]"
     ]
    },
    {
     "name": "stdout",
     "output_type": "stream",
     "text": [
      "이런 날씨에 어울리는 음악은 뭐야?\n",
      "오늘 운동할 만한 간단한 스트레칭 알려줘.\n"
     ]
    },
    {
     "name": "stderr",
     "output_type": "stream",
     "text": [
      " 87%|████████▋ | 257/296 [34:56<04:11,  6.44s/it]"
     ]
    },
    {
     "name": "stdout",
     "output_type": "stream",
     "text": [
      "웹툰 중에서 추천할 만한 게 있어?\n"
     ]
    },
    {
     "name": "stderr",
     "output_type": "stream",
     "text": [
      " 87%|████████▋ | 258/296 [34:59<03:20,  5.28s/it]"
     ]
    },
    {
     "name": "stdout",
     "output_type": "stream",
     "text": [
      "최근에 인기 있는 게임 뭐가 있는지 알고 싶어.\n",
      "오늘 저녁에 간단하게 만들 수 있는 요리 하나 추천해줘.\n"
     ]
    },
    {
     "name": "stderr",
     "output_type": "stream",
     "text": [
      " 88%|████████▊ | 259/296 [35:07<03:47,  6.15s/it]"
     ]
    },
    {
     "name": "stdout",
     "output_type": "stream",
     "text": [
      "좋은 운동 방법이나 루틴이 있으면 알려줘.\n"
     ]
    },
    {
     "name": "stderr",
     "output_type": "stream",
     "text": [
      " 88%|████████▊ | 260/296 [35:10<03:02,  5.06s/it]"
     ]
    },
    {
     "name": "stdout",
     "output_type": "stream",
     "text": [
      "기분 전환에 좋은 활동 추천해줘.\n",
      "오늘 저녁 메뉴 하나 정해줘.\n",
      "오늘 저녁으로 가벼운 파스타 하나 추천해줘.\n"
     ]
    },
    {
     "name": "stderr",
     "output_type": "stream",
     "text": [
      " 88%|████████▊ | 261/296 [35:20<03:54,  6.70s/it]"
     ]
    },
    {
     "name": "stdout",
     "output_type": "stream",
     "text": [
      "친구에게 선물할 만한 아이템 있을까?\n"
     ]
    },
    {
     "name": "stderr",
     "output_type": "stream",
     "text": [
      " 89%|████████▊ | 262/296 [35:22<03:02,  5.38s/it]"
     ]
    },
    {
     "name": "stdout",
     "output_type": "stream",
     "text": [
      "오늘 하루 마무리하는 좋은 방법이 있을까?\n",
      "프론트엔드팀 업무 인수인계 문서 있어?\n"
     ]
    },
    {
     "name": "stderr",
     "output_type": "stream",
     "text": [
      " 89%|████████▉ | 263/296 [35:29<03:11,  5.79s/it]"
     ]
    },
    {
     "name": "stdout",
     "output_type": "stream",
     "text": [
      "제철 음식 중에 추천할 만한 것이 뭐야?\n",
      "프론트엔드팀 회식비 규정 문서 있어?\n"
     ]
    },
    {
     "name": "stderr",
     "output_type": "stream",
     "text": [
      " 89%|████████▉ | 264/296 [35:39<03:47,  7.10s/it]"
     ]
    },
    {
     "name": "stdout",
     "output_type": "stream",
     "text": [
      "기분이 좋을 때 듣기 좋은 음악은 뭐야?\n",
      "오늘 저녁 메뉴 하나 정해줘.\n",
      "프론트엔드팀 온보딩 문서 있어?\n"
     ]
    },
    {
     "name": "stderr",
     "output_type": "stream",
     "text": [
      " 90%|████████▉ | 265/296 [35:50<04:13,  8.19s/it]"
     ]
    },
    {
     "name": "stdout",
     "output_type": "stream",
     "text": [
      "이색적인 여행지 추천해줄 수 있어?\n"
     ]
    },
    {
     "name": "stderr",
     "output_type": "stream",
     "text": [
      " 90%|████████▉ | 266/296 [35:52<03:11,  6.37s/it]"
     ]
    },
    {
     "name": "stdout",
     "output_type": "stream",
     "text": [
      "재미있는 일화나 유머가 있으면 들려줘.\n",
      "오늘 저녁에 간단하게 만들 수 있는 요리 하나 추천해줘.\n",
      "오늘 저녁에 간편하게 만들 수 있는 샐러드 하나 골라줘.\n",
      "오늘 저녁에 간단하게 만들 수 있는 스낵 하나 정해줘.\n"
     ]
    },
    {
     "name": "stderr",
     "output_type": "stream",
     "text": [
      " 90%|█████████ | 267/296 [36:01<03:26,  7.10s/it]"
     ]
    },
    {
     "name": "stdout",
     "output_type": "stream",
     "text": [
      "나만의 루틴을 만드는 데 도움이 될 만한 조언이 있을까?\n",
      "오늘 저녁에 어떤 간단한 요리를 해볼까?\n",
      "프론트엔드팀 업무 매뉴얼 어디 있어?\n"
     ]
    },
    {
     "name": "stderr",
     "output_type": "stream",
     "text": [
      " 91%|█████████ | 268/296 [36:11<03:39,  7.85s/it]"
     ]
    },
    {
     "name": "stdout",
     "output_type": "stream",
     "text": [
      "간단하게 할 수 있는 취미가 뭐가 있을까?\n"
     ]
    },
    {
     "name": "stderr",
     "output_type": "stream",
     "text": [
      " 91%|█████████ | 269/296 [36:14<02:52,  6.39s/it]"
     ]
    },
    {
     "name": "stdout",
     "output_type": "stream",
     "text": [
      "여름에 어울리는 시원한 음료 추천해줘.\n",
      "프론트엔드팀에서 여름철 사내 복지나 팀원 사기 진작을 위해 진행했던 이벤트나 프로그램이 문서화되어 있다면, 구체적인 사례를 알려줄 수 있어?\n"
     ]
    },
    {
     "name": "stderr",
     "output_type": "stream",
     "text": [
      " 91%|█████████ | 270/296 [36:22<02:58,  6.88s/it]"
     ]
    },
    {
     "name": "stdout",
     "output_type": "stream",
     "text": [
      "마음이 편안해지는 방법이 있을까?\n",
      "프론트엔드팀 온보딩 문서 있어?\n",
      "온보딩 가이드에서 언급된 '팀의 프로세스나 도구에 대한 개선 사항 제안'은 실제로 어떤 방식으로 수집되고 반영되는지 구체적으로 설명해 줄 수 있어?\n",
      "오늘 저녁 메뉴 하나 정해줘.\n"
     ]
    },
    {
     "name": "stderr",
     "output_type": "stream",
     "text": [
      " 92%|█████████▏| 271/296 [36:40<04:21, 10.45s/it]"
     ]
    },
    {
     "name": "stdout",
     "output_type": "stream",
     "text": [
      "오늘 날씨가 좋은데, 어떤 기분이 드는지 궁금해!\n",
      "오늘 저녁에 듣기 좋은 음악 장르 하나 추천해줘.\n"
     ]
    },
    {
     "name": "stderr",
     "output_type": "stream",
     "text": [
      " 92%|█████████▏| 272/296 [36:46<03:35,  8.97s/it]"
     ]
    },
    {
     "name": "stdout",
     "output_type": "stream",
     "text": [
      "요즘 가장 인기 있는 영화가 뭐인지 알고 있어?\n",
      "프론트엔드팀 회의록 어디서 볼 수 있어?\n"
     ]
    },
    {
     "name": "stderr",
     "output_type": "stream",
     "text": [
      " 92%|█████████▏| 273/296 [36:52<03:04,  8.00s/it]"
     ]
    },
    {
     "name": "stdout",
     "output_type": "stream",
     "text": [
      "내가 한번 읽어볼 만한 좋은 책 추천해줄래?\n",
      "오늘 저녁에 간단하게 먹을 수 있는 음식 하나 추천해줘.\n",
      "프론트엔드팀에서 참고할 만한 사내 기술 문서나 가이드가 있다면 추천해줄 수 있어?\n"
     ]
    },
    {
     "name": "stderr",
     "output_type": "stream",
     "text": [
      " 93%|█████████▎| 274/296 [37:04<03:26,  9.37s/it]"
     ]
    },
    {
     "name": "stdout",
     "output_type": "stream",
     "text": [
      "이 음악 어떤 느낌인지 한번 들어보고 싶어!\n"
     ]
    },
    {
     "name": "stderr",
     "output_type": "stream",
     "text": [
      " 93%|█████████▎| 275/296 [37:06<02:29,  7.11s/it]"
     ]
    },
    {
     "name": "stdout",
     "output_type": "stream",
     "text": [
      "여행 가기 좋은 곳이 어디인지 알려줄 수 있어?\n"
     ]
    },
    {
     "name": "stderr",
     "output_type": "stream",
     "text": [
      " 93%|█████████▎| 276/296 [37:08<01:52,  5.62s/it]"
     ]
    },
    {
     "name": "stdout",
     "output_type": "stream",
     "text": [
      "최근에 유행하는 패션 아이템이 뭐인지 궁금해!\n"
     ]
    },
    {
     "name": "stderr",
     "output_type": "stream",
     "text": [
      " 94%|█████████▎| 277/296 [37:10<01:26,  4.56s/it]"
     ]
    },
    {
     "name": "stdout",
     "output_type": "stream",
     "text": [
      "지금 듣고 있는 노래의 분위기가 어때?\n"
     ]
    },
    {
     "name": "stderr",
     "output_type": "stream",
     "text": [
      " 94%|█████████▍| 278/296 [37:12<01:09,  3.85s/it]"
     ]
    },
    {
     "name": "stdout",
     "output_type": "stream",
     "text": [
      "좋은 카페가 있으면 추천해줄 수 있어?\n"
     ]
    },
    {
     "name": "stderr",
     "output_type": "stream",
     "text": [
      " 94%|█████████▍| 279/296 [37:15<00:58,  3.46s/it]"
     ]
    },
    {
     "name": "stdout",
     "output_type": "stream",
     "text": [
      "요즘 핫한 레스토랑은 어디인지 알고 있어?\n",
      "오늘 저녁에 간단하게 먹을 수 있는 음식 하나 추천해줘.\n",
      "프론트엔드팀에서 최근에 적용된 코드 리뷰 프로세스나 가이드라인이 있다면 구체적으로 알려줄 수 있어?\n"
     ]
    },
    {
     "name": "stderr",
     "output_type": "stream",
     "text": [
      " 95%|█████████▍| 280/296 [37:27<01:35,  5.94s/it]"
     ]
    },
    {
     "name": "stdout",
     "output_type": "stream",
     "text": [
      "요즘 인기 있는 게임 좀 알려줄래?\n"
     ]
    },
    {
     "name": "stderr",
     "output_type": "stream",
     "text": [
      " 95%|█████████▍| 281/296 [37:29<01:12,  4.84s/it]"
     ]
    },
    {
     "name": "stdout",
     "output_type": "stream",
     "text": [
      "내가 할 만한 취미 활동이 뭐가 있을까?\n"
     ]
    },
    {
     "name": "stderr",
     "output_type": "stream",
     "text": [
      " 95%|█████████▌| 282/296 [37:32<01:00,  4.30s/it]"
     ]
    },
    {
     "name": "stdout",
     "output_type": "stream",
     "text": [
      "최근에 재밌게 본 유튜브 채널이 뭐야?\n"
     ]
    },
    {
     "name": "stderr",
     "output_type": "stream",
     "text": [
      " 96%|█████████▌| 283/296 [37:34<00:47,  3.63s/it]"
     ]
    },
    {
     "name": "stdout",
     "output_type": "stream",
     "text": [
      "요즘 뜨고 있는 TV 프로그램이 있다면 뭐지?\n",
      "프론트엔드팀 문서 목록 보여줘\n"
     ]
    },
    {
     "name": "stderr",
     "output_type": "stream",
     "text": [
      " 96%|█████████▌| 284/296 [37:42<00:57,  4.76s/it]"
     ]
    },
    {
     "name": "stdout",
     "output_type": "stream",
     "text": [
      "다양한 커피 종류 중 어떤 게 맛있을까?\n",
      "오늘 저녁 메뉴 하나 정해줘.\n",
      "프론트엔드팀에서 사용하는 코드 스타일 가이드나 컨벤션 문서가 있다면, 주요 내용이나 지켜야 할 규칙을 알려줄 수 있어?\n",
      "오늘 퇴근 후에 간단하게 할 수 있는 스트레칭 동작 하나 알려줘.\n"
     ]
    },
    {
     "name": "stderr",
     "output_type": "stream",
     "text": [
      " 96%|█████████▋| 285/296 [37:58<01:31,  8.32s/it]"
     ]
    },
    {
     "name": "stdout",
     "output_type": "stream",
     "text": [
      "네가 추천하는 간식은 뭐야?\n",
      "오늘 저녁에 간단하게 만들 수 있는 요리 하나 추천해줘.\n"
     ]
    },
    {
     "name": "stderr",
     "output_type": "stream",
     "text": [
      " 97%|█████████▋| 286/296 [38:02<01:11,  7.10s/it]"
     ]
    },
    {
     "name": "stdout",
     "output_type": "stream",
     "text": [
      "최근에 본 전시회 중에서 추천할 만한 게 있을까?\n"
     ]
    },
    {
     "name": "stderr",
     "output_type": "stream",
     "text": [
      " 97%|█████████▋| 287/296 [38:05<00:51,  5.67s/it]"
     ]
    },
    {
     "name": "stdout",
     "output_type": "stream",
     "text": [
      "자주 가는 운동이 있으면 알려줄 수 있어?\n",
      "프론트엔드팀 협업 툴 문서 있어?\n"
     ]
    },
    {
     "name": "stderr",
     "output_type": "stream",
     "text": [
      " 97%|█████████▋| 288/296 [38:11<00:47,  5.94s/it]"
     ]
    },
    {
     "name": "stdout",
     "output_type": "stream",
     "text": [
      "유명한 디저트 카페가 있다면 추천해줘!\n",
      "프론트엔드팀 회의록 어디서 볼 수 있어?\n"
     ]
    },
    {
     "name": "stderr",
     "output_type": "stream",
     "text": [
      " 98%|█████████▊| 289/296 [38:19<00:44,  6.35s/it]"
     ]
    },
    {
     "name": "stdout",
     "output_type": "stream",
     "text": [
      "좋은 음악 추천해주면 듣고 싶어!\n"
     ]
    },
    {
     "name": "stderr",
     "output_type": "stream",
     "text": [
      " 98%|█████████▊| 290/296 [38:21<00:30,  5.09s/it]"
     ]
    },
    {
     "name": "stdout",
     "output_type": "stream",
     "text": [
      "주말에 할 만한 재미있는 활동이 있을까?\n",
      "오늘 저녁 메뉴 하나 정해줘.\n"
     ]
    },
    {
     "name": "stderr",
     "output_type": "stream",
     "text": [
      " 98%|█████████▊| 291/296 [38:26<00:25,  5.05s/it]"
     ]
    },
    {
     "name": "stdout",
     "output_type": "stream",
     "text": [
      "요즘 보고 싶은 애니메이션이 있다면 뭐지?\n"
     ]
    },
    {
     "name": "stderr",
     "output_type": "stream",
     "text": [
      " 99%|█████████▊| 292/296 [38:28<00:16,  4.17s/it]"
     ]
    },
    {
     "name": "stdout",
     "output_type": "stream",
     "text": [
      "감명 깊었던 다큐멘터리 추천해줄 수 있어?\n"
     ]
    },
    {
     "name": "stderr",
     "output_type": "stream",
     "text": [
      " 99%|█████████▉| 293/296 [38:30<00:10,  3.64s/it]"
     ]
    },
    {
     "name": "stdout",
     "output_type": "stream",
     "text": [
      "혼자서 볼 수 있는 시리즈가 있다면 뭐가 좋을까?\n"
     ]
    },
    {
     "name": "stderr",
     "output_type": "stream",
     "text": [
      " 99%|█████████▉| 294/296 [38:32<00:06,  3.20s/it]"
     ]
    },
    {
     "name": "stdout",
     "output_type": "stream",
     "text": [
      "최근에 유행하는 패션 스타일이 있다면 알려줘!\n",
      "오늘 저녁에 간단하게 할 수 있는 운동 하나 추천해줘.\n",
      "오늘 저녁에 간단하게 만들 수 있는 요리 하나 추천해줘.\n"
     ]
    },
    {
     "name": "stderr",
     "output_type": "stream",
     "text": [
      "100%|█████████▉| 295/296 [38:41<00:04,  4.71s/it]"
     ]
    },
    {
     "name": "stdout",
     "output_type": "stream",
     "text": [
      "가볍게 할 수 있는 게임 중에서 추천할 만한 게 있을까?\n"
     ]
    },
    {
     "name": "stderr",
     "output_type": "stream",
     "text": [
      "100%|██████████| 296/296 [38:44<00:00,  7.85s/it]\n"
     ]
    }
   ],
   "execution_count": 17
  },
  {
   "metadata": {},
   "cell_type": "code",
   "outputs": [],
   "execution_count": null,
   "source": "",
   "id": "cfa24860e6438ca3"
  }
 ],
 "metadata": {
  "kernelspec": {
   "display_name": "ai_basic_env",
   "language": "python",
   "name": "python3"
  },
  "language_info": {
   "codemirror_mode": {
    "name": "ipython",
    "version": 3
   },
   "file_extension": ".py",
   "mimetype": "text/x-python",
   "name": "python",
   "nbconvert_exporter": "python",
   "pygments_lexer": "ipython3",
   "version": "3.12.9"
  }
 },
 "nbformat": 4,
 "nbformat_minor": 5
}
